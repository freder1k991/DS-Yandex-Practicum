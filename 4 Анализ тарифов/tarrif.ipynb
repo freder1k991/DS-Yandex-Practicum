{
 "cells": [
  {
   "cell_type": "markdown",
   "metadata": {},
   "source": [
    "# Рекомендация тарифов"
   ]
  },
  {
   "cell_type": "markdown",
   "metadata": {},
   "source": [
    "В вашем распоряжении данные о поведении клиентов, которые уже перешли на эти тарифы (из проекта курса «Статистический анализ данных»). Нужно построить модель для задачи классификации, которая выберет подходящий тариф. Предобработка данных не понадобится — вы её уже сделали.\n",
    "\n",
    "Постройте модель с максимально большим значением *accuracy*. Чтобы сдать проект успешно, нужно довести долю правильных ответов по крайней мере до 0.75. Проверьте *accuracy* на тестовой выборке самостоятельно."
   ]
  },
  {
   "cell_type": "markdown",
   "metadata": {},
   "source": [
    "## Откройте и изучите файл"
   ]
  },
  {
   "cell_type": "code",
   "execution_count": 1,
   "metadata": {},
   "outputs": [],
   "source": [
    "import pandas as pd\n",
    "\n",
    "from sklearn.model_selection import train_test_split \n",
    "from sklearn.tree import DecisionTreeClassifier\n",
    "from sklearn.metrics import accuracy_score\n",
    "from sklearn.linear_model import LogisticRegression\n",
    "from sklearn.ensemble import RandomForestClassifier"
   ]
  },
  {
   "cell_type": "code",
   "execution_count": 2,
   "metadata": {},
   "outputs": [],
   "source": [
    "df = pd.read_csv('/datasets/users_behavior.csv')"
   ]
  },
  {
   "cell_type": "code",
   "execution_count": 3,
   "metadata": {},
   "outputs": [
    {
     "data": {
      "text/html": [
       "<div>\n",
       "<style scoped>\n",
       "    .dataframe tbody tr th:only-of-type {\n",
       "        vertical-align: middle;\n",
       "    }\n",
       "\n",
       "    .dataframe tbody tr th {\n",
       "        vertical-align: top;\n",
       "    }\n",
       "\n",
       "    .dataframe thead th {\n",
       "        text-align: right;\n",
       "    }\n",
       "</style>\n",
       "<table border=\"1\" class=\"dataframe\">\n",
       "  <thead>\n",
       "    <tr style=\"text-align: right;\">\n",
       "      <th></th>\n",
       "      <th>calls</th>\n",
       "      <th>minutes</th>\n",
       "      <th>messages</th>\n",
       "      <th>mb_used</th>\n",
       "      <th>is_ultra</th>\n",
       "    </tr>\n",
       "  </thead>\n",
       "  <tbody>\n",
       "    <tr>\n",
       "      <th>0</th>\n",
       "      <td>40.0</td>\n",
       "      <td>311.90</td>\n",
       "      <td>83.0</td>\n",
       "      <td>19915.42</td>\n",
       "      <td>0</td>\n",
       "    </tr>\n",
       "    <tr>\n",
       "      <th>1</th>\n",
       "      <td>85.0</td>\n",
       "      <td>516.75</td>\n",
       "      <td>56.0</td>\n",
       "      <td>22696.96</td>\n",
       "      <td>0</td>\n",
       "    </tr>\n",
       "    <tr>\n",
       "      <th>2</th>\n",
       "      <td>77.0</td>\n",
       "      <td>467.66</td>\n",
       "      <td>86.0</td>\n",
       "      <td>21060.45</td>\n",
       "      <td>0</td>\n",
       "    </tr>\n",
       "    <tr>\n",
       "      <th>3</th>\n",
       "      <td>106.0</td>\n",
       "      <td>745.53</td>\n",
       "      <td>81.0</td>\n",
       "      <td>8437.39</td>\n",
       "      <td>1</td>\n",
       "    </tr>\n",
       "    <tr>\n",
       "      <th>4</th>\n",
       "      <td>66.0</td>\n",
       "      <td>418.74</td>\n",
       "      <td>1.0</td>\n",
       "      <td>14502.75</td>\n",
       "      <td>0</td>\n",
       "    </tr>\n",
       "  </tbody>\n",
       "</table>\n",
       "</div>"
      ],
      "text/plain": [
       "   calls  minutes  messages   mb_used  is_ultra\n",
       "0   40.0   311.90      83.0  19915.42         0\n",
       "1   85.0   516.75      56.0  22696.96         0\n",
       "2   77.0   467.66      86.0  21060.45         0\n",
       "3  106.0   745.53      81.0   8437.39         1\n",
       "4   66.0   418.74       1.0  14502.75         0"
      ]
     },
     "execution_count": 3,
     "metadata": {},
     "output_type": "execute_result"
    }
   ],
   "source": [
    "df.head()"
   ]
  },
  {
   "cell_type": "markdown",
   "metadata": {},
   "source": [
    "Ссылаясь на документацию, cтолбцы обозначают: \n",
    "\n",
    "* `сalls` — количество звонков;\n",
    "* `minutes` — суммарная длительность звонков в минутах;\n",
    "* `messages` — количество sms-сообщений;\n",
    "* `mb_used` — израсходованный интернет-трафик в Мб;\n",
    "* `is_ultra` — каким тарифом пользовался в течение месяца («Ультра» — 1, «Смарт» — 0)."
   ]
  },
  {
   "cell_type": "code",
   "execution_count": 4,
   "metadata": {},
   "outputs": [
    {
     "name": "stdout",
     "output_type": "stream",
     "text": [
      "<class 'pandas.core.frame.DataFrame'>\n",
      "RangeIndex: 3214 entries, 0 to 3213\n",
      "Data columns (total 5 columns):\n",
      " #   Column    Non-Null Count  Dtype  \n",
      "---  ------    --------------  -----  \n",
      " 0   calls     3214 non-null   float64\n",
      " 1   minutes   3214 non-null   float64\n",
      " 2   messages  3214 non-null   float64\n",
      " 3   mb_used   3214 non-null   float64\n",
      " 4   is_ultra  3214 non-null   int64  \n",
      "dtypes: float64(4), int64(1)\n",
      "memory usage: 125.7 KB\n"
     ]
    }
   ],
   "source": [
    "df.info()"
   ]
  },
  {
   "cell_type": "markdown",
   "metadata": {},
   "source": [
    "*Заключение:* Итак при первой выгрузки данных, мы провели предварительный анализ данных, проверили данные на наличие пропусков (*из применяемых методов видно что пропусков нет*). Данные полностью устраивают и подходят для анализа. Теперь можно приступать собственно к построению моделей и ответам на вопросы проекта."
   ]
  },
  {
   "cell_type": "markdown",
   "metadata": {},
   "source": [
    "## Разбейте данные на выборки"
   ]
  },
  {
   "cell_type": "markdown",
   "metadata": {},
   "source": [
    "Предварительно разделим таблицу на те данные на которых она будет обучатся модель и какое должна сделать предсказание."
   ]
  },
  {
   "cell_type": "code",
   "execution_count": 5,
   "metadata": {},
   "outputs": [],
   "source": [
    "features = df.drop('is_ultra', axis=1)\n",
    "target = df['is_ultra']"
   ]
  },
  {
   "cell_type": "markdown",
   "metadata": {},
   "source": [
    "Разделение на обучающую и тестовые выборки:\n",
    "\n",
    "Данный разделены в соотношении:\n",
    "\n",
    " - обучающая 60%\n",
    " - валидационная 20%\n",
    "- тестовая 20%"
   ]
  },
  {
   "cell_type": "code",
   "execution_count": 7,
   "metadata": {},
   "outputs": [],
   "source": [
    "featur_trein, featur_val, target_trein, target_val = train_test_split(features, target, test_size=0.25, random_state=42)"
   ]
  },
  {
   "cell_type": "code",
   "execution_count": 8,
   "metadata": {},
   "outputs": [],
   "source": [
    "featur_val, featur_test, target_val, target_test = train_test_split(featur_val, target_val, test_size=0.5, random_state=42)"
   ]
  },
  {
   "cell_type": "code",
   "execution_count": 9,
   "metadata": {},
   "outputs": [
    {
     "data": {
      "text/plain": [
       "(2410, 402, 402)"
      ]
     },
     "execution_count": 9,
     "metadata": {},
     "output_type": "execute_result"
    }
   ],
   "source": [
    "len(featur_trein), len(featur_val), len(featur_test)"
   ]
  },
  {
   "cell_type": "markdown",
   "metadata": {},
   "source": [
    "Проверяем верно ли мы произвели \"разделение\" данных"
   ]
  },
  {
   "cell_type": "markdown",
   "metadata": {},
   "source": [
    "**Вывод:** `train_test_split` помог создать одну большую и две не большие равные выборки. На основной группе будет происходить обучение, а на других тесты. Тестовые группы одинокого размера и с хаотичными данными. "
   ]
  },
  {
   "cell_type": "markdown",
   "metadata": {},
   "source": [
    "## Исследуйте модели"
   ]
  },
  {
   "cell_type": "markdown",
   "metadata": {},
   "source": [
    "### модель Дерево Решений."
   ]
  },
  {
   "cell_type": "code",
   "execution_count": 11,
   "metadata": {},
   "outputs": [
    {
     "data": {
      "text/plain": [
       "(0.8208955223880597,\n",
       " 4,\n",
       " DecisionTreeClassifier(max_depth=4, max_leaf_nodes=11, random_state=42))"
      ]
     },
     "execution_count": 11,
     "metadata": {},
     "output_type": "execute_result"
    }
   ],
   "source": [
    "perfekt_accuracy = 0\n",
    "depth = 0\n",
    "best_model_tree = None\n",
    "\n",
    "for i in range(1, 11):\n",
    "    \n",
    "    for x in (2, 11):\n",
    "        model_tree = DecisionTreeClassifier(max_depth=i, max_leaf_nodes=x, random_state=42) #выбор алгоритма\n",
    "        model_tree.fit(featur_trein, target_trein) #обучение\n",
    "        predictions_tree = model_tree.predict(featur_val)#проверка на валидационной выборке\n",
    "        score = accuracy_score(target_val, predictions_tree)\n",
    "\n",
    "        if score > perfekt_accuracy: #отбор лучшего варианта\n",
    "            perfekt_accuracy=score\n",
    "            depth = i \n",
    "            best_model_tree = model_tree\n",
    "\n",
    "perfekt_accuracy, depth, best_model_tree"
   ]
  },
  {
   "cell_type": "markdown",
   "metadata": {},
   "source": [
    "для данной модели были выбраны 2 гиперпараметра. `max_depth` отвечает за размер дерева. `random_state` - помогает закрепить модель, для постоянства результата.\n",
    "в данной модели происходит перебор деревьев и сохранение лучших параметров. "
   ]
  },
  {
   "cell_type": "markdown",
   "metadata": {},
   "source": [
    "### модель Логическая регрессия "
   ]
  },
  {
   "cell_type": "code",
   "execution_count": 13,
   "metadata": {},
   "outputs": [
    {
     "data": {
      "text/plain": [
       "0.7039800995024875"
      ]
     },
     "execution_count": 13,
     "metadata": {},
     "output_type": "execute_result"
    }
   ],
   "source": [
    "modell = LogisticRegression(random_state=42, solver='lbfgs', max_iter=500)\n",
    "modell.fit(featur_trein, target_trein)\n",
    "modell.predict(featur_val)\n",
    "accuracy_logistic = modell.score(featur_val, target_val) \n",
    "accuracy_logistic"
   ]
  },
  {
   "cell_type": "markdown",
   "metadata": {},
   "source": [
    "Для данной модели был указан гиперпараметр `solver` позволяет выбрать алгоритм, который будет строить модель. Алгоритм `lbfgs` — один из самых распространённых для нашей модели он тоже подходит. `max_iter` - указывается количество итераций для обучения модели. \n",
    "\n",
    "Данная точность не подходит для нашей модели. "
   ]
  },
  {
   "cell_type": "markdown",
   "metadata": {},
   "source": [
    "### модель Случайный лес"
   ]
  },
  {
   "cell_type": "code",
   "execution_count": 14,
   "metadata": {},
   "outputs": [
    {
     "data": {
      "text/plain": [
       "(0.8407960199004975,\n",
       " RandomForestClassifier(n_estimators=10, random_state=42),\n",
       " 10)"
      ]
     },
     "execution_count": 14,
     "metadata": {},
     "output_type": "execute_result"
    }
   ],
   "source": [
    "best_model = None\n",
    "best_result = 0\n",
    "i = 0\n",
    "\n",
    "for i in range(1, 11):\n",
    "\n",
    "    model = RandomForestClassifier(random_state=42, n_estimators=i)\n",
    "    model.fit(featur_trein, target_trein)\n",
    "    result = model.score(featur_val, target_val)\n",
    "\n",
    "    if result > best_result:\n",
    "        best_model = model # сохраните наилучшую модель\n",
    "        best_result = result\n",
    "        i = i\n",
    "\n",
    "best_result, best_model, i"
   ]
  },
  {
   "cell_type": "markdown",
   "metadata": {},
   "source": [
    "Гиперпараметр `n_estimators` указывается количество деревьев."
   ]
  },
  {
   "cell_type": "markdown",
   "metadata": {},
   "source": [
    "**Вывод:** у созданных моделей самый вывсокий результат `accuracy` показал Случайный лес 84% точность. Но нужно данную модель подвергнуть тестовой проверке, чтобы удостовериться насколько она хорошо способна делать предсказания.\n",
    "\n",
    "Хуже всего справилась модель Логической регресси 70%. "
   ]
  },
  {
   "cell_type": "markdown",
   "metadata": {},
   "source": [
    "## Проверьте модель на тестовой выборке"
   ]
  },
  {
   "cell_type": "markdown",
   "metadata": {},
   "source": [
    "### Проверка модели Дерево Решений на тестовых данных"
   ]
  },
  {
   "cell_type": "code",
   "execution_count": 15,
   "metadata": {},
   "outputs": [
    {
     "name": "stdout",
     "output_type": "stream",
     "text": [
      "Случайный Лес прошел проверку с долей правильных овттеов 0.8208955223880597, при размере дерева 4. \n",
      "Данный результат подходит нам, т.к. данная точность модели выше 0.75, проверяем \n",
      "полученную модель на тестовых данных.\n"
     ]
    }
   ],
   "source": [
    "print (f'Случайный Лес прошел проверку с долей правильных овттеов {perfekt_accuracy}, при размере дерева {depth}. \\n' \n",
    "       f'Данный результат подходит нам, т.к. данная точность модели выше 0.75, проверяем \\nполученную модель на тестовых данных.')"
   ]
  },
  {
   "cell_type": "code",
   "execution_count": 16,
   "metadata": {},
   "outputs": [
    {
     "data": {
      "text/plain": [
       "0.7935323383084577"
      ]
     },
     "execution_count": 16,
     "metadata": {},
     "output_type": "execute_result"
    }
   ],
   "source": [
    "predictions_test = model_tree.predict(featur_test)#проверка на тестовой выборке\n",
    "accuracy_score(target_test, predictions_test)"
   ]
  },
  {
   "cell_type": "markdown",
   "metadata": {},
   "source": [
    "### Проверка модели Логической регресси на тестовых данных"
   ]
  },
  {
   "cell_type": "code",
   "execution_count": 17,
   "metadata": {},
   "outputs": [
    {
     "name": "stdout",
     "output_type": "stream",
     "text": [
      "Логическая регрессия прошела проверку с долей правильных овттеов 0.7039800995024875 \n",
      "Данный результат не соответствеует результатам заданной модели\n"
     ]
    }
   ],
   "source": [
    "print (f'Логическая регрессия прошела проверку с долей правильных овттеов {accuracy_logistic} \\n'\n",
    "      'Данный результат не соответствеует результатам заданной модели')"
   ]
  },
  {
   "cell_type": "code",
   "execution_count": 18,
   "metadata": {},
   "outputs": [
    {
     "data": {
      "text/plain": [
       "0.7189054726368159"
      ]
     },
     "execution_count": 18,
     "metadata": {},
     "output_type": "execute_result"
    }
   ],
   "source": [
    "modell.predict(featur_test)\n",
    "modell.score(featur_test, target_test)"
   ]
  },
  {
   "cell_type": "markdown",
   "metadata": {},
   "source": [
    "не целесообразно проверять данную модель, но ради эксперимента стоит оставить"
   ]
  },
  {
   "cell_type": "markdown",
   "metadata": {},
   "source": [
    "### Проверка модели Случайный Лес на тестовых данных"
   ]
  },
  {
   "cell_type": "code",
   "execution_count": 19,
   "metadata": {},
   "outputs": [
    {
     "name": "stdout",
     "output_type": "stream",
     "text": [
      "Случайный Лес прошел проверку с долей правильных овттеов 0.8407960199004975 c количеством деревьев 10\n",
      " Данный результат подходит нам, т.к. данная точность модели выше 0.75, проверяем \n",
      "полученную модель на тестовых данных.\n"
     ]
    }
   ],
   "source": [
    "print (f'Случайный Лес прошел проверку с долей правильных овттеов {best_result} c количеством деревьев {i}\\n', \n",
    "      f'Данный результат подходит нам, т.к. данная точность модели выше 0.75, проверяем \\nполученную модель на тестовых данных.')"
   ]
  },
  {
   "cell_type": "code",
   "execution_count": 20,
   "metadata": {},
   "outputs": [
    {
     "data": {
      "text/plain": [
       "0.7910447761194029"
      ]
     },
     "execution_count": 20,
     "metadata": {},
     "output_type": "execute_result"
    }
   ],
   "source": [
    "best_model.score(featur_test, target_test)"
   ]
  },
  {
   "cell_type": "markdown",
   "metadata": {},
   "source": [
    "**Вывод:** На тестовых данных лучший результат показал случайный лес. Данная проверка необходима, потому что созданная модель может показывать шикарные результаты на валидационной выборке, а на деле будет угадывать, данный нонсенс происходит в результате переобучения модели. \n",
    "\n",
    "После проверки качества нашей лучшей модели на тестовых данных и поняли что можем запустить её в промышленную эксплуатацию!"
   ]
  },
  {
   "cell_type": "markdown",
   "metadata": {},
   "source": [
    "## (бонус) Проверьте модели на адекватность"
   ]
  },
  {
   "cell_type": "markdown",
   "metadata": {},
   "source": [
    "Вариант - сравнить самый часто встречающийся класс в наших данных (это is_ultra == 0). Таких значений 2.229 в нашем датафрейме. Всего же значений в датафрейме 3.214. Значит самый часто встречающийся класс \"занимает\" 69% (2229 / 3214 == 0.693528313627878). Вот мы и получили контрольные данные для сравнительной оценки, построенной нами \"лучшей\" модели. Наша лучшая модель должна \"побить\" этот скор."
   ]
  },
  {
   "cell_type": "code",
   "execution_count": 35,
   "metadata": {},
   "outputs": [
    {
     "data": {
      "text/html": [
       "<div>\n",
       "<style scoped>\n",
       "    .dataframe tbody tr th:only-of-type {\n",
       "        vertical-align: middle;\n",
       "    }\n",
       "\n",
       "    .dataframe tbody tr th {\n",
       "        vertical-align: top;\n",
       "    }\n",
       "\n",
       "    .dataframe thead th {\n",
       "        text-align: right;\n",
       "    }\n",
       "</style>\n",
       "<table border=\"1\" class=\"dataframe\">\n",
       "  <thead>\n",
       "    <tr style=\"text-align: right;\">\n",
       "      <th></th>\n",
       "      <th>count</th>\n",
       "    </tr>\n",
       "    <tr>\n",
       "      <th>is_ultra</th>\n",
       "      <th></th>\n",
       "    </tr>\n",
       "  </thead>\n",
       "  <tbody>\n",
       "    <tr>\n",
       "      <th>0</th>\n",
       "      <td>2229</td>\n",
       "    </tr>\n",
       "    <tr>\n",
       "      <th>1</th>\n",
       "      <td>985</td>\n",
       "    </tr>\n",
       "  </tbody>\n",
       "</table>\n",
       "</div>"
      ],
      "text/plain": [
       "          count\n",
       "is_ultra       \n",
       "0          2229\n",
       "1           985"
      ]
     },
     "execution_count": 35,
     "metadata": {},
     "output_type": "execute_result"
    }
   ],
   "source": [
    "df.groupby('is_ultra').agg(['count'])['calls']"
   ]
  },
  {
   "cell_type": "code",
   "execution_count": 37,
   "metadata": {},
   "outputs": [
    {
     "data": {
      "text/plain": [
       "0.693528313627878"
      ]
     },
     "execution_count": 37,
     "metadata": {},
     "output_type": "execute_result"
    }
   ],
   "source": [
    "2229/3214"
   ]
  },
  {
   "cell_type": "markdown",
   "metadata": {},
   "source": [
    "p.s. (дополнительно, на перспективу!): можно было бы построить Confusion Matrix, чтобы детально посмотреть где ошибается модель."
   ]
  },
  {
   "cell_type": "markdown",
   "metadata": {},
   "source": [
    "# **Вывод:** \n",
    "В данной работе предварительно проанализированы данные таблицы. После чего стало понятно какие столбцы отнести к обучающей модели, а какие какой столбец нужно предсказать на основе полученных данных. Затем таблицу разделили на выборки. \n",
    "В работе проверились данные на разных моделях: Случайный лес, Дерево Решений, Логическая регрессия. \n",
    "\n",
    "Модель обучалась по следящим шагам: Определение необходимые гиперпараметры, обучение обученной модели скармливаем валидационную выборку и оцениваем результат, проверяем созданную модель на тестовых данных. Путем перебора и изменения параметров лучшая модель была выявлена – RandomForestClassifier (79%) точность оказалась самой высокой. \n"
   ]
  },
  {
   "cell_type": "markdown",
   "metadata": {},
   "source": [
    "## Чек-лист готовности проекта"
   ]
  },
  {
   "cell_type": "markdown",
   "metadata": {},
   "source": [
    "- [x] Jupyter Notebook открыт\n",
    "- [x] Весь код исполняется без ошибок\n",
    "- [x] Ячейки с кодом расположены в порядке исполнения\n",
    "- [x] Выполнено задание 1: данные загружены и изучены\n",
    "- [x] Выполнено задание 2: данные разбиты на три выборки\n",
    "- [x] Выполнено задание 3: проведено исследование моделей\n",
    "    - [x] Рассмотрено больше одной модели\n",
    "    - [x] Рассмотрено хотя бы 3 значения гипепараметров для какой-нибудь модели\n",
    "    - [x] Написаны выводы по результатам исследования\n",
    "- [x] Выполнено задание 3: Проведено тестирование\n",
    "- [x] Удалось достичь accuracy не меньше 0.75\n"
   ]
  }
 ],
 "metadata": {
  "ExecuteTimeLog": [
   {
    "duration": 397,
    "start_time": "2023-04-27T23:29:40.643Z"
   },
   {
    "duration": 136,
    "start_time": "2023-04-27T23:30:02.905Z"
   },
   {
    "duration": 29,
    "start_time": "2023-04-27T23:30:14.034Z"
   },
   {
    "duration": 29,
    "start_time": "2023-04-27T23:30:19.496Z"
   },
   {
    "duration": 29,
    "start_time": "2023-04-27T23:30:25.063Z"
   },
   {
    "duration": 10,
    "start_time": "2023-04-27T23:30:47.126Z"
   },
   {
    "duration": 11,
    "start_time": "2023-04-27T23:31:05.973Z"
   },
   {
    "duration": 57,
    "start_time": "2023-04-27T23:31:25.995Z"
   },
   {
    "duration": 6,
    "start_time": "2023-04-27T23:31:47.366Z"
   },
   {
    "duration": 52,
    "start_time": "2023-04-27T23:32:16.148Z"
   },
   {
    "duration": 7,
    "start_time": "2023-04-27T23:32:21.346Z"
   },
   {
    "duration": 9,
    "start_time": "2023-04-27T23:32:27.195Z"
   },
   {
    "duration": 9,
    "start_time": "2023-04-27T23:32:50.852Z"
   },
   {
    "duration": 9,
    "start_time": "2023-04-27T23:32:56.065Z"
   },
   {
    "duration": 7,
    "start_time": "2023-04-27T23:33:20.899Z"
   },
   {
    "duration": 9,
    "start_time": "2023-04-27T23:33:27.311Z"
   },
   {
    "duration": 9,
    "start_time": "2023-04-27T23:33:33.934Z"
   },
   {
    "duration": 12,
    "start_time": "2023-04-27T23:34:32.930Z"
   },
   {
    "duration": 11,
    "start_time": "2023-04-27T23:34:51.516Z"
   },
   {
    "duration": 48,
    "start_time": "2023-05-01T19:33:51.284Z"
   },
   {
    "duration": 426,
    "start_time": "2023-05-01T19:33:56.081Z"
   },
   {
    "duration": 59,
    "start_time": "2023-05-01T19:33:56.509Z"
   },
   {
    "duration": 16,
    "start_time": "2023-05-01T19:33:56.709Z"
   },
   {
    "duration": 12,
    "start_time": "2023-05-01T19:33:58.348Z"
   },
   {
    "duration": 14,
    "start_time": "2023-05-01T20:50:19.450Z"
   },
   {
    "duration": 4,
    "start_time": "2023-05-01T20:51:42.130Z"
   },
   {
    "duration": 5,
    "start_time": "2023-05-01T20:51:54.763Z"
   },
   {
    "duration": 5,
    "start_time": "2023-05-01T20:52:03.331Z"
   },
   {
    "duration": 11,
    "start_time": "2023-05-01T20:52:12.036Z"
   },
   {
    "duration": 3,
    "start_time": "2023-05-01T20:52:54.537Z"
   },
   {
    "duration": 4,
    "start_time": "2023-05-01T20:53:00.712Z"
   },
   {
    "duration": 697,
    "start_time": "2023-05-01T20:55:35.203Z"
   },
   {
    "duration": 6,
    "start_time": "2023-05-01T21:00:53.532Z"
   },
   {
    "duration": 13,
    "start_time": "2023-05-01T21:26:20.720Z"
   },
   {
    "duration": 72,
    "start_time": "2023-05-01T21:35:31.344Z"
   },
   {
    "duration": 11,
    "start_time": "2023-05-01T21:35:41.517Z"
   },
   {
    "duration": 40,
    "start_time": "2023-05-01T21:35:51.423Z"
   },
   {
    "duration": 5,
    "start_time": "2023-05-01T21:36:35.921Z"
   },
   {
    "duration": 15,
    "start_time": "2023-05-01T21:37:23.265Z"
   },
   {
    "duration": 11,
    "start_time": "2023-05-01T21:37:37.833Z"
   },
   {
    "duration": 3,
    "start_time": "2023-05-01T21:37:44.256Z"
   },
   {
    "duration": 11,
    "start_time": "2023-05-01T21:41:07.680Z"
   },
   {
    "duration": 8,
    "start_time": "2023-05-01T21:42:34.424Z"
   },
   {
    "duration": 2,
    "start_time": "2023-05-01T21:43:50.416Z"
   },
   {
    "duration": 4,
    "start_time": "2023-05-01T21:56:27.130Z"
   },
   {
    "duration": 10,
    "start_time": "2023-05-01T21:56:48.022Z"
   },
   {
    "duration": 3,
    "start_time": "2023-05-01T21:57:04.278Z"
   },
   {
    "duration": 5,
    "start_time": "2023-05-01T21:57:04.926Z"
   },
   {
    "duration": 12,
    "start_time": "2023-05-01T21:57:30.196Z"
   },
   {
    "duration": 2,
    "start_time": "2023-05-01T21:57:30.867Z"
   },
   {
    "duration": 4,
    "start_time": "2023-05-01T21:57:31.332Z"
   },
   {
    "duration": 8,
    "start_time": "2023-05-01T21:57:38.837Z"
   },
   {
    "duration": 3,
    "start_time": "2023-05-01T21:57:39.536Z"
   },
   {
    "duration": 5,
    "start_time": "2023-05-01T21:57:40.024Z"
   },
   {
    "duration": 10,
    "start_time": "2023-05-01T21:57:44.247Z"
   },
   {
    "duration": 3,
    "start_time": "2023-05-01T21:57:44.849Z"
   },
   {
    "duration": 5,
    "start_time": "2023-05-01T21:57:45.228Z"
   },
   {
    "duration": 13,
    "start_time": "2023-05-01T21:57:50.016Z"
   },
   {
    "duration": 2,
    "start_time": "2023-05-01T21:57:51.047Z"
   },
   {
    "duration": 6,
    "start_time": "2023-05-01T21:57:51.422Z"
   },
   {
    "duration": 16,
    "start_time": "2023-05-01T21:57:55.691Z"
   },
   {
    "duration": 3,
    "start_time": "2023-05-01T21:57:56.319Z"
   },
   {
    "duration": 4,
    "start_time": "2023-05-01T21:57:56.746Z"
   },
   {
    "duration": 12,
    "start_time": "2023-05-01T21:58:00.928Z"
   },
   {
    "duration": 2,
    "start_time": "2023-05-01T21:58:01.433Z"
   },
   {
    "duration": 7,
    "start_time": "2023-05-01T21:58:01.928Z"
   },
   {
    "duration": 15,
    "start_time": "2023-05-01T21:58:06.133Z"
   },
   {
    "duration": 3,
    "start_time": "2023-05-01T21:58:06.621Z"
   },
   {
    "duration": 5,
    "start_time": "2023-05-01T21:58:07.031Z"
   },
   {
    "duration": 14,
    "start_time": "2023-05-01T21:58:13.176Z"
   },
   {
    "duration": 3,
    "start_time": "2023-05-01T21:58:13.737Z"
   },
   {
    "duration": 5,
    "start_time": "2023-05-01T21:58:14.126Z"
   },
   {
    "duration": 13,
    "start_time": "2023-05-01T21:58:19.259Z"
   },
   {
    "duration": 5,
    "start_time": "2023-05-01T21:58:19.692Z"
   },
   {
    "duration": 5,
    "start_time": "2023-05-01T21:58:20.132Z"
   },
   {
    "duration": 54,
    "start_time": "2023-05-01T22:03:59.356Z"
   },
   {
    "duration": 57,
    "start_time": "2023-05-01T22:04:38.816Z"
   },
   {
    "duration": 5,
    "start_time": "2023-05-01T22:08:12.732Z"
   },
   {
    "duration": 50,
    "start_time": "2023-05-01T22:08:13.329Z"
   },
   {
    "duration": 5,
    "start_time": "2023-05-01T22:10:37.140Z"
   },
   {
    "duration": 113,
    "start_time": "2023-05-01T22:10:54.886Z"
   },
   {
    "duration": 4,
    "start_time": "2023-05-01T22:10:59.483Z"
   },
   {
    "duration": 105,
    "start_time": "2023-05-01T22:11:22.518Z"
   },
   {
    "duration": 107,
    "start_time": "2023-05-01T22:11:35.545Z"
   },
   {
    "duration": 4,
    "start_time": "2023-05-01T22:11:57.934Z"
   },
   {
    "duration": 6,
    "start_time": "2023-05-01T22:12:22.689Z"
   },
   {
    "duration": 6,
    "start_time": "2023-05-01T22:12:32.421Z"
   },
   {
    "duration": 4,
    "start_time": "2023-05-01T22:12:37.354Z"
   },
   {
    "duration": 76,
    "start_time": "2023-05-01T22:12:51.715Z"
   },
   {
    "duration": 9,
    "start_time": "2023-05-01T22:13:01.825Z"
   },
   {
    "duration": 14,
    "start_time": "2023-05-01T22:13:10.589Z"
   },
   {
    "duration": 89,
    "start_time": "2023-05-01T22:13:18.769Z"
   },
   {
    "duration": 96,
    "start_time": "2023-05-01T22:13:26.639Z"
   },
   {
    "duration": 3,
    "start_time": "2023-05-01T22:13:35.778Z"
   },
   {
    "duration": 3,
    "start_time": "2023-05-01T22:13:40.877Z"
   },
   {
    "duration": 101,
    "start_time": "2023-05-01T22:13:56.936Z"
   },
   {
    "duration": 6,
    "start_time": "2023-05-01T22:14:15.732Z"
   },
   {
    "duration": 6,
    "start_time": "2023-05-01T22:14:52.731Z"
   },
   {
    "duration": 108,
    "start_time": "2023-05-01T22:15:58.245Z"
   },
   {
    "duration": 7,
    "start_time": "2023-05-01T22:16:20.214Z"
   },
   {
    "duration": 6,
    "start_time": "2023-05-01T22:16:37.918Z"
   },
   {
    "duration": 105,
    "start_time": "2023-05-01T22:16:50.313Z"
   },
   {
    "duration": 12,
    "start_time": "2023-05-01T22:17:04.420Z"
   },
   {
    "duration": 111,
    "start_time": "2023-05-01T22:17:11.331Z"
   },
   {
    "duration": 115,
    "start_time": "2023-05-01T22:17:16.837Z"
   },
   {
    "duration": 124,
    "start_time": "2023-05-01T22:17:46.532Z"
   },
   {
    "duration": 3,
    "start_time": "2023-05-01T22:18:29.934Z"
   },
   {
    "duration": 12,
    "start_time": "2023-05-01T22:18:36.617Z"
   },
   {
    "duration": 3,
    "start_time": "2023-05-01T22:18:49.363Z"
   },
   {
    "duration": 10,
    "start_time": "2023-05-01T22:20:16.151Z"
   },
   {
    "duration": 97,
    "start_time": "2023-05-01T22:20:25.542Z"
   },
   {
    "duration": 74,
    "start_time": "2023-05-01T22:20:31.316Z"
   },
   {
    "duration": 3,
    "start_time": "2023-05-01T22:20:37.646Z"
   },
   {
    "duration": 4,
    "start_time": "2023-05-01T22:20:45.959Z"
   },
   {
    "duration": 3,
    "start_time": "2023-05-01T22:20:51.383Z"
   },
   {
    "duration": 3,
    "start_time": "2023-05-01T22:21:19.375Z"
   },
   {
    "duration": 4,
    "start_time": "2023-05-01T22:22:41.583Z"
   },
   {
    "duration": 3,
    "start_time": "2023-05-01T22:30:27.947Z"
   },
   {
    "duration": 55,
    "start_time": "2023-05-01T22:30:28.223Z"
   },
   {
    "duration": 2,
    "start_time": "2023-05-01T22:30:28.923Z"
   },
   {
    "duration": 3,
    "start_time": "2023-05-01T22:30:52.659Z"
   },
   {
    "duration": 9,
    "start_time": "2023-05-01T22:38:09.718Z"
   },
   {
    "duration": 103,
    "start_time": "2023-05-01T22:38:26.509Z"
   },
   {
    "duration": 350,
    "start_time": "2023-05-01T22:39:14.052Z"
   },
   {
    "duration": 202,
    "start_time": "2023-05-01T22:39:47.493Z"
   },
   {
    "duration": 49,
    "start_time": "2023-05-01T22:40:01.358Z"
   },
   {
    "duration": 260,
    "start_time": "2023-05-01T22:40:24.459Z"
   },
   {
    "duration": 76,
    "start_time": "2023-05-01T22:40:33.229Z"
   },
   {
    "duration": 353,
    "start_time": "2023-05-01T22:40:56.348Z"
   },
   {
    "duration": 26,
    "start_time": "2023-05-01T22:40:56.703Z"
   },
   {
    "duration": 16,
    "start_time": "2023-05-01T22:40:56.731Z"
   },
   {
    "duration": 10,
    "start_time": "2023-05-01T22:40:56.748Z"
   },
   {
    "duration": 4,
    "start_time": "2023-05-01T22:40:56.760Z"
   },
   {
    "duration": 712,
    "start_time": "2023-05-01T22:40:56.766Z"
   },
   {
    "duration": 5,
    "start_time": "2023-05-01T22:40:57.479Z"
   },
   {
    "duration": 41,
    "start_time": "2023-05-01T22:40:57.486Z"
   },
   {
    "duration": 48,
    "start_time": "2023-05-01T22:40:57.529Z"
   },
   {
    "duration": 2,
    "start_time": "2023-05-01T22:40:57.579Z"
   },
   {
    "duration": 2,
    "start_time": "2023-05-01T22:40:59.178Z"
   },
   {
    "duration": 189,
    "start_time": "2023-05-01T22:40:59.909Z"
   },
   {
    "duration": 828,
    "start_time": "2023-05-01T22:41:31.093Z"
   },
   {
    "duration": 494,
    "start_time": "2023-05-01T22:41:51.291Z"
   },
   {
    "duration": 372,
    "start_time": "2023-05-01T22:41:58.734Z"
   },
   {
    "duration": 794,
    "start_time": "2023-05-01T22:44:15.011Z"
   },
   {
    "duration": 561,
    "start_time": "2023-05-01T23:14:16.253Z"
   },
   {
    "duration": 292,
    "start_time": "2023-05-01T23:14:26.624Z"
   },
   {
    "duration": 533,
    "start_time": "2023-05-01T23:14:31.965Z"
   },
   {
    "duration": 387,
    "start_time": "2023-05-02T22:48:34.157Z"
   },
   {
    "duration": 130,
    "start_time": "2023-05-02T22:48:34.546Z"
   },
   {
    "duration": 19,
    "start_time": "2023-05-02T22:48:34.678Z"
   },
   {
    "duration": 32,
    "start_time": "2023-05-02T22:48:34.699Z"
   },
   {
    "duration": 22,
    "start_time": "2023-05-02T22:48:34.734Z"
   },
   {
    "duration": 728,
    "start_time": "2023-05-02T22:48:34.758Z"
   },
   {
    "duration": 7,
    "start_time": "2023-05-02T22:48:35.488Z"
   },
   {
    "duration": 25,
    "start_time": "2023-05-02T22:48:35.497Z"
   },
   {
    "duration": 5,
    "start_time": "2023-05-02T22:48:37.149Z"
   },
   {
    "duration": 5,
    "start_time": "2023-05-02T22:48:38.408Z"
   },
   {
    "duration": 5,
    "start_time": "2023-05-02T22:49:10.363Z"
   },
   {
    "duration": 38,
    "start_time": "2023-05-02T22:49:37.189Z"
   },
   {
    "duration": 106,
    "start_time": "2023-05-02T22:49:38.315Z"
   },
   {
    "duration": 46,
    "start_time": "2023-05-02T22:50:45.576Z"
   },
   {
    "duration": 54,
    "start_time": "2023-05-02T22:50:50.169Z"
   },
   {
    "duration": 3,
    "start_time": "2023-05-02T22:50:54.870Z"
   },
   {
    "duration": 167,
    "start_time": "2023-05-02T22:50:55.279Z"
   },
   {
    "duration": 158,
    "start_time": "2023-05-02T22:51:06.980Z"
   },
   {
    "duration": 223,
    "start_time": "2023-05-02T22:51:17.822Z"
   },
   {
    "duration": 2,
    "start_time": "2023-05-02T22:52:29.223Z"
   },
   {
    "duration": 4,
    "start_time": "2023-05-02T22:53:19.306Z"
   },
   {
    "duration": 2,
    "start_time": "2023-05-02T22:54:00.910Z"
   },
   {
    "duration": 3,
    "start_time": "2023-05-02T22:54:19.570Z"
   },
   {
    "duration": 4,
    "start_time": "2023-05-02T22:54:24.535Z"
   },
   {
    "duration": 3,
    "start_time": "2023-05-02T22:54:41.324Z"
   },
   {
    "duration": 3,
    "start_time": "2023-05-02T22:54:50.805Z"
   },
   {
    "duration": 2,
    "start_time": "2023-05-02T23:57:17.193Z"
   },
   {
    "duration": 49,
    "start_time": "2023-05-02T23:58:44.846Z"
   },
   {
    "duration": 520,
    "start_time": "2023-05-03T00:01:08.977Z"
   },
   {
    "duration": 51,
    "start_time": "2023-05-03T00:01:31.773Z"
   },
   {
    "duration": 9,
    "start_time": "2023-05-03T00:02:07.256Z"
   },
   {
    "duration": 136,
    "start_time": "2023-05-03T00:02:15.403Z"
   },
   {
    "duration": 6,
    "start_time": "2023-05-03T00:04:45.063Z"
   },
   {
    "duration": 9,
    "start_time": "2023-05-03T00:04:51.555Z"
   },
   {
    "duration": 157,
    "start_time": "2023-05-03T00:05:32.711Z"
   },
   {
    "duration": 50,
    "start_time": "2023-05-03T00:06:07.236Z"
   },
   {
    "duration": 3,
    "start_time": "2023-05-03T00:06:08.044Z"
   },
   {
    "duration": 507,
    "start_time": "2023-05-03T00:06:08.341Z"
   },
   {
    "duration": 4,
    "start_time": "2023-05-03T00:06:10.122Z"
   },
   {
    "duration": 7,
    "start_time": "2023-05-03T00:06:23.642Z"
   },
   {
    "duration": 8,
    "start_time": "2023-05-03T00:07:56.771Z"
   },
   {
    "duration": 350,
    "start_time": "2023-05-03T00:08:36.080Z"
   },
   {
    "duration": 30,
    "start_time": "2023-05-03T00:08:36.432Z"
   },
   {
    "duration": 16,
    "start_time": "2023-05-03T00:08:36.463Z"
   },
   {
    "duration": 12,
    "start_time": "2023-05-03T00:08:36.481Z"
   },
   {
    "duration": 11,
    "start_time": "2023-05-03T00:08:36.495Z"
   },
   {
    "duration": 669,
    "start_time": "2023-05-03T00:08:36.507Z"
   },
   {
    "duration": 6,
    "start_time": "2023-05-03T00:08:37.178Z"
   },
   {
    "duration": 9,
    "start_time": "2023-05-03T00:08:37.185Z"
   },
   {
    "duration": 16,
    "start_time": "2023-05-03T00:08:37.196Z"
   },
   {
    "duration": 42,
    "start_time": "2023-05-03T00:08:37.214Z"
   },
   {
    "duration": 47,
    "start_time": "2023-05-03T00:08:37.258Z"
   },
   {
    "duration": 3,
    "start_time": "2023-05-03T00:08:37.307Z"
   },
   {
    "duration": 233,
    "start_time": "2023-05-03T00:08:37.311Z"
   },
   {
    "duration": 8,
    "start_time": "2023-05-03T00:08:37.636Z"
   },
   {
    "duration": 93,
    "start_time": "2023-05-03T00:08:37.647Z"
   },
   {
    "duration": 37,
    "start_time": "2023-05-03T00:08:37.741Z"
   },
   {
    "duration": 391,
    "start_time": "2023-05-03T00:12:52.459Z"
   },
   {
    "duration": 30,
    "start_time": "2023-05-03T00:12:52.851Z"
   },
   {
    "duration": 16,
    "start_time": "2023-05-03T00:12:52.883Z"
   },
   {
    "duration": 12,
    "start_time": "2023-05-03T00:12:52.900Z"
   },
   {
    "duration": 6,
    "start_time": "2023-05-03T00:12:52.914Z"
   },
   {
    "duration": 684,
    "start_time": "2023-05-03T00:12:52.921Z"
   },
   {
    "duration": 5,
    "start_time": "2023-05-03T00:12:53.607Z"
   },
   {
    "duration": 6,
    "start_time": "2023-05-03T00:12:53.614Z"
   },
   {
    "duration": 7,
    "start_time": "2023-05-03T00:12:53.622Z"
   },
   {
    "duration": 39,
    "start_time": "2023-05-03T00:12:53.630Z"
   },
   {
    "duration": 46,
    "start_time": "2023-05-03T00:12:53.671Z"
   },
   {
    "duration": 2,
    "start_time": "2023-05-03T00:12:53.718Z"
   },
   {
    "duration": 7,
    "start_time": "2023-05-03T00:12:53.722Z"
   },
   {
    "duration": 4,
    "start_time": "2023-05-03T00:12:57.116Z"
   },
   {
    "duration": 6,
    "start_time": "2023-05-03T00:13:03.561Z"
   },
   {
    "duration": 4,
    "start_time": "2023-05-03T00:14:31.010Z"
   },
   {
    "duration": 421,
    "start_time": "2023-05-03T09:38:00.894Z"
   },
   {
    "duration": 61,
    "start_time": "2023-05-03T09:38:01.318Z"
   },
   {
    "duration": 28,
    "start_time": "2023-05-03T09:38:01.381Z"
   },
   {
    "duration": 38,
    "start_time": "2023-05-03T09:38:01.412Z"
   },
   {
    "duration": 30,
    "start_time": "2023-05-03T09:38:01.454Z"
   },
   {
    "duration": 846,
    "start_time": "2023-05-03T09:38:01.486Z"
   },
   {
    "duration": 7,
    "start_time": "2023-05-03T09:38:02.334Z"
   },
   {
    "duration": 27,
    "start_time": "2023-05-03T09:38:02.343Z"
   },
   {
    "duration": 58,
    "start_time": "2023-05-03T09:38:02.372Z"
   },
   {
    "duration": 87,
    "start_time": "2023-05-03T09:38:02.432Z"
   },
   {
    "duration": 60,
    "start_time": "2023-05-03T09:38:02.522Z"
   },
   {
    "duration": 15,
    "start_time": "2023-05-03T09:38:02.584Z"
   },
   {
    "duration": 294,
    "start_time": "2023-05-03T09:38:02.606Z"
   },
   {
    "duration": 9,
    "start_time": "2023-05-03T09:38:02.902Z"
   },
   {
    "duration": 104,
    "start_time": "2023-05-03T09:38:02.915Z"
   },
   {
    "duration": 31,
    "start_time": "2023-05-03T09:38:03.021Z"
   },
   {
    "duration": 500,
    "start_time": "2023-05-03T09:54:39.920Z"
   },
   {
    "duration": 620,
    "start_time": "2023-05-03T09:54:59.448Z"
   },
   {
    "duration": 467,
    "start_time": "2023-05-03T09:55:20.633Z"
   },
   {
    "duration": 8,
    "start_time": "2023-05-03T09:55:54.028Z"
   },
   {
    "duration": 4,
    "start_time": "2023-05-03T09:59:53.287Z"
   },
   {
    "duration": 369,
    "start_time": "2023-05-03T10:25:19.559Z"
   },
   {
    "duration": 352,
    "start_time": "2023-05-03T10:25:31.395Z"
   },
   {
    "duration": 380,
    "start_time": "2023-05-03T10:29:18.519Z"
   },
   {
    "duration": 374,
    "start_time": "2023-05-03T10:29:31.601Z"
   },
   {
    "duration": 364,
    "start_time": "2023-05-03T10:29:50.119Z"
   },
   {
    "duration": 110,
    "start_time": "2023-05-03T10:30:16.381Z"
   },
   {
    "duration": 14,
    "start_time": "2023-05-03T10:37:03.226Z"
   },
   {
    "duration": 4,
    "start_time": "2023-05-03T10:44:36.242Z"
   },
   {
    "duration": 10,
    "start_time": "2023-05-03T10:45:56.141Z"
   },
   {
    "duration": 3,
    "start_time": "2023-05-03T11:00:23.844Z"
   },
   {
    "duration": 166,
    "start_time": "2023-05-03T11:22:54.752Z"
   },
   {
    "duration": 102,
    "start_time": "2023-05-03T11:23:05.328Z"
   },
   {
    "duration": 195,
    "start_time": "2023-05-03T11:23:12.217Z"
   },
   {
    "duration": 399,
    "start_time": "2023-05-03T11:23:17.118Z"
   },
   {
    "duration": 1535,
    "start_time": "2023-05-03T11:23:40.145Z"
   },
   {
    "duration": 117,
    "start_time": "2023-05-03T11:23:46.201Z"
   },
   {
    "duration": 1200,
    "start_time": "2023-05-03T11:39:57.916Z"
   },
   {
    "duration": 1278,
    "start_time": "2023-05-03T11:40:22.053Z"
   },
   {
    "duration": 5004,
    "start_time": "2023-05-03T11:40:29.915Z"
   },
   {
    "duration": 381,
    "start_time": "2023-05-03T11:40:45.746Z"
   },
   {
    "duration": 231,
    "start_time": "2023-05-03T12:34:18.056Z"
   },
   {
    "duration": 599,
    "start_time": "2023-05-03T12:36:26.192Z"
   },
   {
    "duration": 61,
    "start_time": "2023-05-03T12:36:26.794Z"
   },
   {
    "duration": 51,
    "start_time": "2023-05-03T12:36:26.857Z"
   },
   {
    "duration": 20,
    "start_time": "2023-05-03T12:36:26.910Z"
   },
   {
    "duration": 6,
    "start_time": "2023-05-03T12:36:26.932Z"
   },
   {
    "duration": 1329,
    "start_time": "2023-05-03T12:36:26.940Z"
   },
   {
    "duration": 8,
    "start_time": "2023-05-03T12:36:28.271Z"
   },
   {
    "duration": 47,
    "start_time": "2023-05-03T12:36:28.280Z"
   },
   {
    "duration": 10,
    "start_time": "2023-05-03T12:36:28.329Z"
   },
   {
    "duration": 109,
    "start_time": "2023-05-03T12:36:28.342Z"
   },
   {
    "duration": 176,
    "start_time": "2023-05-03T12:36:28.453Z"
   },
   {
    "duration": 11,
    "start_time": "2023-05-03T12:36:28.630Z"
   },
   {
    "duration": 1058,
    "start_time": "2023-05-03T12:36:28.643Z"
   },
   {
    "duration": 0,
    "start_time": "2023-05-03T12:36:29.703Z"
   },
   {
    "duration": 0,
    "start_time": "2023-05-03T12:36:29.705Z"
   },
   {
    "duration": 0,
    "start_time": "2023-05-03T12:36:29.706Z"
   },
   {
    "duration": 0,
    "start_time": "2023-05-03T12:36:29.708Z"
   },
   {
    "duration": 0,
    "start_time": "2023-05-03T12:36:29.709Z"
   },
   {
    "duration": 0,
    "start_time": "2023-05-03T12:36:29.711Z"
   },
   {
    "duration": 0,
    "start_time": "2023-05-03T12:36:29.712Z"
   },
   {
    "duration": 343,
    "start_time": "2023-05-03T12:36:48.797Z"
   },
   {
    "duration": 658,
    "start_time": "2023-05-03T12:37:02.097Z"
   },
   {
    "duration": 52,
    "start_time": "2023-05-03T12:37:02.766Z"
   },
   {
    "duration": 34,
    "start_time": "2023-05-03T12:37:02.825Z"
   },
   {
    "duration": 20,
    "start_time": "2023-05-03T12:37:02.867Z"
   },
   {
    "duration": 11,
    "start_time": "2023-05-03T12:37:02.889Z"
   },
   {
    "duration": 976,
    "start_time": "2023-05-03T12:37:02.904Z"
   },
   {
    "duration": 7,
    "start_time": "2023-05-03T12:37:03.882Z"
   },
   {
    "duration": 24,
    "start_time": "2023-05-03T12:37:03.891Z"
   },
   {
    "duration": 20,
    "start_time": "2023-05-03T12:37:03.917Z"
   },
   {
    "duration": 78,
    "start_time": "2023-05-03T12:37:03.940Z"
   },
   {
    "duration": 115,
    "start_time": "2023-05-03T12:37:04.023Z"
   },
   {
    "duration": 3,
    "start_time": "2023-05-03T12:37:04.140Z"
   },
   {
    "duration": 738,
    "start_time": "2023-05-03T12:37:04.145Z"
   },
   {
    "duration": 589,
    "start_time": "2023-05-03T12:37:04.891Z"
   },
   {
    "duration": 3,
    "start_time": "2023-05-03T12:37:05.486Z"
   },
   {
    "duration": 27,
    "start_time": "2023-05-03T12:37:05.490Z"
   },
   {
    "duration": 12,
    "start_time": "2023-05-03T12:37:05.520Z"
   },
   {
    "duration": 41,
    "start_time": "2023-05-03T12:37:05.534Z"
   },
   {
    "duration": 13,
    "start_time": "2023-05-03T12:37:05.577Z"
   },
   {
    "duration": 34,
    "start_time": "2023-05-03T12:37:05.592Z"
   },
   {
    "duration": 371,
    "start_time": "2023-05-03T15:06:40.654Z"
   },
   {
    "duration": 25,
    "start_time": "2023-05-03T15:06:41.027Z"
   },
   {
    "duration": 17,
    "start_time": "2023-05-03T15:06:41.053Z"
   },
   {
    "duration": 14,
    "start_time": "2023-05-03T15:06:41.071Z"
   },
   {
    "duration": 5,
    "start_time": "2023-05-03T15:06:41.086Z"
   },
   {
    "duration": 703,
    "start_time": "2023-05-03T15:06:41.092Z"
   },
   {
    "duration": 7,
    "start_time": "2023-05-03T15:06:41.797Z"
   },
   {
    "duration": 5,
    "start_time": "2023-05-03T15:06:41.806Z"
   },
   {
    "duration": 5,
    "start_time": "2023-05-03T15:06:41.813Z"
   },
   {
    "duration": 52,
    "start_time": "2023-05-03T15:06:41.820Z"
   },
   {
    "duration": 106,
    "start_time": "2023-05-03T15:06:41.874Z"
   },
   {
    "duration": 12,
    "start_time": "2023-05-03T15:06:41.981Z"
   },
   {
    "duration": 199,
    "start_time": "2023-05-03T15:06:41.995Z"
   },
   {
    "duration": 421,
    "start_time": "2023-05-03T15:06:42.198Z"
   },
   {
    "duration": 4,
    "start_time": "2023-05-03T15:06:42.621Z"
   },
   {
    "duration": 11,
    "start_time": "2023-05-03T15:06:42.627Z"
   },
   {
    "duration": 4,
    "start_time": "2023-05-03T15:06:42.640Z"
   },
   {
    "duration": 10,
    "start_time": "2023-05-03T15:06:42.645Z"
   },
   {
    "duration": 5,
    "start_time": "2023-05-03T15:06:42.657Z"
   },
   {
    "duration": 35,
    "start_time": "2023-05-03T15:06:42.664Z"
   },
   {
    "duration": 10,
    "start_time": "2023-05-03T15:06:47.354Z"
   },
   {
    "duration": 615,
    "start_time": "2023-05-03T15:29:13.869Z"
   },
   {
    "duration": 118,
    "start_time": "2023-05-03T15:29:14.486Z"
   },
   {
    "duration": 14,
    "start_time": "2023-05-03T15:29:14.606Z"
   },
   {
    "duration": 52,
    "start_time": "2023-05-03T15:29:14.622Z"
   },
   {
    "duration": 8,
    "start_time": "2023-05-03T15:29:14.677Z"
   },
   {
    "duration": 2218,
    "start_time": "2023-05-03T15:29:14.686Z"
   },
   {
    "duration": 5,
    "start_time": "2023-05-03T15:29:16.905Z"
   },
   {
    "duration": 7,
    "start_time": "2023-05-03T15:29:16.911Z"
   },
   {
    "duration": 4,
    "start_time": "2023-05-03T15:29:16.972Z"
   },
   {
    "duration": 41,
    "start_time": "2023-05-03T15:29:16.977Z"
   },
   {
    "duration": 180,
    "start_time": "2023-05-03T15:29:17.020Z"
   },
   {
    "duration": 2,
    "start_time": "2023-05-03T15:29:17.202Z"
   },
   {
    "duration": 474,
    "start_time": "2023-05-03T15:29:17.206Z"
   },
   {
    "duration": 695,
    "start_time": "2023-05-03T15:29:17.682Z"
   },
   {
    "duration": 3,
    "start_time": "2023-05-03T15:29:18.379Z"
   },
   {
    "duration": 11,
    "start_time": "2023-05-03T15:29:18.384Z"
   },
   {
    "duration": 19,
    "start_time": "2023-05-03T15:29:18.396Z"
   },
   {
    "duration": 59,
    "start_time": "2023-05-03T15:29:18.416Z"
   },
   {
    "duration": 9,
    "start_time": "2023-05-03T15:29:18.476Z"
   },
   {
    "duration": 10,
    "start_time": "2023-05-03T15:29:18.486Z"
   },
   {
    "duration": 57,
    "start_time": "2023-05-04T18:10:30.988Z"
   },
   {
    "duration": 8,
    "start_time": "2023-05-04T18:10:51.207Z"
   },
   {
    "duration": 8,
    "start_time": "2023-05-04T18:11:59.721Z"
   },
   {
    "duration": 1254,
    "start_time": "2023-05-04T18:12:18.699Z"
   },
   {
    "duration": 161,
    "start_time": "2023-05-04T18:12:19.955Z"
   },
   {
    "duration": 17,
    "start_time": "2023-05-04T18:12:20.117Z"
   },
   {
    "duration": 11,
    "start_time": "2023-05-04T18:12:20.136Z"
   },
   {
    "duration": 7,
    "start_time": "2023-05-04T18:12:20.150Z"
   },
   {
    "duration": 7,
    "start_time": "2023-05-04T18:12:20.159Z"
   },
   {
    "duration": 6,
    "start_time": "2023-05-04T18:12:20.167Z"
   },
   {
    "duration": 7,
    "start_time": "2023-05-04T18:12:20.175Z"
   },
   {
    "duration": 7,
    "start_time": "2023-05-04T18:12:20.183Z"
   },
   {
    "duration": 6,
    "start_time": "2023-05-04T18:12:20.191Z"
   },
   {
    "duration": 3,
    "start_time": "2023-05-04T18:12:23.649Z"
   },
   {
    "duration": 149,
    "start_time": "2023-05-04T18:12:25.673Z"
   },
   {
    "duration": 117,
    "start_time": "2023-05-04T18:13:28.534Z"
   },
   {
    "duration": 141,
    "start_time": "2023-05-04T18:13:50.189Z"
   },
   {
    "duration": 140,
    "start_time": "2023-05-04T18:14:37.006Z"
   },
   {
    "duration": 120,
    "start_time": "2023-05-04T18:14:48.743Z"
   },
   {
    "duration": 125,
    "start_time": "2023-05-04T18:14:51.866Z"
   },
   {
    "duration": 137,
    "start_time": "2023-05-04T18:15:01.139Z"
   },
   {
    "duration": 125,
    "start_time": "2023-05-04T18:15:09.341Z"
   },
   {
    "duration": 133,
    "start_time": "2023-05-04T18:15:16.444Z"
   },
   {
    "duration": 147,
    "start_time": "2023-05-04T18:16:06.545Z"
   },
   {
    "duration": 354,
    "start_time": "2023-05-04T19:11:35.719Z"
   },
   {
    "duration": 1135,
    "start_time": "2023-05-04T19:11:45.677Z"
   },
   {
    "duration": 30,
    "start_time": "2023-05-04T19:11:46.813Z"
   },
   {
    "duration": 17,
    "start_time": "2023-05-04T19:11:46.844Z"
   },
   {
    "duration": 13,
    "start_time": "2023-05-04T19:11:46.863Z"
   },
   {
    "duration": 14,
    "start_time": "2023-05-04T19:11:46.878Z"
   },
   {
    "duration": 6,
    "start_time": "2023-05-04T19:11:46.893Z"
   },
   {
    "duration": 18,
    "start_time": "2023-05-04T19:11:46.900Z"
   },
   {
    "duration": 14,
    "start_time": "2023-05-04T19:11:46.920Z"
   },
   {
    "duration": 19,
    "start_time": "2023-05-04T19:11:46.936Z"
   },
   {
    "duration": 10,
    "start_time": "2023-05-04T19:11:46.956Z"
   },
   {
    "duration": 2,
    "start_time": "2023-05-04T19:11:50.832Z"
   },
   {
    "duration": 352,
    "start_time": "2023-05-04T19:11:51.969Z"
   },
   {
    "duration": 360,
    "start_time": "2023-05-04T19:29:17.871Z"
   },
   {
    "duration": 592,
    "start_time": "2023-05-04T19:29:36.557Z"
   },
   {
    "duration": 109,
    "start_time": "2023-05-04T19:29:56.931Z"
   },
   {
    "duration": 117,
    "start_time": "2023-05-04T19:54:42.928Z"
   },
   {
    "duration": 4,
    "start_time": "2023-05-04T20:21:46.044Z"
   },
   {
    "duration": 8,
    "start_time": "2023-05-04T20:21:46.593Z"
   },
   {
    "duration": 98,
    "start_time": "2023-05-04T20:21:54.404Z"
   },
   {
    "duration": 9,
    "start_time": "2023-05-04T20:21:54.756Z"
   },
   {
    "duration": 1133,
    "start_time": "2023-05-04T20:22:03.652Z"
   },
   {
    "duration": 28,
    "start_time": "2023-05-04T20:22:04.787Z"
   },
   {
    "duration": 27,
    "start_time": "2023-05-04T20:22:04.817Z"
   },
   {
    "duration": 46,
    "start_time": "2023-05-04T20:22:04.847Z"
   },
   {
    "duration": 43,
    "start_time": "2023-05-04T20:22:04.894Z"
   },
   {
    "duration": 48,
    "start_time": "2023-05-04T20:22:04.940Z"
   },
   {
    "duration": 44,
    "start_time": "2023-05-04T20:22:04.990Z"
   },
   {
    "duration": 21,
    "start_time": "2023-05-04T20:22:05.036Z"
   },
   {
    "duration": 47,
    "start_time": "2023-05-04T20:22:05.059Z"
   },
   {
    "duration": 26,
    "start_time": "2023-05-04T20:22:05.109Z"
   },
   {
    "duration": 146,
    "start_time": "2023-05-04T20:22:05.137Z"
   },
   {
    "duration": 2,
    "start_time": "2023-05-04T20:22:05.285Z"
   },
   {
    "duration": 208,
    "start_time": "2023-05-04T20:22:05.289Z"
   },
   {
    "duration": 411,
    "start_time": "2023-05-04T20:22:05.587Z"
   },
   {
    "duration": 4,
    "start_time": "2023-05-04T20:22:06.000Z"
   },
   {
    "duration": 46,
    "start_time": "2023-05-04T20:22:06.006Z"
   },
   {
    "duration": 24,
    "start_time": "2023-05-04T20:22:06.054Z"
   },
   {
    "duration": 33,
    "start_time": "2023-05-04T20:22:06.080Z"
   },
   {
    "duration": 45,
    "start_time": "2023-05-04T20:22:06.115Z"
   },
   {
    "duration": 40,
    "start_time": "2023-05-04T20:22:06.162Z"
   },
   {
    "duration": 5,
    "start_time": "2023-05-04T20:24:10.961Z"
   },
   {
    "duration": 103,
    "start_time": "2023-05-04T20:24:57.490Z"
   },
   {
    "duration": 12,
    "start_time": "2023-05-04T20:25:10.005Z"
   },
   {
    "duration": 12,
    "start_time": "2023-05-04T20:25:15.372Z"
   },
   {
    "duration": 11,
    "start_time": "2023-05-04T20:25:20.373Z"
   },
   {
    "duration": 11,
    "start_time": "2023-05-04T20:25:23.969Z"
   },
   {
    "duration": 11,
    "start_time": "2023-05-04T20:25:50.872Z"
   },
   {
    "duration": 19,
    "start_time": "2023-05-04T20:26:07.291Z"
   },
   {
    "duration": 19,
    "start_time": "2023-05-04T20:26:20.349Z"
   },
   {
    "duration": 16,
    "start_time": "2023-05-04T20:26:39.447Z"
   },
   {
    "duration": 20,
    "start_time": "2023-05-04T20:27:04.260Z"
   },
   {
    "duration": 18,
    "start_time": "2023-05-04T20:29:29.734Z"
   },
   {
    "duration": 15,
    "start_time": "2023-05-04T20:30:01.161Z"
   },
   {
    "duration": 18,
    "start_time": "2023-05-04T20:30:09.711Z"
   },
   {
    "duration": 16,
    "start_time": "2023-05-04T20:30:20.698Z"
   },
   {
    "duration": 3,
    "start_time": "2023-05-04T20:31:16.420Z"
   },
   {
    "duration": 4,
    "start_time": "2023-05-04T20:31:27.381Z"
   }
  ],
  "kernelspec": {
   "display_name": "Python 3 (ipykernel)",
   "language": "python",
   "name": "python3"
  },
  "language_info": {
   "codemirror_mode": {
    "name": "ipython",
    "version": 3
   },
   "file_extension": ".py",
   "mimetype": "text/x-python",
   "name": "python",
   "nbconvert_exporter": "python",
   "pygments_lexer": "ipython3",
   "version": "3.9.5"
  },
  "toc": {
   "base_numbering": 1,
   "nav_menu": {},
   "number_sections": true,
   "sideBar": true,
   "skip_h1_title": true,
   "title_cell": "Table of Contents",
   "title_sidebar": "Contents",
   "toc_cell": false,
   "toc_position": {
    "height": "calc(100% - 180px)",
    "left": "10px",
    "top": "150px",
    "width": "165px"
   },
   "toc_section_display": true,
   "toc_window_display": false
  }
 },
 "nbformat": 4,
 "nbformat_minor": 2
}
