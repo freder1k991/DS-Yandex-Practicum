{
 "cells": [
  {
   "cell_type": "markdown",
   "metadata": {},
   "source": [
    "# Проект анализ продаж игр\n",
    "\n",
    "Описание проекта\n",
    "\n",
    "Из открытых источников доступны исторические данные о продажах игр, оценки пользователей и экспертов, жанры и платформы. Нужно выявить определяющие успешность игры закономерности. Это позволит сделать ставку на потенциально популярный продукт и спланировать рекламные кампании.\n",
    "\n",
    "**Цель:** необходимо составить прогноз продаж на бедующий год. \n",
    "\n",
    "**Задачи:** обработать и подготовить данные к исследованию; исследовать и выявить предпочтение пользователей, проверить гипотезы.\n",
    "\n",
    "Перед нами данные до 2016 год, и мы планируем рекламную кампанию на 2017-й. Нужно отработать принцип работы с данными. В результате проделанной работы необходимо определить предпочтение пользователей и на основании них выстраивать рекламную компанию продуктов."
   ]
  },
  {
   "cell_type": "code",
   "execution_count": 1,
   "metadata": {},
   "outputs": [],
   "source": [
    "import pandas as pd\n",
    "import matplotlib.pyplot as plt\n",
    "import seaborn as sns\n",
    "from scipy import stats as st"
   ]
  },
  {
   "cell_type": "markdown",
   "metadata": {},
   "source": [
    "## Шаг. Открытие файла"
   ]
  },
  {
   "cell_type": "code",
   "execution_count": 2,
   "metadata": {},
   "outputs": [],
   "source": [
    "df = pd.read_csv('/datasets/games.csv')"
   ]
  },
  {
   "cell_type": "code",
   "execution_count": 3,
   "metadata": {},
   "outputs": [
    {
     "data": {
      "text/html": [
       "<div>\n",
       "<style scoped>\n",
       "    .dataframe tbody tr th:only-of-type {\n",
       "        vertical-align: middle;\n",
       "    }\n",
       "\n",
       "    .dataframe tbody tr th {\n",
       "        vertical-align: top;\n",
       "    }\n",
       "\n",
       "    .dataframe thead th {\n",
       "        text-align: right;\n",
       "    }\n",
       "</style>\n",
       "<table border=\"1\" class=\"dataframe\">\n",
       "  <thead>\n",
       "    <tr style=\"text-align: right;\">\n",
       "      <th></th>\n",
       "      <th>Name</th>\n",
       "      <th>Platform</th>\n",
       "      <th>Year_of_Release</th>\n",
       "      <th>Genre</th>\n",
       "      <th>NA_sales</th>\n",
       "      <th>EU_sales</th>\n",
       "      <th>JP_sales</th>\n",
       "      <th>Other_sales</th>\n",
       "      <th>Critic_Score</th>\n",
       "      <th>User_Score</th>\n",
       "      <th>Rating</th>\n",
       "    </tr>\n",
       "  </thead>\n",
       "  <tbody>\n",
       "    <tr>\n",
       "      <th>0</th>\n",
       "      <td>Wii Sports</td>\n",
       "      <td>Wii</td>\n",
       "      <td>2006.0</td>\n",
       "      <td>Sports</td>\n",
       "      <td>41.36</td>\n",
       "      <td>28.96</td>\n",
       "      <td>3.77</td>\n",
       "      <td>8.45</td>\n",
       "      <td>76.0</td>\n",
       "      <td>8</td>\n",
       "      <td>E</td>\n",
       "    </tr>\n",
       "    <tr>\n",
       "      <th>1</th>\n",
       "      <td>Super Mario Bros.</td>\n",
       "      <td>NES</td>\n",
       "      <td>1985.0</td>\n",
       "      <td>Platform</td>\n",
       "      <td>29.08</td>\n",
       "      <td>3.58</td>\n",
       "      <td>6.81</td>\n",
       "      <td>0.77</td>\n",
       "      <td>NaN</td>\n",
       "      <td>NaN</td>\n",
       "      <td>NaN</td>\n",
       "    </tr>\n",
       "    <tr>\n",
       "      <th>2</th>\n",
       "      <td>Mario Kart Wii</td>\n",
       "      <td>Wii</td>\n",
       "      <td>2008.0</td>\n",
       "      <td>Racing</td>\n",
       "      <td>15.68</td>\n",
       "      <td>12.76</td>\n",
       "      <td>3.79</td>\n",
       "      <td>3.29</td>\n",
       "      <td>82.0</td>\n",
       "      <td>8.3</td>\n",
       "      <td>E</td>\n",
       "    </tr>\n",
       "    <tr>\n",
       "      <th>3</th>\n",
       "      <td>Wii Sports Resort</td>\n",
       "      <td>Wii</td>\n",
       "      <td>2009.0</td>\n",
       "      <td>Sports</td>\n",
       "      <td>15.61</td>\n",
       "      <td>10.93</td>\n",
       "      <td>3.28</td>\n",
       "      <td>2.95</td>\n",
       "      <td>80.0</td>\n",
       "      <td>8</td>\n",
       "      <td>E</td>\n",
       "    </tr>\n",
       "    <tr>\n",
       "      <th>4</th>\n",
       "      <td>Pokemon Red/Pokemon Blue</td>\n",
       "      <td>GB</td>\n",
       "      <td>1996.0</td>\n",
       "      <td>Role-Playing</td>\n",
       "      <td>11.27</td>\n",
       "      <td>8.89</td>\n",
       "      <td>10.22</td>\n",
       "      <td>1.00</td>\n",
       "      <td>NaN</td>\n",
       "      <td>NaN</td>\n",
       "      <td>NaN</td>\n",
       "    </tr>\n",
       "  </tbody>\n",
       "</table>\n",
       "</div>"
      ],
      "text/plain": [
       "                       Name Platform  Year_of_Release         Genre  NA_sales  \\\n",
       "0                Wii Sports      Wii           2006.0        Sports     41.36   \n",
       "1         Super Mario Bros.      NES           1985.0      Platform     29.08   \n",
       "2            Mario Kart Wii      Wii           2008.0        Racing     15.68   \n",
       "3         Wii Sports Resort      Wii           2009.0        Sports     15.61   \n",
       "4  Pokemon Red/Pokemon Blue       GB           1996.0  Role-Playing     11.27   \n",
       "\n",
       "   EU_sales  JP_sales  Other_sales  Critic_Score User_Score Rating  \n",
       "0     28.96      3.77         8.45          76.0          8      E  \n",
       "1      3.58      6.81         0.77           NaN        NaN    NaN  \n",
       "2     12.76      3.79         3.29          82.0        8.3      E  \n",
       "3     10.93      3.28         2.95          80.0          8      E  \n",
       "4      8.89     10.22         1.00           NaN        NaN    NaN  "
      ]
     },
     "execution_count": 3,
     "metadata": {},
     "output_type": "execute_result"
    }
   ],
   "source": [
    "df.head()"
   ]
  },
  {
   "cell_type": "code",
   "execution_count": 4,
   "metadata": {},
   "outputs": [
    {
     "name": "stdout",
     "output_type": "stream",
     "text": [
      "<class 'pandas.core.frame.DataFrame'>\n",
      "RangeIndex: 16715 entries, 0 to 16714\n",
      "Data columns (total 11 columns):\n",
      " #   Column           Non-Null Count  Dtype  \n",
      "---  ------           --------------  -----  \n",
      " 0   Name             16713 non-null  object \n",
      " 1   Platform         16715 non-null  object \n",
      " 2   Year_of_Release  16446 non-null  float64\n",
      " 3   Genre            16713 non-null  object \n",
      " 4   NA_sales         16715 non-null  float64\n",
      " 5   EU_sales         16715 non-null  float64\n",
      " 6   JP_sales         16715 non-null  float64\n",
      " 7   Other_sales      16715 non-null  float64\n",
      " 8   Critic_Score     8137 non-null   float64\n",
      " 9   User_Score       10014 non-null  object \n",
      " 10  Rating           9949 non-null   object \n",
      "dtypes: float64(6), object(5)\n",
      "memory usage: 1.4+ MB\n"
     ]
    }
   ],
   "source": [
    "df.info()"
   ]
  },
  {
   "cell_type": "markdown",
   "metadata": {},
   "source": [
    "В таблице 10 столбцов. Тип данных в столбцах  — `object`, `float64`. Количество значений в столбцах не одинаковое, следовательно в данных есть пропущенные значения.\n",
    "В документе 16715 строк.\n",
    "\n",
    "Согласно документации столбцы называться:\n",
    "*   `Name` — название игры;\n",
    "*   `Platform` — платформа;\n",
    "*   `Year_of_Release` — год выпуска;\n",
    "*   `Genre` — жанр игры;\n",
    "*   `NA_sales` — продажи в Северной Америке (миллионы проданных копий)\n",
    "*   `EU_sales` — продажи в Европе (миллионы проданных копий)\n",
    "*   `JP_sales` — продажи в Японии (миллионы проданных копий)\n",
    "*   `Other_sales` — продажи в других странах (миллионы проданных копий)\n",
    "*   `Critic_Score` — оценка критиков (максимум 100)\n",
    "*   `User_Score` — оценка пользователей (максимум 10)\n",
    "*   `Rating` — рейтинг от организации ESRB"
   ]
  },
  {
   "cell_type": "markdown",
   "metadata": {},
   "source": [
    "**Описание таблицы:** Сразу бросается не корректный формат в столбце, User_Score. Заголовки в столбцах отображены не по стилю. В таблице присутствуют пропуски. "
   ]
  },
  {
   "cell_type": "markdown",
   "metadata": {},
   "source": [
    "## Шаг. Подготовка данных"
   ]
  },
  {
   "cell_type": "markdown",
   "metadata": {},
   "source": [
    "### Приведение всех столбцов к нижнему регистру."
   ]
  },
  {
   "cell_type": "code",
   "execution_count": 5,
   "metadata": {},
   "outputs": [
    {
     "data": {
      "text/plain": [
       "Index(['Name', 'Platform', 'Year_of_Release', 'Genre', 'NA_sales', 'EU_sales',\n",
       "       'JP_sales', 'Other_sales', 'Critic_Score', 'User_Score', 'Rating'],\n",
       "      dtype='object')"
      ]
     },
     "execution_count": 5,
     "metadata": {},
     "output_type": "execute_result"
    }
   ],
   "source": [
    "df.columns"
   ]
  },
  {
   "cell_type": "code",
   "execution_count": 6,
   "metadata": {},
   "outputs": [],
   "source": [
    "df.columns = df.columns.str.lower()"
   ]
  },
  {
   "cell_type": "code",
   "execution_count": 7,
   "metadata": {},
   "outputs": [
    {
     "data": {
      "text/plain": [
       "Index(['name', 'platform', 'year_of_release', 'genre', 'na_sales', 'eu_sales',\n",
       "       'jp_sales', 'other_sales', 'critic_score', 'user_score', 'rating'],\n",
       "      dtype='object')"
      ]
     },
     "execution_count": 7,
     "metadata": {},
     "output_type": "execute_result"
    }
   ],
   "source": [
    " #проверка\n",
    "df.columns"
   ]
  },
  {
   "cell_type": "markdown",
   "metadata": {},
   "source": [
    "### Преобразование данных в нужный тип.\n",
    "\n",
    "При первичном ознакомлении с данными стало понятно что столбец `user_score` находяться в не верном типе данных (object), а надо будет перевести в (float64)"
   ]
  },
  {
   "cell_type": "code",
   "execution_count": 8,
   "metadata": {},
   "outputs": [],
   "source": [
    "#обработка 'tbd' и заменить на пропуск\n",
    "df['user_score'] = df['user_score'].replace('tbd', float('nan'))"
   ]
  },
  {
   "cell_type": "code",
   "execution_count": 9,
   "metadata": {},
   "outputs": [],
   "source": [
    "df['user_score'] = df['user_score'].astype(float)"
   ]
  },
  {
   "cell_type": "markdown",
   "metadata": {},
   "source": [
    "### Обработка пропусков"
   ]
  },
  {
   "cell_type": "code",
   "execution_count": 10,
   "metadata": {},
   "outputs": [
    {
     "data": {
      "text/plain": [
       "name                  2\n",
       "platform              0\n",
       "year_of_release     269\n",
       "genre                 2\n",
       "na_sales              0\n",
       "eu_sales              0\n",
       "jp_sales              0\n",
       "other_sales           0\n",
       "critic_score       8578\n",
       "user_score         9125\n",
       "rating             6766\n",
       "dtype: int64"
      ]
     },
     "execution_count": 10,
     "metadata": {},
     "output_type": "execute_result"
    }
   ],
   "source": [
    "#столбцы в которых есть пропуски\n",
    "df.isna().sum()"
   ]
  },
  {
   "cell_type": "markdown",
   "metadata": {},
   "source": [
    "Пропуски в `name`, `year_of_release` и `genre` можно спокойно удалить, т.к. их не большое количество. Скорее всего данные пропуски связаны не корректной подачей информацией производителем или просто не была заполнена.\n",
    "\n",
    "`critic_score`, `user_score`, `rating` заполнять любым изученным методом пропуски некорректно, а если удалять пропуски, то выйдет слишком большая потеря данных. Отсутствие пропусков в данных столбцах связано с тем, что игра может быть не популярная поэтому пользователи и критики не посчитали нужным ее оценить. Проще говоря не популярная. Тоже самое и с рейтинговым агентством. Поэтому эти столбцы оставляем без изменений."
   ]
  },
  {
   "cell_type": "code",
   "execution_count": 11,
   "metadata": {
    "scrolled": false
   },
   "outputs": [
    {
     "data": {
      "text/plain": [
       "name                  0\n",
       "platform              0\n",
       "year_of_release       0\n",
       "genre                 0\n",
       "na_sales              0\n",
       "eu_sales              0\n",
       "jp_sales              0\n",
       "other_sales           0\n",
       "critic_score       8461\n",
       "user_score         8981\n",
       "rating             6676\n",
       "dtype: int64"
      ]
     },
     "execution_count": 11,
     "metadata": {},
     "output_type": "execute_result"
    }
   ],
   "source": [
    "df = df.dropna(subset=['name', 'year_of_release', 'genre'])\n",
    "df.isna().sum()"
   ]
  },
  {
   "cell_type": "markdown",
   "metadata": {},
   "source": [
    "### Добавление столбца `sales_sum` который суммирует продажи со всех регионов:"
   ]
  },
  {
   "cell_type": "code",
   "execution_count": 12,
   "metadata": {},
   "outputs": [],
   "source": [
    "df['sales_sum'] = df['na_sales'] + df['eu_sales'] + df['jp_sales'] + df['other_sales']"
   ]
  },
  {
   "cell_type": "code",
   "execution_count": 13,
   "metadata": {},
   "outputs": [
    {
     "data": {
      "text/html": [
       "<div>\n",
       "<style scoped>\n",
       "    .dataframe tbody tr th:only-of-type {\n",
       "        vertical-align: middle;\n",
       "    }\n",
       "\n",
       "    .dataframe tbody tr th {\n",
       "        vertical-align: top;\n",
       "    }\n",
       "\n",
       "    .dataframe thead th {\n",
       "        text-align: right;\n",
       "    }\n",
       "</style>\n",
       "<table border=\"1\" class=\"dataframe\">\n",
       "  <thead>\n",
       "    <tr style=\"text-align: right;\">\n",
       "      <th></th>\n",
       "      <th>name</th>\n",
       "      <th>platform</th>\n",
       "      <th>year_of_release</th>\n",
       "      <th>genre</th>\n",
       "      <th>na_sales</th>\n",
       "      <th>eu_sales</th>\n",
       "      <th>jp_sales</th>\n",
       "      <th>other_sales</th>\n",
       "      <th>critic_score</th>\n",
       "      <th>user_score</th>\n",
       "      <th>rating</th>\n",
       "      <th>sales_sum</th>\n",
       "    </tr>\n",
       "  </thead>\n",
       "  <tbody>\n",
       "    <tr>\n",
       "      <th>16710</th>\n",
       "      <td>Samurai Warriors: Sanada Maru</td>\n",
       "      <td>PS3</td>\n",
       "      <td>2016.0</td>\n",
       "      <td>Action</td>\n",
       "      <td>0.00</td>\n",
       "      <td>0.00</td>\n",
       "      <td>0.01</td>\n",
       "      <td>0.0</td>\n",
       "      <td>NaN</td>\n",
       "      <td>NaN</td>\n",
       "      <td>NaN</td>\n",
       "      <td>0.01</td>\n",
       "    </tr>\n",
       "    <tr>\n",
       "      <th>16711</th>\n",
       "      <td>LMA Manager 2007</td>\n",
       "      <td>X360</td>\n",
       "      <td>2006.0</td>\n",
       "      <td>Sports</td>\n",
       "      <td>0.00</td>\n",
       "      <td>0.01</td>\n",
       "      <td>0.00</td>\n",
       "      <td>0.0</td>\n",
       "      <td>NaN</td>\n",
       "      <td>NaN</td>\n",
       "      <td>NaN</td>\n",
       "      <td>0.01</td>\n",
       "    </tr>\n",
       "    <tr>\n",
       "      <th>16712</th>\n",
       "      <td>Haitaka no Psychedelica</td>\n",
       "      <td>PSV</td>\n",
       "      <td>2016.0</td>\n",
       "      <td>Adventure</td>\n",
       "      <td>0.00</td>\n",
       "      <td>0.00</td>\n",
       "      <td>0.01</td>\n",
       "      <td>0.0</td>\n",
       "      <td>NaN</td>\n",
       "      <td>NaN</td>\n",
       "      <td>NaN</td>\n",
       "      <td>0.01</td>\n",
       "    </tr>\n",
       "    <tr>\n",
       "      <th>16713</th>\n",
       "      <td>Spirits &amp; Spells</td>\n",
       "      <td>GBA</td>\n",
       "      <td>2003.0</td>\n",
       "      <td>Platform</td>\n",
       "      <td>0.01</td>\n",
       "      <td>0.00</td>\n",
       "      <td>0.00</td>\n",
       "      <td>0.0</td>\n",
       "      <td>NaN</td>\n",
       "      <td>NaN</td>\n",
       "      <td>NaN</td>\n",
       "      <td>0.01</td>\n",
       "    </tr>\n",
       "    <tr>\n",
       "      <th>16714</th>\n",
       "      <td>Winning Post 8 2016</td>\n",
       "      <td>PSV</td>\n",
       "      <td>2016.0</td>\n",
       "      <td>Simulation</td>\n",
       "      <td>0.00</td>\n",
       "      <td>0.00</td>\n",
       "      <td>0.01</td>\n",
       "      <td>0.0</td>\n",
       "      <td>NaN</td>\n",
       "      <td>NaN</td>\n",
       "      <td>NaN</td>\n",
       "      <td>0.01</td>\n",
       "    </tr>\n",
       "  </tbody>\n",
       "</table>\n",
       "</div>"
      ],
      "text/plain": [
       "                                name platform  year_of_release       genre  \\\n",
       "16710  Samurai Warriors: Sanada Maru      PS3           2016.0      Action   \n",
       "16711               LMA Manager 2007     X360           2006.0      Sports   \n",
       "16712        Haitaka no Psychedelica      PSV           2016.0   Adventure   \n",
       "16713               Spirits & Spells      GBA           2003.0    Platform   \n",
       "16714            Winning Post 8 2016      PSV           2016.0  Simulation   \n",
       "\n",
       "       na_sales  eu_sales  jp_sales  other_sales  critic_score  user_score  \\\n",
       "16710      0.00      0.00      0.01          0.0           NaN         NaN   \n",
       "16711      0.00      0.01      0.00          0.0           NaN         NaN   \n",
       "16712      0.00      0.00      0.01          0.0           NaN         NaN   \n",
       "16713      0.01      0.00      0.00          0.0           NaN         NaN   \n",
       "16714      0.00      0.00      0.01          0.0           NaN         NaN   \n",
       "\n",
       "      rating  sales_sum  \n",
       "16710    NaN       0.01  \n",
       "16711    NaN       0.01  \n",
       "16712    NaN       0.01  \n",
       "16713    NaN       0.01  \n",
       "16714    NaN       0.01  "
      ]
     },
     "execution_count": 13,
     "metadata": {},
     "output_type": "execute_result"
    }
   ],
   "source": [
    "df.tail()"
   ]
  },
  {
   "cell_type": "markdown",
   "metadata": {},
   "source": [
    "### **Проверка на дубликаты**"
   ]
  },
  {
   "cell_type": "code",
   "execution_count": 14,
   "metadata": {},
   "outputs": [
    {
     "data": {
      "text/plain": [
       "0"
      ]
     },
     "execution_count": 14,
     "metadata": {},
     "output_type": "execute_result"
    }
   ],
   "source": [
    "df.duplicated().sum()#Явные дубликаты"
   ]
  },
  {
   "cell_type": "code",
   "execution_count": 15,
   "metadata": {},
   "outputs": [
    {
     "data": {
      "text/plain": [
       "array(['Wii', 'NES', 'GB', 'DS', 'X360', 'PS3', 'PS2', 'SNES', 'GBA',\n",
       "       'PS4', '3DS', 'N64', 'PS', 'XB', 'PC', '2600', 'PSP', 'XOne',\n",
       "       'WiiU', 'GC', 'GEN', 'DC', 'PSV', 'SAT', 'SCD', 'WS', 'NG', 'TG16',\n",
       "       '3DO', 'GG', 'PCFX'], dtype=object)"
      ]
     },
     "execution_count": 15,
     "metadata": {},
     "output_type": "execute_result"
    }
   ],
   "source": [
    "df['platform'].unique()#не явные дубликаты"
   ]
  },
  {
   "cell_type": "code",
   "execution_count": 16,
   "metadata": {},
   "outputs": [
    {
     "data": {
      "text/plain": [
       "array(['Sports', 'Platform', 'Racing', 'Role-Playing', 'Puzzle', 'Misc',\n",
       "       'Shooter', 'Simulation', 'Action', 'Fighting', 'Adventure',\n",
       "       'Strategy'], dtype=object)"
      ]
     },
     "execution_count": 16,
     "metadata": {},
     "output_type": "execute_result"
    }
   ],
   "source": [
    "df['genre'].unique()"
   ]
  },
  {
   "cell_type": "code",
   "execution_count": 17,
   "metadata": {},
   "outputs": [
    {
     "data": {
      "text/plain": [
       "array(['E', nan, 'M', 'T', 'E10+', 'K-A', 'AO', 'EC', 'RP'], dtype=object)"
      ]
     },
     "execution_count": 17,
     "metadata": {},
     "output_type": "execute_result"
    }
   ],
   "source": [
    "df['rating'].unique()"
   ]
  },
  {
   "cell_type": "markdown",
   "metadata": {},
   "source": [
    "**Вывод:** \n",
    "    \n",
    "Не явных дубликатов не было замечено, как и явных. \n",
    "Столбец name тоже был проверен на неявные дубликаты, на первый взгляд ничего не было замечено. \n"
   ]
  },
  {
   "cell_type": "markdown",
   "metadata": {},
   "source": [
    "**Общий вывод к 2 шагу:**\n",
    "    \n",
    "В данной главе произошла основная подготовка таблицы для дальнейшего анализу и изучение внутренней структуры данных. Обработаны пропуски, добавление дополнительного суммирующего столбца, приведение всех данных к нужному типу. "
   ]
  },
  {
   "cell_type": "markdown",
   "metadata": {},
   "source": [
    "## Шаг. Исследовательский анализ данных\n",
    "\n",
    "### Колличество выпускаевых игр по годам"
   ]
  },
  {
   "cell_type": "code",
   "execution_count": 18,
   "metadata": {},
   "outputs": [
    {
     "data": {
      "text/plain": [
       "Text(0.5, 0, 'Год')"
      ]
     },
     "execution_count": 18,
     "metadata": {},
     "output_type": "execute_result"
    },
    {
     "data": {
      "image/png": "[encoded data removed]",
      "text/plain": [
       "<Figure size 432x288 with 1 Axes>"
      ]
     },
     "metadata": {
      "needs_background": "light"
     },
     "output_type": "display_data"
    }
   ],
   "source": [
    "df.groupby('year_of_release')['name'].agg(['count']).plot(title='Количество, выпускаемое игр в год ', grid=True)\n",
    "plt.ylabel(\"Количество \")\n",
    "plt.xlabel(\"Год\")"
   ]
  },
  {
   "cell_type": "code",
   "execution_count": 19,
   "metadata": {},
   "outputs": [],
   "source": [
    "df = df[df['year_of_release']>1995]"
   ]
  },
  {
   "cell_type": "markdown",
   "metadata": {},
   "source": [
    "Вывод: Геймерская область очень активно развивалась, после 2000 виден стремительный рост выпуска игр. Но в последний годы рынок берет паузу и количество релизов значительно сократилось. "
   ]
  },
  {
   "cell_type": "markdown",
   "metadata": {},
   "source": [
    "### Анализ продаж на различных платформах\n",
    "\n",
    "Выявлеине самых крупных платформ:"
   ]
  },
  {
   "cell_type": "code",
   "execution_count": 20,
   "metadata": {},
   "outputs": [
    {
     "data": {
      "text/html": [
       "<div>\n",
       "<style scoped>\n",
       "    .dataframe tbody tr th:only-of-type {\n",
       "        vertical-align: middle;\n",
       "    }\n",
       "\n",
       "    .dataframe tbody tr th {\n",
       "        vertical-align: top;\n",
       "    }\n",
       "\n",
       "    .dataframe thead th {\n",
       "        text-align: right;\n",
       "    }\n",
       "</style>\n",
       "<table border=\"1\" class=\"dataframe\">\n",
       "  <thead>\n",
       "    <tr style=\"text-align: right;\">\n",
       "      <th></th>\n",
       "      <th>platform</th>\n",
       "      <th>name</th>\n",
       "    </tr>\n",
       "  </thead>\n",
       "  <tbody>\n",
       "    <tr>\n",
       "      <th>0</th>\n",
       "      <td>XB</td>\n",
       "      <td>803</td>\n",
       "    </tr>\n",
       "    <tr>\n",
       "      <th>1</th>\n",
       "      <td>GBA</td>\n",
       "      <td>811</td>\n",
       "    </tr>\n",
       "    <tr>\n",
       "      <th>2</th>\n",
       "      <td>PC</td>\n",
       "      <td>942</td>\n",
       "    </tr>\n",
       "    <tr>\n",
       "      <th>3</th>\n",
       "      <td>PS</td>\n",
       "      <td>1074</td>\n",
       "    </tr>\n",
       "    <tr>\n",
       "      <th>4</th>\n",
       "      <td>PSP</td>\n",
       "      <td>1193</td>\n",
       "    </tr>\n",
       "    <tr>\n",
       "      <th>5</th>\n",
       "      <td>X360</td>\n",
       "      <td>1232</td>\n",
       "    </tr>\n",
       "    <tr>\n",
       "      <th>6</th>\n",
       "      <td>Wii</td>\n",
       "      <td>1286</td>\n",
       "    </tr>\n",
       "    <tr>\n",
       "      <th>7</th>\n",
       "      <td>PS3</td>\n",
       "      <td>1306</td>\n",
       "    </tr>\n",
       "    <tr>\n",
       "      <th>8</th>\n",
       "      <td>DS</td>\n",
       "      <td>2120</td>\n",
       "    </tr>\n",
       "    <tr>\n",
       "      <th>9</th>\n",
       "      <td>PS2</td>\n",
       "      <td>2127</td>\n",
       "    </tr>\n",
       "  </tbody>\n",
       "</table>\n",
       "</div>"
      ],
      "text/plain": [
       "  platform  name\n",
       "0       XB   803\n",
       "1      GBA   811\n",
       "2       PC   942\n",
       "3       PS  1074\n",
       "4      PSP  1193\n",
       "5     X360  1232\n",
       "6      Wii  1286\n",
       "7      PS3  1306\n",
       "8       DS  2120\n",
       "9      PS2  2127"
      ]
     },
     "execution_count": 20,
     "metadata": {},
     "output_type": "execute_result"
    }
   ],
   "source": [
    "(df.groupby(['platform'])[['name']].count()\n",
    " .sort_values(by='name').tail(10)\n",
    " .reset_index())"
   ]
  },
  {
   "cell_type": "code",
   "execution_count": 21,
   "metadata": {
    "scrolled": true
   },
   "outputs": [
    {
     "data": {
      "text/plain": [
       "Text(0, 0.5, 'Кол-во проданных копий, млн.')"
      ]
     },
     "execution_count": 21,
     "metadata": {},
     "output_type": "execute_result"
    },
    {
     "data": {
      "image/png": "[encoded data removed]",
      "text/plain": [
       "<Figure size 720x360 with 1 Axes>"
      ]
     },
     "metadata": {
      "needs_background": "light"
     },
     "output_type": "display_data"
    }
   ],
   "source": [
    "(df.pivot_table(index='year_of_release', columns='platform', values='sales_sum', aggfunc='sum')\n",
    " [['PS2', 'PS3', 'Wii', 'X360', 'PSP', 'PS2', 'GBA', 'XB', 'PS', 'DS', 'PC']]#самые крупные компании\n",
    " .plot(style='o-', figsize=(10, 5), title='Продажи крупнейших платформ'))\n",
    "plt.xlabel(\"Год\")\n",
    "plt.ylabel(\"Кол-во проданных копий, млн.\")"
   ]
  },
  {
   "cell_type": "markdown",
   "metadata": {},
   "source": [
    "Вывод: Из графика видно продажи происходят по следующему сценарию. В первые 2 года  существования компании происходит резкий рост, а потом планомерная стагнация и исчезновение компании. В среднем крупная компания  существует 10(+-2)—лет."
   ]
  },
  {
   "cell_type": "markdown",
   "metadata": {},
   "source": [
    "### Срез данных для актуального периода на 2017 год\n",
    "\n",
    "Их проведенных исследований выше стало понятно за какие года больше всего данных в дата сете и срок существования компании. Те компании которые ушли с рынка до 2000 не повлияют на количество продаж в 2017, поэтому их нужно откинуть.\n",
    "\n",
    "Для целей прогнозирования продаж на следующий год даже в традиционных бизнесах редко берут данные более чем за 2-3 года. А в такой динамично меняющейся индустрии, как компьютерные игры и вовсе не стоит брать слишком большой временной интервал - иначе обязательно захватишь уже отжившие тренды. Но и слишком короткий период тоже брать не стоит.\n",
    "\n",
    "Поэтому рассмотрим период от 2014 до нынешнего времени (2016) "
   ]
  },
  {
   "cell_type": "code",
   "execution_count": 22,
   "metadata": {},
   "outputs": [],
   "source": [
    "#сохраняем данные которые актуальны\n",
    "df = df[df['year_of_release']>=2014].reset_index(drop=True) "
   ]
  },
  {
   "cell_type": "markdown",
   "metadata": {},
   "source": [
    "### Лидирующие компании в продажах \n",
    "\n",
    "Отбор 10 компании с наибольшим количеством продаж: "
   ]
  },
  {
   "cell_type": "code",
   "execution_count": 23,
   "metadata": {},
   "outputs": [
    {
     "data": {
      "text/html": [
       "<div>\n",
       "<style scoped>\n",
       "    .dataframe tbody tr th:only-of-type {\n",
       "        vertical-align: middle;\n",
       "    }\n",
       "\n",
       "    .dataframe tbody tr th {\n",
       "        vertical-align: top;\n",
       "    }\n",
       "\n",
       "    .dataframe thead th {\n",
       "        text-align: right;\n",
       "    }\n",
       "</style>\n",
       "<table border=\"1\" class=\"dataframe\">\n",
       "  <thead>\n",
       "    <tr style=\"text-align: right;\">\n",
       "      <th></th>\n",
       "      <th>sales_sum</th>\n",
       "    </tr>\n",
       "    <tr>\n",
       "      <th>platform</th>\n",
       "      <th></th>\n",
       "    </tr>\n",
       "  </thead>\n",
       "  <tbody>\n",
       "    <tr>\n",
       "      <th>PS4</th>\n",
       "      <td>288.15</td>\n",
       "    </tr>\n",
       "    <tr>\n",
       "      <th>XOne</th>\n",
       "      <td>140.36</td>\n",
       "    </tr>\n",
       "    <tr>\n",
       "      <th>3DS</th>\n",
       "      <td>86.68</td>\n",
       "    </tr>\n",
       "    <tr>\n",
       "      <th>PS3</th>\n",
       "      <td>68.18</td>\n",
       "    </tr>\n",
       "    <tr>\n",
       "      <th>X360</th>\n",
       "      <td>48.22</td>\n",
       "    </tr>\n",
       "    <tr>\n",
       "      <th>WiiU</th>\n",
       "      <td>42.98</td>\n",
       "    </tr>\n",
       "    <tr>\n",
       "      <th>PC</th>\n",
       "      <td>27.05</td>\n",
       "    </tr>\n",
       "    <tr>\n",
       "      <th>PSV</th>\n",
       "      <td>22.40</td>\n",
       "    </tr>\n",
       "    <tr>\n",
       "      <th>Wii</th>\n",
       "      <td>5.07</td>\n",
       "    </tr>\n",
       "    <tr>\n",
       "      <th>PSP</th>\n",
       "      <td>0.36</td>\n",
       "    </tr>\n",
       "  </tbody>\n",
       "</table>\n",
       "</div>"
      ],
      "text/plain": [
       "          sales_sum\n",
       "platform           \n",
       "PS4          288.15\n",
       "XOne         140.36\n",
       "3DS           86.68\n",
       "PS3           68.18\n",
       "X360          48.22\n",
       "WiiU          42.98\n",
       "PC            27.05\n",
       "PSV           22.40\n",
       "Wii            5.07\n",
       "PSP            0.36"
      ]
     },
     "execution_count": 23,
     "metadata": {},
     "output_type": "execute_result"
    }
   ],
   "source": [
    "(\n",
    "    df.pivot_table(index='platform', values='sales_sum', aggfunc='sum')\n",
    "    .sort_values(by='sales_sum', ascending=False)\n",
    "    .head(10)\n",
    ")"
   ]
  },
  {
   "cell_type": "code",
   "execution_count": 24,
   "metadata": {},
   "outputs": [
    {
     "data": {
      "text/plain": [
       "Text(0, 0.5, 'Кол-во проданных копий, млн.')"
      ]
     },
     "execution_count": 24,
     "metadata": {},
     "output_type": "execute_result"
    },
    {
     "data": {
      "image/png": "[encoded data removed]",
      "text/plain": [
       "<Figure size 576x288 with 1 Axes>"
      ]
     },
     "metadata": {
      "needs_background": "light"
     },
     "output_type": "display_data"
    }
   ],
   "source": [
    "my_color = [(0.1,0.4,0.8),(0.75,0.75,0.25),(0.2,0.75,0.25),(0.75,0.15,0.45),(0.75,0.75,0.85),(0.65,0.35,0.35),(0.5,0.75,0.25),(0.55,0.5,0.2),(0.75,0.75,1),(0,0,0)]\n",
    "(\n",
    "    df.pivot_table(index='year_of_release', columns='platform', values='sales_sum', aggfunc='sum')\n",
    "    [['X360', 'PS3', 'PS4', '3DS', 'XOne', 'WiiU', 'PC', 'PSV', 'Wii', 'PSP']]\n",
    "    .plot(style='o-', color=my_color, title='Продажи крупнейших платформ за последние 2 года', figsize=(8, 4))\n",
    ") \n",
    "plt.xlabel(\"Год\")\n",
    "plt.ylabel(\"Кол-во проданных копий, млн.\")"
   ]
  },
  {
   "cell_type": "markdown",
   "metadata": {},
   "source": [
    "Вывод: Из трендов видно, что к 2016 году у всех компаний упали продажи до минимальных уровней. Отобран топ компании с наиболее крупными продажами на данный момент, являются PS4, Wii и другие. Эти компании будут основные конкуренты в 2017 году. Данные компании специализируются на выпуске игр для консолей, можно сделать из этого вывод что в тренде находятся игры для приставок. Все остальные компании испытывают достаточно большие проблемы в продажах, в некоторых компаниях их практически нет"
   ]
  },
  {
   "cell_type": "markdown",
   "metadata": {},
   "source": [
    "### График «ящик с усами» по глобальным продажам игр в разбивке по платформам"
   ]
  },
  {
   "cell_type": "code",
   "execution_count": 34,
   "metadata": {},
   "outputs": [
    {
     "data": {
      "text/plain": [
       "(0.0, 2.0)"
      ]
     },
     "execution_count": 34,
     "metadata": {},
     "output_type": "execute_result"
    },
    {
     "data": {
      "image/png": "[encoded data removed]",
      "text/plain": [
       "<Figure size 360x504 with 1 Axes>"
      ]
     },
     "metadata": {
      "needs_background": "light"
     },
     "output_type": "display_data"
    }
   ],
   "source": [
    "plt.figure(figsize=(5, 7))\n",
    "sns.boxplot(data=df, x='platform', y='sales_sum')\n",
    "plt.title('ящик с усами')\n",
    "plt.xlabel(\"Платформы\")\n",
    "plt.ylabel(\"Кол-во проданных копий, млн.\")\n",
    "plt.ylim(0,2)"
   ]
  },
  {
   "cell_type": "markdown",
   "metadata": {},
   "source": [
    "**Вывод:** Данный тип графика дает понимание насколько большой разброс в данных. Медиана по продажам находиться примерно на 45 млн. «разумный диапазон» находиться примерно в диапазоне от 15 до 70 млн. Так же на графике видно, что в каждой компании присутствуют выбросы это стоит учитывать."
   ]
  },
  {
   "cell_type": "markdown",
   "metadata": {},
   "source": [
    "####  Влияют ли отзывы пользователей и критиков на продажи внутри одной популярной платформы."
   ]
  },
  {
   "cell_type": "markdown",
   "metadata": {},
   "source": [
    "Из прошлых исследований нам известно что больше всего продаж в `PS4`, его и будем рассматривать."
   ]
  },
  {
   "cell_type": "code",
   "execution_count": 27,
   "metadata": {},
   "outputs": [
    {
     "data": {
      "text/plain": [
       "Text(0, 0.5, 'Кол-во проданных копий, млн.')"
      ]
     },
     "execution_count": 27,
     "metadata": {},
     "output_type": "execute_result"
    },
    {
     "data": {
      "image/png": "[encoded data removed]",
      "text/plain": [
       "<Figure size 432x288 with 1 Axes>"
      ]
     },
     "metadata": {
      "needs_background": "light"
     },
     "output_type": "display_data"
    },
    {
     "data": {
      "image/png": "[encoded data removed]",
      "text/plain": [
       "<Figure size 432x288 with 1 Axes>"
      ]
     },
     "metadata": {
      "needs_background": "light"
     },
     "output_type": "display_data"
    }
   ],
   "source": [
    "df_360 = df[df['platform']=='PS4'][['platform', 'critic_score', 'user_score', 'sales_sum']]#.hist()\n",
    "\n",
    "df_360.plot.scatter(x='critic_score', y=['sales_sum'], alpha=0.3)\n",
    "plt.title('диаграмма рассеяния')\n",
    "plt.xlabel(\"оценка критиков\")\n",
    "plt.ylabel(\"Кол-во проданных копий, млн.\")\n",
    "\n",
    "df_360.plot.scatter(x='user_score', y=['sales_sum'], alpha=0.3)\n",
    "plt.title('диаграмма рассеяния')\n",
    "plt.xlabel(\"оценка пользователей\")\n",
    "plt.ylabel(\"Кол-во проданных копий, млн.\")"
   ]
  },
  {
   "cell_type": "code",
   "execution_count": 28,
   "metadata": {},
   "outputs": [
    {
     "data": {
      "text/html": [
       "<div>\n",
       "<style scoped>\n",
       "    .dataframe tbody tr th:only-of-type {\n",
       "        vertical-align: middle;\n",
       "    }\n",
       "\n",
       "    .dataframe tbody tr th {\n",
       "        vertical-align: top;\n",
       "    }\n",
       "\n",
       "    .dataframe thead th {\n",
       "        text-align: right;\n",
       "    }\n",
       "</style>\n",
       "<table border=\"1\" class=\"dataframe\">\n",
       "  <thead>\n",
       "    <tr style=\"text-align: right;\">\n",
       "      <th></th>\n",
       "      <th>sales_sum</th>\n",
       "    </tr>\n",
       "  </thead>\n",
       "  <tbody>\n",
       "    <tr>\n",
       "      <th>critic_score</th>\n",
       "      <td>0.402661</td>\n",
       "    </tr>\n",
       "    <tr>\n",
       "      <th>user_score</th>\n",
       "      <td>-0.040132</td>\n",
       "    </tr>\n",
       "    <tr>\n",
       "      <th>sales_sum</th>\n",
       "      <td>1.000000</td>\n",
       "    </tr>\n",
       "  </tbody>\n",
       "</table>\n",
       "</div>"
      ],
      "text/plain": [
       "              sales_sum\n",
       "critic_score   0.402661\n",
       "user_score    -0.040132\n",
       "sales_sum      1.000000"
      ]
     },
     "execution_count": 28,
     "metadata": {},
     "output_type": "execute_result"
    }
   ],
   "source": [
    "df_360.corr()[['sales_sum']]#расчет корреляции"
   ]
  },
  {
   "cell_type": "markdown",
   "metadata": {},
   "source": [
    "**Вывод:** Если смотреть визуально графики. Чем лучше оценивают критики игру, тем больше продаж игр происходит не явно заметно. С пользователями это так не работает + пользователи не так много оставляют плохих отзывов. \n",
    "\n",
    "Корреляция отзывов пользователей и критиков от количества продаж практически отсутствует. Т.е. отзывы никак не влияют на количество продаж."
   ]
  },
  {
   "cell_type": "markdown",
   "metadata": {},
   "source": [
    "#### Анализ продаж на других платформах от качества отзывов"
   ]
  },
  {
   "cell_type": "markdown",
   "metadata": {},
   "source": [
    "`critic_score` разделим на 10 чтобы `user_score` были определены оценки в одинаковых категориях "
   ]
  },
  {
   "cell_type": "code",
   "execution_count": 29,
   "metadata": {},
   "outputs": [
    {
     "data": {
      "text/html": [
       "<div>\n",
       "<style scoped>\n",
       "    .dataframe tbody tr th:only-of-type {\n",
       "        vertical-align: middle;\n",
       "    }\n",
       "\n",
       "    .dataframe tbody tr th {\n",
       "        vertical-align: top;\n",
       "    }\n",
       "\n",
       "    .dataframe thead th {\n",
       "        text-align: right;\n",
       "    }\n",
       "</style>\n",
       "<table border=\"1\" class=\"dataframe\">\n",
       "  <thead>\n",
       "    <tr style=\"text-align: right;\">\n",
       "      <th></th>\n",
       "      <th>critic_score</th>\n",
       "      <th>user_score</th>\n",
       "      <th>sales_sum</th>\n",
       "    </tr>\n",
       "  </thead>\n",
       "  <tbody>\n",
       "    <tr>\n",
       "      <th>critic_score</th>\n",
       "      <td>1.000000</td>\n",
       "      <td>0.910080</td>\n",
       "      <td>0.660664</td>\n",
       "    </tr>\n",
       "    <tr>\n",
       "      <th>user_score</th>\n",
       "      <td>0.910080</td>\n",
       "      <td>1.000000</td>\n",
       "      <td>0.744817</td>\n",
       "    </tr>\n",
       "    <tr>\n",
       "      <th>sales_sum</th>\n",
       "      <td>0.660664</td>\n",
       "      <td>0.744817</td>\n",
       "      <td>1.000000</td>\n",
       "    </tr>\n",
       "  </tbody>\n",
       "</table>\n",
       "</div>"
      ],
      "text/plain": [
       "              critic_score  user_score  sales_sum\n",
       "critic_score      1.000000    0.910080   0.660664\n",
       "user_score        0.910080    1.000000   0.744817\n",
       "sales_sum         0.660664    0.744817   1.000000"
      ]
     },
     "execution_count": 29,
     "metadata": {},
     "output_type": "execute_result"
    },
    {
     "data": {
      "image/png": "[encoded data removed]",
      "text/plain": [
       "<Figure size 432x288 with 1 Axes>"
      ]
     },
     "metadata": {
      "needs_background": "light"
     },
     "output_type": "display_data"
    }
   ],
   "source": [
    "all_platform = df.groupby('platform')[['critic_score', 'user_score', 'sales_sum']].sum().reset_index()\n",
    "all_platform = all_platform[all_platform['platform'] != 'PS4'] # исключаем `PS4`\n",
    "all_platform['critic_score'] = all_platform['critic_score']/10 #приведение к одному кэфу\n",
    "all_platform.plot()\n",
    "plt.title('График кол-ва продаж от отзывов')\n",
    "plt.xlabel(\"Компании\")\n",
    "plt.ylabel(\"Общая сумма показателя\")\n",
    "all_platform.corr()"
   ]
  },
  {
   "cell_type": "markdown",
   "metadata": {},
   "source": [
    "**Вывод:**  Уровень оценки пользователей и критиков практически совпал, после приведения к одной категории. Стало видно прямую зависимость между количеством положительных отзывов и объема продаж.\n",
    "\n",
    "На одной платформе не прослеживается зависимостей, а на всем дата сете есть зависимость качества отзывов и от количества продаж. Скорее всего это связано с тем что выборка точечная и не отражает всех данных или эта компании имеет расхождение с мнением критиков."
   ]
  },
  {
   "cell_type": "markdown",
   "metadata": {},
   "source": [
    "### Распределение игр по жанрам, выявление наиболее прибыльных."
   ]
  },
  {
   "cell_type": "code",
   "execution_count": 30,
   "metadata": {},
   "outputs": [
    {
     "data": {
      "text/html": [
       "<div>\n",
       "<style scoped>\n",
       "    .dataframe tbody tr th:only-of-type {\n",
       "        vertical-align: middle;\n",
       "    }\n",
       "\n",
       "    .dataframe tbody tr th {\n",
       "        vertical-align: top;\n",
       "    }\n",
       "\n",
       "    .dataframe thead th {\n",
       "        text-align: right;\n",
       "    }\n",
       "</style>\n",
       "<table border=\"1\" class=\"dataframe\">\n",
       "  <thead>\n",
       "    <tr style=\"text-align: right;\">\n",
       "      <th></th>\n",
       "      <th>genre</th>\n",
       "      <th>sales_sum</th>\n",
       "    </tr>\n",
       "  </thead>\n",
       "  <tbody>\n",
       "    <tr>\n",
       "      <th>8</th>\n",
       "      <td>Shooter</td>\n",
       "      <td>0.515</td>\n",
       "    </tr>\n",
       "    <tr>\n",
       "      <th>10</th>\n",
       "      <td>Sports</td>\n",
       "      <td>0.180</td>\n",
       "    </tr>\n",
       "    <tr>\n",
       "      <th>4</th>\n",
       "      <td>Platform</td>\n",
       "      <td>0.140</td>\n",
       "    </tr>\n",
       "    <tr>\n",
       "      <th>2</th>\n",
       "      <td>Fighting</td>\n",
       "      <td>0.125</td>\n",
       "    </tr>\n",
       "    <tr>\n",
       "      <th>7</th>\n",
       "      <td>Role-Playing</td>\n",
       "      <td>0.110</td>\n",
       "    </tr>\n",
       "    <tr>\n",
       "      <th>9</th>\n",
       "      <td>Simulation</td>\n",
       "      <td>0.100</td>\n",
       "    </tr>\n",
       "    <tr>\n",
       "      <th>0</th>\n",
       "      <td>Action</td>\n",
       "      <td>0.090</td>\n",
       "    </tr>\n",
       "    <tr>\n",
       "      <th>3</th>\n",
       "      <td>Misc</td>\n",
       "      <td>0.090</td>\n",
       "    </tr>\n",
       "    <tr>\n",
       "      <th>6</th>\n",
       "      <td>Racing</td>\n",
       "      <td>0.090</td>\n",
       "    </tr>\n",
       "    <tr>\n",
       "      <th>11</th>\n",
       "      <td>Strategy</td>\n",
       "      <td>0.060</td>\n",
       "    </tr>\n",
       "    <tr>\n",
       "      <th>5</th>\n",
       "      <td>Puzzle</td>\n",
       "      <td>0.045</td>\n",
       "    </tr>\n",
       "    <tr>\n",
       "      <th>1</th>\n",
       "      <td>Adventure</td>\n",
       "      <td>0.030</td>\n",
       "    </tr>\n",
       "  </tbody>\n",
       "</table>\n",
       "</div>"
      ],
      "text/plain": [
       "           genre  sales_sum\n",
       "8        Shooter      0.515\n",
       "10        Sports      0.180\n",
       "4       Platform      0.140\n",
       "2       Fighting      0.125\n",
       "7   Role-Playing      0.110\n",
       "9     Simulation      0.100\n",
       "0         Action      0.090\n",
       "3           Misc      0.090\n",
       "6         Racing      0.090\n",
       "11      Strategy      0.060\n",
       "5         Puzzle      0.045\n",
       "1      Adventure      0.030"
      ]
     },
     "execution_count": 30,
     "metadata": {},
     "output_type": "execute_result"
    }
   ],
   "source": [
    "df.groupby('genre')[['sales_sum']].median().reset_index().sort_values(by='sales_sum', ascending=False) "
   ]
  },
  {
   "cell_type": "markdown",
   "metadata": {},
   "source": [
    "**Вывод:** Жанры сгруппированы и расчитана медиана прибыли каждого жанра. Самые прибыльные жанр - шутер. Меньше всего приносящие прибыль стратегии и пазлы тд, если быть более точным примерно в 10-12 раз меньше данные жанры приносят меньше прибыли, чем самый популярный жанр. "
   ]
  },
  {
   "cell_type": "markdown",
   "metadata": {},
   "source": [
    "**Общий вывод к Шагу 3**\n",
    "\n",
    "В этой главе был произведен анализ данных таблицы. Выбран актуальный период для построения дальнейшего прогноза продаж компаний, выявлены передовики и общий тренд. Определены основные крупные платформы, которые приносят основные продажи. Проведена оценка влияния отзывов пользователей/критиков на количество продаж. "
   ]
  },
  {
   "cell_type": "markdown",
   "metadata": {},
   "source": [
    "## Шаг. Составиление портета пользователя каждого региона"
   ]
  },
  {
   "cell_type": "markdown",
   "metadata": {},
   "source": [
    "### Определение пользователя каждого региона"
   ]
  },
  {
   "cell_type": "markdown",
   "metadata": {},
   "source": [
    "#### Самые популярные платформы (топ-5)"
   ]
  },
  {
   "cell_type": "code",
   "execution_count": 31,
   "metadata": {},
   "outputs": [
    {
     "data": {
      "text/plain": [
       "Text(0, 0.5, 'Общая сумма показателя')"
      ]
     },
     "execution_count": 31,
     "metadata": {},
     "output_type": "execute_result"
    },
    {
     "data": {
      "image/png": "[encoded data removed]",
      "text/plain": [
       "<Figure size 432x288 with 1 Axes>"
      ]
     },
     "metadata": {
      "needs_background": "light"
     },
     "output_type": "display_data"
    }
   ],
   "source": [
    "df1 = (df.groupby('platform')[['na_sales']].sum().reset_index()\n",
    "       .sort_values(by='na_sales', ascending=False).head()\n",
    "       .reset_index(drop=True).reset_index())\n",
    "\n",
    "df2 = (df.groupby('platform')[['eu_sales']].sum().reset_index()\n",
    "       .sort_values(by='eu_sales', ascending=False).head()\n",
    "       .reset_index(drop=True).reset_index())\n",
    "\n",
    "df3 = (df.groupby('platform')[['jp_sales']].sum().reset_index()\n",
    "       .sort_values(by='jp_sales', ascending=False).head()\n",
    "       .reset_index(drop=True).reset_index())\n",
    "\n",
    "#В join не вышло передать 2 таблицы, не могу найти такую команду которая объединяла таблицы по индексу, а не столбцу. поэтому так намудрил\n",
    "df_12 = df1.merge(df2,  on='index')\n",
    "df_12.merge(df3,  on='index').drop(columns='index').plot()\n",
    "plt.title('График кол-ва продаж от отзывов')\n",
    "plt.xlabel(\"Компании\")\n",
    "plt.ylabel(\"Общая сумма показателя\")"
   ]
  },
  {
   "cell_type": "markdown",
   "metadata": {},
   "source": [
    "Больше всего продаж приходиться не Северную Америку, а меньше всего на Японию. Крупнейшие игровые компании относятся к Америке, следовательно и продаж происходит там больше."
   ]
  },
  {
   "cell_type": "markdown",
   "metadata": {},
   "source": [
    "#### Самые популярные жанры (топ-5)"
   ]
  },
  {
   "cell_type": "code",
   "execution_count": 32,
   "metadata": {},
   "outputs": [
    {
     "data": {
      "text/html": [
       "<div>\n",
       "<style scoped>\n",
       "    .dataframe tbody tr th:only-of-type {\n",
       "        vertical-align: middle;\n",
       "    }\n",
       "\n",
       "    .dataframe tbody tr th {\n",
       "        vertical-align: top;\n",
       "    }\n",
       "\n",
       "    .dataframe thead th {\n",
       "        text-align: right;\n",
       "    }\n",
       "</style>\n",
       "<table border=\"1\" class=\"dataframe\">\n",
       "  <thead>\n",
       "    <tr style=\"text-align: right;\">\n",
       "      <th></th>\n",
       "      <th>genre</th>\n",
       "      <th>na_sales</th>\n",
       "    </tr>\n",
       "  </thead>\n",
       "  <tbody>\n",
       "    <tr>\n",
       "      <th>8</th>\n",
       "      <td>Shooter</td>\n",
       "      <td>79.02</td>\n",
       "    </tr>\n",
       "    <tr>\n",
       "      <th>0</th>\n",
       "      <td>Action</td>\n",
       "      <td>72.53</td>\n",
       "    </tr>\n",
       "    <tr>\n",
       "      <th>10</th>\n",
       "      <td>Sports</td>\n",
       "      <td>46.13</td>\n",
       "    </tr>\n",
       "    <tr>\n",
       "      <th>7</th>\n",
       "      <td>Role-Playing</td>\n",
       "      <td>33.47</td>\n",
       "    </tr>\n",
       "    <tr>\n",
       "      <th>3</th>\n",
       "      <td>Misc</td>\n",
       "      <td>15.05</td>\n",
       "    </tr>\n",
       "  </tbody>\n",
       "</table>\n",
       "</div>"
      ],
      "text/plain": [
       "           genre  na_sales\n",
       "8        Shooter     79.02\n",
       "0         Action     72.53\n",
       "10        Sports     46.13\n",
       "7   Role-Playing     33.47\n",
       "3           Misc     15.05"
      ]
     },
     "execution_count": 32,
     "metadata": {},
     "output_type": "execute_result"
    }
   ],
   "source": [
    "df.groupby('genre')[['na_sales']].sum().reset_index().sort_values(by='na_sales', ascending=False).head() #США"
   ]
  },
  {
   "cell_type": "code",
   "execution_count": 33,
   "metadata": {},
   "outputs": [
    {
     "data": {
      "text/html": [
       "<div>\n",
       "<style scoped>\n",
       "    .dataframe tbody tr th:only-of-type {\n",
       "        vertical-align: middle;\n",
       "    }\n",
       "\n",
       "    .dataframe tbody tr th {\n",
       "        vertical-align: top;\n",
       "    }\n",
       "\n",
       "    .dataframe thead th {\n",
       "        text-align: right;\n",
       "    }\n",
       "</style>\n",
       "<table border=\"1\" class=\"dataframe\">\n",
       "  <thead>\n",
       "    <tr style=\"text-align: right;\">\n",
       "      <th></th>\n",
       "      <th>genre</th>\n",
       "      <th>eu_sales</th>\n",
       "    </tr>\n",
       "  </thead>\n",
       "  <tbody>\n",
       "    <tr>\n",
       "      <th>0</th>\n",
       "      <td>Action</td>\n",
       "      <td>74.68</td>\n",
       "    </tr>\n",
       "    <tr>\n",
       "      <th>8</th>\n",
       "      <td>Shooter</td>\n",
       "      <td>65.52</td>\n",
       "    </tr>\n",
       "    <tr>\n",
       "      <th>10</th>\n",
       "      <td>Sports</td>\n",
       "      <td>45.73</td>\n",
       "    </tr>\n",
       "    <tr>\n",
       "      <th>7</th>\n",
       "      <td>Role-Playing</td>\n",
       "      <td>28.17</td>\n",
       "    </tr>\n",
       "    <tr>\n",
       "      <th>6</th>\n",
       "      <td>Racing</td>\n",
       "      <td>14.13</td>\n",
       "    </tr>\n",
       "  </tbody>\n",
       "</table>\n",
       "</div>"
      ],
      "text/plain": [
       "           genre  eu_sales\n",
       "0         Action     74.68\n",
       "8        Shooter     65.52\n",
       "10        Sports     45.73\n",
       "7   Role-Playing     28.17\n",
       "6         Racing     14.13"
      ]
     },
     "execution_count": 33,
     "metadata": {},
     "output_type": "execute_result"
    }
   ],
   "source": [
    "df.groupby('genre')[['eu_sales']].sum().reset_index().sort_values(by='eu_sales', ascending=False).head() #ЕС"
   ]
  },
  {
   "cell_type": "code",
   "execution_count": 34,
   "metadata": {},
   "outputs": [
    {
     "data": {
      "text/html": [
       "<div>\n",
       "<style scoped>\n",
       "    .dataframe tbody tr th:only-of-type {\n",
       "        vertical-align: middle;\n",
       "    }\n",
       "\n",
       "    .dataframe tbody tr th {\n",
       "        vertical-align: top;\n",
       "    }\n",
       "\n",
       "    .dataframe thead th {\n",
       "        text-align: right;\n",
       "    }\n",
       "</style>\n",
       "<table border=\"1\" class=\"dataframe\">\n",
       "  <thead>\n",
       "    <tr style=\"text-align: right;\">\n",
       "      <th></th>\n",
       "      <th>genre</th>\n",
       "      <th>jp_sales</th>\n",
       "    </tr>\n",
       "  </thead>\n",
       "  <tbody>\n",
       "    <tr>\n",
       "      <th>7</th>\n",
       "      <td>Role-Playing</td>\n",
       "      <td>31.16</td>\n",
       "    </tr>\n",
       "    <tr>\n",
       "      <th>0</th>\n",
       "      <td>Action</td>\n",
       "      <td>29.58</td>\n",
       "    </tr>\n",
       "    <tr>\n",
       "      <th>2</th>\n",
       "      <td>Fighting</td>\n",
       "      <td>6.37</td>\n",
       "    </tr>\n",
       "    <tr>\n",
       "      <th>3</th>\n",
       "      <td>Misc</td>\n",
       "      <td>5.61</td>\n",
       "    </tr>\n",
       "    <tr>\n",
       "      <th>8</th>\n",
       "      <td>Shooter</td>\n",
       "      <td>4.87</td>\n",
       "    </tr>\n",
       "  </tbody>\n",
       "</table>\n",
       "</div>"
      ],
      "text/plain": [
       "          genre  jp_sales\n",
       "7  Role-Playing     31.16\n",
       "0        Action     29.58\n",
       "2      Fighting      6.37\n",
       "3          Misc      5.61\n",
       "8       Shooter      4.87"
      ]
     },
     "execution_count": 34,
     "metadata": {},
     "output_type": "execute_result"
    }
   ],
   "source": [
    "df.groupby('genre')[['jp_sales']].sum().reset_index().sort_values(by='jp_sales', ascending=False).head() #JP"
   ]
  },
  {
   "cell_type": "markdown",
   "metadata": {},
   "source": [
    "Жанры северной Америки, Европы и Японии очень схожи, только различаются ТОП 1 жанр Японии. Скорее всего этот жанр находиться на первом месте в Японии, потому что в данной стране свое немного отличающиеся представление об играх. "
   ]
  },
  {
   "cell_type": "markdown",
   "metadata": {},
   "source": [
    "#### Влияние рейтинга ESRB на продажи в отдельных регионах"
   ]
  },
  {
   "cell_type": "code",
   "execution_count": 35,
   "metadata": {},
   "outputs": [
    {
     "data": {
      "text/html": [
       "<div>\n",
       "<style scoped>\n",
       "    .dataframe tbody tr th:only-of-type {\n",
       "        vertical-align: middle;\n",
       "    }\n",
       "\n",
       "    .dataframe tbody tr th {\n",
       "        vertical-align: top;\n",
       "    }\n",
       "\n",
       "    .dataframe thead th {\n",
       "        text-align: right;\n",
       "    }\n",
       "</style>\n",
       "<table border=\"1\" class=\"dataframe\">\n",
       "  <thead>\n",
       "    <tr style=\"text-align: right;\">\n",
       "      <th></th>\n",
       "      <th>rating</th>\n",
       "      <th>na_sales</th>\n",
       "    </tr>\n",
       "  </thead>\n",
       "  <tbody>\n",
       "    <tr>\n",
       "      <th>2</th>\n",
       "      <td>M</td>\n",
       "      <td>96.42</td>\n",
       "    </tr>\n",
       "    <tr>\n",
       "      <th>0</th>\n",
       "      <td>E</td>\n",
       "      <td>50.74</td>\n",
       "    </tr>\n",
       "    <tr>\n",
       "      <th>3</th>\n",
       "      <td>T</td>\n",
       "      <td>38.95</td>\n",
       "    </tr>\n",
       "    <tr>\n",
       "      <th>1</th>\n",
       "      <td>E10+</td>\n",
       "      <td>33.23</td>\n",
       "    </tr>\n",
       "  </tbody>\n",
       "</table>\n",
       "</div>"
      ],
      "text/plain": [
       "  rating  na_sales\n",
       "2      M     96.42\n",
       "0      E     50.74\n",
       "3      T     38.95\n",
       "1   E10+     33.23"
      ]
     },
     "execution_count": 35,
     "metadata": {},
     "output_type": "execute_result"
    }
   ],
   "source": [
    "df.groupby('rating')[['na_sales']].sum().reset_index().sort_values(by='na_sales', ascending=False) #США"
   ]
  },
  {
   "cell_type": "code",
   "execution_count": 36,
   "metadata": {},
   "outputs": [
    {
     "data": {
      "text/html": [
       "<div>\n",
       "<style scoped>\n",
       "    .dataframe tbody tr th:only-of-type {\n",
       "        vertical-align: middle;\n",
       "    }\n",
       "\n",
       "    .dataframe tbody tr th {\n",
       "        vertical-align: top;\n",
       "    }\n",
       "\n",
       "    .dataframe thead th {\n",
       "        text-align: right;\n",
       "    }\n",
       "</style>\n",
       "<table border=\"1\" class=\"dataframe\">\n",
       "  <thead>\n",
       "    <tr style=\"text-align: right;\">\n",
       "      <th></th>\n",
       "      <th>rating</th>\n",
       "      <th>eu_sales</th>\n",
       "    </tr>\n",
       "  </thead>\n",
       "  <tbody>\n",
       "    <tr>\n",
       "      <th>2</th>\n",
       "      <td>M</td>\n",
       "      <td>93.44</td>\n",
       "    </tr>\n",
       "    <tr>\n",
       "      <th>0</th>\n",
       "      <td>E</td>\n",
       "      <td>58.06</td>\n",
       "    </tr>\n",
       "    <tr>\n",
       "      <th>3</th>\n",
       "      <td>T</td>\n",
       "      <td>34.07</td>\n",
       "    </tr>\n",
       "    <tr>\n",
       "      <th>1</th>\n",
       "      <td>E10+</td>\n",
       "      <td>26.16</td>\n",
       "    </tr>\n",
       "  </tbody>\n",
       "</table>\n",
       "</div>"
      ],
      "text/plain": [
       "  rating  eu_sales\n",
       "2      M     93.44\n",
       "0      E     58.06\n",
       "3      T     34.07\n",
       "1   E10+     26.16"
      ]
     },
     "execution_count": 36,
     "metadata": {},
     "output_type": "execute_result"
    }
   ],
   "source": [
    "df.groupby('rating')[['eu_sales']].sum().reset_index().sort_values(by='eu_sales', ascending=False) #ЕС"
   ]
  },
  {
   "cell_type": "code",
   "execution_count": 37,
   "metadata": {},
   "outputs": [
    {
     "data": {
      "text/html": [
       "<div>\n",
       "<style scoped>\n",
       "    .dataframe tbody tr th:only-of-type {\n",
       "        vertical-align: middle;\n",
       "    }\n",
       "\n",
       "    .dataframe tbody tr th {\n",
       "        vertical-align: top;\n",
       "    }\n",
       "\n",
       "    .dataframe thead th {\n",
       "        text-align: right;\n",
       "    }\n",
       "</style>\n",
       "<table border=\"1\" class=\"dataframe\">\n",
       "  <thead>\n",
       "    <tr style=\"text-align: right;\">\n",
       "      <th></th>\n",
       "      <th>rating</th>\n",
       "      <th>jp_sales</th>\n",
       "    </tr>\n",
       "  </thead>\n",
       "  <tbody>\n",
       "    <tr>\n",
       "      <th>3</th>\n",
       "      <td>T</td>\n",
       "      <td>14.78</td>\n",
       "    </tr>\n",
       "    <tr>\n",
       "      <th>0</th>\n",
       "      <td>E</td>\n",
       "      <td>8.94</td>\n",
       "    </tr>\n",
       "    <tr>\n",
       "      <th>2</th>\n",
       "      <td>M</td>\n",
       "      <td>8.01</td>\n",
       "    </tr>\n",
       "    <tr>\n",
       "      <th>1</th>\n",
       "      <td>E10+</td>\n",
       "      <td>4.46</td>\n",
       "    </tr>\n",
       "  </tbody>\n",
       "</table>\n",
       "</div>"
      ],
      "text/plain": [
       "  rating  jp_sales\n",
       "3      T     14.78\n",
       "0      E      8.94\n",
       "2      M      8.01\n",
       "1   E10+      4.46"
      ]
     },
     "execution_count": 37,
     "metadata": {},
     "output_type": "execute_result"
    }
   ],
   "source": [
    "df.groupby('rating')[['jp_sales']].sum().reset_index().sort_values(by='jp_sales', ascending=False) #JP"
   ]
  },
  {
   "cell_type": "code",
   "execution_count": 38,
   "metadata": {},
   "outputs": [
    {
     "data": {
      "text/html": [
       "<div>\n",
       "<style scoped>\n",
       "    .dataframe tbody tr th:only-of-type {\n",
       "        vertical-align: middle;\n",
       "    }\n",
       "\n",
       "    .dataframe tbody tr th {\n",
       "        vertical-align: top;\n",
       "    }\n",
       "\n",
       "    .dataframe thead th {\n",
       "        text-align: right;\n",
       "    }\n",
       "</style>\n",
       "<table border=\"1\" class=\"dataframe\">\n",
       "  <thead>\n",
       "    <tr style=\"text-align: right;\">\n",
       "      <th></th>\n",
       "      <th>rating</th>\n",
       "      <th>other_sales</th>\n",
       "    </tr>\n",
       "  </thead>\n",
       "  <tbody>\n",
       "    <tr>\n",
       "      <th>2</th>\n",
       "      <td>M</td>\n",
       "      <td>28.67</td>\n",
       "    </tr>\n",
       "    <tr>\n",
       "      <th>0</th>\n",
       "      <td>E</td>\n",
       "      <td>15.39</td>\n",
       "    </tr>\n",
       "    <tr>\n",
       "      <th>3</th>\n",
       "      <td>T</td>\n",
       "      <td>11.33</td>\n",
       "    </tr>\n",
       "    <tr>\n",
       "      <th>1</th>\n",
       "      <td>E10+</td>\n",
       "      <td>7.83</td>\n",
       "    </tr>\n",
       "  </tbody>\n",
       "</table>\n",
       "</div>"
      ],
      "text/plain": [
       "  rating  other_sales\n",
       "2      M        28.67\n",
       "0      E        15.39\n",
       "3      T        11.33\n",
       "1   E10+         7.83"
      ]
     },
     "execution_count": 38,
     "metadata": {},
     "output_type": "execute_result"
    }
   ],
   "source": [
    "df.groupby('rating')[['other_sales']].sum().reset_index().sort_values(by='other_sales', ascending=False) #Other"
   ]
  },
  {
   "cell_type": "markdown",
   "metadata": {},
   "source": [
    "Рейтинг во всех выбранных регионах снова практически совпал. В Японии на 2 месте находится Т – игры для лиц от 13 лет, когда как в других странах М – игры для взрослых.\n",
    "Лучше всего продаются игры с рейтингом Е – Для всех, Потом идет М, и Т. "
   ]
  },
  {
   "cell_type": "markdown",
   "metadata": {},
   "source": [
    "**Вывод:** Пользователь из Северной Америки, достаточно активный пользователь, который отдает большое предпочтение жанрам экшен, спорт и шутер, покупает достаточно большое количество игр. \n",
    "Европейский пользователь, более сдержан в покупках имеет такие же предпочтения в жанрах. Две достаточно схожих группы. \n",
    "Пользователь и Японии, меньше всех приносит доходов для компаний. Имеет предпочтение играть в ролевые игры, причем пользователи частично придерживаются возрастному цензору в отличие от других стран.  "
   ]
  },
  {
   "cell_type": "markdown",
   "metadata": {},
   "source": [
    "## Шаг. Проверка гипотиз"
   ]
  },
  {
   "cell_type": "markdown",
   "metadata": {},
   "source": [
    "### Средние пользовательские рейтинги платформ Xbox One и PC одинаковые"
   ]
  },
  {
   "cell_type": "code",
   "execution_count": 40,
   "metadata": {},
   "outputs": [
    {
     "name": "stdout",
     "output_type": "stream",
     "text": [
      "p-значение: 0.10120317946695495\n",
      "Не получилось отвергнуть нулевую гипотезу\n"
     ]
    }
   ],
   "source": [
    "xone_mean = df[(df['platform']=='XOne')]['user_score'].fillna(df['user_score'].mean())\n",
    "pc_mean = df[(df['platform']=='PC')]['user_score'].fillna(df['user_score'].mean())\n",
    "\n",
    "alpha = 0.05\n",
    "\n",
    "results = st.ttest_ind(xone_mean, pc_mean, equal_var=False)\n",
    "\n",
    "print ('p-значение:', results.pvalue)\n",
    "if results.pvalue < alpha:\n",
    "    print('Отвергаем нулевую гипотизу')\n",
    "else:\n",
    "    print('Не получилось отвергнуть нулевую гипотезу')"
   ]
  },
  {
   "cell_type": "markdown",
   "metadata": {},
   "source": [
    "Нулевая гипотеза средний пользовательский рейтинг платформы Xbox One и ПК равны, а альтернативная гипотеза средний рейтинг PC и Xbok не равны. Уровень статистической значимости выбран 0.05, такое значение выбрано с учетом отклонения от предпологаемого значения. Статистическая значимость - определяет, где находиться граница и задает вероятность отклонения от центра распределения, которое уже нельзя списать на случайность и потому следует считать значимым. \n",
    "\n",
    "Принцип выбора метода: необходимо сравнить две генеральные совокупности, разного размера, на равность. Рассматриваем двухстороннюю гипотезу.  \n",
    "P-value больше выбранного уровня статистической значимости, т.е. нулевая гипотеза не отвергается в пользу альтернативной.  Другими словами, средний рейтинг двух платформ совпадает.\n",
    "\n",
    "Пропуски отзывов заполнены средним значением, т.к. если игра устроила большинство пользователей, то и оставшееся количество примерно так же ее оценят. "
   ]
  },
  {
   "cell_type": "markdown",
   "metadata": {},
   "source": [
    "### Средние пользовательские рейтинги жанров Action и Sports разные"
   ]
  },
  {
   "cell_type": "code",
   "execution_count": 41,
   "metadata": {},
   "outputs": [
    {
     "name": "stdout",
     "output_type": "stream",
     "text": [
      "p-значение: 4.143405930548463e-14\n",
      "Отвергаем нулевую гипотизу\n"
     ]
    }
   ],
   "source": [
    "genre_action = df[(df['genre']=='Action')]['user_score'].fillna(df['user_score'].mean())\n",
    "genre_sport = df[(df['genre']=='Sports')]['user_score'].fillna(df['user_score'].mean())\n",
    "\n",
    "alpha = 0.05\n",
    "\n",
    "results = st.ttest_ind(genre_action, genre_sport, equal_var=False)\n",
    "\n",
    "print ('p-значение:', results.pvalue)\n",
    "if results.pvalue < alpha:\n",
    "    print('Отвергаем нулевую гипотизу')\n",
    "else:\n",
    "    print('Не получилось отвергнуть нулевую гипотезу')"
   ]
  },
  {
   "cell_type": "markdown",
   "metadata": {},
   "source": [
    "Пояснение:\n",
    "\n",
    "Нулевая гипотеза средний пользовательский рейтинг жанра Экшен и спорт равны, а альтернативная гипотеза средний пользовательский рейтинг жанров Экшен и Спорт разные. Выьран классический уровень доверия тут 95 %, даем возможность отклониться.\n",
    "\n",
    "Принцип выбора метода: сравниваем две генеральные совокупности, разного размера, на различие. Рассматриваем двухстороннюю гипотезу. \n",
    "P-value значительно меньше выбранного уровня статистической значимости нулевая гипотеза отвергается в пользу альтернативной гипотезы.  Другими словами, рейтинг двух жанров различаются.\n",
    "    \n",
    "Взятые две независимые выборки для сравнения двух средних пользовательских рейтингов платформ или жанров. Есть специальной метод для проверки равенстве среднего двух генеральных совокупностям, по взятым из них выборкам - метод st.ttest_ind()."
   ]
  },
  {
   "cell_type": "markdown",
   "metadata": {},
   "source": [
    "## Шаг. Общий вывод"
   ]
  },
  {
   "cell_type": "markdown",
   "metadata": {},
   "source": [
    "В данном проекте была проведено исследование по количеству продаж игры в разных странах. \n",
    "\n",
    "1.\tОткрытие файла и первичное ознакомление;\n",
    "2.\tПредобработка данных. Подготовка таблицы к исследованию и исправление ошибок и недочетов при заполнении данных;\n",
    "3.\tИсследование данных. Определение основных жанров, в которые предпочитают пользователи, выявление крупнейших компаний, определение актуального временного периода;\n",
    "4.\tСоздание предпочтения пользователей для каждого региона;\n",
    "5.\tПроверка гипотез; \n",
    "\n",
    "Из данного исследования можно сделать вывод, что в 2017 год все компании входят со сниженным количеством продаж, следовательно больших доходностей не стоит ждать от продаж. Но стоит рекламировать продукцию компаний, которые остаются с достаточно высокими продажами на фоне других: PSP, XOne, PS3, X360. \n",
    "\n",
    "Так же необходимо прислушиваться к отзывам пользователей и делать ставку на самые популярные жанры: Экшен, Спорт, Шутер, музыкальны и тд. Только в Японии чуточку другое предпочтение и нужно в основном делать акцент в рекламе на ролевые игры с возрастным цензором.\n",
    "\n",
    "Проверка гипотез показала, что рейтинги платформ Xbox One и PC не совпадает, это отличие надо иметь в виду, так же, как и Отличающийся пользовательский рейтинг жанров Экшен и Спорт. \n",
    "\n",
    "Подводя итог Основные жанры: Экшен, Спорт и Шутеры и тд. От компаний: PSP, XOne, PS3, X360. \tНа них нужно делать акцент при рекламе продукции – это самые денежные направления. \n"
   ]
  }
 ],
 "metadata": {
  "ExecuteTimeLog": [
   {
    "duration": 421,
    "start_time": "2023-04-12T03:46:52.757Z"
   },
   {
    "duration": 175,
    "start_time": "2023-04-12T03:47:10.885Z"
   },
   {
    "duration": 296,
    "start_time": "2023-04-12T03:47:25.108Z"
   },
   {
    "duration": 61,
    "start_time": "2023-04-12T03:47:52.335Z"
   },
   {
    "duration": 33,
    "start_time": "2023-04-12T03:48:00.611Z"
   },
   {
    "duration": 9,
    "start_time": "2023-04-12T03:54:04.367Z"
   },
   {
    "duration": 4,
    "start_time": "2023-04-12T03:57:37.362Z"
   },
   {
    "duration": 4,
    "start_time": "2023-04-12T04:01:21.734Z"
   },
   {
    "duration": 5,
    "start_time": "2023-04-12T04:01:30.953Z"
   },
   {
    "duration": 21,
    "start_time": "2023-04-12T04:02:59.916Z"
   },
   {
    "duration": 18,
    "start_time": "2023-04-12T04:03:06.423Z"
   },
   {
    "duration": 2429,
    "start_time": "2023-04-12T04:16:23.319Z"
   },
   {
    "duration": 7,
    "start_time": "2023-04-12T04:16:44.028Z"
   },
   {
    "duration": 1755,
    "start_time": "2023-04-12T04:16:58.723Z"
   },
   {
    "duration": 18,
    "start_time": "2023-04-12T04:17:29.840Z"
   },
   {
    "duration": 39,
    "start_time": "2023-04-12T04:18:46.609Z"
   },
   {
    "duration": 9,
    "start_time": "2023-04-12T04:39:38.424Z"
   },
   {
    "duration": 8,
    "start_time": "2023-04-12T04:39:49.343Z"
   },
   {
    "duration": 12,
    "start_time": "2023-04-12T04:42:57.783Z"
   },
   {
    "duration": 11,
    "start_time": "2023-04-12T04:44:10.880Z"
   },
   {
    "duration": 5,
    "start_time": "2023-04-12T04:44:40.334Z"
   },
   {
    "duration": 9,
    "start_time": "2023-04-12T04:44:51.618Z"
   },
   {
    "duration": 13,
    "start_time": "2023-04-12T04:45:53.763Z"
   },
   {
    "duration": 11,
    "start_time": "2023-04-12T04:53:32.662Z"
   },
   {
    "duration": 24,
    "start_time": "2023-04-12T04:53:54.485Z"
   },
   {
    "duration": 18,
    "start_time": "2023-04-12T04:55:51.783Z"
   },
   {
    "duration": 8,
    "start_time": "2023-04-12T05:09:10.645Z"
   },
   {
    "duration": 8,
    "start_time": "2023-04-12T05:09:28.222Z"
   },
   {
    "duration": 1375,
    "start_time": "2023-04-12T05:09:46.261Z"
   },
   {
    "duration": 14,
    "start_time": "2023-04-12T05:09:59.565Z"
   },
   {
    "duration": 13,
    "start_time": "2023-04-12T05:10:30.371Z"
   },
   {
    "duration": 17,
    "start_time": "2023-04-12T05:10:40.858Z"
   },
   {
    "duration": 22,
    "start_time": "2023-04-12T05:10:45.030Z"
   },
   {
    "duration": 18,
    "start_time": "2023-04-12T05:13:42.602Z"
   },
   {
    "duration": 20,
    "start_time": "2023-04-12T05:13:53.033Z"
   },
   {
    "duration": 486,
    "start_time": "2023-04-12T05:14:10.487Z"
   },
   {
    "duration": 77,
    "start_time": "2023-04-12T05:14:10.976Z"
   },
   {
    "duration": 22,
    "start_time": "2023-04-12T05:14:11.055Z"
   },
   {
    "duration": 29,
    "start_time": "2023-04-12T05:14:11.079Z"
   },
   {
    "duration": 17,
    "start_time": "2023-04-12T05:14:11.113Z"
   },
   {
    "duration": 23,
    "start_time": "2023-04-12T05:14:11.132Z"
   },
   {
    "duration": 11,
    "start_time": "2023-04-12T05:14:11.156Z"
   },
   {
    "duration": 11,
    "start_time": "2023-04-12T05:14:11.168Z"
   },
   {
    "duration": 11,
    "start_time": "2023-04-12T05:14:11.180Z"
   },
   {
    "duration": 51,
    "start_time": "2023-04-12T05:14:11.194Z"
   },
   {
    "duration": 23,
    "start_time": "2023-04-12T05:14:11.246Z"
   },
   {
    "duration": 34,
    "start_time": "2023-04-12T05:14:11.271Z"
   },
   {
    "duration": 443,
    "start_time": "2023-04-12T08:17:23.873Z"
   },
   {
    "duration": 55,
    "start_time": "2023-04-12T08:17:24.319Z"
   },
   {
    "duration": 37,
    "start_time": "2023-04-12T08:17:24.376Z"
   },
   {
    "duration": 23,
    "start_time": "2023-04-12T08:17:24.415Z"
   },
   {
    "duration": 22,
    "start_time": "2023-04-12T08:17:24.440Z"
   },
   {
    "duration": 19,
    "start_time": "2023-04-12T08:17:24.464Z"
   },
   {
    "duration": 33,
    "start_time": "2023-04-12T08:17:24.485Z"
   },
   {
    "duration": 18,
    "start_time": "2023-04-12T08:17:24.519Z"
   },
   {
    "duration": 26,
    "start_time": "2023-04-12T08:17:24.539Z"
   },
   {
    "duration": 17,
    "start_time": "2023-04-12T08:17:24.567Z"
   },
   {
    "duration": 51,
    "start_time": "2023-04-12T08:17:24.586Z"
   },
   {
    "duration": 31,
    "start_time": "2023-04-12T08:17:24.639Z"
   },
   {
    "duration": 9,
    "start_time": "2023-04-12T08:18:04.472Z"
   },
   {
    "duration": 16,
    "start_time": "2023-04-12T08:18:13.406Z"
   },
   {
    "duration": 8,
    "start_time": "2023-04-12T08:18:15.384Z"
   },
   {
    "duration": 4,
    "start_time": "2023-04-12T08:18:25.530Z"
   },
   {
    "duration": 464,
    "start_time": "2023-04-12T08:18:55.173Z"
   },
   {
    "duration": 78,
    "start_time": "2023-04-12T08:18:55.639Z"
   },
   {
    "duration": 22,
    "start_time": "2023-04-12T08:18:55.720Z"
   },
   {
    "duration": 15,
    "start_time": "2023-04-12T08:18:55.745Z"
   },
   {
    "duration": 4,
    "start_time": "2023-04-12T08:18:55.762Z"
   },
   {
    "duration": 6,
    "start_time": "2023-04-12T08:18:55.767Z"
   },
   {
    "duration": 24,
    "start_time": "2023-04-12T08:18:55.795Z"
   },
   {
    "duration": 18,
    "start_time": "2023-04-12T08:18:55.821Z"
   },
   {
    "duration": 7,
    "start_time": "2023-04-12T08:18:55.841Z"
   },
   {
    "duration": 28,
    "start_time": "2023-04-12T08:18:55.851Z"
   },
   {
    "duration": 33,
    "start_time": "2023-04-12T08:18:55.881Z"
   },
   {
    "duration": 18,
    "start_time": "2023-04-12T08:18:55.916Z"
   },
   {
    "duration": 24,
    "start_time": "2023-04-12T08:18:55.936Z"
   },
   {
    "duration": 16,
    "start_time": "2023-04-12T08:19:55.901Z"
   },
   {
    "duration": 24,
    "start_time": "2023-04-12T08:22:59.470Z"
   },
   {
    "duration": 11,
    "start_time": "2023-04-12T08:24:39.932Z"
   },
   {
    "duration": 7,
    "start_time": "2023-04-12T08:24:56.718Z"
   },
   {
    "duration": 1311,
    "start_time": "2023-04-12T08:25:47.300Z"
   },
   {
    "duration": 9,
    "start_time": "2023-04-12T08:26:54.664Z"
   },
   {
    "duration": 25,
    "start_time": "2023-04-12T08:26:59.842Z"
   },
   {
    "duration": 4,
    "start_time": "2023-04-12T08:30:25.527Z"
   },
   {
    "duration": 25,
    "start_time": "2023-04-12T08:30:28.605Z"
   },
   {
    "duration": 17,
    "start_time": "2023-04-12T08:49:58.500Z"
   },
   {
    "duration": 60,
    "start_time": "2023-04-12T11:26:41.527Z"
   },
   {
    "duration": 442,
    "start_time": "2023-04-12T11:26:51.559Z"
   },
   {
    "duration": 58,
    "start_time": "2023-04-12T11:26:52.003Z"
   },
   {
    "duration": 22,
    "start_time": "2023-04-12T11:26:52.063Z"
   },
   {
    "duration": 19,
    "start_time": "2023-04-12T11:26:52.087Z"
   },
   {
    "duration": 11,
    "start_time": "2023-04-12T11:26:52.108Z"
   },
   {
    "duration": 18,
    "start_time": "2023-04-12T11:26:52.121Z"
   },
   {
    "duration": 16,
    "start_time": "2023-04-12T11:26:52.141Z"
   },
   {
    "duration": 25,
    "start_time": "2023-04-12T11:26:52.159Z"
   },
   {
    "duration": 10,
    "start_time": "2023-04-12T11:26:52.187Z"
   },
   {
    "duration": 30,
    "start_time": "2023-04-12T11:26:52.199Z"
   },
   {
    "duration": 28,
    "start_time": "2023-04-12T11:26:52.231Z"
   },
   {
    "duration": 8,
    "start_time": "2023-04-12T11:26:52.261Z"
   },
   {
    "duration": 33,
    "start_time": "2023-04-12T11:26:52.271Z"
   },
   {
    "duration": 48,
    "start_time": "2023-04-12T11:26:52.307Z"
   },
   {
    "duration": 8,
    "start_time": "2023-04-12T11:27:02.444Z"
   },
   {
    "duration": 6,
    "start_time": "2023-04-12T11:27:10.448Z"
   },
   {
    "duration": 24,
    "start_time": "2023-04-12T11:27:29.593Z"
   },
   {
    "duration": 9,
    "start_time": "2023-04-12T11:28:40.109Z"
   },
   {
    "duration": 18,
    "start_time": "2023-04-12T11:28:49.667Z"
   },
   {
    "duration": 26,
    "start_time": "2023-04-12T11:37:53.368Z"
   },
   {
    "duration": 29,
    "start_time": "2023-04-12T11:39:37.229Z"
   },
   {
    "duration": 8,
    "start_time": "2023-04-12T11:40:37.294Z"
   },
   {
    "duration": 19,
    "start_time": "2023-04-12T11:57:24.140Z"
   },
   {
    "duration": 5,
    "start_time": "2023-04-12T11:57:54.699Z"
   },
   {
    "duration": 18,
    "start_time": "2023-04-12T11:58:04.250Z"
   },
   {
    "duration": 28,
    "start_time": "2023-04-12T11:58:41.673Z"
   },
   {
    "duration": 28,
    "start_time": "2023-04-12T12:02:41.849Z"
   },
   {
    "duration": 15,
    "start_time": "2023-04-12T12:03:47.360Z"
   },
   {
    "duration": 44,
    "start_time": "2023-04-12T12:04:40.650Z"
   },
   {
    "duration": 42,
    "start_time": "2023-04-12T12:05:21.710Z"
   },
   {
    "duration": 35,
    "start_time": "2023-04-12T12:11:00.630Z"
   },
   {
    "duration": 61,
    "start_time": "2023-04-12T19:37:16.820Z"
   },
   {
    "duration": 478,
    "start_time": "2023-04-12T19:37:26.930Z"
   },
   {
    "duration": 201,
    "start_time": "2023-04-12T19:37:27.410Z"
   },
   {
    "duration": 22,
    "start_time": "2023-04-12T19:37:27.613Z"
   },
   {
    "duration": 17,
    "start_time": "2023-04-12T19:37:27.637Z"
   },
   {
    "duration": 14,
    "start_time": "2023-04-12T19:37:27.657Z"
   },
   {
    "duration": 22,
    "start_time": "2023-04-12T19:37:27.673Z"
   },
   {
    "duration": 16,
    "start_time": "2023-04-12T19:37:27.697Z"
   },
   {
    "duration": 19,
    "start_time": "2023-04-12T19:37:27.715Z"
   },
   {
    "duration": 17,
    "start_time": "2023-04-12T19:37:27.735Z"
   },
   {
    "duration": 26,
    "start_time": "2023-04-12T19:37:27.755Z"
   },
   {
    "duration": 32,
    "start_time": "2023-04-12T19:37:27.784Z"
   },
   {
    "duration": 11,
    "start_time": "2023-04-12T19:37:27.818Z"
   },
   {
    "duration": 29,
    "start_time": "2023-04-12T19:37:27.830Z"
   },
   {
    "duration": 23,
    "start_time": "2023-04-12T19:37:27.862Z"
   },
   {
    "duration": 32,
    "start_time": "2023-04-12T19:37:27.887Z"
   },
   {
    "duration": 25,
    "start_time": "2023-04-12T19:37:27.921Z"
   },
   {
    "duration": 7,
    "start_time": "2023-04-12T19:37:50.284Z"
   },
   {
    "duration": 12,
    "start_time": "2023-04-12T19:37:56.943Z"
   },
   {
    "duration": 15,
    "start_time": "2023-04-12T19:39:25.445Z"
   },
   {
    "duration": 84,
    "start_time": "2023-04-12T19:39:54.430Z"
   },
   {
    "duration": 14,
    "start_time": "2023-04-12T19:40:15.133Z"
   },
   {
    "duration": 12,
    "start_time": "2023-04-12T19:40:45.787Z"
   },
   {
    "duration": 14,
    "start_time": "2023-04-12T19:40:56.096Z"
   },
   {
    "duration": 11,
    "start_time": "2023-04-12T19:41:16.493Z"
   },
   {
    "duration": 16,
    "start_time": "2023-04-12T19:41:24.964Z"
   },
   {
    "duration": 16,
    "start_time": "2023-04-12T19:41:40.960Z"
   },
   {
    "duration": 18,
    "start_time": "2023-04-12T19:42:28.352Z"
   },
   {
    "duration": 16,
    "start_time": "2023-04-12T19:43:10.278Z"
   },
   {
    "duration": 19,
    "start_time": "2023-04-12T19:44:45.097Z"
   },
   {
    "duration": 10,
    "start_time": "2023-04-12T19:45:19.104Z"
   },
   {
    "duration": 8,
    "start_time": "2023-04-12T19:48:41.219Z"
   },
   {
    "duration": 7,
    "start_time": "2023-04-12T19:49:09.867Z"
   },
   {
    "duration": 10,
    "start_time": "2023-04-12T19:49:30.338Z"
   },
   {
    "duration": 7,
    "start_time": "2023-04-12T19:49:33.439Z"
   },
   {
    "duration": 8,
    "start_time": "2023-04-12T19:49:40.753Z"
   },
   {
    "duration": 6,
    "start_time": "2023-04-12T19:49:41.298Z"
   },
   {
    "duration": 9,
    "start_time": "2023-04-12T19:50:29.673Z"
   },
   {
    "duration": 8,
    "start_time": "2023-04-12T19:50:30.338Z"
   },
   {
    "duration": 6,
    "start_time": "2023-04-12T19:50:35.483Z"
   },
   {
    "duration": 251,
    "start_time": "2023-04-12T19:51:02.174Z"
   },
   {
    "duration": 8,
    "start_time": "2023-04-12T19:52:58.612Z"
   },
   {
    "duration": 9,
    "start_time": "2023-04-12T20:02:36.238Z"
   },
   {
    "duration": 6,
    "start_time": "2023-04-12T20:02:53.381Z"
   },
   {
    "duration": 270,
    "start_time": "2023-04-12T20:02:54.468Z"
   },
   {
    "duration": 8,
    "start_time": "2023-04-12T20:03:04.109Z"
   },
   {
    "duration": 11,
    "start_time": "2023-04-12T20:11:43.513Z"
   },
   {
    "duration": 67,
    "start_time": "2023-04-12T20:38:56.116Z"
   },
   {
    "duration": 20,
    "start_time": "2023-04-12T20:39:32.195Z"
   },
   {
    "duration": 22,
    "start_time": "2023-04-12T20:39:48.973Z"
   },
   {
    "duration": 26,
    "start_time": "2023-04-12T20:40:06.956Z"
   },
   {
    "duration": 17,
    "start_time": "2023-04-12T20:40:28.194Z"
   },
   {
    "duration": 30,
    "start_time": "2023-04-12T20:40:40.432Z"
   },
   {
    "duration": 63,
    "start_time": "2023-04-12T20:43:24.126Z"
   },
   {
    "duration": 15,
    "start_time": "2023-04-12T20:43:43.721Z"
   },
   {
    "duration": 32,
    "start_time": "2023-04-12T20:44:15.160Z"
   },
   {
    "duration": 34,
    "start_time": "2023-04-12T20:44:40.456Z"
   },
   {
    "duration": 45,
    "start_time": "2023-04-12T20:44:52.922Z"
   },
   {
    "duration": 29,
    "start_time": "2023-04-12T20:46:44.961Z"
   },
   {
    "duration": 32,
    "start_time": "2023-04-12T20:49:45.961Z"
   },
   {
    "duration": 9,
    "start_time": "2023-04-12T20:49:56.803Z"
   },
   {
    "duration": 220,
    "start_time": "2023-04-12T20:50:02.672Z"
   },
   {
    "duration": 11,
    "start_time": "2023-04-12T20:59:46.090Z"
   },
   {
    "duration": 18,
    "start_time": "2023-04-12T21:00:09.778Z"
   },
   {
    "duration": 19,
    "start_time": "2023-04-12T21:00:53.830Z"
   },
   {
    "duration": 18,
    "start_time": "2023-04-12T21:01:11.391Z"
   },
   {
    "duration": 61,
    "start_time": "2023-04-12T21:02:04.872Z"
   },
   {
    "duration": 16,
    "start_time": "2023-04-12T21:02:16.587Z"
   },
   {
    "duration": 23,
    "start_time": "2023-04-12T21:03:49.744Z"
   },
   {
    "duration": 20,
    "start_time": "2023-04-12T21:04:28.674Z"
   },
   {
    "duration": 16,
    "start_time": "2023-04-12T21:04:52.092Z"
   },
   {
    "duration": 16,
    "start_time": "2023-04-12T21:05:21.079Z"
   },
   {
    "duration": 16,
    "start_time": "2023-04-12T21:06:23.593Z"
   },
   {
    "duration": 15,
    "start_time": "2023-04-12T21:06:38.127Z"
   },
   {
    "duration": 53,
    "start_time": "2023-04-12T21:06:45.336Z"
   },
   {
    "duration": 10,
    "start_time": "2023-04-12T21:07:39.773Z"
   },
   {
    "duration": 7,
    "start_time": "2023-04-12T21:07:51.771Z"
   },
   {
    "duration": 80,
    "start_time": "2023-04-12T21:08:02.690Z"
   },
   {
    "duration": 82,
    "start_time": "2023-04-12T21:08:16.706Z"
   },
   {
    "duration": 46,
    "start_time": "2023-04-12T21:09:04.480Z"
   },
   {
    "duration": 12,
    "start_time": "2023-04-12T21:11:00.566Z"
   },
   {
    "duration": 55,
    "start_time": "2023-04-12T21:11:52.595Z"
   },
   {
    "duration": 52,
    "start_time": "2023-04-12T21:12:16.727Z"
   },
   {
    "duration": 32,
    "start_time": "2023-04-12T21:12:43.698Z"
   },
   {
    "duration": 35,
    "start_time": "2023-04-12T21:13:05.850Z"
   },
   {
    "duration": 37,
    "start_time": "2023-04-12T21:13:20.131Z"
   },
   {
    "duration": 53,
    "start_time": "2023-04-12T21:13:49.227Z"
   },
   {
    "duration": 8,
    "start_time": "2023-04-12T21:14:09.973Z"
   },
   {
    "duration": 7,
    "start_time": "2023-04-12T21:14:22.848Z"
   },
   {
    "duration": 33,
    "start_time": "2023-04-12T21:14:32.770Z"
   },
   {
    "duration": 10,
    "start_time": "2023-04-12T21:15:36.200Z"
   },
   {
    "duration": 55,
    "start_time": "2023-04-12T21:15:45.058Z"
   },
   {
    "duration": 43,
    "start_time": "2023-04-12T21:16:09.154Z"
   },
   {
    "duration": 57,
    "start_time": "2023-04-12T21:16:54.895Z"
   },
   {
    "duration": 69,
    "start_time": "2023-04-12T21:17:29.139Z"
   },
   {
    "duration": 55,
    "start_time": "2023-04-12T21:17:42.185Z"
   },
   {
    "duration": 56,
    "start_time": "2023-04-12T21:18:32.509Z"
   },
   {
    "duration": 73,
    "start_time": "2023-04-12T21:18:46.104Z"
   },
   {
    "duration": 44,
    "start_time": "2023-04-12T21:19:36.603Z"
   },
   {
    "duration": 53,
    "start_time": "2023-04-12T21:19:50.783Z"
   },
   {
    "duration": 6,
    "start_time": "2023-04-12T21:20:14.573Z"
   },
   {
    "duration": 65,
    "start_time": "2023-04-12T21:20:33.655Z"
   },
   {
    "duration": 7,
    "start_time": "2023-04-12T21:20:47.988Z"
   },
   {
    "duration": 55,
    "start_time": "2023-04-12T21:21:01.025Z"
   },
   {
    "duration": 56,
    "start_time": "2023-04-12T21:21:58.434Z"
   },
   {
    "duration": 65,
    "start_time": "2023-04-12T21:22:03.645Z"
   },
   {
    "duration": 72,
    "start_time": "2023-04-12T21:22:37.059Z"
   },
   {
    "duration": 67,
    "start_time": "2023-04-12T21:22:56.860Z"
   },
   {
    "duration": 25,
    "start_time": "2023-04-12T21:28:12.364Z"
   },
   {
    "duration": 19,
    "start_time": "2023-04-12T21:28:55.534Z"
   },
   {
    "duration": 15,
    "start_time": "2023-04-12T21:29:04.575Z"
   },
   {
    "duration": 72,
    "start_time": "2023-04-12T21:29:16.646Z"
   },
   {
    "duration": 21,
    "start_time": "2023-04-12T21:29:27.125Z"
   },
   {
    "duration": 23,
    "start_time": "2023-04-12T21:29:33.175Z"
   },
   {
    "duration": 19,
    "start_time": "2023-04-12T21:30:18.076Z"
   },
   {
    "duration": 17,
    "start_time": "2023-04-12T21:31:20.436Z"
   },
   {
    "duration": 5,
    "start_time": "2023-04-12T21:34:54.347Z"
   },
   {
    "duration": 3,
    "start_time": "2023-04-12T21:46:43.262Z"
   },
   {
    "duration": 2,
    "start_time": "2023-04-12T21:47:17.800Z"
   },
   {
    "duration": 3,
    "start_time": "2023-04-12T21:47:42.680Z"
   },
   {
    "duration": 3,
    "start_time": "2023-04-12T21:49:15.886Z"
   },
   {
    "duration": 107,
    "start_time": "2023-04-12T21:51:48.886Z"
   },
   {
    "duration": 419,
    "start_time": "2023-04-13T18:36:36.528Z"
   },
   {
    "duration": 119,
    "start_time": "2023-04-13T18:36:36.950Z"
   },
   {
    "duration": 31,
    "start_time": "2023-04-13T18:36:37.072Z"
   },
   {
    "duration": 21,
    "start_time": "2023-04-13T18:36:37.105Z"
   },
   {
    "duration": 5,
    "start_time": "2023-04-13T18:36:37.129Z"
   },
   {
    "duration": 4,
    "start_time": "2023-04-13T18:36:37.136Z"
   },
   {
    "duration": 6,
    "start_time": "2023-04-13T18:36:37.142Z"
   },
   {
    "duration": 6,
    "start_time": "2023-04-13T18:36:37.151Z"
   },
   {
    "duration": 18,
    "start_time": "2023-04-13T18:36:37.189Z"
   },
   {
    "duration": 15,
    "start_time": "2023-04-13T18:36:37.213Z"
   },
   {
    "duration": 17,
    "start_time": "2023-04-13T18:36:37.230Z"
   },
   {
    "duration": 5,
    "start_time": "2023-04-13T18:36:37.249Z"
   },
   {
    "duration": 49,
    "start_time": "2023-04-13T18:36:37.256Z"
   },
   {
    "duration": 16,
    "start_time": "2023-04-13T18:36:37.317Z"
   },
   {
    "duration": 7,
    "start_time": "2023-04-13T18:36:37.335Z"
   },
   {
    "duration": 7,
    "start_time": "2023-04-13T18:36:37.343Z"
   },
   {
    "duration": 4,
    "start_time": "2023-04-13T18:36:37.352Z"
   },
   {
    "duration": 51,
    "start_time": "2023-04-13T18:36:37.357Z"
   },
   {
    "duration": 85,
    "start_time": "2023-04-13T18:37:16.853Z"
   },
   {
    "duration": 72,
    "start_time": "2023-04-13T18:37:26.607Z"
   },
   {
    "duration": 68,
    "start_time": "2023-04-13T18:38:51.175Z"
   },
   {
    "duration": 61,
    "start_time": "2023-04-13T18:43:13.711Z"
   },
   {
    "duration": 26,
    "start_time": "2023-04-13T18:43:56.974Z"
   },
   {
    "duration": 78,
    "start_time": "2023-04-13T18:44:28.947Z"
   },
   {
    "duration": 54,
    "start_time": "2023-04-13T18:44:38.223Z"
   },
   {
    "duration": 16,
    "start_time": "2023-04-13T18:55:47.121Z"
   },
   {
    "duration": 2985,
    "start_time": "2023-04-13T18:57:30.223Z"
   },
   {
    "duration": 62,
    "start_time": "2023-04-13T18:57:52.374Z"
   },
   {
    "duration": 1233,
    "start_time": "2023-04-13T18:59:27.395Z"
   },
   {
    "duration": 53,
    "start_time": "2023-04-13T18:59:51.830Z"
   },
   {
    "duration": 76,
    "start_time": "2023-04-13T19:00:16.301Z"
   },
   {
    "duration": 1278,
    "start_time": "2023-04-13T19:00:25.730Z"
   },
   {
    "duration": 1341,
    "start_time": "2023-04-13T19:00:42.879Z"
   },
   {
    "duration": 559,
    "start_time": "2023-04-13T19:01:27.527Z"
   },
   {
    "duration": 542,
    "start_time": "2023-04-13T19:02:42.304Z"
   },
   {
    "duration": 65,
    "start_time": "2023-04-13T19:03:36.615Z"
   },
   {
    "duration": 4,
    "start_time": "2023-04-13T19:06:18.232Z"
   },
   {
    "duration": 11,
    "start_time": "2023-04-13T19:06:33.687Z"
   },
   {
    "duration": 11,
    "start_time": "2023-04-13T19:06:38.817Z"
   },
   {
    "duration": 11,
    "start_time": "2023-04-13T19:07:00.375Z"
   },
   {
    "duration": 11,
    "start_time": "2023-04-13T19:07:05.845Z"
   },
   {
    "duration": 16,
    "start_time": "2023-04-13T19:07:52.125Z"
   },
   {
    "duration": 11,
    "start_time": "2023-04-13T19:08:10.632Z"
   },
   {
    "duration": 11,
    "start_time": "2023-04-13T19:08:27.752Z"
   },
   {
    "duration": 12,
    "start_time": "2023-04-13T19:08:35.064Z"
   },
   {
    "duration": 18,
    "start_time": "2023-04-13T19:09:22.289Z"
   },
   {
    "duration": 16,
    "start_time": "2023-04-13T19:09:56.399Z"
   },
   {
    "duration": 11,
    "start_time": "2023-04-13T19:10:07.844Z"
   },
   {
    "duration": 17,
    "start_time": "2023-04-13T19:10:19.584Z"
   },
   {
    "duration": 12,
    "start_time": "2023-04-13T19:10:27.556Z"
   },
   {
    "duration": 12,
    "start_time": "2023-04-13T19:10:52.366Z"
   },
   {
    "duration": 1134,
    "start_time": "2023-04-13T19:14:17.675Z"
   },
   {
    "duration": 36,
    "start_time": "2023-04-13T19:14:30.927Z"
   },
   {
    "duration": 1160,
    "start_time": "2023-04-13T19:14:46.528Z"
   },
   {
    "duration": 325,
    "start_time": "2023-04-13T19:15:00.488Z"
   },
   {
    "duration": 293,
    "start_time": "2023-04-13T19:16:31.457Z"
   },
   {
    "duration": 269,
    "start_time": "2023-04-13T19:17:52.605Z"
   },
   {
    "duration": 309,
    "start_time": "2023-04-13T19:18:00.325Z"
   },
   {
    "duration": 488,
    "start_time": "2023-04-13T19:23:23.013Z"
   },
   {
    "duration": 266,
    "start_time": "2023-04-13T19:23:49.460Z"
   },
   {
    "duration": 290,
    "start_time": "2023-04-13T19:27:08.885Z"
   },
   {
    "duration": 523,
    "start_time": "2023-04-13T19:31:27.887Z"
   },
   {
    "duration": 384,
    "start_time": "2023-04-13T19:34:03.105Z"
   },
   {
    "duration": 72,
    "start_time": "2023-04-13T19:36:24.423Z"
   },
   {
    "duration": 64,
    "start_time": "2023-04-13T19:36:30.644Z"
   },
   {
    "duration": 295,
    "start_time": "2023-04-13T19:36:43.783Z"
   },
   {
    "duration": 495,
    "start_time": "2023-04-13T19:37:00.811Z"
   },
   {
    "duration": 271,
    "start_time": "2023-04-13T19:37:15.313Z"
   },
   {
    "duration": 24,
    "start_time": "2023-04-13T19:51:10.039Z"
   },
   {
    "duration": 15,
    "start_time": "2023-04-13T19:51:23.270Z"
   },
   {
    "duration": 11,
    "start_time": "2023-04-13T19:52:02.470Z"
   },
   {
    "duration": 18,
    "start_time": "2023-04-13T19:52:10.084Z"
   },
   {
    "duration": 18,
    "start_time": "2023-04-13T19:52:19.583Z"
   },
   {
    "duration": 48,
    "start_time": "2023-04-13T19:52:49.361Z"
   },
   {
    "duration": 8,
    "start_time": "2023-04-13T19:53:15.177Z"
   },
   {
    "duration": 26,
    "start_time": "2023-04-13T19:53:24.828Z"
   },
   {
    "duration": 33,
    "start_time": "2023-04-13T19:53:46.674Z"
   },
   {
    "duration": 27,
    "start_time": "2023-04-13T19:54:05.115Z"
   },
   {
    "duration": 25,
    "start_time": "2023-04-13T19:54:16.733Z"
   },
   {
    "duration": 33,
    "start_time": "2023-04-13T19:54:25.176Z"
   },
   {
    "duration": 25,
    "start_time": "2023-04-13T19:54:37.447Z"
   },
   {
    "duration": 7,
    "start_time": "2023-04-13T19:55:03.111Z"
   },
   {
    "duration": 28,
    "start_time": "2023-04-13T19:55:23.716Z"
   },
   {
    "duration": 6,
    "start_time": "2023-04-13T19:55:47.789Z"
   },
   {
    "duration": 7,
    "start_time": "2023-04-13T19:56:49.023Z"
   },
   {
    "duration": 26,
    "start_time": "2023-04-13T20:15:15.825Z"
   },
   {
    "duration": 17,
    "start_time": "2023-04-13T20:16:37.189Z"
   },
   {
    "duration": 100,
    "start_time": "2023-04-13T20:17:40.085Z"
   },
   {
    "duration": 20,
    "start_time": "2023-04-13T20:17:54.416Z"
   },
   {
    "duration": 15,
    "start_time": "2023-04-13T20:18:59.437Z"
   },
   {
    "duration": 30,
    "start_time": "2023-04-13T20:20:08.282Z"
   },
   {
    "duration": 15,
    "start_time": "2023-04-13T20:20:19.554Z"
   },
   {
    "duration": 19,
    "start_time": "2023-04-13T20:20:36.675Z"
   },
   {
    "duration": 218,
    "start_time": "2023-04-13T20:21:17.686Z"
   },
   {
    "duration": 22,
    "start_time": "2023-04-13T20:21:39.218Z"
   },
   {
    "duration": 22,
    "start_time": "2023-04-13T20:24:12.158Z"
   },
   {
    "duration": 414,
    "start_time": "2023-04-13T20:24:26.232Z"
   },
   {
    "duration": 42,
    "start_time": "2023-04-13T20:24:42.039Z"
   },
   {
    "duration": 25,
    "start_time": "2023-04-13T20:27:18.575Z"
   },
   {
    "duration": 36,
    "start_time": "2023-04-13T20:27:41.277Z"
   },
   {
    "duration": 175,
    "start_time": "2023-04-13T20:32:48.580Z"
   },
   {
    "duration": 185,
    "start_time": "2023-04-13T20:32:58.547Z"
   },
   {
    "duration": 186,
    "start_time": "2023-04-13T20:33:29.433Z"
   },
   {
    "duration": 172,
    "start_time": "2023-04-13T20:33:47.068Z"
   },
   {
    "duration": 155,
    "start_time": "2023-04-13T20:34:29.688Z"
   },
   {
    "duration": 187,
    "start_time": "2023-04-13T20:35:05.976Z"
   },
   {
    "duration": 162,
    "start_time": "2023-04-13T20:35:19.974Z"
   },
   {
    "duration": 90,
    "start_time": "2023-04-13T20:35:34.685Z"
   },
   {
    "duration": 85,
    "start_time": "2023-04-13T20:35:45.246Z"
   },
   {
    "duration": 72,
    "start_time": "2023-04-13T20:35:52.908Z"
   },
   {
    "duration": 82,
    "start_time": "2023-04-13T20:36:23.384Z"
   },
   {
    "duration": 120,
    "start_time": "2023-04-13T20:36:30.708Z"
   },
   {
    "duration": 137,
    "start_time": "2023-04-13T20:36:37.933Z"
   },
   {
    "duration": 159,
    "start_time": "2023-04-13T20:36:49.588Z"
   },
   {
    "duration": 80,
    "start_time": "2023-04-13T20:37:02.184Z"
   },
   {
    "duration": 252,
    "start_time": "2023-04-13T20:37:08.511Z"
   },
   {
    "duration": 185,
    "start_time": "2023-04-13T20:37:20.211Z"
   },
   {
    "duration": 169,
    "start_time": "2023-04-13T20:37:28.461Z"
   },
   {
    "duration": 159,
    "start_time": "2023-04-13T20:37:54.732Z"
   },
   {
    "duration": 194,
    "start_time": "2023-04-13T20:38:30.152Z"
   },
   {
    "duration": 182,
    "start_time": "2023-04-13T20:38:34.287Z"
   },
   {
    "duration": 158,
    "start_time": "2023-04-13T20:38:47.917Z"
   },
   {
    "duration": 1475,
    "start_time": "2023-04-13T20:39:10.514Z"
   },
   {
    "duration": 1327,
    "start_time": "2023-04-13T20:39:23.035Z"
   },
   {
    "duration": 155,
    "start_time": "2023-04-13T20:39:37.207Z"
   },
   {
    "duration": 148,
    "start_time": "2023-04-13T20:40:24.482Z"
   },
   {
    "duration": 163,
    "start_time": "2023-04-13T20:41:01.098Z"
   },
   {
    "duration": 175,
    "start_time": "2023-04-13T20:43:24.891Z"
   },
   {
    "duration": 191,
    "start_time": "2023-04-13T20:43:42.554Z"
   },
   {
    "duration": 134,
    "start_time": "2023-04-13T20:45:57.114Z"
   },
   {
    "duration": 148,
    "start_time": "2023-04-13T20:46:03.311Z"
   },
   {
    "duration": 143,
    "start_time": "2023-04-13T20:46:25.771Z"
   },
   {
    "duration": 22,
    "start_time": "2023-04-13T20:46:32.003Z"
   },
   {
    "duration": 18,
    "start_time": "2023-04-13T20:46:39.866Z"
   },
   {
    "duration": 16,
    "start_time": "2023-04-13T20:46:51.461Z"
   },
   {
    "duration": 447,
    "start_time": "2023-04-13T20:47:26.767Z"
   },
   {
    "duration": 291,
    "start_time": "2023-04-13T20:47:38.816Z"
   },
   {
    "duration": 326,
    "start_time": "2023-04-13T20:50:59.828Z"
   },
   {
    "duration": 312,
    "start_time": "2023-04-13T20:51:09.070Z"
   },
   {
    "duration": 357,
    "start_time": "2023-04-13T20:51:18.476Z"
   },
   {
    "duration": 323,
    "start_time": "2023-04-13T20:51:30.049Z"
   },
   {
    "duration": 322,
    "start_time": "2023-04-13T20:52:18.745Z"
   },
   {
    "duration": 487,
    "start_time": "2023-04-13T20:52:24.922Z"
   },
   {
    "duration": 95,
    "start_time": "2023-04-13T20:53:45.376Z"
   },
   {
    "duration": 53,
    "start_time": "2023-04-13T20:53:50.693Z"
   },
   {
    "duration": 386,
    "start_time": "2023-04-13T20:54:25.549Z"
   },
   {
    "duration": 411,
    "start_time": "2023-04-13T20:54:35.923Z"
   },
   {
    "duration": 440,
    "start_time": "2023-04-13T20:54:43.947Z"
   },
   {
    "duration": 191,
    "start_time": "2023-04-13T20:55:18.132Z"
   },
   {
    "duration": 585,
    "start_time": "2023-04-13T20:55:40.258Z"
   },
   {
    "duration": 448,
    "start_time": "2023-04-13T20:56:08.915Z"
   },
   {
    "duration": 417,
    "start_time": "2023-04-13T20:56:16.813Z"
   },
   {
    "duration": 417,
    "start_time": "2023-04-13T20:58:48.511Z"
   },
   {
    "duration": 380,
    "start_time": "2023-04-13T21:04:14.515Z"
   },
   {
    "duration": 368,
    "start_time": "2023-04-13T21:04:37.884Z"
   },
   {
    "duration": 166,
    "start_time": "2023-04-13T21:04:50.082Z"
   },
   {
    "duration": 377,
    "start_time": "2023-04-13T21:05:59.616Z"
   },
   {
    "duration": 412,
    "start_time": "2023-04-13T21:06:08.879Z"
   },
   {
    "duration": 380,
    "start_time": "2023-04-13T21:06:24.124Z"
   },
   {
    "duration": 389,
    "start_time": "2023-04-13T21:06:37.103Z"
   },
   {
    "duration": 518,
    "start_time": "2023-04-13T21:06:48.020Z"
   },
   {
    "duration": 407,
    "start_time": "2023-04-13T21:07:09.922Z"
   },
   {
    "duration": 387,
    "start_time": "2023-04-13T21:07:27.629Z"
   },
   {
    "duration": 408,
    "start_time": "2023-04-13T21:08:00.185Z"
   },
   {
    "duration": 402,
    "start_time": "2023-04-13T21:08:55.818Z"
   },
   {
    "duration": 390,
    "start_time": "2023-04-13T21:09:16.140Z"
   },
   {
    "duration": 447,
    "start_time": "2023-04-13T21:09:40.151Z"
   },
   {
    "duration": 389,
    "start_time": "2023-04-13T21:09:48.715Z"
   },
   {
    "duration": 392,
    "start_time": "2023-04-13T21:09:59.841Z"
   },
   {
    "duration": 389,
    "start_time": "2023-04-13T21:10:08.003Z"
   },
   {
    "duration": 28,
    "start_time": "2023-04-13T21:10:34.599Z"
   },
   {
    "duration": 29,
    "start_time": "2023-04-13T21:10:40.215Z"
   },
   {
    "duration": 388,
    "start_time": "2023-04-13T21:10:53.586Z"
   },
   {
    "duration": 131,
    "start_time": "2023-04-13T21:11:21.330Z"
   },
   {
    "duration": 387,
    "start_time": "2023-04-13T21:11:26.764Z"
   },
   {
    "duration": 410,
    "start_time": "2023-04-13T21:11:39.755Z"
   },
   {
    "duration": 466,
    "start_time": "2023-04-13T21:12:00.375Z"
   },
   {
    "duration": 428,
    "start_time": "2023-04-13T21:12:30.156Z"
   },
   {
    "duration": 392,
    "start_time": "2023-04-13T21:12:42.042Z"
   },
   {
    "duration": 632,
    "start_time": "2023-04-13T21:13:13.882Z"
   },
   {
    "duration": 396,
    "start_time": "2023-04-13T21:13:26.205Z"
   },
   {
    "duration": 394,
    "start_time": "2023-04-13T21:14:57.122Z"
   },
   {
    "duration": 397,
    "start_time": "2023-04-13T21:15:20.839Z"
   },
   {
    "duration": 389,
    "start_time": "2023-04-13T21:16:08.775Z"
   },
   {
    "duration": 78,
    "start_time": "2023-04-13T21:18:14.275Z"
   },
   {
    "duration": 281,
    "start_time": "2023-04-13T21:18:36.772Z"
   },
   {
    "duration": 14,
    "start_time": "2023-04-13T21:18:59.558Z"
   },
   {
    "duration": 393,
    "start_time": "2023-04-13T21:20:46.205Z"
   },
   {
    "duration": 42,
    "start_time": "2023-04-13T21:22:05.142Z"
   },
   {
    "duration": 143,
    "start_time": "2023-04-13T21:23:13.607Z"
   },
   {
    "duration": 378,
    "start_time": "2023-04-13T21:23:27.224Z"
   },
   {
    "duration": 19,
    "start_time": "2023-04-13T21:23:48.015Z"
   },
   {
    "duration": 27,
    "start_time": "2023-04-13T21:24:26.114Z"
   },
   {
    "duration": 1257,
    "start_time": "2023-04-13T21:27:22.903Z"
   },
   {
    "duration": 316,
    "start_time": "2023-04-13T21:27:35.641Z"
   },
   {
    "duration": 322,
    "start_time": "2023-04-13T21:29:37.723Z"
   },
   {
    "duration": 15,
    "start_time": "2023-04-13T21:30:21.017Z"
   },
   {
    "duration": 368,
    "start_time": "2023-04-13T21:30:40.284Z"
   },
   {
    "duration": 3,
    "start_time": "2023-04-13T21:35:53.444Z"
   },
   {
    "duration": 225,
    "start_time": "2023-04-13T21:37:29.163Z"
   },
   {
    "duration": 4,
    "start_time": "2023-04-13T21:38:45.538Z"
   },
   {
    "duration": 6,
    "start_time": "2023-04-13T21:39:58.785Z"
   },
   {
    "duration": 8,
    "start_time": "2023-04-13T21:40:11.237Z"
   },
   {
    "duration": 11,
    "start_time": "2023-04-13T21:40:23.339Z"
   },
   {
    "duration": 3,
    "start_time": "2023-04-13T21:40:31.373Z"
   },
   {
    "duration": 2,
    "start_time": "2023-04-13T21:40:37.473Z"
   },
   {
    "duration": 3,
    "start_time": "2023-04-13T21:40:40.869Z"
   },
   {
    "duration": 23,
    "start_time": "2023-04-13T21:40:48.775Z"
   },
   {
    "duration": 3,
    "start_time": "2023-04-13T21:41:09.266Z"
   },
   {
    "duration": 4,
    "start_time": "2023-04-13T21:41:15.508Z"
   },
   {
    "duration": 4,
    "start_time": "2023-04-13T21:41:24.926Z"
   },
   {
    "duration": 8,
    "start_time": "2023-04-13T21:42:21.530Z"
   },
   {
    "duration": 8,
    "start_time": "2023-04-13T21:42:33.487Z"
   },
   {
    "duration": 7,
    "start_time": "2023-04-13T21:42:43.704Z"
   },
   {
    "duration": 16,
    "start_time": "2023-04-13T21:43:29.050Z"
   },
   {
    "duration": 14,
    "start_time": "2023-04-13T21:43:42.804Z"
   },
   {
    "duration": 14,
    "start_time": "2023-04-13T21:45:16.662Z"
   },
   {
    "duration": 17,
    "start_time": "2023-04-13T21:45:24.836Z"
   },
   {
    "duration": 11,
    "start_time": "2023-04-13T21:46:32.751Z"
   },
   {
    "duration": 16,
    "start_time": "2023-04-13T21:46:41.231Z"
   },
   {
    "duration": 100,
    "start_time": "2023-04-13T21:47:39.071Z"
   },
   {
    "duration": 100,
    "start_time": "2023-04-13T21:47:59.104Z"
   },
   {
    "duration": 200,
    "start_time": "2023-04-13T21:48:06.869Z"
   },
   {
    "duration": 101,
    "start_time": "2023-04-13T21:48:10.504Z"
   },
   {
    "duration": 95,
    "start_time": "2023-04-13T21:48:15.080Z"
   },
   {
    "duration": 18,
    "start_time": "2023-04-13T21:49:15.549Z"
   },
   {
    "duration": 92,
    "start_time": "2023-04-13T21:49:21.126Z"
   },
   {
    "duration": 115,
    "start_time": "2023-04-13T21:50:19.806Z"
   },
   {
    "duration": 304,
    "start_time": "2023-04-13T21:51:36.739Z"
   },
   {
    "duration": 281,
    "start_time": "2023-04-13T21:51:52.836Z"
   },
   {
    "duration": 336,
    "start_time": "2023-04-13T21:52:01.503Z"
   },
   {
    "duration": 80,
    "start_time": "2023-04-13T21:55:33.635Z"
   },
   {
    "duration": 81,
    "start_time": "2023-04-13T21:56:47.386Z"
   },
   {
    "duration": 3,
    "start_time": "2023-04-13T21:57:23.707Z"
   },
   {
    "duration": 2,
    "start_time": "2023-04-13T21:58:56.879Z"
   },
   {
    "duration": 68,
    "start_time": "2023-04-13T21:59:40.627Z"
   },
   {
    "duration": 49,
    "start_time": "2023-04-14T13:48:50.453Z"
   },
   {
    "duration": 411,
    "start_time": "2023-04-14T13:48:57.066Z"
   },
   {
    "duration": 419,
    "start_time": "2023-04-14T13:48:57.479Z"
   },
   {
    "duration": 93,
    "start_time": "2023-04-14T13:48:57.900Z"
   },
   {
    "duration": 19,
    "start_time": "2023-04-14T13:48:57.996Z"
   },
   {
    "duration": 17,
    "start_time": "2023-04-14T13:48:58.016Z"
   },
   {
    "duration": 4,
    "start_time": "2023-04-14T13:48:58.034Z"
   },
   {
    "duration": 6,
    "start_time": "2023-04-14T13:48:58.040Z"
   },
   {
    "duration": 4,
    "start_time": "2023-04-14T13:48:58.057Z"
   },
   {
    "duration": 6,
    "start_time": "2023-04-14T13:48:58.063Z"
   },
   {
    "duration": 10,
    "start_time": "2023-04-14T13:48:58.071Z"
   },
   {
    "duration": 10,
    "start_time": "2023-04-14T13:48:58.084Z"
   },
   {
    "duration": 18,
    "start_time": "2023-04-14T13:48:58.095Z"
   },
   {
    "duration": 5,
    "start_time": "2023-04-14T13:48:58.114Z"
   },
   {
    "duration": 47,
    "start_time": "2023-04-14T13:48:58.121Z"
   },
   {
    "duration": 16,
    "start_time": "2023-04-14T13:48:58.169Z"
   },
   {
    "duration": 9,
    "start_time": "2023-04-14T13:48:58.187Z"
   },
   {
    "duration": 14,
    "start_time": "2023-04-14T13:48:58.197Z"
   },
   {
    "duration": 338,
    "start_time": "2023-04-14T13:48:58.212Z"
   },
   {
    "duration": 6,
    "start_time": "2023-04-14T13:48:58.552Z"
   },
   {
    "duration": 28,
    "start_time": "2023-04-14T13:48:58.560Z"
   },
   {
    "duration": 303,
    "start_time": "2023-04-14T13:48:58.590Z"
   },
   {
    "duration": 112,
    "start_time": "2023-04-14T13:48:58.895Z"
   },
   {
    "duration": 27,
    "start_time": "2023-04-14T13:48:59.009Z"
   },
   {
    "duration": 10,
    "start_time": "2023-04-14T13:48:59.038Z"
   },
   {
    "duration": 11,
    "start_time": "2023-04-14T13:48:59.057Z"
   },
   {
    "duration": 8,
    "start_time": "2023-04-14T13:48:59.070Z"
   },
   {
    "duration": 17,
    "start_time": "2023-04-14T13:48:59.080Z"
   },
   {
    "duration": 18,
    "start_time": "2023-04-14T13:48:59.101Z"
   },
   {
    "duration": 41,
    "start_time": "2023-04-14T13:49:26.977Z"
   },
   {
    "duration": 11,
    "start_time": "2023-04-14T13:49:35.478Z"
   },
   {
    "duration": 5,
    "start_time": "2023-04-14T13:50:32.197Z"
   },
   {
    "duration": 21,
    "start_time": "2023-04-14T13:50:45.085Z"
   },
   {
    "duration": 20,
    "start_time": "2023-04-14T13:51:44.010Z"
   },
   {
    "duration": 18,
    "start_time": "2023-04-14T13:52:11.844Z"
   },
   {
    "duration": 17,
    "start_time": "2023-04-14T13:52:19.573Z"
   },
   {
    "duration": 19,
    "start_time": "2023-04-14T13:52:31.513Z"
   },
   {
    "duration": 13,
    "start_time": "2023-04-14T13:53:02.768Z"
   },
   {
    "duration": 11,
    "start_time": "2023-04-14T13:53:09.812Z"
   },
   {
    "duration": 11,
    "start_time": "2023-04-14T13:53:19.657Z"
   },
   {
    "duration": 15,
    "start_time": "2023-04-14T13:54:26.576Z"
   },
   {
    "duration": 29,
    "start_time": "2023-04-14T13:55:24.400Z"
   },
   {
    "duration": 13,
    "start_time": "2023-04-14T13:55:51.783Z"
   },
   {
    "duration": 76,
    "start_time": "2023-04-14T13:56:52.006Z"
   },
   {
    "duration": 25,
    "start_time": "2023-04-14T13:56:56.601Z"
   },
   {
    "duration": 3,
    "start_time": "2023-04-14T13:57:13.159Z"
   },
   {
    "duration": 13,
    "start_time": "2023-04-14T13:58:06.919Z"
   },
   {
    "duration": 14,
    "start_time": "2023-04-14T13:58:32.252Z"
   },
   {
    "duration": 15,
    "start_time": "2023-04-14T13:58:48.394Z"
   },
   {
    "duration": 357,
    "start_time": "2023-04-14T13:59:15.758Z"
   },
   {
    "duration": 317,
    "start_time": "2023-04-14T14:02:01.794Z"
   },
   {
    "duration": 327,
    "start_time": "2023-04-14T14:02:16.208Z"
   },
   {
    "duration": 305,
    "start_time": "2023-04-14T14:04:14.072Z"
   },
   {
    "duration": 303,
    "start_time": "2023-04-14T14:05:05.838Z"
   },
   {
    "duration": 279,
    "start_time": "2023-04-14T14:05:27.833Z"
   },
   {
    "duration": 8,
    "start_time": "2023-04-14T14:05:34.026Z"
   },
   {
    "duration": 16,
    "start_time": "2023-04-14T14:05:42.243Z"
   },
   {
    "duration": 283,
    "start_time": "2023-04-14T14:09:47.866Z"
   },
   {
    "duration": 57,
    "start_time": "2023-04-14T14:22:05.056Z"
   },
   {
    "duration": 172,
    "start_time": "2023-04-14T14:24:04.948Z"
   },
   {
    "duration": 12,
    "start_time": "2023-04-14T14:24:09.844Z"
   },
   {
    "duration": 11,
    "start_time": "2023-04-14T14:24:36.809Z"
   },
   {
    "duration": 84,
    "start_time": "2023-04-14T14:25:04.832Z"
   },
   {
    "duration": 12,
    "start_time": "2023-04-14T14:25:08.520Z"
   },
   {
    "duration": 12,
    "start_time": "2023-04-14T14:25:47.714Z"
   },
   {
    "duration": 17,
    "start_time": "2023-04-14T14:25:58.964Z"
   },
   {
    "duration": 10,
    "start_time": "2023-04-14T14:26:11.680Z"
   },
   {
    "duration": 10,
    "start_time": "2023-04-14T14:27:13.154Z"
   },
   {
    "duration": 11,
    "start_time": "2023-04-14T14:27:21.833Z"
   },
   {
    "duration": 180,
    "start_time": "2023-04-14T14:28:05.312Z"
   },
   {
    "duration": 2,
    "start_time": "2023-04-14T14:34:18.705Z"
   },
   {
    "duration": 13,
    "start_time": "2023-04-14T14:35:07.152Z"
   },
   {
    "duration": 82,
    "start_time": "2023-04-14T14:35:31.232Z"
   },
   {
    "duration": 10,
    "start_time": "2023-04-14T14:35:38.425Z"
   },
   {
    "duration": 18,
    "start_time": "2023-04-14T14:37:24.081Z"
   },
   {
    "duration": 165,
    "start_time": "2023-04-14T14:37:41.704Z"
   },
   {
    "duration": 126,
    "start_time": "2023-04-14T14:38:06.864Z"
   },
   {
    "duration": 130,
    "start_time": "2023-04-14T14:38:11.506Z"
   },
   {
    "duration": 188,
    "start_time": "2023-04-14T14:38:16.547Z"
   },
   {
    "duration": 179,
    "start_time": "2023-04-14T14:40:13.512Z"
   },
   {
    "duration": 153,
    "start_time": "2023-04-14T14:40:19.073Z"
   },
   {
    "duration": 2,
    "start_time": "2023-04-14T14:42:44.575Z"
   },
   {
    "duration": 302,
    "start_time": "2023-04-14T15:11:32.292Z"
   },
   {
    "duration": 315,
    "start_time": "2023-04-14T15:12:07.823Z"
   },
   {
    "duration": 299,
    "start_time": "2023-04-14T15:14:24.083Z"
   },
   {
    "duration": 238,
    "start_time": "2023-04-14T15:14:28.808Z"
   },
   {
    "duration": 8,
    "start_time": "2023-04-14T15:14:33.672Z"
   },
   {
    "duration": 94,
    "start_time": "2023-04-14T15:19:51.971Z"
   },
   {
    "duration": 8,
    "start_time": "2023-04-14T15:42:22.482Z"
   },
   {
    "duration": 9,
    "start_time": "2023-04-14T15:42:33.625Z"
   },
   {
    "duration": 7,
    "start_time": "2023-04-14T15:49:44.567Z"
   },
   {
    "duration": 16,
    "start_time": "2023-04-14T15:50:51.219Z"
   },
   {
    "duration": 408,
    "start_time": "2023-04-14T20:24:13.296Z"
   },
   {
    "duration": 415,
    "start_time": "2023-04-14T20:24:13.706Z"
   },
   {
    "duration": 98,
    "start_time": "2023-04-14T20:24:14.123Z"
   },
   {
    "duration": 32,
    "start_time": "2023-04-14T20:24:14.223Z"
   },
   {
    "duration": 21,
    "start_time": "2023-04-14T20:24:14.258Z"
   },
   {
    "duration": 5,
    "start_time": "2023-04-14T20:24:14.281Z"
   },
   {
    "duration": 6,
    "start_time": "2023-04-14T20:24:14.287Z"
   },
   {
    "duration": 6,
    "start_time": "2023-04-14T20:24:14.295Z"
   },
   {
    "duration": 7,
    "start_time": "2023-04-14T20:24:14.302Z"
   },
   {
    "duration": 18,
    "start_time": "2023-04-14T20:24:14.311Z"
   },
   {
    "duration": 31,
    "start_time": "2023-04-14T20:24:14.338Z"
   },
   {
    "duration": 26,
    "start_time": "2023-04-14T20:24:14.371Z"
   },
   {
    "duration": 7,
    "start_time": "2023-04-14T20:24:14.398Z"
   },
   {
    "duration": 21,
    "start_time": "2023-04-14T20:24:14.407Z"
   },
   {
    "duration": 17,
    "start_time": "2023-04-14T20:24:14.430Z"
   },
   {
    "duration": 10,
    "start_time": "2023-04-14T20:24:14.449Z"
   },
   {
    "duration": 24,
    "start_time": "2023-04-14T20:24:14.461Z"
   },
   {
    "duration": 288,
    "start_time": "2023-04-14T20:24:14.487Z"
   },
   {
    "duration": 6,
    "start_time": "2023-04-14T20:24:14.776Z"
   },
   {
    "duration": 14,
    "start_time": "2023-04-14T20:24:14.784Z"
   },
   {
    "duration": 292,
    "start_time": "2023-04-14T20:24:14.800Z"
   },
   {
    "duration": 102,
    "start_time": "2023-04-14T20:24:15.094Z"
   },
   {
    "duration": 16,
    "start_time": "2023-04-14T20:24:15.198Z"
   },
   {
    "duration": 305,
    "start_time": "2023-04-14T20:24:15.215Z"
   },
   {
    "duration": 23,
    "start_time": "2023-04-14T20:24:15.522Z"
   },
   {
    "duration": 4,
    "start_time": "2023-04-14T20:24:15.549Z"
   },
   {
    "duration": 5,
    "start_time": "2023-04-14T20:24:15.555Z"
   },
   {
    "duration": 4,
    "start_time": "2023-04-14T20:24:15.562Z"
   },
   {
    "duration": 9,
    "start_time": "2023-04-14T20:24:15.567Z"
   },
   {
    "duration": 4,
    "start_time": "2023-04-14T20:24:15.578Z"
   },
   {
    "duration": 410,
    "start_time": "2023-04-14T20:29:00.703Z"
   },
   {
    "duration": 263,
    "start_time": "2023-04-14T20:29:08.326Z"
   },
   {
    "duration": 261,
    "start_time": "2023-04-14T20:29:31.794Z"
   },
   {
    "duration": 12,
    "start_time": "2023-04-14T20:32:54.254Z"
   },
   {
    "duration": 92,
    "start_time": "2023-04-14T20:38:33.234Z"
   },
   {
    "duration": 1261,
    "start_time": "2023-04-14T20:38:39.581Z"
   },
   {
    "duration": 13,
    "start_time": "2023-04-14T20:38:45.659Z"
   },
   {
    "duration": 6,
    "start_time": "2023-04-14T20:39:18.375Z"
   },
   {
    "duration": 13,
    "start_time": "2023-04-14T20:39:25.709Z"
   },
   {
    "duration": 165,
    "start_time": "2023-04-14T20:40:25.374Z"
   },
   {
    "duration": 107,
    "start_time": "2023-04-14T20:40:54.100Z"
   },
   {
    "duration": 250,
    "start_time": "2023-04-14T20:41:47.926Z"
   },
   {
    "duration": 139,
    "start_time": "2023-04-14T20:42:41.671Z"
   },
   {
    "duration": 304,
    "start_time": "2023-04-14T20:44:40.560Z"
   },
   {
    "duration": 276,
    "start_time": "2023-04-14T20:45:31.311Z"
   },
   {
    "duration": 377,
    "start_time": "2023-04-14T20:45:54.759Z"
   },
   {
    "duration": 4,
    "start_time": "2023-04-14T20:48:38.800Z"
   },
   {
    "duration": 3,
    "start_time": "2023-04-14T20:49:15.499Z"
   },
   {
    "duration": 2,
    "start_time": "2023-04-14T20:49:24.864Z"
   },
   {
    "duration": 23,
    "start_time": "2023-04-14T20:51:02.130Z"
   },
   {
    "duration": 22,
    "start_time": "2023-04-14T20:51:10.938Z"
   },
   {
    "duration": 135,
    "start_time": "2023-04-14T20:51:17.100Z"
   },
   {
    "duration": 74,
    "start_time": "2023-04-14T20:52:17.028Z"
   },
   {
    "duration": 19,
    "start_time": "2023-04-14T20:53:23.784Z"
   },
   {
    "duration": 433,
    "start_time": "2023-04-14T20:53:52.553Z"
   },
   {
    "duration": 185,
    "start_time": "2023-04-14T20:53:58.720Z"
   },
   {
    "duration": 76,
    "start_time": "2023-04-14T20:54:10.468Z"
   },
   {
    "duration": 36,
    "start_time": "2023-04-14T20:54:14.488Z"
   },
   {
    "duration": 19,
    "start_time": "2023-04-14T20:54:33.143Z"
   },
   {
    "duration": 13,
    "start_time": "2023-04-14T20:54:56.391Z"
   },
   {
    "duration": 12,
    "start_time": "2023-04-14T20:58:51.188Z"
   },
   {
    "duration": 13,
    "start_time": "2023-04-14T20:58:57.868Z"
   },
   {
    "duration": 258,
    "start_time": "2023-04-14T20:59:05.514Z"
   },
   {
    "duration": 163,
    "start_time": "2023-04-14T20:59:09.600Z"
   },
   {
    "duration": 5,
    "start_time": "2023-04-14T21:02:17.302Z"
   },
   {
    "duration": 16,
    "start_time": "2023-04-14T21:02:26.675Z"
   },
   {
    "duration": 15,
    "start_time": "2023-04-14T21:02:37.843Z"
   },
   {
    "duration": 12,
    "start_time": "2023-04-14T21:08:17.043Z"
   },
   {
    "duration": 142,
    "start_time": "2023-04-14T21:08:23.561Z"
   },
   {
    "duration": 14,
    "start_time": "2023-04-14T21:08:59.545Z"
   },
   {
    "duration": 145,
    "start_time": "2023-04-14T21:10:18.837Z"
   },
   {
    "duration": 14,
    "start_time": "2023-04-14T21:10:59.035Z"
   },
   {
    "duration": 169,
    "start_time": "2023-04-14T21:12:12.931Z"
   },
   {
    "duration": 17,
    "start_time": "2023-04-14T21:12:16.983Z"
   },
   {
    "duration": 12,
    "start_time": "2023-04-14T21:13:08.653Z"
   },
   {
    "duration": 6,
    "start_time": "2023-04-14T21:17:10.500Z"
   },
   {
    "duration": 14,
    "start_time": "2023-04-14T21:17:19.867Z"
   },
   {
    "duration": 80,
    "start_time": "2023-04-14T21:18:59.040Z"
   },
   {
    "duration": 8,
    "start_time": "2023-04-14T21:19:07.868Z"
   },
   {
    "duration": 8,
    "start_time": "2023-04-14T21:19:24.918Z"
   },
   {
    "duration": 95,
    "start_time": "2023-04-14T21:19:44.612Z"
   },
   {
    "duration": 15,
    "start_time": "2023-04-14T21:19:47.986Z"
   },
   {
    "duration": 11,
    "start_time": "2023-04-14T21:20:40.185Z"
   },
   {
    "duration": 10,
    "start_time": "2023-04-14T21:20:46.296Z"
   },
   {
    "duration": 13,
    "start_time": "2023-04-14T21:20:54.684Z"
   },
   {
    "duration": 158,
    "start_time": "2023-04-14T21:21:12.126Z"
   },
   {
    "duration": 13,
    "start_time": "2023-04-14T21:30:25.687Z"
   },
   {
    "duration": 270,
    "start_time": "2023-04-14T21:30:42.291Z"
   },
   {
    "duration": 65,
    "start_time": "2023-04-14T21:32:10.213Z"
   },
   {
    "duration": 187,
    "start_time": "2023-04-14T21:38:35.244Z"
   },
   {
    "duration": 155,
    "start_time": "2023-04-14T21:39:45.256Z"
   },
   {
    "duration": 21,
    "start_time": "2023-04-14T21:40:01.634Z"
   },
   {
    "duration": 26,
    "start_time": "2023-04-14T21:40:44.834Z"
   },
   {
    "duration": 72,
    "start_time": "2023-04-14T21:41:59.459Z"
   },
   {
    "duration": 365,
    "start_time": "2023-04-14T21:42:13.991Z"
   },
   {
    "duration": 82,
    "start_time": "2023-04-14T21:42:38.683Z"
   },
   {
    "duration": 15,
    "start_time": "2023-04-14T21:43:50.704Z"
   },
   {
    "duration": 26,
    "start_time": "2023-04-14T21:44:11.521Z"
   },
   {
    "duration": 225,
    "start_time": "2023-04-14T21:44:26.574Z"
   },
   {
    "duration": 198,
    "start_time": "2023-04-14T21:44:36.653Z"
   },
   {
    "duration": 177,
    "start_time": "2023-04-14T21:45:44.814Z"
   },
   {
    "duration": 14,
    "start_time": "2023-04-14T21:47:15.309Z"
   },
   {
    "duration": 29,
    "start_time": "2023-04-14T22:00:05.157Z"
   },
   {
    "duration": 14,
    "start_time": "2023-04-14T22:00:11.873Z"
   },
   {
    "duration": 13,
    "start_time": "2023-04-14T22:00:51.224Z"
   },
   {
    "duration": 16,
    "start_time": "2023-04-14T22:01:58.060Z"
   },
   {
    "duration": 13,
    "start_time": "2023-04-14T22:02:02.156Z"
   },
   {
    "duration": 11,
    "start_time": "2023-04-14T22:02:49.623Z"
   },
   {
    "duration": 17,
    "start_time": "2023-04-14T22:04:26.238Z"
   },
   {
    "duration": 18,
    "start_time": "2023-04-14T22:19:58.534Z"
   },
   {
    "duration": 4,
    "start_time": "2023-04-14T22:22:17.291Z"
   },
   {
    "duration": 7,
    "start_time": "2023-04-14T22:22:24.506Z"
   },
   {
    "duration": 11,
    "start_time": "2023-04-14T22:22:31.483Z"
   },
   {
    "duration": 11,
    "start_time": "2023-04-14T22:23:08.165Z"
   },
   {
    "duration": 10,
    "start_time": "2023-04-14T22:24:18.112Z"
   },
   {
    "duration": 15,
    "start_time": "2023-04-14T22:24:54.933Z"
   },
   {
    "duration": 11,
    "start_time": "2023-04-14T22:25:21.877Z"
   },
   {
    "duration": 11,
    "start_time": "2023-04-14T22:25:48.270Z"
   },
   {
    "duration": 10,
    "start_time": "2023-04-14T22:25:48.989Z"
   },
   {
    "duration": 141,
    "start_time": "2023-04-14T22:46:46.087Z"
   },
   {
    "duration": 202,
    "start_time": "2023-04-14T22:47:00.779Z"
   },
   {
    "duration": 98,
    "start_time": "2023-04-14T22:47:19.359Z"
   },
   {
    "duration": 136,
    "start_time": "2023-04-14T22:47:37.003Z"
   },
   {
    "duration": 11,
    "start_time": "2023-04-14T22:47:52.307Z"
   },
   {
    "duration": 12,
    "start_time": "2023-04-14T22:48:15.518Z"
   },
   {
    "duration": 135,
    "start_time": "2023-04-14T22:48:20.185Z"
   },
   {
    "duration": 2,
    "start_time": "2023-04-14T22:55:19.482Z"
   },
   {
    "duration": 171,
    "start_time": "2023-04-14T22:56:12.169Z"
   },
   {
    "duration": 374,
    "start_time": "2023-04-14T22:56:44.847Z"
   },
   {
    "duration": 16,
    "start_time": "2023-04-14T23:01:14.527Z"
   },
   {
    "duration": 19,
    "start_time": "2023-04-14T23:02:27.807Z"
   },
   {
    "duration": 10,
    "start_time": "2023-04-14T23:02:43.385Z"
   },
   {
    "duration": 19,
    "start_time": "2023-04-14T23:03:36.887Z"
   },
   {
    "duration": 19,
    "start_time": "2023-04-14T23:04:58.901Z"
   },
   {
    "duration": 24,
    "start_time": "2023-04-14T23:07:48.848Z"
   },
   {
    "duration": 17,
    "start_time": "2023-04-14T23:08:33.514Z"
   },
   {
    "duration": 16,
    "start_time": "2023-04-14T23:08:50.053Z"
   },
   {
    "duration": 21,
    "start_time": "2023-04-14T23:09:40.898Z"
   },
   {
    "duration": 156,
    "start_time": "2023-04-14T23:10:19.589Z"
   },
   {
    "duration": 25,
    "start_time": "2023-04-14T23:10:51.836Z"
   },
   {
    "duration": 21,
    "start_time": "2023-04-14T23:10:56.492Z"
   },
   {
    "duration": 23,
    "start_time": "2023-04-14T23:11:08.763Z"
   },
   {
    "duration": 32,
    "start_time": "2023-04-14T23:12:20.483Z"
   },
   {
    "duration": 39,
    "start_time": "2023-04-14T23:12:26.971Z"
   },
   {
    "duration": 38,
    "start_time": "2023-04-14T23:12:54.534Z"
   },
   {
    "duration": 28,
    "start_time": "2023-04-14T23:13:29.718Z"
   },
   {
    "duration": 27,
    "start_time": "2023-04-14T23:14:03.387Z"
   },
   {
    "duration": 22,
    "start_time": "2023-04-14T23:14:25.982Z"
   },
   {
    "duration": 26,
    "start_time": "2023-04-14T23:14:32.055Z"
   },
   {
    "duration": 24,
    "start_time": "2023-04-14T23:14:44.643Z"
   },
   {
    "duration": 25,
    "start_time": "2023-04-14T23:14:47.785Z"
   },
   {
    "duration": 26,
    "start_time": "2023-04-14T23:14:51.568Z"
   },
   {
    "duration": 21,
    "start_time": "2023-04-14T23:15:29.070Z"
   },
   {
    "duration": 27,
    "start_time": "2023-04-14T23:15:44.120Z"
   },
   {
    "duration": 27,
    "start_time": "2023-04-14T23:20:50.741Z"
   },
   {
    "duration": 27,
    "start_time": "2023-04-14T23:20:58.621Z"
   },
   {
    "duration": 170,
    "start_time": "2023-04-14T23:21:09.657Z"
   },
   {
    "duration": 293,
    "start_time": "2023-04-14T23:26:12.156Z"
   },
   {
    "duration": 83,
    "start_time": "2023-04-14T23:33:07.210Z"
   },
   {
    "duration": 12,
    "start_time": "2023-04-14T23:33:24.009Z"
   },
   {
    "duration": 19,
    "start_time": "2023-04-14T23:34:28.840Z"
   },
   {
    "duration": 13,
    "start_time": "2023-04-14T23:35:03.722Z"
   },
   {
    "duration": 13,
    "start_time": "2023-04-14T23:35:11.628Z"
   },
   {
    "duration": 161,
    "start_time": "2023-04-14T23:35:56.048Z"
   },
   {
    "duration": 11,
    "start_time": "2023-04-14T23:37:53.888Z"
   },
   {
    "duration": 15,
    "start_time": "2023-04-14T23:38:13.857Z"
   },
   {
    "duration": 11,
    "start_time": "2023-04-14T23:38:15.374Z"
   },
   {
    "duration": 11,
    "start_time": "2023-04-14T23:38:16.529Z"
   },
   {
    "duration": 11,
    "start_time": "2023-04-14T23:53:50.140Z"
   },
   {
    "duration": 11,
    "start_time": "2023-04-14T23:55:04.231Z"
   },
   {
    "duration": 13,
    "start_time": "2023-04-14T23:55:14.244Z"
   },
   {
    "duration": 11,
    "start_time": "2023-04-14T23:55:44.550Z"
   },
   {
    "duration": 12,
    "start_time": "2023-04-14T23:56:14.318Z"
   },
   {
    "duration": 11,
    "start_time": "2023-04-14T23:56:43.788Z"
   },
   {
    "duration": 181,
    "start_time": "2023-04-15T00:27:18.080Z"
   },
   {
    "duration": 355,
    "start_time": "2023-04-15T11:14:04.078Z"
   },
   {
    "duration": 396,
    "start_time": "2023-04-15T11:14:04.435Z"
   },
   {
    "duration": 87,
    "start_time": "2023-04-15T11:14:04.833Z"
   },
   {
    "duration": 29,
    "start_time": "2023-04-15T11:14:04.923Z"
   },
   {
    "duration": 14,
    "start_time": "2023-04-15T11:14:04.953Z"
   },
   {
    "duration": 13,
    "start_time": "2023-04-15T11:14:04.969Z"
   },
   {
    "duration": 4,
    "start_time": "2023-04-15T11:14:04.983Z"
   },
   {
    "duration": 23,
    "start_time": "2023-04-15T11:14:04.989Z"
   },
   {
    "duration": 37,
    "start_time": "2023-04-15T11:14:05.013Z"
   },
   {
    "duration": 25,
    "start_time": "2023-04-15T11:14:05.053Z"
   },
   {
    "duration": 12,
    "start_time": "2023-04-15T11:14:05.080Z"
   },
   {
    "duration": 34,
    "start_time": "2023-04-15T11:14:05.093Z"
   },
   {
    "duration": 3,
    "start_time": "2023-04-15T11:14:05.128Z"
   },
   {
    "duration": 24,
    "start_time": "2023-04-15T11:14:05.133Z"
   },
   {
    "duration": 11,
    "start_time": "2023-04-15T11:14:05.158Z"
   },
   {
    "duration": 6,
    "start_time": "2023-04-15T11:14:05.170Z"
   },
   {
    "duration": 19,
    "start_time": "2023-04-15T11:14:05.177Z"
   },
   {
    "duration": 286,
    "start_time": "2023-04-15T11:14:05.197Z"
   },
   {
    "duration": 5,
    "start_time": "2023-04-15T11:14:05.484Z"
   },
   {
    "duration": 53,
    "start_time": "2023-04-15T11:14:05.490Z"
   },
   {
    "duration": 276,
    "start_time": "2023-04-15T11:14:05.544Z"
   },
   {
    "duration": 90,
    "start_time": "2023-04-15T11:14:05.822Z"
   },
   {
    "duration": 268,
    "start_time": "2023-04-15T11:14:05.913Z"
   },
   {
    "duration": 12,
    "start_time": "2023-04-15T11:14:06.183Z"
   },
   {
    "duration": 212,
    "start_time": "2023-04-15T11:14:06.197Z"
   },
   {
    "duration": 11,
    "start_time": "2023-04-15T11:14:06.410Z"
   },
   {
    "duration": 173,
    "start_time": "2023-04-15T11:14:06.422Z"
   },
   {
    "duration": 10,
    "start_time": "2023-04-15T11:14:06.597Z"
   },
   {
    "duration": 9,
    "start_time": "2023-04-15T11:14:06.609Z"
   },
   {
    "duration": 30,
    "start_time": "2023-04-15T11:14:06.619Z"
   },
   {
    "duration": 10,
    "start_time": "2023-04-15T11:14:06.651Z"
   },
   {
    "duration": 10,
    "start_time": "2023-04-15T11:14:06.662Z"
   },
   {
    "duration": 9,
    "start_time": "2023-04-15T11:14:06.674Z"
   },
   {
    "duration": 12,
    "start_time": "2023-04-15T11:14:06.684Z"
   },
   {
    "duration": 15,
    "start_time": "2023-04-15T11:14:09.216Z"
   },
   {
    "duration": 22,
    "start_time": "2023-04-15T11:15:33.306Z"
   },
   {
    "duration": 22,
    "start_time": "2023-04-15T11:15:59.413Z"
   },
   {
    "duration": 23,
    "start_time": "2023-04-15T11:16:58.149Z"
   },
   {
    "duration": 10,
    "start_time": "2023-04-15T11:17:37.539Z"
   },
   {
    "duration": 7,
    "start_time": "2023-04-15T11:17:58.608Z"
   },
   {
    "duration": 5,
    "start_time": "2023-04-15T11:18:15.990Z"
   },
   {
    "duration": 399,
    "start_time": "2023-04-15T11:21:41.822Z"
   },
   {
    "duration": 118,
    "start_time": "2023-04-15T11:26:10.230Z"
   },
   {
    "duration": 8,
    "start_time": "2023-04-15T11:27:13.550Z"
   },
   {
    "duration": 14,
    "start_time": "2023-04-15T11:27:44.912Z"
   },
   {
    "duration": 6,
    "start_time": "2023-04-15T11:27:52.020Z"
   },
   {
    "duration": 6,
    "start_time": "2023-04-15T11:28:04.713Z"
   },
   {
    "duration": 8,
    "start_time": "2023-04-15T11:32:52.719Z"
   },
   {
    "duration": 7,
    "start_time": "2023-04-15T11:33:29.400Z"
   },
   {
    "duration": 6,
    "start_time": "2023-04-15T11:33:43.306Z"
   },
   {
    "duration": 15,
    "start_time": "2023-04-15T11:33:46.450Z"
   },
   {
    "duration": 8,
    "start_time": "2023-04-15T11:34:57.682Z"
   },
   {
    "duration": 8,
    "start_time": "2023-04-15T11:35:03.871Z"
   },
   {
    "duration": 7,
    "start_time": "2023-04-15T11:35:12.909Z"
   },
   {
    "duration": 8,
    "start_time": "2023-04-15T11:35:18.669Z"
   },
   {
    "duration": 11,
    "start_time": "2023-04-15T11:37:23.671Z"
   },
   {
    "duration": 7,
    "start_time": "2023-04-15T11:37:30.409Z"
   },
   {
    "duration": 7,
    "start_time": "2023-04-15T11:37:37.658Z"
   },
   {
    "duration": 16,
    "start_time": "2023-04-15T11:37:41.032Z"
   },
   {
    "duration": 12,
    "start_time": "2023-04-15T11:38:57.198Z"
   },
   {
    "duration": 157,
    "start_time": "2023-04-15T11:41:25.227Z"
   },
   {
    "duration": 160,
    "start_time": "2023-04-15T11:41:33.403Z"
   },
   {
    "duration": 162,
    "start_time": "2023-04-15T11:41:45.042Z"
   },
   {
    "duration": 176,
    "start_time": "2023-04-15T11:41:52.301Z"
   },
   {
    "duration": 250,
    "start_time": "2023-04-15T11:42:24.734Z"
   },
   {
    "duration": 8,
    "start_time": "2023-04-15T11:42:35.580Z"
   },
   {
    "duration": 184,
    "start_time": "2023-04-15T11:42:44.725Z"
   },
   {
    "duration": 357,
    "start_time": "2023-04-15T11:43:35.897Z"
   },
   {
    "duration": 325,
    "start_time": "2023-04-15T11:43:59.676Z"
   },
   {
    "duration": 345,
    "start_time": "2023-04-15T11:44:13.196Z"
   },
   {
    "duration": 247,
    "start_time": "2023-04-15T11:44:42.729Z"
   },
   {
    "duration": 166,
    "start_time": "2023-04-15T11:44:49.446Z"
   },
   {
    "duration": 169,
    "start_time": "2023-04-15T11:44:57.211Z"
   },
   {
    "duration": 11,
    "start_time": "2023-04-15T11:45:14.860Z"
   },
   {
    "duration": 13,
    "start_time": "2023-04-15T11:45:36.399Z"
   },
   {
    "duration": 12,
    "start_time": "2023-04-15T11:48:06.331Z"
   },
   {
    "duration": 12,
    "start_time": "2023-04-15T11:48:26.777Z"
   },
   {
    "duration": 11,
    "start_time": "2023-04-15T11:49:25.428Z"
   },
   {
    "duration": 12,
    "start_time": "2023-04-15T11:49:26.308Z"
   },
   {
    "duration": 8,
    "start_time": "2023-04-15T12:16:44.391Z"
   },
   {
    "duration": 11,
    "start_time": "2023-04-15T12:16:58.231Z"
   },
   {
    "duration": 8,
    "start_time": "2023-04-15T12:17:04.563Z"
   },
   {
    "duration": 7,
    "start_time": "2023-04-15T12:17:28.799Z"
   },
   {
    "duration": 81,
    "start_time": "2023-04-15T12:18:50.604Z"
   },
   {
    "duration": 77,
    "start_time": "2023-04-15T12:19:06.201Z"
   },
   {
    "duration": 10,
    "start_time": "2023-04-15T12:19:13.324Z"
   },
   {
    "duration": 95,
    "start_time": "2023-04-15T12:20:03.054Z"
   },
   {
    "duration": 73,
    "start_time": "2023-04-15T12:20:10.068Z"
   },
   {
    "duration": 84,
    "start_time": "2023-04-15T12:20:19.404Z"
   },
   {
    "duration": 422,
    "start_time": "2023-04-15T12:20:30.958Z"
   },
   {
    "duration": 283,
    "start_time": "2023-04-15T12:20:31.383Z"
   },
   {
    "duration": 93,
    "start_time": "2023-04-15T12:20:31.668Z"
   },
   {
    "duration": 23,
    "start_time": "2023-04-15T12:20:31.764Z"
   },
   {
    "duration": 14,
    "start_time": "2023-04-15T12:20:31.789Z"
   },
   {
    "duration": 4,
    "start_time": "2023-04-15T12:20:31.805Z"
   },
   {
    "duration": 21,
    "start_time": "2023-04-15T12:20:31.811Z"
   },
   {
    "duration": 25,
    "start_time": "2023-04-15T12:20:31.834Z"
   },
   {
    "duration": 12,
    "start_time": "2023-04-15T12:20:31.861Z"
   },
   {
    "duration": 37,
    "start_time": "2023-04-15T12:20:31.874Z"
   },
   {
    "duration": 18,
    "start_time": "2023-04-15T12:20:31.914Z"
   },
   {
    "duration": 28,
    "start_time": "2023-04-15T12:20:31.933Z"
   },
   {
    "duration": 5,
    "start_time": "2023-04-15T12:20:31.963Z"
   },
   {
    "duration": 25,
    "start_time": "2023-04-15T12:20:31.970Z"
   },
   {
    "duration": 15,
    "start_time": "2023-04-15T12:20:31.997Z"
   },
   {
    "duration": 7,
    "start_time": "2023-04-15T12:20:32.013Z"
   },
   {
    "duration": 44,
    "start_time": "2023-04-15T12:20:32.021Z"
   },
   {
    "duration": 300,
    "start_time": "2023-04-15T12:20:32.067Z"
   },
   {
    "duration": 6,
    "start_time": "2023-04-15T12:20:32.370Z"
   },
   {
    "duration": 14,
    "start_time": "2023-04-15T12:20:32.377Z"
   },
   {
    "duration": 313,
    "start_time": "2023-04-15T12:20:32.392Z"
   },
   {
    "duration": 110,
    "start_time": "2023-04-15T12:20:32.707Z"
   },
   {
    "duration": 369,
    "start_time": "2023-04-15T12:20:32.818Z"
   },
   {
    "duration": 14,
    "start_time": "2023-04-15T12:20:33.189Z"
   },
   {
    "duration": 258,
    "start_time": "2023-04-15T12:20:33.205Z"
   },
   {
    "duration": 14,
    "start_time": "2023-04-15T12:20:33.464Z"
   },
   {
    "duration": 213,
    "start_time": "2023-04-15T12:20:33.479Z"
   },
   {
    "duration": 13,
    "start_time": "2023-04-15T12:20:33.693Z"
   },
   {
    "duration": 11,
    "start_time": "2023-04-15T12:20:33.707Z"
   },
   {
    "duration": 28,
    "start_time": "2023-04-15T12:20:33.720Z"
   },
   {
    "duration": 12,
    "start_time": "2023-04-15T12:20:33.754Z"
   },
   {
    "duration": 11,
    "start_time": "2023-04-15T12:20:33.768Z"
   },
   {
    "duration": 11,
    "start_time": "2023-04-15T12:20:33.781Z"
   },
   {
    "duration": 459,
    "start_time": "2023-04-15T12:20:33.793Z"
   },
   {
    "duration": 10,
    "start_time": "2023-04-15T12:20:34.254Z"
   },
   {
    "duration": 9,
    "start_time": "2023-04-15T12:20:34.266Z"
   },
   {
    "duration": 16,
    "start_time": "2023-04-15T12:20:34.277Z"
   },
   {
    "duration": 11,
    "start_time": "2023-04-15T12:20:34.294Z"
   },
   {
    "duration": 79,
    "start_time": "2023-04-15T12:20:34.307Z"
   },
   {
    "duration": 15,
    "start_time": "2023-04-15T12:21:03.235Z"
   },
   {
    "duration": 14,
    "start_time": "2023-04-15T12:21:34.331Z"
   },
   {
    "duration": 11,
    "start_time": "2023-04-15T12:22:36.304Z"
   },
   {
    "duration": 7,
    "start_time": "2023-04-15T12:23:13.095Z"
   },
   {
    "duration": 10,
    "start_time": "2023-04-15T12:24:05.233Z"
   },
   {
    "duration": 18,
    "start_time": "2023-04-15T12:25:18.530Z"
   },
   {
    "duration": 8,
    "start_time": "2023-04-15T12:26:01.269Z"
   },
   {
    "duration": 10,
    "start_time": "2023-04-15T12:26:11.713Z"
   },
   {
    "duration": 12,
    "start_time": "2023-04-15T12:26:33.013Z"
   },
   {
    "duration": 9,
    "start_time": "2023-04-15T12:26:42.019Z"
   },
   {
    "duration": 10,
    "start_time": "2023-04-15T12:27:08.379Z"
   },
   {
    "duration": 12,
    "start_time": "2023-04-15T12:27:15.497Z"
   },
   {
    "duration": 9,
    "start_time": "2023-04-15T13:40:48.318Z"
   },
   {
    "duration": 9,
    "start_time": "2023-04-15T13:40:49.481Z"
   },
   {
    "duration": 15,
    "start_time": "2023-04-15T13:50:48.347Z"
   },
   {
    "duration": 12,
    "start_time": "2023-04-15T13:50:54.434Z"
   },
   {
    "duration": 11,
    "start_time": "2023-04-15T13:51:09.073Z"
   },
   {
    "duration": 9,
    "start_time": "2023-04-15T13:59:09.540Z"
   },
   {
    "duration": 10,
    "start_time": "2023-04-15T13:59:14.094Z"
   },
   {
    "duration": 9,
    "start_time": "2023-04-15T13:59:25.052Z"
   },
   {
    "duration": 11,
    "start_time": "2023-04-15T13:59:29.986Z"
   },
   {
    "duration": 9,
    "start_time": "2023-04-15T13:59:40.478Z"
   },
   {
    "duration": 11,
    "start_time": "2023-04-15T14:21:26.912Z"
   },
   {
    "duration": 10,
    "start_time": "2023-04-15T14:21:31.310Z"
   },
   {
    "duration": 9,
    "start_time": "2023-04-15T14:21:37.840Z"
   },
   {
    "duration": 10,
    "start_time": "2023-04-15T14:22:05.886Z"
   },
   {
    "duration": 87,
    "start_time": "2023-04-15T14:25:53.850Z"
   },
   {
    "duration": 10,
    "start_time": "2023-04-15T14:30:23.740Z"
   },
   {
    "duration": 4,
    "start_time": "2023-04-15T14:35:44.399Z"
   },
   {
    "duration": 13,
    "start_time": "2023-04-15T14:36:10.757Z"
   },
   {
    "duration": 10,
    "start_time": "2023-04-15T15:02:34.484Z"
   },
   {
    "duration": 10,
    "start_time": "2023-04-15T15:05:42.333Z"
   },
   {
    "duration": 9,
    "start_time": "2023-04-15T15:05:53.043Z"
   },
   {
    "duration": 12,
    "start_time": "2023-04-15T15:06:02.277Z"
   },
   {
    "duration": 9,
    "start_time": "2023-04-15T15:17:54.987Z"
   },
   {
    "duration": 9,
    "start_time": "2023-04-15T15:18:57.156Z"
   },
   {
    "duration": 122,
    "start_time": "2023-04-15T15:52:29.645Z"
   },
   {
    "duration": 104,
    "start_time": "2023-04-15T15:52:38.260Z"
   },
   {
    "duration": 5,
    "start_time": "2023-04-15T17:13:38.817Z"
   },
   {
    "duration": 10,
    "start_time": "2023-04-15T17:13:46.907Z"
   },
   {
    "duration": 146,
    "start_time": "2023-04-15T18:07:28.222Z"
   },
   {
    "duration": 3,
    "start_time": "2023-04-15T18:07:39.102Z"
   },
   {
    "duration": 3,
    "start_time": "2023-04-15T18:07:46.410Z"
   },
   {
    "duration": 7,
    "start_time": "2023-04-15T18:08:01.337Z"
   },
   {
    "duration": 7,
    "start_time": "2023-04-15T18:08:06.614Z"
   },
   {
    "duration": 6,
    "start_time": "2023-04-15T18:08:10.626Z"
   },
   {
    "duration": 346,
    "start_time": "2023-04-15T18:14:04.067Z"
   },
   {
    "duration": 226,
    "start_time": "2023-04-15T18:14:04.415Z"
   },
   {
    "duration": 77,
    "start_time": "2023-04-15T18:14:04.642Z"
   },
   {
    "duration": 15,
    "start_time": "2023-04-15T18:14:04.720Z"
   },
   {
    "duration": 12,
    "start_time": "2023-04-15T18:14:04.737Z"
   },
   {
    "duration": 7,
    "start_time": "2023-04-15T18:14:04.751Z"
   },
   {
    "duration": 4,
    "start_time": "2023-04-15T18:14:04.759Z"
   },
   {
    "duration": 7,
    "start_time": "2023-04-15T18:14:04.764Z"
   },
   {
    "duration": 6,
    "start_time": "2023-04-15T18:14:04.772Z"
   },
   {
    "duration": 6,
    "start_time": "2023-04-15T18:14:04.779Z"
   },
   {
    "duration": 9,
    "start_time": "2023-04-15T18:14:04.787Z"
   },
   {
    "duration": 38,
    "start_time": "2023-04-15T18:14:04.798Z"
   },
   {
    "duration": 4,
    "start_time": "2023-04-15T18:14:04.838Z"
   },
   {
    "duration": 14,
    "start_time": "2023-04-15T18:14:04.844Z"
   },
   {
    "duration": 12,
    "start_time": "2023-04-15T18:14:04.859Z"
   },
   {
    "duration": 6,
    "start_time": "2023-04-15T18:14:04.872Z"
   },
   {
    "duration": 10,
    "start_time": "2023-04-15T18:14:04.879Z"
   },
   {
    "duration": 276,
    "start_time": "2023-04-15T18:14:04.891Z"
   },
   {
    "duration": 6,
    "start_time": "2023-04-15T18:14:05.168Z"
   },
   {
    "duration": 21,
    "start_time": "2023-04-15T18:14:05.175Z"
   },
   {
    "duration": 245,
    "start_time": "2023-04-15T18:14:05.198Z"
   },
   {
    "duration": 94,
    "start_time": "2023-04-15T18:14:05.445Z"
   },
   {
    "duration": 257,
    "start_time": "2023-04-15T18:14:05.541Z"
   },
   {
    "duration": 11,
    "start_time": "2023-04-15T18:14:05.800Z"
   },
   {
    "duration": 204,
    "start_time": "2023-04-15T18:14:05.813Z"
   },
   {
    "duration": 22,
    "start_time": "2023-04-15T18:14:06.018Z"
   },
   {
    "duration": 153,
    "start_time": "2023-04-15T18:14:06.042Z"
   },
   {
    "duration": 11,
    "start_time": "2023-04-15T18:14:06.197Z"
   },
   {
    "duration": 11,
    "start_time": "2023-04-15T18:14:06.209Z"
   },
   {
    "duration": 11,
    "start_time": "2023-04-15T18:14:06.236Z"
   },
   {
    "duration": 18,
    "start_time": "2023-04-15T18:14:06.248Z"
   },
   {
    "duration": 12,
    "start_time": "2023-04-15T18:14:06.268Z"
   },
   {
    "duration": 11,
    "start_time": "2023-04-15T18:14:06.282Z"
   },
   {
    "duration": 430,
    "start_time": "2023-04-15T18:14:06.295Z"
   },
   {
    "duration": 14,
    "start_time": "2023-04-15T18:14:06.727Z"
   },
   {
    "duration": 9,
    "start_time": "2023-04-15T18:14:06.742Z"
   },
   {
    "duration": 282,
    "start_time": "2023-04-15T18:19:09.485Z"
   },
   {
    "duration": 110,
    "start_time": "2023-04-15T18:19:42.188Z"
   },
   {
    "duration": 28,
    "start_time": "2023-04-15T18:19:52.985Z"
   },
   {
    "duration": 10,
    "start_time": "2023-04-15T18:19:56.516Z"
   },
   {
    "duration": 208,
    "start_time": "2023-04-15T18:20:39.064Z"
   },
   {
    "duration": 352,
    "start_time": "2023-04-15T18:21:03.097Z"
   },
   {
    "duration": 331,
    "start_time": "2023-04-15T18:21:15.102Z"
   },
   {
    "duration": 397,
    "start_time": "2023-04-15T18:21:52.415Z"
   },
   {
    "duration": 247,
    "start_time": "2023-04-15T18:21:52.814Z"
   },
   {
    "duration": 46,
    "start_time": "2023-04-15T18:21:53.063Z"
   },
   {
    "duration": 16,
    "start_time": "2023-04-15T18:21:53.111Z"
   },
   {
    "duration": 20,
    "start_time": "2023-04-15T18:21:53.129Z"
   },
   {
    "duration": 7,
    "start_time": "2023-04-15T18:21:53.151Z"
   },
   {
    "duration": 7,
    "start_time": "2023-04-15T18:21:53.159Z"
   },
   {
    "duration": 5,
    "start_time": "2023-04-15T18:21:53.168Z"
   },
   {
    "duration": 8,
    "start_time": "2023-04-15T18:21:53.174Z"
   },
   {
    "duration": 5,
    "start_time": "2023-04-15T18:21:53.183Z"
   },
   {
    "duration": 10,
    "start_time": "2023-04-15T18:21:53.190Z"
   },
   {
    "duration": 16,
    "start_time": "2023-04-15T18:21:53.201Z"
   },
   {
    "duration": 20,
    "start_time": "2023-04-15T18:21:53.218Z"
   },
   {
    "duration": 18,
    "start_time": "2023-04-15T18:21:53.241Z"
   },
   {
    "duration": 28,
    "start_time": "2023-04-15T18:21:53.260Z"
   },
   {
    "duration": 7,
    "start_time": "2023-04-15T18:21:53.289Z"
   },
   {
    "duration": 9,
    "start_time": "2023-04-15T18:21:53.297Z"
   },
   {
    "duration": 256,
    "start_time": "2023-04-15T18:21:53.307Z"
   },
   {
    "duration": 6,
    "start_time": "2023-04-15T18:21:53.564Z"
   },
   {
    "duration": 19,
    "start_time": "2023-04-15T18:21:53.572Z"
   },
   {
    "duration": 252,
    "start_time": "2023-04-15T18:21:53.593Z"
   },
   {
    "duration": 90,
    "start_time": "2023-04-15T18:21:53.847Z"
   },
   {
    "duration": 282,
    "start_time": "2023-04-15T18:21:53.939Z"
   },
   {
    "duration": 22,
    "start_time": "2023-04-15T18:21:54.222Z"
   },
   {
    "duration": 215,
    "start_time": "2023-04-15T18:21:54.246Z"
   },
   {
    "duration": 11,
    "start_time": "2023-04-15T18:21:54.463Z"
   },
   {
    "duration": 169,
    "start_time": "2023-04-15T18:21:54.475Z"
   },
   {
    "duration": 14,
    "start_time": "2023-04-15T18:21:54.646Z"
   },
   {
    "duration": 9,
    "start_time": "2023-04-15T18:21:54.662Z"
   },
   {
    "duration": 9,
    "start_time": "2023-04-15T18:21:54.673Z"
   },
   {
    "duration": 25,
    "start_time": "2023-04-15T18:21:54.684Z"
   },
   {
    "duration": 9,
    "start_time": "2023-04-15T18:21:54.710Z"
   },
   {
    "duration": 12,
    "start_time": "2023-04-15T18:21:54.736Z"
   },
   {
    "duration": 364,
    "start_time": "2023-04-15T18:21:54.749Z"
   },
   {
    "duration": 9,
    "start_time": "2023-04-15T18:21:55.115Z"
   },
   {
    "duration": 20,
    "start_time": "2023-04-15T18:21:55.125Z"
   },
   {
    "duration": 167,
    "start_time": "2023-04-15T18:22:03.699Z"
   },
   {
    "duration": 11,
    "start_time": "2023-04-15T18:22:08.878Z"
   },
   {
    "duration": 11,
    "start_time": "2023-04-15T18:22:08.907Z"
   },
   {
    "duration": 13,
    "start_time": "2023-04-15T18:22:08.934Z"
   },
   {
    "duration": 12,
    "start_time": "2023-04-15T18:22:09.023Z"
   },
   {
    "duration": 13,
    "start_time": "2023-04-15T18:22:09.082Z"
   },
   {
    "duration": 11,
    "start_time": "2023-04-15T18:22:09.097Z"
   },
   {
    "duration": 3,
    "start_time": "2023-04-15T18:22:09.255Z"
   },
   {
    "duration": 8,
    "start_time": "2023-04-15T18:22:09.288Z"
   },
   {
    "duration": 9,
    "start_time": "2023-04-15T18:22:09.393Z"
   },
   {
    "duration": 91,
    "start_time": "2023-04-16T08:44:22.199Z"
   },
   {
    "duration": 75,
    "start_time": "2023-04-16T08:44:31.914Z"
   },
   {
    "duration": 80,
    "start_time": "2023-04-16T08:44:35.408Z"
   },
   {
    "duration": 76,
    "start_time": "2023-04-16T08:44:56.307Z"
   },
   {
    "duration": 71,
    "start_time": "2023-04-16T08:45:00.810Z"
   },
   {
    "duration": 74,
    "start_time": "2023-04-16T08:45:35.053Z"
   },
   {
    "duration": 77,
    "start_time": "2023-04-16T08:45:57.440Z"
   },
   {
    "duration": 81,
    "start_time": "2023-04-16T08:46:06.968Z"
   },
   {
    "duration": 87,
    "start_time": "2023-04-16T08:47:10.725Z"
   },
   {
    "duration": 74,
    "start_time": "2023-04-16T08:47:22.946Z"
   },
   {
    "duration": 73,
    "start_time": "2023-04-16T08:47:36.486Z"
   },
   {
    "duration": 92,
    "start_time": "2023-04-16T08:48:03.015Z"
   },
   {
    "duration": 77,
    "start_time": "2023-04-16T08:48:14.527Z"
   },
   {
    "duration": 102,
    "start_time": "2023-04-16T09:02:43.318Z"
   },
   {
    "duration": 82,
    "start_time": "2023-04-16T09:02:55.683Z"
   },
   {
    "duration": 76,
    "start_time": "2023-04-16T09:13:28.412Z"
   },
   {
    "duration": 71,
    "start_time": "2023-04-16T09:13:37.506Z"
   },
   {
    "duration": 98,
    "start_time": "2023-04-16T09:13:40.426Z"
   },
   {
    "duration": 87,
    "start_time": "2023-04-16T09:14:02.626Z"
   },
   {
    "duration": 98,
    "start_time": "2023-04-16T09:14:20.759Z"
   },
   {
    "duration": 834,
    "start_time": "2023-04-16T09:33:27.245Z"
   },
   {
    "duration": 76,
    "start_time": "2023-04-16T09:33:41.185Z"
   },
   {
    "duration": 732,
    "start_time": "2023-04-16T09:33:53.547Z"
   },
   {
    "duration": 94,
    "start_time": "2023-04-16T09:33:54.282Z"
   },
   {
    "duration": 24,
    "start_time": "2023-04-16T09:33:54.378Z"
   },
   {
    "duration": 19,
    "start_time": "2023-04-16T09:33:54.404Z"
   },
   {
    "duration": 9,
    "start_time": "2023-04-16T09:34:00.685Z"
   },
   {
    "duration": 5,
    "start_time": "2023-04-16T09:34:56.691Z"
   },
   {
    "duration": 6,
    "start_time": "2023-04-16T09:35:04.340Z"
   },
   {
    "duration": 6,
    "start_time": "2023-04-16T09:35:21.761Z"
   },
   {
    "duration": 3,
    "start_time": "2023-04-16T09:35:28.876Z"
   },
   {
    "duration": 5,
    "start_time": "2023-04-16T09:35:37.114Z"
   },
   {
    "duration": 5,
    "start_time": "2023-04-16T09:36:36.645Z"
   },
   {
    "duration": 16,
    "start_time": "2023-04-16T09:37:09.702Z"
   },
   {
    "duration": 7,
    "start_time": "2023-04-16T09:38:07.127Z"
   },
   {
    "duration": 5,
    "start_time": "2023-04-16T09:39:42.082Z"
   },
   {
    "duration": 17,
    "start_time": "2023-04-16T09:39:44.533Z"
   },
   {
    "duration": 22,
    "start_time": "2023-04-16T09:40:02.183Z"
   },
   {
    "duration": 80,
    "start_time": "2023-04-16T09:42:17.321Z"
   },
   {
    "duration": 19,
    "start_time": "2023-04-16T09:42:24.739Z"
   },
   {
    "duration": 17,
    "start_time": "2023-04-16T09:42:49.024Z"
   },
   {
    "duration": 84,
    "start_time": "2023-04-16T09:43:21.945Z"
   },
   {
    "duration": 9,
    "start_time": "2023-04-16T09:43:28.137Z"
   },
   {
    "duration": 6,
    "start_time": "2023-04-16T09:43:58.805Z"
   },
   {
    "duration": 5,
    "start_time": "2023-04-16T09:44:21.410Z"
   },
   {
    "duration": 6,
    "start_time": "2023-04-16T09:44:53.650Z"
   },
   {
    "duration": 11,
    "start_time": "2023-04-16T09:45:22.656Z"
   },
   {
    "duration": 5,
    "start_time": "2023-04-16T09:45:28.261Z"
   },
   {
    "duration": 9,
    "start_time": "2023-04-16T09:45:40.651Z"
   },
   {
    "duration": 5,
    "start_time": "2023-04-16T09:45:45.412Z"
   },
   {
    "duration": 6,
    "start_time": "2023-04-16T09:45:56.222Z"
   },
   {
    "duration": 11,
    "start_time": "2023-04-16T09:46:01.375Z"
   },
   {
    "duration": 6,
    "start_time": "2023-04-16T09:46:06.356Z"
   },
   {
    "duration": 7,
    "start_time": "2023-04-16T09:46:30.311Z"
   },
   {
    "duration": 6,
    "start_time": "2023-04-16T09:46:55.974Z"
   },
   {
    "duration": 5,
    "start_time": "2023-04-16T09:47:02.422Z"
   },
   {
    "duration": 28,
    "start_time": "2023-04-16T09:50:58.338Z"
   },
   {
    "duration": 8,
    "start_time": "2023-04-16T09:52:32.820Z"
   },
   {
    "duration": 26,
    "start_time": "2023-04-16T09:54:43.751Z"
   },
   {
    "duration": 5,
    "start_time": "2023-04-16T10:05:34.129Z"
   },
   {
    "duration": 6,
    "start_time": "2023-04-16T10:06:23.224Z"
   },
   {
    "duration": 6,
    "start_time": "2023-04-16T10:08:52.008Z"
   },
   {
    "duration": 7,
    "start_time": "2023-04-16T10:09:41.314Z"
   },
   {
    "duration": 12,
    "start_time": "2023-04-16T10:09:57.482Z"
   },
   {
    "duration": 23,
    "start_time": "2023-04-16T10:11:48.782Z"
   },
   {
    "duration": 14,
    "start_time": "2023-04-16T10:12:15.613Z"
   },
   {
    "duration": 12,
    "start_time": "2023-04-16T10:13:07.782Z"
   },
   {
    "duration": 15,
    "start_time": "2023-04-16T10:15:33.943Z"
   },
   {
    "duration": 16,
    "start_time": "2023-04-16T10:16:04.830Z"
   },
   {
    "duration": 16,
    "start_time": "2023-04-16T10:16:19.309Z"
   },
   {
    "duration": 16,
    "start_time": "2023-04-16T10:16:34.115Z"
   },
   {
    "duration": 5,
    "start_time": "2023-04-16T10:17:55.713Z"
   },
   {
    "duration": 94,
    "start_time": "2023-04-16T10:21:30.517Z"
   },
   {
    "duration": 16,
    "start_time": "2023-04-16T10:23:02.801Z"
   },
   {
    "duration": 8,
    "start_time": "2023-04-16T10:23:03.622Z"
   },
   {
    "duration": 182,
    "start_time": "2023-04-16T10:23:36.424Z"
   },
   {
    "duration": 202,
    "start_time": "2023-04-16T10:24:13.121Z"
   },
   {
    "duration": 684,
    "start_time": "2023-04-16T10:24:31.221Z"
   },
   {
    "duration": 55,
    "start_time": "2023-04-16T10:24:31.908Z"
   },
   {
    "duration": 19,
    "start_time": "2023-04-16T10:24:31.965Z"
   },
   {
    "duration": 22,
    "start_time": "2023-04-16T10:24:31.986Z"
   },
   {
    "duration": 17,
    "start_time": "2023-04-16T10:24:32.010Z"
   },
   {
    "duration": 8,
    "start_time": "2023-04-16T10:24:32.030Z"
   },
   {
    "duration": 5,
    "start_time": "2023-04-16T10:24:32.041Z"
   },
   {
    "duration": 10,
    "start_time": "2023-04-16T10:24:32.048Z"
   },
   {
    "duration": 10,
    "start_time": "2023-04-16T10:24:32.060Z"
   },
   {
    "duration": 32,
    "start_time": "2023-04-16T10:24:32.071Z"
   },
   {
    "duration": 20,
    "start_time": "2023-04-16T10:24:32.105Z"
   },
   {
    "duration": 6,
    "start_time": "2023-04-16T10:24:32.127Z"
   },
   {
    "duration": 27,
    "start_time": "2023-04-16T10:24:32.135Z"
   },
   {
    "duration": 35,
    "start_time": "2023-04-16T10:24:32.165Z"
   },
   {
    "duration": 6,
    "start_time": "2023-04-16T10:24:32.202Z"
   },
   {
    "duration": 9,
    "start_time": "2023-04-16T10:24:32.210Z"
   },
   {
    "duration": 10,
    "start_time": "2023-04-16T10:24:32.221Z"
   },
   {
    "duration": 17,
    "start_time": "2023-04-16T10:24:32.233Z"
   },
   {
    "duration": 15,
    "start_time": "2023-04-16T10:24:34.013Z"
   },
   {
    "duration": 209,
    "start_time": "2023-04-16T10:24:35.222Z"
   },
   {
    "duration": 166,
    "start_time": "2023-04-16T10:26:04.415Z"
   },
   {
    "duration": 217,
    "start_time": "2023-04-16T10:41:40.268Z"
   },
   {
    "duration": 175,
    "start_time": "2023-04-16T10:41:59.361Z"
   },
   {
    "duration": 100,
    "start_time": "2023-04-16T10:47:21.824Z"
   },
   {
    "duration": 16,
    "start_time": "2023-04-16T10:47:36.736Z"
   },
   {
    "duration": 95,
    "start_time": "2023-04-16T10:47:46.812Z"
   },
   {
    "duration": 91,
    "start_time": "2023-04-16T10:48:22.818Z"
   },
   {
    "duration": 13,
    "start_time": "2023-04-16T10:48:33.872Z"
   },
   {
    "duration": 234,
    "start_time": "2023-04-16T10:48:43.659Z"
   },
   {
    "duration": 71,
    "start_time": "2023-04-16T10:48:48.502Z"
   },
   {
    "duration": 191,
    "start_time": "2023-04-16T10:49:12.924Z"
   },
   {
    "duration": 219,
    "start_time": "2023-04-16T10:50:10.222Z"
   },
   {
    "duration": 317,
    "start_time": "2023-04-16T10:54:37.821Z"
   },
   {
    "duration": 279,
    "start_time": "2023-04-16T10:54:55.415Z"
   },
   {
    "duration": 650,
    "start_time": "2023-04-16T10:55:10.720Z"
   },
   {
    "duration": 48,
    "start_time": "2023-04-16T10:55:11.372Z"
   },
   {
    "duration": 19,
    "start_time": "2023-04-16T10:55:11.422Z"
   },
   {
    "duration": 16,
    "start_time": "2023-04-16T10:55:11.443Z"
   },
   {
    "duration": 4,
    "start_time": "2023-04-16T10:55:11.462Z"
   },
   {
    "duration": 3,
    "start_time": "2023-04-16T10:55:11.490Z"
   },
   {
    "duration": 6,
    "start_time": "2023-04-16T10:55:11.495Z"
   },
   {
    "duration": 7,
    "start_time": "2023-04-16T10:55:11.503Z"
   },
   {
    "duration": 6,
    "start_time": "2023-04-16T10:55:11.512Z"
   },
   {
    "duration": 18,
    "start_time": "2023-04-16T10:55:11.520Z"
   },
   {
    "duration": 17,
    "start_time": "2023-04-16T10:55:11.540Z"
   },
   {
    "duration": 34,
    "start_time": "2023-04-16T10:55:11.559Z"
   },
   {
    "duration": 19,
    "start_time": "2023-04-16T10:55:11.595Z"
   },
   {
    "duration": 25,
    "start_time": "2023-04-16T10:55:11.617Z"
   },
   {
    "duration": 7,
    "start_time": "2023-04-16T10:55:11.644Z"
   },
   {
    "duration": 8,
    "start_time": "2023-04-16T10:55:11.654Z"
   },
   {
    "duration": 7,
    "start_time": "2023-04-16T10:55:11.690Z"
   },
   {
    "duration": 221,
    "start_time": "2023-04-16T10:55:11.699Z"
   },
   {
    "duration": 19,
    "start_time": "2023-04-16T10:55:11.923Z"
   },
   {
    "duration": 13,
    "start_time": "2023-04-16T10:55:16.525Z"
   },
   {
    "duration": 325,
    "start_time": "2023-04-16T10:55:19.889Z"
   },
   {
    "duration": 585,
    "start_time": "2023-04-16T10:56:03.728Z"
   },
   {
    "duration": 334,
    "start_time": "2023-04-16T10:56:23.855Z"
   },
   {
    "duration": 277,
    "start_time": "2023-04-16T10:56:41.066Z"
   },
   {
    "duration": 276,
    "start_time": "2023-04-16T10:56:49.730Z"
   },
   {
    "duration": 273,
    "start_time": "2023-04-16T10:56:57.243Z"
   },
   {
    "duration": 175,
    "start_time": "2023-04-16T10:57:49.779Z"
   },
   {
    "duration": 13,
    "start_time": "2023-04-16T10:58:01.761Z"
   },
   {
    "duration": 284,
    "start_time": "2023-04-16T10:58:16.471Z"
   },
   {
    "duration": 279,
    "start_time": "2023-04-16T10:58:37.319Z"
   },
   {
    "duration": 281,
    "start_time": "2023-04-16T10:58:56.273Z"
   },
   {
    "duration": 257,
    "start_time": "2023-04-16T10:59:10.610Z"
   },
   {
    "duration": 256,
    "start_time": "2023-04-16T11:00:08.243Z"
   },
   {
    "duration": 287,
    "start_time": "2023-04-16T11:00:33.949Z"
   },
   {
    "duration": 368,
    "start_time": "2023-04-16T11:01:23.052Z"
   },
   {
    "duration": 315,
    "start_time": "2023-04-16T11:01:57.019Z"
   },
   {
    "duration": 99,
    "start_time": "2023-04-16T11:02:12.118Z"
   },
   {
    "duration": 303,
    "start_time": "2023-04-16T11:02:22.423Z"
   },
   {
    "duration": 286,
    "start_time": "2023-04-16T11:02:29.240Z"
   },
   {
    "duration": 577,
    "start_time": "2023-04-16T11:02:43.659Z"
   },
   {
    "duration": 294,
    "start_time": "2023-04-16T11:03:04.700Z"
   },
   {
    "duration": 25,
    "start_time": "2023-04-16T11:03:43.001Z"
   },
   {
    "duration": 562,
    "start_time": "2023-04-16T11:03:51.269Z"
   },
   {
    "duration": 28,
    "start_time": "2023-04-16T11:04:07.446Z"
   },
   {
    "duration": 4,
    "start_time": "2023-04-16T11:04:15.134Z"
   },
   {
    "duration": 167,
    "start_time": "2023-04-16T11:04:18.957Z"
   },
   {
    "duration": 282,
    "start_time": "2023-04-16T11:04:23.223Z"
   },
   {
    "duration": 5,
    "start_time": "2023-04-16T11:04:37.976Z"
   },
   {
    "duration": 185,
    "start_time": "2023-04-16T11:04:39.221Z"
   },
   {
    "duration": 377,
    "start_time": "2023-04-16T11:04:42.696Z"
   },
   {
    "duration": 5,
    "start_time": "2023-04-16T11:04:54.020Z"
   },
   {
    "duration": 300,
    "start_time": "2023-04-16T11:04:57.936Z"
   },
   {
    "duration": 5,
    "start_time": "2023-04-16T11:07:43.335Z"
   },
   {
    "duration": 18,
    "start_time": "2023-04-16T11:09:05.190Z"
   },
   {
    "duration": 29,
    "start_time": "2023-04-16T11:10:37.018Z"
   },
   {
    "duration": 18,
    "start_time": "2023-04-16T11:10:39.913Z"
   },
   {
    "duration": 27,
    "start_time": "2023-04-16T11:10:40.925Z"
   },
   {
    "duration": 19,
    "start_time": "2023-04-16T11:10:43.945Z"
   },
   {
    "duration": 27,
    "start_time": "2023-04-16T11:10:44.637Z"
   },
   {
    "duration": 269,
    "start_time": "2023-04-16T11:10:53.802Z"
   },
   {
    "duration": 277,
    "start_time": "2023-04-16T11:11:17.019Z"
   },
   {
    "duration": 7,
    "start_time": "2023-04-16T11:11:50.517Z"
   },
   {
    "duration": 16,
    "start_time": "2023-04-16T11:12:03.320Z"
   },
   {
    "duration": 256,
    "start_time": "2023-04-16T11:12:12.450Z"
   },
   {
    "duration": 380,
    "start_time": "2023-04-16T11:12:41.569Z"
   },
   {
    "duration": 249,
    "start_time": "2023-04-16T11:13:46.006Z"
   },
   {
    "duration": 232,
    "start_time": "2023-04-16T11:14:16.421Z"
   },
   {
    "duration": 5,
    "start_time": "2023-04-16T11:14:33.511Z"
   },
   {
    "duration": 16,
    "start_time": "2023-04-16T11:14:35.809Z"
   },
   {
    "duration": 241,
    "start_time": "2023-04-16T11:14:36.758Z"
   },
   {
    "duration": 771,
    "start_time": "2023-04-16T11:14:46.871Z"
   },
   {
    "duration": 57,
    "start_time": "2023-04-16T11:14:47.644Z"
   },
   {
    "duration": 21,
    "start_time": "2023-04-16T11:14:47.703Z"
   },
   {
    "duration": 17,
    "start_time": "2023-04-16T11:14:47.726Z"
   },
   {
    "duration": 21,
    "start_time": "2023-04-16T11:14:47.745Z"
   },
   {
    "duration": 31,
    "start_time": "2023-04-16T11:14:47.768Z"
   },
   {
    "duration": 15,
    "start_time": "2023-04-16T11:14:47.801Z"
   },
   {
    "duration": 15,
    "start_time": "2023-04-16T11:14:47.818Z"
   },
   {
    "duration": 15,
    "start_time": "2023-04-16T11:14:47.835Z"
   },
   {
    "duration": 15,
    "start_time": "2023-04-16T11:14:47.853Z"
   },
   {
    "duration": 29,
    "start_time": "2023-04-16T11:14:47.870Z"
   },
   {
    "duration": 7,
    "start_time": "2023-04-16T11:14:47.901Z"
   },
   {
    "duration": 27,
    "start_time": "2023-04-16T11:14:47.909Z"
   },
   {
    "duration": 31,
    "start_time": "2023-04-16T11:14:47.938Z"
   },
   {
    "duration": 21,
    "start_time": "2023-04-16T11:14:47.970Z"
   },
   {
    "duration": 24,
    "start_time": "2023-04-16T11:14:47.993Z"
   },
   {
    "duration": 23,
    "start_time": "2023-04-16T11:14:48.019Z"
   },
   {
    "duration": 236,
    "start_time": "2023-04-16T11:14:48.044Z"
   },
   {
    "duration": 15,
    "start_time": "2023-04-16T11:14:48.281Z"
   },
   {
    "duration": 17,
    "start_time": "2023-04-16T11:14:48.298Z"
   },
   {
    "duration": 356,
    "start_time": "2023-04-16T11:14:48.318Z"
   },
   {
    "duration": 6,
    "start_time": "2023-04-16T11:14:48.675Z"
   },
   {
    "duration": 27,
    "start_time": "2023-04-16T11:14:48.683Z"
   },
   {
    "duration": 17,
    "start_time": "2023-04-16T11:14:51.750Z"
   },
   {
    "duration": 262,
    "start_time": "2023-04-16T11:14:53.348Z"
   },
   {
    "duration": 355,
    "start_time": "2023-04-16T11:15:06.480Z"
   },
   {
    "duration": 306,
    "start_time": "2023-04-16T11:15:51.162Z"
   },
   {
    "duration": 241,
    "start_time": "2023-04-16T11:16:54.366Z"
   },
   {
    "duration": 278,
    "start_time": "2023-04-16T11:17:21.472Z"
   },
   {
    "duration": 243,
    "start_time": "2023-04-16T11:17:27.171Z"
   },
   {
    "duration": 248,
    "start_time": "2023-04-16T11:18:17.217Z"
   },
   {
    "duration": 20,
    "start_time": "2023-04-16T11:19:47.536Z"
   },
   {
    "duration": 289,
    "start_time": "2023-04-16T11:20:27.886Z"
   },
   {
    "duration": 296,
    "start_time": "2023-04-16T11:24:17.951Z"
   },
   {
    "duration": 293,
    "start_time": "2023-04-16T11:25:04.717Z"
   },
   {
    "duration": 295,
    "start_time": "2023-04-16T11:25:26.111Z"
   },
   {
    "duration": 362,
    "start_time": "2023-04-16T11:25:32.854Z"
   },
   {
    "duration": 16,
    "start_time": "2023-04-16T11:25:56.639Z"
   },
   {
    "duration": 288,
    "start_time": "2023-04-16T11:26:04.815Z"
   },
   {
    "duration": 311,
    "start_time": "2023-04-16T11:26:24.104Z"
   },
   {
    "duration": 138,
    "start_time": "2023-04-16T11:26:44.763Z"
   },
   {
    "duration": 21,
    "start_time": "2023-04-16T13:24:23.803Z"
   },
   {
    "duration": 275,
    "start_time": "2023-04-16T13:24:24.842Z"
   },
   {
    "duration": 110,
    "start_time": "2023-04-16T13:26:36.708Z"
   },
   {
    "duration": 249,
    "start_time": "2023-04-16T13:27:22.450Z"
   },
   {
    "duration": 314,
    "start_time": "2023-04-16T13:27:47.305Z"
   },
   {
    "duration": 244,
    "start_time": "2023-04-16T13:29:06.350Z"
   },
   {
    "duration": 35,
    "start_time": "2023-04-16T13:31:28.621Z"
   },
   {
    "duration": 13,
    "start_time": "2023-04-16T13:31:56.701Z"
   },
   {
    "duration": 29,
    "start_time": "2023-04-16T13:32:06.008Z"
   },
   {
    "duration": 215,
    "start_time": "2023-04-16T13:32:53.706Z"
   },
   {
    "duration": 28,
    "start_time": "2023-04-16T13:33:05.255Z"
   },
   {
    "duration": 28,
    "start_time": "2023-04-16T13:33:51.139Z"
   },
   {
    "duration": 22,
    "start_time": "2023-04-16T13:34:02.305Z"
   },
   {
    "duration": 28,
    "start_time": "2023-04-16T13:34:08.208Z"
   },
   {
    "duration": 22,
    "start_time": "2023-04-16T13:34:17.700Z"
   },
   {
    "duration": 29,
    "start_time": "2023-04-16T13:34:44.296Z"
   },
   {
    "duration": 55,
    "start_time": "2023-04-16T13:35:44.096Z"
   },
   {
    "duration": 41,
    "start_time": "2023-04-16T13:35:55.025Z"
   },
   {
    "duration": 24,
    "start_time": "2023-04-16T13:37:31.625Z"
   },
   {
    "duration": 28,
    "start_time": "2023-04-16T13:37:38.900Z"
   },
   {
    "duration": 240,
    "start_time": "2023-04-16T13:37:53.750Z"
   },
   {
    "duration": 25,
    "start_time": "2023-04-16T13:38:15.369Z"
   },
   {
    "duration": 21,
    "start_time": "2023-04-16T13:38:24.696Z"
   },
   {
    "duration": 29,
    "start_time": "2023-04-16T13:38:32.636Z"
   },
   {
    "duration": 27,
    "start_time": "2023-04-16T13:38:45.465Z"
   },
   {
    "duration": 21,
    "start_time": "2023-04-16T13:39:07.398Z"
   },
   {
    "duration": 21,
    "start_time": "2023-04-16T13:39:34.830Z"
   },
   {
    "duration": 28,
    "start_time": "2023-04-16T13:39:40.408Z"
   },
   {
    "duration": 21,
    "start_time": "2023-04-16T13:39:59.217Z"
   },
   {
    "duration": 23,
    "start_time": "2023-04-16T13:40:09.543Z"
   },
   {
    "duration": 20,
    "start_time": "2023-04-16T13:40:31.523Z"
   },
   {
    "duration": 22,
    "start_time": "2023-04-16T13:40:59.026Z"
   },
   {
    "duration": 134,
    "start_time": "2023-04-16T13:41:41.631Z"
   },
   {
    "duration": 132,
    "start_time": "2023-04-16T13:42:25.463Z"
   },
   {
    "duration": 109,
    "start_time": "2023-04-16T13:42:43.312Z"
   },
   {
    "duration": 16,
    "start_time": "2023-04-16T13:49:30.416Z"
   },
   {
    "duration": 17,
    "start_time": "2023-04-16T13:50:00.225Z"
   },
   {
    "duration": 18,
    "start_time": "2023-04-16T13:50:34.621Z"
   },
   {
    "duration": 111,
    "start_time": "2023-04-16T13:50:42.271Z"
   },
   {
    "duration": 237,
    "start_time": "2023-04-16T13:50:54.619Z"
   },
   {
    "duration": 116,
    "start_time": "2023-04-16T13:50:59.929Z"
   },
   {
    "duration": 113,
    "start_time": "2023-04-16T13:51:03.804Z"
   },
   {
    "duration": 108,
    "start_time": "2023-04-16T13:51:09.005Z"
   },
   {
    "duration": 119,
    "start_time": "2023-04-16T13:51:16.223Z"
   },
   {
    "duration": 113,
    "start_time": "2023-04-16T13:51:23.126Z"
   },
   {
    "duration": 122,
    "start_time": "2023-04-16T13:51:27.222Z"
   },
   {
    "duration": 114,
    "start_time": "2023-04-16T13:51:29.964Z"
   },
   {
    "duration": 119,
    "start_time": "2023-04-16T13:51:33.520Z"
   },
   {
    "duration": 109,
    "start_time": "2023-04-16T13:51:36.801Z"
   },
   {
    "duration": 117,
    "start_time": "2023-04-16T13:51:48.804Z"
   },
   {
    "duration": 131,
    "start_time": "2023-04-16T13:52:37.417Z"
   },
   {
    "duration": 123,
    "start_time": "2023-04-16T13:53:12.467Z"
   },
   {
    "duration": 136,
    "start_time": "2023-04-16T13:53:29.898Z"
   },
   {
    "duration": 148,
    "start_time": "2023-04-16T13:53:52.475Z"
   },
   {
    "duration": 133,
    "start_time": "2023-04-16T13:54:22.720Z"
   },
   {
    "duration": 206,
    "start_time": "2023-04-16T13:55:20.320Z"
   },
   {
    "duration": 138,
    "start_time": "2023-04-16T13:56:08.968Z"
   },
   {
    "duration": 16,
    "start_time": "2023-04-16T13:56:15.744Z"
   },
   {
    "duration": 43,
    "start_time": "2023-04-16T13:56:59.568Z"
   },
   {
    "duration": 284,
    "start_time": "2023-04-16T13:57:09.990Z"
   },
   {
    "duration": 34,
    "start_time": "2023-04-16T13:57:16.564Z"
   },
   {
    "duration": 15,
    "start_time": "2023-04-16T13:57:29.921Z"
   },
   {
    "duration": 20,
    "start_time": "2023-04-16T13:57:33.057Z"
   },
   {
    "duration": 361,
    "start_time": "2023-04-16T13:57:44.674Z"
   },
   {
    "duration": 125,
    "start_time": "2023-04-16T13:57:53.360Z"
   },
   {
    "duration": 137,
    "start_time": "2023-04-16T14:00:07.382Z"
   },
   {
    "duration": 132,
    "start_time": "2023-04-16T14:00:20.709Z"
   },
   {
    "duration": 18,
    "start_time": "2023-04-16T14:04:50.214Z"
   },
   {
    "duration": 161,
    "start_time": "2023-04-16T14:06:11.572Z"
   },
   {
    "duration": 127,
    "start_time": "2023-04-16T14:06:28.115Z"
   },
   {
    "duration": 21,
    "start_time": "2023-04-16T14:06:40.635Z"
   },
   {
    "duration": 34,
    "start_time": "2023-04-16T14:06:46.749Z"
   },
   {
    "duration": 15,
    "start_time": "2023-04-16T14:07:10.123Z"
   },
   {
    "duration": 21,
    "start_time": "2023-04-16T14:07:14.108Z"
   },
   {
    "duration": 133,
    "start_time": "2023-04-16T14:07:30.948Z"
   },
   {
    "duration": 141,
    "start_time": "2023-04-16T14:07:56.935Z"
   },
   {
    "duration": 19,
    "start_time": "2023-04-16T14:09:20.858Z"
   },
   {
    "duration": 22,
    "start_time": "2023-04-16T14:09:27.815Z"
   },
   {
    "duration": 256,
    "start_time": "2023-04-16T14:09:42.454Z"
   },
   {
    "duration": 142,
    "start_time": "2023-04-16T14:10:17.327Z"
   },
   {
    "duration": 351,
    "start_time": "2023-04-16T14:18:31.816Z"
   },
   {
    "duration": 331,
    "start_time": "2023-04-16T14:18:59.325Z"
   },
   {
    "duration": 19,
    "start_time": "2023-04-16T14:19:00.346Z"
   },
   {
    "duration": 174,
    "start_time": "2023-04-16T14:19:03.850Z"
   },
   {
    "duration": 356,
    "start_time": "2023-04-16T14:20:06.850Z"
   },
   {
    "duration": 355,
    "start_time": "2023-04-16T14:20:52.559Z"
   },
   {
    "duration": 10,
    "start_time": "2023-04-16T14:21:22.465Z"
   },
   {
    "duration": 9,
    "start_time": "2023-04-16T14:21:34.112Z"
   },
   {
    "duration": 10,
    "start_time": "2023-04-16T14:23:09.815Z"
   },
   {
    "duration": 30,
    "start_time": "2023-04-16T14:23:17.913Z"
   },
   {
    "duration": 154,
    "start_time": "2023-04-16T14:27:46.606Z"
   },
   {
    "duration": 1279,
    "start_time": "2023-04-16T14:28:33.624Z"
   },
   {
    "duration": 169,
    "start_time": "2023-04-16T14:29:05.873Z"
   },
   {
    "duration": 156,
    "start_time": "2023-04-16T14:30:09.834Z"
   },
   {
    "duration": 150,
    "start_time": "2023-04-16T14:30:36.219Z"
   },
   {
    "duration": 362,
    "start_time": "2023-04-16T14:30:48.041Z"
   },
   {
    "duration": 188,
    "start_time": "2023-04-16T14:30:57.908Z"
   },
   {
    "duration": 199,
    "start_time": "2023-04-16T14:32:01.640Z"
   },
   {
    "duration": 202,
    "start_time": "2023-04-16T14:32:09.836Z"
   },
   {
    "duration": 196,
    "start_time": "2023-04-16T14:32:18.123Z"
   },
   {
    "duration": 344,
    "start_time": "2023-04-16T14:32:57.631Z"
   },
   {
    "duration": 183,
    "start_time": "2023-04-16T14:33:11.008Z"
   },
   {
    "duration": 14,
    "start_time": "2023-04-16T14:34:04.969Z"
   },
   {
    "duration": 13,
    "start_time": "2023-04-16T14:35:01.770Z"
   },
   {
    "duration": 20,
    "start_time": "2023-04-16T14:35:09.561Z"
   },
   {
    "duration": 17,
    "start_time": "2023-04-16T14:35:18.462Z"
   },
   {
    "duration": 19,
    "start_time": "2023-04-16T14:35:36.211Z"
   },
   {
    "duration": 14,
    "start_time": "2023-04-16T14:56:08.123Z"
   },
   {
    "duration": 18,
    "start_time": "2023-04-16T14:57:57.930Z"
   },
   {
    "duration": 5,
    "start_time": "2023-04-16T14:59:16.927Z"
   },
   {
    "duration": 29,
    "start_time": "2023-04-16T14:59:24.377Z"
   },
   {
    "duration": 17,
    "start_time": "2023-04-16T14:59:56.209Z"
   },
   {
    "duration": 250,
    "start_time": "2023-04-16T15:07:29.932Z"
   },
   {
    "duration": 6,
    "start_time": "2023-04-16T15:07:41.212Z"
   },
   {
    "duration": 19,
    "start_time": "2023-04-16T15:07:47.910Z"
   },
   {
    "duration": 295,
    "start_time": "2023-04-16T15:07:48.812Z"
   },
   {
    "duration": 121,
    "start_time": "2023-04-16T15:07:57.210Z"
   },
   {
    "duration": 134,
    "start_time": "2023-04-16T15:08:21.308Z"
   },
   {
    "duration": 337,
    "start_time": "2023-04-16T15:08:36.721Z"
   },
   {
    "duration": 8,
    "start_time": "2023-04-16T15:09:03.313Z"
   },
   {
    "duration": 206,
    "start_time": "2023-04-16T15:09:06.102Z"
   },
   {
    "duration": 13,
    "start_time": "2023-04-16T15:09:20.041Z"
   },
   {
    "duration": 218,
    "start_time": "2023-04-16T15:09:29.333Z"
   },
   {
    "duration": 219,
    "start_time": "2023-04-16T15:09:57.268Z"
   },
   {
    "duration": 13,
    "start_time": "2023-04-16T15:09:59.833Z"
   },
   {
    "duration": 14,
    "start_time": "2023-04-16T15:10:13.715Z"
   },
   {
    "duration": 13,
    "start_time": "2023-04-16T15:10:14.218Z"
   },
   {
    "duration": 13,
    "start_time": "2023-04-16T15:10:15.415Z"
   },
   {
    "duration": 14,
    "start_time": "2023-04-16T15:10:15.905Z"
   },
   {
    "duration": 15,
    "start_time": "2023-04-16T15:10:17.718Z"
   },
   {
    "duration": 13,
    "start_time": "2023-04-16T15:10:56.021Z"
   },
   {
    "duration": 15,
    "start_time": "2023-04-16T15:11:29.041Z"
   },
   {
    "duration": 21,
    "start_time": "2023-04-16T15:12:03.416Z"
   },
   {
    "duration": 14,
    "start_time": "2023-04-16T15:12:11.697Z"
   },
   {
    "duration": 14,
    "start_time": "2023-04-16T15:12:20.821Z"
   },
   {
    "duration": 19,
    "start_time": "2023-04-16T15:12:33.604Z"
   },
   {
    "duration": 15,
    "start_time": "2023-04-16T15:12:43.749Z"
   },
   {
    "duration": 20,
    "start_time": "2023-04-16T15:12:49.211Z"
   },
   {
    "duration": 20,
    "start_time": "2023-04-16T15:12:55.755Z"
   },
   {
    "duration": 13,
    "start_time": "2023-04-16T15:13:20.008Z"
   },
   {
    "duration": 22,
    "start_time": "2023-04-16T15:13:23.884Z"
   },
   {
    "duration": 13,
    "start_time": "2023-04-16T15:14:09.131Z"
   },
   {
    "duration": 19,
    "start_time": "2023-04-16T15:14:14.340Z"
   },
   {
    "duration": 14,
    "start_time": "2023-04-16T15:14:33.112Z"
   },
   {
    "duration": 14,
    "start_time": "2023-04-16T15:14:57.536Z"
   },
   {
    "duration": 12,
    "start_time": "2023-04-16T15:15:24.006Z"
   },
   {
    "duration": 13,
    "start_time": "2023-04-16T15:15:37.915Z"
   },
   {
    "duration": 14,
    "start_time": "2023-04-16T15:15:53.252Z"
   },
   {
    "duration": 15,
    "start_time": "2023-04-16T15:16:07.637Z"
   },
   {
    "duration": 12,
    "start_time": "2023-04-16T15:16:09.276Z"
   },
   {
    "duration": 14,
    "start_time": "2023-04-16T15:16:11.930Z"
   },
   {
    "duration": 18,
    "start_time": "2023-04-16T15:16:12.783Z"
   },
   {
    "duration": 12,
    "start_time": "2023-04-16T15:16:13.226Z"
   },
   {
    "duration": 13,
    "start_time": "2023-04-16T15:16:52.222Z"
   },
   {
    "duration": 12,
    "start_time": "2023-04-16T15:16:52.854Z"
   },
   {
    "duration": 26,
    "start_time": "2023-04-16T15:17:31.246Z"
   },
   {
    "duration": 13,
    "start_time": "2023-04-16T15:18:05.113Z"
   },
   {
    "duration": 13,
    "start_time": "2023-04-16T15:18:35.449Z"
   },
   {
    "duration": 14,
    "start_time": "2023-04-16T15:21:11.043Z"
   },
   {
    "duration": 16,
    "start_time": "2023-04-16T15:29:46.215Z"
   },
   {
    "duration": 645,
    "start_time": "2023-04-16T15:29:55.622Z"
   },
   {
    "duration": 10,
    "start_time": "2023-04-16T15:29:56.269Z"
   },
   {
    "duration": 14,
    "start_time": "2023-04-16T15:30:01.330Z"
   },
   {
    "duration": 15,
    "start_time": "2023-04-16T15:33:54.622Z"
   },
   {
    "duration": 11,
    "start_time": "2023-04-16T15:34:02.674Z"
   },
   {
    "duration": 12,
    "start_time": "2023-04-16T15:34:29.743Z"
   },
   {
    "duration": 12,
    "start_time": "2023-04-16T15:34:45.248Z"
   },
   {
    "duration": 13,
    "start_time": "2023-04-16T15:34:49.325Z"
   },
   {
    "duration": 10,
    "start_time": "2023-04-16T15:34:55.704Z"
   },
   {
    "duration": 9,
    "start_time": "2023-04-16T15:35:07.617Z"
   },
   {
    "duration": 10,
    "start_time": "2023-04-16T15:35:15.974Z"
   },
   {
    "duration": 10,
    "start_time": "2023-04-16T15:35:18.618Z"
   },
   {
    "duration": 10,
    "start_time": "2023-04-16T16:31:55.782Z"
   },
   {
    "duration": 7,
    "start_time": "2023-04-16T17:30:10.515Z"
   },
   {
    "duration": 10,
    "start_time": "2023-04-16T17:52:18.881Z"
   },
   {
    "duration": 726,
    "start_time": "2023-04-16T17:58:17.730Z"
   },
   {
    "duration": 58,
    "start_time": "2023-04-16T17:58:18.458Z"
   },
   {
    "duration": 20,
    "start_time": "2023-04-16T17:58:18.518Z"
   },
   {
    "duration": 14,
    "start_time": "2023-04-16T17:58:18.540Z"
   },
   {
    "duration": 4,
    "start_time": "2023-04-16T17:58:18.557Z"
   },
   {
    "duration": 4,
    "start_time": "2023-04-16T17:58:18.563Z"
   },
   {
    "duration": 10,
    "start_time": "2023-04-16T17:58:18.602Z"
   },
   {
    "duration": 6,
    "start_time": "2023-04-16T17:58:18.614Z"
   },
   {
    "duration": 7,
    "start_time": "2023-04-16T17:58:18.622Z"
   },
   {
    "duration": 14,
    "start_time": "2023-04-16T17:58:18.631Z"
   },
   {
    "duration": 18,
    "start_time": "2023-04-16T17:58:18.647Z"
   },
   {
    "duration": 5,
    "start_time": "2023-04-16T17:58:18.666Z"
   },
   {
    "duration": 43,
    "start_time": "2023-04-16T17:58:18.673Z"
   },
   {
    "duration": 16,
    "start_time": "2023-04-16T17:58:18.719Z"
   },
   {
    "duration": 5,
    "start_time": "2023-04-16T17:58:18.737Z"
   },
   {
    "duration": 7,
    "start_time": "2023-04-16T17:58:18.744Z"
   },
   {
    "duration": 6,
    "start_time": "2023-04-16T17:58:18.753Z"
   },
   {
    "duration": 232,
    "start_time": "2023-04-16T17:58:18.792Z"
   },
   {
    "duration": 6,
    "start_time": "2023-04-16T17:58:19.026Z"
   },
   {
    "duration": 14,
    "start_time": "2023-04-16T17:58:19.034Z"
   },
   {
    "duration": 380,
    "start_time": "2023-04-16T17:58:19.049Z"
   },
   {
    "duration": 5,
    "start_time": "2023-04-16T17:58:19.432Z"
   },
   {
    "duration": 16,
    "start_time": "2023-04-16T17:58:23.713Z"
   },
   {
    "duration": 291,
    "start_time": "2023-04-16T17:58:39.574Z"
   },
   {
    "duration": 100,
    "start_time": "2023-04-16T17:59:31.542Z"
   },
   {
    "duration": 286,
    "start_time": "2023-04-16T17:59:39.828Z"
   },
   {
    "duration": 395,
    "start_time": "2023-04-16T18:00:01.624Z"
   },
   {
    "duration": 369,
    "start_time": "2023-04-16T18:00:23.574Z"
   },
   {
    "duration": 334,
    "start_time": "2023-04-16T18:00:34.308Z"
   },
   {
    "duration": 211,
    "start_time": "2023-04-16T18:05:36.425Z"
   },
   {
    "duration": 682,
    "start_time": "2023-04-16T18:18:15.309Z"
   },
   {
    "duration": 52,
    "start_time": "2023-04-16T18:18:15.993Z"
   },
   {
    "duration": 20,
    "start_time": "2023-04-16T18:18:16.047Z"
   },
   {
    "duration": 21,
    "start_time": "2023-04-16T18:18:16.069Z"
   },
   {
    "duration": 9,
    "start_time": "2023-04-16T18:18:16.093Z"
   },
   {
    "duration": 14,
    "start_time": "2023-04-16T18:18:16.104Z"
   },
   {
    "duration": 7,
    "start_time": "2023-04-16T18:18:16.120Z"
   },
   {
    "duration": 7,
    "start_time": "2023-04-16T18:18:16.130Z"
   },
   {
    "duration": 10,
    "start_time": "2023-04-16T18:18:16.138Z"
   },
   {
    "duration": 11,
    "start_time": "2023-04-16T18:18:16.150Z"
   },
   {
    "duration": 40,
    "start_time": "2023-04-16T18:18:16.164Z"
   },
   {
    "duration": 7,
    "start_time": "2023-04-16T18:18:16.206Z"
   },
   {
    "duration": 19,
    "start_time": "2023-04-16T18:18:16.214Z"
   },
   {
    "duration": 18,
    "start_time": "2023-04-16T18:18:16.236Z"
   },
   {
    "duration": 35,
    "start_time": "2023-04-16T18:18:16.256Z"
   },
   {
    "duration": 6,
    "start_time": "2023-04-16T18:18:16.293Z"
   },
   {
    "duration": 6,
    "start_time": "2023-04-16T18:18:16.301Z"
   },
   {
    "duration": 225,
    "start_time": "2023-04-16T18:18:16.308Z"
   },
   {
    "duration": 6,
    "start_time": "2023-04-16T18:18:16.535Z"
   },
   {
    "duration": 14,
    "start_time": "2023-04-16T18:18:16.543Z"
   },
   {
    "duration": 370,
    "start_time": "2023-04-16T18:18:16.559Z"
   },
   {
    "duration": 7,
    "start_time": "2023-04-16T18:18:16.932Z"
   },
   {
    "duration": 21,
    "start_time": "2023-04-16T18:18:16.941Z"
   },
   {
    "duration": 308,
    "start_time": "2023-04-16T18:18:16.964Z"
   },
   {
    "duration": 125,
    "start_time": "2023-04-16T18:18:17.274Z"
   },
   {
    "duration": 205,
    "start_time": "2023-04-16T18:18:17.400Z"
   },
   {
    "duration": 371,
    "start_time": "2023-04-16T18:18:17.607Z"
   },
   {
    "duration": 11,
    "start_time": "2023-04-16T18:18:17.988Z"
   },
   {
    "duration": 220,
    "start_time": "2023-04-16T18:18:18.001Z"
   },
   {
    "duration": 14,
    "start_time": "2023-04-16T18:18:18.223Z"
   },
   {
    "duration": 231,
    "start_time": "2023-04-16T18:18:18.239Z"
   },
   {
    "duration": 21,
    "start_time": "2023-04-16T18:18:18.472Z"
   },
   {
    "duration": 18,
    "start_time": "2023-04-16T18:18:18.495Z"
   },
   {
    "duration": 18,
    "start_time": "2023-04-16T18:18:18.515Z"
   },
   {
    "duration": 13,
    "start_time": "2023-04-16T18:18:18.535Z"
   },
   {
    "duration": 12,
    "start_time": "2023-04-16T18:18:18.550Z"
   },
   {
    "duration": 13,
    "start_time": "2023-04-16T18:18:18.590Z"
   },
   {
    "duration": 14,
    "start_time": "2023-04-16T18:18:18.606Z"
   },
   {
    "duration": 488,
    "start_time": "2023-04-16T18:18:18.622Z"
   },
   {
    "duration": 11,
    "start_time": "2023-04-16T18:18:19.112Z"
   },
   {
    "duration": 13,
    "start_time": "2023-04-16T18:18:19.128Z"
   },
   {
    "duration": 900,
    "start_time": "2023-04-17T15:23:55.636Z"
   },
   {
    "duration": 108,
    "start_time": "2023-04-17T15:23:56.539Z"
   },
   {
    "duration": 19,
    "start_time": "2023-04-17T15:23:56.649Z"
   },
   {
    "duration": 15,
    "start_time": "2023-04-17T15:23:56.670Z"
   },
   {
    "duration": 8,
    "start_time": "2023-04-17T15:23:56.686Z"
   },
   {
    "duration": 6,
    "start_time": "2023-04-17T15:23:56.696Z"
   },
   {
    "duration": 10,
    "start_time": "2023-04-17T15:23:56.704Z"
   },
   {
    "duration": 12,
    "start_time": "2023-04-17T15:23:56.716Z"
   },
   {
    "duration": 9,
    "start_time": "2023-04-17T15:23:56.730Z"
   },
   {
    "duration": 12,
    "start_time": "2023-04-17T15:23:56.742Z"
   },
   {
    "duration": 20,
    "start_time": "2023-04-17T15:23:56.756Z"
   },
   {
    "duration": 6,
    "start_time": "2023-04-17T15:23:56.788Z"
   },
   {
    "duration": 25,
    "start_time": "2023-04-17T15:23:56.795Z"
   },
   {
    "duration": 27,
    "start_time": "2023-04-17T15:23:56.822Z"
   },
   {
    "duration": 6,
    "start_time": "2023-04-17T15:23:56.851Z"
   },
   {
    "duration": 18,
    "start_time": "2023-04-17T15:23:56.859Z"
   },
   {
    "duration": 6,
    "start_time": "2023-04-17T15:23:56.886Z"
   },
   {
    "duration": 203,
    "start_time": "2023-04-17T15:23:56.894Z"
   },
   {
    "duration": 6,
    "start_time": "2023-04-17T15:23:57.098Z"
   },
   {
    "duration": 14,
    "start_time": "2023-04-17T15:23:57.106Z"
   },
   {
    "duration": 345,
    "start_time": "2023-04-17T15:23:57.122Z"
   },
   {
    "duration": 6,
    "start_time": "2023-04-17T15:23:57.468Z"
   },
   {
    "duration": 22,
    "start_time": "2023-04-17T15:23:57.475Z"
   },
   {
    "duration": 303,
    "start_time": "2023-04-17T15:23:57.499Z"
   },
   {
    "duration": 271,
    "start_time": "2023-04-17T15:25:07.288Z"
   },
   {
    "duration": 25,
    "start_time": "2023-04-17T15:25:23.589Z"
   },
   {
    "duration": 13,
    "start_time": "2023-04-17T15:26:38.447Z"
   },
   {
    "duration": 83,
    "start_time": "2023-04-17T15:26:53.190Z"
   },
   {
    "duration": 12,
    "start_time": "2023-04-17T15:27:01.587Z"
   },
   {
    "duration": 18,
    "start_time": "2023-04-17T15:28:43.794Z"
   },
   {
    "duration": 18,
    "start_time": "2023-04-17T15:28:49.205Z"
   },
   {
    "duration": 21,
    "start_time": "2023-04-17T15:28:57.846Z"
   },
   {
    "duration": 115,
    "start_time": "2023-04-17T15:30:51.944Z"
   },
   {
    "duration": 9,
    "start_time": "2023-04-17T15:31:03.528Z"
   },
   {
    "duration": 8,
    "start_time": "2023-04-17T15:31:09.511Z"
   },
   {
    "duration": 8,
    "start_time": "2023-04-17T15:33:38.427Z"
   },
   {
    "duration": 51,
    "start_time": "2023-04-17T15:33:45.914Z"
   },
   {
    "duration": 111,
    "start_time": "2023-04-17T15:33:49.207Z"
   },
   {
    "duration": 1301,
    "start_time": "2023-04-17T20:30:10.785Z"
   },
   {
    "duration": 586,
    "start_time": "2023-04-17T20:30:23.102Z"
   },
   {
    "duration": 95,
    "start_time": "2023-04-17T20:30:23.689Z"
   },
   {
    "duration": 16,
    "start_time": "2023-04-17T20:30:23.786Z"
   },
   {
    "duration": 13,
    "start_time": "2023-04-17T20:30:23.804Z"
   },
   {
    "duration": 4,
    "start_time": "2023-04-17T20:30:23.819Z"
   },
   {
    "duration": 7,
    "start_time": "2023-04-17T20:30:23.825Z"
   },
   {
    "duration": 7,
    "start_time": "2023-04-17T20:30:23.833Z"
   },
   {
    "duration": 5,
    "start_time": "2023-04-17T20:30:23.849Z"
   },
   {
    "duration": 11,
    "start_time": "2023-04-17T20:30:23.855Z"
   },
   {
    "duration": 12,
    "start_time": "2023-04-17T20:30:23.868Z"
   },
   {
    "duration": 18,
    "start_time": "2023-04-17T20:30:23.881Z"
   },
   {
    "duration": 5,
    "start_time": "2023-04-17T20:30:23.900Z"
   },
   {
    "duration": 15,
    "start_time": "2023-04-17T20:30:23.907Z"
   },
   {
    "duration": 37,
    "start_time": "2023-04-17T20:30:23.924Z"
   },
   {
    "duration": 4,
    "start_time": "2023-04-17T20:30:23.962Z"
   },
   {
    "duration": 10,
    "start_time": "2023-04-17T20:30:23.968Z"
   },
   {
    "duration": 13,
    "start_time": "2023-04-17T20:30:23.980Z"
   },
   {
    "duration": 182,
    "start_time": "2023-04-17T20:30:23.995Z"
   },
   {
    "duration": 6,
    "start_time": "2023-04-17T20:30:24.179Z"
   },
   {
    "duration": 13,
    "start_time": "2023-04-17T20:30:24.186Z"
   },
   {
    "duration": 280,
    "start_time": "2023-04-17T20:30:24.200Z"
   },
   {
    "duration": 5,
    "start_time": "2023-04-17T20:30:24.482Z"
   },
   {
    "duration": 16,
    "start_time": "2023-04-17T20:30:24.488Z"
   },
   {
    "duration": 307,
    "start_time": "2023-04-17T20:30:24.505Z"
   },
   {
    "duration": 524,
    "start_time": "2023-04-17T20:30:24.813Z"
   },
   {
    "duration": 210,
    "start_time": "2023-04-17T20:30:52.276Z"
   },
   {
    "duration": 216,
    "start_time": "2023-04-17T20:31:20.901Z"
   },
   {
    "duration": 279,
    "start_time": "2023-04-17T20:31:46.692Z"
   },
   {
    "duration": 201,
    "start_time": "2023-04-17T20:33:19.458Z"
   },
   {
    "duration": 354,
    "start_time": "2023-04-17T20:36:01.023Z"
   },
   {
    "duration": 253,
    "start_time": "2023-04-17T20:36:13.008Z"
   },
   {
    "duration": 224,
    "start_time": "2023-04-17T20:36:30.318Z"
   },
   {
    "duration": 232,
    "start_time": "2023-04-17T20:36:39.051Z"
   },
   {
    "duration": 328,
    "start_time": "2023-04-17T20:36:45.238Z"
   },
   {
    "duration": 254,
    "start_time": "2023-04-17T20:37:00.471Z"
   },
   {
    "duration": 214,
    "start_time": "2023-04-17T20:37:12.996Z"
   },
   {
    "duration": 227,
    "start_time": "2023-04-17T20:37:17.445Z"
   },
   {
    "duration": 215,
    "start_time": "2023-04-17T20:37:27.112Z"
   },
   {
    "duration": 230,
    "start_time": "2023-04-17T20:37:34.858Z"
   },
   {
    "duration": 211,
    "start_time": "2023-04-17T20:37:39.317Z"
   },
   {
    "duration": 350,
    "start_time": "2023-04-17T20:52:22.341Z"
   },
   {
    "duration": 110,
    "start_time": "2023-04-17T20:52:27.601Z"
   },
   {
    "duration": 579,
    "start_time": "2023-04-17T20:54:40.289Z"
   },
   {
    "duration": 52,
    "start_time": "2023-04-17T20:54:40.870Z"
   },
   {
    "duration": 15,
    "start_time": "2023-04-17T20:54:40.924Z"
   },
   {
    "duration": 19,
    "start_time": "2023-04-17T20:54:40.941Z"
   },
   {
    "duration": 4,
    "start_time": "2023-04-17T20:54:40.961Z"
   },
   {
    "duration": 7,
    "start_time": "2023-04-17T20:54:40.966Z"
   },
   {
    "duration": 7,
    "start_time": "2023-04-17T20:54:40.974Z"
   },
   {
    "duration": 6,
    "start_time": "2023-04-17T20:54:40.982Z"
   },
   {
    "duration": 8,
    "start_time": "2023-04-17T20:54:40.990Z"
   },
   {
    "duration": 10,
    "start_time": "2023-04-17T20:54:41.000Z"
   },
   {
    "duration": 16,
    "start_time": "2023-04-17T20:54:41.011Z"
   },
   {
    "duration": 24,
    "start_time": "2023-04-17T20:54:41.028Z"
   },
   {
    "duration": 26,
    "start_time": "2023-04-17T20:54:41.053Z"
   },
   {
    "duration": 20,
    "start_time": "2023-04-17T20:54:41.081Z"
   },
   {
    "duration": 5,
    "start_time": "2023-04-17T20:54:41.103Z"
   },
   {
    "duration": 7,
    "start_time": "2023-04-17T20:54:41.109Z"
   },
   {
    "duration": 4,
    "start_time": "2023-04-17T20:54:41.117Z"
   },
   {
    "duration": 188,
    "start_time": "2023-04-17T20:54:41.122Z"
   },
   {
    "duration": 6,
    "start_time": "2023-04-17T20:54:41.311Z"
   },
   {
    "duration": 11,
    "start_time": "2023-04-17T20:54:41.319Z"
   },
   {
    "duration": 308,
    "start_time": "2023-04-17T20:54:41.332Z"
   },
   {
    "duration": 5,
    "start_time": "2023-04-17T20:54:41.642Z"
   },
   {
    "duration": 14,
    "start_time": "2023-04-17T20:54:41.648Z"
   },
   {
    "duration": 271,
    "start_time": "2023-04-17T20:54:41.663Z"
   },
   {
    "duration": 498,
    "start_time": "2023-04-17T20:54:41.935Z"
   },
   {
    "duration": 216,
    "start_time": "2023-04-17T20:54:42.434Z"
   },
   {
    "duration": 272,
    "start_time": "2023-04-17T20:54:42.652Z"
   },
   {
    "duration": 7,
    "start_time": "2023-04-17T20:54:42.927Z"
   },
   {
    "duration": 180,
    "start_time": "2023-04-17T20:54:42.936Z"
   },
   {
    "duration": 11,
    "start_time": "2023-04-17T20:54:43.117Z"
   },
   {
    "duration": 179,
    "start_time": "2023-04-17T20:54:43.130Z"
   },
   {
    "duration": 10,
    "start_time": "2023-04-17T20:54:43.310Z"
   },
   {
    "duration": 11,
    "start_time": "2023-04-17T20:54:43.322Z"
   },
   {
    "duration": 10,
    "start_time": "2023-04-17T20:54:43.349Z"
   },
   {
    "duration": 10,
    "start_time": "2023-04-17T20:54:43.361Z"
   },
   {
    "duration": 13,
    "start_time": "2023-04-17T20:54:43.372Z"
   },
   {
    "duration": 13,
    "start_time": "2023-04-17T20:54:43.386Z"
   },
   {
    "duration": 11,
    "start_time": "2023-04-17T20:54:43.400Z"
   },
   {
    "duration": 6,
    "start_time": "2023-04-17T20:54:43.412Z"
   },
   {
    "duration": 95,
    "start_time": "2023-04-17T20:54:43.419Z"
   },
   {
    "duration": 8,
    "start_time": "2023-04-17T20:54:43.516Z"
   },
   {
    "duration": 956,
    "start_time": "2023-04-19T21:44:47.798Z"
   },
   {
    "duration": 152,
    "start_time": "2023-04-19T21:44:48.765Z"
   },
   {
    "duration": 27,
    "start_time": "2023-04-19T21:44:48.919Z"
   },
   {
    "duration": 49,
    "start_time": "2023-04-19T21:44:48.949Z"
   },
   {
    "duration": 6,
    "start_time": "2023-04-19T21:44:49.001Z"
   },
   {
    "duration": 55,
    "start_time": "2023-04-19T21:44:49.008Z"
   },
   {
    "duration": 12,
    "start_time": "2023-04-19T21:44:49.066Z"
   },
   {
    "duration": 15,
    "start_time": "2023-04-19T21:44:49.080Z"
   },
   {
    "duration": 18,
    "start_time": "2023-04-19T21:44:49.097Z"
   },
   {
    "duration": 54,
    "start_time": "2023-04-19T21:44:49.117Z"
   },
   {
    "duration": 33,
    "start_time": "2023-04-19T21:44:49.173Z"
   },
   {
    "duration": 6,
    "start_time": "2023-04-19T21:44:49.207Z"
   },
   {
    "duration": 64,
    "start_time": "2023-04-19T21:44:49.215Z"
   },
   {
    "duration": 22,
    "start_time": "2023-04-19T21:44:49.282Z"
   },
   {
    "duration": 5,
    "start_time": "2023-04-19T21:44:49.306Z"
   },
   {
    "duration": 14,
    "start_time": "2023-04-19T21:44:49.312Z"
   },
   {
    "duration": 47,
    "start_time": "2023-04-19T21:44:49.327Z"
   },
   {
    "duration": 223,
    "start_time": "2023-04-19T21:44:49.376Z"
   },
   {
    "duration": 6,
    "start_time": "2023-04-19T21:44:49.601Z"
   },
   {
    "duration": 67,
    "start_time": "2023-04-19T21:44:49.609Z"
   },
   {
    "duration": 418,
    "start_time": "2023-04-19T21:44:49.677Z"
   },
   {
    "duration": 6,
    "start_time": "2023-04-19T21:44:50.098Z"
   },
   {
    "duration": 55,
    "start_time": "2023-04-19T21:44:50.107Z"
   },
   {
    "duration": 372,
    "start_time": "2023-04-19T21:44:50.164Z"
   },
   {
    "duration": 645,
    "start_time": "2023-04-19T21:44:50.538Z"
   },
   {
    "duration": 5,
    "start_time": "2023-04-19T21:44:51.980Z"
   },
   {
    "duration": 319,
    "start_time": "2023-04-19T21:45:18.479Z"
   },
   {
    "duration": 304,
    "start_time": "2023-04-19T21:45:31.362Z"
   },
   {
    "duration": 71,
    "start_time": "2023-04-19T21:45:45.030Z"
   },
   {
    "duration": 404,
    "start_time": "2023-04-19T21:45:53.679Z"
   },
   {
    "duration": 300,
    "start_time": "2023-04-19T21:46:10.377Z"
   },
   {
    "duration": 311,
    "start_time": "2023-04-19T21:46:15.146Z"
   },
   {
    "duration": 325,
    "start_time": "2023-04-19T21:46:22.950Z"
   },
   {
    "duration": 368,
    "start_time": "2023-04-19T21:46:33.014Z"
   }
  ],
  "kernelspec": {
   "display_name": "Python 3 (ipykernel)",
   "language": "python",
   "name": "python3"
  },
  "language_info": {
   "codemirror_mode": {
    "name": "ipython",
    "version": 3
   },
   "file_extension": ".py",
   "mimetype": "text/x-python",
   "name": "python",
   "nbconvert_exporter": "python",
   "pygments_lexer": "ipython3",
   "version": "3.9.5"
  },
  "toc": {
   "base_numbering": 1,
   "nav_menu": {},
   "number_sections": true,
   "sideBar": true,
   "skip_h1_title": true,
   "title_cell": "Table of Contents",
   "title_sidebar": "Contents",
   "toc_cell": false,
   "toc_position": {},
   "toc_section_display": true,
   "toc_window_display": false
  }
 },
 "nbformat": 4,
 "nbformat_minor": 2
}
