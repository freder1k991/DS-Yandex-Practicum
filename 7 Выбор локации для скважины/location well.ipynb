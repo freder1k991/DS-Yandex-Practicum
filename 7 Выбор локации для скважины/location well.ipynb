{
 "cells": [
  {
   "cell_type": "markdown",
   "metadata": {},
   "source": [
    "# Выбор локации для скважины"
   ]
  },
  {
   "cell_type": "markdown",
   "metadata": {},
   "source": [
    "Допустим, вы работаете в добывающей компании «ГлавРосГосНефть». Нужно решить, где бурить новую скважину.\n",
    "\n",
    "Вам предоставлены пробы нефти в трёх регионах: в каждом 10 000 месторождений, где измерили качество нефти и объём её запасов. Постройте модель машинного обучения, которая поможет определить регион, где добыча принесёт наибольшую прибыль. Проанализируйте возможную прибыль и риски техникой *Bootstrap.*\n",
    "\n",
    "Шаги для выбора локации:\n",
    "\n",
    "- В избранном регионе ищут месторождения, для каждого определяют значения признаков;\n",
    "- Строят модель и оценивают объём запасов;\n",
    "- Выбирают месторождения с самым высокими оценками значений. Количество месторождений зависит от бюджета компании и стоимости разработки одной скважины;\n",
    "- Прибыль равна суммарной прибыли отобранных месторождений."
   ]
  },
  {
   "cell_type": "markdown",
   "metadata": {},
   "source": [
    "**Ипортированные библиотеки за весь проект:**"
   ]
  },
  {
   "cell_type": "code",
   "execution_count": 1,
   "metadata": {},
   "outputs": [],
   "source": [
    "import pandas as pd\n",
    "\n",
    "from sklearn.model_selection import train_test_split\n",
    "from sklearn.linear_model import LogisticRegression\n",
    "from sklearn.preprocessing import StandardScaler\n",
    "from sklearn.linear_model import LinearRegression\n",
    "from sklearn.metrics import mean_absolute_error #MAE\n",
    "from sklearn.metrics import mean_squared_error #MSE\n",
    "from sklearn.metrics import r2_score #R2\n",
    "\n",
    "import matplotlib.pyplot as plt\n",
    "\n",
    "import numpy as np\n",
    "from numpy.random import RandomState"
   ]
  },
  {
   "cell_type": "markdown",
   "metadata": {},
   "source": [
    "## Загрузка и подготовка данных"
   ]
  },
  {
   "cell_type": "code",
   "execution_count": 2,
   "metadata": {},
   "outputs": [],
   "source": [
    "data_0 = pd.read_csv('/datasets/geo_data_0.csv')\n",
    "data_1 = pd.read_csv('/datasets/geo_data_1.csv')\n",
    "data_2 = pd.read_csv('/datasets/geo_data_2.csv')"
   ]
  },
  {
   "cell_type": "code",
   "execution_count": 3,
   "metadata": {},
   "outputs": [
    {
     "data": {
      "text/html": [
       "<div>\n",
       "<style scoped>\n",
       "    .dataframe tbody tr th:only-of-type {\n",
       "        vertical-align: middle;\n",
       "    }\n",
       "\n",
       "    .dataframe tbody tr th {\n",
       "        vertical-align: top;\n",
       "    }\n",
       "\n",
       "    .dataframe thead th {\n",
       "        text-align: right;\n",
       "    }\n",
       "</style>\n",
       "<table border=\"1\" class=\"dataframe\">\n",
       "  <thead>\n",
       "    <tr style=\"text-align: right;\">\n",
       "      <th></th>\n",
       "      <th>id</th>\n",
       "      <th>f0</th>\n",
       "      <th>f1</th>\n",
       "      <th>f2</th>\n",
       "      <th>product</th>\n",
       "    </tr>\n",
       "  </thead>\n",
       "  <tbody>\n",
       "    <tr>\n",
       "      <th>0</th>\n",
       "      <td>txEyH</td>\n",
       "      <td>0.705745</td>\n",
       "      <td>-0.497823</td>\n",
       "      <td>1.221170</td>\n",
       "      <td>105.280062</td>\n",
       "    </tr>\n",
       "    <tr>\n",
       "      <th>1</th>\n",
       "      <td>2acmU</td>\n",
       "      <td>1.334711</td>\n",
       "      <td>-0.340164</td>\n",
       "      <td>4.365080</td>\n",
       "      <td>73.037750</td>\n",
       "    </tr>\n",
       "    <tr>\n",
       "      <th>2</th>\n",
       "      <td>409Wp</td>\n",
       "      <td>1.022732</td>\n",
       "      <td>0.151990</td>\n",
       "      <td>1.419926</td>\n",
       "      <td>85.265647</td>\n",
       "    </tr>\n",
       "    <tr>\n",
       "      <th>3</th>\n",
       "      <td>iJLyR</td>\n",
       "      <td>-0.032172</td>\n",
       "      <td>0.139033</td>\n",
       "      <td>2.978566</td>\n",
       "      <td>168.620776</td>\n",
       "    </tr>\n",
       "    <tr>\n",
       "      <th>4</th>\n",
       "      <td>Xdl7t</td>\n",
       "      <td>1.988431</td>\n",
       "      <td>0.155413</td>\n",
       "      <td>4.751769</td>\n",
       "      <td>154.036647</td>\n",
       "    </tr>\n",
       "  </tbody>\n",
       "</table>\n",
       "</div>"
      ],
      "text/plain": [
       "      id        f0        f1        f2     product\n",
       "0  txEyH  0.705745 -0.497823  1.221170  105.280062\n",
       "1  2acmU  1.334711 -0.340164  4.365080   73.037750\n",
       "2  409Wp  1.022732  0.151990  1.419926   85.265647\n",
       "3  iJLyR -0.032172  0.139033  2.978566  168.620776\n",
       "4  Xdl7t  1.988431  0.155413  4.751769  154.036647"
      ]
     },
     "execution_count": 3,
     "metadata": {},
     "output_type": "execute_result"
    }
   ],
   "source": [
    "data_0.head()"
   ]
  },
  {
   "cell_type": "markdown",
   "metadata": {},
   "source": [
    "**Спецификация таблицы:**\n",
    "\n",
    "* `id` — уникальный идентификатор скважины;\n",
    "* `f0`, `f1`, `f2` — три признака точек (неважно, что они означают, но сами признаки значимы);\n",
    "* `product` — объём запасов в скважине (тыс. баррелей)"
   ]
  },
  {
   "cell_type": "markdown",
   "metadata": {},
   "source": [
    "`id` для обучения не будем рассматривать. На всех остальных фичах будем обучать модели.\n",
    "\n",
    "`product` - целевой признак"
   ]
  },
  {
   "cell_type": "code",
   "execution_count": 4,
   "metadata": {},
   "outputs": [
    {
     "name": "stdout",
     "output_type": "stream",
     "text": [
      "<class 'pandas.core.frame.DataFrame'>\n",
      "RangeIndex: 100000 entries, 0 to 99999\n",
      "Data columns (total 5 columns):\n",
      " #   Column   Non-Null Count   Dtype  \n",
      "---  ------   --------------   -----  \n",
      " 0   id       100000 non-null  object \n",
      " 1   f0       100000 non-null  float64\n",
      " 2   f1       100000 non-null  float64\n",
      " 3   f2       100000 non-null  float64\n",
      " 4   product  100000 non-null  float64\n",
      "dtypes: float64(4), object(1)\n",
      "memory usage: 3.8+ MB\n"
     ]
    }
   ],
   "source": [
    "data_0.info()"
   ]
  },
  {
   "cell_type": "markdown",
   "metadata": {},
   "source": [
    "### Проверка на дубликаты объектов"
   ]
  },
  {
   "cell_type": "code",
   "execution_count": 5,
   "metadata": {},
   "outputs": [
    {
     "data": {
      "text/plain": [
       "4"
      ]
     },
     "execution_count": 5,
     "metadata": {},
     "output_type": "execute_result"
    }
   ],
   "source": [
    "data_1['id'].duplicated().sum()"
   ]
  },
  {
   "cell_type": "markdown",
   "metadata": {},
   "source": [
    "Скорее всего в таблицу вносились обновленные данные о скважине, а старые не удалялись. Нужно удалить 1 значение и оставить 2. Так же привожу выборки к одному размеру(есть большие сомнения по поводу данного шага и каким методом я это сделаю, но была не была xD"
   ]
  },
  {
   "cell_type": "code",
   "execution_count": 6,
   "metadata": {},
   "outputs": [],
   "source": [
    "data_0 = data_0.drop_duplicates(subset='id', keep='last').reset_index(drop='True') #-10 объектов\n",
    "\n",
    "data_1 = data_1.drop_duplicates(subset='id', keep='last').reset_index(drop='True') # -4\n",
    "data_1= data_1[:-6]\n",
    "\n",
    "data_2 = data_2.drop_duplicates(subset='id', keep='last').reset_index(drop='True') # -4 \n",
    "data_2 = data_2[:-6]"
   ]
  },
  {
   "cell_type": "markdown",
   "metadata": {},
   "source": [
    "### Разделение датасетов на признаки и целевой показатель:"
   ]
  },
  {
   "cell_type": "code",
   "execution_count": 7,
   "metadata": {},
   "outputs": [],
   "source": [
    "#data_0\n",
    "fetures_0 = data_0.drop(['id', 'product'], axis=1)\n",
    "target_0 = data_0['product']\n",
    "\n",
    "#dato_1\n",
    "fetures_1 = data_1.drop(['id', 'product'], axis=1)\n",
    "target_1 = data_1['product']\n",
    "\n",
    "#data_2\n",
    "fetures_2 = data_2.drop(['id', 'product'], axis=1)\n",
    "target_2 = data_2['product']"
   ]
  },
  {
   "cell_type": "markdown",
   "metadata": {},
   "source": [
    "###  Разделение на обучающую и валидационную выборки\n",
    "Разбиение данных на обучающую и валидационную выборки в соотношении **75:25**"
   ]
  },
  {
   "cell_type": "code",
   "execution_count": 8,
   "metadata": {},
   "outputs": [],
   "source": [
    "RANDOM_STATE = 911"
   ]
  },
  {
   "cell_type": "code",
   "execution_count": 9,
   "metadata": {},
   "outputs": [],
   "source": [
    "#data_0\n",
    "features_train_0, features_valid_0, target_train_0, target_valid_0 = train_test_split(fetures_0, target_0,test_size=0.25,\n",
    "                                                                                      random_state=RANDOM_STATE)\n",
    "#data_1\n",
    "features_train_1, features_valid_1, target_train_1, target_valid_1 = train_test_split(fetures_1, target_1, test_size=0.25,\n",
    "                                                                                      random_state=RANDOM_STATE)\n",
    "#data_2\n",
    "features_train_2, features_valid_2, target_train_2, target_valid_2 = train_test_split(fetures_2, target_2, test_size=0.25,\n",
    "                                                                                      random_state=RANDOM_STATE)"
   ]
  },
  {
   "cell_type": "markdown",
   "metadata": {},
   "source": [
    "### Стандартизация фичей\n",
    "Все фичи нужно масштабировать в каждой таблице, обучение алгоритма шифрования на созданных выборках, апотом трансформировать"
   ]
  },
  {
   "cell_type": "code",
   "execution_count": 10,
   "metadata": {},
   "outputs": [
    {
     "data": {
      "text/html": [
       "<div>\n",
       "<style scoped>\n",
       "    .dataframe tbody tr th:only-of-type {\n",
       "        vertical-align: middle;\n",
       "    }\n",
       "\n",
       "    .dataframe tbody tr th {\n",
       "        vertical-align: top;\n",
       "    }\n",
       "\n",
       "    .dataframe thead th {\n",
       "        text-align: right;\n",
       "    }\n",
       "</style>\n",
       "<table border=\"1\" class=\"dataframe\">\n",
       "  <thead>\n",
       "    <tr style=\"text-align: right;\">\n",
       "      <th></th>\n",
       "      <th>f0</th>\n",
       "      <th>f1</th>\n",
       "      <th>f2</th>\n",
       "    </tr>\n",
       "  </thead>\n",
       "  <tbody>\n",
       "    <tr>\n",
       "      <th>26404</th>\n",
       "      <td>-0.178191</td>\n",
       "      <td>1.020335</td>\n",
       "      <td>6.633897</td>\n",
       "    </tr>\n",
       "    <tr>\n",
       "      <th>59499</th>\n",
       "      <td>0.551908</td>\n",
       "      <td>-0.066742</td>\n",
       "      <td>1.334648</td>\n",
       "    </tr>\n",
       "    <tr>\n",
       "      <th>26985</th>\n",
       "      <td>-0.138006</td>\n",
       "      <td>1.072542</td>\n",
       "      <td>3.270146</td>\n",
       "    </tr>\n",
       "    <tr>\n",
       "      <th>39509</th>\n",
       "      <td>1.432500</td>\n",
       "      <td>-0.439947</td>\n",
       "      <td>0.929117</td>\n",
       "    </tr>\n",
       "    <tr>\n",
       "      <th>73047</th>\n",
       "      <td>0.902554</td>\n",
       "      <td>0.271999</td>\n",
       "      <td>0.858458</td>\n",
       "    </tr>\n",
       "  </tbody>\n",
       "</table>\n",
       "</div>"
      ],
      "text/plain": [
       "             f0        f1        f2\n",
       "26404 -0.178191  1.020335  6.633897\n",
       "59499  0.551908 -0.066742  1.334648\n",
       "26985 -0.138006  1.072542  3.270146\n",
       "39509  1.432500 -0.439947  0.929117\n",
       "73047  0.902554  0.271999  0.858458"
      ]
     },
     "execution_count": 10,
     "metadata": {},
     "output_type": "execute_result"
    }
   ],
   "source": [
    "features_train_0.head()"
   ]
  },
  {
   "cell_type": "code",
   "execution_count": 11,
   "metadata": {},
   "outputs": [],
   "source": [
    "numeric = ['f0', 'f1', 'f2']\n",
    "\n",
    "#устранение конфликта sklearn и pandas\n",
    "pd.options.mode.chained_assignment = None\n",
    "\n",
    "#0\n",
    "scaler_0 = StandardScaler()\n",
    "scaler_0.fit(features_train_0[numeric], features_valid_0[numeric])\n",
    "\n",
    "features_train_0[numeric] = scaler_0.transform(features_train_0[numeric])\n",
    "features_valid_0[numeric] = scaler_0.transform(features_valid_0[numeric])\n",
    "\n",
    "#1\n",
    "scaler_1 = StandardScaler()\n",
    "scaler_1.fit(features_train_1[numeric], features_valid_1[numeric])\n",
    "\n",
    "features_train_1[numeric] = scaler_1.transform(features_train_1[numeric])\n",
    "features_valid_1[numeric] = scaler_1.transform(features_valid_1[numeric])\n",
    "\n",
    "#2\n",
    "scaler_2 = StandardScaler()\n",
    "scaler_2.fit(features_train_2[numeric], features_valid_2[numeric])\n",
    "\n",
    "features_train_2[numeric] = scaler_2.transform(features_train_2[numeric])\n",
    "features_valid_2[numeric] = scaler_2.transform(features_valid_2[numeric])"
   ]
  },
  {
   "cell_type": "code",
   "execution_count": 12,
   "metadata": {},
   "outputs": [
    {
     "data": {
      "text/html": [
       "<div>\n",
       "<style scoped>\n",
       "    .dataframe tbody tr th:only-of-type {\n",
       "        vertical-align: middle;\n",
       "    }\n",
       "\n",
       "    .dataframe tbody tr th {\n",
       "        vertical-align: top;\n",
       "    }\n",
       "\n",
       "    .dataframe thead th {\n",
       "        text-align: right;\n",
       "    }\n",
       "</style>\n",
       "<table border=\"1\" class=\"dataframe\">\n",
       "  <thead>\n",
       "    <tr style=\"text-align: right;\">\n",
       "      <th></th>\n",
       "      <th>f0</th>\n",
       "      <th>f1</th>\n",
       "      <th>f2</th>\n",
       "    </tr>\n",
       "  </thead>\n",
       "  <tbody>\n",
       "    <tr>\n",
       "      <th>26404</th>\n",
       "      <td>-0.773139</td>\n",
       "      <td>1.526597</td>\n",
       "      <td>1.269426</td>\n",
       "    </tr>\n",
       "    <tr>\n",
       "      <th>59499</th>\n",
       "      <td>0.062506</td>\n",
       "      <td>-0.629548</td>\n",
       "      <td>-0.359413</td>\n",
       "    </tr>\n",
       "    <tr>\n",
       "      <th>26985</th>\n",
       "      <td>-0.727144</td>\n",
       "      <td>1.630146</td>\n",
       "      <td>0.235504</td>\n",
       "    </tr>\n",
       "    <tr>\n",
       "      <th>39509</th>\n",
       "      <td>1.070400</td>\n",
       "      <td>-1.369775</td>\n",
       "      <td>-0.484062</td>\n",
       "    </tr>\n",
       "    <tr>\n",
       "      <th>73047</th>\n",
       "      <td>0.463844</td>\n",
       "      <td>0.042322</td>\n",
       "      <td>-0.505781</td>\n",
       "    </tr>\n",
       "  </tbody>\n",
       "</table>\n",
       "</div>"
      ],
      "text/plain": [
       "             f0        f1        f2\n",
       "26404 -0.773139  1.526597  1.269426\n",
       "59499  0.062506 -0.629548 -0.359413\n",
       "26985 -0.727144  1.630146  0.235504\n",
       "39509  1.070400 -1.369775 -0.484062\n",
       "73047  0.463844  0.042322 -0.505781"
      ]
     },
     "execution_count": 12,
     "metadata": {},
     "output_type": "execute_result"
    }
   ],
   "source": [
    "features_train_0.head()"
   ]
  },
  {
   "cell_type": "markdown",
   "metadata": {},
   "source": [
    "План действий нужно было обозначить раньше, но там ты он потерялся поэтому в конце 1 пункта\n",
    "\n",
    "**поясненить порядок действий:** \n",
    "- проверка данных и подготовка к обработке; \n",
    "- разбитие датасета на признаки и целевые показатели; \n",
    "- разделение на обучающую и вариационные выборки;\n",
    "- масштабировать необходимые численные признаки; \n",
    "- выбор алгоритма линейной регрессии;\n",
    "- обучение каждой группы по отдельности."
   ]
  },
  {
   "cell_type": "markdown",
   "metadata": {},
   "source": [
    "## Обучение и проверка модели"
   ]
  },
  {
   "cell_type": "markdown",
   "metadata": {},
   "source": [
    "### LinearRegression"
   ]
  },
  {
   "cell_type": "code",
   "execution_count": 13,
   "metadata": {},
   "outputs": [
    {
     "name": "stdout",
     "output_type": "stream",
     "text": [
      "data_0:\n",
      "r2 на обучающей выборке: 0.2757744597749967\n",
      "r2 на валидационной выборке: 0.27540051525088327\n",
      "\n",
      "Cредний запас предсказываемого сырья: 92.84761656832517\n",
      "RMSE: 37.729490270433594\n"
     ]
    },
    {
     "data": {
      "text/html": [
       "<div>\n",
       "<style scoped>\n",
       "    .dataframe tbody tr th:only-of-type {\n",
       "        vertical-align: middle;\n",
       "    }\n",
       "\n",
       "    .dataframe tbody tr th {\n",
       "        vertical-align: top;\n",
       "    }\n",
       "\n",
       "    .dataframe thead th {\n",
       "        text-align: right;\n",
       "    }\n",
       "</style>\n",
       "<table border=\"1\" class=\"dataframe\">\n",
       "  <thead>\n",
       "    <tr style=\"text-align: right;\">\n",
       "      <th></th>\n",
       "      <th>target</th>\n",
       "      <th>predict</th>\n",
       "    </tr>\n",
       "  </thead>\n",
       "  <tbody>\n",
       "    <tr>\n",
       "      <th>15975</th>\n",
       "      <td>127.187946</td>\n",
       "      <td>88.019356</td>\n",
       "    </tr>\n",
       "    <tr>\n",
       "      <th>20401</th>\n",
       "      <td>136.370360</td>\n",
       "      <td>55.320294</td>\n",
       "    </tr>\n",
       "    <tr>\n",
       "      <th>2402</th>\n",
       "      <td>159.701133</td>\n",
       "      <td>115.510968</td>\n",
       "    </tr>\n",
       "    <tr>\n",
       "      <th>96961</th>\n",
       "      <td>127.758230</td>\n",
       "      <td>80.012533</td>\n",
       "    </tr>\n",
       "    <tr>\n",
       "      <th>7120</th>\n",
       "      <td>56.233577</td>\n",
       "      <td>92.491457</td>\n",
       "    </tr>\n",
       "  </tbody>\n",
       "</table>\n",
       "</div>"
      ],
      "text/plain": [
       "           target     predict\n",
       "15975  127.187946   88.019356\n",
       "20401  136.370360   55.320294\n",
       "2402   159.701133  115.510968\n",
       "96961  127.758230   80.012533\n",
       "7120    56.233577   92.491457"
      ]
     },
     "execution_count": 13,
     "metadata": {},
     "output_type": "execute_result"
    }
   ],
   "source": [
    "#обучение модели 0\n",
    "model = LinearRegression()\n",
    "model.fit(features_train_0, target_train_0)\n",
    "valid_predict_0 = model.predict(features_valid_0)\n",
    "\n",
    "mae = mean_absolute_error(target_valid_0, valid_predict_0)\n",
    "mse = mean_squared_error(target_valid_0, valid_predict_0)\n",
    "#проверка модели\n",
    "rmse_line_0 = mse**0.5 \n",
    "target_valid_mean_0 = target_valid_0.mean()\n",
    "\n",
    "#качество модели\n",
    "print('data_0:\\nr2 на обучающей выборке:', model.score(features_train_0, target_train_0))\n",
    "print('r2 на валидационной выборке:', r2_score(target_valid_0, valid_predict_0))\n",
    "print('')\n",
    "print('Cредний запас предсказываемого сырья:', target_valid_mean_0)\n",
    "print('RMSE:', rmse_line_0)\n",
    "\n",
    "#сохранение в одной таблице таргеты и предсказания\n",
    "predict_target_valid_0 = pd.DataFrame({'target': target_valid_0, 'predict': valid_predict_0})\n",
    "predict_target_valid_0.head()"
   ]
  },
  {
   "cell_type": "markdown",
   "metadata": {},
   "source": [
    "У данной модели переобучение отсутсвует, правда хотелось бы чуть более высокую точность предсказания, но если рассматривать другие типы моделей то происходит переобучение. Погрешность ниже среднего значения - все ок "
   ]
  },
  {
   "cell_type": "code",
   "execution_count": 14,
   "metadata": {},
   "outputs": [
    {
     "name": "stdout",
     "output_type": "stream",
     "text": [
      "data_1:\n",
      "r2 на обучающей выборке: 0.9996238276698497\n",
      "r2 на валидационной выборке: 0.999626070948368\n",
      "\n",
      "Cредний запас предсказываемого сырья: 69.12791178188684\n",
      "RMSE: 0.8873007517583831\n"
     ]
    },
    {
     "data": {
      "text/html": [
       "<div>\n",
       "<style scoped>\n",
       "    .dataframe tbody tr th:only-of-type {\n",
       "        vertical-align: middle;\n",
       "    }\n",
       "\n",
       "    .dataframe tbody tr th {\n",
       "        vertical-align: top;\n",
       "    }\n",
       "\n",
       "    .dataframe thead th {\n",
       "        text-align: right;\n",
       "    }\n",
       "</style>\n",
       "<table border=\"1\" class=\"dataframe\">\n",
       "  <thead>\n",
       "    <tr style=\"text-align: right;\">\n",
       "      <th></th>\n",
       "      <th>target</th>\n",
       "      <th>predict</th>\n",
       "    </tr>\n",
       "  </thead>\n",
       "  <tbody>\n",
       "    <tr>\n",
       "      <th>15975</th>\n",
       "      <td>57.085625</td>\n",
       "      <td>58.247776</td>\n",
       "    </tr>\n",
       "    <tr>\n",
       "      <th>20401</th>\n",
       "      <td>84.038886</td>\n",
       "      <td>84.100161</td>\n",
       "    </tr>\n",
       "    <tr>\n",
       "      <th>2402</th>\n",
       "      <td>110.992147</td>\n",
       "      <td>110.468802</td>\n",
       "    </tr>\n",
       "    <tr>\n",
       "      <th>96961</th>\n",
       "      <td>110.992147</td>\n",
       "      <td>110.172970</td>\n",
       "    </tr>\n",
       "    <tr>\n",
       "      <th>7120</th>\n",
       "      <td>84.038886</td>\n",
       "      <td>83.607533</td>\n",
       "    </tr>\n",
       "  </tbody>\n",
       "</table>\n",
       "</div>"
      ],
      "text/plain": [
       "           target     predict\n",
       "15975   57.085625   58.247776\n",
       "20401   84.038886   84.100161\n",
       "2402   110.992147  110.468802\n",
       "96961  110.992147  110.172970\n",
       "7120    84.038886   83.607533"
      ]
     },
     "execution_count": 14,
     "metadata": {},
     "output_type": "execute_result"
    }
   ],
   "source": [
    "#1\n",
    "model_1 = LinearRegression()\n",
    "model_1.fit(features_train_1, target_train_1)\n",
    "valid_predict_1 = model_1.predict(features_valid_1)\n",
    "\n",
    "mae = mean_absolute_error(target_valid_1, valid_predict_1)\n",
    "mse = mean_squared_error(target_valid_1, valid_predict_1)\n",
    "\n",
    "#качество модели\n",
    "print('data_1:\\nr2 на обучающей выборке:', model_1.score(features_train_1, target_train_1))\n",
    "print('r2 на валидационной выборке:', r2_score(target_valid_1, valid_predict_1))\n",
    "print('')\n",
    "#проверка модели\n",
    "rmse_line_1 = mse**0.5 \n",
    "target_valid_mean_1 = target_valid_1.mean()\n",
    "print('Cредний запас предсказываемого сырья:', target_valid_mean_1)\n",
    "print('RMSE:', rmse_line_1)\n",
    "\n",
    "#сохранение в одной таблице таргеты и предсказания\n",
    "predict_target_valid_1 = pd.DataFrame({'target': target_valid_1, 'predict': valid_predict_1})\n",
    "predict_target_valid_1.head()"
   ]
  },
  {
   "cell_type": "markdown",
   "metadata": {},
   "source": [
    "Так – так, а тут уже совершенно другие цифры постараюсь это обосновать. \n",
    "\n",
    "В фичах содержится большое количество повторений, поэтому модель так хорошо обучилась и вызубрила все варианты ответов. Но при всем при этом переобучения модели не произошло. "
   ]
  },
  {
   "cell_type": "code",
   "execution_count": 15,
   "metadata": {},
   "outputs": [
    {
     "name": "stdout",
     "output_type": "stream",
     "text": [
      "data_2:\n",
      "r2 на обучающей выборке: 0.19858844011923482\n",
      "r2 на валидационной выборке: 0.19935560112237227\n",
      "\n",
      "Cредний запас предсказываемого сырья: 94.71015724780415\n",
      "RMSE: 39.949423885557536\n"
     ]
    },
    {
     "data": {
      "text/html": [
       "<div>\n",
       "<style scoped>\n",
       "    .dataframe tbody tr th:only-of-type {\n",
       "        vertical-align: middle;\n",
       "    }\n",
       "\n",
       "    .dataframe tbody tr th {\n",
       "        vertical-align: top;\n",
       "    }\n",
       "\n",
       "    .dataframe thead th {\n",
       "        text-align: right;\n",
       "    }\n",
       "</style>\n",
       "<table border=\"1\" class=\"dataframe\">\n",
       "  <thead>\n",
       "    <tr style=\"text-align: right;\">\n",
       "      <th></th>\n",
       "      <th>target</th>\n",
       "      <th>predict</th>\n",
       "    </tr>\n",
       "  </thead>\n",
       "  <tbody>\n",
       "    <tr>\n",
       "      <th>15975</th>\n",
       "      <td>113.130804</td>\n",
       "      <td>99.121338</td>\n",
       "    </tr>\n",
       "    <tr>\n",
       "      <th>20401</th>\n",
       "      <td>82.821624</td>\n",
       "      <td>92.737244</td>\n",
       "    </tr>\n",
       "    <tr>\n",
       "      <th>2402</th>\n",
       "      <td>121.203292</td>\n",
       "      <td>95.345476</td>\n",
       "    </tr>\n",
       "    <tr>\n",
       "      <th>96961</th>\n",
       "      <td>80.030365</td>\n",
       "      <td>46.067469</td>\n",
       "    </tr>\n",
       "    <tr>\n",
       "      <th>7120</th>\n",
       "      <td>49.612682</td>\n",
       "      <td>87.196551</td>\n",
       "    </tr>\n",
       "  </tbody>\n",
       "</table>\n",
       "</div>"
      ],
      "text/plain": [
       "           target    predict\n",
       "15975  113.130804  99.121338\n",
       "20401   82.821624  92.737244\n",
       "2402   121.203292  95.345476\n",
       "96961   80.030365  46.067469\n",
       "7120    49.612682  87.196551"
      ]
     },
     "execution_count": 15,
     "metadata": {},
     "output_type": "execute_result"
    }
   ],
   "source": [
    "#2\n",
    "model_2 = LinearRegression()\n",
    "model_2.fit(features_train_2, target_train_2)\n",
    "valid_predict_2 = model_2.predict(features_valid_2)\n",
    "\n",
    "mae = mean_absolute_error(target_valid_2, valid_predict_2)\n",
    "mse = mean_squared_error(target_valid_2, valid_predict_2)\n",
    "\n",
    "#качество модели\n",
    "print('data_2:\\nr2 на обучающей выборке:', model_2.score(features_train_2, target_train_2))\n",
    "print('r2 на валидационной выборке:', r2_score(target_valid_2, valid_predict_2))\n",
    "print('')\n",
    "#проверка модели\n",
    "rmse_line_2 = mse**0.5 \n",
    "target_valid_mean_2 = target_valid_2.mean()\n",
    "print('Cредний запас предсказываемого сырья:', target_valid_mean_2)\n",
    "print('RMSE:', rmse_line_2)\n",
    "\n",
    "#сохранение в одной таблице таргеты и предсказания\n",
    "predict_target_valid_2 = pd.DataFrame({'target': target_valid_2, 'predict': valid_predict_2})\n",
    "predict_target_valid_2.head()"
   ]
  },
  {
   "cell_type": "markdown",
   "metadata": {},
   "source": [
    "Тут дата сет совпадает с «0» поэтому результаты одинаковые.  \n",
    "\n",
    "**Собранные данные по всем регионам:**"
   ]
  },
  {
   "cell_type": "code",
   "execution_count": 16,
   "metadata": {},
   "outputs": [
    {
     "name": "stdout",
     "output_type": "stream",
     "text": [
      "Регион 0:   92.85, 37.73\n",
      "Регион 1:   69.13, 0.89\n",
      "Регион 2:   94.71, 39.95\n"
     ]
    }
   ],
   "source": [
    "#предсказания моделей и тагреты\n",
    "predict_target_valid_0\n",
    "predict_target_valid_1\n",
    "predict_target_valid_2\n",
    "\n",
    "print ('Регион 0:  ', '%.2f, %.2f' % (target_valid_mean_0, rmse_line_0))\n",
    "print ('Регион 1:  ', '%.2f, %.2f' % (target_valid_mean_1, rmse_line_1))\n",
    "print ('Регион 2:  ', '%.2f, %.2f' % (target_valid_mean_2, rmse_line_2))"
   ]
  },
  {
   "cell_type": "markdown",
   "metadata": {},
   "source": [
    "**Вывод:** Обучены модели линейной регрессии. Предсказания 0 и 2 модели выглядят реальными и походи на правду, правда хотелось бы лучше и более точно обучить чтобы качество предсказаний было выше, но не вышло иначе происходит переобучение, если рассматривать другие другие модели регрессий. Предсказания Модели 1 вышли самые точные, по той причине, что таблица содержит в себе больше количество дубликатов, думаю этот результат можно считать не шибко правдоподобным и адекватным из-за большого количества повторений хотя с поставленной целью она справилась и сделала качественный прогноз. "
   ]
  },
  {
   "cell_type": "markdown",
   "metadata": {},
   "source": [
    "## Подготовка к расчёту прибыли\n",
    "### Все ключевые значения для расчётов"
   ]
  },
  {
   "cell_type": "code",
   "execution_count": 17,
   "metadata": {},
   "outputs": [],
   "source": [
    "BUDGET = 10_000_000_000 #бюджет\n",
    "BARE = 450_000 #стоимость 1 bare\n",
    "profit = 0\n",
    "BEST_DEVELOPMENT = 200 #лучшие объекты для исследования\n",
    "POINT_SELECTION = 500 #отбор точек"
   ]
  },
  {
   "cell_type": "code",
   "execution_count": 18,
   "metadata": {},
   "outputs": [
    {
     "name": "stdout",
     "output_type": "stream",
     "text": [
      "средняя прибыль скважины: 50000000.0 руб.\n",
      "среднее кол-во нефти с одной скважины: 111.1 тыс. баррелей\n",
      "среднее кол-во нефти на регион: 22222.2 тыс. баррелей\n"
     ]
    }
   ],
   "source": [
    "#средняя прибыль точки:\n",
    "profit_mean_point = BUDGET / BEST_DEVELOPMENT\n",
    "print ('средняя прибыль скважины:', profit_mean_point, 'руб.')\n",
    "\n",
    "#средняя добыча точки в бар:\n",
    "profit_mean_bare = profit_mean_point / BARE\n",
    "print('среднее кол-во нефти с одной скважины:', '%.1f' % profit_mean_bare, 'тыс. баррелей')\n",
    "\n",
    "#средняя добыча в регионе в бар:\n",
    "mean_bare = BUDGET / BARE\n",
    "print('среднее кол-во нефти на регион:', '%.1f' % mean_bare, 'тыс. баррелей')"
   ]
  },
  {
   "cell_type": "code",
   "execution_count": 19,
   "metadata": {},
   "outputs": [
    {
     "name": "stdout",
     "output_type": "stream",
     "text": [
      "Средняя добыча по регионам:\n",
      "Регион 0:   92.50\n",
      "Регион 1:   68.83\n",
      "Регион 2:   95.00\n"
     ]
    }
   ],
   "source": [
    "print ('Средняя добыча по регионам:')\n",
    "print ('Регион 0:  ', '%.2f' % (data_0['product'].mean()))\n",
    "print ('Регион 1:  ', '%.2f' % (data_1['product'].mean()))\n",
    "print ('Регион 2:  ', '%.2f' % (data_2['product'].mean()))"
   ]
  },
  {
   "cell_type": "markdown",
   "metadata": {},
   "source": [
    "### Визуализация прибыли"
   ]
  },
  {
   "cell_type": "code",
   "execution_count": 20,
   "metadata": {},
   "outputs": [
    {
     "data": {
      "text/plain": [
       "<matplotlib.lines.Line2D at 0x7f004428f040>"
      ]
     },
     "execution_count": 20,
     "metadata": {},
     "output_type": "execute_result"
    },
    {
     "data": {
      "image/png": "[encoded data removed]",
      "text/plain": [
       "<Figure size 432x288 with 1 Axes>"
      ]
     },
     "metadata": {
      "needs_background": "light"
     },
     "output_type": "display_data"
    }
   ],
   "source": [
    "data_0['product'].plot(style='o', alpha=.01, title='Запасы в регионе, тыс. barrel')\n",
    "plt.axhline(profit_mean_bare, color='r', linestyle='--')"
   ]
  },
  {
   "cell_type": "code",
   "execution_count": 21,
   "metadata": {},
   "outputs": [
    {
     "data": {
      "text/plain": [
       "<matplotlib.lines.Line2D at 0x7f0044f850d0>"
      ]
     },
     "execution_count": 21,
     "metadata": {},
     "output_type": "execute_result"
    },
    {
     "data": {
      "image/png": "[encoded data removed]",
      "text/plain": [
       "<Figure size 432x288 with 1 Axes>"
      ]
     },
     "metadata": {
      "needs_background": "light"
     },
     "output_type": "display_data"
    }
   ],
   "source": [
    "data_1['product'].plot(style='o', alpha=.01, title='Запасы в регионе, тыс. barrel')\n",
    "plt.axhline(profit_mean_bare, color='r', linestyle='--')"
   ]
  },
  {
   "cell_type": "code",
   "execution_count": 22,
   "metadata": {},
   "outputs": [
    {
     "data": {
      "text/plain": [
       "<matplotlib.lines.Line2D at 0x7f0044ed9340>"
      ]
     },
     "execution_count": 22,
     "metadata": {},
     "output_type": "execute_result"
    },
    {
     "data": {
      "image/png": "[encoded data removed]",
      "text/plain": [
       "<Figure size 432x288 with 1 Axes>"
      ]
     },
     "metadata": {
      "needs_background": "light"
     },
     "output_type": "display_data"
    }
   ],
   "source": [
    "data_2['product'].plot(style='o', alpha=.01, title='Запасы в регионе, тыс. barrel')\n",
    "plt.axhline(profit_mean_bare, color='r', linestyle='--')"
   ]
  },
  {
   "cell_type": "markdown",
   "metadata": {},
   "source": [
    "**Вывод** Скважина должна приносить 50 млн. чтобы она была без убыточна, если переводить на кол-во нефти от 111,1 тыс. баррелей должна добывать скважина. \n",
    "\n",
    "Средний объем для добычи в регионах оказался ниже безубыточного уровня, но это не так страшно выбрать есть из чего особенно, в регионе 0 и 2. А вот в 1 регионе это уже сложнее сделать, но все равно безубыточные скважины есть, хоть и не так много. "
   ]
  },
  {
   "cell_type": "markdown",
   "metadata": {},
   "source": [
    "## Расчёт прибыли и рисков "
   ]
  },
  {
   "cell_type": "markdown",
   "metadata": {},
   "source": [
    "### Функция расчета прибыли:"
   ]
  },
  {
   "cell_type": "code",
   "execution_count": 24,
   "metadata": {},
   "outputs": [],
   "source": [
    "#прибыль\n",
    "def profit(target, predict,  count):\n",
    "    predict_sorted = predict.sort_values(ascending=False)\n",
    "    select = target[predict_sorted.index][:count]\n",
    "    return BARE * select.sum() - BUDGET\n",
    "\n",
    "#проверка\n",
    "#profit(predict_target_valid_0['target'], , 200)"
   ]
  },
  {
   "cell_type": "markdown",
   "metadata": {},
   "source": [
    "### Bootstrap"
   ]
  },
  {
   "cell_type": "code",
   "execution_count": 25,
   "metadata": {},
   "outputs": [],
   "source": [
    "POINT_SELECTION = 500 #точек "
   ]
  },
  {
   "cell_type": "code",
   "execution_count": 26,
   "metadata": {},
   "outputs": [],
   "source": [
    "state = RandomState(992)\n",
    "\n",
    "def bootstraptor(target, predict):\n",
    "    #сохраняем походящие объекты\n",
    "    values = []\n",
    "    for i in range(1000):\n",
    "        subsample = target.sample(POINT_SELECTION, random_state=state, replace=True)\n",
    "        predict_subsample = predict[subsample.index]\n",
    "        profit_subsample = profit(target, predict_subsample, BEST_DEVELOPMENT)\n",
    "        values.append(profit_subsample)\n",
    "    \n",
    "    #перевод списка в таблицу\n",
    "    data_values = pd.DataFrame({'values':values})\n",
    "    \n",
    "    #колличество убыточных скважен  \n",
    "    loss = (data_values < 0).sum()\n",
    "    \n",
    "\n",
    "    values_mean = np.mean(values)\n",
    "    lower = np.percentile(values, 2.5)\n",
    "    upper = np.percentile(values, 97.5)\n",
    "    print('Средняя прибыль:','%.0f'%values_mean)\n",
    "    print('Доверительный интервал (95%):', '%.0f, %.0f' % (lower, upper))\n",
    "    print('Вероятность убытка, %:',(loss / 1000)*100)"
   ]
  },
  {
   "cell_type": "markdown",
   "metadata": {},
   "source": [
    "**Регион 0**"
   ]
  },
  {
   "cell_type": "code",
   "execution_count": 27,
   "metadata": {},
   "outputs": [
    {
     "name": "stdout",
     "output_type": "stream",
     "text": [
      "Средняя прибыль: 454434126\n",
      "Доверительный интервал (95%): -69953426, 958076173\n",
      "Вероятность убытка, %: values    4.3\n",
      "dtype: float64\n"
     ]
    }
   ],
   "source": [
    "bootstraptor(predict_target_valid_0['target'], predict_target_valid_0['predict'])"
   ]
  },
  {
   "cell_type": "markdown",
   "metadata": {},
   "source": [
    "**Регион 1**"
   ]
  },
  {
   "cell_type": "code",
   "execution_count": 28,
   "metadata": {},
   "outputs": [
    {
     "name": "stdout",
     "output_type": "stream",
     "text": [
      "Средняя прибыль: 477660978\n",
      "Доверительный интервал (95%): 49574172, 890826915\n",
      "Вероятность убытка, %: values    1.8\n",
      "dtype: float64\n"
     ]
    }
   ],
   "source": [
    "bootstraptor(predict_target_valid_1['target'], predict_target_valid_1['predict'])"
   ]
  },
  {
   "cell_type": "markdown",
   "metadata": {},
   "source": [
    "**Регион 2**"
   ]
  },
  {
   "cell_type": "code",
   "execution_count": 29,
   "metadata": {},
   "outputs": [
    {
     "name": "stdout",
     "output_type": "stream",
     "text": [
      "Средняя прибыль: 317677762\n",
      "Доверительный интервал (95%): -237829743, 855848904\n",
      "Вероятность убытка, %: values    11.9\n",
      "dtype: float64\n"
     ]
    }
   ],
   "source": [
    "bootstraptor(predict_target_valid_2['target'], predict_target_valid_2['predict'])"
   ]
  },
  {
   "cell_type": "markdown",
   "metadata": {},
   "source": [
    "**Вывод:** Из всех рассмотренных регионов стоит остановить свое внимание на **1**, т.к. вероятность убытка выше на 2.2 % чем у 0 региона, но при этом диапазон доверительного интервала в 2-3 раза. Т.Е. если убыток будет всё-таки получен его размер будет гораздо меньше. Конечно, нужно думать о прибыли, но в данной ситуации надо рассматривать варианты от наихудшего стечения обстоятельств. По поводу 2 региона вероятность получения убытка самая большая, да и его размер может составить очень приличную – самый рисковый вариант. **Самый оптимальным регионом для разработки месторождений является 1.**\n",
    "\n",
    "Прогноз удивил я думал будет совершенно иначе."
   ]
  },
  {
   "cell_type": "markdown",
   "metadata": {},
   "source": [
    "## Чек-лист готовности проекта"
   ]
  },
  {
   "cell_type": "markdown",
   "metadata": {},
   "source": [
    "Поставьте 'x' в выполненных пунктах. Далее нажмите Shift+Enter."
   ]
  },
  {
   "cell_type": "markdown",
   "metadata": {},
   "source": [
    "- [x]  Jupyter Notebook открыт\n",
    "- [x]  Весь код выполняется без ошибок\n",
    "- [x]  Ячейки с кодом расположены в порядке исполнения\n",
    "- [x]  Выполнен шаг 1: данные подготовлены\n",
    "- [x]  Выполнен шаг 2: модели обучены и проверены\n",
    "    - [x]  Данные корректно разбиты на обучающую и валидационную выборки\n",
    "    - [x]  Модели обучены, предсказания сделаны\n",
    "    - [x]  Предсказания и правильные ответы на валидационной выборке сохранены\n",
    "    - [x]  На экране напечатаны результаты\n",
    "    - [x]  Сделаны выводы\n",
    "- [x]  Выполнен шаг 3: проведена подготовка к расчёту прибыли\n",
    "    - [x]  Для всех ключевых значений созданы константы Python\n",
    "    - [x]  Посчитано минимальное среднее количество продукта в месторождениях региона, достаточное для разработки\n",
    "    - [x]  По предыдущему пункту сделаны выводы\n",
    "    - [x]  Написана функция расчёта прибыли\n",
    "- [x]  Выполнен шаг 4: посчитаны риски и прибыль\n",
    "    - [x]  Проведена процедура *Bootstrap*\n",
    "    - [x]  Все параметры бутстрепа соответствуют условию\n",
    "    - [x]  Найдены все нужные величины\n",
    "    - [x]  Предложен регион для разработки месторождения\n",
    "    - [x]  Выбор региона обоснован"
   ]
  },
  {
   "cell_type": "code",
   "execution_count": null,
   "metadata": {},
   "outputs": [],
   "source": []
  }
 ],
 "metadata": {
  "ExecuteTimeLog": [
   {
    "duration": 384,
    "start_time": "2023-06-01T19:12:44.813Z"
   },
   {
    "duration": 1573,
    "start_time": "2023-06-01T19:14:17.295Z"
   },
   {
    "duration": 19,
    "start_time": "2023-06-01T19:14:35.644Z"
   },
   {
    "duration": 13,
    "start_time": "2023-06-01T19:14:42.948Z"
   },
   {
    "duration": 9,
    "start_time": "2023-06-01T19:17:41.931Z"
   },
   {
    "duration": 7,
    "start_time": "2023-06-01T19:17:50.596Z"
   },
   {
    "duration": 15,
    "start_time": "2023-06-01T19:17:55.106Z"
   },
   {
    "duration": 15,
    "start_time": "2023-06-01T19:18:15.985Z"
   },
   {
    "duration": 16,
    "start_time": "2023-06-01T19:18:20.455Z"
   },
   {
    "duration": 19,
    "start_time": "2023-06-01T19:18:24.183Z"
   },
   {
    "duration": 14,
    "start_time": "2023-06-01T19:18:31.462Z"
   },
   {
    "duration": 20,
    "start_time": "2023-06-01T19:18:35.213Z"
   },
   {
    "duration": 60,
    "start_time": "2023-06-01T19:18:38.544Z"
   },
   {
    "duration": 14,
    "start_time": "2023-06-01T19:18:43.324Z"
   },
   {
    "duration": 8,
    "start_time": "2023-06-01T19:19:33.823Z"
   },
   {
    "duration": 9,
    "start_time": "2023-06-01T19:22:53.512Z"
   },
   {
    "duration": 23,
    "start_time": "2023-06-01T19:23:13.900Z"
   },
   {
    "duration": 14,
    "start_time": "2023-06-01T19:23:20.958Z"
   },
   {
    "duration": 10,
    "start_time": "2023-06-01T19:24:15.592Z"
   },
   {
    "duration": 138,
    "start_time": "2023-06-01T19:24:32.019Z"
   },
   {
    "duration": 145,
    "start_time": "2023-06-01T19:24:50.948Z"
   },
   {
    "duration": 111,
    "start_time": "2023-06-01T19:24:59.771Z"
   },
   {
    "duration": 130,
    "start_time": "2023-06-01T19:25:06.145Z"
   },
   {
    "duration": 4,
    "start_time": "2023-06-01T19:25:16.310Z"
   },
   {
    "duration": 15,
    "start_time": "2023-06-01T19:27:43.757Z"
   },
   {
    "duration": 15,
    "start_time": "2023-06-01T19:28:24.545Z"
   },
   {
    "duration": 16,
    "start_time": "2023-06-01T19:29:12.685Z"
   },
   {
    "duration": 21,
    "start_time": "2023-06-01T19:29:46.833Z"
   },
   {
    "duration": 24,
    "start_time": "2023-06-01T19:30:34.808Z"
   },
   {
    "duration": 23,
    "start_time": "2023-06-01T19:31:20.921Z"
   },
   {
    "duration": 22,
    "start_time": "2023-06-01T19:32:43.950Z"
   },
   {
    "duration": 23,
    "start_time": "2023-06-01T19:32:56.348Z"
   },
   {
    "duration": 20,
    "start_time": "2023-06-01T19:33:04.994Z"
   },
   {
    "duration": 15,
    "start_time": "2023-06-01T19:33:33.503Z"
   },
   {
    "duration": 17,
    "start_time": "2023-06-01T19:33:45.927Z"
   },
   {
    "duration": 21,
    "start_time": "2023-06-01T19:33:48.817Z"
   },
   {
    "duration": 17,
    "start_time": "2023-06-01T19:33:59.928Z"
   },
   {
    "duration": 22,
    "start_time": "2023-06-01T19:34:32.378Z"
   },
   {
    "duration": 18,
    "start_time": "2023-06-01T19:35:05.341Z"
   },
   {
    "duration": 1778,
    "start_time": "2023-06-01T19:35:16.853Z"
   },
   {
    "duration": 17,
    "start_time": "2023-06-01T19:35:23.818Z"
   },
   {
    "duration": 1684,
    "start_time": "2023-06-01T19:35:30.288Z"
   },
   {
    "duration": 1600,
    "start_time": "2023-06-01T19:35:37.795Z"
   },
   {
    "duration": 18,
    "start_time": "2023-06-01T19:38:43.932Z"
   },
   {
    "duration": 36,
    "start_time": "2023-06-01T20:47:50.626Z"
   },
   {
    "duration": 22,
    "start_time": "2023-06-01T20:48:59.001Z"
   },
   {
    "duration": 27,
    "start_time": "2023-06-01T20:49:18.944Z"
   },
   {
    "duration": 24,
    "start_time": "2023-06-01T20:49:33.086Z"
   },
   {
    "duration": 29,
    "start_time": "2023-06-01T20:49:42.681Z"
   },
   {
    "duration": 1674,
    "start_time": "2023-06-01T20:49:55.624Z"
   },
   {
    "duration": 397,
    "start_time": "2023-06-01T20:50:26.460Z"
   },
   {
    "duration": 358,
    "start_time": "2023-06-01T20:50:27.219Z"
   },
   {
    "duration": 17,
    "start_time": "2023-06-01T20:50:27.581Z"
   },
   {
    "duration": 19,
    "start_time": "2023-06-01T20:50:29.355Z"
   },
   {
    "duration": 1851,
    "start_time": "2023-06-01T20:50:29.863Z"
   },
   {
    "duration": 25,
    "start_time": "2023-06-01T20:50:39.953Z"
   },
   {
    "duration": 106,
    "start_time": "2023-06-01T20:50:55.861Z"
   },
   {
    "duration": 30,
    "start_time": "2023-06-01T20:50:59.428Z"
   },
   {
    "duration": 1687,
    "start_time": "2023-06-01T20:51:02.311Z"
   },
   {
    "duration": 27,
    "start_time": "2023-06-01T20:51:32.720Z"
   },
   {
    "duration": 25,
    "start_time": "2023-06-01T20:51:50.865Z"
   },
   {
    "duration": 23,
    "start_time": "2023-06-01T20:51:53.682Z"
   },
   {
    "duration": 29,
    "start_time": "2023-06-01T20:52:12.831Z"
   },
   {
    "duration": 23,
    "start_time": "2023-06-01T20:55:14.156Z"
   },
   {
    "duration": 15,
    "start_time": "2023-06-01T20:58:29.211Z"
   },
   {
    "duration": 16,
    "start_time": "2023-06-01T20:58:41.711Z"
   },
   {
    "duration": 16,
    "start_time": "2023-06-01T20:58:50.166Z"
   },
   {
    "duration": 30,
    "start_time": "2023-06-01T20:59:00.881Z"
   },
   {
    "duration": 109,
    "start_time": "2023-06-01T20:59:42.820Z"
   },
   {
    "duration": 36,
    "start_time": "2023-06-01T21:04:59.450Z"
   },
   {
    "duration": 36,
    "start_time": "2023-06-01T21:05:08.524Z"
   },
   {
    "duration": 24,
    "start_time": "2023-06-01T21:05:39.190Z"
   },
   {
    "duration": 25,
    "start_time": "2023-06-01T21:05:54.697Z"
   },
   {
    "duration": 19,
    "start_time": "2023-06-01T21:06:01.471Z"
   },
   {
    "duration": 25,
    "start_time": "2023-06-01T21:06:14.555Z"
   },
   {
    "duration": 1651,
    "start_time": "2023-06-01T21:06:32.120Z"
   },
   {
    "duration": 18,
    "start_time": "2023-06-01T21:06:50.336Z"
   },
   {
    "duration": 40,
    "start_time": "2023-06-01T21:07:01.997Z"
   },
   {
    "duration": 37,
    "start_time": "2023-06-01T21:07:07.695Z"
   },
   {
    "duration": 28,
    "start_time": "2023-06-01T21:07:14.150Z"
   },
   {
    "duration": 20,
    "start_time": "2023-06-01T21:07:22.045Z"
   },
   {
    "duration": 52,
    "start_time": "2023-06-01T21:14:21.977Z"
   },
   {
    "duration": 39,
    "start_time": "2023-06-01T21:17:38.120Z"
   },
   {
    "duration": 1281,
    "start_time": "2023-06-01T21:17:42.765Z"
   },
   {
    "duration": 1292,
    "start_time": "2023-06-01T21:17:54.074Z"
   },
   {
    "duration": 365,
    "start_time": "2023-06-01T21:18:05.853Z"
   },
   {
    "duration": 47,
    "start_time": "2023-06-01T21:18:09.879Z"
   },
   {
    "duration": 43,
    "start_time": "2023-06-01T21:19:09.232Z"
   },
   {
    "duration": 381,
    "start_time": "2023-06-01T21:28:00.138Z"
   },
   {
    "duration": 38,
    "start_time": "2023-06-01T21:28:20.377Z"
   },
   {
    "duration": 46,
    "start_time": "2023-06-01T21:28:29.459Z"
   },
   {
    "duration": 46,
    "start_time": "2023-06-01T21:28:45.750Z"
   },
   {
    "duration": 44,
    "start_time": "2023-06-01T21:33:36.200Z"
   },
   {
    "duration": 45,
    "start_time": "2023-06-01T21:33:55.754Z"
   },
   {
    "duration": 25,
    "start_time": "2023-06-01T21:34:53.477Z"
   },
   {
    "duration": 15,
    "start_time": "2023-06-01T21:34:57.807Z"
   },
   {
    "duration": 16,
    "start_time": "2023-06-01T21:35:47.306Z"
   },
   {
    "duration": 18,
    "start_time": "2023-06-01T21:35:57.936Z"
   },
   {
    "duration": 1722,
    "start_time": "2023-06-01T21:36:12.776Z"
   },
   {
    "duration": 1659,
    "start_time": "2023-06-01T21:36:26.980Z"
   },
   {
    "duration": 1662,
    "start_time": "2023-06-01T21:36:39.606Z"
   },
   {
    "duration": 1757,
    "start_time": "2023-06-01T21:37:04.348Z"
   },
   {
    "duration": 357,
    "start_time": "2023-06-01T21:37:13.583Z"
   },
   {
    "duration": 1730,
    "start_time": "2023-06-01T21:37:19.293Z"
   },
   {
    "duration": 44,
    "start_time": "2023-06-01T21:37:50.754Z"
   },
   {
    "duration": 16,
    "start_time": "2023-06-01T21:37:55.237Z"
   },
   {
    "duration": 46,
    "start_time": "2023-06-01T21:38:08.905Z"
   },
   {
    "duration": 16,
    "start_time": "2023-06-01T21:38:12.892Z"
   },
   {
    "duration": 17,
    "start_time": "2023-06-01T21:38:15.927Z"
   },
   {
    "duration": 18,
    "start_time": "2023-06-01T21:38:24.696Z"
   },
   {
    "duration": 16,
    "start_time": "2023-06-01T21:38:57.975Z"
   },
   {
    "duration": 15,
    "start_time": "2023-06-01T21:39:11.776Z"
   },
   {
    "duration": 75,
    "start_time": "2023-06-01T21:39:55.316Z"
   },
   {
    "duration": 13,
    "start_time": "2023-06-01T21:39:57.314Z"
   },
   {
    "duration": 76,
    "start_time": "2023-06-01T21:40:36.775Z"
   },
   {
    "duration": 74,
    "start_time": "2023-06-01T21:40:51.122Z"
   },
   {
    "duration": 84,
    "start_time": "2023-06-01T21:41:00.272Z"
   },
   {
    "duration": 77,
    "start_time": "2023-06-01T21:41:06.704Z"
   },
   {
    "duration": 76,
    "start_time": "2023-06-01T21:41:39.214Z"
   },
   {
    "duration": 71,
    "start_time": "2023-06-01T21:41:45.913Z"
   },
   {
    "duration": 77,
    "start_time": "2023-06-01T21:43:33.002Z"
   },
   {
    "duration": 78,
    "start_time": "2023-06-01T21:46:46.210Z"
   },
   {
    "duration": 82,
    "start_time": "2023-06-01T21:46:59.909Z"
   },
   {
    "duration": 56,
    "start_time": "2023-06-01T21:51:25.623Z"
   },
   {
    "duration": 68,
    "start_time": "2023-06-01T22:16:17.719Z"
   },
   {
    "duration": 2,
    "start_time": "2023-06-01T22:37:55.850Z"
   },
   {
    "duration": 41,
    "start_time": "2023-06-02T10:13:15.720Z"
   },
   {
    "duration": 385,
    "start_time": "2023-06-02T10:13:35.616Z"
   },
   {
    "duration": 1508,
    "start_time": "2023-06-02T10:13:36.003Z"
   },
   {
    "duration": 19,
    "start_time": "2023-06-02T10:13:37.512Z"
   },
   {
    "duration": 22,
    "start_time": "2023-06-02T10:13:37.533Z"
   },
   {
    "duration": 19,
    "start_time": "2023-06-02T10:13:37.557Z"
   },
   {
    "duration": 87,
    "start_time": "2023-06-02T10:13:37.577Z"
   },
   {
    "duration": 5,
    "start_time": "2023-06-02T10:13:37.666Z"
   },
   {
    "duration": 60,
    "start_time": "2023-06-02T10:13:48.850Z"
   },
   {
    "duration": 13,
    "start_time": "2023-06-02T10:13:56.463Z"
   },
   {
    "duration": 11,
    "start_time": "2023-06-02T10:14:17.589Z"
   },
   {
    "duration": 4,
    "start_time": "2023-06-02T10:14:39.270Z"
   },
   {
    "duration": 6,
    "start_time": "2023-06-02T10:15:00.316Z"
   },
   {
    "duration": 11,
    "start_time": "2023-06-02T10:15:06.965Z"
   },
   {
    "duration": 6,
    "start_time": "2023-06-02T10:15:14.693Z"
   },
   {
    "duration": 8,
    "start_time": "2023-06-02T10:16:35.880Z"
   },
   {
    "duration": 1103,
    "start_time": "2023-06-03T20:21:02.625Z"
   },
   {
    "duration": 3,
    "start_time": "2023-06-03T20:39:19.495Z"
   },
   {
    "duration": 1054,
    "start_time": "2023-06-03T20:53:55.477Z"
   },
   {
    "duration": 2280,
    "start_time": "2023-06-03T20:53:56.533Z"
   },
   {
    "duration": 23,
    "start_time": "2023-06-03T20:53:58.816Z"
   },
   {
    "duration": 19,
    "start_time": "2023-06-03T20:53:58.841Z"
   },
   {
    "duration": 29,
    "start_time": "2023-06-03T20:53:58.862Z"
   },
   {
    "duration": 119,
    "start_time": "2023-06-03T20:53:58.893Z"
   },
   {
    "duration": 13,
    "start_time": "2023-06-03T20:53:59.014Z"
   },
   {
    "duration": 4,
    "start_time": "2023-06-03T20:53:59.029Z"
   },
   {
    "duration": 60,
    "start_time": "2023-06-03T20:53:59.035Z"
   },
   {
    "duration": 26,
    "start_time": "2023-06-03T21:11:28.449Z"
   },
   {
    "duration": 1247,
    "start_time": "2023-06-03T21:24:37.866Z"
   },
   {
    "duration": 437,
    "start_time": "2023-06-03T21:24:39.115Z"
   },
   {
    "duration": 20,
    "start_time": "2023-06-03T21:24:39.556Z"
   },
   {
    "duration": 16,
    "start_time": "2023-06-03T21:24:39.577Z"
   },
   {
    "duration": 20,
    "start_time": "2023-06-03T21:24:39.595Z"
   },
   {
    "duration": 116,
    "start_time": "2023-06-03T21:24:39.616Z"
   },
   {
    "duration": 9,
    "start_time": "2023-06-03T21:24:39.734Z"
   },
   {
    "duration": 2,
    "start_time": "2023-06-03T21:24:39.756Z"
   },
   {
    "duration": 46,
    "start_time": "2023-06-03T21:24:39.760Z"
   },
   {
    "duration": 114,
    "start_time": "2023-06-03T21:24:39.808Z"
   },
   {
    "duration": 17,
    "start_time": "2023-06-03T21:25:26.636Z"
   },
   {
    "duration": 11,
    "start_time": "2023-06-03T21:26:21.116Z"
   },
   {
    "duration": 7,
    "start_time": "2023-06-03T21:26:48.929Z"
   },
   {
    "duration": 14,
    "start_time": "2023-06-03T21:27:00.050Z"
   },
   {
    "duration": 15,
    "start_time": "2023-06-03T21:28:29.207Z"
   },
   {
    "duration": 15,
    "start_time": "2023-06-03T21:29:00.348Z"
   },
   {
    "duration": 3,
    "start_time": "2023-06-03T21:29:42.420Z"
   },
   {
    "duration": 14,
    "start_time": "2023-06-03T21:30:09.927Z"
   },
   {
    "duration": 15,
    "start_time": "2023-06-03T21:30:40.384Z"
   },
   {
    "duration": 1075,
    "start_time": "2023-06-04T21:59:25.731Z"
   },
   {
    "duration": 1060,
    "start_time": "2023-06-04T22:01:44.050Z"
   },
   {
    "duration": 1619,
    "start_time": "2023-06-04T22:01:45.127Z"
   },
   {
    "duration": 18,
    "start_time": "2023-06-04T22:01:46.748Z"
   },
   {
    "duration": 28,
    "start_time": "2023-06-04T22:01:46.768Z"
   },
   {
    "duration": 28,
    "start_time": "2023-06-04T22:01:46.804Z"
   },
   {
    "duration": 96,
    "start_time": "2023-06-04T22:01:46.834Z"
   },
   {
    "duration": 9,
    "start_time": "2023-06-04T22:01:46.934Z"
   },
   {
    "duration": 17,
    "start_time": "2023-06-04T22:01:46.944Z"
   },
   {
    "duration": 71,
    "start_time": "2023-06-04T22:01:46.963Z"
   },
   {
    "duration": 20,
    "start_time": "2023-06-04T22:01:47.035Z"
   },
   {
    "duration": 65,
    "start_time": "2023-06-04T22:01:47.057Z"
   },
   {
    "duration": 5827,
    "start_time": "2023-06-04T22:01:47.139Z"
   },
   {
    "duration": 3,
    "start_time": "2023-06-04T22:06:41.969Z"
   },
   {
    "duration": 5818,
    "start_time": "2023-06-04T22:06:42.760Z"
   },
   {
    "duration": 47457,
    "start_time": "2023-06-04T22:08:27.519Z"
   },
   {
    "duration": 1907,
    "start_time": "2023-06-04T22:22:10.507Z"
   },
   {
    "duration": 1751,
    "start_time": "2023-06-04T22:22:52.647Z"
   },
   {
    "duration": 48198,
    "start_time": "2023-06-04T22:22:59.332Z"
   },
   {
    "duration": 1118,
    "start_time": "2023-06-05T20:24:54.258Z"
   },
   {
    "duration": 1979,
    "start_time": "2023-06-05T20:24:55.378Z"
   },
   {
    "duration": 19,
    "start_time": "2023-06-05T20:24:57.359Z"
   },
   {
    "duration": 17,
    "start_time": "2023-06-05T20:24:57.379Z"
   },
   {
    "duration": 27,
    "start_time": "2023-06-05T20:24:57.398Z"
   },
   {
    "duration": 111,
    "start_time": "2023-06-05T20:24:57.426Z"
   },
   {
    "duration": 17,
    "start_time": "2023-06-05T20:24:57.539Z"
   },
   {
    "duration": 12,
    "start_time": "2023-06-05T20:24:57.673Z"
   },
   {
    "duration": 6,
    "start_time": "2023-06-05T20:25:08.248Z"
   },
   {
    "duration": 6,
    "start_time": "2023-06-05T20:25:13.632Z"
   },
   {
    "duration": 7,
    "start_time": "2023-06-05T20:25:23.836Z"
   },
   {
    "duration": 6,
    "start_time": "2023-06-05T20:25:31.259Z"
   },
   {
    "duration": 5,
    "start_time": "2023-06-05T20:25:35.990Z"
   },
   {
    "duration": 5,
    "start_time": "2023-06-05T20:25:42.207Z"
   },
   {
    "duration": 97,
    "start_time": "2023-06-05T21:00:49.602Z"
   },
   {
    "duration": 1108,
    "start_time": "2023-06-05T21:00:57.288Z"
   },
   {
    "duration": 384,
    "start_time": "2023-06-05T21:00:58.398Z"
   },
   {
    "duration": 22,
    "start_time": "2023-06-05T21:00:58.784Z"
   },
   {
    "duration": 21,
    "start_time": "2023-06-05T21:00:58.809Z"
   },
   {
    "duration": 27,
    "start_time": "2023-06-05T21:00:58.856Z"
   },
   {
    "duration": 122,
    "start_time": "2023-06-05T21:00:58.885Z"
   },
   {
    "duration": 11,
    "start_time": "2023-06-05T21:00:59.009Z"
   },
   {
    "duration": 16,
    "start_time": "2023-06-05T21:00:59.022Z"
   },
   {
    "duration": 51,
    "start_time": "2023-06-05T21:00:59.040Z"
   },
   {
    "duration": 13,
    "start_time": "2023-06-05T21:00:59.093Z"
   },
   {
    "duration": 116,
    "start_time": "2023-06-05T21:00:59.108Z"
   },
   {
    "duration": 0,
    "start_time": "2023-06-05T21:00:59.225Z"
   },
   {
    "duration": 0,
    "start_time": "2023-06-05T21:00:59.227Z"
   },
   {
    "duration": 0,
    "start_time": "2023-06-05T21:00:59.229Z"
   },
   {
    "duration": 6,
    "start_time": "2023-06-05T21:01:07.939Z"
   },
   {
    "duration": 5,
    "start_time": "2023-06-05T21:01:39.437Z"
   },
   {
    "duration": 5,
    "start_time": "2023-06-05T21:01:44.337Z"
   },
   {
    "duration": 16,
    "start_time": "2023-06-05T21:03:12.052Z"
   },
   {
    "duration": 10,
    "start_time": "2023-06-05T21:03:21.281Z"
   },
   {
    "duration": 12,
    "start_time": "2023-06-05T21:03:37.277Z"
   },
   {
    "duration": 10,
    "start_time": "2023-06-05T21:05:28.167Z"
   },
   {
    "duration": 1447,
    "start_time": "2023-06-05T21:09:48.649Z"
   },
   {
    "duration": 1712,
    "start_time": "2023-06-05T21:09:50.098Z"
   },
   {
    "duration": 17,
    "start_time": "2023-06-05T21:09:51.812Z"
   },
   {
    "duration": 30,
    "start_time": "2023-06-05T21:09:51.831Z"
   },
   {
    "duration": 24,
    "start_time": "2023-06-05T21:09:51.864Z"
   },
   {
    "duration": 110,
    "start_time": "2023-06-05T21:09:51.890Z"
   },
   {
    "duration": 10,
    "start_time": "2023-06-05T21:09:52.002Z"
   },
   {
    "duration": 39,
    "start_time": "2023-06-05T21:09:52.014Z"
   },
   {
    "duration": 57,
    "start_time": "2023-06-05T21:09:52.054Z"
   },
   {
    "duration": 48,
    "start_time": "2023-06-05T21:10:16.425Z"
   },
   {
    "duration": 1237,
    "start_time": "2023-06-05T21:10:24.223Z"
   },
   {
    "duration": 1711,
    "start_time": "2023-06-05T21:10:25.463Z"
   },
   {
    "duration": 17,
    "start_time": "2023-06-05T21:10:27.176Z"
   },
   {
    "duration": 16,
    "start_time": "2023-06-05T21:10:27.195Z"
   },
   {
    "duration": 25,
    "start_time": "2023-06-05T21:10:27.213Z"
   },
   {
    "duration": 106,
    "start_time": "2023-06-05T21:10:27.256Z"
   },
   {
    "duration": 11,
    "start_time": "2023-06-05T21:10:27.364Z"
   },
   {
    "duration": 9,
    "start_time": "2023-06-05T21:10:27.377Z"
   },
   {
    "duration": 42,
    "start_time": "2023-06-05T21:10:27.388Z"
   },
   {
    "duration": 1320,
    "start_time": "2023-06-05T21:11:01.153Z"
   },
   {
    "duration": 1566,
    "start_time": "2023-06-05T21:11:02.475Z"
   },
   {
    "duration": 16,
    "start_time": "2023-06-05T21:11:04.042Z"
   },
   {
    "duration": 20,
    "start_time": "2023-06-05T21:11:04.059Z"
   },
   {
    "duration": 20,
    "start_time": "2023-06-05T21:11:04.081Z"
   },
   {
    "duration": 110,
    "start_time": "2023-06-05T21:11:04.102Z"
   },
   {
    "duration": 9,
    "start_time": "2023-06-05T21:11:04.213Z"
   },
   {
    "duration": 6,
    "start_time": "2023-06-05T21:11:04.224Z"
   },
   {
    "duration": 52,
    "start_time": "2023-06-05T21:11:04.232Z"
   },
   {
    "duration": 12,
    "start_time": "2023-06-05T21:11:04.285Z"
   },
   {
    "duration": 6,
    "start_time": "2023-06-05T21:11:04.299Z"
   },
   {
    "duration": 72,
    "start_time": "2023-06-05T21:11:04.307Z"
   },
   {
    "duration": 35229,
    "start_time": "2023-06-05T21:11:04.381Z"
   },
   {
    "duration": 3,
    "start_time": "2023-06-05T21:11:42.142Z"
   },
   {
    "duration": 44,
    "start_time": "2023-06-05T21:13:37.791Z"
   },
   {
    "duration": 1149,
    "start_time": "2023-06-05T21:13:41.739Z"
   },
   {
    "duration": 1669,
    "start_time": "2023-06-05T21:13:42.890Z"
   },
   {
    "duration": 17,
    "start_time": "2023-06-05T21:13:44.562Z"
   },
   {
    "duration": 21,
    "start_time": "2023-06-05T21:13:44.582Z"
   },
   {
    "duration": 52,
    "start_time": "2023-06-05T21:13:44.605Z"
   },
   {
    "duration": 100,
    "start_time": "2023-06-05T21:13:44.659Z"
   },
   {
    "duration": 10,
    "start_time": "2023-06-05T21:13:44.761Z"
   },
   {
    "duration": 10,
    "start_time": "2023-06-05T21:13:44.773Z"
   },
   {
    "duration": 37,
    "start_time": "2023-06-05T21:13:44.784Z"
   },
   {
    "duration": 47,
    "start_time": "2023-06-05T21:13:44.824Z"
   },
   {
    "duration": 10,
    "start_time": "2023-06-05T21:13:44.874Z"
   },
   {
    "duration": 11,
    "start_time": "2023-06-05T21:13:44.886Z"
   },
   {
    "duration": 4,
    "start_time": "2023-06-05T21:13:44.899Z"
   },
   {
    "duration": 3,
    "start_time": "2023-06-05T21:13:44.905Z"
   },
   {
    "duration": 12,
    "start_time": "2023-06-05T21:15:26.142Z"
   },
   {
    "duration": 5,
    "start_time": "2023-06-05T21:15:34.325Z"
   },
   {
    "duration": 3,
    "start_time": "2023-06-05T21:22:56.724Z"
   },
   {
    "duration": 115,
    "start_time": "2023-06-05T21:22:57.321Z"
   },
   {
    "duration": 21,
    "start_time": "2023-06-05T21:25:02.975Z"
   },
   {
    "duration": 16,
    "start_time": "2023-06-05T21:26:53.612Z"
   },
   {
    "duration": 14,
    "start_time": "2023-06-05T21:26:56.478Z"
   },
   {
    "duration": 10,
    "start_time": "2023-06-05T21:30:17.812Z"
   },
   {
    "duration": 78,
    "start_time": "2023-06-05T21:30:22.768Z"
   },
   {
    "duration": 466,
    "start_time": "2023-06-05T21:30:23.220Z"
   },
   {
    "duration": 457,
    "start_time": "2023-06-05T21:30:54.050Z"
   },
   {
    "duration": 37307,
    "start_time": "2023-06-05T21:32:21.250Z"
   },
   {
    "duration": 8,
    "start_time": "2023-06-05T21:34:25.298Z"
   },
   {
    "duration": 1119,
    "start_time": "2023-06-05T21:35:00.787Z"
   },
   {
    "duration": 401,
    "start_time": "2023-06-05T21:35:01.908Z"
   },
   {
    "duration": 18,
    "start_time": "2023-06-05T21:35:02.311Z"
   },
   {
    "duration": 26,
    "start_time": "2023-06-05T21:35:02.331Z"
   },
   {
    "duration": 19,
    "start_time": "2023-06-05T21:35:02.359Z"
   },
   {
    "duration": 95,
    "start_time": "2023-06-05T21:35:02.380Z"
   },
   {
    "duration": 8,
    "start_time": "2023-06-05T21:35:02.477Z"
   },
   {
    "duration": 9,
    "start_time": "2023-06-05T21:35:02.487Z"
   },
   {
    "duration": 45,
    "start_time": "2023-06-05T21:35:02.497Z"
   },
   {
    "duration": 10,
    "start_time": "2023-06-05T21:35:02.544Z"
   },
   {
    "duration": 40,
    "start_time": "2023-06-05T21:35:02.557Z"
   },
   {
    "duration": 8,
    "start_time": "2023-06-05T21:35:02.599Z"
   },
   {
    "duration": 22,
    "start_time": "2023-06-05T21:35:02.608Z"
   },
   {
    "duration": 37,
    "start_time": "2023-06-05T21:35:02.632Z"
   },
   {
    "duration": 198,
    "start_time": "2023-06-05T21:35:02.671Z"
   },
   {
    "duration": 36532,
    "start_time": "2023-06-05T21:35:02.870Z"
   },
   {
    "duration": 9,
    "start_time": "2023-06-05T21:35:50.407Z"
   },
   {
    "duration": 8,
    "start_time": "2023-06-05T21:35:58.907Z"
   },
   {
    "duration": 1232,
    "start_time": "2023-06-05T21:36:08.145Z"
   },
   {
    "duration": 381,
    "start_time": "2023-06-05T21:36:09.380Z"
   },
   {
    "duration": 17,
    "start_time": "2023-06-05T21:36:09.763Z"
   },
   {
    "duration": 22,
    "start_time": "2023-06-05T21:36:09.782Z"
   },
   {
    "duration": 22,
    "start_time": "2023-06-05T21:36:09.807Z"
   },
   {
    "duration": 124,
    "start_time": "2023-06-05T21:36:09.832Z"
   },
   {
    "duration": 10,
    "start_time": "2023-06-05T21:36:09.959Z"
   },
   {
    "duration": 23,
    "start_time": "2023-06-05T21:36:09.971Z"
   },
   {
    "duration": 43,
    "start_time": "2023-06-05T21:36:09.996Z"
   },
   {
    "duration": 6,
    "start_time": "2023-06-05T21:36:10.041Z"
   },
   {
    "duration": 42,
    "start_time": "2023-06-05T21:36:10.049Z"
   },
   {
    "duration": 6,
    "start_time": "2023-06-05T21:36:10.093Z"
   },
   {
    "duration": 6,
    "start_time": "2023-06-05T21:36:10.101Z"
   },
   {
    "duration": 17,
    "start_time": "2023-06-05T21:36:10.109Z"
   },
   {
    "duration": 142,
    "start_time": "2023-06-05T21:36:10.128Z"
   },
   {
    "duration": 36550,
    "start_time": "2023-06-05T21:36:10.272Z"
   },
   {
    "duration": 144,
    "start_time": "2023-06-05T21:36:46.824Z"
   },
   {
    "duration": 6,
    "start_time": "2023-06-05T21:36:46.970Z"
   },
   {
    "duration": 11,
    "start_time": "2023-06-05T21:37:12.950Z"
   },
   {
    "duration": 9,
    "start_time": "2023-06-05T21:38:48.045Z"
   },
   {
    "duration": 9,
    "start_time": "2023-06-05T21:38:59.444Z"
   },
   {
    "duration": 1155,
    "start_time": "2023-06-05T21:39:28.812Z"
   },
   {
    "duration": 399,
    "start_time": "2023-06-05T21:39:29.969Z"
   },
   {
    "duration": 17,
    "start_time": "2023-06-05T21:39:30.370Z"
   },
   {
    "duration": 25,
    "start_time": "2023-06-05T21:39:30.388Z"
   },
   {
    "duration": 36,
    "start_time": "2023-06-05T21:39:30.415Z"
   },
   {
    "duration": 118,
    "start_time": "2023-06-05T21:39:30.453Z"
   },
   {
    "duration": 10,
    "start_time": "2023-06-05T21:39:30.573Z"
   },
   {
    "duration": 30,
    "start_time": "2023-06-05T21:39:30.585Z"
   },
   {
    "duration": 79,
    "start_time": "2023-06-05T21:39:30.617Z"
   },
   {
    "duration": 7,
    "start_time": "2023-06-05T21:39:30.698Z"
   },
   {
    "duration": 49,
    "start_time": "2023-06-05T21:39:30.706Z"
   },
   {
    "duration": 17,
    "start_time": "2023-06-05T21:39:30.757Z"
   },
   {
    "duration": 8,
    "start_time": "2023-06-05T21:39:30.776Z"
   },
   {
    "duration": 36,
    "start_time": "2023-06-05T21:39:30.787Z"
   },
   {
    "duration": 141,
    "start_time": "2023-06-05T21:39:30.825Z"
   },
   {
    "duration": 38034,
    "start_time": "2023-06-05T21:39:30.968Z"
   },
   {
    "duration": 98,
    "start_time": "2023-06-05T21:40:09.066Z"
   },
   {
    "duration": 11,
    "start_time": "2023-06-05T21:40:19.927Z"
   },
   {
    "duration": 2,
    "start_time": "2023-06-05T21:47:00.974Z"
   },
   {
    "duration": 8,
    "start_time": "2023-06-05T21:50:50.889Z"
   },
   {
    "duration": 96,
    "start_time": "2023-06-05T21:50:56.587Z"
   },
   {
    "duration": 10,
    "start_time": "2023-06-05T21:51:01.093Z"
   },
   {
    "duration": 9,
    "start_time": "2023-06-05T21:51:02.349Z"
   },
   {
    "duration": 9,
    "start_time": "2023-06-05T21:51:02.993Z"
   },
   {
    "duration": 10,
    "start_time": "2023-06-05T21:51:20.320Z"
   },
   {
    "duration": 16,
    "start_time": "2023-06-05T21:51:25.798Z"
   },
   {
    "duration": 16,
    "start_time": "2023-06-05T21:51:52.469Z"
   },
   {
    "duration": 6,
    "start_time": "2023-06-05T21:51:56.822Z"
   },
   {
    "duration": 21,
    "start_time": "2023-06-05T21:58:08.059Z"
   },
   {
    "duration": 18,
    "start_time": "2023-06-05T21:58:16.820Z"
   },
   {
    "duration": 18,
    "start_time": "2023-06-05T21:58:22.529Z"
   },
   {
    "duration": 14,
    "start_time": "2023-06-05T21:58:52.446Z"
   },
   {
    "duration": 15,
    "start_time": "2023-06-05T22:04:10.029Z"
   },
   {
    "duration": 9,
    "start_time": "2023-06-05T22:04:18.569Z"
   },
   {
    "duration": 17,
    "start_time": "2023-06-05T22:05:04.486Z"
   },
   {
    "duration": 9,
    "start_time": "2023-06-05T22:05:16.759Z"
   },
   {
    "duration": 1065,
    "start_time": "2023-06-05T22:08:12.682Z"
   },
   {
    "duration": 382,
    "start_time": "2023-06-05T22:08:13.749Z"
   },
   {
    "duration": 23,
    "start_time": "2023-06-05T22:08:14.133Z"
   },
   {
    "duration": 14,
    "start_time": "2023-06-05T22:08:14.158Z"
   },
   {
    "duration": 20,
    "start_time": "2023-06-05T22:08:14.175Z"
   },
   {
    "duration": 109,
    "start_time": "2023-06-05T22:08:14.197Z"
   },
   {
    "duration": 9,
    "start_time": "2023-06-05T22:08:14.308Z"
   },
   {
    "duration": 9,
    "start_time": "2023-06-05T22:08:14.319Z"
   },
   {
    "duration": 43,
    "start_time": "2023-06-05T22:08:14.329Z"
   },
   {
    "duration": 7,
    "start_time": "2023-06-05T22:08:14.374Z"
   },
   {
    "duration": 5,
    "start_time": "2023-06-05T22:08:14.383Z"
   },
   {
    "duration": 22,
    "start_time": "2023-06-05T22:08:14.390Z"
   },
   {
    "duration": 8,
    "start_time": "2023-06-05T22:08:14.413Z"
   },
   {
    "duration": 34,
    "start_time": "2023-06-05T22:08:14.423Z"
   },
   {
    "duration": 97,
    "start_time": "2023-06-05T22:08:14.459Z"
   },
   {
    "duration": 114,
    "start_time": "2023-06-05T22:08:14.559Z"
   },
   {
    "duration": 35632,
    "start_time": "2023-06-05T22:08:14.675Z"
   },
   {
    "duration": 20,
    "start_time": "2023-06-05T22:10:46.961Z"
   },
   {
    "duration": 3,
    "start_time": "2023-06-05T22:11:08.887Z"
   },
   {
    "duration": 27,
    "start_time": "2023-06-05T22:11:09.700Z"
   },
   {
    "duration": 17,
    "start_time": "2023-06-05T22:16:00.751Z"
   },
   {
    "duration": 66,
    "start_time": "2023-06-05T22:17:16.658Z"
   },
   {
    "duration": 109,
    "start_time": "2023-06-05T22:28:20.138Z"
   },
   {
    "duration": 95,
    "start_time": "2023-06-05T22:28:24.900Z"
   },
   {
    "duration": 10,
    "start_time": "2023-06-05T22:28:46.131Z"
   },
   {
    "duration": 11,
    "start_time": "2023-06-05T22:29:50.098Z"
   },
   {
    "duration": 10,
    "start_time": "2023-06-05T22:36:04.201Z"
   },
   {
    "duration": 10,
    "start_time": "2023-06-05T22:36:13.730Z"
   },
   {
    "duration": 2,
    "start_time": "2023-06-05T22:36:22.221Z"
   },
   {
    "duration": 12,
    "start_time": "2023-06-05T22:36:24.230Z"
   },
   {
    "duration": 13,
    "start_time": "2023-06-05T22:36:56.221Z"
   },
   {
    "duration": 2,
    "start_time": "2023-06-05T22:37:00.178Z"
   },
   {
    "duration": 10,
    "start_time": "2023-06-05T22:37:00.545Z"
   },
   {
    "duration": 14,
    "start_time": "2023-06-05T22:37:08.911Z"
   },
   {
    "duration": 15,
    "start_time": "2023-06-05T22:37:15.129Z"
   },
   {
    "duration": 19,
    "start_time": "2023-06-05T22:37:24.856Z"
   },
   {
    "duration": 1126,
    "start_time": "2023-06-05T22:37:36.647Z"
   },
   {
    "duration": 372,
    "start_time": "2023-06-05T22:37:37.777Z"
   },
   {
    "duration": 23,
    "start_time": "2023-06-05T22:37:38.151Z"
   },
   {
    "duration": 14,
    "start_time": "2023-06-05T22:37:38.176Z"
   },
   {
    "duration": 18,
    "start_time": "2023-06-05T22:37:38.191Z"
   },
   {
    "duration": 112,
    "start_time": "2023-06-05T22:37:38.211Z"
   },
   {
    "duration": 9,
    "start_time": "2023-06-05T22:37:38.325Z"
   },
   {
    "duration": 24,
    "start_time": "2023-06-05T22:37:38.335Z"
   },
   {
    "duration": 45,
    "start_time": "2023-06-05T22:37:38.361Z"
   },
   {
    "duration": 2,
    "start_time": "2023-06-05T22:37:38.409Z"
   },
   {
    "duration": 66,
    "start_time": "2023-06-05T22:37:38.413Z"
   },
   {
    "duration": 3,
    "start_time": "2023-06-05T22:37:38.481Z"
   },
   {
    "duration": 29,
    "start_time": "2023-06-05T22:37:38.485Z"
   },
   {
    "duration": 20,
    "start_time": "2023-06-05T22:41:32.517Z"
   },
   {
    "duration": 14,
    "start_time": "2023-06-05T22:41:41.038Z"
   },
   {
    "duration": 233,
    "start_time": "2023-06-05T22:48:30.996Z"
   },
   {
    "duration": 2,
    "start_time": "2023-06-05T22:48:36.039Z"
   },
   {
    "duration": 19,
    "start_time": "2023-06-05T22:48:36.354Z"
   },
   {
    "duration": 16,
    "start_time": "2023-06-05T22:48:51.345Z"
   },
   {
    "duration": 17,
    "start_time": "2023-06-05T22:50:16.480Z"
   },
   {
    "duration": 15,
    "start_time": "2023-06-05T22:50:39.689Z"
   },
   {
    "duration": 3,
    "start_time": "2023-06-05T22:53:14.591Z"
   },
   {
    "duration": 18,
    "start_time": "2023-06-05T22:53:36.349Z"
   },
   {
    "duration": 20,
    "start_time": "2023-06-05T23:10:23.495Z"
   },
   {
    "duration": 976,
    "start_time": "2023-06-06T07:43:12.251Z"
   },
   {
    "duration": 1187,
    "start_time": "2023-06-06T07:43:35.466Z"
   },
   {
    "duration": 1952,
    "start_time": "2023-06-06T07:43:36.655Z"
   },
   {
    "duration": 16,
    "start_time": "2023-06-06T07:43:38.608Z"
   },
   {
    "duration": 14,
    "start_time": "2023-06-06T07:43:38.626Z"
   },
   {
    "duration": 28,
    "start_time": "2023-06-06T07:43:38.642Z"
   },
   {
    "duration": 98,
    "start_time": "2023-06-06T07:43:38.671Z"
   },
   {
    "duration": 11,
    "start_time": "2023-06-06T07:43:38.770Z"
   },
   {
    "duration": 3,
    "start_time": "2023-06-06T07:43:38.784Z"
   },
   {
    "duration": 48,
    "start_time": "2023-06-06T07:43:38.789Z"
   },
   {
    "duration": 5,
    "start_time": "2023-06-06T07:43:38.839Z"
   },
   {
    "duration": 64,
    "start_time": "2023-06-06T07:43:38.845Z"
   },
   {
    "duration": 3,
    "start_time": "2023-06-06T07:43:38.911Z"
   },
   {
    "duration": 255,
    "start_time": "2023-06-06T07:43:38.916Z"
   },
   {
    "duration": 19,
    "start_time": "2023-06-06T07:44:19.508Z"
   },
   {
    "duration": 16,
    "start_time": "2023-06-06T07:44:36.915Z"
   },
   {
    "duration": 17,
    "start_time": "2023-06-06T07:44:56.936Z"
   },
   {
    "duration": 36,
    "start_time": "2023-06-06T07:50:20.550Z"
   },
   {
    "duration": 16,
    "start_time": "2023-06-06T07:51:15.217Z"
   },
   {
    "duration": 19,
    "start_time": "2023-06-06T07:51:19.708Z"
   },
   {
    "duration": 20,
    "start_time": "2023-06-06T07:52:07.098Z"
   },
   {
    "duration": 40546,
    "start_time": "2023-06-06T07:53:00.755Z"
   },
   {
    "duration": 40174,
    "start_time": "2023-06-06T07:55:54.043Z"
   },
   {
    "duration": 4,
    "start_time": "2023-06-06T07:56:52.772Z"
   },
   {
    "duration": 4,
    "start_time": "2023-06-06T07:57:02.743Z"
   },
   {
    "duration": 4,
    "start_time": "2023-06-06T07:57:15.328Z"
   },
   {
    "duration": 13508,
    "start_time": "2023-06-06T07:58:02.906Z"
   },
   {
    "duration": 13583,
    "start_time": "2023-06-06T07:58:29.396Z"
   },
   {
    "duration": 12976,
    "start_time": "2023-06-06T08:04:33.258Z"
   },
   {
    "duration": 12833,
    "start_time": "2023-06-06T08:05:19.662Z"
   },
   {
    "duration": 10,
    "start_time": "2023-06-06T08:10:32.511Z"
   },
   {
    "duration": 13308,
    "start_time": "2023-06-06T08:11:05.051Z"
   },
   {
    "duration": 39329,
    "start_time": "2023-06-06T08:11:41.005Z"
   },
   {
    "duration": 4,
    "start_time": "2023-06-06T08:12:40.912Z"
   },
   {
    "duration": 37898,
    "start_time": "2023-06-06T08:12:58.941Z"
   },
   {
    "duration": 12447,
    "start_time": "2023-06-06T08:14:17.063Z"
   },
   {
    "duration": 6303,
    "start_time": "2023-06-06T08:14:53.766Z"
   },
   {
    "duration": 2084,
    "start_time": "2023-06-06T08:15:08.312Z"
   },
   {
    "duration": 4277,
    "start_time": "2023-06-06T08:15:19.526Z"
   },
   {
    "duration": 4171,
    "start_time": "2023-06-06T08:15:48.453Z"
   },
   {
    "duration": 4304,
    "start_time": "2023-06-06T08:15:59.077Z"
   },
   {
    "duration": 3920,
    "start_time": "2023-06-06T08:16:09.773Z"
   },
   {
    "duration": 37894,
    "start_time": "2023-06-06T08:16:54.232Z"
   },
   {
    "duration": 40537,
    "start_time": "2023-06-06T08:18:38.448Z"
   },
   {
    "duration": 39355,
    "start_time": "2023-06-06T08:20:40.902Z"
   },
   {
    "duration": 2919,
    "start_time": "2023-06-06T08:21:29.704Z"
   },
   {
    "duration": 8767,
    "start_time": "2023-06-06T08:21:39.938Z"
   },
   {
    "duration": 4243,
    "start_time": "2023-06-06T08:22:00.557Z"
   },
   {
    "duration": 14486,
    "start_time": "2023-06-06T08:22:15.467Z"
   },
   {
    "duration": 3339,
    "start_time": "2023-06-06T08:25:09.640Z"
   },
   {
    "duration": 2924,
    "start_time": "2023-06-06T08:25:48.234Z"
   },
   {
    "duration": 2624,
    "start_time": "2023-06-06T08:32:22.590Z"
   },
   {
    "duration": 2794,
    "start_time": "2023-06-06T08:33:08.406Z"
   },
   {
    "duration": 2913,
    "start_time": "2023-06-06T08:33:27.303Z"
   },
   {
    "duration": 4,
    "start_time": "2023-06-06T08:37:38.675Z"
   },
   {
    "duration": 3095,
    "start_time": "2023-06-06T08:38:08.806Z"
   },
   {
    "duration": 2766,
    "start_time": "2023-06-06T08:38:36.823Z"
   },
   {
    "duration": 3177,
    "start_time": "2023-06-06T08:38:46.887Z"
   },
   {
    "duration": 3018,
    "start_time": "2023-06-06T08:39:36.303Z"
   },
   {
    "duration": 3092,
    "start_time": "2023-06-06T08:40:22.200Z"
   },
   {
    "duration": 3325,
    "start_time": "2023-06-06T08:41:09.709Z"
   },
   {
    "duration": 15,
    "start_time": "2023-06-06T08:41:33.597Z"
   },
   {
    "duration": 13,
    "start_time": "2023-06-06T08:51:29.725Z"
   },
   {
    "duration": 3349,
    "start_time": "2023-06-06T08:54:26.294Z"
   },
   {
    "duration": 2691,
    "start_time": "2023-06-06T10:54:12.705Z"
   },
   {
    "duration": 2632,
    "start_time": "2023-06-06T10:55:05.405Z"
   },
   {
    "duration": 2787,
    "start_time": "2023-06-06T11:00:33.869Z"
   },
   {
    "duration": 2731,
    "start_time": "2023-06-06T11:00:49.198Z"
   },
   {
    "duration": 2807,
    "start_time": "2023-06-06T11:04:43.887Z"
   },
   {
    "duration": 3041,
    "start_time": "2023-06-06T11:07:39.345Z"
   },
   {
    "duration": 50,
    "start_time": "2023-06-06T11:23:50.331Z"
   },
   {
    "duration": 99,
    "start_time": "2023-06-06T11:26:22.595Z"
   },
   {
    "duration": 35583,
    "start_time": "2023-06-06T11:28:07.655Z"
   },
   {
    "duration": 3043,
    "start_time": "2023-06-06T11:29:45.856Z"
   },
   {
    "duration": 5,
    "start_time": "2023-06-06T11:40:24.326Z"
   },
   {
    "duration": 7,
    "start_time": "2023-06-06T11:44:48.775Z"
   },
   {
    "duration": 9,
    "start_time": "2023-06-06T11:59:42.459Z"
   },
   {
    "duration": 2760,
    "start_time": "2023-06-06T11:59:52.139Z"
   },
   {
    "duration": 5,
    "start_time": "2023-06-06T11:59:54.901Z"
   },
   {
    "duration": 3076,
    "start_time": "2023-06-06T12:02:56.447Z"
   },
   {
    "duration": 2840,
    "start_time": "2023-06-06T12:03:12.991Z"
   },
   {
    "duration": 2764,
    "start_time": "2023-06-06T12:05:00.491Z"
   },
   {
    "duration": 3028,
    "start_time": "2023-06-06T12:08:10.102Z"
   },
   {
    "duration": 2707,
    "start_time": "2023-06-06T12:11:25.956Z"
   },
   {
    "duration": 2682,
    "start_time": "2023-06-06T12:11:42.861Z"
   },
   {
    "duration": 2654,
    "start_time": "2023-06-06T12:11:49.995Z"
   },
   {
    "duration": 2768,
    "start_time": "2023-06-06T12:12:40.716Z"
   },
   {
    "duration": 107,
    "start_time": "2023-06-06T12:18:03.399Z"
   },
   {
    "duration": 24,
    "start_time": "2023-06-06T12:18:52.200Z"
   },
   {
    "duration": 35,
    "start_time": "2023-06-06T12:19:10.869Z"
   },
   {
    "duration": 54,
    "start_time": "2023-06-06T12:19:13.972Z"
   },
   {
    "duration": 87,
    "start_time": "2023-06-06T12:22:24.608Z"
   },
   {
    "duration": 22,
    "start_time": "2023-06-06T12:57:40.595Z"
   },
   {
    "duration": 2712,
    "start_time": "2023-06-06T12:59:44.983Z"
   },
   {
    "duration": 3175,
    "start_time": "2023-06-06T13:01:25.603Z"
   },
   {
    "duration": 2773,
    "start_time": "2023-06-06T13:02:12.951Z"
   },
   {
    "duration": 3,
    "start_time": "2023-06-06T13:05:24.719Z"
   },
   {
    "duration": 3,
    "start_time": "2023-06-06T13:05:38.415Z"
   },
   {
    "duration": 4,
    "start_time": "2023-06-06T13:05:45.473Z"
   },
   {
    "duration": 4,
    "start_time": "2023-06-06T13:06:09.587Z"
   },
   {
    "duration": 92,
    "start_time": "2023-06-06T15:01:41.686Z"
   },
   {
    "duration": 22,
    "start_time": "2023-06-06T15:05:18.480Z"
   },
   {
    "duration": 20,
    "start_time": "2023-06-06T15:10:55.674Z"
   },
   {
    "duration": 27,
    "start_time": "2023-06-06T15:12:45.755Z"
   },
   {
    "duration": 5,
    "start_time": "2023-06-06T15:14:57.230Z"
   },
   {
    "duration": 1048,
    "start_time": "2023-06-06T15:15:02.892Z"
   },
   {
    "duration": 736,
    "start_time": "2023-06-06T15:15:03.942Z"
   },
   {
    "duration": 16,
    "start_time": "2023-06-06T15:15:04.680Z"
   },
   {
    "duration": 25,
    "start_time": "2023-06-06T15:15:04.698Z"
   },
   {
    "duration": 64,
    "start_time": "2023-06-06T15:15:04.724Z"
   },
   {
    "duration": 110,
    "start_time": "2023-06-06T15:15:04.790Z"
   },
   {
    "duration": 8,
    "start_time": "2023-06-06T15:15:04.902Z"
   },
   {
    "duration": 5,
    "start_time": "2023-06-06T15:15:04.912Z"
   },
   {
    "duration": 35,
    "start_time": "2023-06-06T15:15:04.919Z"
   },
   {
    "duration": 3,
    "start_time": "2023-06-06T15:15:04.956Z"
   },
   {
    "duration": 60,
    "start_time": "2023-06-06T15:15:04.961Z"
   },
   {
    "duration": 3,
    "start_time": "2023-06-06T15:15:05.023Z"
   },
   {
    "duration": 59,
    "start_time": "2023-06-06T15:15:05.027Z"
   },
   {
    "duration": 191,
    "start_time": "2023-06-06T15:15:05.088Z"
   },
   {
    "duration": 111,
    "start_time": "2023-06-06T15:15:05.283Z"
   },
   {
    "duration": 202,
    "start_time": "2023-06-06T15:15:05.478Z"
   },
   {
    "duration": 4,
    "start_time": "2023-06-06T15:15:38.292Z"
   },
   {
    "duration": 4,
    "start_time": "2023-06-06T15:17:46.146Z"
   },
   {
    "duration": 3,
    "start_time": "2023-06-06T17:45:58.375Z"
   },
   {
    "duration": 3,
    "start_time": "2023-06-06T18:45:15.697Z"
   },
   {
    "duration": 2,
    "start_time": "2023-06-06T18:45:21.903Z"
   },
   {
    "duration": 4,
    "start_time": "2023-06-06T18:53:43.263Z"
   },
   {
    "duration": 4,
    "start_time": "2023-06-06T20:13:04.219Z"
   },
   {
    "duration": 6,
    "start_time": "2023-06-06T20:13:42.189Z"
   },
   {
    "duration": 5,
    "start_time": "2023-06-06T20:13:49.088Z"
   },
   {
    "duration": 131,
    "start_time": "2023-06-06T20:17:20.386Z"
   },
   {
    "duration": 5,
    "start_time": "2023-06-06T20:17:30.735Z"
   },
   {
    "duration": 4,
    "start_time": "2023-06-06T20:17:43.309Z"
   },
   {
    "duration": 4,
    "start_time": "2023-06-06T20:19:54.522Z"
   },
   {
    "duration": 5,
    "start_time": "2023-06-06T20:22:13.250Z"
   },
   {
    "duration": 5,
    "start_time": "2023-06-06T20:24:48.843Z"
   },
   {
    "duration": 4,
    "start_time": "2023-06-06T20:25:41.032Z"
   },
   {
    "duration": 5,
    "start_time": "2023-06-06T20:30:46.814Z"
   },
   {
    "duration": 6,
    "start_time": "2023-06-06T20:31:21.731Z"
   },
   {
    "duration": 9,
    "start_time": "2023-06-06T20:49:52.265Z"
   },
   {
    "duration": 407,
    "start_time": "2023-06-06T20:50:01.851Z"
   },
   {
    "duration": 250,
    "start_time": "2023-06-06T20:50:21.246Z"
   },
   {
    "duration": 14,
    "start_time": "2023-06-06T20:50:41.819Z"
   },
   {
    "duration": 11,
    "start_time": "2023-06-06T20:50:55.895Z"
   },
   {
    "duration": 451,
    "start_time": "2023-06-06T20:51:36.365Z"
   },
   {
    "duration": 270,
    "start_time": "2023-06-06T20:51:57.997Z"
   },
   {
    "duration": 184,
    "start_time": "2023-06-06T20:52:03.132Z"
   },
   {
    "duration": 11,
    "start_time": "2023-06-06T20:55:28.143Z"
   },
   {
    "duration": 123,
    "start_time": "2023-06-06T20:55:53.571Z"
   },
   {
    "duration": 9,
    "start_time": "2023-06-06T20:55:59.817Z"
   },
   {
    "duration": 2,
    "start_time": "2023-06-06T20:56:42.672Z"
   },
   {
    "duration": 8,
    "start_time": "2023-06-06T20:56:45.924Z"
   },
   {
    "duration": 124,
    "start_time": "2023-06-06T20:57:51.393Z"
   },
   {
    "duration": 135,
    "start_time": "2023-06-06T20:58:10.065Z"
   },
   {
    "duration": 600,
    "start_time": "2023-06-06T20:58:16.493Z"
   },
   {
    "duration": 280,
    "start_time": "2023-06-06T20:58:29.374Z"
   },
   {
    "duration": 244,
    "start_time": "2023-06-06T20:58:36.810Z"
   },
   {
    "duration": 12,
    "start_time": "2023-06-06T20:59:27.745Z"
   },
   {
    "duration": 457,
    "start_time": "2023-06-06T20:59:32.369Z"
   },
   {
    "duration": 10,
    "start_time": "2023-06-06T20:59:43.716Z"
   },
   {
    "duration": 475,
    "start_time": "2023-06-06T21:00:38.227Z"
   },
   {
    "duration": 308,
    "start_time": "2023-06-06T21:00:57.061Z"
   },
   {
    "duration": 312,
    "start_time": "2023-06-06T21:01:05.433Z"
   },
   {
    "duration": 267,
    "start_time": "2023-06-06T21:01:11.896Z"
   },
   {
    "duration": 261,
    "start_time": "2023-06-06T21:01:15.262Z"
   },
   {
    "duration": 307,
    "start_time": "2023-06-06T21:01:48.940Z"
   },
   {
    "duration": 324,
    "start_time": "2023-06-06T21:01:52.917Z"
   },
   {
    "duration": 306,
    "start_time": "2023-06-06T21:01:58.704Z"
   },
   {
    "duration": 464,
    "start_time": "2023-06-06T21:02:04.329Z"
   },
   {
    "duration": 345,
    "start_time": "2023-06-06T21:03:24.272Z"
   },
   {
    "duration": 438,
    "start_time": "2023-06-06T21:05:05.810Z"
   },
   {
    "duration": 360,
    "start_time": "2023-06-06T21:07:37.313Z"
   },
   {
    "duration": 465,
    "start_time": "2023-06-06T21:08:08.407Z"
   },
   {
    "duration": 464,
    "start_time": "2023-06-06T21:08:37.536Z"
   },
   {
    "duration": 479,
    "start_time": "2023-06-06T21:08:55.318Z"
   },
   {
    "duration": 419,
    "start_time": "2023-06-06T21:08:58.732Z"
   },
   {
    "duration": 443,
    "start_time": "2023-06-06T21:09:10.008Z"
   },
   {
    "duration": 4,
    "start_time": "2023-06-06T21:16:16.709Z"
   },
   {
    "duration": 6,
    "start_time": "2023-06-06T21:16:17.210Z"
   },
   {
    "duration": 6,
    "start_time": "2023-06-06T21:16:18.607Z"
   },
   {
    "duration": 3,
    "start_time": "2023-06-06T21:16:19.544Z"
   },
   {
    "duration": 455,
    "start_time": "2023-06-06T21:16:20.206Z"
   },
   {
    "duration": 406,
    "start_time": "2023-06-06T21:16:21.103Z"
   },
   {
    "duration": 439,
    "start_time": "2023-06-06T21:16:21.707Z"
   },
   {
    "duration": 3,
    "start_time": "2023-06-06T22:37:36.087Z"
   },
   {
    "duration": 7,
    "start_time": "2023-06-06T22:40:02.975Z"
   },
   {
    "duration": 6,
    "start_time": "2023-06-06T22:40:05.948Z"
   },
   {
    "duration": 6,
    "start_time": "2023-06-06T22:40:11.541Z"
   },
   {
    "duration": 8,
    "start_time": "2023-06-06T22:40:21.503Z"
   },
   {
    "duration": 7,
    "start_time": "2023-06-06T22:41:07.988Z"
   },
   {
    "duration": 10,
    "start_time": "2023-06-06T22:41:13.988Z"
   },
   {
    "duration": 7,
    "start_time": "2023-06-06T22:41:23.015Z"
   },
   {
    "duration": 7,
    "start_time": "2023-06-06T22:41:26.087Z"
   },
   {
    "duration": 7,
    "start_time": "2023-06-06T22:41:27.891Z"
   },
   {
    "duration": 7,
    "start_time": "2023-06-06T22:41:29.300Z"
   },
   {
    "duration": 7,
    "start_time": "2023-06-06T22:41:43.003Z"
   },
   {
    "duration": 10,
    "start_time": "2023-06-06T22:43:05.502Z"
   },
   {
    "duration": 15,
    "start_time": "2023-06-06T22:43:17.086Z"
   },
   {
    "duration": 14,
    "start_time": "2023-06-06T22:43:24.975Z"
   },
   {
    "duration": 15,
    "start_time": "2023-06-06T22:43:31.761Z"
   },
   {
    "duration": 5,
    "start_time": "2023-06-06T22:47:50.922Z"
   },
   {
    "duration": 10,
    "start_time": "2023-06-06T22:48:01.024Z"
   },
   {
    "duration": 9,
    "start_time": "2023-06-06T22:48:08.555Z"
   },
   {
    "duration": 11,
    "start_time": "2023-06-06T22:48:21.891Z"
   },
   {
    "duration": 9,
    "start_time": "2023-06-06T22:48:49.891Z"
   },
   {
    "duration": 10,
    "start_time": "2023-06-06T22:49:16.360Z"
   },
   {
    "duration": 12,
    "start_time": "2023-06-06T22:49:30.250Z"
   },
   {
    "duration": 5,
    "start_time": "2023-06-06T22:49:38.187Z"
   },
   {
    "duration": 11,
    "start_time": "2023-06-06T22:49:41.629Z"
   },
   {
    "duration": 12,
    "start_time": "2023-06-06T22:50:11.507Z"
   },
   {
    "duration": 10,
    "start_time": "2023-06-06T22:50:30.630Z"
   },
   {
    "duration": 10,
    "start_time": "2023-06-06T22:50:37.690Z"
   },
   {
    "duration": 12,
    "start_time": "2023-06-06T22:52:19.787Z"
   },
   {
    "duration": 9,
    "start_time": "2023-06-06T22:52:39.554Z"
   },
   {
    "duration": 37,
    "start_time": "2023-06-06T22:53:18.095Z"
   },
   {
    "duration": 10,
    "start_time": "2023-06-06T22:53:30.318Z"
   },
   {
    "duration": 32,
    "start_time": "2023-06-06T22:53:35.250Z"
   },
   {
    "duration": 27,
    "start_time": "2023-06-06T22:53:53.495Z"
   },
   {
    "duration": 29,
    "start_time": "2023-06-06T22:55:54.516Z"
   },
   {
    "duration": 26,
    "start_time": "2023-06-06T22:56:05.935Z"
   },
   {
    "duration": 30,
    "start_time": "2023-06-06T22:59:02.024Z"
   },
   {
    "duration": 28,
    "start_time": "2023-06-06T23:00:51.571Z"
   },
   {
    "duration": 25,
    "start_time": "2023-06-06T23:37:32.243Z"
   },
   {
    "duration": 25,
    "start_time": "2023-06-06T23:37:52.952Z"
   },
   {
    "duration": 27,
    "start_time": "2023-06-06T23:39:10.065Z"
   },
   {
    "duration": 64,
    "start_time": "2023-06-06T23:40:13.145Z"
   },
   {
    "duration": 3,
    "start_time": "2023-06-07T00:03:52.003Z"
   },
   {
    "duration": 4,
    "start_time": "2023-06-07T00:03:53.185Z"
   },
   {
    "duration": 3,
    "start_time": "2023-06-07T00:22:30.222Z"
   },
   {
    "duration": 4,
    "start_time": "2023-06-07T00:23:53.850Z"
   },
   {
    "duration": 3,
    "start_time": "2023-06-07T00:25:50.321Z"
   },
   {
    "duration": 4,
    "start_time": "2023-06-07T00:31:15.643Z"
   },
   {
    "duration": 4,
    "start_time": "2023-06-07T00:31:21.022Z"
   },
   {
    "duration": 3,
    "start_time": "2023-06-07T00:31:41.559Z"
   },
   {
    "duration": 10,
    "start_time": "2023-06-07T00:40:51.722Z"
   },
   {
    "duration": 16,
    "start_time": "2023-06-07T00:41:16.351Z"
   },
   {
    "duration": 8,
    "start_time": "2023-06-07T00:42:45.809Z"
   },
   {
    "duration": 8,
    "start_time": "2023-06-07T00:44:18.882Z"
   },
   {
    "duration": 12,
    "start_time": "2023-06-07T00:44:33.037Z"
   },
   {
    "duration": 14,
    "start_time": "2023-06-07T00:45:22.797Z"
   },
   {
    "duration": 7,
    "start_time": "2023-06-07T00:45:34.526Z"
   },
   {
    "duration": 8,
    "start_time": "2023-06-07T00:45:52.989Z"
   },
   {
    "duration": 8,
    "start_time": "2023-06-07T00:45:57.904Z"
   },
   {
    "duration": 7,
    "start_time": "2023-06-07T00:50:54.150Z"
   },
   {
    "duration": 5,
    "start_time": "2023-06-07T00:51:09.079Z"
   },
   {
    "duration": 129,
    "start_time": "2023-06-07T00:59:14.450Z"
   },
   {
    "duration": 4,
    "start_time": "2023-06-07T00:59:18.691Z"
   },
   {
    "duration": 3,
    "start_time": "2023-06-07T01:03:27.900Z"
   },
   {
    "duration": 21,
    "start_time": "2023-06-07T01:04:02.928Z"
   },
   {
    "duration": 10,
    "start_time": "2023-06-07T01:04:42.951Z"
   },
   {
    "duration": 91,
    "start_time": "2023-06-07T01:07:15.288Z"
   },
   {
    "duration": 50,
    "start_time": "2023-06-07T01:07:53.829Z"
   },
   {
    "duration": 19,
    "start_time": "2023-06-07T01:08:21.834Z"
   },
   {
    "duration": 28,
    "start_time": "2023-06-07T01:08:37.451Z"
   },
   {
    "duration": 5,
    "start_time": "2023-06-07T01:09:11.394Z"
   },
   {
    "duration": 9,
    "start_time": "2023-06-07T01:09:22.624Z"
   },
   {
    "duration": 19,
    "start_time": "2023-06-07T01:09:43.247Z"
   },
   {
    "duration": 40,
    "start_time": "2023-06-07T01:10:13.338Z"
   },
   {
    "duration": 4,
    "start_time": "2023-06-07T01:11:30.354Z"
   },
   {
    "duration": 10,
    "start_time": "2023-06-07T01:15:24.234Z"
   },
   {
    "duration": 4,
    "start_time": "2023-06-07T01:17:17.916Z"
   },
   {
    "duration": 22,
    "start_time": "2023-06-07T01:19:05.779Z"
   },
   {
    "duration": 6,
    "start_time": "2023-06-07T01:19:15.600Z"
   },
   {
    "duration": 4,
    "start_time": "2023-06-07T01:19:24.154Z"
   },
   {
    "duration": 4,
    "start_time": "2023-06-07T01:19:35.886Z"
   },
   {
    "duration": 13,
    "start_time": "2023-06-07T01:20:06.582Z"
   },
   {
    "duration": 12,
    "start_time": "2023-06-07T01:21:13.399Z"
   },
   {
    "duration": 4,
    "start_time": "2023-06-07T01:21:30.997Z"
   },
   {
    "duration": 6,
    "start_time": "2023-06-07T01:21:43.779Z"
   },
   {
    "duration": 2166,
    "start_time": "2023-06-07T01:23:16.002Z"
   },
   {
    "duration": 5,
    "start_time": "2023-06-07T01:24:03.297Z"
   },
   {
    "duration": 12,
    "start_time": "2023-06-07T01:24:26.048Z"
   },
   {
    "duration": 5,
    "start_time": "2023-06-07T01:24:58.423Z"
   },
   {
    "duration": 4,
    "start_time": "2023-06-07T01:25:58.885Z"
   },
   {
    "duration": 4,
    "start_time": "2023-06-07T01:26:13.227Z"
   },
   {
    "duration": 9,
    "start_time": "2023-06-07T01:26:20.852Z"
   },
   {
    "duration": 9,
    "start_time": "2023-06-07T01:26:30.430Z"
   },
   {
    "duration": 4,
    "start_time": "2023-06-07T01:26:39.079Z"
   },
   {
    "duration": 20,
    "start_time": "2023-06-07T01:28:05.314Z"
   },
   {
    "duration": 5,
    "start_time": "2023-06-07T01:28:55.124Z"
   },
   {
    "duration": 5,
    "start_time": "2023-06-07T01:29:07.076Z"
   },
   {
    "duration": 8,
    "start_time": "2023-06-07T01:29:13.642Z"
   },
   {
    "duration": 5,
    "start_time": "2023-06-07T01:29:44.977Z"
   },
   {
    "duration": 17,
    "start_time": "2023-06-07T01:30:24.739Z"
   },
   {
    "duration": 4,
    "start_time": "2023-06-07T01:31:04.912Z"
   },
   {
    "duration": 8,
    "start_time": "2023-06-07T01:31:23.154Z"
   },
   {
    "duration": 1049,
    "start_time": "2023-06-07T11:25:02.439Z"
   },
   {
    "duration": 2191,
    "start_time": "2023-06-07T11:25:03.490Z"
   },
   {
    "duration": 14,
    "start_time": "2023-06-07T11:25:05.683Z"
   },
   {
    "duration": 25,
    "start_time": "2023-06-07T11:25:05.699Z"
   },
   {
    "duration": 33,
    "start_time": "2023-06-07T11:25:05.726Z"
   },
   {
    "duration": 101,
    "start_time": "2023-06-07T11:25:05.761Z"
   },
   {
    "duration": 11,
    "start_time": "2023-06-07T11:25:05.863Z"
   },
   {
    "duration": 32,
    "start_time": "2023-06-07T11:25:05.875Z"
   },
   {
    "duration": 60,
    "start_time": "2023-06-07T11:25:05.908Z"
   },
   {
    "duration": 3,
    "start_time": "2023-06-07T11:25:05.971Z"
   },
   {
    "duration": 47,
    "start_time": "2023-06-07T11:25:05.976Z"
   },
   {
    "duration": 6,
    "start_time": "2023-06-07T11:25:06.024Z"
   },
   {
    "duration": 450,
    "start_time": "2023-06-07T11:25:06.031Z"
   },
   {
    "duration": 0,
    "start_time": "2023-06-07T11:25:06.483Z"
   },
   {
    "duration": 0,
    "start_time": "2023-06-07T11:25:06.484Z"
   },
   {
    "duration": 0,
    "start_time": "2023-06-07T11:25:06.485Z"
   },
   {
    "duration": 0,
    "start_time": "2023-06-07T11:25:06.486Z"
   },
   {
    "duration": 0,
    "start_time": "2023-06-07T11:25:06.487Z"
   },
   {
    "duration": 0,
    "start_time": "2023-06-07T11:25:06.488Z"
   },
   {
    "duration": 0,
    "start_time": "2023-06-07T11:25:06.489Z"
   },
   {
    "duration": 0,
    "start_time": "2023-06-07T11:25:06.491Z"
   },
   {
    "duration": 0,
    "start_time": "2023-06-07T11:25:06.506Z"
   },
   {
    "duration": 0,
    "start_time": "2023-06-07T11:25:06.508Z"
   },
   {
    "duration": 0,
    "start_time": "2023-06-07T11:25:06.509Z"
   },
   {
    "duration": 0,
    "start_time": "2023-06-07T11:25:06.510Z"
   },
   {
    "duration": 0,
    "start_time": "2023-06-07T11:25:06.512Z"
   },
   {
    "duration": 0,
    "start_time": "2023-06-07T11:25:06.513Z"
   },
   {
    "duration": 1,
    "start_time": "2023-06-07T11:25:06.514Z"
   },
   {
    "duration": 0,
    "start_time": "2023-06-07T11:25:06.515Z"
   },
   {
    "duration": 262,
    "start_time": "2023-06-07T11:25:58.646Z"
   },
   {
    "duration": 1089,
    "start_time": "2023-06-07T11:26:35.706Z"
   },
   {
    "duration": 344,
    "start_time": "2023-06-07T11:26:36.797Z"
   },
   {
    "duration": 15,
    "start_time": "2023-06-07T11:26:37.142Z"
   },
   {
    "duration": 14,
    "start_time": "2023-06-07T11:26:37.159Z"
   },
   {
    "duration": 43,
    "start_time": "2023-06-07T11:26:37.175Z"
   },
   {
    "duration": 102,
    "start_time": "2023-06-07T11:26:37.220Z"
   },
   {
    "duration": 9,
    "start_time": "2023-06-07T11:26:37.324Z"
   },
   {
    "duration": 11,
    "start_time": "2023-06-07T11:26:37.335Z"
   },
   {
    "duration": 30,
    "start_time": "2023-06-07T11:26:37.348Z"
   },
   {
    "duration": 2,
    "start_time": "2023-06-07T11:26:37.381Z"
   },
   {
    "duration": 66,
    "start_time": "2023-06-07T11:26:37.385Z"
   },
   {
    "duration": 3,
    "start_time": "2023-06-07T11:26:37.453Z"
   },
   {
    "duration": 64,
    "start_time": "2023-06-07T11:26:37.458Z"
   },
   {
    "duration": 192,
    "start_time": "2023-06-07T11:26:37.524Z"
   },
   {
    "duration": 100,
    "start_time": "2023-06-07T11:26:37.718Z"
   },
   {
    "duration": 88,
    "start_time": "2023-06-07T11:26:37.820Z"
   },
   {
    "duration": 300,
    "start_time": "2023-06-07T11:26:37.911Z"
   },
   {
    "duration": 16,
    "start_time": "2023-06-07T11:26:38.213Z"
   },
   {
    "duration": 13,
    "start_time": "2023-06-07T11:26:38.231Z"
   },
   {
    "duration": 539,
    "start_time": "2023-06-07T11:26:38.246Z"
   },
   {
    "duration": 530,
    "start_time": "2023-06-07T11:26:38.787Z"
   },
   {
    "duration": 369,
    "start_time": "2023-06-07T11:26:39.320Z"
   },
   {
    "duration": 431,
    "start_time": "2023-06-07T11:26:39.690Z"
   },
   {
    "duration": 3,
    "start_time": "2023-06-07T11:26:40.123Z"
   },
   {
    "duration": 9,
    "start_time": "2023-06-07T11:26:40.128Z"
   },
   {
    "duration": 1782,
    "start_time": "2023-06-07T11:26:40.138Z"
   },
   {
    "duration": 0,
    "start_time": "2023-06-07T11:26:41.921Z"
   },
   {
    "duration": 0,
    "start_time": "2023-06-07T11:26:41.922Z"
   },
   {
    "duration": 22,
    "start_time": "2023-06-07T11:27:06.812Z"
   },
   {
    "duration": 22,
    "start_time": "2023-06-07T11:27:20.602Z"
   },
   {
    "duration": 11,
    "start_time": "2023-06-07T11:27:25.004Z"
   },
   {
    "duration": 18,
    "start_time": "2023-06-07T11:27:33.311Z"
   },
   {
    "duration": 14,
    "start_time": "2023-06-07T11:29:49.380Z"
   },
   {
    "duration": 18,
    "start_time": "2023-06-07T11:29:56.458Z"
   },
   {
    "duration": 31,
    "start_time": "2023-06-07T11:31:05.844Z"
   },
   {
    "duration": 7,
    "start_time": "2023-06-07T11:44:48.438Z"
   },
   {
    "duration": 6,
    "start_time": "2023-06-07T11:44:58.787Z"
   },
   {
    "duration": 3,
    "start_time": "2023-06-07T11:46:49.192Z"
   },
   {
    "duration": 4,
    "start_time": "2023-06-07T11:46:55.105Z"
   },
   {
    "duration": 11,
    "start_time": "2023-06-07T11:46:57.628Z"
   },
   {
    "duration": 11,
    "start_time": "2023-06-07T11:49:17.250Z"
   },
   {
    "duration": 10,
    "start_time": "2023-06-07T11:49:26.125Z"
   },
   {
    "duration": 7,
    "start_time": "2023-06-07T11:50:56.551Z"
   },
   {
    "duration": 10,
    "start_time": "2023-06-07T11:51:39.762Z"
   },
   {
    "duration": 7,
    "start_time": "2023-06-07T11:51:46.289Z"
   },
   {
    "duration": 15,
    "start_time": "2023-06-07T11:52:44.504Z"
   },
   {
    "duration": 6,
    "start_time": "2023-06-07T11:52:50.136Z"
   },
   {
    "duration": 935,
    "start_time": "2023-06-07T11:54:14.887Z"
   },
   {
    "duration": 14,
    "start_time": "2023-06-07T11:54:50.221Z"
   },
   {
    "duration": 26,
    "start_time": "2023-06-07T11:55:17.696Z"
   },
   {
    "duration": 1404,
    "start_time": "2023-06-07T11:55:20.719Z"
   },
   {
    "duration": 1351,
    "start_time": "2023-06-07T11:55:47.056Z"
   },
   {
    "duration": 8,
    "start_time": "2023-06-07T11:56:06.120Z"
   },
   {
    "duration": 9,
    "start_time": "2023-06-07T11:56:24.378Z"
   },
   {
    "duration": 9,
    "start_time": "2023-06-07T11:56:43.043Z"
   },
   {
    "duration": 7,
    "start_time": "2023-06-07T11:56:48.928Z"
   },
   {
    "duration": 9,
    "start_time": "2023-06-07T12:01:27.632Z"
   },
   {
    "duration": 9,
    "start_time": "2023-06-07T12:05:01.503Z"
   },
   {
    "duration": 7,
    "start_time": "2023-06-07T12:06:55.988Z"
   },
   {
    "duration": 5,
    "start_time": "2023-06-07T12:12:00.925Z"
   },
   {
    "duration": 4,
    "start_time": "2023-06-07T12:12:08.540Z"
   },
   {
    "duration": 107,
    "start_time": "2023-06-07T12:12:16.767Z"
   },
   {
    "duration": 7,
    "start_time": "2023-06-07T12:12:30.370Z"
   },
   {
    "duration": 11,
    "start_time": "2023-06-07T12:18:26.531Z"
   },
   {
    "duration": 2316,
    "start_time": "2023-06-07T12:19:11.903Z"
   },
   {
    "duration": 6,
    "start_time": "2023-06-07T12:19:41.767Z"
   },
   {
    "duration": 7,
    "start_time": "2023-06-07T12:20:48.892Z"
   },
   {
    "duration": 6,
    "start_time": "2023-06-07T12:21:00.562Z"
   },
   {
    "duration": 6,
    "start_time": "2023-06-07T12:21:09.122Z"
   },
   {
    "duration": 7,
    "start_time": "2023-06-07T12:21:38.788Z"
   },
   {
    "duration": 9,
    "start_time": "2023-06-07T12:24:46.584Z"
   },
   {
    "duration": 7,
    "start_time": "2023-06-07T12:24:51.626Z"
   },
   {
    "duration": 10,
    "start_time": "2023-06-07T12:24:56.750Z"
   },
   {
    "duration": 19,
    "start_time": "2023-06-07T12:25:12.437Z"
   },
   {
    "duration": 11,
    "start_time": "2023-06-07T12:25:18.678Z"
   },
   {
    "duration": 7,
    "start_time": "2023-06-07T12:26:24.393Z"
   },
   {
    "duration": 7,
    "start_time": "2023-06-07T12:26:45.431Z"
   },
   {
    "duration": 7,
    "start_time": "2023-06-07T12:30:22.940Z"
   },
   {
    "duration": 6,
    "start_time": "2023-06-07T12:30:40.516Z"
   },
   {
    "duration": 4,
    "start_time": "2023-06-07T12:32:00.304Z"
   },
   {
    "duration": 4,
    "start_time": "2023-06-07T12:33:10.924Z"
   },
   {
    "duration": 14,
    "start_time": "2023-06-07T12:34:29.903Z"
   },
   {
    "duration": 9,
    "start_time": "2023-06-07T12:34:46.810Z"
   },
   {
    "duration": 12,
    "start_time": "2023-06-07T12:34:53.570Z"
   },
   {
    "duration": 16,
    "start_time": "2023-06-07T12:35:57.907Z"
   },
   {
    "duration": 998,
    "start_time": "2023-06-07T12:36:05.341Z"
   },
   {
    "duration": 12,
    "start_time": "2023-06-07T12:36:15.110Z"
   },
   {
    "duration": 14,
    "start_time": "2023-06-07T12:37:19.355Z"
   },
   {
    "duration": 869,
    "start_time": "2023-06-07T12:37:33.320Z"
   },
   {
    "duration": 917,
    "start_time": "2023-06-07T12:42:15.580Z"
   },
   {
    "duration": 913,
    "start_time": "2023-06-07T12:42:34.013Z"
   },
   {
    "duration": 2,
    "start_time": "2023-06-07T12:43:57.801Z"
   },
   {
    "duration": 922,
    "start_time": "2023-06-07T12:44:36.393Z"
   },
   {
    "duration": 924,
    "start_time": "2023-06-07T12:51:27.005Z"
   },
   {
    "duration": 948,
    "start_time": "2023-06-07T12:51:50.605Z"
   },
   {
    "duration": 1278,
    "start_time": "2023-06-07T12:54:58.662Z"
   },
   {
    "duration": 1162,
    "start_time": "2023-06-07T12:55:14.733Z"
   },
   {
    "duration": 1430,
    "start_time": "2023-06-07T12:56:43.634Z"
   },
   {
    "duration": 1335,
    "start_time": "2023-06-07T12:57:06.431Z"
   },
   {
    "duration": 1038,
    "start_time": "2023-06-07T12:59:56.526Z"
   },
   {
    "duration": 994,
    "start_time": "2023-06-07T13:00:28.912Z"
   },
   {
    "duration": 958,
    "start_time": "2023-06-07T13:02:12.628Z"
   },
   {
    "duration": 846,
    "start_time": "2023-06-07T13:03:08.862Z"
   },
   {
    "duration": 899,
    "start_time": "2023-06-07T13:09:52.723Z"
   },
   {
    "duration": 884,
    "start_time": "2023-06-07T13:10:04.351Z"
   },
   {
    "duration": 866,
    "start_time": "2023-06-07T13:10:33.220Z"
   },
   {
    "duration": 1221,
    "start_time": "2023-06-07T13:11:41.647Z"
   },
   {
    "duration": 1077,
    "start_time": "2023-06-07T13:11:53.618Z"
   },
   {
    "duration": 986,
    "start_time": "2023-06-07T13:12:01.522Z"
   },
   {
    "duration": 1029,
    "start_time": "2023-06-07T13:12:21.701Z"
   },
   {
    "duration": 973,
    "start_time": "2023-06-07T13:12:36.364Z"
   },
   {
    "duration": 1001,
    "start_time": "2023-06-07T13:12:44.802Z"
   },
   {
    "duration": 4,
    "start_time": "2023-06-07T13:14:49.946Z"
   },
   {
    "duration": 831,
    "start_time": "2023-06-07T13:15:23.011Z"
   },
   {
    "duration": 875,
    "start_time": "2023-06-07T13:15:48.422Z"
   },
   {
    "duration": 835,
    "start_time": "2023-06-07T13:17:39.128Z"
   },
   {
    "duration": 10,
    "start_time": "2023-06-07T13:17:59.235Z"
   },
   {
    "duration": 16,
    "start_time": "2023-06-07T13:18:08.320Z"
   },
   {
    "duration": 11,
    "start_time": "2023-06-07T13:18:12.458Z"
   },
   {
    "duration": 10,
    "start_time": "2023-06-07T13:18:17.617Z"
   },
   {
    "duration": 5,
    "start_time": "2023-06-07T13:18:54.834Z"
   },
   {
    "duration": 904,
    "start_time": "2023-06-07T13:45:39.419Z"
   },
   {
    "duration": 907,
    "start_time": "2023-06-07T13:48:50.249Z"
   },
   {
    "duration": 878,
    "start_time": "2023-06-07T13:49:09.516Z"
   },
   {
    "duration": 136,
    "start_time": "2023-06-07T14:22:03.650Z"
   },
   {
    "duration": 884,
    "start_time": "2023-06-07T14:22:11.515Z"
   },
   {
    "duration": 945,
    "start_time": "2023-06-07T14:52:47.478Z"
   },
   {
    "duration": 923,
    "start_time": "2023-06-07T14:57:39.960Z"
   },
   {
    "duration": 7,
    "start_time": "2023-06-07T15:07:38.994Z"
   },
   {
    "duration": 5,
    "start_time": "2023-06-07T15:09:19.211Z"
   },
   {
    "duration": 831,
    "start_time": "2023-06-07T15:09:23.688Z"
   },
   {
    "duration": 5,
    "start_time": "2023-06-07T15:10:32.188Z"
   },
   {
    "duration": 810,
    "start_time": "2023-06-07T15:10:50.400Z"
   },
   {
    "duration": 195,
    "start_time": "2023-06-07T15:13:35.220Z"
   },
   {
    "duration": 190,
    "start_time": "2023-06-07T15:14:43.419Z"
   },
   {
    "duration": 174,
    "start_time": "2023-06-07T15:15:35.034Z"
   },
   {
    "duration": 5,
    "start_time": "2023-06-07T15:17:03.419Z"
   },
   {
    "duration": 5,
    "start_time": "2023-06-07T15:17:34.218Z"
   },
   {
    "duration": 860,
    "start_time": "2023-06-07T15:18:51.155Z"
   },
   {
    "duration": 6,
    "start_time": "2023-06-07T15:19:23.510Z"
   },
   {
    "duration": 779,
    "start_time": "2023-06-07T15:19:28.700Z"
   },
   {
    "duration": 5,
    "start_time": "2023-06-07T15:19:41.612Z"
   },
   {
    "duration": 5,
    "start_time": "2023-06-07T15:20:12.818Z"
   },
   {
    "duration": 811,
    "start_time": "2023-06-07T15:20:13.540Z"
   },
   {
    "duration": 7,
    "start_time": "2023-06-07T15:21:16.644Z"
   },
   {
    "duration": 797,
    "start_time": "2023-06-07T15:21:19.344Z"
   },
   {
    "duration": 6,
    "start_time": "2023-06-07T15:21:48.911Z"
   },
   {
    "duration": 817,
    "start_time": "2023-06-07T15:21:49.576Z"
   },
   {
    "duration": 779,
    "start_time": "2023-06-07T15:21:55.490Z"
   },
   {
    "duration": 806,
    "start_time": "2023-06-07T15:22:17.212Z"
   },
   {
    "duration": 3,
    "start_time": "2023-06-07T15:24:10.694Z"
   },
   {
    "duration": 0,
    "start_time": "2023-06-07T15:30:35.037Z"
   },
   {
    "duration": 0,
    "start_time": "2023-06-07T15:30:35.038Z"
   },
   {
    "duration": 0,
    "start_time": "2023-06-07T15:30:35.039Z"
   },
   {
    "duration": 0,
    "start_time": "2023-06-07T15:30:35.040Z"
   },
   {
    "duration": 0,
    "start_time": "2023-06-07T15:30:35.040Z"
   },
   {
    "duration": 0,
    "start_time": "2023-06-07T15:30:35.041Z"
   },
   {
    "duration": 0,
    "start_time": "2023-06-07T15:30:35.042Z"
   },
   {
    "duration": 0,
    "start_time": "2023-06-07T15:30:35.043Z"
   },
   {
    "duration": 0,
    "start_time": "2023-06-07T15:30:35.044Z"
   },
   {
    "duration": 0,
    "start_time": "2023-06-07T15:30:35.044Z"
   },
   {
    "duration": 0,
    "start_time": "2023-06-07T15:30:35.045Z"
   },
   {
    "duration": 0,
    "start_time": "2023-06-07T15:30:35.046Z"
   },
   {
    "duration": 0,
    "start_time": "2023-06-07T15:30:35.047Z"
   },
   {
    "duration": 1,
    "start_time": "2023-06-07T15:30:35.106Z"
   },
   {
    "duration": 0,
    "start_time": "2023-06-07T15:30:35.107Z"
   },
   {
    "duration": 0,
    "start_time": "2023-06-07T15:30:35.108Z"
   },
   {
    "duration": 0,
    "start_time": "2023-06-07T15:30:35.109Z"
   },
   {
    "duration": 0,
    "start_time": "2023-06-07T15:30:35.110Z"
   },
   {
    "duration": 0,
    "start_time": "2023-06-07T15:30:35.111Z"
   },
   {
    "duration": 0,
    "start_time": "2023-06-07T15:30:35.112Z"
   },
   {
    "duration": 0,
    "start_time": "2023-06-07T15:30:35.113Z"
   },
   {
    "duration": 0,
    "start_time": "2023-06-07T15:30:35.114Z"
   },
   {
    "duration": 0,
    "start_time": "2023-06-07T15:30:35.114Z"
   },
   {
    "duration": 0,
    "start_time": "2023-06-07T15:30:35.115Z"
   },
   {
    "duration": 0,
    "start_time": "2023-06-07T15:30:35.116Z"
   },
   {
    "duration": 0,
    "start_time": "2023-06-07T15:30:35.117Z"
   },
   {
    "duration": 4,
    "start_time": "2023-06-07T15:30:52.884Z"
   },
   {
    "duration": 408,
    "start_time": "2023-06-07T15:30:54.344Z"
   },
   {
    "duration": 370,
    "start_time": "2023-06-07T15:30:54.753Z"
   },
   {
    "duration": 509,
    "start_time": "2023-06-07T15:30:55.125Z"
   },
   {
    "duration": 3,
    "start_time": "2023-06-07T15:30:55.635Z"
   },
   {
    "duration": 29,
    "start_time": "2023-06-07T15:30:55.640Z"
   },
   {
    "duration": 6,
    "start_time": "2023-06-07T15:30:55.671Z"
   },
   {
    "duration": 776,
    "start_time": "2023-06-07T15:30:55.679Z"
   },
   {
    "duration": 0,
    "start_time": "2023-06-07T15:30:56.457Z"
   },
   {
    "duration": 0,
    "start_time": "2023-06-07T15:30:56.458Z"
   },
   {
    "duration": 1384,
    "start_time": "2023-06-07T15:31:34.787Z"
   },
   {
    "duration": 335,
    "start_time": "2023-06-07T15:31:36.172Z"
   },
   {
    "duration": 12,
    "start_time": "2023-06-07T15:31:36.509Z"
   },
   {
    "duration": 19,
    "start_time": "2023-06-07T15:31:36.524Z"
   },
   {
    "duration": 18,
    "start_time": "2023-06-07T15:31:36.545Z"
   },
   {
    "duration": 86,
    "start_time": "2023-06-07T15:31:36.564Z"
   },
   {
    "duration": 8,
    "start_time": "2023-06-07T15:31:36.652Z"
   },
   {
    "duration": 7,
    "start_time": "2023-06-07T15:31:36.661Z"
   },
   {
    "duration": 36,
    "start_time": "2023-06-07T15:31:36.670Z"
   },
   {
    "duration": 38,
    "start_time": "2023-06-07T15:31:36.709Z"
   },
   {
    "duration": 157,
    "start_time": "2023-06-07T15:31:36.749Z"
   },
   {
    "duration": 200,
    "start_time": "2023-06-07T15:31:36.908Z"
   },
   {
    "duration": 109,
    "start_time": "2023-06-07T15:31:37.110Z"
   },
   {
    "duration": 88,
    "start_time": "2023-06-07T15:31:37.220Z"
   },
   {
    "duration": 94,
    "start_time": "2023-06-07T15:31:37.312Z"
   },
   {
    "duration": 15,
    "start_time": "2023-06-07T15:31:37.408Z"
   },
   {
    "duration": 26,
    "start_time": "2023-06-07T15:31:37.424Z"
   },
   {
    "duration": 450,
    "start_time": "2023-06-07T15:31:37.451Z"
   },
   {
    "duration": 384,
    "start_time": "2023-06-07T15:31:37.902Z"
   },
   {
    "duration": 458,
    "start_time": "2023-06-07T15:31:38.288Z"
   },
   {
    "duration": 3,
    "start_time": "2023-06-07T15:31:38.748Z"
   },
   {
    "duration": 7,
    "start_time": "2023-06-07T15:31:38.753Z"
   },
   {
    "duration": 6,
    "start_time": "2023-06-07T15:31:38.761Z"
   },
   {
    "duration": 936,
    "start_time": "2023-06-07T15:31:38.768Z"
   },
   {
    "duration": 0,
    "start_time": "2023-06-07T15:31:39.705Z"
   },
   {
    "duration": 0,
    "start_time": "2023-06-07T15:31:39.706Z"
   },
   {
    "duration": 6,
    "start_time": "2023-06-07T15:33:03.328Z"
   },
   {
    "duration": 790,
    "start_time": "2023-06-07T15:33:06.533Z"
   },
   {
    "duration": 5,
    "start_time": "2023-06-07T15:33:37.985Z"
   },
   {
    "duration": 816,
    "start_time": "2023-06-07T15:33:38.514Z"
   },
   {
    "duration": 839,
    "start_time": "2023-06-07T15:33:39.902Z"
   },
   {
    "duration": 786,
    "start_time": "2023-06-07T15:33:40.984Z"
   },
   {
    "duration": 1361,
    "start_time": "2023-06-07T15:34:02.145Z"
   },
   {
    "duration": 344,
    "start_time": "2023-06-07T15:34:03.508Z"
   },
   {
    "duration": 12,
    "start_time": "2023-06-07T15:34:03.854Z"
   },
   {
    "duration": 47,
    "start_time": "2023-06-07T15:34:03.867Z"
   },
   {
    "duration": 27,
    "start_time": "2023-06-07T15:34:03.915Z"
   },
   {
    "duration": 83,
    "start_time": "2023-06-07T15:34:03.944Z"
   },
   {
    "duration": 9,
    "start_time": "2023-06-07T15:34:04.029Z"
   },
   {
    "duration": 10,
    "start_time": "2023-06-07T15:34:04.039Z"
   },
   {
    "duration": 33,
    "start_time": "2023-06-07T15:34:04.050Z"
   },
   {
    "duration": 43,
    "start_time": "2023-06-07T15:34:04.085Z"
   },
   {
    "duration": 85,
    "start_time": "2023-06-07T15:34:04.129Z"
   },
   {
    "duration": 197,
    "start_time": "2023-06-07T15:34:04.215Z"
   },
   {
    "duration": 298,
    "start_time": "2023-06-07T15:34:04.414Z"
   },
   {
    "duration": 4,
    "start_time": "2023-06-07T15:34:04.714Z"
   },
   {
    "duration": 100,
    "start_time": "2023-06-07T15:34:04.720Z"
   },
   {
    "duration": 7,
    "start_time": "2023-06-07T15:34:04.823Z"
   },
   {
    "duration": 7,
    "start_time": "2023-06-07T15:34:04.832Z"
   },
   {
    "duration": 425,
    "start_time": "2023-06-07T15:34:04.840Z"
   },
   {
    "duration": 350,
    "start_time": "2023-06-07T15:34:05.267Z"
   },
   {
    "duration": 411,
    "start_time": "2023-06-07T15:34:05.619Z"
   },
   {
    "duration": 4,
    "start_time": "2023-06-07T15:34:06.031Z"
   },
   {
    "duration": 6,
    "start_time": "2023-06-07T15:34:06.036Z"
   },
   {
    "duration": 4,
    "start_time": "2023-06-07T15:34:06.044Z"
   },
   {
    "duration": 834,
    "start_time": "2023-06-07T15:34:06.050Z"
   },
   {
    "duration": 779,
    "start_time": "2023-06-07T15:34:06.886Z"
   },
   {
    "duration": 796,
    "start_time": "2023-06-07T15:34:07.667Z"
   },
   {
    "duration": 5,
    "start_time": "2023-06-07T15:39:11.087Z"
   },
   {
    "duration": 5,
    "start_time": "2023-06-07T15:39:27.684Z"
   },
   {
    "duration": 823,
    "start_time": "2023-06-07T15:39:28.507Z"
   },
   {
    "duration": 796,
    "start_time": "2023-06-07T15:39:35.082Z"
   },
   {
    "duration": 857,
    "start_time": "2023-06-07T15:39:38.792Z"
   },
   {
    "duration": 3,
    "start_time": "2023-06-07T16:54:47.509Z"
   },
   {
    "duration": 4,
    "start_time": "2023-06-07T16:56:11.186Z"
   },
   {
    "duration": 2,
    "start_time": "2023-06-07T17:01:33.565Z"
   },
   {
    "duration": 821,
    "start_time": "2023-06-07T17:02:22.913Z"
   },
   {
    "duration": 813,
    "start_time": "2023-06-07T17:02:28.584Z"
   },
   {
    "duration": 805,
    "start_time": "2023-06-07T17:02:30.526Z"
   },
   {
    "duration": 1258,
    "start_time": "2023-06-07T17:02:45.510Z"
   },
   {
    "duration": 367,
    "start_time": "2023-06-07T17:02:46.770Z"
   },
   {
    "duration": 13,
    "start_time": "2023-06-07T17:02:47.139Z"
   },
   {
    "duration": 20,
    "start_time": "2023-06-07T17:02:47.154Z"
   },
   {
    "duration": 17,
    "start_time": "2023-06-07T17:02:47.176Z"
   },
   {
    "duration": 86,
    "start_time": "2023-06-07T17:02:47.194Z"
   },
   {
    "duration": 10,
    "start_time": "2023-06-07T17:02:47.281Z"
   },
   {
    "duration": 2,
    "start_time": "2023-06-07T17:02:47.307Z"
   },
   {
    "duration": 41,
    "start_time": "2023-06-07T17:02:47.311Z"
   },
   {
    "duration": 55,
    "start_time": "2023-06-07T17:02:47.355Z"
   },
   {
    "duration": 296,
    "start_time": "2023-06-07T17:02:47.411Z"
   },
   {
    "duration": 204,
    "start_time": "2023-06-07T17:02:47.709Z"
   },
   {
    "duration": 101,
    "start_time": "2023-06-07T17:02:47.914Z"
   },
   {
    "duration": 93,
    "start_time": "2023-06-07T17:02:48.016Z"
   },
   {
    "duration": 19,
    "start_time": "2023-06-07T17:02:48.110Z"
   },
   {
    "duration": 17,
    "start_time": "2023-06-07T17:02:48.130Z"
   },
   {
    "duration": 11,
    "start_time": "2023-06-07T17:02:48.148Z"
   },
   {
    "duration": 477,
    "start_time": "2023-06-07T17:02:48.160Z"
   },
   {
    "duration": 353,
    "start_time": "2023-06-07T17:02:48.639Z"
   },
   {
    "duration": 441,
    "start_time": "2023-06-07T17:02:48.993Z"
   },
   {
    "duration": 3,
    "start_time": "2023-06-07T17:02:49.435Z"
   },
   {
    "duration": 12,
    "start_time": "2023-06-07T17:02:49.439Z"
   },
   {
    "duration": 11,
    "start_time": "2023-06-07T17:02:49.452Z"
   },
   {
    "duration": 23,
    "start_time": "2023-06-07T17:02:49.465Z"
   },
   {
    "duration": 826,
    "start_time": "2023-06-07T17:02:49.490Z"
   },
   {
    "duration": 839,
    "start_time": "2023-06-07T17:02:50.318Z"
   },
   {
    "duration": 800,
    "start_time": "2023-06-07T17:02:51.159Z"
   },
   {
    "duration": 1524,
    "start_time": "2023-06-07T19:14:46.027Z"
   },
   {
    "duration": 664,
    "start_time": "2023-06-07T19:14:47.553Z"
   },
   {
    "duration": 12,
    "start_time": "2023-06-07T19:14:48.219Z"
   },
   {
    "duration": 15,
    "start_time": "2023-06-07T19:14:48.232Z"
   },
   {
    "duration": 23,
    "start_time": "2023-06-07T19:14:48.249Z"
   },
   {
    "duration": 58,
    "start_time": "2023-06-07T19:14:48.274Z"
   },
   {
    "duration": 8,
    "start_time": "2023-06-07T19:14:48.333Z"
   },
   {
    "duration": 13,
    "start_time": "2023-06-07T19:14:48.342Z"
   },
   {
    "duration": 35,
    "start_time": "2023-06-07T19:14:48.357Z"
   },
   {
    "duration": 42,
    "start_time": "2023-06-07T19:14:48.393Z"
   },
   {
    "duration": 248,
    "start_time": "2023-06-07T19:14:48.437Z"
   },
   {
    "duration": 199,
    "start_time": "2023-06-07T19:14:48.687Z"
   },
   {
    "duration": 298,
    "start_time": "2023-06-07T19:14:48.888Z"
   },
   {
    "duration": 4,
    "start_time": "2023-06-07T19:14:49.189Z"
   },
   {
    "duration": 10,
    "start_time": "2023-06-07T19:14:49.194Z"
   },
   {
    "duration": 11,
    "start_time": "2023-06-07T19:14:49.205Z"
   },
   {
    "duration": 12,
    "start_time": "2023-06-07T19:14:49.218Z"
   },
   {
    "duration": 464,
    "start_time": "2023-06-07T19:14:49.231Z"
   },
   {
    "duration": 356,
    "start_time": "2023-06-07T19:14:49.697Z"
   },
   {
    "duration": 448,
    "start_time": "2023-06-07T19:14:50.054Z"
   },
   {
    "duration": 2,
    "start_time": "2023-06-07T19:14:50.504Z"
   },
   {
    "duration": 26,
    "start_time": "2023-06-07T19:14:50.507Z"
   },
   {
    "duration": 4,
    "start_time": "2023-06-07T19:14:50.535Z"
   },
   {
    "duration": 8,
    "start_time": "2023-06-07T19:14:50.540Z"
   },
   {
    "duration": 697,
    "start_time": "2023-06-07T19:14:50.549Z"
   },
   {
    "duration": 685,
    "start_time": "2023-06-07T19:14:51.247Z"
   },
   {
    "duration": 683,
    "start_time": "2023-06-07T19:14:51.934Z"
   },
   {
    "duration": 8,
    "start_time": "2023-06-07T20:21:47.718Z"
   },
   {
    "duration": 8,
    "start_time": "2023-06-07T20:22:08.499Z"
   },
   {
    "duration": 5,
    "start_time": "2023-06-07T20:22:13.214Z"
   },
   {
    "duration": 1374,
    "start_time": "2023-06-07T20:44:47.233Z"
   },
   {
    "duration": 323,
    "start_time": "2023-06-07T20:44:48.609Z"
   },
   {
    "duration": 11,
    "start_time": "2023-06-07T20:44:48.933Z"
   },
   {
    "duration": 19,
    "start_time": "2023-06-07T20:44:48.945Z"
   },
   {
    "duration": 24,
    "start_time": "2023-06-07T20:44:48.965Z"
   },
   {
    "duration": 69,
    "start_time": "2023-06-07T20:44:48.990Z"
   },
   {
    "duration": 7,
    "start_time": "2023-06-07T20:44:49.061Z"
   },
   {
    "duration": 21,
    "start_time": "2023-06-07T20:44:49.069Z"
   },
   {
    "duration": 43,
    "start_time": "2023-06-07T20:44:49.091Z"
   },
   {
    "duration": 35,
    "start_time": "2023-06-07T20:44:49.136Z"
   },
   {
    "duration": 24,
    "start_time": "2023-06-07T20:44:49.172Z"
   },
   {
    "duration": 202,
    "start_time": "2023-06-07T20:44:49.284Z"
   },
   {
    "duration": 198,
    "start_time": "2023-06-07T20:44:49.488Z"
   },
   {
    "duration": 99,
    "start_time": "2023-06-07T20:44:49.688Z"
   },
   {
    "duration": 7,
    "start_time": "2023-06-07T20:44:49.789Z"
   },
   {
    "duration": 6,
    "start_time": "2023-06-07T20:44:49.797Z"
   },
   {
    "duration": 6,
    "start_time": "2023-06-07T20:44:49.804Z"
   },
   {
    "duration": 451,
    "start_time": "2023-06-07T20:44:49.812Z"
   },
   {
    "duration": 381,
    "start_time": "2023-06-07T20:44:50.265Z"
   },
   {
    "duration": 471,
    "start_time": "2023-06-07T20:44:50.648Z"
   },
   {
    "duration": 3,
    "start_time": "2023-06-07T20:44:51.120Z"
   },
   {
    "duration": 22,
    "start_time": "2023-06-07T20:44:51.125Z"
   },
   {
    "duration": 22,
    "start_time": "2023-06-07T20:44:51.148Z"
   },
   {
    "duration": 23,
    "start_time": "2023-06-07T20:44:51.172Z"
   },
   {
    "duration": 789,
    "start_time": "2023-06-07T20:44:51.196Z"
   },
   {
    "duration": 754,
    "start_time": "2023-06-07T20:44:51.987Z"
   },
   {
    "duration": 698,
    "start_time": "2023-06-07T20:44:52.743Z"
   },
   {
    "duration": 1409,
    "start_time": "2023-06-07T20:50:09.314Z"
   },
   {
    "duration": 338,
    "start_time": "2023-06-07T20:50:10.725Z"
   },
   {
    "duration": 14,
    "start_time": "2023-06-07T20:50:11.064Z"
   },
   {
    "duration": 18,
    "start_time": "2023-06-07T20:50:11.080Z"
   },
   {
    "duration": 14,
    "start_time": "2023-06-07T20:50:11.099Z"
   },
   {
    "duration": 89,
    "start_time": "2023-06-07T20:50:11.115Z"
   },
   {
    "duration": 9,
    "start_time": "2023-06-07T20:50:11.206Z"
   },
   {
    "duration": 11,
    "start_time": "2023-06-07T20:50:11.217Z"
   },
   {
    "duration": 40,
    "start_time": "2023-06-07T20:50:11.229Z"
   },
   {
    "duration": 40,
    "start_time": "2023-06-07T20:50:11.271Z"
   },
   {
    "duration": 78,
    "start_time": "2023-06-07T20:50:11.312Z"
   },
   {
    "duration": 194,
    "start_time": "2023-06-07T20:50:11.392Z"
   },
   {
    "duration": 202,
    "start_time": "2023-06-07T20:50:11.588Z"
   },
   {
    "duration": 92,
    "start_time": "2023-06-07T20:50:11.795Z"
   },
   {
    "duration": 5,
    "start_time": "2023-06-07T20:50:11.889Z"
   },
   {
    "duration": 7,
    "start_time": "2023-06-07T20:50:11.895Z"
   },
   {
    "duration": 11,
    "start_time": "2023-06-07T20:50:11.903Z"
   },
   {
    "duration": 459,
    "start_time": "2023-06-07T20:50:11.916Z"
   },
   {
    "duration": 383,
    "start_time": "2023-06-07T20:50:12.377Z"
   },
   {
    "duration": 448,
    "start_time": "2023-06-07T20:50:12.762Z"
   },
   {
    "duration": 2,
    "start_time": "2023-06-07T20:50:13.212Z"
   },
   {
    "duration": 18,
    "start_time": "2023-06-07T20:50:13.216Z"
   },
   {
    "duration": 4,
    "start_time": "2023-06-07T20:50:13.236Z"
   },
   {
    "duration": 12,
    "start_time": "2023-06-07T20:50:13.241Z"
   },
   {
    "duration": 664,
    "start_time": "2023-06-07T20:50:13.255Z"
   },
   {
    "duration": 681,
    "start_time": "2023-06-07T20:50:13.921Z"
   },
   {
    "duration": 669,
    "start_time": "2023-06-07T20:50:14.604Z"
   },
   {
    "duration": 5,
    "start_time": "2023-06-07T20:51:37.089Z"
   },
   {
    "duration": 638,
    "start_time": "2023-06-07T20:51:40.702Z"
   },
   {
    "duration": 6,
    "start_time": "2023-06-07T20:52:10.985Z"
   },
   {
    "duration": 679,
    "start_time": "2023-06-07T20:52:17.415Z"
   },
   {
    "duration": 5,
    "start_time": "2023-06-07T20:52:36.885Z"
   },
   {
    "duration": 643,
    "start_time": "2023-06-07T20:52:40.110Z"
   },
   {
    "duration": 5,
    "start_time": "2023-06-07T20:53:40.006Z"
   },
   {
    "duration": 642,
    "start_time": "2023-06-07T20:53:43.496Z"
   },
   {
    "duration": 4,
    "start_time": "2023-06-07T20:55:09.507Z"
   },
   {
    "duration": 5,
    "start_time": "2023-06-07T20:55:15.893Z"
   },
   {
    "duration": 1413,
    "start_time": "2023-06-07T20:56:56.016Z"
   },
   {
    "duration": 315,
    "start_time": "2023-06-07T20:56:57.431Z"
   },
   {
    "duration": 12,
    "start_time": "2023-06-07T20:56:57.747Z"
   },
   {
    "duration": 23,
    "start_time": "2023-06-07T20:56:57.761Z"
   },
   {
    "duration": 15,
    "start_time": "2023-06-07T20:56:57.786Z"
   },
   {
    "duration": 63,
    "start_time": "2023-06-07T20:56:57.803Z"
   },
   {
    "duration": 21,
    "start_time": "2023-06-07T20:56:57.867Z"
   },
   {
    "duration": 15,
    "start_time": "2023-06-07T20:56:57.890Z"
   },
   {
    "duration": 26,
    "start_time": "2023-06-07T20:56:57.906Z"
   },
   {
    "duration": 36,
    "start_time": "2023-06-07T20:56:57.935Z"
   },
   {
    "duration": 114,
    "start_time": "2023-06-07T20:56:57.972Z"
   },
   {
    "duration": 199,
    "start_time": "2023-06-07T20:56:58.087Z"
   },
   {
    "duration": 199,
    "start_time": "2023-06-07T20:56:58.288Z"
   },
   {
    "duration": 99,
    "start_time": "2023-06-07T20:56:58.488Z"
   },
   {
    "duration": 4,
    "start_time": "2023-06-07T20:56:58.588Z"
   },
   {
    "duration": 6,
    "start_time": "2023-06-07T20:56:58.593Z"
   },
   {
    "duration": 13,
    "start_time": "2023-06-07T20:56:58.600Z"
   },
   {
    "duration": 445,
    "start_time": "2023-06-07T20:56:58.614Z"
   },
   {
    "duration": 375,
    "start_time": "2023-06-07T20:56:59.061Z"
   },
   {
    "duration": 405,
    "start_time": "2023-06-07T20:56:59.438Z"
   },
   {
    "duration": 2,
    "start_time": "2023-06-07T20:56:59.844Z"
   },
   {
    "duration": 7,
    "start_time": "2023-06-07T20:56:59.847Z"
   },
   {
    "duration": 4,
    "start_time": "2023-06-07T20:56:59.855Z"
   },
   {
    "duration": 6,
    "start_time": "2023-06-07T20:56:59.860Z"
   },
   {
    "duration": 0,
    "start_time": "2023-06-07T20:56:59.868Z"
   },
   {
    "duration": 0,
    "start_time": "2023-06-07T20:56:59.869Z"
   },
   {
    "duration": 0,
    "start_time": "2023-06-07T20:56:59.885Z"
   },
   {
    "duration": 0,
    "start_time": "2023-06-07T20:56:59.886Z"
   },
   {
    "duration": 1384,
    "start_time": "2023-06-07T20:57:07.248Z"
   },
   {
    "duration": 316,
    "start_time": "2023-06-07T20:57:08.634Z"
   },
   {
    "duration": 11,
    "start_time": "2023-06-07T20:57:08.951Z"
   },
   {
    "duration": 12,
    "start_time": "2023-06-07T20:57:08.963Z"
   },
   {
    "duration": 15,
    "start_time": "2023-06-07T20:57:08.984Z"
   },
   {
    "duration": 57,
    "start_time": "2023-06-07T20:57:09.000Z"
   },
   {
    "duration": 6,
    "start_time": "2023-06-07T20:57:09.059Z"
   },
   {
    "duration": 17,
    "start_time": "2023-06-07T20:57:09.067Z"
   },
   {
    "duration": 25,
    "start_time": "2023-06-07T20:57:09.086Z"
   },
   {
    "duration": 39,
    "start_time": "2023-06-07T20:57:09.112Z"
   },
   {
    "duration": 136,
    "start_time": "2023-06-07T20:57:09.154Z"
   },
   {
    "duration": 194,
    "start_time": "2023-06-07T20:57:09.292Z"
   },
   {
    "duration": 200,
    "start_time": "2023-06-07T20:57:09.487Z"
   },
   {
    "duration": 94,
    "start_time": "2023-06-07T20:57:09.691Z"
   },
   {
    "duration": 7,
    "start_time": "2023-06-07T20:57:09.787Z"
   },
   {
    "duration": 6,
    "start_time": "2023-06-07T20:57:09.796Z"
   },
   {
    "duration": 12,
    "start_time": "2023-06-07T20:57:09.803Z"
   },
   {
    "duration": 434,
    "start_time": "2023-06-07T20:57:09.817Z"
   },
   {
    "duration": 386,
    "start_time": "2023-06-07T20:57:10.252Z"
   },
   {
    "duration": 413,
    "start_time": "2023-06-07T20:57:10.639Z"
   },
   {
    "duration": 2,
    "start_time": "2023-06-07T20:57:11.054Z"
   },
   {
    "duration": 5,
    "start_time": "2023-06-07T20:57:11.057Z"
   },
   {
    "duration": 5,
    "start_time": "2023-06-07T20:57:11.063Z"
   },
   {
    "duration": 15,
    "start_time": "2023-06-07T20:57:11.069Z"
   },
   {
    "duration": 4,
    "start_time": "2023-06-07T20:57:11.086Z"
   },
   {
    "duration": 648,
    "start_time": "2023-06-07T20:57:11.091Z"
   },
   {
    "duration": 653,
    "start_time": "2023-06-07T20:57:11.740Z"
   },
   {
    "duration": 651,
    "start_time": "2023-06-07T20:57:12.394Z"
   },
   {
    "duration": 1028,
    "start_time": "2023-06-07T21:06:03.695Z"
   },
   {
    "duration": 2218,
    "start_time": "2023-06-07T21:06:50.550Z"
   },
   {
    "duration": 3057,
    "start_time": "2023-06-07T21:08:59.276Z"
   },
   {
    "duration": 3956,
    "start_time": "2023-06-07T21:10:03.010Z"
   },
   {
    "duration": 4,
    "start_time": "2023-06-07T21:51:38.366Z"
   },
   {
    "duration": 3,
    "start_time": "2023-06-07T21:51:56.448Z"
   },
   {
    "duration": 3,
    "start_time": "2023-06-07T21:53:51.412Z"
   },
   {
    "duration": 5051,
    "start_time": "2023-06-07T21:54:17.995Z"
   },
   {
    "duration": 4573,
    "start_time": "2023-06-07T21:54:45.068Z"
   },
   {
    "duration": 2,
    "start_time": "2023-06-07T22:02:21.136Z"
   },
   {
    "duration": 4108,
    "start_time": "2023-06-07T22:02:26.039Z"
   },
   {
    "duration": 1763,
    "start_time": "2023-06-08T12:21:04.236Z"
   },
   {
    "duration": 366,
    "start_time": "2023-06-08T12:21:06.001Z"
   },
   {
    "duration": 14,
    "start_time": "2023-06-08T12:21:06.368Z"
   },
   {
    "duration": 39,
    "start_time": "2023-06-08T12:21:06.383Z"
   },
   {
    "duration": 39,
    "start_time": "2023-06-08T12:21:06.431Z"
   },
   {
    "duration": 77,
    "start_time": "2023-06-08T12:21:06.471Z"
   },
   {
    "duration": 9,
    "start_time": "2023-06-08T12:21:06.549Z"
   },
   {
    "duration": 12,
    "start_time": "2023-06-08T12:21:06.559Z"
   },
   {
    "duration": 42,
    "start_time": "2023-06-08T12:21:06.573Z"
   },
   {
    "duration": 46,
    "start_time": "2023-06-08T12:21:06.626Z"
   },
   {
    "duration": 155,
    "start_time": "2023-06-08T12:21:06.674Z"
   },
   {
    "duration": 196,
    "start_time": "2023-06-08T12:21:06.830Z"
   },
   {
    "duration": 201,
    "start_time": "2023-06-08T12:21:07.028Z"
   },
   {
    "duration": 97,
    "start_time": "2023-06-08T12:21:07.232Z"
   },
   {
    "duration": 20,
    "start_time": "2023-06-08T12:21:07.331Z"
   },
   {
    "duration": 19,
    "start_time": "2023-06-08T12:21:07.352Z"
   },
   {
    "duration": 22,
    "start_time": "2023-06-08T12:21:07.372Z"
   },
   {
    "duration": 519,
    "start_time": "2023-06-08T12:21:07.395Z"
   },
   {
    "duration": 397,
    "start_time": "2023-06-08T12:21:07.916Z"
   },
   {
    "duration": 456,
    "start_time": "2023-06-08T12:21:08.324Z"
   },
   {
    "duration": 3,
    "start_time": "2023-06-08T12:21:08.781Z"
   },
   {
    "duration": 18,
    "start_time": "2023-06-08T12:21:08.785Z"
   },
   {
    "duration": 28,
    "start_time": "2023-06-08T12:21:08.805Z"
   },
   {
    "duration": 8,
    "start_time": "2023-06-08T12:21:08.834Z"
   },
   {
    "duration": 728,
    "start_time": "2023-06-08T12:21:08.844Z"
   },
   {
    "duration": 701,
    "start_time": "2023-06-08T12:21:09.574Z"
   },
   {
    "duration": 679,
    "start_time": "2023-06-08T12:21:10.276Z"
   },
   {
    "duration": 3,
    "start_time": "2023-06-08T15:27:20.343Z"
   },
   {
    "duration": 7,
    "start_time": "2023-06-08T15:35:19.623Z"
   },
   {
    "duration": 1502,
    "start_time": "2023-06-08T15:35:26.517Z"
   },
   {
    "duration": 1887,
    "start_time": "2023-06-08T15:35:28.023Z"
   },
   {
    "duration": 15,
    "start_time": "2023-06-08T15:35:29.914Z"
   },
   {
    "duration": 27,
    "start_time": "2023-06-08T15:35:29.931Z"
   },
   {
    "duration": 22,
    "start_time": "2023-06-08T15:35:29.960Z"
   },
   {
    "duration": 81,
    "start_time": "2023-06-08T15:35:29.984Z"
   },
   {
    "duration": 8,
    "start_time": "2023-06-08T15:35:30.067Z"
   },
   {
    "duration": 58,
    "start_time": "2023-06-08T15:35:30.076Z"
   },
   {
    "duration": 75,
    "start_time": "2023-06-08T15:35:30.136Z"
   },
   {
    "duration": 101,
    "start_time": "2023-06-08T15:35:30.216Z"
   },
   {
    "duration": 216,
    "start_time": "2023-06-08T15:35:30.319Z"
   },
   {
    "duration": 178,
    "start_time": "2023-06-08T15:35:30.536Z"
   },
   {
    "duration": 192,
    "start_time": "2023-06-08T15:35:30.719Z"
   },
   {
    "duration": 10,
    "start_time": "2023-06-08T15:35:30.918Z"
   },
   {
    "duration": 92,
    "start_time": "2023-06-08T15:35:30.930Z"
   },
   {
    "duration": 78,
    "start_time": "2023-06-08T15:35:31.023Z"
   },
   {
    "duration": 91,
    "start_time": "2023-06-08T15:35:31.102Z"
   },
   {
    "duration": 578,
    "start_time": "2023-06-08T15:35:31.195Z"
   },
   {
    "duration": 400,
    "start_time": "2023-06-08T15:35:31.775Z"
   },
   {
    "duration": 470,
    "start_time": "2023-06-08T15:35:32.177Z"
   },
   {
    "duration": 2,
    "start_time": "2023-06-08T15:35:32.650Z"
   },
   {
    "duration": 14,
    "start_time": "2023-06-08T15:35:32.654Z"
   },
   {
    "duration": 20,
    "start_time": "2023-06-08T15:35:32.670Z"
   },
   {
    "duration": 9,
    "start_time": "2023-06-08T15:35:32.691Z"
   },
   {
    "duration": 895,
    "start_time": "2023-06-08T15:35:32.702Z"
   },
   {
    "duration": 872,
    "start_time": "2023-06-08T15:35:33.598Z"
   },
   {
    "duration": 789,
    "start_time": "2023-06-08T15:35:34.472Z"
   },
   {
    "duration": 1304,
    "start_time": "2023-06-08T15:51:53.250Z"
   },
   {
    "duration": 342,
    "start_time": "2023-06-08T15:51:54.555Z"
   },
   {
    "duration": 24,
    "start_time": "2023-06-08T15:51:54.898Z"
   },
   {
    "duration": 12,
    "start_time": "2023-06-08T15:51:54.924Z"
   },
   {
    "duration": 20,
    "start_time": "2023-06-08T15:51:54.938Z"
   },
   {
    "duration": 79,
    "start_time": "2023-06-08T15:51:54.959Z"
   },
   {
    "duration": 8,
    "start_time": "2023-06-08T15:51:55.040Z"
   },
   {
    "duration": 5,
    "start_time": "2023-06-08T15:51:55.050Z"
   },
   {
    "duration": 37,
    "start_time": "2023-06-08T15:51:55.056Z"
   },
   {
    "duration": 52,
    "start_time": "2023-06-08T15:51:55.095Z"
   },
   {
    "duration": 71,
    "start_time": "2023-06-08T15:51:55.149Z"
   },
   {
    "duration": 190,
    "start_time": "2023-06-08T15:51:55.223Z"
   },
   {
    "duration": 193,
    "start_time": "2023-06-08T15:51:55.414Z"
   },
   {
    "duration": 5,
    "start_time": "2023-06-08T15:51:55.611Z"
   },
   {
    "duration": 88,
    "start_time": "2023-06-08T15:51:55.617Z"
   },
   {
    "duration": 16,
    "start_time": "2023-06-08T15:51:55.707Z"
   },
   {
    "duration": 11,
    "start_time": "2023-06-08T15:51:55.724Z"
   },
   {
    "duration": 469,
    "start_time": "2023-06-08T15:51:55.736Z"
   },
   {
    "duration": 381,
    "start_time": "2023-06-08T15:51:56.208Z"
   },
   {
    "duration": 447,
    "start_time": "2023-06-08T15:51:56.591Z"
   },
   {
    "duration": 3,
    "start_time": "2023-06-08T15:51:57.039Z"
   },
   {
    "duration": 28,
    "start_time": "2023-06-08T15:51:57.043Z"
   },
   {
    "duration": 7,
    "start_time": "2023-06-08T15:51:57.073Z"
   },
   {
    "duration": 9,
    "start_time": "2023-06-08T15:51:57.081Z"
   },
   {
    "duration": 797,
    "start_time": "2023-06-08T15:51:57.092Z"
   },
   {
    "duration": 787,
    "start_time": "2023-06-08T15:51:57.890Z"
   },
   {
    "duration": 813,
    "start_time": "2023-06-08T15:51:58.678Z"
   },
   {
    "duration": 3031,
    "start_time": "2023-06-09T10:08:43.247Z"
   },
   {
    "duration": 3194,
    "start_time": "2023-06-09T10:08:46.285Z"
   },
   {
    "duration": 33,
    "start_time": "2023-06-09T10:08:49.487Z"
   },
   {
    "duration": 59,
    "start_time": "2023-06-09T10:08:49.523Z"
   },
   {
    "duration": 79,
    "start_time": "2023-06-09T10:08:49.584Z"
   },
   {
    "duration": 145,
    "start_time": "2023-06-09T10:08:49.672Z"
   },
   {
    "duration": 12,
    "start_time": "2023-06-09T10:08:49.819Z"
   },
   {
    "duration": 17,
    "start_time": "2023-06-09T10:08:49.832Z"
   },
   {
    "duration": 66,
    "start_time": "2023-06-09T10:08:49.851Z"
   },
   {
    "duration": 82,
    "start_time": "2023-06-09T10:08:49.919Z"
   },
   {
    "duration": 181,
    "start_time": "2023-06-09T10:08:50.003Z"
   },
   {
    "duration": 168,
    "start_time": "2023-06-09T10:08:50.195Z"
   },
   {
    "duration": 243,
    "start_time": "2023-06-09T10:08:50.382Z"
   },
   {
    "duration": 30,
    "start_time": "2023-06-09T10:08:50.633Z"
   },
   {
    "duration": 12,
    "start_time": "2023-06-09T10:08:50.669Z"
   },
   {
    "duration": 16,
    "start_time": "2023-06-09T10:08:50.688Z"
   },
   {
    "duration": 35,
    "start_time": "2023-06-09T10:08:50.710Z"
   },
   {
    "duration": 824,
    "start_time": "2023-06-09T10:08:50.751Z"
   },
   {
    "duration": 560,
    "start_time": "2023-06-09T10:08:51.580Z"
   },
   {
    "duration": 635,
    "start_time": "2023-06-09T10:08:52.142Z"
   },
   {
    "duration": 4,
    "start_time": "2023-06-09T10:08:52.779Z"
   },
   {
    "duration": 14,
    "start_time": "2023-06-09T10:08:52.785Z"
   },
   {
    "duration": 21,
    "start_time": "2023-06-09T10:08:52.802Z"
   },
   {
    "duration": 14,
    "start_time": "2023-06-09T10:08:52.831Z"
   },
   {
    "duration": 1366,
    "start_time": "2023-06-09T10:08:52.847Z"
   },
   {
    "duration": 1332,
    "start_time": "2023-06-09T10:08:54.215Z"
   },
   {
    "duration": 1341,
    "start_time": "2023-06-09T10:08:55.549Z"
   },
   {
    "duration": 1747,
    "start_time": "2023-06-12T16:52:39.387Z"
   },
   {
    "duration": 933,
    "start_time": "2023-06-12T16:52:41.137Z"
   },
   {
    "duration": 17,
    "start_time": "2023-06-12T16:52:42.072Z"
   },
   {
    "duration": 74,
    "start_time": "2023-06-12T16:52:42.091Z"
   },
   {
    "duration": 54,
    "start_time": "2023-06-12T16:52:42.167Z"
   },
   {
    "duration": 154,
    "start_time": "2023-06-12T16:52:42.222Z"
   },
   {
    "duration": 12,
    "start_time": "2023-06-12T16:52:42.378Z"
   },
   {
    "duration": 24,
    "start_time": "2023-06-12T16:52:42.393Z"
   },
   {
    "duration": 91,
    "start_time": "2023-06-12T16:52:42.419Z"
   },
   {
    "duration": 69,
    "start_time": "2023-06-12T16:52:42.513Z"
   },
   {
    "duration": 9,
    "start_time": "2023-06-12T16:52:45.097Z"
   },
   {
    "duration": 1462,
    "start_time": "2023-06-12T16:53:05.561Z"
   },
   {
    "duration": 414,
    "start_time": "2023-06-12T16:53:07.025Z"
   },
   {
    "duration": 21,
    "start_time": "2023-06-12T16:53:07.441Z"
   },
   {
    "duration": 22,
    "start_time": "2023-06-12T16:53:07.464Z"
   },
   {
    "duration": 18,
    "start_time": "2023-06-12T16:53:07.489Z"
   },
   {
    "duration": 97,
    "start_time": "2023-06-12T16:53:07.509Z"
   },
   {
    "duration": 10,
    "start_time": "2023-06-12T16:53:07.608Z"
   },
   {
    "duration": 13,
    "start_time": "2023-06-12T16:53:07.619Z"
   },
   {
    "duration": 67,
    "start_time": "2023-06-12T16:53:07.633Z"
   },
   {
    "duration": 13,
    "start_time": "2023-06-12T16:53:07.702Z"
   },
   {
    "duration": 63,
    "start_time": "2023-06-12T16:53:07.717Z"
   },
   {
    "duration": 8,
    "start_time": "2023-06-12T16:53:07.782Z"
   },
   {
    "duration": 175,
    "start_time": "2023-06-12T16:53:07.791Z"
   },
   {
    "duration": 381,
    "start_time": "2023-06-12T16:53:07.969Z"
   },
   {
    "duration": 198,
    "start_time": "2023-06-12T16:53:08.352Z"
   },
   {
    "duration": 25,
    "start_time": "2023-06-12T16:53:08.553Z"
   },
   {
    "duration": 27,
    "start_time": "2023-06-12T16:53:08.580Z"
   },
   {
    "duration": 37,
    "start_time": "2023-06-12T16:53:08.609Z"
   },
   {
    "duration": 24,
    "start_time": "2023-06-12T16:53:08.648Z"
   },
   {
    "duration": 1114,
    "start_time": "2023-06-12T16:53:08.674Z"
   },
   {
    "duration": 784,
    "start_time": "2023-06-12T16:53:09.791Z"
   },
   {
    "duration": 461,
    "start_time": "2023-06-12T16:53:10.577Z"
   },
   {
    "duration": 15,
    "start_time": "2023-06-12T16:53:11.041Z"
   },
   {
    "duration": 11,
    "start_time": "2023-06-12T16:53:11.060Z"
   },
   {
    "duration": 8,
    "start_time": "2023-06-12T16:53:11.073Z"
   },
   {
    "duration": 13,
    "start_time": "2023-06-12T16:53:11.082Z"
   },
   {
    "duration": 995,
    "start_time": "2023-06-12T16:53:11.096Z"
   },
   {
    "duration": 1172,
    "start_time": "2023-06-12T16:53:12.093Z"
   },
   {
    "duration": 993,
    "start_time": "2023-06-12T16:53:13.267Z"
   }
  ],
  "kernelspec": {
   "display_name": "Python 3 (ipykernel)",
   "language": "python",
   "name": "python3"
  },
  "language_info": {
   "codemirror_mode": {
    "name": "ipython",
    "version": 3
   },
   "file_extension": ".py",
   "mimetype": "text/x-python",
   "name": "python",
   "nbconvert_exporter": "python",
   "pygments_lexer": "ipython3",
   "version": "3.9.5"
  },
  "toc": {
   "base_numbering": 1,
   "nav_menu": {},
   "number_sections": true,
   "sideBar": true,
   "skip_h1_title": true,
   "title_cell": "Table of Contents",
   "title_sidebar": "Contents",
   "toc_cell": false,
   "toc_position": {},
   "toc_section_display": true,
   "toc_window_display": true
  }
 },
 "nbformat": 4,
 "nbformat_minor": 2
}
