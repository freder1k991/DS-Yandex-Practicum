{
 "cells": [
  {
   "cell_type": "markdown",
   "metadata": {},
   "source": [
    "# Исследование объявлений о продаже квартир\n",
    "\n",
    "В вашем распоряжении данные сервиса Яндекс.Недвижимость — архив объявлений о продаже квартир в Санкт-Петербурге и соседних населённых пунктов за несколько лет. Нужно научиться определять рыночную стоимость объектов недвижимости. Ваша задача — установить параметры. Это позволит построить автоматизированную систему: она отследит аномалии и мошенническую деятельность. \n",
    "\n",
    "По каждой квартире на продажу доступны два вида данных. Первые вписаны пользователем, вторые — получены автоматически на основе картографических данных. Например, расстояние до центра, аэропорта, ближайшего парка и водоёма. "
   ]
  },
  {
   "cell_type": "code",
   "execution_count": 1,
   "metadata": {},
   "outputs": [],
   "source": [
    "import math\n",
    "import pandas as pd"
   ]
  },
  {
   "cell_type": "markdown",
   "metadata": {},
   "source": [
    "### Открытие файла и изучение общей информации. "
   ]
  },
  {
   "cell_type": "code",
   "execution_count": 2,
   "metadata": {
    "scrolled": true
   },
   "outputs": [
    {
     "data": {
      "text/html": [
       "<div>\n",
       "<style scoped>\n",
       "    .dataframe tbody tr th:only-of-type {\n",
       "        vertical-align: middle;\n",
       "    }\n",
       "\n",
       "    .dataframe tbody tr th {\n",
       "        vertical-align: top;\n",
       "    }\n",
       "\n",
       "    .dataframe thead th {\n",
       "        text-align: right;\n",
       "    }\n",
       "</style>\n",
       "<table border=\"1\" class=\"dataframe\">\n",
       "  <thead>\n",
       "    <tr style=\"text-align: right;\">\n",
       "      <th></th>\n",
       "      <th>total_images</th>\n",
       "      <th>last_price</th>\n",
       "      <th>total_area</th>\n",
       "      <th>first_day_exposition</th>\n",
       "      <th>rooms</th>\n",
       "      <th>ceiling_height</th>\n",
       "      <th>floors_total</th>\n",
       "      <th>living_area</th>\n",
       "      <th>floor</th>\n",
       "      <th>is_apartment</th>\n",
       "      <th>...</th>\n",
       "      <th>kitchen_area</th>\n",
       "      <th>balcony</th>\n",
       "      <th>locality_name</th>\n",
       "      <th>airports_nearest</th>\n",
       "      <th>cityCenters_nearest</th>\n",
       "      <th>parks_around3000</th>\n",
       "      <th>parks_nearest</th>\n",
       "      <th>ponds_around3000</th>\n",
       "      <th>ponds_nearest</th>\n",
       "      <th>days_exposition</th>\n",
       "    </tr>\n",
       "  </thead>\n",
       "  <tbody>\n",
       "    <tr>\n",
       "      <th>0</th>\n",
       "      <td>20</td>\n",
       "      <td>13000000.0</td>\n",
       "      <td>108.00</td>\n",
       "      <td>2019-03-07T00:00:00</td>\n",
       "      <td>3</td>\n",
       "      <td>2.70</td>\n",
       "      <td>16.0</td>\n",
       "      <td>51.0</td>\n",
       "      <td>8</td>\n",
       "      <td>NaN</td>\n",
       "      <td>...</td>\n",
       "      <td>25.00</td>\n",
       "      <td>NaN</td>\n",
       "      <td>Санкт-Петербург</td>\n",
       "      <td>18863.0</td>\n",
       "      <td>16028.0</td>\n",
       "      <td>1.0</td>\n",
       "      <td>482.0</td>\n",
       "      <td>2.0</td>\n",
       "      <td>755.0</td>\n",
       "      <td>NaN</td>\n",
       "    </tr>\n",
       "    <tr>\n",
       "      <th>1</th>\n",
       "      <td>7</td>\n",
       "      <td>3350000.0</td>\n",
       "      <td>40.40</td>\n",
       "      <td>2018-12-04T00:00:00</td>\n",
       "      <td>1</td>\n",
       "      <td>NaN</td>\n",
       "      <td>11.0</td>\n",
       "      <td>18.6</td>\n",
       "      <td>1</td>\n",
       "      <td>NaN</td>\n",
       "      <td>...</td>\n",
       "      <td>11.00</td>\n",
       "      <td>2.0</td>\n",
       "      <td>посёлок Шушары</td>\n",
       "      <td>12817.0</td>\n",
       "      <td>18603.0</td>\n",
       "      <td>0.0</td>\n",
       "      <td>NaN</td>\n",
       "      <td>0.0</td>\n",
       "      <td>NaN</td>\n",
       "      <td>81.0</td>\n",
       "    </tr>\n",
       "    <tr>\n",
       "      <th>2</th>\n",
       "      <td>10</td>\n",
       "      <td>5196000.0</td>\n",
       "      <td>56.00</td>\n",
       "      <td>2015-08-20T00:00:00</td>\n",
       "      <td>2</td>\n",
       "      <td>NaN</td>\n",
       "      <td>5.0</td>\n",
       "      <td>34.3</td>\n",
       "      <td>4</td>\n",
       "      <td>NaN</td>\n",
       "      <td>...</td>\n",
       "      <td>8.30</td>\n",
       "      <td>0.0</td>\n",
       "      <td>Санкт-Петербург</td>\n",
       "      <td>21741.0</td>\n",
       "      <td>13933.0</td>\n",
       "      <td>1.0</td>\n",
       "      <td>90.0</td>\n",
       "      <td>2.0</td>\n",
       "      <td>574.0</td>\n",
       "      <td>558.0</td>\n",
       "    </tr>\n",
       "    <tr>\n",
       "      <th>3</th>\n",
       "      <td>0</td>\n",
       "      <td>64900000.0</td>\n",
       "      <td>159.00</td>\n",
       "      <td>2015-07-24T00:00:00</td>\n",
       "      <td>3</td>\n",
       "      <td>NaN</td>\n",
       "      <td>14.0</td>\n",
       "      <td>NaN</td>\n",
       "      <td>9</td>\n",
       "      <td>NaN</td>\n",
       "      <td>...</td>\n",
       "      <td>NaN</td>\n",
       "      <td>0.0</td>\n",
       "      <td>Санкт-Петербург</td>\n",
       "      <td>28098.0</td>\n",
       "      <td>6800.0</td>\n",
       "      <td>2.0</td>\n",
       "      <td>84.0</td>\n",
       "      <td>3.0</td>\n",
       "      <td>234.0</td>\n",
       "      <td>424.0</td>\n",
       "    </tr>\n",
       "    <tr>\n",
       "      <th>4</th>\n",
       "      <td>2</td>\n",
       "      <td>10000000.0</td>\n",
       "      <td>100.00</td>\n",
       "      <td>2018-06-19T00:00:00</td>\n",
       "      <td>2</td>\n",
       "      <td>3.03</td>\n",
       "      <td>14.0</td>\n",
       "      <td>32.0</td>\n",
       "      <td>13</td>\n",
       "      <td>NaN</td>\n",
       "      <td>...</td>\n",
       "      <td>41.00</td>\n",
       "      <td>NaN</td>\n",
       "      <td>Санкт-Петербург</td>\n",
       "      <td>31856.0</td>\n",
       "      <td>8098.0</td>\n",
       "      <td>2.0</td>\n",
       "      <td>112.0</td>\n",
       "      <td>1.0</td>\n",
       "      <td>48.0</td>\n",
       "      <td>121.0</td>\n",
       "    </tr>\n",
       "    <tr>\n",
       "      <th>...</th>\n",
       "      <td>...</td>\n",
       "      <td>...</td>\n",
       "      <td>...</td>\n",
       "      <td>...</td>\n",
       "      <td>...</td>\n",
       "      <td>...</td>\n",
       "      <td>...</td>\n",
       "      <td>...</td>\n",
       "      <td>...</td>\n",
       "      <td>...</td>\n",
       "      <td>...</td>\n",
       "      <td>...</td>\n",
       "      <td>...</td>\n",
       "      <td>...</td>\n",
       "      <td>...</td>\n",
       "      <td>...</td>\n",
       "      <td>...</td>\n",
       "      <td>...</td>\n",
       "      <td>...</td>\n",
       "      <td>...</td>\n",
       "      <td>...</td>\n",
       "    </tr>\n",
       "    <tr>\n",
       "      <th>23694</th>\n",
       "      <td>9</td>\n",
       "      <td>9700000.0</td>\n",
       "      <td>133.81</td>\n",
       "      <td>2017-03-21T00:00:00</td>\n",
       "      <td>3</td>\n",
       "      <td>3.70</td>\n",
       "      <td>5.0</td>\n",
       "      <td>73.3</td>\n",
       "      <td>3</td>\n",
       "      <td>NaN</td>\n",
       "      <td>...</td>\n",
       "      <td>13.83</td>\n",
       "      <td>NaN</td>\n",
       "      <td>Санкт-Петербург</td>\n",
       "      <td>24665.0</td>\n",
       "      <td>4232.0</td>\n",
       "      <td>1.0</td>\n",
       "      <td>796.0</td>\n",
       "      <td>3.0</td>\n",
       "      <td>381.0</td>\n",
       "      <td>NaN</td>\n",
       "    </tr>\n",
       "    <tr>\n",
       "      <th>23695</th>\n",
       "      <td>14</td>\n",
       "      <td>3100000.0</td>\n",
       "      <td>59.00</td>\n",
       "      <td>2018-01-15T00:00:00</td>\n",
       "      <td>3</td>\n",
       "      <td>NaN</td>\n",
       "      <td>5.0</td>\n",
       "      <td>38.0</td>\n",
       "      <td>4</td>\n",
       "      <td>NaN</td>\n",
       "      <td>...</td>\n",
       "      <td>8.50</td>\n",
       "      <td>NaN</td>\n",
       "      <td>Тосно</td>\n",
       "      <td>NaN</td>\n",
       "      <td>NaN</td>\n",
       "      <td>NaN</td>\n",
       "      <td>NaN</td>\n",
       "      <td>NaN</td>\n",
       "      <td>NaN</td>\n",
       "      <td>45.0</td>\n",
       "    </tr>\n",
       "    <tr>\n",
       "      <th>23696</th>\n",
       "      <td>18</td>\n",
       "      <td>2500000.0</td>\n",
       "      <td>56.70</td>\n",
       "      <td>2018-02-11T00:00:00</td>\n",
       "      <td>2</td>\n",
       "      <td>NaN</td>\n",
       "      <td>3.0</td>\n",
       "      <td>29.7</td>\n",
       "      <td>1</td>\n",
       "      <td>NaN</td>\n",
       "      <td>...</td>\n",
       "      <td>NaN</td>\n",
       "      <td>NaN</td>\n",
       "      <td>село Рождествено</td>\n",
       "      <td>NaN</td>\n",
       "      <td>NaN</td>\n",
       "      <td>NaN</td>\n",
       "      <td>NaN</td>\n",
       "      <td>NaN</td>\n",
       "      <td>NaN</td>\n",
       "      <td>NaN</td>\n",
       "    </tr>\n",
       "    <tr>\n",
       "      <th>23697</th>\n",
       "      <td>13</td>\n",
       "      <td>11475000.0</td>\n",
       "      <td>76.75</td>\n",
       "      <td>2017-03-28T00:00:00</td>\n",
       "      <td>2</td>\n",
       "      <td>3.00</td>\n",
       "      <td>17.0</td>\n",
       "      <td>NaN</td>\n",
       "      <td>12</td>\n",
       "      <td>NaN</td>\n",
       "      <td>...</td>\n",
       "      <td>23.30</td>\n",
       "      <td>2.0</td>\n",
       "      <td>Санкт-Петербург</td>\n",
       "      <td>39140.0</td>\n",
       "      <td>10364.0</td>\n",
       "      <td>2.0</td>\n",
       "      <td>173.0</td>\n",
       "      <td>3.0</td>\n",
       "      <td>196.0</td>\n",
       "      <td>602.0</td>\n",
       "    </tr>\n",
       "    <tr>\n",
       "      <th>23698</th>\n",
       "      <td>4</td>\n",
       "      <td>1350000.0</td>\n",
       "      <td>32.30</td>\n",
       "      <td>2017-07-21T00:00:00</td>\n",
       "      <td>1</td>\n",
       "      <td>2.50</td>\n",
       "      <td>5.0</td>\n",
       "      <td>12.3</td>\n",
       "      <td>1</td>\n",
       "      <td>NaN</td>\n",
       "      <td>...</td>\n",
       "      <td>9.00</td>\n",
       "      <td>NaN</td>\n",
       "      <td>поселок Новый Учхоз</td>\n",
       "      <td>NaN</td>\n",
       "      <td>NaN</td>\n",
       "      <td>NaN</td>\n",
       "      <td>NaN</td>\n",
       "      <td>NaN</td>\n",
       "      <td>NaN</td>\n",
       "      <td>NaN</td>\n",
       "    </tr>\n",
       "  </tbody>\n",
       "</table>\n",
       "<p>23699 rows × 22 columns</p>\n",
       "</div>"
      ],
      "text/plain": [
       "       total_images  last_price  total_area first_day_exposition  rooms  \\\n",
       "0                20  13000000.0      108.00  2019-03-07T00:00:00      3   \n",
       "1                 7   3350000.0       40.40  2018-12-04T00:00:00      1   \n",
       "2                10   5196000.0       56.00  2015-08-20T00:00:00      2   \n",
       "3                 0  64900000.0      159.00  2015-07-24T00:00:00      3   \n",
       "4                 2  10000000.0      100.00  2018-06-19T00:00:00      2   \n",
       "...             ...         ...         ...                  ...    ...   \n",
       "23694             9   9700000.0      133.81  2017-03-21T00:00:00      3   \n",
       "23695            14   3100000.0       59.00  2018-01-15T00:00:00      3   \n",
       "23696            18   2500000.0       56.70  2018-02-11T00:00:00      2   \n",
       "23697            13  11475000.0       76.75  2017-03-28T00:00:00      2   \n",
       "23698             4   1350000.0       32.30  2017-07-21T00:00:00      1   \n",
       "\n",
       "       ceiling_height  floors_total  living_area  floor is_apartment  ...  \\\n",
       "0                2.70          16.0         51.0      8          NaN  ...   \n",
       "1                 NaN          11.0         18.6      1          NaN  ...   \n",
       "2                 NaN           5.0         34.3      4          NaN  ...   \n",
       "3                 NaN          14.0          NaN      9          NaN  ...   \n",
       "4                3.03          14.0         32.0     13          NaN  ...   \n",
       "...               ...           ...          ...    ...          ...  ...   \n",
       "23694            3.70           5.0         73.3      3          NaN  ...   \n",
       "23695             NaN           5.0         38.0      4          NaN  ...   \n",
       "23696             NaN           3.0         29.7      1          NaN  ...   \n",
       "23697            3.00          17.0          NaN     12          NaN  ...   \n",
       "23698            2.50           5.0         12.3      1          NaN  ...   \n",
       "\n",
       "       kitchen_area  balcony        locality_name  airports_nearest  \\\n",
       "0             25.00      NaN      Санкт-Петербург           18863.0   \n",
       "1             11.00      2.0       посёлок Шушары           12817.0   \n",
       "2              8.30      0.0      Санкт-Петербург           21741.0   \n",
       "3               NaN      0.0      Санкт-Петербург           28098.0   \n",
       "4             41.00      NaN      Санкт-Петербург           31856.0   \n",
       "...             ...      ...                  ...               ...   \n",
       "23694         13.83      NaN      Санкт-Петербург           24665.0   \n",
       "23695          8.50      NaN                Тосно               NaN   \n",
       "23696           NaN      NaN     село Рождествено               NaN   \n",
       "23697         23.30      2.0      Санкт-Петербург           39140.0   \n",
       "23698          9.00      NaN  поселок Новый Учхоз               NaN   \n",
       "\n",
       "      cityCenters_nearest  parks_around3000  parks_nearest  ponds_around3000  \\\n",
       "0                 16028.0               1.0          482.0               2.0   \n",
       "1                 18603.0               0.0            NaN               0.0   \n",
       "2                 13933.0               1.0           90.0               2.0   \n",
       "3                  6800.0               2.0           84.0               3.0   \n",
       "4                  8098.0               2.0          112.0               1.0   \n",
       "...                   ...               ...            ...               ...   \n",
       "23694              4232.0               1.0          796.0               3.0   \n",
       "23695                 NaN               NaN            NaN               NaN   \n",
       "23696                 NaN               NaN            NaN               NaN   \n",
       "23697             10364.0               2.0          173.0               3.0   \n",
       "23698                 NaN               NaN            NaN               NaN   \n",
       "\n",
       "       ponds_nearest  days_exposition  \n",
       "0              755.0              NaN  \n",
       "1                NaN             81.0  \n",
       "2              574.0            558.0  \n",
       "3              234.0            424.0  \n",
       "4               48.0            121.0  \n",
       "...              ...              ...  \n",
       "23694          381.0              NaN  \n",
       "23695            NaN             45.0  \n",
       "23696            NaN              NaN  \n",
       "23697          196.0            602.0  \n",
       "23698            NaN              NaN  \n",
       "\n",
       "[23699 rows x 22 columns]"
      ]
     },
     "execution_count": 2,
     "metadata": {},
     "output_type": "execute_result"
    }
   ],
   "source": [
    "df = pd.read_csv('/datasets/real_estate_data.csv', sep='\\t') #уточнение символа разделения\n",
    "df"
   ]
  },
  {
   "cell_type": "markdown",
   "metadata": {},
   "source": [
    "**Промежуточный вывод** таблица содержит информацию об объявлениях недвижимости. В одной строке достаточно много столбцов и не все они заполнены, нужно это проанализировать. Сразу бросается в глаз формат даты, надо его сделать читабельным для программы. В таблице по мимо уникальных значений существуют булевые значения и текстовая запись"
   ]
  },
  {
   "cell_type": "markdown",
   "metadata": {},
   "source": [
    "### Предобработка данных\n",
    "Общая информация о файле"
   ]
  },
  {
   "cell_type": "code",
   "execution_count": 3,
   "metadata": {},
   "outputs": [
    {
     "name": "stdout",
     "output_type": "stream",
     "text": [
      "<class 'pandas.core.frame.DataFrame'>\n",
      "RangeIndex: 23699 entries, 0 to 23698\n",
      "Data columns (total 22 columns):\n",
      " #   Column                Non-Null Count  Dtype  \n",
      "---  ------                --------------  -----  \n",
      " 0   total_images          23699 non-null  int64  \n",
      " 1   last_price            23699 non-null  float64\n",
      " 2   total_area            23699 non-null  float64\n",
      " 3   first_day_exposition  23699 non-null  object \n",
      " 4   rooms                 23699 non-null  int64  \n",
      " 5   ceiling_height        14504 non-null  float64\n",
      " 6   floors_total          23613 non-null  float64\n",
      " 7   living_area           21796 non-null  float64\n",
      " 8   floor                 23699 non-null  int64  \n",
      " 9   is_apartment          2775 non-null   object \n",
      " 10  studio                23699 non-null  bool   \n",
      " 11  open_plan             23699 non-null  bool   \n",
      " 12  kitchen_area          21421 non-null  float64\n",
      " 13  balcony               12180 non-null  float64\n",
      " 14  locality_name         23650 non-null  object \n",
      " 15  airports_nearest      18157 non-null  float64\n",
      " 16  cityCenters_nearest   18180 non-null  float64\n",
      " 17  parks_around3000      18181 non-null  float64\n",
      " 18  parks_nearest         8079 non-null   float64\n",
      " 19  ponds_around3000      18181 non-null  float64\n",
      " 20  ponds_nearest         9110 non-null   float64\n",
      " 21  days_exposition       20518 non-null  float64\n",
      "dtypes: bool(2), float64(14), int64(3), object(3)\n",
      "memory usage: 3.7+ MB\n"
     ]
    }
   ],
   "source": [
    "df.info()"
   ]
  },
  {
   "cell_type": "markdown",
   "metadata": {},
   "source": [
    "В таблице 22 столбеца. Тип данных в столбцах  — `object`, `bool`, `float64`, `int64`. Количество значений в столбцах не одинаковое, следовательно в данных есть пропущенные значения.\n",
    "В документе 23699 строк.\n",
    "\n",
    "Согласно документации столбцы называться:\n",
    "*   `total_images` - число фотографий квартиры в объявлении;\n",
    "*   `last_price` — цена на момент снятия с публикации;\n",
    "*   `total_area` — общая площадь квартиры в квадратных метрах (м²);\n",
    "*   `first_day_exposition` — дата публикации;\n",
    "*   `rooms` — число комнат;\n",
    "*   `ceiling_height` — высота потолков (м);\n",
    "*   `floors_total` — всего этажей в доме;\n",
    "*   `living_area` — жилая площадь в квадратных метрах (м²);\n",
    "*   `floor` — этаж;\n",
    "*   `is_apartment` — апартаменты (булев тип);\n",
    "*   `studio` — квартира-студия (булев тип);\n",
    "*   `open_plan` — свободная планировка (булев тип);\n",
    "*   `kitchen_area` — площадь кухни в квадратных метрах (м²);\n",
    "*   `balcony` — число балконов;\n",
    "*   `locality_name` — название населённого пункта;\n",
    "*   `airports_nearest` — расстояние до ближайшего аэропорта в метрах (м);\n",
    "*   `cityCenters_nearest` — расстояние до центра города (м);\n",
    "*   `parks_around3000` — число парков в радиусе 3 км;\n",
    "*   `parks_nearest` — расстояние до ближайшего парка (м);\n",
    "*   `ponds_around3000` — число водоёмов в радиусе 3 км;\n",
    "*   `ponds_nearest` — расстояние до ближайшего водоёма (м);\n",
    "*   `days_exposition` — сколько дней было размещено объявление (от публикации до снятия);"
   ]
  },
  {
   "cell_type": "markdown",
   "metadata": {},
   "source": [
    "**Подсчет пропусков в столбцах:**"
   ]
  },
  {
   "cell_type": "code",
   "execution_count": 4,
   "metadata": {},
   "outputs": [
    {
     "data": {
      "text/plain": [
       "total_images                0\n",
       "last_price                  0\n",
       "total_area                  0\n",
       "first_day_exposition        0\n",
       "rooms                       0\n",
       "ceiling_height           9195\n",
       "floors_total               86\n",
       "living_area              1903\n",
       "floor                       0\n",
       "is_apartment            20924\n",
       "studio                      0\n",
       "open_plan                   0\n",
       "kitchen_area             2278\n",
       "balcony                 11519\n",
       "locality_name              49\n",
       "airports_nearest         5542\n",
       "cityCenters_nearest      5519\n",
       "parks_around3000         5518\n",
       "parks_nearest           15620\n",
       "ponds_around3000         5518\n",
       "ponds_nearest           14589\n",
       "days_exposition          3181\n",
       "dtype: int64"
      ]
     },
     "execution_count": 4,
     "metadata": {},
     "output_type": "execute_result"
    }
   ],
   "source": [
    "df.isna().sum()"
   ]
  },
  {
   "cell_type": "markdown",
   "metadata": {},
   "source": [
    "**Единый стиль названия столбцов**\n",
    "\n",
    "Название столбцов не все отображены в змеином стиле, исправляем:"
   ]
  },
  {
   "cell_type": "code",
   "execution_count": 5,
   "metadata": {},
   "outputs": [
    {
     "data": {
      "text/plain": [
       "Index(['total_images', 'last_price', 'total_area', 'first_day_exposition',\n",
       "       'rooms', 'ceiling_height', 'floors_total', 'living_area', 'floor',\n",
       "       'is_apartment', 'studio', 'open_plan', 'kitchen_area', 'balcony',\n",
       "       'locality_name', 'airports_nearest', 'cityCenters_nearest',\n",
       "       'parks_around3000', 'parks_nearest', 'ponds_around3000',\n",
       "       'ponds_nearest', 'days_exposition'],\n",
       "      dtype='object')"
      ]
     },
     "execution_count": 5,
     "metadata": {},
     "output_type": "execute_result"
    }
   ],
   "source": [
    "df.columns"
   ]
  },
  {
   "cell_type": "code",
   "execution_count": 6,
   "metadata": {},
   "outputs": [
    {
     "data": {
      "text/plain": [
       "Index(['total_images', 'last_price', 'total_area', 'first_day_exposition',\n",
       "       'rooms', 'ceiling_height', 'floors_total', 'living_area', 'floor',\n",
       "       'is_apartment', 'studio', 'open_plan', 'kitchen_area', 'balcony',\n",
       "       'locality_name', 'airports_nearest', 'city_centers_nearest',\n",
       "       'parks_around_3000', 'parks_nearest', 'ponds_around_3000',\n",
       "       'ponds_nearest', 'days_exposition'],\n",
       "      dtype='object')"
      ]
     },
     "execution_count": 6,
     "metadata": {},
     "output_type": "execute_result"
    }
   ],
   "source": [
    "df = (df.rename(columns={'cityCenters_nearest':'city_centers_nearest',\n",
    "                         'parks_around3000':'parks_around_3000', \n",
    "                         'ponds_around3000':'ponds_around_3000'}))\n",
    "df.columns#контрольная проверка"
   ]
  },
  {
   "cell_type": "markdown",
   "metadata": {},
   "source": [
    "**Анализ непрерывных значений**"
   ]
  },
  {
   "cell_type": "code",
   "execution_count": 7,
   "metadata": {},
   "outputs": [
    {
     "data": {
      "text/html": [
       "<div>\n",
       "<style scoped>\n",
       "    .dataframe tbody tr th:only-of-type {\n",
       "        vertical-align: middle;\n",
       "    }\n",
       "\n",
       "    .dataframe tbody tr th {\n",
       "        vertical-align: top;\n",
       "    }\n",
       "\n",
       "    .dataframe thead th {\n",
       "        text-align: right;\n",
       "    }\n",
       "</style>\n",
       "<table border=\"1\" class=\"dataframe\">\n",
       "  <thead>\n",
       "    <tr style=\"text-align: right;\">\n",
       "      <th></th>\n",
       "      <th>total_images</th>\n",
       "      <th>last_price</th>\n",
       "      <th>total_area</th>\n",
       "      <th>rooms</th>\n",
       "      <th>ceiling_height</th>\n",
       "      <th>floors_total</th>\n",
       "      <th>living_area</th>\n",
       "      <th>floor</th>\n",
       "      <th>kitchen_area</th>\n",
       "      <th>balcony</th>\n",
       "      <th>airports_nearest</th>\n",
       "      <th>city_centers_nearest</th>\n",
       "      <th>parks_around_3000</th>\n",
       "      <th>parks_nearest</th>\n",
       "      <th>ponds_around_3000</th>\n",
       "      <th>ponds_nearest</th>\n",
       "      <th>days_exposition</th>\n",
       "    </tr>\n",
       "  </thead>\n",
       "  <tbody>\n",
       "    <tr>\n",
       "      <th>count</th>\n",
       "      <td>23699.000000</td>\n",
       "      <td>2.369900e+04</td>\n",
       "      <td>23699.000000</td>\n",
       "      <td>23699.000000</td>\n",
       "      <td>14504.000000</td>\n",
       "      <td>23613.000000</td>\n",
       "      <td>21796.000000</td>\n",
       "      <td>23699.000000</td>\n",
       "      <td>21421.000000</td>\n",
       "      <td>12180.000000</td>\n",
       "      <td>18157.000000</td>\n",
       "      <td>18180.000000</td>\n",
       "      <td>18181.000000</td>\n",
       "      <td>8079.000000</td>\n",
       "      <td>18181.000000</td>\n",
       "      <td>9110.000000</td>\n",
       "      <td>20518.000000</td>\n",
       "    </tr>\n",
       "    <tr>\n",
       "      <th>mean</th>\n",
       "      <td>9.858475</td>\n",
       "      <td>6.541549e+06</td>\n",
       "      <td>60.348651</td>\n",
       "      <td>2.070636</td>\n",
       "      <td>2.771499</td>\n",
       "      <td>10.673824</td>\n",
       "      <td>34.457852</td>\n",
       "      <td>5.892358</td>\n",
       "      <td>10.569807</td>\n",
       "      <td>1.150082</td>\n",
       "      <td>28793.672193</td>\n",
       "      <td>14191.277833</td>\n",
       "      <td>0.611408</td>\n",
       "      <td>490.804555</td>\n",
       "      <td>0.770255</td>\n",
       "      <td>517.980900</td>\n",
       "      <td>180.888634</td>\n",
       "    </tr>\n",
       "    <tr>\n",
       "      <th>std</th>\n",
       "      <td>5.682529</td>\n",
       "      <td>1.088701e+07</td>\n",
       "      <td>35.654083</td>\n",
       "      <td>1.078405</td>\n",
       "      <td>1.261056</td>\n",
       "      <td>6.597173</td>\n",
       "      <td>22.030445</td>\n",
       "      <td>4.885249</td>\n",
       "      <td>5.905438</td>\n",
       "      <td>1.071300</td>\n",
       "      <td>12630.880622</td>\n",
       "      <td>8608.386210</td>\n",
       "      <td>0.802074</td>\n",
       "      <td>342.317995</td>\n",
       "      <td>0.938346</td>\n",
       "      <td>277.720643</td>\n",
       "      <td>219.727988</td>\n",
       "    </tr>\n",
       "    <tr>\n",
       "      <th>min</th>\n",
       "      <td>0.000000</td>\n",
       "      <td>1.219000e+04</td>\n",
       "      <td>12.000000</td>\n",
       "      <td>0.000000</td>\n",
       "      <td>1.000000</td>\n",
       "      <td>1.000000</td>\n",
       "      <td>2.000000</td>\n",
       "      <td>1.000000</td>\n",
       "      <td>1.300000</td>\n",
       "      <td>0.000000</td>\n",
       "      <td>0.000000</td>\n",
       "      <td>181.000000</td>\n",
       "      <td>0.000000</td>\n",
       "      <td>1.000000</td>\n",
       "      <td>0.000000</td>\n",
       "      <td>13.000000</td>\n",
       "      <td>1.000000</td>\n",
       "    </tr>\n",
       "    <tr>\n",
       "      <th>25%</th>\n",
       "      <td>6.000000</td>\n",
       "      <td>3.400000e+06</td>\n",
       "      <td>40.000000</td>\n",
       "      <td>1.000000</td>\n",
       "      <td>2.520000</td>\n",
       "      <td>5.000000</td>\n",
       "      <td>18.600000</td>\n",
       "      <td>2.000000</td>\n",
       "      <td>7.000000</td>\n",
       "      <td>0.000000</td>\n",
       "      <td>18585.000000</td>\n",
       "      <td>9238.000000</td>\n",
       "      <td>0.000000</td>\n",
       "      <td>288.000000</td>\n",
       "      <td>0.000000</td>\n",
       "      <td>294.000000</td>\n",
       "      <td>45.000000</td>\n",
       "    </tr>\n",
       "    <tr>\n",
       "      <th>50%</th>\n",
       "      <td>9.000000</td>\n",
       "      <td>4.650000e+06</td>\n",
       "      <td>52.000000</td>\n",
       "      <td>2.000000</td>\n",
       "      <td>2.650000</td>\n",
       "      <td>9.000000</td>\n",
       "      <td>30.000000</td>\n",
       "      <td>4.000000</td>\n",
       "      <td>9.100000</td>\n",
       "      <td>1.000000</td>\n",
       "      <td>26726.000000</td>\n",
       "      <td>13098.500000</td>\n",
       "      <td>0.000000</td>\n",
       "      <td>455.000000</td>\n",
       "      <td>1.000000</td>\n",
       "      <td>502.000000</td>\n",
       "      <td>95.000000</td>\n",
       "    </tr>\n",
       "    <tr>\n",
       "      <th>75%</th>\n",
       "      <td>14.000000</td>\n",
       "      <td>6.800000e+06</td>\n",
       "      <td>69.900000</td>\n",
       "      <td>3.000000</td>\n",
       "      <td>2.800000</td>\n",
       "      <td>16.000000</td>\n",
       "      <td>42.300000</td>\n",
       "      <td>8.000000</td>\n",
       "      <td>12.000000</td>\n",
       "      <td>2.000000</td>\n",
       "      <td>37273.000000</td>\n",
       "      <td>16293.000000</td>\n",
       "      <td>1.000000</td>\n",
       "      <td>612.000000</td>\n",
       "      <td>1.000000</td>\n",
       "      <td>729.000000</td>\n",
       "      <td>232.000000</td>\n",
       "    </tr>\n",
       "    <tr>\n",
       "      <th>max</th>\n",
       "      <td>50.000000</td>\n",
       "      <td>7.630000e+08</td>\n",
       "      <td>900.000000</td>\n",
       "      <td>19.000000</td>\n",
       "      <td>100.000000</td>\n",
       "      <td>60.000000</td>\n",
       "      <td>409.700000</td>\n",
       "      <td>33.000000</td>\n",
       "      <td>112.000000</td>\n",
       "      <td>5.000000</td>\n",
       "      <td>84869.000000</td>\n",
       "      <td>65968.000000</td>\n",
       "      <td>3.000000</td>\n",
       "      <td>3190.000000</td>\n",
       "      <td>3.000000</td>\n",
       "      <td>1344.000000</td>\n",
       "      <td>1580.000000</td>\n",
       "    </tr>\n",
       "  </tbody>\n",
       "</table>\n",
       "</div>"
      ],
      "text/plain": [
       "       total_images    last_price    total_area         rooms  ceiling_height  \\\n",
       "count  23699.000000  2.369900e+04  23699.000000  23699.000000    14504.000000   \n",
       "mean       9.858475  6.541549e+06     60.348651      2.070636        2.771499   \n",
       "std        5.682529  1.088701e+07     35.654083      1.078405        1.261056   \n",
       "min        0.000000  1.219000e+04     12.000000      0.000000        1.000000   \n",
       "25%        6.000000  3.400000e+06     40.000000      1.000000        2.520000   \n",
       "50%        9.000000  4.650000e+06     52.000000      2.000000        2.650000   \n",
       "75%       14.000000  6.800000e+06     69.900000      3.000000        2.800000   \n",
       "max       50.000000  7.630000e+08    900.000000     19.000000      100.000000   \n",
       "\n",
       "       floors_total   living_area         floor  kitchen_area       balcony  \\\n",
       "count  23613.000000  21796.000000  23699.000000  21421.000000  12180.000000   \n",
       "mean      10.673824     34.457852      5.892358     10.569807      1.150082   \n",
       "std        6.597173     22.030445      4.885249      5.905438      1.071300   \n",
       "min        1.000000      2.000000      1.000000      1.300000      0.000000   \n",
       "25%        5.000000     18.600000      2.000000      7.000000      0.000000   \n",
       "50%        9.000000     30.000000      4.000000      9.100000      1.000000   \n",
       "75%       16.000000     42.300000      8.000000     12.000000      2.000000   \n",
       "max       60.000000    409.700000     33.000000    112.000000      5.000000   \n",
       "\n",
       "       airports_nearest  city_centers_nearest  parks_around_3000  \\\n",
       "count      18157.000000          18180.000000       18181.000000   \n",
       "mean       28793.672193          14191.277833           0.611408   \n",
       "std        12630.880622           8608.386210           0.802074   \n",
       "min            0.000000            181.000000           0.000000   \n",
       "25%        18585.000000           9238.000000           0.000000   \n",
       "50%        26726.000000          13098.500000           0.000000   \n",
       "75%        37273.000000          16293.000000           1.000000   \n",
       "max        84869.000000          65968.000000           3.000000   \n",
       "\n",
       "       parks_nearest  ponds_around_3000  ponds_nearest  days_exposition  \n",
       "count    8079.000000       18181.000000    9110.000000     20518.000000  \n",
       "mean      490.804555           0.770255     517.980900       180.888634  \n",
       "std       342.317995           0.938346     277.720643       219.727988  \n",
       "min         1.000000           0.000000      13.000000         1.000000  \n",
       "25%       288.000000           0.000000     294.000000        45.000000  \n",
       "50%       455.000000           1.000000     502.000000        95.000000  \n",
       "75%       612.000000           1.000000     729.000000       232.000000  \n",
       "max      3190.000000           3.000000    1344.000000      1580.000000  "
      ]
     },
     "execution_count": 7,
     "metadata": {},
     "output_type": "execute_result"
    }
   ],
   "source": [
    "df.describe() #общее представление о данных"
   ]
  },
  {
   "cell_type": "markdown",
   "metadata": {},
   "source": [
    "**Заполнение и аргументация пропущенных значений:** \n",
    "1.   floors_total\n",
    "1.   locality_name\n",
    "2.   city_centers_nearest3\n",
    "3.   parks_nearest \n",
    "4.   ponds_nearest \n",
    "5. ceiling_height\n",
    "*    days_exposition\n"
   ]
  },
  {
   "cell_type": "markdown",
   "metadata": {},
   "source": [
    "**Пропущенные значения `floors_total`** \n",
    "Столбец стоит отчистить от пропусков, чтобы потом не было проблем с постороением графиков."
   ]
  },
  {
   "cell_type": "code",
   "execution_count": 8,
   "metadata": {},
   "outputs": [],
   "source": [
    "df = df.dropna(subset=['floors_total']) \n",
    "#заполнение средним значением кол-во этажей, в дальнейшем это значение нам понадобится"
   ]
  },
  {
   "cell_type": "markdown",
   "metadata": {},
   "source": [
    "**Столбец `locality_name` содержит пропуски.**\n",
    "\n",
    "Данный параметр достаточно важный, от места расположения недвижимости напрямую зависит цена. Пропусков содержится не так много поэтому их можно спокойно удалить из таблицы и это не отразиться на общей картине данных"
   ]
  },
  {
   "cell_type": "code",
   "execution_count": 9,
   "metadata": {},
   "outputs": [],
   "source": [
    "#удаляем строки из столбца с отсутствующеми значениями \n",
    "df = df.dropna(subset=['locality_name']) "
   ]
  },
  {
   "cell_type": "markdown",
   "metadata": {},
   "source": [
    "**Пропуски в столбце `city_centers_nearest`**\n",
    "\n",
    "В данном столбце тоже необходимо обработать пропуски, т.к. в дальнейшем нам понадобиться расстояние до центра города. \"+\" группа пропусков достаточно немаленькая."
   ]
  },
  {
   "cell_type": "code",
   "execution_count": 10,
   "metadata": {},
   "outputs": [
    {
     "data": {
      "text/html": [
       "<div>\n",
       "<style scoped>\n",
       "    .dataframe tbody tr th:only-of-type {\n",
       "        vertical-align: middle;\n",
       "    }\n",
       "\n",
       "    .dataframe tbody tr th {\n",
       "        vertical-align: top;\n",
       "    }\n",
       "\n",
       "    .dataframe thead th {\n",
       "        text-align: right;\n",
       "    }\n",
       "</style>\n",
       "<table border=\"1\" class=\"dataframe\">\n",
       "  <thead>\n",
       "    <tr style=\"text-align: right;\">\n",
       "      <th></th>\n",
       "      <th>total_images</th>\n",
       "      <th>last_price</th>\n",
       "      <th>total_area</th>\n",
       "      <th>first_day_exposition</th>\n",
       "      <th>rooms</th>\n",
       "      <th>ceiling_height</th>\n",
       "      <th>floors_total</th>\n",
       "      <th>living_area</th>\n",
       "      <th>floor</th>\n",
       "      <th>is_apartment</th>\n",
       "      <th>...</th>\n",
       "      <th>kitchen_area</th>\n",
       "      <th>balcony</th>\n",
       "      <th>locality_name</th>\n",
       "      <th>airports_nearest</th>\n",
       "      <th>city_centers_nearest</th>\n",
       "      <th>parks_around_3000</th>\n",
       "      <th>parks_nearest</th>\n",
       "      <th>ponds_around_3000</th>\n",
       "      <th>ponds_nearest</th>\n",
       "      <th>days_exposition</th>\n",
       "    </tr>\n",
       "  </thead>\n",
       "  <tbody>\n",
       "    <tr>\n",
       "      <th>5</th>\n",
       "      <td>10</td>\n",
       "      <td>2890000.0</td>\n",
       "      <td>30.40</td>\n",
       "      <td>2018-09-10T00:00:00</td>\n",
       "      <td>1</td>\n",
       "      <td>NaN</td>\n",
       "      <td>12.0</td>\n",
       "      <td>14.40</td>\n",
       "      <td>5</td>\n",
       "      <td>NaN</td>\n",
       "      <td>...</td>\n",
       "      <td>9.10</td>\n",
       "      <td>NaN</td>\n",
       "      <td>городской посёлок Янино-1</td>\n",
       "      <td>NaN</td>\n",
       "      <td>NaN</td>\n",
       "      <td>NaN</td>\n",
       "      <td>NaN</td>\n",
       "      <td>NaN</td>\n",
       "      <td>NaN</td>\n",
       "      <td>55.0</td>\n",
       "    </tr>\n",
       "    <tr>\n",
       "      <th>8</th>\n",
       "      <td>20</td>\n",
       "      <td>2900000.0</td>\n",
       "      <td>33.16</td>\n",
       "      <td>2018-05-23T00:00:00</td>\n",
       "      <td>1</td>\n",
       "      <td>NaN</td>\n",
       "      <td>27.0</td>\n",
       "      <td>15.43</td>\n",
       "      <td>26</td>\n",
       "      <td>NaN</td>\n",
       "      <td>...</td>\n",
       "      <td>8.81</td>\n",
       "      <td>NaN</td>\n",
       "      <td>посёлок Мурино</td>\n",
       "      <td>NaN</td>\n",
       "      <td>NaN</td>\n",
       "      <td>NaN</td>\n",
       "      <td>NaN</td>\n",
       "      <td>NaN</td>\n",
       "      <td>NaN</td>\n",
       "      <td>189.0</td>\n",
       "    </tr>\n",
       "    <tr>\n",
       "      <th>12</th>\n",
       "      <td>10</td>\n",
       "      <td>3890000.0</td>\n",
       "      <td>54.00</td>\n",
       "      <td>2016-06-30T00:00:00</td>\n",
       "      <td>2</td>\n",
       "      <td>NaN</td>\n",
       "      <td>5.0</td>\n",
       "      <td>30.00</td>\n",
       "      <td>5</td>\n",
       "      <td>NaN</td>\n",
       "      <td>...</td>\n",
       "      <td>9.00</td>\n",
       "      <td>0.0</td>\n",
       "      <td>Сертолово</td>\n",
       "      <td>NaN</td>\n",
       "      <td>NaN</td>\n",
       "      <td>NaN</td>\n",
       "      <td>NaN</td>\n",
       "      <td>NaN</td>\n",
       "      <td>NaN</td>\n",
       "      <td>90.0</td>\n",
       "    </tr>\n",
       "    <tr>\n",
       "      <th>22</th>\n",
       "      <td>20</td>\n",
       "      <td>5000000.0</td>\n",
       "      <td>58.00</td>\n",
       "      <td>2017-04-24T00:00:00</td>\n",
       "      <td>2</td>\n",
       "      <td>2.75</td>\n",
       "      <td>25.0</td>\n",
       "      <td>30.00</td>\n",
       "      <td>15</td>\n",
       "      <td>NaN</td>\n",
       "      <td>...</td>\n",
       "      <td>11.00</td>\n",
       "      <td>2.0</td>\n",
       "      <td>деревня Кудрово</td>\n",
       "      <td>NaN</td>\n",
       "      <td>NaN</td>\n",
       "      <td>NaN</td>\n",
       "      <td>NaN</td>\n",
       "      <td>NaN</td>\n",
       "      <td>NaN</td>\n",
       "      <td>60.0</td>\n",
       "    </tr>\n",
       "    <tr>\n",
       "      <th>30</th>\n",
       "      <td>12</td>\n",
       "      <td>2200000.0</td>\n",
       "      <td>32.80</td>\n",
       "      <td>2018-02-19T00:00:00</td>\n",
       "      <td>1</td>\n",
       "      <td>NaN</td>\n",
       "      <td>9.0</td>\n",
       "      <td>NaN</td>\n",
       "      <td>2</td>\n",
       "      <td>NaN</td>\n",
       "      <td>...</td>\n",
       "      <td>NaN</td>\n",
       "      <td>NaN</td>\n",
       "      <td>Коммунар</td>\n",
       "      <td>NaN</td>\n",
       "      <td>NaN</td>\n",
       "      <td>NaN</td>\n",
       "      <td>NaN</td>\n",
       "      <td>NaN</td>\n",
       "      <td>NaN</td>\n",
       "      <td>63.0</td>\n",
       "    </tr>\n",
       "  </tbody>\n",
       "</table>\n",
       "<p>5 rows × 22 columns</p>\n",
       "</div>"
      ],
      "text/plain": [
       "    total_images  last_price  total_area first_day_exposition  rooms  \\\n",
       "5             10   2890000.0       30.40  2018-09-10T00:00:00      1   \n",
       "8             20   2900000.0       33.16  2018-05-23T00:00:00      1   \n",
       "12            10   3890000.0       54.00  2016-06-30T00:00:00      2   \n",
       "22            20   5000000.0       58.00  2017-04-24T00:00:00      2   \n",
       "30            12   2200000.0       32.80  2018-02-19T00:00:00      1   \n",
       "\n",
       "    ceiling_height  floors_total  living_area  floor is_apartment  ...  \\\n",
       "5              NaN          12.0        14.40      5          NaN  ...   \n",
       "8              NaN          27.0        15.43     26          NaN  ...   \n",
       "12             NaN           5.0        30.00      5          NaN  ...   \n",
       "22            2.75          25.0        30.00     15          NaN  ...   \n",
       "30             NaN           9.0          NaN      2          NaN  ...   \n",
       "\n",
       "    kitchen_area  balcony              locality_name  airports_nearest  \\\n",
       "5           9.10      NaN  городской посёлок Янино-1               NaN   \n",
       "8           8.81      NaN             посёлок Мурино               NaN   \n",
       "12          9.00      0.0                  Сертолово               NaN   \n",
       "22         11.00      2.0            деревня Кудрово               NaN   \n",
       "30           NaN      NaN                   Коммунар               NaN   \n",
       "\n",
       "   city_centers_nearest  parks_around_3000  parks_nearest  ponds_around_3000  \\\n",
       "5                   NaN                NaN            NaN                NaN   \n",
       "8                   NaN                NaN            NaN                NaN   \n",
       "12                  NaN                NaN            NaN                NaN   \n",
       "22                  NaN                NaN            NaN                NaN   \n",
       "30                  NaN                NaN            NaN                NaN   \n",
       "\n",
       "    ponds_nearest  days_exposition  \n",
       "5             NaN             55.0  \n",
       "8             NaN            189.0  \n",
       "12            NaN             90.0  \n",
       "22            NaN             60.0  \n",
       "30            NaN             63.0  \n",
       "\n",
       "[5 rows x 22 columns]"
      ]
     },
     "execution_count": 10,
     "metadata": {},
     "output_type": "execute_result"
    }
   ],
   "source": [
    "df[(df['city_centers_nearest'].isna()==True)].head() #визуально оцениваем пропуски в других столбцах"
   ]
  },
  {
   "cell_type": "code",
   "execution_count": 11,
   "metadata": {},
   "outputs": [],
   "source": [
    "df = df.dropna(subset=['city_centers_nearest']).reset_index(drop=True) #удаляем пустые строки, обновление индексов"
   ]
  },
  {
   "cell_type": "markdown",
   "metadata": {},
   "source": [
    "**Вывод:**\n",
    "как мы видим пропуски есть не только в `city_centers_nearest` но и в других уточняющих группах уточняющих окружающую инфраструктуру объекта недвижимости. Эти данные я удалил."
   ]
  },
  {
   "cell_type": "markdown",
   "metadata": {},
   "source": [
    "**Заполнение количество `parks_nearest` и `ponds_nearest`**\n",
    "\n",
    "Если в радиусе 3000 м нет указанного объекта, то `NaN` заменяем на 0."
   ]
  },
  {
   "cell_type": "code",
   "execution_count": 12,
   "metadata": {},
   "outputs": [],
   "source": [
    "#выявление пропусков и заполнение 0\n",
    "df['parks_nearest'] = df['parks_nearest'].fillna(0)\n",
    "df['ponds_nearest'] = df['ponds_nearest'].fillna(0)\n",
    "\n",
    "#df[(df['ponds_nearest'].isna()==True) & (df['ponds_around_3000']==0)]"
   ]
  },
  {
   "cell_type": "markdown",
   "metadata": {},
   "source": [
    "Заполнение пропусков в столбце `ceiling_height` медтаной."
   ]
  },
  {
   "cell_type": "code",
   "execution_count": 13,
   "metadata": {},
   "outputs": [],
   "source": [
    "df['ceiling_height'] = df['ceiling_height'].fillna(df['ceiling_height'].median())"
   ]
  },
  {
   "cell_type": "markdown",
   "metadata": {},
   "source": [
    "**Вывод:** Не все столбцы будут необходимы в дальнейшем, поэтому нет смысла заполнять все досконально."
   ]
  },
  {
   "cell_type": "markdown",
   "metadata": {},
   "source": [
    "### **Аномалии и не корректные данные**"
   ]
  },
  {
   "cell_type": "markdown",
   "metadata": {},
   "source": [
    "В столбце `rooms` не может быть ноль. "
   ]
  },
  {
   "cell_type": "code",
   "execution_count": 14,
   "metadata": {},
   "outputs": [],
   "source": [
    "df = df.query('rooms != 0') #исключаем из таблицы "
   ]
  },
  {
   "cell_type": "markdown",
   "metadata": {},
   "source": [
    "`ceiling_height` значения > 8 не могут быть.\n",
    "\n",
    "хотел разделить значения > 8 на 10 чтобы сохранить значения, но не хватило понимания как можно потом сохранить имеющиеся значение среди тех значений которые не выполняют условие. Поэтому просто удалил"
   ]
  },
  {
   "cell_type": "code",
   "execution_count": 15,
   "metadata": {},
   "outputs": [],
   "source": [
    "df = df[(df['ceiling_height'] < 8)|(df['ceiling_height'].isna()==True)]"
   ]
  },
  {
   "cell_type": "markdown",
   "metadata": {},
   "source": [
    "`day_publication` удаляем те значения, где нет значений, потому что в данных указаны объявления о закрытых сделках\n",
    "\n",
    "\n"
   ]
  },
  {
   "cell_type": "code",
   "execution_count": 16,
   "metadata": {},
   "outputs": [],
   "source": [
    "df = df.dropna(subset=['days_exposition']).reset_index(drop=True)"
   ]
  },
  {
   "cell_type": "code",
   "execution_count": 17,
   "metadata": {},
   "outputs": [
    {
     "data": {
      "text/plain": [
       "total_images                0\n",
       "last_price                  0\n",
       "total_area                  0\n",
       "first_day_exposition        0\n",
       "rooms                       0\n",
       "ceiling_height              0\n",
       "floors_total                0\n",
       "living_area              1114\n",
       "floor                       0\n",
       "is_apartment            13707\n",
       "studio                      0\n",
       "open_plan                   0\n",
       "kitchen_area             1259\n",
       "balcony                  7155\n",
       "locality_name               0\n",
       "airports_nearest           22\n",
       "city_centers_nearest        0\n",
       "parks_around_3000           0\n",
       "parks_nearest               0\n",
       "ponds_around_3000           0\n",
       "ponds_nearest               0\n",
       "days_exposition             0\n",
       "dtype: int64"
      ]
     },
     "execution_count": 17,
     "metadata": {},
     "output_type": "execute_result"
    }
   ],
   "source": [
    "df.isna().sum()#результат после всех манипуляций"
   ]
  },
  {
   "cell_type": "markdown",
   "metadata": {},
   "source": [
    "**Заключение** \n",
    "\n",
    "Причиной пропусков в таблице могут быть по 2 причинам. Механические: не рассчитанное расстояние до аэропорта или рассчитано но в определенном радиусе нет подходящего объекта выведено «Nan», а не «0». Это относиться и к паркам, водоемам.\n",
    "    \n",
    "Второй тип пропусков, это если человек указал не корректно данные или вовсе не указала. Например, если пользователь не указан населенный пункт, то и расчет других вытекающих параметров в программе не произошел. Например расстояние до центра."
   ]
  },
  {
   "cell_type": "markdown",
   "metadata": {},
   "source": [
    "**Изменение типа данных в столбцах**"
   ]
  },
  {
   "cell_type": "markdown",
   "metadata": {},
   "source": [
    "`last_price` в данном столбце стоит избавить от лишних знаков чтобы не был загруженный"
   ]
  },
  {
   "cell_type": "code",
   "execution_count": 18,
   "metadata": {},
   "outputs": [],
   "source": [
    "#округление цены до целого числа\n",
    "df['last_price'] = df['last_price'].astype(int) "
   ]
  },
  {
   "cell_type": "markdown",
   "metadata": {},
   "source": [
    "Так же `floors_total` приводим к целому числу чтобы не загружать таблицу"
   ]
  },
  {
   "cell_type": "code",
   "execution_count": 19,
   "metadata": {},
   "outputs": [],
   "source": [
    "#этаж может быть только натуральным числом, избавляемся от лишних 0\n",
    "df['floors_total'] = df['floors_total'].astype(int) "
   ]
  },
  {
   "cell_type": "markdown",
   "metadata": {},
   "source": [
    "`is_apartment` указан в документации как булев bool, на деле object."
   ]
  },
  {
   "cell_type": "code",
   "execution_count": 20,
   "metadata": {},
   "outputs": [],
   "source": [
    "df['is_apartment'] = df['is_apartment'].fillna(False)"
   ]
  },
  {
   "cell_type": "markdown",
   "metadata": {},
   "source": [
    "**поиск не явных дубликатов в названиях населенного пункта**\n",
    "\n",
    "(явные дубликаты в таблице отсутствуют)\n",
    "\n",
    "В каких городах размещались когда либо объявления:"
   ]
  },
  {
   "cell_type": "code",
   "execution_count": 21,
   "metadata": {},
   "outputs": [
    {
     "data": {
      "text/plain": [
       "array(['Зеленогорск', 'Колпино', 'Красное Село', 'Кронштадт', 'Ломоносов',\n",
       "       'Павловск', 'Петергоф', 'Пушкин', 'Санкт-Петербург', 'Сестрорецк',\n",
       "       'поселок Лисий Нос', 'посёлок Александровская',\n",
       "       'посёлок Белоостров', 'посёлок Левашово', 'посёлок Лисий Нос',\n",
       "       'посёлок Металлострой', 'посёлок Молодёжное', 'посёлок Парголово',\n",
       "       'посёлок Песочный', 'посёлок Понтонный', 'посёлок Репино',\n",
       "       'посёлок Сапёрный', 'посёлок Стрельна', 'посёлок Усть-Ижора',\n",
       "       'посёлок Шушары'], dtype=object)"
      ]
     },
     "execution_count": 21,
     "metadata": {},
     "output_type": "execute_result"
    }
   ],
   "source": [
    "#сортируем по алфавиту\n",
    "df['locality_name'].sort_values().unique() "
   ]
  },
  {
   "cell_type": "markdown",
   "metadata": {},
   "source": [
    "Приводим к одному названию дублирующиеся названию `поселок Лисий Нос`"
   ]
  },
  {
   "cell_type": "code",
   "execution_count": 22,
   "metadata": {},
   "outputs": [],
   "source": [
    "df['locality_name'] = df['locality_name'].replace(['поселок Лисий Нос'], 'посёлок Лисий Нос')\n"
   ]
  },
  {
   "cell_type": "markdown",
   "metadata": {},
   "source": [
    "**Вывод** были обнаружены:\n",
    "нарушения в стиле заголовков,\n",
    "пропущенные значения, \n",
    "не верный тип данных,\n",
    "неявные дубликаты\n",
    "\n",
    "В данном разделе, в данных стало меньше нулей, которые разгрузили таблицу. Исправил тип данных столбцов, чтобы было комфортней в дальнейшем с ними работать. Удалил не явные дубликаты локаций и убрали аномалию с комнатами."
   ]
  },
  {
   "cell_type": "markdown",
   "metadata": {},
   "source": [
    "### Посчитайте и добавьте в таблицу новые столбцы"
   ]
  },
  {
   "cell_type": "markdown",
   "metadata": {},
   "source": [
    "**Расчет цены одного квадратного метра квартиры**\n",
    "\n",
    "Удаляем излишне завышенные или излишне заниженные значения"
   ]
  },
  {
   "cell_type": "code",
   "execution_count": 23,
   "metadata": {},
   "outputs": [],
   "source": [
    "df = df[(100000<df['last_price'])&(500000000>df['last_price'])].reset_index(drop=True)"
   ]
  },
  {
   "cell_type": "markdown",
   "metadata": {},
   "source": [
    "Чтобы рассчитать цену квадратного метра, нужно `last_price` разделить `total_area`"
   ]
  },
  {
   "cell_type": "code",
   "execution_count": 24,
   "metadata": {},
   "outputs": [
    {
     "data": {
      "text/html": [
       "<div>\n",
       "<style scoped>\n",
       "    .dataframe tbody tr th:only-of-type {\n",
       "        vertical-align: middle;\n",
       "    }\n",
       "\n",
       "    .dataframe tbody tr th {\n",
       "        vertical-align: top;\n",
       "    }\n",
       "\n",
       "    .dataframe thead th {\n",
       "        text-align: right;\n",
       "    }\n",
       "</style>\n",
       "<table border=\"1\" class=\"dataframe\">\n",
       "  <thead>\n",
       "    <tr style=\"text-align: right;\">\n",
       "      <th></th>\n",
       "      <th>last_price</th>\n",
       "      <th>total_area</th>\n",
       "      <th>price_area</th>\n",
       "    </tr>\n",
       "  </thead>\n",
       "  <tbody>\n",
       "    <tr>\n",
       "      <th>11800</th>\n",
       "      <td>1800000</td>\n",
       "      <td>117.3</td>\n",
       "      <td>15345.3</td>\n",
       "    </tr>\n",
       "    <tr>\n",
       "      <th>13222</th>\n",
       "      <td>2200000</td>\n",
       "      <td>138.7</td>\n",
       "      <td>15861.6</td>\n",
       "    </tr>\n",
       "    <tr>\n",
       "      <th>14092</th>\n",
       "      <td>3200000</td>\n",
       "      <td>190.0</td>\n",
       "      <td>16842.1</td>\n",
       "    </tr>\n",
       "    <tr>\n",
       "      <th>15428</th>\n",
       "      <td>1600000</td>\n",
       "      <td>92.0</td>\n",
       "      <td>17391.3</td>\n",
       "    </tr>\n",
       "    <tr>\n",
       "      <th>2805</th>\n",
       "      <td>1200000</td>\n",
       "      <td>49.1</td>\n",
       "      <td>24439.9</td>\n",
       "    </tr>\n",
       "    <tr>\n",
       "      <th>...</th>\n",
       "      <td>...</td>\n",
       "      <td>...</td>\n",
       "      <td>...</td>\n",
       "    </tr>\n",
       "    <tr>\n",
       "      <th>11053</th>\n",
       "      <td>122000000</td>\n",
       "      <td>145.0</td>\n",
       "      <td>841379.3</td>\n",
       "    </tr>\n",
       "    <tr>\n",
       "      <th>10926</th>\n",
       "      <td>245000000</td>\n",
       "      <td>285.7</td>\n",
       "      <td>857542.9</td>\n",
       "    </tr>\n",
       "    <tr>\n",
       "      <th>3296</th>\n",
       "      <td>124000000</td>\n",
       "      <td>124.5</td>\n",
       "      <td>995983.9</td>\n",
       "    </tr>\n",
       "    <tr>\n",
       "      <th>9730</th>\n",
       "      <td>401300000</td>\n",
       "      <td>401.0</td>\n",
       "      <td>1000748.1</td>\n",
       "    </tr>\n",
       "    <tr>\n",
       "      <th>973</th>\n",
       "      <td>330000000</td>\n",
       "      <td>190.0</td>\n",
       "      <td>1736842.1</td>\n",
       "    </tr>\n",
       "  </tbody>\n",
       "</table>\n",
       "<p>15631 rows × 3 columns</p>\n",
       "</div>"
      ],
      "text/plain": [
       "       last_price  total_area  price_area\n",
       "11800     1800000       117.3     15345.3\n",
       "13222     2200000       138.7     15861.6\n",
       "14092     3200000       190.0     16842.1\n",
       "15428     1600000        92.0     17391.3\n",
       "2805      1200000        49.1     24439.9\n",
       "...           ...         ...         ...\n",
       "11053   122000000       145.0    841379.3\n",
       "10926   245000000       285.7    857542.9\n",
       "3296    124000000       124.5    995983.9\n",
       "9730    401300000       401.0   1000748.1\n",
       "973     330000000       190.0   1736842.1\n",
       "\n",
       "[15631 rows x 3 columns]"
      ]
     },
     "execution_count": 24,
     "metadata": {},
     "output_type": "execute_result"
    }
   ],
   "source": [
    "df['price_area'] = (df['last_price']/df['total_area']).round(1) #результат округляем до десятых\n",
    "df[['last_price', 'total_area', 'price_area']].sort_values('price_area')"
   ]
  },
  {
   "cell_type": "markdown",
   "metadata": {},
   "source": [
    "**Вывод** самый дешевый м2 стоит чуть больше 15 000, а самый дорогой достигает 1,7 млн. В принципе полученные значения больше 1 млн. можно считать выбросами и в будущем откинуть их. "
   ]
  },
  {
   "cell_type": "markdown",
   "metadata": {},
   "source": [
    "**Добавление столбца с днем публикации, месяцем и годом**\n",
    "\n",
    "В первую очередь нужно в каком формате указана дата и расшифровать ее."
   ]
  },
  {
   "cell_type": "code",
   "execution_count": 25,
   "metadata": {},
   "outputs": [],
   "source": [
    "df['first_day_exposition'] = pd.to_datetime(df['first_day_exposition'], format='%Y-%m-%dT%H:%M:%S')\n",
    "\n",
    "df['week_day'] = df['first_day_exposition'].dt.weekday #День недели \n",
    "\n",
    "df['day'] = df['first_day_exposition'].dt.day # день \n",
    "\n",
    "df['month'] = df['first_day_exposition'].dt.month # месяц\n",
    "\n",
    "df['year'] = df['first_day_exposition'].dt.year  # год "
   ]
  },
  {
   "cell_type": "markdown",
   "metadata": {},
   "source": [
    "**Добавление столбца с типом этажа и квартиры**"
   ]
  },
  {
   "cell_type": "code",
   "execution_count": 26,
   "metadata": {},
   "outputs": [],
   "source": [
    "def floor_df(type):\n",
    "  floor = type['floor']\n",
    "  level = type['floors_total']\n",
    "\n",
    "  if floor == 1:\n",
    "    return 'первый'\n",
    "  \n",
    "  elif floor == level:\n",
    "    return 'последний'\n",
    "  \n",
    "  else:\n",
    "    return 'другой'"
   ]
  },
  {
   "cell_type": "code",
   "execution_count": 27,
   "metadata": {},
   "outputs": [],
   "source": [
    "df['floor_type'] = df.apply(floor_df, axis=1)"
   ]
  },
  {
   "cell_type": "code",
   "execution_count": 28,
   "metadata": {},
   "outputs": [
    {
     "data": {
      "text/plain": [
       "другой       11941\n",
       "последний     1999\n",
       "первый        1691\n",
       "Name: floor_type, dtype: int64"
      ]
     },
     "execution_count": 28,
     "metadata": {},
     "output_type": "execute_result"
    }
   ],
   "source": [
    "df['floor_type'].value_counts()"
   ]
  },
  {
   "cell_type": "markdown",
   "metadata": {},
   "source": [
    "**Вывод** квартиры в большинстве своем продаются на промежуточных этажах, нежели чем на крайних. "
   ]
  },
  {
   "cell_type": "markdown",
   "metadata": {},
   "source": [
    "### **Расстояние в км до центра города**\n",
    "\n",
    "Надо перевести `city_centers_nearest` из метров в километры. Разделим столбец на `1000`\n"
   ]
  },
  {
   "cell_type": "code",
   "execution_count": 29,
   "metadata": {},
   "outputs": [],
   "source": [
    "df['city_centers_nearest_km'] = df['city_centers_nearest']/1000\n",
    "df['city_centers_nearest_km'] = df['city_centers_nearest_km'].round(0)"
   ]
  },
  {
   "cell_type": "markdown",
   "metadata": {},
   "source": [
    "**Вывод** все те значения, которые меньше 1 относятся к объявлениям из центра Санкт-Петербурга. Так что за отправную точку взят центр Петера."
   ]
  },
  {
   "cell_type": "markdown",
   "metadata": {},
   "source": [
    "## Проведение исследовательского анализа данных"
   ]
  },
  {
   "cell_type": "code",
   "execution_count": 30,
   "metadata": {},
   "outputs": [
    {
     "name": "stdout",
     "output_type": "stream",
     "text": [
      "total_area                 0\n",
      "living_area             1114\n",
      "kitchen_area            1258\n",
      "last_price                 0\n",
      "rooms                      0\n",
      "ceiling_height             0\n",
      "floor                      0\n",
      "floor_type                 0\n",
      "floors_total               0\n",
      "city_centers_nearest       0\n",
      "airports_nearest          22\n",
      "parks_nearest              0\n",
      "week_day                   0\n",
      "month                      0\n",
      "dtype: int64\n"
     ]
    },
    {
     "data": {
      "text/html": [
       "<div>\n",
       "<style scoped>\n",
       "    .dataframe tbody tr th:only-of-type {\n",
       "        vertical-align: middle;\n",
       "    }\n",
       "\n",
       "    .dataframe tbody tr th {\n",
       "        vertical-align: top;\n",
       "    }\n",
       "\n",
       "    .dataframe thead th {\n",
       "        text-align: right;\n",
       "    }\n",
       "</style>\n",
       "<table border=\"1\" class=\"dataframe\">\n",
       "  <thead>\n",
       "    <tr style=\"text-align: right;\">\n",
       "      <th></th>\n",
       "      <th>total_area</th>\n",
       "      <th>living_area</th>\n",
       "      <th>kitchen_area</th>\n",
       "      <th>last_price</th>\n",
       "      <th>rooms</th>\n",
       "      <th>ceiling_height</th>\n",
       "      <th>floor</th>\n",
       "      <th>floors_total</th>\n",
       "      <th>city_centers_nearest</th>\n",
       "      <th>airports_nearest</th>\n",
       "      <th>parks_nearest</th>\n",
       "      <th>week_day</th>\n",
       "      <th>month</th>\n",
       "    </tr>\n",
       "  </thead>\n",
       "  <tbody>\n",
       "    <tr>\n",
       "      <th>count</th>\n",
       "      <td>15631.000000</td>\n",
       "      <td>14517.000000</td>\n",
       "      <td>14373.000000</td>\n",
       "      <td>1.563100e+04</td>\n",
       "      <td>15631.000000</td>\n",
       "      <td>15631.000000</td>\n",
       "      <td>15631.000000</td>\n",
       "      <td>15631.000000</td>\n",
       "      <td>15631.000000</td>\n",
       "      <td>15609.000000</td>\n",
       "      <td>15631.000000</td>\n",
       "      <td>15631.000000</td>\n",
       "      <td>15631.000000</td>\n",
       "    </tr>\n",
       "    <tr>\n",
       "      <th>mean</th>\n",
       "      <td>61.768871</td>\n",
       "      <td>35.143525</td>\n",
       "      <td>10.745487</td>\n",
       "      <td>7.178331e+06</td>\n",
       "      <td>2.104344</td>\n",
       "      <td>2.712587</td>\n",
       "      <td>6.163841</td>\n",
       "      <td>11.245090</td>\n",
       "      <td>14303.418015</td>\n",
       "      <td>28875.316292</td>\n",
       "      <td>215.019513</td>\n",
       "      <td>2.578082</td>\n",
       "      <td>6.587039</td>\n",
       "    </tr>\n",
       "    <tr>\n",
       "      <th>std</th>\n",
       "      <td>36.871525</td>\n",
       "      <td>22.945599</td>\n",
       "      <td>6.081097</td>\n",
       "      <td>1.057288e+07</td>\n",
       "      <td>1.087320</td>\n",
       "      <td>0.226038</td>\n",
       "      <td>4.951146</td>\n",
       "      <td>6.554628</td>\n",
       "      <td>8584.782992</td>\n",
       "      <td>12708.674642</td>\n",
       "      <td>333.713605</td>\n",
       "      <td>1.776949</td>\n",
       "      <td>3.469521</td>\n",
       "    </tr>\n",
       "    <tr>\n",
       "      <th>min</th>\n",
       "      <td>12.000000</td>\n",
       "      <td>2.000000</td>\n",
       "      <td>2.000000</td>\n",
       "      <td>1.190000e+06</td>\n",
       "      <td>1.000000</td>\n",
       "      <td>1.000000</td>\n",
       "      <td>1.000000</td>\n",
       "      <td>1.000000</td>\n",
       "      <td>208.000000</td>\n",
       "      <td>0.000000</td>\n",
       "      <td>0.000000</td>\n",
       "      <td>0.000000</td>\n",
       "      <td>1.000000</td>\n",
       "    </tr>\n",
       "    <tr>\n",
       "      <th>25%</th>\n",
       "      <td>41.000000</td>\n",
       "      <td>19.000000</td>\n",
       "      <td>7.000000</td>\n",
       "      <td>3.950000e+06</td>\n",
       "      <td>1.000000</td>\n",
       "      <td>2.600000</td>\n",
       "      <td>3.000000</td>\n",
       "      <td>5.000000</td>\n",
       "      <td>9479.000000</td>\n",
       "      <td>18498.000000</td>\n",
       "      <td>0.000000</td>\n",
       "      <td>1.000000</td>\n",
       "      <td>3.000000</td>\n",
       "    </tr>\n",
       "    <tr>\n",
       "      <th>50%</th>\n",
       "      <td>53.000000</td>\n",
       "      <td>30.400000</td>\n",
       "      <td>9.500000</td>\n",
       "      <td>5.100000e+06</td>\n",
       "      <td>2.000000</td>\n",
       "      <td>2.670000</td>\n",
       "      <td>5.000000</td>\n",
       "      <td>9.000000</td>\n",
       "      <td>13163.000000</td>\n",
       "      <td>26819.000000</td>\n",
       "      <td>0.000000</td>\n",
       "      <td>3.000000</td>\n",
       "      <td>7.000000</td>\n",
       "    </tr>\n",
       "    <tr>\n",
       "      <th>75%</th>\n",
       "      <td>71.000000</td>\n",
       "      <td>42.900000</td>\n",
       "      <td>12.000000</td>\n",
       "      <td>7.300000e+06</td>\n",
       "      <td>3.000000</td>\n",
       "      <td>2.700000</td>\n",
       "      <td>8.000000</td>\n",
       "      <td>16.000000</td>\n",
       "      <td>16377.000000</td>\n",
       "      <td>37407.000000</td>\n",
       "      <td>408.000000</td>\n",
       "      <td>4.000000</td>\n",
       "      <td>10.000000</td>\n",
       "    </tr>\n",
       "    <tr>\n",
       "      <th>max</th>\n",
       "      <td>900.000000</td>\n",
       "      <td>409.700000</td>\n",
       "      <td>112.000000</td>\n",
       "      <td>4.200000e+08</td>\n",
       "      <td>19.000000</td>\n",
       "      <td>6.000000</td>\n",
       "      <td>33.000000</td>\n",
       "      <td>60.000000</td>\n",
       "      <td>65968.000000</td>\n",
       "      <td>84869.000000</td>\n",
       "      <td>3190.000000</td>\n",
       "      <td>6.000000</td>\n",
       "      <td>12.000000</td>\n",
       "    </tr>\n",
       "  </tbody>\n",
       "</table>\n",
       "</div>"
      ],
      "text/plain": [
       "         total_area   living_area  kitchen_area    last_price         rooms  \\\n",
       "count  15631.000000  14517.000000  14373.000000  1.563100e+04  15631.000000   \n",
       "mean      61.768871     35.143525     10.745487  7.178331e+06      2.104344   \n",
       "std       36.871525     22.945599      6.081097  1.057288e+07      1.087320   \n",
       "min       12.000000      2.000000      2.000000  1.190000e+06      1.000000   \n",
       "25%       41.000000     19.000000      7.000000  3.950000e+06      1.000000   \n",
       "50%       53.000000     30.400000      9.500000  5.100000e+06      2.000000   \n",
       "75%       71.000000     42.900000     12.000000  7.300000e+06      3.000000   \n",
       "max      900.000000    409.700000    112.000000  4.200000e+08     19.000000   \n",
       "\n",
       "       ceiling_height         floor  floors_total  city_centers_nearest  \\\n",
       "count    15631.000000  15631.000000  15631.000000          15631.000000   \n",
       "mean         2.712587      6.163841     11.245090          14303.418015   \n",
       "std          0.226038      4.951146      6.554628           8584.782992   \n",
       "min          1.000000      1.000000      1.000000            208.000000   \n",
       "25%          2.600000      3.000000      5.000000           9479.000000   \n",
       "50%          2.670000      5.000000      9.000000          13163.000000   \n",
       "75%          2.700000      8.000000     16.000000          16377.000000   \n",
       "max          6.000000     33.000000     60.000000          65968.000000   \n",
       "\n",
       "       airports_nearest  parks_nearest      week_day         month  \n",
       "count      15609.000000   15631.000000  15631.000000  15631.000000  \n",
       "mean       28875.316292     215.019513      2.578082      6.587039  \n",
       "std        12708.674642     333.713605      1.776949      3.469521  \n",
       "min            0.000000       0.000000      0.000000      1.000000  \n",
       "25%        18498.000000       0.000000      1.000000      3.000000  \n",
       "50%        26819.000000       0.000000      3.000000      7.000000  \n",
       "75%        37407.000000     408.000000      4.000000     10.000000  \n",
       "max        84869.000000    3190.000000      6.000000     12.000000  "
      ]
     },
     "execution_count": 30,
     "metadata": {},
     "output_type": "execute_result"
    }
   ],
   "source": [
    "data = df[['total_area', 'living_area', 'kitchen_area', 'last_price', 'rooms', \n",
    "           'ceiling_height', 'floor', 'floor_type', 'floors_total', 'city_centers_nearest', \n",
    "           'airports_nearest', 'parks_nearest', 'week_day', 'month']]\n",
    "print (data.isna().sum()) \n",
    "data.describe()"
   ]
  },
  {
   "cell_type": "markdown",
   "metadata": {},
   "source": [
    "**Вывод** не все столбцы заполняют в объявлениях поэтому в некоторых столбцах содержаться пропуски. Но в основных столбцах, где казана площадь, цена, этаж. Данная таблица содержит основные параметры, которые необходимо знать для цены образования\n",
    "\n",
    "***Построение гистограмм по данным из таблицы***"
   ]
  },
  {
   "cell_type": "code",
   "execution_count": 31,
   "metadata": {},
   "outputs": [
    {
     "data": {
      "text/plain": [
       "<AxesSubplot:title={'center':'Площадь квартир'}, ylabel='Frequency'>"
      ]
     },
     "execution_count": 31,
     "metadata": {},
     "output_type": "execute_result"
    },
    {
     "data": {
      "image/png": "[encoded data removed]",
      "text/plain": [
       "<Figure size 432x288 with 1 Axes>"
      ]
     },
     "metadata": {
      "needs_background": "light"
     },
     "output_type": "display_data"
    }
   ],
   "source": [
    "data.plot(title='Площадь квартир',\n",
    "          kind='hist', \n",
    "          y='total_area',\n",
    "          bins=100,\n",
    "          grid=True,\n",
    "          xlim=(20,200))"
   ]
  },
  {
   "cell_type": "markdown",
   "metadata": {},
   "source": [
    "**Вывод:** Меньше 30 можно считать выбросами. В основном продаются квартиры площадью от 30, до 75 м2. Все квартиры с большей площадью встречаются гораздо реже на рынке и чем больше площадь тем меньше объявлений"
   ]
  },
  {
   "cell_type": "code",
   "execution_count": 32,
   "metadata": {},
   "outputs": [
    {
     "data": {
      "text/plain": [
       "<AxesSubplot:title={'center':'Жилая площадь'}, ylabel='Frequency'>"
      ]
     },
     "execution_count": 32,
     "metadata": {},
     "output_type": "execute_result"
    },
    {
     "data": {
      "image/png": "[encoded data removed]",
      "text/plain": [
       "<Figure size 432x288 with 1 Axes>"
      ]
     },
     "metadata": {
      "needs_background": "light"
     },
     "output_type": "display_data"
    }
   ],
   "source": [
    "data.plot(title='Жилая площадь',\n",
    "          kind='hist', \n",
    "          y='living_area',\n",
    "          bins=50,\n",
    "          grid=True,\n",
    "          xlim=(0,200)\n",
    "          )"
   ]
  },
  {
   "cell_type": "markdown",
   "metadata": {},
   "source": [
    "**Вывод:** Стоит уточнить что не во всех объявлениях указывают жилую площадь => объем данных чуть меньше (1114).\n",
    "\n",
    "Но все равно это не мешает увидеть два пика на графике, скорее всего это может быть связано с различными ценовыми категориями. Все значения ниже 10 м2 можно откидывать это выбросы. "
   ]
  },
  {
   "cell_type": "code",
   "execution_count": 33,
   "metadata": {},
   "outputs": [
    {
     "data": {
      "text/plain": [
       "<AxesSubplot:title={'center':'Кухонная площадь'}, ylabel='Frequency'>"
      ]
     },
     "execution_count": 33,
     "metadata": {},
     "output_type": "execute_result"
    },
    {
     "data": {
      "image/png": "[encoded data removed]",
      "text/plain": [
       "<Figure size 432x288 with 1 Axes>"
      ]
     },
     "metadata": {
      "needs_background": "light"
     },
     "output_type": "display_data"
    }
   ],
   "source": [
    "data.plot(title='Кухонная площадь',\n",
    "          kind='hist', \n",
    "          y='kitchen_area',\n",
    "          bins=20,\n",
    "          grid=True,\n",
    "          xlim=(0,60))"
   ]
  },
  {
   "cell_type": "markdown",
   "metadata": {},
   "source": [
    "**Вывод:** В основном кухонная площадь имеет площадь меньше 20 м2. Не во всех объявлениях указывают размер кухонной зоны.   "
   ]
  },
  {
   "cell_type": "code",
   "execution_count": 34,
   "metadata": {},
   "outputs": [
    {
     "data": {
      "text/plain": [
       "<AxesSubplot:title={'center':'Цена'}, ylabel='Frequency'>"
      ]
     },
     "execution_count": 34,
     "metadata": {},
     "output_type": "execute_result"
    },
    {
     "data": {
      "image/png": "[encoded data removed]",
      "text/plain": [
       "<Figure size 432x288 with 1 Axes>"
      ]
     },
     "metadata": {
      "needs_background": "light"
     },
     "output_type": "display_data"
    }
   ],
   "source": [
    "data.plot(title='Цена',\n",
    "          kind='hist', \n",
    "          y='last_price',\n",
    "          bins=1000,\n",
    "          grid=True,\n",
    "          xlim=(2e6,2e7))"
   ]
  },
  {
   "cell_type": "markdown",
   "metadata": {},
   "source": [
    "**Вывод** Основная ценовая категория расположена в 3 000 000 - 6 000 000. Цены квартир выше 10 млн. уже более редкие, это видно на графике появляется больше шума ну и количество такого рода объявлений меньше."
   ]
  },
  {
   "cell_type": "code",
   "execution_count": 35,
   "metadata": {},
   "outputs": [
    {
     "data": {
      "text/plain": [
       "<AxesSubplot:title={'center':'Комнаты'}, ylabel='Frequency'>"
      ]
     },
     "execution_count": 35,
     "metadata": {},
     "output_type": "execute_result"
    },
    {
     "data": {
      "image/png": "[encoded data removed]",
      "text/plain": [
       "<Figure size 432x288 with 1 Axes>"
      ]
     },
     "metadata": {
      "needs_background": "light"
     },
     "output_type": "display_data"
    }
   ],
   "source": [
    "data.plot(title='Комнаты',\n",
    "          kind='hist', \n",
    "          y='rooms',\n",
    "          bins=20,\n",
    "          grid=True,\n",
    "          xlim=(1,10))"
   ]
  },
  {
   "cell_type": "markdown",
   "metadata": {},
   "source": [
    "**Вывод** По графику видно, что самый распространённый типаж квартир это 1-3 комнатные квартиры. Все что больше это уже экзотика "
   ]
  },
  {
   "cell_type": "code",
   "execution_count": 36,
   "metadata": {},
   "outputs": [
    {
     "data": {
      "text/plain": [
       "<AxesSubplot:title={'center':'высота потолков'}, ylabel='Frequency'>"
      ]
     },
     "execution_count": 36,
     "metadata": {},
     "output_type": "execute_result"
    },
    {
     "data": {
      "image/png": "[encoded data removed]",
      "text/plain": [
       "<Figure size 432x288 with 1 Axes>"
      ]
     },
     "metadata": {
      "needs_background": "light"
     },
     "output_type": "display_data"
    }
   ],
   "source": [
    "data.plot(title='высота потолков',\n",
    "          kind='hist', \n",
    "          y='ceiling_height',\n",
    "          bins=30,\n",
    "          grid=True,\n",
    "          xlim=(2,5))"
   ]
  },
  {
   "cell_type": "markdown",
   "metadata": {},
   "source": [
    "**Вывод** Квартиры продаются в основном с потолками от 2,5 – 3 метров. 2,7 самая крупная группа скорее всего это связанно с тем, что пропуски заполнялись средним значением поэтому это могло привести к увеличению этой группы. "
   ]
  },
  {
   "cell_type": "code",
   "execution_count": 37,
   "metadata": {},
   "outputs": [
    {
     "data": {
      "text/plain": [
       "<AxesSubplot:title={'center':'этаж'}, ylabel='Frequency'>"
      ]
     },
     "execution_count": 37,
     "metadata": {},
     "output_type": "execute_result"
    },
    {
     "data": {
      "image/png": "[encoded data removed]",
      "text/plain": [
       "<Figure size 432x288 with 1 Axes>"
      ]
     },
     "metadata": {
      "needs_background": "light"
     },
     "output_type": "display_data"
    }
   ],
   "source": [
    "data.plot(title='этаж',\n",
    "          kind='hist', \n",
    "          y='floor',\n",
    "          bins=15,\n",
    "          grid=True,\n",
    "          xlim=(0,30))"
   ]
  },
  {
   "cell_type": "markdown",
   "metadata": {},
   "source": [
    "**Вывод** В основном квартиры расположены до 10 этажа. Это говорит об общей тенденции что дома не высокие. "
   ]
  },
  {
   "cell_type": "code",
   "execution_count": 38,
   "metadata": {},
   "outputs": [
    {
     "data": {
      "text/plain": [
       "<AxesSubplot:title={'center':'всего этажей в доме'}, ylabel='Frequency'>"
      ]
     },
     "execution_count": 38,
     "metadata": {},
     "output_type": "execute_result"
    },
    {
     "data": {
      "image/png": "[encoded data removed]",
      "text/plain": [
       "<Figure size 432x288 with 1 Axes>"
      ]
     },
     "metadata": {
      "needs_background": "light"
     },
     "output_type": "display_data"
    }
   ],
   "source": [
    "data.plot(title='всего этажей в доме',\n",
    "          kind='hist', \n",
    "          y='floors_total',\n",
    "          bins=20,\n",
    "          grid=True,\n",
    "          xlim=(0,30))"
   ]
  },
  {
   "cell_type": "markdown",
   "metadata": {},
   "source": [
    "**Вывод** Еще один аргумент в подтверждение привядшего графика. Петербург не славиться высокими дамами что, собственно, и отображает график. Максимальная высота чуть больше 20 этажей "
   ]
  },
  {
   "cell_type": "code",
   "execution_count": 39,
   "metadata": {},
   "outputs": [
    {
     "data": {
      "text/plain": [
       "<AxesSubplot:title={'center':'Расстояние до центра города'}, ylabel='Frequency'>"
      ]
     },
     "execution_count": 39,
     "metadata": {},
     "output_type": "execute_result"
    },
    {
     "data": {
      "image/png": "[encoded data removed]",
      "text/plain": [
       "<Figure size 432x288 with 1 Axes>"
      ]
     },
     "metadata": {
      "needs_background": "light"
     },
     "output_type": "display_data"
    }
   ],
   "source": [
    "data.plot(title='Расстояние до центра города',\n",
    "          kind='hist', \n",
    "          y='city_centers_nearest',\n",
    "          bins=20,\n",
    "          grid=True,\n",
    "          xlim=(0, 50000))"
   ]
  },
  {
   "cell_type": "markdown",
   "metadata": {},
   "source": [
    "**Вывод** В основном недвижимость расположена на расстоянии от 5 000 до 20 000 метров от центра города. Но также присутствуют пригородные дома, но их значительно меньше "
   ]
  },
  {
   "cell_type": "code",
   "execution_count": 40,
   "metadata": {},
   "outputs": [
    {
     "data": {
      "text/plain": [
       "<AxesSubplot:title={'center':'Расстояние до аэропорта  '}, ylabel='Frequency'>"
      ]
     },
     "execution_count": 40,
     "metadata": {},
     "output_type": "execute_result"
    },
    {
     "data": {
      "image/png": "[encoded data removed]",
      "text/plain": [
       "<Figure size 432x288 with 1 Axes>"
      ]
     },
     "metadata": {
      "needs_background": "light"
     },
     "output_type": "display_data"
    }
   ],
   "source": [
    "data.plot(title='Расстояние до аэропорта  ',\n",
    "          kind='hist', \n",
    "          y='airports_nearest',\n",
    "          bins=10,\n",
    "          grid=True,\n",
    "          xlim=(100, 80000))"
   ]
  },
  {
   "cell_type": "markdown",
   "metadata": {},
   "source": [
    "**Вывод** В основном вся недвижимость находиться в средней доступности до аэропорта, т.к. большая часть объявлений расположена в центре города. Те дома, которые расположены в пригороде имеют более дальнее расположение. "
   ]
  },
  {
   "cell_type": "code",
   "execution_count": 41,
   "metadata": {},
   "outputs": [
    {
     "data": {
      "text/plain": [
       "<AxesSubplot:title={'center':'Расположение парка в радиусе 3 000 м'}, ylabel='Frequency'>"
      ]
     },
     "execution_count": 41,
     "metadata": {},
     "output_type": "execute_result"
    },
    {
     "data": {
      "image/png": "[encoded data removed]",
      "text/plain": [
       "<Figure size 432x288 with 1 Axes>"
      ]
     },
     "metadata": {
      "needs_background": "light"
     },
     "output_type": "display_data"
    }
   ],
   "source": [
    "data.plot(title='Расположение парка в радиусе 3 000 м',\n",
    "          kind='hist', \n",
    "          y='parks_nearest',\n",
    "          bins=100,\n",
    "          grid=True,\n",
    "          xlim=(0, 1000))"
   ]
  },
  {
   "cell_type": "markdown",
   "metadata": {},
   "source": [
    "**Вывод** Из графика видно, в основном парковых зон нет в окружении домов или их не указывают."
   ]
  },
  {
   "cell_type": "code",
   "execution_count": 42,
   "metadata": {},
   "outputs": [
    {
     "data": {
      "text/plain": [
       "<AxesSubplot:title={'center':'день недели'}, ylabel='Frequency'>"
      ]
     },
     "execution_count": 42,
     "metadata": {},
     "output_type": "execute_result"
    },
    {
     "data": {
      "image/png": "[encoded data removed]",
      "text/plain": [
       "<Figure size 432x288 with 1 Axes>"
      ]
     },
     "metadata": {
      "needs_background": "light"
     },
     "output_type": "display_data"
    }
   ],
   "source": [
    "data.plot(title='день недели',\n",
    "          kind='hist', \n",
    "          y='week_day',\n",
    "          bins=7,\n",
    "          grid=True,\n",
    "          xlim=(0, 7))"
   ]
  },
  {
   "cell_type": "markdown",
   "metadata": {},
   "source": [
    "**Вывод** достаточно интересная динамика. В основном публикации происходят в начале и в середине недели. Под конец недели на 50% меньше публикаций. А в воскресение вообще никаких объявлений не публикуют."
   ]
  },
  {
   "cell_type": "code",
   "execution_count": 43,
   "metadata": {},
   "outputs": [
    {
     "data": {
      "text/plain": [
       "<AxesSubplot:title={'center':'месяц'}, ylabel='Frequency'>"
      ]
     },
     "execution_count": 43,
     "metadata": {},
     "output_type": "execute_result"
    },
    {
     "data": {
      "image/png": "[encoded data removed]",
      "text/plain": [
       "<Figure size 432x288 with 1 Axes>"
      ]
     },
     "metadata": {
      "needs_background": "light"
     },
     "output_type": "display_data"
    }
   ],
   "source": [
    "data.plot(title='месяц',\n",
    "          kind='hist', \n",
    "          y='month',\n",
    "          bins=12,\n",
    "          grid=True,\n",
    "          xlim=(1, 12)) "
   ]
  },
  {
   "cell_type": "markdown",
   "metadata": {},
   "source": [
    "**Вывод** В принципе график публикаций по месяцам достаточно равномерный +-250 объявлений колеблется. Но самая активная публикационная активность прослеживается в начале года и в конце. "
   ]
  },
  {
   "cell_type": "markdown",
   "metadata": {},
   "source": [
    "**Проведение исследовательского анализа данных**"
   ]
  },
  {
   "cell_type": "markdown",
   "metadata": {},
   "source": [
    "**Анализ продаж квартир**\n",
    "Данный параметр показывает, сколько дней «висело» каждое объявление."
   ]
  },
  {
   "cell_type": "code",
   "execution_count": 44,
   "metadata": {},
   "outputs": [
    {
     "data": {
      "text/plain": [
       "<AxesSubplot:ylabel='Frequency'>"
      ]
     },
     "execution_count": 44,
     "metadata": {},
     "output_type": "execute_result"
    },
    {
     "data": {
      "image/png": "[encoded data removed]",
      "text/plain": [
       "<Figure size 432x288 with 1 Axes>"
      ]
     },
     "metadata": {
      "needs_background": "light"
     },
     "output_type": "display_data"
    }
   ],
   "source": [
    "df.plot(kind='hist', \n",
    "       y='days_exposition',\n",
    "       bins=1000,\n",
    "       grid=True,\n",
    "       xlim=(0, 200))\n"
   ]
  },
  {
   "cell_type": "code",
   "execution_count": 45,
   "metadata": {},
   "outputs": [
    {
     "data": {
      "text/html": [
       "<div>\n",
       "<style scoped>\n",
       "    .dataframe tbody tr th:only-of-type {\n",
       "        vertical-align: middle;\n",
       "    }\n",
       "\n",
       "    .dataframe tbody tr th {\n",
       "        vertical-align: top;\n",
       "    }\n",
       "\n",
       "    .dataframe thead th {\n",
       "        text-align: right;\n",
       "    }\n",
       "</style>\n",
       "<table border=\"1\" class=\"dataframe\">\n",
       "  <thead>\n",
       "    <tr style=\"text-align: right;\">\n",
       "      <th></th>\n",
       "      <th>total_images</th>\n",
       "      <th>last_price</th>\n",
       "      <th>total_area</th>\n",
       "      <th>first_day_exposition</th>\n",
       "      <th>rooms</th>\n",
       "      <th>ceiling_height</th>\n",
       "      <th>floors_total</th>\n",
       "      <th>living_area</th>\n",
       "      <th>floor</th>\n",
       "      <th>is_apartment</th>\n",
       "      <th>...</th>\n",
       "      <th>parks_nearest</th>\n",
       "      <th>ponds_around_3000</th>\n",
       "      <th>ponds_nearest</th>\n",
       "      <th>price_area</th>\n",
       "      <th>week_day</th>\n",
       "      <th>day</th>\n",
       "      <th>month</th>\n",
       "      <th>year</th>\n",
       "      <th>floor_type</th>\n",
       "      <th>city_centers_nearest_km</th>\n",
       "    </tr>\n",
       "    <tr>\n",
       "      <th>days_exposition</th>\n",
       "      <th></th>\n",
       "      <th></th>\n",
       "      <th></th>\n",
       "      <th></th>\n",
       "      <th></th>\n",
       "      <th></th>\n",
       "      <th></th>\n",
       "      <th></th>\n",
       "      <th></th>\n",
       "      <th></th>\n",
       "      <th></th>\n",
       "      <th></th>\n",
       "      <th></th>\n",
       "      <th></th>\n",
       "      <th></th>\n",
       "      <th></th>\n",
       "      <th></th>\n",
       "      <th></th>\n",
       "      <th></th>\n",
       "      <th></th>\n",
       "      <th></th>\n",
       "    </tr>\n",
       "  </thead>\n",
       "  <tbody>\n",
       "    <tr>\n",
       "      <th>60.0</th>\n",
       "      <td>462</td>\n",
       "      <td>462</td>\n",
       "      <td>462</td>\n",
       "      <td>462</td>\n",
       "      <td>462</td>\n",
       "      <td>462</td>\n",
       "      <td>462</td>\n",
       "      <td>298</td>\n",
       "      <td>462</td>\n",
       "      <td>462</td>\n",
       "      <td>...</td>\n",
       "      <td>462</td>\n",
       "      <td>462</td>\n",
       "      <td>462</td>\n",
       "      <td>462</td>\n",
       "      <td>462</td>\n",
       "      <td>462</td>\n",
       "      <td>462</td>\n",
       "      <td>462</td>\n",
       "      <td>462</td>\n",
       "      <td>462</td>\n",
       "    </tr>\n",
       "    <tr>\n",
       "      <th>45.0</th>\n",
       "      <td>422</td>\n",
       "      <td>422</td>\n",
       "      <td>422</td>\n",
       "      <td>422</td>\n",
       "      <td>422</td>\n",
       "      <td>422</td>\n",
       "      <td>422</td>\n",
       "      <td>296</td>\n",
       "      <td>422</td>\n",
       "      <td>422</td>\n",
       "      <td>...</td>\n",
       "      <td>422</td>\n",
       "      <td>422</td>\n",
       "      <td>422</td>\n",
       "      <td>422</td>\n",
       "      <td>422</td>\n",
       "      <td>422</td>\n",
       "      <td>422</td>\n",
       "      <td>422</td>\n",
       "      <td>422</td>\n",
       "      <td>422</td>\n",
       "    </tr>\n",
       "    <tr>\n",
       "      <th>90.0</th>\n",
       "      <td>184</td>\n",
       "      <td>184</td>\n",
       "      <td>184</td>\n",
       "      <td>184</td>\n",
       "      <td>184</td>\n",
       "      <td>184</td>\n",
       "      <td>184</td>\n",
       "      <td>124</td>\n",
       "      <td>184</td>\n",
       "      <td>184</td>\n",
       "      <td>...</td>\n",
       "      <td>184</td>\n",
       "      <td>184</td>\n",
       "      <td>184</td>\n",
       "      <td>184</td>\n",
       "      <td>184</td>\n",
       "      <td>184</td>\n",
       "      <td>184</td>\n",
       "      <td>184</td>\n",
       "      <td>184</td>\n",
       "      <td>184</td>\n",
       "    </tr>\n",
       "    <tr>\n",
       "      <th>30.0</th>\n",
       "      <td>184</td>\n",
       "      <td>184</td>\n",
       "      <td>184</td>\n",
       "      <td>184</td>\n",
       "      <td>184</td>\n",
       "      <td>184</td>\n",
       "      <td>184</td>\n",
       "      <td>181</td>\n",
       "      <td>184</td>\n",
       "      <td>184</td>\n",
       "      <td>...</td>\n",
       "      <td>184</td>\n",
       "      <td>184</td>\n",
       "      <td>184</td>\n",
       "      <td>184</td>\n",
       "      <td>184</td>\n",
       "      <td>184</td>\n",
       "      <td>184</td>\n",
       "      <td>184</td>\n",
       "      <td>184</td>\n",
       "      <td>184</td>\n",
       "    </tr>\n",
       "    <tr>\n",
       "      <th>7.0</th>\n",
       "      <td>179</td>\n",
       "      <td>179</td>\n",
       "      <td>179</td>\n",
       "      <td>179</td>\n",
       "      <td>179</td>\n",
       "      <td>179</td>\n",
       "      <td>179</td>\n",
       "      <td>168</td>\n",
       "      <td>179</td>\n",
       "      <td>179</td>\n",
       "      <td>...</td>\n",
       "      <td>179</td>\n",
       "      <td>179</td>\n",
       "      <td>179</td>\n",
       "      <td>179</td>\n",
       "      <td>179</td>\n",
       "      <td>179</td>\n",
       "      <td>179</td>\n",
       "      <td>179</td>\n",
       "      <td>179</td>\n",
       "      <td>179</td>\n",
       "    </tr>\n",
       "  </tbody>\n",
       "</table>\n",
       "<p>5 rows × 28 columns</p>\n",
       "</div>"
      ],
      "text/plain": [
       "                 total_images  last_price  total_area  first_day_exposition  \\\n",
       "days_exposition                                                               \n",
       "60.0                      462         462         462                   462   \n",
       "45.0                      422         422         422                   422   \n",
       "90.0                      184         184         184                   184   \n",
       "30.0                      184         184         184                   184   \n",
       "7.0                       179         179         179                   179   \n",
       "\n",
       "                 rooms  ceiling_height  floors_total  living_area  floor  \\\n",
       "days_exposition                                                            \n",
       "60.0               462             462           462          298    462   \n",
       "45.0               422             422           422          296    422   \n",
       "90.0               184             184           184          124    184   \n",
       "30.0               184             184           184          181    184   \n",
       "7.0                179             179           179          168    179   \n",
       "\n",
       "                 is_apartment  ...  parks_nearest  ponds_around_3000  \\\n",
       "days_exposition                ...                                     \n",
       "60.0                      462  ...            462                462   \n",
       "45.0                      422  ...            422                422   \n",
       "90.0                      184  ...            184                184   \n",
       "30.0                      184  ...            184                184   \n",
       "7.0                       179  ...            179                179   \n",
       "\n",
       "                 ponds_nearest  price_area  week_day  day  month  year  \\\n",
       "days_exposition                                                          \n",
       "60.0                       462         462       462  462    462   462   \n",
       "45.0                       422         422       422  422    422   422   \n",
       "90.0                       184         184       184  184    184   184   \n",
       "30.0                       184         184       184  184    184   184   \n",
       "7.0                        179         179       179  179    179   179   \n",
       "\n",
       "                 floor_type  city_centers_nearest_km  \n",
       "days_exposition                                       \n",
       "60.0                    462                      462  \n",
       "45.0                    422                      422  \n",
       "90.0                    184                      184  \n",
       "30.0                    184                      184  \n",
       "7.0                     179                      179  \n",
       "\n",
       "[5 rows x 28 columns]"
      ]
     },
     "execution_count": 45,
     "metadata": {},
     "output_type": "execute_result"
    }
   ],
   "source": [
    "(\n",
    "    df\n",
    " .groupby('days_exposition').count()\n",
    " .sort_values(by='total_images', ascending=False)\n",
    " .head()\n",
    ")"
   ]
  },
  {
   "cell_type": "code",
   "execution_count": 46,
   "metadata": {},
   "outputs": [
    {
     "data": {
      "text/html": [
       "<div>\n",
       "<style scoped>\n",
       "    .dataframe tbody tr th:only-of-type {\n",
       "        vertical-align: middle;\n",
       "    }\n",
       "\n",
       "    .dataframe tbody tr th {\n",
       "        vertical-align: top;\n",
       "    }\n",
       "\n",
       "    .dataframe thead th {\n",
       "        text-align: right;\n",
       "    }\n",
       "</style>\n",
       "<table border=\"1\" class=\"dataframe\">\n",
       "  <thead>\n",
       "    <tr style=\"text-align: right;\">\n",
       "      <th></th>\n",
       "      <th>total_images</th>\n",
       "      <th>last_price</th>\n",
       "      <th>total_area</th>\n",
       "      <th>first_day_exposition</th>\n",
       "      <th>rooms</th>\n",
       "      <th>ceiling_height</th>\n",
       "      <th>floors_total</th>\n",
       "      <th>living_area</th>\n",
       "      <th>floor</th>\n",
       "      <th>is_apartment</th>\n",
       "      <th>...</th>\n",
       "      <th>ponds_around_3000</th>\n",
       "      <th>ponds_nearest</th>\n",
       "      <th>days_exposition</th>\n",
       "      <th>price_area</th>\n",
       "      <th>week_day</th>\n",
       "      <th>day</th>\n",
       "      <th>month</th>\n",
       "      <th>year</th>\n",
       "      <th>floor_type</th>\n",
       "      <th>city_centers_nearest_km</th>\n",
       "    </tr>\n",
       "  </thead>\n",
       "  <tbody>\n",
       "    <tr>\n",
       "      <th>56</th>\n",
       "      <td>3</td>\n",
       "      <td>4500000</td>\n",
       "      <td>80.5</td>\n",
       "      <td>2018-01-15</td>\n",
       "      <td>3</td>\n",
       "      <td>2.67</td>\n",
       "      <td>25</td>\n",
       "      <td>NaN</td>\n",
       "      <td>16</td>\n",
       "      <td>False</td>\n",
       "      <td>...</td>\n",
       "      <td>0.0</td>\n",
       "      <td>0.0</td>\n",
       "      <td>60.0</td>\n",
       "      <td>55900.6</td>\n",
       "      <td>0</td>\n",
       "      <td>15</td>\n",
       "      <td>1</td>\n",
       "      <td>2018</td>\n",
       "      <td>другой</td>\n",
       "      <td>18.0</td>\n",
       "    </tr>\n",
       "    <tr>\n",
       "      <th>71</th>\n",
       "      <td>12</td>\n",
       "      <td>4900000</td>\n",
       "      <td>32.0</td>\n",
       "      <td>2018-01-07</td>\n",
       "      <td>1</td>\n",
       "      <td>2.67</td>\n",
       "      <td>25</td>\n",
       "      <td>15.0</td>\n",
       "      <td>5</td>\n",
       "      <td>False</td>\n",
       "      <td>...</td>\n",
       "      <td>1.0</td>\n",
       "      <td>464.0</td>\n",
       "      <td>60.0</td>\n",
       "      <td>153125.0</td>\n",
       "      <td>6</td>\n",
       "      <td>7</td>\n",
       "      <td>1</td>\n",
       "      <td>2018</td>\n",
       "      <td>другой</td>\n",
       "      <td>16.0</td>\n",
       "    </tr>\n",
       "    <tr>\n",
       "      <th>80</th>\n",
       "      <td>8</td>\n",
       "      <td>4500000</td>\n",
       "      <td>31.0</td>\n",
       "      <td>2019-02-24</td>\n",
       "      <td>1</td>\n",
       "      <td>2.50</td>\n",
       "      <td>9</td>\n",
       "      <td>17.0</td>\n",
       "      <td>4</td>\n",
       "      <td>False</td>\n",
       "      <td>...</td>\n",
       "      <td>2.0</td>\n",
       "      <td>439.0</td>\n",
       "      <td>60.0</td>\n",
       "      <td>145161.3</td>\n",
       "      <td>6</td>\n",
       "      <td>24</td>\n",
       "      <td>2</td>\n",
       "      <td>2019</td>\n",
       "      <td>другой</td>\n",
       "      <td>9.0</td>\n",
       "    </tr>\n",
       "    <tr>\n",
       "      <th>95</th>\n",
       "      <td>9</td>\n",
       "      <td>2990000</td>\n",
       "      <td>30.0</td>\n",
       "      <td>2016-06-08</td>\n",
       "      <td>1</td>\n",
       "      <td>2.50</td>\n",
       "      <td>9</td>\n",
       "      <td>20.0</td>\n",
       "      <td>9</td>\n",
       "      <td>False</td>\n",
       "      <td>...</td>\n",
       "      <td>1.0</td>\n",
       "      <td>332.0</td>\n",
       "      <td>60.0</td>\n",
       "      <td>99666.7</td>\n",
       "      <td>2</td>\n",
       "      <td>8</td>\n",
       "      <td>6</td>\n",
       "      <td>2016</td>\n",
       "      <td>последний</td>\n",
       "      <td>6.0</td>\n",
       "    </tr>\n",
       "    <tr>\n",
       "      <th>222</th>\n",
       "      <td>3</td>\n",
       "      <td>5496074</td>\n",
       "      <td>48.6</td>\n",
       "      <td>2016-04-25</td>\n",
       "      <td>1</td>\n",
       "      <td>2.67</td>\n",
       "      <td>11</td>\n",
       "      <td>13.0</td>\n",
       "      <td>3</td>\n",
       "      <td>False</td>\n",
       "      <td>...</td>\n",
       "      <td>1.0</td>\n",
       "      <td>433.0</td>\n",
       "      <td>60.0</td>\n",
       "      <td>113087.9</td>\n",
       "      <td>0</td>\n",
       "      <td>25</td>\n",
       "      <td>4</td>\n",
       "      <td>2016</td>\n",
       "      <td>другой</td>\n",
       "      <td>5.0</td>\n",
       "    </tr>\n",
       "    <tr>\n",
       "      <th>...</th>\n",
       "      <td>...</td>\n",
       "      <td>...</td>\n",
       "      <td>...</td>\n",
       "      <td>...</td>\n",
       "      <td>...</td>\n",
       "      <td>...</td>\n",
       "      <td>...</td>\n",
       "      <td>...</td>\n",
       "      <td>...</td>\n",
       "      <td>...</td>\n",
       "      <td>...</td>\n",
       "      <td>...</td>\n",
       "      <td>...</td>\n",
       "      <td>...</td>\n",
       "      <td>...</td>\n",
       "      <td>...</td>\n",
       "      <td>...</td>\n",
       "      <td>...</td>\n",
       "      <td>...</td>\n",
       "      <td>...</td>\n",
       "      <td>...</td>\n",
       "    </tr>\n",
       "    <tr>\n",
       "      <th>15550</th>\n",
       "      <td>10</td>\n",
       "      <td>3750000</td>\n",
       "      <td>45.0</td>\n",
       "      <td>2016-06-14</td>\n",
       "      <td>2</td>\n",
       "      <td>2.67</td>\n",
       "      <td>5</td>\n",
       "      <td>30.0</td>\n",
       "      <td>1</td>\n",
       "      <td>False</td>\n",
       "      <td>...</td>\n",
       "      <td>0.0</td>\n",
       "      <td>0.0</td>\n",
       "      <td>60.0</td>\n",
       "      <td>83333.3</td>\n",
       "      <td>1</td>\n",
       "      <td>14</td>\n",
       "      <td>6</td>\n",
       "      <td>2016</td>\n",
       "      <td>первый</td>\n",
       "      <td>32.0</td>\n",
       "    </tr>\n",
       "    <tr>\n",
       "      <th>15566</th>\n",
       "      <td>8</td>\n",
       "      <td>8700000</td>\n",
       "      <td>132.0</td>\n",
       "      <td>2018-11-13</td>\n",
       "      <td>3</td>\n",
       "      <td>2.65</td>\n",
       "      <td>9</td>\n",
       "      <td>78.0</td>\n",
       "      <td>3</td>\n",
       "      <td>False</td>\n",
       "      <td>...</td>\n",
       "      <td>0.0</td>\n",
       "      <td>0.0</td>\n",
       "      <td>60.0</td>\n",
       "      <td>65909.1</td>\n",
       "      <td>1</td>\n",
       "      <td>13</td>\n",
       "      <td>11</td>\n",
       "      <td>2018</td>\n",
       "      <td>другой</td>\n",
       "      <td>18.0</td>\n",
       "    </tr>\n",
       "    <tr>\n",
       "      <th>15585</th>\n",
       "      <td>11</td>\n",
       "      <td>5000000</td>\n",
       "      <td>37.9</td>\n",
       "      <td>2017-08-31</td>\n",
       "      <td>1</td>\n",
       "      <td>2.60</td>\n",
       "      <td>21</td>\n",
       "      <td>18.9</td>\n",
       "      <td>14</td>\n",
       "      <td>False</td>\n",
       "      <td>...</td>\n",
       "      <td>0.0</td>\n",
       "      <td>0.0</td>\n",
       "      <td>60.0</td>\n",
       "      <td>131926.1</td>\n",
       "      <td>3</td>\n",
       "      <td>31</td>\n",
       "      <td>8</td>\n",
       "      <td>2017</td>\n",
       "      <td>другой</td>\n",
       "      <td>14.0</td>\n",
       "    </tr>\n",
       "    <tr>\n",
       "      <th>15594</th>\n",
       "      <td>9</td>\n",
       "      <td>5100000</td>\n",
       "      <td>36.0</td>\n",
       "      <td>2018-10-26</td>\n",
       "      <td>1</td>\n",
       "      <td>2.80</td>\n",
       "      <td>15</td>\n",
       "      <td>18.0</td>\n",
       "      <td>11</td>\n",
       "      <td>False</td>\n",
       "      <td>...</td>\n",
       "      <td>1.0</td>\n",
       "      <td>405.0</td>\n",
       "      <td>60.0</td>\n",
       "      <td>141666.7</td>\n",
       "      <td>4</td>\n",
       "      <td>26</td>\n",
       "      <td>10</td>\n",
       "      <td>2018</td>\n",
       "      <td>другой</td>\n",
       "      <td>12.0</td>\n",
       "    </tr>\n",
       "    <tr>\n",
       "      <th>15599</th>\n",
       "      <td>14</td>\n",
       "      <td>5950000</td>\n",
       "      <td>80.3</td>\n",
       "      <td>2018-07-03</td>\n",
       "      <td>3</td>\n",
       "      <td>2.70</td>\n",
       "      <td>12</td>\n",
       "      <td>NaN</td>\n",
       "      <td>5</td>\n",
       "      <td>False</td>\n",
       "      <td>...</td>\n",
       "      <td>2.0</td>\n",
       "      <td>562.0</td>\n",
       "      <td>60.0</td>\n",
       "      <td>74097.1</td>\n",
       "      <td>1</td>\n",
       "      <td>3</td>\n",
       "      <td>7</td>\n",
       "      <td>2018</td>\n",
       "      <td>другой</td>\n",
       "      <td>34.0</td>\n",
       "    </tr>\n",
       "  </tbody>\n",
       "</table>\n",
       "<p>462 rows × 29 columns</p>\n",
       "</div>"
      ],
      "text/plain": [
       "       total_images  last_price  total_area first_day_exposition  rooms  \\\n",
       "56                3     4500000        80.5           2018-01-15      3   \n",
       "71               12     4900000        32.0           2018-01-07      1   \n",
       "80                8     4500000        31.0           2019-02-24      1   \n",
       "95                9     2990000        30.0           2016-06-08      1   \n",
       "222               3     5496074        48.6           2016-04-25      1   \n",
       "...             ...         ...         ...                  ...    ...   \n",
       "15550            10     3750000        45.0           2016-06-14      2   \n",
       "15566             8     8700000       132.0           2018-11-13      3   \n",
       "15585            11     5000000        37.9           2017-08-31      1   \n",
       "15594             9     5100000        36.0           2018-10-26      1   \n",
       "15599            14     5950000        80.3           2018-07-03      3   \n",
       "\n",
       "       ceiling_height  floors_total  living_area  floor  is_apartment  ...  \\\n",
       "56               2.67            25          NaN     16         False  ...   \n",
       "71               2.67            25         15.0      5         False  ...   \n",
       "80               2.50             9         17.0      4         False  ...   \n",
       "95               2.50             9         20.0      9         False  ...   \n",
       "222              2.67            11         13.0      3         False  ...   \n",
       "...               ...           ...          ...    ...           ...  ...   \n",
       "15550            2.67             5         30.0      1         False  ...   \n",
       "15566            2.65             9         78.0      3         False  ...   \n",
       "15585            2.60            21         18.9     14         False  ...   \n",
       "15594            2.80            15         18.0     11         False  ...   \n",
       "15599            2.70            12          NaN      5         False  ...   \n",
       "\n",
       "       ponds_around_3000  ponds_nearest  days_exposition  price_area week_day  \\\n",
       "56                   0.0            0.0             60.0     55900.6        0   \n",
       "71                   1.0          464.0             60.0    153125.0        6   \n",
       "80                   2.0          439.0             60.0    145161.3        6   \n",
       "95                   1.0          332.0             60.0     99666.7        2   \n",
       "222                  1.0          433.0             60.0    113087.9        0   \n",
       "...                  ...            ...              ...         ...      ...   \n",
       "15550                0.0            0.0             60.0     83333.3        1   \n",
       "15566                0.0            0.0             60.0     65909.1        1   \n",
       "15585                0.0            0.0             60.0    131926.1        3   \n",
       "15594                1.0          405.0             60.0    141666.7        4   \n",
       "15599                2.0          562.0             60.0     74097.1        1   \n",
       "\n",
       "       day  month  year  floor_type  city_centers_nearest_km  \n",
       "56      15      1  2018      другой                     18.0  \n",
       "71       7      1  2018      другой                     16.0  \n",
       "80      24      2  2019      другой                      9.0  \n",
       "95       8      6  2016   последний                      6.0  \n",
       "222     25      4  2016      другой                      5.0  \n",
       "...    ...    ...   ...         ...                      ...  \n",
       "15550   14      6  2016      первый                     32.0  \n",
       "15566   13     11  2018      другой                     18.0  \n",
       "15585   31      8  2017      другой                     14.0  \n",
       "15594   26     10  2018      другой                     12.0  \n",
       "15599    3      7  2018      другой                     34.0  \n",
       "\n",
       "[462 rows x 29 columns]"
      ]
     },
     "execution_count": 46,
     "metadata": {},
     "output_type": "execute_result"
    }
   ],
   "source": [
    "df.query('days_exposition==60')\n",
    "         "
   ]
  },
  {
   "cell_type": "code",
   "execution_count": 47,
   "metadata": {},
   "outputs": [
    {
     "data": {
      "text/plain": [
       "182.90243746401381"
      ]
     },
     "execution_count": 47,
     "metadata": {},
     "output_type": "execute_result"
    }
   ],
   "source": [
    "df['days_exposition'].mean()"
   ]
  },
  {
   "cell_type": "markdown",
   "metadata": {},
   "source": [
    "**Длительность продажи квартир:**"
   ]
  },
  {
   "cell_type": "code",
   "execution_count": 48,
   "metadata": {},
   "outputs": [
    {
     "data": {
      "text/plain": [
       "<AxesSubplot:xlabel='days_exposition', ylabel='last_price'>"
      ]
     },
     "execution_count": 48,
     "metadata": {},
     "output_type": "execute_result"
    },
    {
     "data": {
      "image/png": "[encoded data removed]",
      "text/plain": [
       "<Figure size 432x288 with 1 Axes>"
      ]
     },
     "metadata": {
      "needs_background": "light"
     },
     "output_type": "display_data"
    }
   ],
   "source": [
    "df.plot(kind='scatter', \n",
    "        x='days_exposition',\n",
    "        y='last_price',\n",
    "        grid=True)"
   ]
  },
  {
   "cell_type": "code",
   "execution_count": 49,
   "metadata": {},
   "outputs": [
    {
     "data": {
      "text/plain": [
       "<AxesSubplot:xlabel='days_exposition', ylabel='last_price'>"
      ]
     },
     "execution_count": 49,
     "metadata": {},
     "output_type": "execute_result"
    },
    {
     "data": {
      "image/png": "[encoded data removed]",
      "text/plain": [
       "<Figure size 1440x432 with 1 Axes>"
      ]
     },
     "metadata": {
      "needs_background": "light"
     },
     "output_type": "display_data"
    }
   ],
   "source": [
    "df.plot(kind='scatter', \n",
    "        x='days_exposition',\n",
    "        y='last_price',\n",
    "        ylim=(0, 10000000), figsize=(20, 6), \n",
    "        grid=True)"
   ]
  },
  {
   "cell_type": "markdown",
   "metadata": {},
   "source": [
    "**Вывод:**\n",
    "На первом графике видны точки, которые выбиваться из общей группировки, это квартиры выше средней ценовой категории, можно сделать вывод. Что стоимость квартиры не влияет на время продажи другой момент что таких премиальных квартир не много и этот вывод можно подвергнуть сомнению. \n",
    "\n",
    "На 2 графике более детально рассмотрена средняя ценовая категория объявлений. Все таки все объявление в большинстве своем продаются за 200 дней "
   ]
  },
  {
   "cell_type": "markdown",
   "metadata": {},
   "source": [
    "**Сравним цену недвижимости с количеством дней публикации.**\n",
    "\n",
    "Квартиры высокой ценовой категории продаются на всем временном диапазоне, другой момент что их не так много. В данных в основном представлена недвижимость до 10 млн. \n"
   ]
  },
  {
   "cell_type": "code",
   "execution_count": 50,
   "metadata": {},
   "outputs": [
    {
     "name": "stdout",
     "output_type": "stream",
     "text": [
      "медиана 96.0 \n",
      "среднее 182.9\n"
     ]
    }
   ],
   "source": [
    "print ('медиана', df['days_exposition'].median(), '\\n'+'среднее', df['days_exposition'].mean().round(1))"
   ]
  },
  {
   "cell_type": "markdown",
   "metadata": {},
   "source": [
    "**Вывод** Самые быстрыми продажами можно считать квартиры, которые проданы быстрее чем за 100 дней. На них приходиться основное количество это отображено на графике и при расчете медианы (94). Если смотреть среднее значение, то оно выходит слишком завышенным, скорее всего из-за того, что диапазон достаточно большой, а основное скопление продаж происходит в 1/3 графика.\n",
    "\n",
    "Самые долгие продажи это после 800 дней или 2-х лет. Причем от стоимости квартиры это не зависит"
   ]
  },
  {
   "cell_type": "markdown",
   "metadata": {},
   "source": [
    "**Факторы влияют на общую (полную) стоимость объекта**\n",
    "\n",
    "выявление факторов, которые больше всего влияют на общую (полную) стоимость объекта.\n",
    "\n",
    "        - размер общей площади;\n",
    "        \n",
    "        - размер жилой площади;\n",
    "        \n",
    "        - площадь кухни;\n",
    "        \n",
    "        - количество комнат;\n",
    "        \n",
    "        - типа этажа, на котором расположена квартира (первый, последний, другой);\n",
    "        \n",
    "        - даты размещения (день недели, месяц, год);"
   ]
  },
  {
   "cell_type": "code",
   "execution_count": 51,
   "metadata": {},
   "outputs": [
    {
     "data": {
      "text/html": [
       "<div>\n",
       "<style scoped>\n",
       "    .dataframe tbody tr th:only-of-type {\n",
       "        vertical-align: middle;\n",
       "    }\n",
       "\n",
       "    .dataframe tbody tr th {\n",
       "        vertical-align: top;\n",
       "    }\n",
       "\n",
       "    .dataframe thead th {\n",
       "        text-align: right;\n",
       "    }\n",
       "</style>\n",
       "<table border=\"1\" class=\"dataframe\">\n",
       "  <thead>\n",
       "    <tr style=\"text-align: right;\">\n",
       "      <th></th>\n",
       "      <th>last_price</th>\n",
       "      <th>total_area</th>\n",
       "      <th>living_area</th>\n",
       "      <th>kitchen_area</th>\n",
       "      <th>rooms</th>\n",
       "      <th>floor_type</th>\n",
       "      <th>day</th>\n",
       "      <th>month</th>\n",
       "      <th>year</th>\n",
       "    </tr>\n",
       "  </thead>\n",
       "  <tbody>\n",
       "    <tr>\n",
       "      <th>0</th>\n",
       "      <td>3350000</td>\n",
       "      <td>40.4</td>\n",
       "      <td>18.6</td>\n",
       "      <td>11.0</td>\n",
       "      <td>1</td>\n",
       "      <td>первый</td>\n",
       "      <td>4</td>\n",
       "      <td>12</td>\n",
       "      <td>2018</td>\n",
       "    </tr>\n",
       "    <tr>\n",
       "      <th>1</th>\n",
       "      <td>5196000</td>\n",
       "      <td>56.0</td>\n",
       "      <td>34.3</td>\n",
       "      <td>8.3</td>\n",
       "      <td>2</td>\n",
       "      <td>другой</td>\n",
       "      <td>20</td>\n",
       "      <td>8</td>\n",
       "      <td>2015</td>\n",
       "    </tr>\n",
       "    <tr>\n",
       "      <th>2</th>\n",
       "      <td>64900000</td>\n",
       "      <td>159.0</td>\n",
       "      <td>NaN</td>\n",
       "      <td>NaN</td>\n",
       "      <td>3</td>\n",
       "      <td>другой</td>\n",
       "      <td>24</td>\n",
       "      <td>7</td>\n",
       "      <td>2015</td>\n",
       "    </tr>\n",
       "    <tr>\n",
       "      <th>3</th>\n",
       "      <td>10000000</td>\n",
       "      <td>100.0</td>\n",
       "      <td>32.0</td>\n",
       "      <td>41.0</td>\n",
       "      <td>2</td>\n",
       "      <td>другой</td>\n",
       "      <td>19</td>\n",
       "      <td>6</td>\n",
       "      <td>2018</td>\n",
       "    </tr>\n",
       "    <tr>\n",
       "      <th>4</th>\n",
       "      <td>3700000</td>\n",
       "      <td>37.3</td>\n",
       "      <td>10.6</td>\n",
       "      <td>14.4</td>\n",
       "      <td>1</td>\n",
       "      <td>другой</td>\n",
       "      <td>2</td>\n",
       "      <td>11</td>\n",
       "      <td>2017</td>\n",
       "    </tr>\n",
       "  </tbody>\n",
       "</table>\n",
       "</div>"
      ],
      "text/plain": [
       "   last_price  total_area  living_area  kitchen_area  rooms floor_type  day  \\\n",
       "0     3350000        40.4         18.6          11.0      1     первый    4   \n",
       "1     5196000        56.0         34.3           8.3      2     другой   20   \n",
       "2    64900000       159.0          NaN           NaN      3     другой   24   \n",
       "3    10000000       100.0         32.0          41.0      2     другой   19   \n",
       "4     3700000        37.3         10.6          14.4      1     другой    2   \n",
       "\n",
       "   month  year  \n",
       "0     12  2018  \n",
       "1      8  2015  \n",
       "2      7  2015  \n",
       "3      6  2018  \n",
       "4     11  2017  "
      ]
     },
     "execution_count": 51,
     "metadata": {},
     "output_type": "execute_result"
    }
   ],
   "source": [
    "price = df[['last_price', 'total_area', 'living_area', 'kitchen_area', 'rooms', \n",
    "            'floor_type', 'day', 'month', 'year']]\n",
    "price.head()"
   ]
  },
  {
   "cell_type": "code",
   "execution_count": 52,
   "metadata": {},
   "outputs": [
    {
     "data": {
      "text/plain": [
       "<AxesSubplot:xlabel='total_area'>"
      ]
     },
     "execution_count": 52,
     "metadata": {},
     "output_type": "execute_result"
    },
    {
     "data": {
      "image/png": "[encoded data removed]",
      "text/plain": [
       "<Figure size 432x288 with 1 Axes>"
      ]
     },
     "metadata": {
      "needs_background": "light"
     },
     "output_type": "display_data"
    }
   ],
   "source": [
    "price.sort_values('total_area').plot(x='total_area', y='last_price', xlim=(0, 400))"
   ]
  },
  {
   "cell_type": "code",
   "execution_count": 53,
   "metadata": {},
   "outputs": [
    {
     "data": {
      "text/plain": [
       "<AxesSubplot:xlabel='total_area'>"
      ]
     },
     "execution_count": 53,
     "metadata": {},
     "output_type": "execute_result"
    },
    {
     "data": {
      "image/png": "[encoded data removed]",
      "text/plain": [
       "<Figure size 432x288 with 1 Axes>"
      ]
     },
     "metadata": {
      "needs_background": "light"
     },
     "output_type": "display_data"
    }
   ],
   "source": [
    "#убираем не подходящие квартиры по цене и площади \n",
    "price = price[price['last_price'] < 20000000]  \n",
    "price = price[price['total_area'] < 150] \n",
    "\n",
    "price.sort_values('total_area').plot(style='o', x='total_area', y='last_price')"
   ]
  },
  {
   "cell_type": "code",
   "execution_count": 54,
   "metadata": {},
   "outputs": [
    {
     "data": {
      "text/plain": [
       "0.8030360938704262"
      ]
     },
     "execution_count": 54,
     "metadata": {},
     "output_type": "execute_result"
    }
   ],
   "source": [
    "price['last_price'].corr(price['total_area'])"
   ]
  },
  {
   "cell_type": "markdown",
   "metadata": {},
   "source": [
    "**Вывод** Для определения зависимости общей площади к цене. Был построен график, по нему стало понятно какие значения можно исключить чтобы они не искажали представление. Визуально прослеживается зависимость чем больше площадь, тем дороже квартира. \n",
    "\n",
    "Произведен расчет корреляции и выявлена прямая зависимость размера общей площади к цене"
   ]
  },
  {
   "cell_type": "code",
   "execution_count": 55,
   "metadata": {},
   "outputs": [
    {
     "data": {
      "text/plain": [
       "<AxesSubplot:xlabel='living_area'>"
      ]
     },
     "execution_count": 55,
     "metadata": {},
     "output_type": "execute_result"
    },
    {
     "data": {
      "image/png": "[encoded data removed]",
      "text/plain": [
       "<Figure size 432x288 with 1 Axes>"
      ]
     },
     "metadata": {
      "needs_background": "light"
     },
     "output_type": "display_data"
    }
   ],
   "source": [
    "price.sort_values('living_area').plot(x='living_area', y='last_price')"
   ]
  },
  {
   "cell_type": "code",
   "execution_count": 56,
   "metadata": {},
   "outputs": [],
   "source": [
    "#удаляем выбросы по жилой площади\n",
    "price = price[price['living_area']<100] "
   ]
  },
  {
   "cell_type": "code",
   "execution_count": 57,
   "metadata": {},
   "outputs": [
    {
     "data": {
      "text/plain": [
       "<AxesSubplot:xlabel='living_area'>"
      ]
     },
     "execution_count": 57,
     "metadata": {},
     "output_type": "execute_result"
    },
    {
     "data": {
      "image/png": "[encoded data removed]",
      "text/plain": [
       "<Figure size 432x288 with 1 Axes>"
      ]
     },
     "metadata": {
      "needs_background": "light"
     },
     "output_type": "display_data"
    }
   ],
   "source": [
    "price.plot(style='o', x='living_area', y='last_price')"
   ]
  },
  {
   "cell_type": "code",
   "execution_count": 58,
   "metadata": {},
   "outputs": [
    {
     "data": {
      "text/plain": [
       "0.6770198163514708"
      ]
     },
     "execution_count": 58,
     "metadata": {},
     "output_type": "execute_result"
    }
   ],
   "source": [
    "price['last_price'].corr(price['living_area'])"
   ]
  },
  {
   "cell_type": "markdown",
   "metadata": {},
   "source": [
    "**Вывод** Взаимосвязь цены от жилой площади не ярко выражена. Об этом нам говорит корреляция между этими факторами 0,67"
   ]
  },
  {
   "cell_type": "code",
   "execution_count": 59,
   "metadata": {},
   "outputs": [
    {
     "data": {
      "text/plain": [
       "0.5752733301696596"
      ]
     },
     "execution_count": 59,
     "metadata": {},
     "output_type": "execute_result"
    },
    {
     "data": {
      "image/png": "[encoded data removed]",
      "text/plain": [
       "<Figure size 432x288 with 1 Axes>"
      ]
     },
     "metadata": {
      "needs_background": "light"
     },
     "output_type": "display_data"
    },
    {
     "data": {
      "image/png": "[encoded data removed]",
      "text/plain": [
       "<Figure size 432x288 with 1 Axes>"
      ]
     },
     "metadata": {
      "needs_background": "light"
     },
     "output_type": "display_data"
    }
   ],
   "source": [
    "price.sort_values('kitchen_area').plot(x='kitchen_area', y='last_price')\n",
    "\n",
    "price = price[price['kitchen_area']<40]\n",
    "\n",
    "price.plot(style='o', x='kitchen_area', y='last_price')\n",
    "\n",
    "price['last_price'].corr(price['kitchen_area'])"
   ]
  },
  {
   "cell_type": "markdown",
   "metadata": {},
   "source": [
    "**Вывод** Размер кухни на цену сильно не влияет."
   ]
  },
  {
   "cell_type": "code",
   "execution_count": 60,
   "metadata": {},
   "outputs": [
    {
     "data": {
      "text/html": [
       "<div>\n",
       "<style scoped>\n",
       "    .dataframe tbody tr th:only-of-type {\n",
       "        vertical-align: middle;\n",
       "    }\n",
       "\n",
       "    .dataframe tbody tr th {\n",
       "        vertical-align: top;\n",
       "    }\n",
       "\n",
       "    .dataframe thead th {\n",
       "        text-align: right;\n",
       "    }\n",
       "</style>\n",
       "<table border=\"1\" class=\"dataframe\">\n",
       "  <thead>\n",
       "    <tr style=\"text-align: right;\">\n",
       "      <th></th>\n",
       "      <th>count</th>\n",
       "      <th>mean</th>\n",
       "    </tr>\n",
       "    <tr>\n",
       "      <th>rooms</th>\n",
       "      <th></th>\n",
       "      <th></th>\n",
       "    </tr>\n",
       "  </thead>\n",
       "  <tbody>\n",
       "    <tr>\n",
       "      <th>1</th>\n",
       "      <td>4767</td>\n",
       "      <td>4.165650e+06</td>\n",
       "    </tr>\n",
       "    <tr>\n",
       "      <th>2</th>\n",
       "      <td>4666</td>\n",
       "      <td>5.910739e+06</td>\n",
       "    </tr>\n",
       "    <tr>\n",
       "      <th>3</th>\n",
       "      <td>3393</td>\n",
       "      <td>7.403189e+06</td>\n",
       "    </tr>\n",
       "    <tr>\n",
       "      <th>4</th>\n",
       "      <td>599</td>\n",
       "      <td>8.714337e+06</td>\n",
       "    </tr>\n",
       "    <tr>\n",
       "      <th>5</th>\n",
       "      <td>95</td>\n",
       "      <td>1.084552e+07</td>\n",
       "    </tr>\n",
       "    <tr>\n",
       "      <th>6</th>\n",
       "      <td>9</td>\n",
       "      <td>1.058378e+07</td>\n",
       "    </tr>\n",
       "    <tr>\n",
       "      <th>7</th>\n",
       "      <td>2</td>\n",
       "      <td>1.350000e+07</td>\n",
       "    </tr>\n",
       "  </tbody>\n",
       "</table>\n",
       "</div>"
      ],
      "text/plain": [
       "       count          mean\n",
       "rooms                     \n",
       "1       4767  4.165650e+06\n",
       "2       4666  5.910739e+06\n",
       "3       3393  7.403189e+06\n",
       "4        599  8.714337e+06\n",
       "5         95  1.084552e+07\n",
       "6          9  1.058378e+07\n",
       "7          2  1.350000e+07"
      ]
     },
     "execution_count": 60,
     "metadata": {},
     "output_type": "execute_result"
    }
   ],
   "source": [
    "price.groupby('rooms', dropna=False)['last_price'].agg(['count', 'mean'])"
   ]
  },
  {
   "cell_type": "markdown",
   "metadata": {},
   "source": [
    "**Вывод** Смотрим на основные группы. 1-3 комнатные.\n",
    "Количество комнат прямо пропорционально влияет на стоимость квартиры \n"
   ]
  },
  {
   "cell_type": "code",
   "execution_count": 61,
   "metadata": {},
   "outputs": [
    {
     "data": {
      "text/html": [
       "<div>\n",
       "<style scoped>\n",
       "    .dataframe tbody tr th:only-of-type {\n",
       "        vertical-align: middle;\n",
       "    }\n",
       "\n",
       "    .dataframe tbody tr th {\n",
       "        vertical-align: top;\n",
       "    }\n",
       "\n",
       "    .dataframe thead th {\n",
       "        text-align: right;\n",
       "    }\n",
       "</style>\n",
       "<table border=\"1\" class=\"dataframe\">\n",
       "  <thead>\n",
       "    <tr style=\"text-align: right;\">\n",
       "      <th></th>\n",
       "      <th>count</th>\n",
       "      <th>mean</th>\n",
       "    </tr>\n",
       "    <tr>\n",
       "      <th>floor_type</th>\n",
       "      <th></th>\n",
       "      <th></th>\n",
       "    </tr>\n",
       "  </thead>\n",
       "  <tbody>\n",
       "    <tr>\n",
       "      <th>другой</th>\n",
       "      <td>10342</td>\n",
       "      <td>5.964160e+06</td>\n",
       "    </tr>\n",
       "    <tr>\n",
       "      <th>первый</th>\n",
       "      <td>1481</td>\n",
       "      <td>4.955970e+06</td>\n",
       "    </tr>\n",
       "    <tr>\n",
       "      <th>последний</th>\n",
       "      <td>1708</td>\n",
       "      <td>5.800654e+06</td>\n",
       "    </tr>\n",
       "  </tbody>\n",
       "</table>\n",
       "</div>"
      ],
      "text/plain": [
       "            count          mean\n",
       "floor_type                     \n",
       "другой      10342  5.964160e+06\n",
       "первый       1481  4.955970e+06\n",
       "последний    1708  5.800654e+06"
      ]
     },
     "execution_count": 61,
     "metadata": {},
     "output_type": "execute_result"
    }
   ],
   "source": [
    "price.groupby('floor_type', dropna=False)['last_price'].agg(['count', 'mean'])"
   ]
  },
  {
   "cell_type": "markdown",
   "metadata": {},
   "source": [
    "**Вывод** Пип этажа не сильно влияет на стоимость. Но квартиры на промежуточном этаже стоят чуть дороже, а квартиры на первом этаже пользуются наименьшим спросом. "
   ]
  },
  {
   "cell_type": "code",
   "execution_count": 62,
   "metadata": {},
   "outputs": [
    {
     "data": {
      "text/html": [
       "<div>\n",
       "<style scoped>\n",
       "    .dataframe tbody tr th:only-of-type {\n",
       "        vertical-align: middle;\n",
       "    }\n",
       "\n",
       "    .dataframe tbody tr th {\n",
       "        vertical-align: top;\n",
       "    }\n",
       "\n",
       "    .dataframe thead th {\n",
       "        text-align: right;\n",
       "    }\n",
       "</style>\n",
       "<table border=\"1\" class=\"dataframe\">\n",
       "  <thead>\n",
       "    <tr style=\"text-align: right;\">\n",
       "      <th></th>\n",
       "      <th>count</th>\n",
       "      <th>mean</th>\n",
       "    </tr>\n",
       "    <tr>\n",
       "      <th>day</th>\n",
       "      <th></th>\n",
       "      <th></th>\n",
       "    </tr>\n",
       "  </thead>\n",
       "  <tbody>\n",
       "    <tr>\n",
       "      <th>6</th>\n",
       "      <td>377</td>\n",
       "      <td>5.521836e+06</td>\n",
       "    </tr>\n",
       "    <tr>\n",
       "      <th>7</th>\n",
       "      <td>424</td>\n",
       "      <td>5.543515e+06</td>\n",
       "    </tr>\n",
       "    <tr>\n",
       "      <th>31</th>\n",
       "      <td>196</td>\n",
       "      <td>5.612381e+06</td>\n",
       "    </tr>\n",
       "    <tr>\n",
       "      <th>5</th>\n",
       "      <td>364</td>\n",
       "      <td>5.620678e+06</td>\n",
       "    </tr>\n",
       "    <tr>\n",
       "      <th>22</th>\n",
       "      <td>422</td>\n",
       "      <td>5.623470e+06</td>\n",
       "    </tr>\n",
       "    <tr>\n",
       "      <th>14</th>\n",
       "      <td>492</td>\n",
       "      <td>5.652755e+06</td>\n",
       "    </tr>\n",
       "    <tr>\n",
       "      <th>17</th>\n",
       "      <td>419</td>\n",
       "      <td>5.655588e+06</td>\n",
       "    </tr>\n",
       "    <tr>\n",
       "      <th>30</th>\n",
       "      <td>304</td>\n",
       "      <td>5.660364e+06</td>\n",
       "    </tr>\n",
       "    <tr>\n",
       "      <th>2</th>\n",
       "      <td>390</td>\n",
       "      <td>5.662429e+06</td>\n",
       "    </tr>\n",
       "    <tr>\n",
       "      <th>24</th>\n",
       "      <td>386</td>\n",
       "      <td>5.707451e+06</td>\n",
       "    </tr>\n",
       "    <tr>\n",
       "      <th>18</th>\n",
       "      <td>436</td>\n",
       "      <td>5.735127e+06</td>\n",
       "    </tr>\n",
       "    <tr>\n",
       "      <th>8</th>\n",
       "      <td>443</td>\n",
       "      <td>5.747213e+06</td>\n",
       "    </tr>\n",
       "    <tr>\n",
       "      <th>13</th>\n",
       "      <td>495</td>\n",
       "      <td>5.816551e+06</td>\n",
       "    </tr>\n",
       "    <tr>\n",
       "      <th>16</th>\n",
       "      <td>434</td>\n",
       "      <td>5.823958e+06</td>\n",
       "    </tr>\n",
       "    <tr>\n",
       "      <th>23</th>\n",
       "      <td>378</td>\n",
       "      <td>5.831108e+06</td>\n",
       "    </tr>\n",
       "    <tr>\n",
       "      <th>19</th>\n",
       "      <td>426</td>\n",
       "      <td>5.834664e+06</td>\n",
       "    </tr>\n",
       "    <tr>\n",
       "      <th>15</th>\n",
       "      <td>468</td>\n",
       "      <td>5.837590e+06</td>\n",
       "    </tr>\n",
       "    <tr>\n",
       "      <th>11</th>\n",
       "      <td>466</td>\n",
       "      <td>5.850648e+06</td>\n",
       "    </tr>\n",
       "    <tr>\n",
       "      <th>28</th>\n",
       "      <td>420</td>\n",
       "      <td>5.850783e+06</td>\n",
       "    </tr>\n",
       "    <tr>\n",
       "      <th>3</th>\n",
       "      <td>365</td>\n",
       "      <td>5.869170e+06</td>\n",
       "    </tr>\n",
       "    <tr>\n",
       "      <th>1</th>\n",
       "      <td>656</td>\n",
       "      <td>5.878137e+06</td>\n",
       "    </tr>\n",
       "    <tr>\n",
       "      <th>26</th>\n",
       "      <td>491</td>\n",
       "      <td>5.899451e+06</td>\n",
       "    </tr>\n",
       "    <tr>\n",
       "      <th>12</th>\n",
       "      <td>513</td>\n",
       "      <td>5.960739e+06</td>\n",
       "    </tr>\n",
       "    <tr>\n",
       "      <th>25</th>\n",
       "      <td>413</td>\n",
       "      <td>5.964249e+06</td>\n",
       "    </tr>\n",
       "    <tr>\n",
       "      <th>21</th>\n",
       "      <td>480</td>\n",
       "      <td>5.968172e+06</td>\n",
       "    </tr>\n",
       "    <tr>\n",
       "      <th>29</th>\n",
       "      <td>399</td>\n",
       "      <td>5.971124e+06</td>\n",
       "    </tr>\n",
       "    <tr>\n",
       "      <th>9</th>\n",
       "      <td>442</td>\n",
       "      <td>5.974978e+06</td>\n",
       "    </tr>\n",
       "    <tr>\n",
       "      <th>20</th>\n",
       "      <td>504</td>\n",
       "      <td>5.995885e+06</td>\n",
       "    </tr>\n",
       "    <tr>\n",
       "      <th>4</th>\n",
       "      <td>373</td>\n",
       "      <td>6.049937e+06</td>\n",
       "    </tr>\n",
       "    <tr>\n",
       "      <th>27</th>\n",
       "      <td>467</td>\n",
       "      <td>6.059438e+06</td>\n",
       "    </tr>\n",
       "    <tr>\n",
       "      <th>10</th>\n",
       "      <td>688</td>\n",
       "      <td>6.138280e+06</td>\n",
       "    </tr>\n",
       "  </tbody>\n",
       "</table>\n",
       "</div>"
      ],
      "text/plain": [
       "     count          mean\n",
       "day                     \n",
       "6      377  5.521836e+06\n",
       "7      424  5.543515e+06\n",
       "31     196  5.612381e+06\n",
       "5      364  5.620678e+06\n",
       "22     422  5.623470e+06\n",
       "14     492  5.652755e+06\n",
       "17     419  5.655588e+06\n",
       "30     304  5.660364e+06\n",
       "2      390  5.662429e+06\n",
       "24     386  5.707451e+06\n",
       "18     436  5.735127e+06\n",
       "8      443  5.747213e+06\n",
       "13     495  5.816551e+06\n",
       "16     434  5.823958e+06\n",
       "23     378  5.831108e+06\n",
       "19     426  5.834664e+06\n",
       "15     468  5.837590e+06\n",
       "11     466  5.850648e+06\n",
       "28     420  5.850783e+06\n",
       "3      365  5.869170e+06\n",
       "1      656  5.878137e+06\n",
       "26     491  5.899451e+06\n",
       "12     513  5.960739e+06\n",
       "25     413  5.964249e+06\n",
       "21     480  5.968172e+06\n",
       "29     399  5.971124e+06\n",
       "9      442  5.974978e+06\n",
       "20     504  5.995885e+06\n",
       "4      373  6.049937e+06\n",
       "27     467  6.059438e+06\n",
       "10     688  6.138280e+06"
      ]
     },
     "execution_count": 62,
     "metadata": {},
     "output_type": "execute_result"
    }
   ],
   "source": [
    "price.groupby('day', dropna=False)['last_price'].agg(['count', 'mean']).sort_values(by='mean')"
   ]
  },
  {
   "cell_type": "markdown",
   "metadata": {},
   "source": [
    "**Вывод** Каждый день в месяце публикуется примерно одинаковое количество объявлений, но самые \"дешевые\" дни 6,7,31,5. Самые \"дорогие\" дни 10,27,4,20. Итог в начале месяца продаются квартиры дешевле а в конце по дороже. "
   ]
  },
  {
   "cell_type": "code",
   "execution_count": 63,
   "metadata": {},
   "outputs": [
    {
     "data": {
      "text/html": [
       "<div>\n",
       "<style scoped>\n",
       "    .dataframe tbody tr th:only-of-type {\n",
       "        vertical-align: middle;\n",
       "    }\n",
       "\n",
       "    .dataframe tbody tr th {\n",
       "        vertical-align: top;\n",
       "    }\n",
       "\n",
       "    .dataframe thead th {\n",
       "        text-align: right;\n",
       "    }\n",
       "</style>\n",
       "<table border=\"1\" class=\"dataframe\">\n",
       "  <thead>\n",
       "    <tr style=\"text-align: right;\">\n",
       "      <th></th>\n",
       "      <th>mean</th>\n",
       "      <th>count</th>\n",
       "    </tr>\n",
       "    <tr>\n",
       "      <th>month</th>\n",
       "      <th></th>\n",
       "      <th></th>\n",
       "    </tr>\n",
       "  </thead>\n",
       "  <tbody>\n",
       "    <tr>\n",
       "      <th>1</th>\n",
       "      <td>5.875560e+06</td>\n",
       "      <td>788</td>\n",
       "    </tr>\n",
       "    <tr>\n",
       "      <th>2</th>\n",
       "      <td>5.760325e+06</td>\n",
       "      <td>1491</td>\n",
       "    </tr>\n",
       "    <tr>\n",
       "      <th>3</th>\n",
       "      <td>5.853816e+06</td>\n",
       "      <td>1257</td>\n",
       "    </tr>\n",
       "    <tr>\n",
       "      <th>4</th>\n",
       "      <td>5.834371e+06</td>\n",
       "      <td>1041</td>\n",
       "    </tr>\n",
       "    <tr>\n",
       "      <th>5</th>\n",
       "      <td>5.794868e+06</td>\n",
       "      <td>777</td>\n",
       "    </tr>\n",
       "    <tr>\n",
       "      <th>6</th>\n",
       "      <td>5.666477e+06</td>\n",
       "      <td>1110</td>\n",
       "    </tr>\n",
       "    <tr>\n",
       "      <th>7</th>\n",
       "      <td>5.725323e+06</td>\n",
       "      <td>1022</td>\n",
       "    </tr>\n",
       "    <tr>\n",
       "      <th>8</th>\n",
       "      <td>5.767721e+06</td>\n",
       "      <td>1091</td>\n",
       "    </tr>\n",
       "    <tr>\n",
       "      <th>9</th>\n",
       "      <td>6.117859e+06</td>\n",
       "      <td>1291</td>\n",
       "    </tr>\n",
       "    <tr>\n",
       "      <th>10</th>\n",
       "      <td>5.727871e+06</td>\n",
       "      <td>1315</td>\n",
       "    </tr>\n",
       "    <tr>\n",
       "      <th>11</th>\n",
       "      <td>5.860119e+06</td>\n",
       "      <td>1476</td>\n",
       "    </tr>\n",
       "    <tr>\n",
       "      <th>12</th>\n",
       "      <td>6.034553e+06</td>\n",
       "      <td>872</td>\n",
       "    </tr>\n",
       "  </tbody>\n",
       "</table>\n",
       "</div>"
      ],
      "text/plain": [
       "               mean  count\n",
       "month                     \n",
       "1      5.875560e+06    788\n",
       "2      5.760325e+06   1491\n",
       "3      5.853816e+06   1257\n",
       "4      5.834371e+06   1041\n",
       "5      5.794868e+06    777\n",
       "6      5.666477e+06   1110\n",
       "7      5.725323e+06   1022\n",
       "8      5.767721e+06   1091\n",
       "9      6.117859e+06   1291\n",
       "10     5.727871e+06   1315\n",
       "11     5.860119e+06   1476\n",
       "12     6.034553e+06    872"
      ]
     },
     "execution_count": 63,
     "metadata": {},
     "output_type": "execute_result"
    }
   ],
   "source": [
    "price.groupby('month', dropna=False)['last_price'].agg(['mean', 'count'])"
   ]
  },
  {
   "cell_type": "markdown",
   "metadata": {},
   "source": [
    "**Вывод** В начале и в конце года продажи снижаются скорее всего это связано с праздничным периодом. Средняя стоимость продаж на протяжении всего года примерно одинаковая не зависимо от месяца. "
   ]
  },
  {
   "cell_type": "code",
   "execution_count": 64,
   "metadata": {},
   "outputs": [
    {
     "data": {
      "text/html": [
       "<div>\n",
       "<style scoped>\n",
       "    .dataframe tbody tr th:only-of-type {\n",
       "        vertical-align: middle;\n",
       "    }\n",
       "\n",
       "    .dataframe tbody tr th {\n",
       "        vertical-align: top;\n",
       "    }\n",
       "\n",
       "    .dataframe thead th {\n",
       "        text-align: right;\n",
       "    }\n",
       "</style>\n",
       "<table border=\"1\" class=\"dataframe\">\n",
       "  <thead>\n",
       "    <tr style=\"text-align: right;\">\n",
       "      <th></th>\n",
       "      <th>mean</th>\n",
       "      <th>count</th>\n",
       "    </tr>\n",
       "    <tr>\n",
       "      <th>year</th>\n",
       "      <th></th>\n",
       "      <th></th>\n",
       "    </tr>\n",
       "  </thead>\n",
       "  <tbody>\n",
       "    <tr>\n",
       "      <th>2014</th>\n",
       "      <td>8.429066e+06</td>\n",
       "      <td>77</td>\n",
       "    </tr>\n",
       "    <tr>\n",
       "      <th>2015</th>\n",
       "      <td>6.352753e+06</td>\n",
       "      <td>738</td>\n",
       "    </tr>\n",
       "    <tr>\n",
       "      <th>2016</th>\n",
       "      <td>5.897424e+06</td>\n",
       "      <td>1827</td>\n",
       "    </tr>\n",
       "    <tr>\n",
       "      <th>2017</th>\n",
       "      <td>5.757934e+06</td>\n",
       "      <td>5421</td>\n",
       "    </tr>\n",
       "    <tr>\n",
       "      <th>2018</th>\n",
       "      <td>5.795708e+06</td>\n",
       "      <td>4709</td>\n",
       "    </tr>\n",
       "    <tr>\n",
       "      <th>2019</th>\n",
       "      <td>5.679759e+06</td>\n",
       "      <td>759</td>\n",
       "    </tr>\n",
       "  </tbody>\n",
       "</table>\n",
       "</div>"
      ],
      "text/plain": [
       "              mean  count\n",
       "year                     \n",
       "2014  8.429066e+06     77\n",
       "2015  6.352753e+06    738\n",
       "2016  5.897424e+06   1827\n",
       "2017  5.757934e+06   5421\n",
       "2018  5.795708e+06   4709\n",
       "2019  5.679759e+06    759"
      ]
     },
     "execution_count": 64,
     "metadata": {},
     "output_type": "execute_result"
    }
   ],
   "source": [
    "price.groupby('year', dropna=False)['last_price'].agg(['mean', 'count'])"
   ]
  },
  {
   "cell_type": "markdown",
   "metadata": {},
   "source": [
    "**Вывод** Основные года публикации это 2016-2018. Средняя стоимость находится на одном уровне, самая большая стоимость в 2014, но и объявлений не много было сделано, скорее всего площадка только запускалась в это время "
   ]
  },
  {
   "cell_type": "markdown",
   "metadata": {},
   "source": [
    "**Общий вывод факторов, которые влияют на стоимость.** \n",
    "Явные факторы: \n",
    "\n",
    "\n",
    "*   общая площадь сильно влияет на стоимость; \n",
    "*   количество комнат очень сильно влияет на стоимость так что это важный фактор;\n",
    "*   жилая площадь тоже влияет, но уже не так сильно, как общая площадь;\n",
    "*   размер кухни так явно не влияет как вышеперечисленные факторы.\n",
    "*   месяц размещения, в декабре продаются самые дорогие квартиры\n",
    "\n",
    "Не сильно влияющие факторы на стоимость:\n",
    "*   тип этажа;\n",
    "*   День размещения,\n",
    "*   Год \n",
    "\n",
    "\n",
    "*Результаты указаны в порядке приоритета влияния на цену"
   ]
  },
  {
   "cell_type": "markdown",
   "metadata": {},
   "source": [
    "\"Cредняя цена одного квадратного метра в 10 населённых пунктах с наибольшим числом объявлений.\n",
    "\n",
    "Выделите населённые пункты с самой высокой и низкой стоимостью квадратного метра. Эти данные можно найти по имени в столбце locality_name.\""
   ]
  },
  {
   "cell_type": "markdown",
   "metadata": {},
   "source": [
    "сортировка `df` по населенным пунктам"
   ]
  },
  {
   "cell_type": "code",
   "execution_count": 65,
   "metadata": {},
   "outputs": [],
   "source": [
    "pregorod = df.query('locality_name.str.match(\"посёлок\")')\n",
    "pregorod_10 = (pregorod.groupby(by='locality_name')[['day']]\n",
    "               .count()\n",
    "               .sort_values(by='day', ascending = False)\n",
    "               .head(10))"
   ]
  },
  {
   "cell_type": "markdown",
   "metadata": {},
   "source": [
    "Сортировка пригородов с наибольшим числом объявлений. Добавление в таблицу столбца со среднец ценой за 2м к каждому пригороду"
   ]
  },
  {
   "cell_type": "code",
   "execution_count": 66,
   "metadata": {},
   "outputs": [],
   "source": [
    "prise = []\n",
    "for pregorod in pregorod_10.index:\n",
    "  price_area = df[df['locality_name']==pregorod]\n",
    "  price_area = price_area['last_price'].mean() / price_area['total_area'].mean()\n",
    "  prise.append(price_area)\n",
    "    \n",
    "pregorod_10['prise_mean'] = prise"
   ]
  },
  {
   "cell_type": "code",
   "execution_count": 67,
   "metadata": {},
   "outputs": [
    {
     "data": {
      "text/html": [
       "<div>\n",
       "<style scoped>\n",
       "    .dataframe tbody tr th:only-of-type {\n",
       "        vertical-align: middle;\n",
       "    }\n",
       "\n",
       "    .dataframe tbody tr th {\n",
       "        vertical-align: top;\n",
       "    }\n",
       "\n",
       "    .dataframe thead th {\n",
       "        text-align: right;\n",
       "    }\n",
       "</style>\n",
       "<table border=\"1\" class=\"dataframe\">\n",
       "  <thead>\n",
       "    <tr style=\"text-align: right;\">\n",
       "      <th></th>\n",
       "      <th>day</th>\n",
       "      <th>prise_mean</th>\n",
       "    </tr>\n",
       "    <tr>\n",
       "      <th>locality_name</th>\n",
       "      <th></th>\n",
       "      <th></th>\n",
       "    </tr>\n",
       "  </thead>\n",
       "  <tbody>\n",
       "    <tr>\n",
       "      <th>посёлок Сапёрный</th>\n",
       "      <td>5</td>\n",
       "      <td>66721.824687</td>\n",
       "    </tr>\n",
       "    <tr>\n",
       "      <th>посёлок Понтонный</th>\n",
       "      <td>17</td>\n",
       "      <td>70093.590471</td>\n",
       "    </tr>\n",
       "    <tr>\n",
       "      <th>посёлок Металлострой</th>\n",
       "      <td>61</td>\n",
       "      <td>71676.410196</td>\n",
       "    </tr>\n",
       "    <tr>\n",
       "      <th>посёлок Молодёжное</th>\n",
       "      <td>3</td>\n",
       "      <td>74983.187626</td>\n",
       "    </tr>\n",
       "    <tr>\n",
       "      <th>посёлок Шушары</th>\n",
       "      <td>401</td>\n",
       "      <td>75371.156901</td>\n",
       "    </tr>\n",
       "  </tbody>\n",
       "</table>\n",
       "</div>"
      ],
      "text/plain": [
       "                      day    prise_mean\n",
       "locality_name                          \n",
       "посёлок Сапёрный        5  66721.824687\n",
       "посёлок Понтонный      17  70093.590471\n",
       "посёлок Металлострой   61  71676.410196\n",
       "посёлок Молодёжное      3  74983.187626\n",
       "посёлок Шушары        401  75371.156901"
      ]
     },
     "execution_count": 67,
     "metadata": {},
     "output_type": "execute_result"
    }
   ],
   "source": [
    "pregorod_10.sort_values(by='prise_mean').head()#самый дешевый 2м"
   ]
  },
  {
   "cell_type": "code",
   "execution_count": 68,
   "metadata": {},
   "outputs": [
    {
     "data": {
      "text/html": [
       "<div>\n",
       "<style scoped>\n",
       "    .dataframe tbody tr th:only-of-type {\n",
       "        vertical-align: middle;\n",
       "    }\n",
       "\n",
       "    .dataframe tbody tr th {\n",
       "        vertical-align: top;\n",
       "    }\n",
       "\n",
       "    .dataframe thead th {\n",
       "        text-align: right;\n",
       "    }\n",
       "</style>\n",
       "<table border=\"1\" class=\"dataframe\">\n",
       "  <thead>\n",
       "    <tr style=\"text-align: right;\">\n",
       "      <th></th>\n",
       "      <th>day</th>\n",
       "      <th>prise_mean</th>\n",
       "    </tr>\n",
       "    <tr>\n",
       "      <th>locality_name</th>\n",
       "      <th></th>\n",
       "      <th></th>\n",
       "    </tr>\n",
       "  </thead>\n",
       "  <tbody>\n",
       "    <tr>\n",
       "      <th>посёлок Лисий Нос</th>\n",
       "      <td>3</td>\n",
       "      <td>103202.995008</td>\n",
       "    </tr>\n",
       "    <tr>\n",
       "      <th>посёлок Стрельна</th>\n",
       "      <td>37</td>\n",
       "      <td>88821.929729</td>\n",
       "    </tr>\n",
       "    <tr>\n",
       "      <th>посёлок Парголово</th>\n",
       "      <td>298</td>\n",
       "      <td>86458.765473</td>\n",
       "    </tr>\n",
       "    <tr>\n",
       "      <th>посёлок Песочный</th>\n",
       "      <td>4</td>\n",
       "      <td>77863.577864</td>\n",
       "    </tr>\n",
       "    <tr>\n",
       "      <th>посёлок Репино</th>\n",
       "      <td>3</td>\n",
       "      <td>76067.044534</td>\n",
       "    </tr>\n",
       "  </tbody>\n",
       "</table>\n",
       "</div>"
      ],
      "text/plain": [
       "                   day     prise_mean\n",
       "locality_name                        \n",
       "посёлок Лисий Нос    3  103202.995008\n",
       "посёлок Стрельна    37   88821.929729\n",
       "посёлок Парголово  298   86458.765473\n",
       "посёлок Песочный     4   77863.577864\n",
       "посёлок Репино       3   76067.044534"
      ]
     },
     "execution_count": 68,
     "metadata": {},
     "output_type": "execute_result"
    }
   ],
   "source": [
    "pregorod_10.sort_values(by='prise_mean',ascending =False).head()#самый дорогой 2м"
   ]
  },
  {
   "cell_type": "markdown",
   "metadata": {},
   "source": [
    "**Вывод** Было отобрано 10 самых популярных населенных пунктов. И для каждого рассчитана средняя площадь. Чем меньше количество объявлений, тем сильнее цена отклоняется от среднего значения. Самый дешевый 2м в посёлке Сапёрный 66721.82 при 5 объявлениях. \n",
    "\n",
    "Самый дорогой 2м посёлок Лисий Нос 103202.99 при 3 объявлениях. \n",
    "\n",
    "Как мы видим, если смотреть на крайние значения они выходят излишне искаженными. Всё-таки надо делать акцент и на количестве объявлений.\n"
   ]
  },
  {
   "cell_type": "markdown",
   "metadata": {},
   "source": [
    "## **\"Влияние расстояния от центра города на стоимость квартир в городе Санкт-Петербурге \"**\n",
    "\n",
    "Вычисление средней цены каждого километра. Представить описание стоимости объектов в зависимости от расстояния до центра города."
   ]
  },
  {
   "cell_type": "code",
   "execution_count": 69,
   "metadata": {},
   "outputs": [],
   "source": [
    "#Сортировка по нужной локации \n",
    "sp = df[df['locality_name'] == 'Санкт-Петербург'] "
   ]
  },
  {
   "cell_type": "markdown",
   "metadata": {},
   "source": [
    "Чтобы сгруппировать данные, пришлось округлить расстояние от центра города, чтобы были общие группы у квартир на +- одинаковом расстоянии. \n",
    "\n",
    "s.p. правда к процессу округления есть вопросы. Но создать группы для общего представления это позволило."
   ]
  },
  {
   "cell_type": "code",
   "execution_count": 70,
   "metadata": {},
   "outputs": [
    {
     "data": {
      "text/html": [
       "<div>\n",
       "<style scoped>\n",
       "    .dataframe tbody tr th:only-of-type {\n",
       "        vertical-align: middle;\n",
       "    }\n",
       "\n",
       "    .dataframe tbody tr th {\n",
       "        vertical-align: top;\n",
       "    }\n",
       "\n",
       "    .dataframe thead th {\n",
       "        text-align: right;\n",
       "    }\n",
       "</style>\n",
       "<table border=\"1\" class=\"dataframe\">\n",
       "  <thead>\n",
       "    <tr style=\"text-align: right;\">\n",
       "      <th></th>\n",
       "      <th>mean</th>\n",
       "      <th>count</th>\n",
       "    </tr>\n",
       "    <tr>\n",
       "      <th>city_centers_nearest_km</th>\n",
       "      <th></th>\n",
       "      <th></th>\n",
       "    </tr>\n",
       "  </thead>\n",
       "  <tbody>\n",
       "    <tr>\n",
       "      <th>0.0</th>\n",
       "      <td>3.037803e+07</td>\n",
       "      <td>19</td>\n",
       "    </tr>\n",
       "    <tr>\n",
       "      <th>1.0</th>\n",
       "      <td>1.907091e+07</td>\n",
       "      <td>163</td>\n",
       "    </tr>\n",
       "    <tr>\n",
       "      <th>2.0</th>\n",
       "      <td>1.772749e+07</td>\n",
       "      <td>255</td>\n",
       "    </tr>\n",
       "    <tr>\n",
       "      <th>3.0</th>\n",
       "      <td>1.041798e+07</td>\n",
       "      <td>273</td>\n",
       "    </tr>\n",
       "    <tr>\n",
       "      <th>4.0</th>\n",
       "      <td>1.193870e+07</td>\n",
       "      <td>574</td>\n",
       "    </tr>\n",
       "    <tr>\n",
       "      <th>5.0</th>\n",
       "      <td>1.381438e+07</td>\n",
       "      <td>772</td>\n",
       "    </tr>\n",
       "    <tr>\n",
       "      <th>6.0</th>\n",
       "      <td>1.482024e+07</td>\n",
       "      <td>516</td>\n",
       "    </tr>\n",
       "    <tr>\n",
       "      <th>7.0</th>\n",
       "      <td>1.393945e+07</td>\n",
       "      <td>346</td>\n",
       "    </tr>\n",
       "    <tr>\n",
       "      <th>8.0</th>\n",
       "      <td>9.490230e+06</td>\n",
       "      <td>506</td>\n",
       "    </tr>\n",
       "    <tr>\n",
       "      <th>9.0</th>\n",
       "      <td>6.665034e+06</td>\n",
       "      <td>512</td>\n",
       "    </tr>\n",
       "    <tr>\n",
       "      <th>10.0</th>\n",
       "      <td>6.186710e+06</td>\n",
       "      <td>628</td>\n",
       "    </tr>\n",
       "    <tr>\n",
       "      <th>11.0</th>\n",
       "      <td>5.984465e+06</td>\n",
       "      <td>1028</td>\n",
       "    </tr>\n",
       "    <tr>\n",
       "      <th>12.0</th>\n",
       "      <td>5.638952e+06</td>\n",
       "      <td>1391</td>\n",
       "    </tr>\n",
       "    <tr>\n",
       "      <th>13.0</th>\n",
       "      <td>5.945511e+06</td>\n",
       "      <td>1282</td>\n",
       "    </tr>\n",
       "    <tr>\n",
       "      <th>14.0</th>\n",
       "      <td>5.474344e+06</td>\n",
       "      <td>1103</td>\n",
       "    </tr>\n",
       "    <tr>\n",
       "      <th>15.0</th>\n",
       "      <td>5.581908e+06</td>\n",
       "      <td>1358</td>\n",
       "    </tr>\n",
       "    <tr>\n",
       "      <th>16.0</th>\n",
       "      <td>5.219354e+06</td>\n",
       "      <td>1104</td>\n",
       "    </tr>\n",
       "    <tr>\n",
       "      <th>17.0</th>\n",
       "      <td>5.187018e+06</td>\n",
       "      <td>766</td>\n",
       "    </tr>\n",
       "    <tr>\n",
       "      <th>18.0</th>\n",
       "      <td>5.064178e+06</td>\n",
       "      <td>227</td>\n",
       "    </tr>\n",
       "    <tr>\n",
       "      <th>19.0</th>\n",
       "      <td>4.981857e+06</td>\n",
       "      <td>140</td>\n",
       "    </tr>\n",
       "    <tr>\n",
       "      <th>20.0</th>\n",
       "      <td>5.426940e+06</td>\n",
       "      <td>37</td>\n",
       "    </tr>\n",
       "    <tr>\n",
       "      <th>21.0</th>\n",
       "      <td>5.211109e+06</td>\n",
       "      <td>93</td>\n",
       "    </tr>\n",
       "    <tr>\n",
       "      <th>22.0</th>\n",
       "      <td>5.140580e+06</td>\n",
       "      <td>172</td>\n",
       "    </tr>\n",
       "    <tr>\n",
       "      <th>23.0</th>\n",
       "      <td>4.609206e+06</td>\n",
       "      <td>63</td>\n",
       "    </tr>\n",
       "    <tr>\n",
       "      <th>24.0</th>\n",
       "      <td>3.890687e+06</td>\n",
       "      <td>25</td>\n",
       "    </tr>\n",
       "    <tr>\n",
       "      <th>25.0</th>\n",
       "      <td>4.052840e+06</td>\n",
       "      <td>26</td>\n",
       "    </tr>\n",
       "    <tr>\n",
       "      <th>26.0</th>\n",
       "      <td>3.943437e+06</td>\n",
       "      <td>42</td>\n",
       "    </tr>\n",
       "    <tr>\n",
       "      <th>27.0</th>\n",
       "      <td>8.300000e+06</td>\n",
       "      <td>2</td>\n",
       "    </tr>\n",
       "    <tr>\n",
       "      <th>28.0</th>\n",
       "      <td>5.026429e+06</td>\n",
       "      <td>7</td>\n",
       "    </tr>\n",
       "    <tr>\n",
       "      <th>29.0</th>\n",
       "      <td>4.114000e+06</td>\n",
       "      <td>5</td>\n",
       "    </tr>\n",
       "  </tbody>\n",
       "</table>\n",
       "</div>"
      ],
      "text/plain": [
       "                                 mean  count\n",
       "city_centers_nearest_km                     \n",
       "0.0                      3.037803e+07     19\n",
       "1.0                      1.907091e+07    163\n",
       "2.0                      1.772749e+07    255\n",
       "3.0                      1.041798e+07    273\n",
       "4.0                      1.193870e+07    574\n",
       "5.0                      1.381438e+07    772\n",
       "6.0                      1.482024e+07    516\n",
       "7.0                      1.393945e+07    346\n",
       "8.0                      9.490230e+06    506\n",
       "9.0                      6.665034e+06    512\n",
       "10.0                     6.186710e+06    628\n",
       "11.0                     5.984465e+06   1028\n",
       "12.0                     5.638952e+06   1391\n",
       "13.0                     5.945511e+06   1282\n",
       "14.0                     5.474344e+06   1103\n",
       "15.0                     5.581908e+06   1358\n",
       "16.0                     5.219354e+06   1104\n",
       "17.0                     5.187018e+06    766\n",
       "18.0                     5.064178e+06    227\n",
       "19.0                     4.981857e+06    140\n",
       "20.0                     5.426940e+06     37\n",
       "21.0                     5.211109e+06     93\n",
       "22.0                     5.140580e+06    172\n",
       "23.0                     4.609206e+06     63\n",
       "24.0                     3.890687e+06     25\n",
       "25.0                     4.052840e+06     26\n",
       "26.0                     3.943437e+06     42\n",
       "27.0                     8.300000e+06      2\n",
       "28.0                     5.026429e+06      7\n",
       "29.0                     4.114000e+06      5"
      ]
     },
     "execution_count": 70,
     "metadata": {},
     "output_type": "execute_result"
    }
   ],
   "source": [
    "sp_kme = sp.groupby('city_centers_nearest_km')['last_price'].agg([ 'mean', 'count']) #сводная таблица по расстоянию в км \n",
    "sp_kme"
   ]
  },
  {
   "cell_type": "code",
   "execution_count": 71,
   "metadata": {},
   "outputs": [
    {
     "data": {
      "text/plain": [
       "<AxesSubplot:xlabel='city_centers_nearest_km'>"
      ]
     },
     "execution_count": 71,
     "metadata": {},
     "output_type": "execute_result"
    },
    {
     "data": {
      "image/png": "[encoded data removed]",
      "text/plain": [
       "<Figure size 432x288 with 1 Axes>"
      ]
     },
     "metadata": {
      "needs_background": "light"
     },
     "output_type": "display_data"
    }
   ],
   "source": [
    "sp_kme.plot(y='mean', grid=True)"
   ]
  },
  {
   "cell_type": "code",
   "execution_count": 72,
   "metadata": {},
   "outputs": [
    {
     "data": {
      "text/plain": [
       "-0.2726553999272542"
      ]
     },
     "execution_count": 72,
     "metadata": {},
     "output_type": "execute_result"
    }
   ],
   "source": [
    "sp['last_price'].corr(sp['city_centers_nearest_km'])"
   ]
  },
  {
   "cell_type": "markdown",
   "metadata": {},
   "source": [
    "**Вывод** Средняя цена от расстояния достаточно сильно зависит это визуально отображено на графике кривой. Чем ближе к центру, тем больше стоимостью. На графике видно, что в пределах 10 к присутствует недвижимость выше средней цены. Дальше идет снижение по цене, но в основном основное количество объявлений находиться на расстоянии от центра 11-17 км.\n",
    "корреляция не показала зависимость цены от расстояния, скорее всего это связано с тем что основное количество данных находиться на среднем расстоянии от центра. "
   ]
  },
  {
   "cell_type": "markdown",
   "metadata": {},
   "source": [
    "# Общий вывод"
   ]
  },
  {
   "cell_type": "markdown",
   "metadata": {},
   "source": [
    "В данной работе было проведено исследование о продаже квартир\n",
    "**Запуск файла CSV**\n",
    "\n",
    "**Предобработка данных**\n",
    "\n",
    "Первостепенно для работы с документом была проведена пред обработка данных в нее вошло: приведение столбцов к единому стилю, заполнение необходимых пропусков, исключение аномалий (это делалось на протяжении всей работы), приведение к одному типу данных в столбцах, выявление не явных дубликатов, исправление форматы даты. После этого с данными уже стало возможно работать.\n",
    "\n",
    "**Добавлены в таблицу новые столбцы**\n",
    "\n",
    "В таблицу были Внесены промежуточные столбцы для сравнения: цена квадратного метра (от 15000 до 1000000 и более), столбцы с датами, тип этажа (больше всего квартир в типе «другой»), расстояние до центра (отправная точка Питер). \n",
    "\n",
    "**Проведен исследовательский анализ данных**\n",
    "\n",
    "Создана промежуточная таблица для дальнейшего анализа различных данных, как они влияют на стоимость. Проведена отчистка от выбросов. Построены графики различных критериев, которые влияют на стоимость жилья.\n",
    "\n",
    "Проведен анализ продаж квартир, в результате которого был установлено что среднее время продаж квартир составляет 182 дня, а медиана 96 дней лучше стоит ориентироваться на медиану. Потому что она более корректно отражает ситуацию в данных. Стоимость квартиры не влияет, дорогие квартиры продаются на всем временном лаге. \n",
    "\n",
    "Проведен анализ факторов, которые больше всего влияют на стоимость: общая площадь\\жилая, количество комнат, размер кухни, время размещения объявления.\n",
    "\n",
    "Рассчитана средняя цена квадратного метра самый дешевый 2м = 66700, самый дешевый 2м = 103200\n",
    "\n",
    "Произведен расчет стоимости квартир от расстояния от центра города. Самые дорогие квартиры расположены в центре города до 8 км имеют стоимость от 10 млн. Все объявления дальше 8 км имеют одинаковую среднюю стоимость 5,5 млн. \n",
    "\n",
    "**Рекомендации**\n",
    "\n",
    "Хотелось бы по рекомендовать оптимизировать сайт, на котором происходит заполнение объявлений, потому что в результате не заполненных полей пользователей образуется в таблице достаточно много пропусков. \n",
    "Не исключено что если ввести такой жесткий контроль заполнения объявления, то и мошенникам станет сложнее создавать фейковые объявления. \n",
    "\n",
    "Так же повысить контроль идентификации пользователя перед размещением объявления. Это тоже поможет сократить анонимность.\n"
   ]
  },
  {
   "cell_type": "markdown",
   "metadata": {},
   "source": [
    "**Чек-лист готовности проекта**\n",
    "\n",
    "Поставьте 'x' в выполненных пунктах. Далее нажмите Shift+Enter."
   ]
  },
  {
   "cell_type": "markdown",
   "metadata": {},
   "source": [
    "- [x]  открыт файл\n",
    "- [x]  файлы изучены (выведены первые строки, метод `info()`, гистограммы и т.д.)\n",
    "- [x]  определены пропущенные значения\n",
    "- [x]  заполнены пропущенные значения там, где это возможно\n",
    "- [x]  есть пояснение, какие пропущенные значения обнаружены\n",
    "- [x]  изменены типы данных\n",
    "- [x]  есть пояснение, в каких столбцах изменены типы и почему\n",
    "- [x]  устранены неявные дубликаты в названиях населённых пунктов\n",
    "- [x]  устранены редкие и выбивающиеся значения (аномалии) во всех столбцах\n",
    "- [x]  посчитано и добавлено в таблицу: цена одного квадратного метра\n",
    "- [x]  посчитано и добавлено в таблицу: день публикации объявления (0 - понедельник, 1 - вторник и т.д.)\n",
    "- [x]  посчитано и добавлено в таблицу: месяц публикации объявления\n",
    "- [x]  посчитано и добавлено в таблицу: год публикации объявления\n",
    "- [x]  посчитано и добавлено в таблицу: тип этажа квартиры (значения — «первый», «последний», «другой»)\n",
    "- [x]  посчитано и добавлено в таблицу: расстояние в км до центра города\n",
    "- [x]  изучены и описаны следующие параметры:\n",
    "        - общая площадь;\n",
    "        - жилая площадь;\n",
    "        - площадь кухни;\n",
    "        - цена объекта;\n",
    "        - количество комнат;\n",
    "        - высота потолков;\n",
    "        - этаж квартиры;\n",
    "        - тип этажа квартиры («первый», «последний», «другой»);\n",
    "        - общее количество этажей в доме;\n",
    "        - расстояние до центра города в метрах;\n",
    "        - расстояние до ближайшего аэропорта;\n",
    "        - расстояние до ближайшего парка;\n",
    "        - день и месяц публикации объявления\n",
    "- [x]  построены гистограммы для каждого параметра\n",
    "- [x]  выполнено задание: \"Изучите, как быстро продавались квартиры (столбец days_exposition). Этот параметр показывает, сколько дней «висело» каждое объявление.\n",
    "    - Постройте гистограмму.\n",
    "    - Посчитайте среднее и медиану.\n",
    "    - В ячейке типа markdown опишите, сколько обычно занимает продажа. Какие продажи можно считать быстрыми, а какие — необычно долгими?\"\n",
    "- [x]  выполнено задание: \"Какие факторы больше всего влияют на общую (полную) стоимость объекта? Постройте графики, которые покажут зависимость цены от указанных ниже параметров. Для подготовки данных перед визуализацией вы можете использовать сводные таблицы.\"\n",
    "        - общей площади;\n",
    "        - жилой площади;\n",
    "        - площади кухни;\n",
    "        - количество комнат;\n",
    "        - типа этажа, на котором расположена квартира (первый, последний, другой);\n",
    "        - даты размещения (день недели, месяц, год);\n",
    "- [x]  выполнено задание: \"Посчитайте среднюю цену одного квадратного метра в 10 населённых пунктах с наибольшим числом объявлений. Выделите населённые пункты с самой высокой и низкой стоимостью квадратного метра. Эти данные можно найти по имени в столбце `locality_name`.\"\n",
    "- [x]  выполнено задание: \"Ранее вы посчитали расстояние до центра в километрах. Теперь выделите квартиры в Санкт-Петербурге с помощью столбца `locality_name` и вычислите среднюю цену каждого километра. Опишите, как стоимость объектов зависит от расстояния до центра города.\"\n",
    "- [x]  в каждом этапе есть промежуточные выводы\n",
    "- [x]  есть общий вывод"
   ]
  }
 ],
 "metadata": {
  "ExecuteTimeLog": [
   {
    "duration": 82,
    "start_time": "2023-03-25T18:33:28.851Z"
   },
   {
    "duration": 3,
    "start_time": "2023-03-25T18:34:25.350Z"
   },
   {
    "duration": 751,
    "start_time": "2023-03-25T18:34:32.256Z"
   },
   {
    "duration": 25,
    "start_time": "2023-03-25T18:41:17.620Z"
   },
   {
    "duration": 11,
    "start_time": "2023-03-25T18:42:31.446Z"
   },
   {
    "duration": 6,
    "start_time": "2023-03-25T18:43:09.751Z"
   },
   {
    "duration": 6,
    "start_time": "2023-03-25T18:43:18.310Z"
   },
   {
    "duration": 92,
    "start_time": "2023-03-25T18:43:43.488Z"
   },
   {
    "duration": 80,
    "start_time": "2023-03-25T18:43:57.609Z"
   },
   {
    "duration": 97,
    "start_time": "2023-03-25T18:44:48.195Z"
   },
   {
    "duration": 11,
    "start_time": "2023-03-25T18:45:00.842Z"
   },
   {
    "duration": 10,
    "start_time": "2023-03-25T18:45:30.861Z"
   },
   {
    "duration": 35,
    "start_time": "2023-03-25T18:45:59.351Z"
   },
   {
    "duration": 18,
    "start_time": "2023-03-25T18:46:34.439Z"
   },
   {
    "duration": 5,
    "start_time": "2023-03-25T18:47:25.515Z"
   },
   {
    "duration": 6,
    "start_time": "2023-03-25T18:49:52.247Z"
   },
   {
    "duration": 116,
    "start_time": "2023-03-25T18:50:53.761Z"
   },
   {
    "duration": 8,
    "start_time": "2023-03-25T18:51:05.711Z"
   },
   {
    "duration": 9,
    "start_time": "2023-03-25T18:51:29.984Z"
   },
   {
    "duration": 17,
    "start_time": "2023-03-25T18:52:10.449Z"
   },
   {
    "duration": 9,
    "start_time": "2023-03-25T18:52:21.996Z"
   },
   {
    "duration": 4,
    "start_time": "2023-03-25T18:53:02.580Z"
   },
   {
    "duration": 4,
    "start_time": "2023-03-25T18:53:35.707Z"
   },
   {
    "duration": 97,
    "start_time": "2023-03-25T18:53:42.877Z"
   },
   {
    "duration": 7,
    "start_time": "2023-03-25T18:54:02.551Z"
   },
   {
    "duration": 23,
    "start_time": "2023-03-25T18:54:48.938Z"
   },
   {
    "duration": 97,
    "start_time": "2023-03-25T18:54:57.259Z"
   },
   {
    "duration": 6,
    "start_time": "2023-03-25T18:55:12.950Z"
   },
   {
    "duration": 85,
    "start_time": "2023-03-25T18:55:31.553Z"
   },
   {
    "duration": 8,
    "start_time": "2023-03-25T18:56:58.798Z"
   },
   {
    "duration": 24,
    "start_time": "2023-03-25T18:57:24.241Z"
   },
   {
    "duration": 140,
    "start_time": "2023-03-25T18:57:50.204Z"
   },
   {
    "duration": 29,
    "start_time": "2023-03-25T18:58:45.212Z"
   },
   {
    "duration": 120,
    "start_time": "2023-03-25T18:59:02.868Z"
   },
   {
    "duration": 5,
    "start_time": "2023-03-25T18:59:16.119Z"
   },
   {
    "duration": 256,
    "start_time": "2023-03-25T18:59:21.747Z"
   },
   {
    "duration": 7,
    "start_time": "2023-03-25T18:59:28.103Z"
   },
   {
    "duration": 95,
    "start_time": "2023-03-25T18:59:52.783Z"
   },
   {
    "duration": 5,
    "start_time": "2023-03-25T19:00:38.267Z"
   },
   {
    "duration": 120,
    "start_time": "2023-03-25T19:01:00.811Z"
   },
   {
    "duration": 64,
    "start_time": "2023-03-25T19:02:09.955Z"
   },
   {
    "duration": 940,
    "start_time": "2023-03-25T19:03:32.759Z"
   },
   {
    "duration": 351,
    "start_time": "2023-03-25T19:04:04.196Z"
   },
   {
    "duration": 228,
    "start_time": "2023-03-25T19:04:26.893Z"
   },
   {
    "duration": 2125,
    "start_time": "2023-03-25T19:04:51.955Z"
   },
   {
    "duration": 220,
    "start_time": "2023-03-25T19:05:17.755Z"
   },
   {
    "duration": 229,
    "start_time": "2023-03-25T19:05:34.376Z"
   },
   {
    "duration": 203,
    "start_time": "2023-03-25T19:05:57.107Z"
   },
   {
    "duration": 202,
    "start_time": "2023-03-25T19:06:21.708Z"
   },
   {
    "duration": 211,
    "start_time": "2023-03-25T19:07:12.374Z"
   },
   {
    "duration": 222,
    "start_time": "2023-03-25T19:07:37.312Z"
   },
   {
    "duration": 455,
    "start_time": "2023-03-25T19:08:41.550Z"
   },
   {
    "duration": 255,
    "start_time": "2023-03-25T19:08:42.861Z"
   },
   {
    "duration": 191,
    "start_time": "2023-03-25T19:08:44.199Z"
   },
   {
    "duration": 97,
    "start_time": "2023-03-25T19:15:32.122Z"
   },
   {
    "duration": 33,
    "start_time": "2023-03-25T19:16:06.009Z"
   },
   {
    "duration": 10,
    "start_time": "2023-03-25T19:20:09.878Z"
   },
   {
    "duration": 675,
    "start_time": "2023-03-25T19:20:09.891Z"
   },
   {
    "duration": 44,
    "start_time": "2023-03-25T19:20:10.568Z"
   },
   {
    "duration": 13,
    "start_time": "2023-03-25T19:20:10.614Z"
   },
   {
    "duration": 10,
    "start_time": "2023-03-25T19:20:10.631Z"
   },
   {
    "duration": 13,
    "start_time": "2023-03-25T19:20:10.646Z"
   },
   {
    "duration": 129,
    "start_time": "2023-03-25T19:20:10.661Z"
   },
   {
    "duration": 18,
    "start_time": "2023-03-25T19:20:10.796Z"
   },
   {
    "duration": 12,
    "start_time": "2023-03-25T19:20:10.816Z"
   },
   {
    "duration": 44,
    "start_time": "2023-03-25T19:20:10.831Z"
   },
   {
    "duration": 12,
    "start_time": "2023-03-25T19:20:10.877Z"
   },
   {
    "duration": 8,
    "start_time": "2023-03-25T19:20:10.891Z"
   },
   {
    "duration": 5,
    "start_time": "2023-03-25T19:20:10.900Z"
   },
   {
    "duration": 10,
    "start_time": "2023-03-25T19:20:10.926Z"
   },
   {
    "duration": 12,
    "start_time": "2023-03-25T19:20:10.940Z"
   },
   {
    "duration": 10,
    "start_time": "2023-03-25T19:20:10.958Z"
   },
   {
    "duration": 15,
    "start_time": "2023-03-25T19:20:10.974Z"
   },
   {
    "duration": 6,
    "start_time": "2023-03-25T19:20:10.994Z"
   },
   {
    "duration": 5,
    "start_time": "2023-03-25T19:20:11.004Z"
   },
   {
    "duration": 21,
    "start_time": "2023-03-25T19:20:11.012Z"
   },
   {
    "duration": 26,
    "start_time": "2023-03-25T19:20:11.042Z"
   },
   {
    "duration": 10,
    "start_time": "2023-03-25T19:20:11.070Z"
   },
   {
    "duration": 13,
    "start_time": "2023-03-25T19:20:11.082Z"
   },
   {
    "duration": 28,
    "start_time": "2023-03-25T19:20:11.099Z"
   },
   {
    "duration": 26,
    "start_time": "2023-03-25T19:20:11.129Z"
   },
   {
    "duration": 5,
    "start_time": "2023-03-25T19:20:11.161Z"
   },
   {
    "duration": 357,
    "start_time": "2023-03-25T19:20:11.168Z"
   },
   {
    "duration": 9,
    "start_time": "2023-03-25T19:20:11.535Z"
   },
   {
    "duration": 7,
    "start_time": "2023-03-25T19:20:11.546Z"
   },
   {
    "duration": 89,
    "start_time": "2023-03-25T19:20:11.555Z"
   },
   {
    "duration": 677,
    "start_time": "2023-03-25T19:20:11.649Z"
   },
   {
    "duration": 367,
    "start_time": "2023-03-25T19:20:12.330Z"
   },
   {
    "duration": 221,
    "start_time": "2023-03-25T19:20:12.698Z"
   },
   {
    "duration": 2228,
    "start_time": "2023-03-25T19:20:12.927Z"
   },
   {
    "duration": 240,
    "start_time": "2023-03-25T19:20:15.156Z"
   },
   {
    "duration": 249,
    "start_time": "2023-03-25T19:20:15.399Z"
   },
   {
    "duration": 209,
    "start_time": "2023-03-25T19:20:15.655Z"
   },
   {
    "duration": 226,
    "start_time": "2023-03-25T19:20:15.866Z"
   },
   {
    "duration": 273,
    "start_time": "2023-03-25T19:20:16.094Z"
   },
   {
    "duration": 267,
    "start_time": "2023-03-25T19:20:16.369Z"
   },
   {
    "duration": 539,
    "start_time": "2023-03-25T19:20:16.642Z"
   },
   {
    "duration": 283,
    "start_time": "2023-03-25T19:20:17.185Z"
   },
   {
    "duration": 223,
    "start_time": "2023-03-25T19:20:17.470Z"
   },
   {
    "duration": 114,
    "start_time": "2023-03-25T19:20:17.696Z"
   },
   {
    "duration": 0,
    "start_time": "2023-03-25T19:20:17.813Z"
   },
   {
    "duration": 0,
    "start_time": "2023-03-25T19:20:17.815Z"
   },
   {
    "duration": 0,
    "start_time": "2023-03-25T19:20:17.816Z"
   },
   {
    "duration": 0,
    "start_time": "2023-03-25T19:20:17.818Z"
   },
   {
    "duration": 0,
    "start_time": "2023-03-25T19:20:17.820Z"
   },
   {
    "duration": 0,
    "start_time": "2023-03-25T19:20:17.821Z"
   },
   {
    "duration": 0,
    "start_time": "2023-03-25T19:20:17.831Z"
   },
   {
    "duration": 0,
    "start_time": "2023-03-25T19:20:17.832Z"
   },
   {
    "duration": 0,
    "start_time": "2023-03-25T19:20:17.840Z"
   },
   {
    "duration": 0,
    "start_time": "2023-03-25T19:20:17.842Z"
   },
   {
    "duration": 0,
    "start_time": "2023-03-25T19:20:17.844Z"
   },
   {
    "duration": 0,
    "start_time": "2023-03-25T19:20:17.845Z"
   },
   {
    "duration": 0,
    "start_time": "2023-03-25T19:20:17.846Z"
   },
   {
    "duration": 0,
    "start_time": "2023-03-25T19:20:17.847Z"
   },
   {
    "duration": 0,
    "start_time": "2023-03-25T19:20:17.849Z"
   },
   {
    "duration": 0,
    "start_time": "2023-03-25T19:20:17.850Z"
   },
   {
    "duration": 0,
    "start_time": "2023-03-25T19:20:17.859Z"
   },
   {
    "duration": 0,
    "start_time": "2023-03-25T19:20:17.860Z"
   },
   {
    "duration": 0,
    "start_time": "2023-03-25T19:20:17.861Z"
   },
   {
    "duration": 0,
    "start_time": "2023-03-25T19:20:17.862Z"
   },
   {
    "duration": 0,
    "start_time": "2023-03-25T19:20:17.864Z"
   },
   {
    "duration": 0,
    "start_time": "2023-03-25T19:20:17.865Z"
   },
   {
    "duration": 0,
    "start_time": "2023-03-25T19:20:17.866Z"
   },
   {
    "duration": 0,
    "start_time": "2023-03-25T19:20:17.867Z"
   },
   {
    "duration": 0,
    "start_time": "2023-03-25T19:20:17.868Z"
   },
   {
    "duration": 0,
    "start_time": "2023-03-25T19:20:17.869Z"
   },
   {
    "duration": 0,
    "start_time": "2023-03-25T19:20:17.871Z"
   },
   {
    "duration": 0,
    "start_time": "2023-03-25T19:20:17.872Z"
   },
   {
    "duration": 400,
    "start_time": "2023-03-25T19:20:38.997Z"
   },
   {
    "duration": 6,
    "start_time": "2023-03-25T19:20:40.002Z"
   },
   {
    "duration": 233,
    "start_time": "2023-03-25T19:20:41.872Z"
   },
   {
    "duration": 8,
    "start_time": "2023-03-25T19:20:43.055Z"
   },
   {
    "duration": 19,
    "start_time": "2023-03-25T19:20:45.016Z"
   },
   {
    "duration": 237,
    "start_time": "2023-03-25T19:20:45.509Z"
   },
   {
    "duration": 220,
    "start_time": "2023-03-25T19:20:45.892Z"
   },
   {
    "duration": 5,
    "start_time": "2023-03-25T19:20:46.505Z"
   },
   {
    "duration": 258,
    "start_time": "2023-03-25T19:20:47.908Z"
   },
   {
    "duration": 6,
    "start_time": "2023-03-25T19:20:48.342Z"
   },
   {
    "duration": 241,
    "start_time": "2023-03-25T19:20:48.882Z"
   },
   {
    "duration": 7,
    "start_time": "2023-03-25T19:20:53.189Z"
   },
   {
    "duration": 600,
    "start_time": "2023-03-25T19:20:55.608Z"
   },
   {
    "duration": 21,
    "start_time": "2023-03-25T19:20:57.785Z"
   },
   {
    "duration": 31,
    "start_time": "2023-03-25T19:20:59.143Z"
   },
   {
    "duration": 19,
    "start_time": "2023-03-25T19:21:01.163Z"
   },
   {
    "duration": 106,
    "start_time": "2023-03-25T19:21:02.054Z"
   },
   {
    "duration": 12,
    "start_time": "2023-03-25T19:21:07.889Z"
   },
   {
    "duration": 123,
    "start_time": "2023-03-25T19:21:08.552Z"
   },
   {
    "duration": 14,
    "start_time": "2023-03-25T19:21:12.605Z"
   },
   {
    "duration": 37,
    "start_time": "2023-03-25T19:21:15.527Z"
   },
   {
    "duration": 33,
    "start_time": "2023-03-25T19:21:16.683Z"
   },
   {
    "duration": 14,
    "start_time": "2023-03-25T19:21:20.434Z"
   },
   {
    "duration": 10,
    "start_time": "2023-03-25T19:21:21.684Z"
   },
   {
    "duration": 10,
    "start_time": "2023-03-25T19:21:24.155Z"
   },
   {
    "duration": 14,
    "start_time": "2023-03-25T19:21:25.402Z"
   },
   {
    "duration": 185,
    "start_time": "2023-03-25T19:21:26.272Z"
   },
   {
    "duration": 6,
    "start_time": "2023-03-25T19:21:27.203Z"
   },
   {
    "duration": 13,
    "start_time": "2023-03-25T19:22:41.953Z"
   },
   {
    "duration": 680,
    "start_time": "2023-03-25T19:22:41.971Z"
   },
   {
    "duration": 31,
    "start_time": "2023-03-25T19:22:42.657Z"
   },
   {
    "duration": 11,
    "start_time": "2023-03-25T19:22:42.692Z"
   },
   {
    "duration": 5,
    "start_time": "2023-03-25T19:22:42.706Z"
   },
   {
    "duration": 23,
    "start_time": "2023-03-25T19:22:42.713Z"
   },
   {
    "duration": 133,
    "start_time": "2023-03-25T19:22:42.738Z"
   },
   {
    "duration": 12,
    "start_time": "2023-03-25T19:22:42.875Z"
   },
   {
    "duration": 11,
    "start_time": "2023-03-25T19:22:42.889Z"
   },
   {
    "duration": 40,
    "start_time": "2023-03-25T19:22:42.904Z"
   },
   {
    "duration": 19,
    "start_time": "2023-03-25T19:22:42.952Z"
   },
   {
    "duration": 6,
    "start_time": "2023-03-25T19:22:42.973Z"
   },
   {
    "duration": 6,
    "start_time": "2023-03-25T19:22:42.981Z"
   },
   {
    "duration": 9,
    "start_time": "2023-03-25T19:22:42.989Z"
   },
   {
    "duration": 37,
    "start_time": "2023-03-25T19:22:43.000Z"
   },
   {
    "duration": 14,
    "start_time": "2023-03-25T19:22:43.043Z"
   },
   {
    "duration": 21,
    "start_time": "2023-03-25T19:22:43.058Z"
   },
   {
    "duration": 6,
    "start_time": "2023-03-25T19:22:43.081Z"
   },
   {
    "duration": 5,
    "start_time": "2023-03-25T19:22:43.089Z"
   },
   {
    "duration": 7,
    "start_time": "2023-03-25T19:22:43.097Z"
   },
   {
    "duration": 47,
    "start_time": "2023-03-25T19:22:43.107Z"
   },
   {
    "duration": 6,
    "start_time": "2023-03-25T19:22:43.168Z"
   },
   {
    "duration": 11,
    "start_time": "2023-03-25T19:22:43.177Z"
   },
   {
    "duration": 24,
    "start_time": "2023-03-25T19:22:43.190Z"
   },
   {
    "duration": 27,
    "start_time": "2023-03-25T19:22:43.216Z"
   },
   {
    "duration": 5,
    "start_time": "2023-03-25T19:22:43.245Z"
   },
   {
    "duration": 316,
    "start_time": "2023-03-25T19:22:43.252Z"
   },
   {
    "duration": 8,
    "start_time": "2023-03-25T19:22:43.572Z"
   },
   {
    "duration": 14,
    "start_time": "2023-03-25T19:22:43.581Z"
   },
   {
    "duration": 91,
    "start_time": "2023-03-25T19:22:43.598Z"
   },
   {
    "duration": 660,
    "start_time": "2023-03-25T19:22:43.691Z"
   },
   {
    "duration": 374,
    "start_time": "2023-03-25T19:22:44.357Z"
   },
   {
    "duration": 220,
    "start_time": "2023-03-25T19:22:44.739Z"
   },
   {
    "duration": 2077,
    "start_time": "2023-03-25T19:22:44.960Z"
   },
   {
    "duration": 207,
    "start_time": "2023-03-25T19:22:47.039Z"
   },
   {
    "duration": 223,
    "start_time": "2023-03-25T19:22:47.248Z"
   },
   {
    "duration": 198,
    "start_time": "2023-03-25T19:22:47.473Z"
   },
   {
    "duration": 210,
    "start_time": "2023-03-25T19:22:47.673Z"
   },
   {
    "duration": 218,
    "start_time": "2023-03-25T19:22:47.885Z"
   },
   {
    "duration": 240,
    "start_time": "2023-03-25T19:22:48.105Z"
   },
   {
    "duration": 503,
    "start_time": "2023-03-25T19:22:48.348Z"
   },
   {
    "duration": 260,
    "start_time": "2023-03-25T19:22:48.853Z"
   },
   {
    "duration": 211,
    "start_time": "2023-03-25T19:22:49.123Z"
   },
   {
    "duration": 410,
    "start_time": "2023-03-25T19:22:49.346Z"
   },
   {
    "duration": 10,
    "start_time": "2023-03-25T19:22:49.758Z"
   },
   {
    "duration": 216,
    "start_time": "2023-03-25T19:22:49.771Z"
   },
   {
    "duration": 6,
    "start_time": "2023-03-25T19:22:49.989Z"
   },
   {
    "duration": 31,
    "start_time": "2023-03-25T19:22:49.997Z"
   },
   {
    "duration": 213,
    "start_time": "2023-03-25T19:22:50.033Z"
   },
   {
    "duration": 253,
    "start_time": "2023-03-25T19:22:50.248Z"
   },
   {
    "duration": 7,
    "start_time": "2023-03-25T19:22:50.503Z"
   },
   {
    "duration": 270,
    "start_time": "2023-03-25T19:22:50.512Z"
   },
   {
    "duration": 6,
    "start_time": "2023-03-25T19:22:50.784Z"
   },
   {
    "duration": 282,
    "start_time": "2023-03-25T19:22:50.792Z"
   },
   {
    "duration": 6,
    "start_time": "2023-03-25T19:22:51.076Z"
   },
   {
    "duration": 470,
    "start_time": "2023-03-25T19:22:51.084Z"
   },
   {
    "duration": 13,
    "start_time": "2023-03-25T19:22:51.556Z"
   },
   {
    "duration": 16,
    "start_time": "2023-03-25T19:22:51.571Z"
   },
   {
    "duration": 37,
    "start_time": "2023-03-25T19:22:51.589Z"
   },
   {
    "duration": 19,
    "start_time": "2023-03-25T19:22:51.628Z"
   },
   {
    "duration": 18,
    "start_time": "2023-03-25T19:22:51.654Z"
   },
   {
    "duration": 20,
    "start_time": "2023-03-25T19:22:51.674Z"
   },
   {
    "duration": 51,
    "start_time": "2023-03-25T19:22:51.695Z"
   },
   {
    "duration": 14,
    "start_time": "2023-03-25T19:22:51.750Z"
   },
   {
    "duration": 20,
    "start_time": "2023-03-25T19:22:51.765Z"
   },
   {
    "duration": 8,
    "start_time": "2023-03-25T19:22:51.787Z"
   },
   {
    "duration": 35,
    "start_time": "2023-03-25T19:22:51.797Z"
   },
   {
    "duration": 233,
    "start_time": "2023-03-25T19:22:51.834Z"
   },
   {
    "duration": 7,
    "start_time": "2023-03-25T19:22:52.069Z"
   },
   {
    "duration": 8,
    "start_time": "2023-03-26T09:34:57.204Z"
   },
   {
    "duration": 837,
    "start_time": "2023-03-26T09:34:57.214Z"
   },
   {
    "duration": 14,
    "start_time": "2023-03-26T09:34:58.053Z"
   },
   {
    "duration": 9,
    "start_time": "2023-03-26T09:34:58.068Z"
   },
   {
    "duration": 4,
    "start_time": "2023-03-26T09:34:58.080Z"
   },
   {
    "duration": 8,
    "start_time": "2023-03-26T09:34:58.086Z"
   },
   {
    "duration": 110,
    "start_time": "2023-03-26T09:34:58.096Z"
   },
   {
    "duration": 10,
    "start_time": "2023-03-26T09:34:58.207Z"
   },
   {
    "duration": 24,
    "start_time": "2023-03-26T09:34:58.219Z"
   },
   {
    "duration": 25,
    "start_time": "2023-03-26T09:34:58.245Z"
   },
   {
    "duration": 10,
    "start_time": "2023-03-26T09:34:58.272Z"
   },
   {
    "duration": 4,
    "start_time": "2023-03-26T09:34:58.284Z"
   },
   {
    "duration": 6,
    "start_time": "2023-03-26T09:34:58.289Z"
   },
   {
    "duration": 8,
    "start_time": "2023-03-26T09:34:58.296Z"
   },
   {
    "duration": 39,
    "start_time": "2023-03-26T09:34:58.306Z"
   },
   {
    "duration": 14,
    "start_time": "2023-03-26T09:34:58.346Z"
   },
   {
    "duration": 8,
    "start_time": "2023-03-26T09:34:58.361Z"
   },
   {
    "duration": 7,
    "start_time": "2023-03-26T09:34:58.370Z"
   },
   {
    "duration": 5,
    "start_time": "2023-03-26T09:34:58.379Z"
   },
   {
    "duration": 11,
    "start_time": "2023-03-26T09:34:58.386Z"
   },
   {
    "duration": 15,
    "start_time": "2023-03-26T09:34:58.398Z"
   },
   {
    "duration": 6,
    "start_time": "2023-03-26T09:34:58.415Z"
   },
   {
    "duration": 23,
    "start_time": "2023-03-26T09:34:58.422Z"
   },
   {
    "duration": 17,
    "start_time": "2023-03-26T09:34:58.446Z"
   },
   {
    "duration": 15,
    "start_time": "2023-03-26T09:34:58.464Z"
   },
   {
    "duration": 3,
    "start_time": "2023-03-26T09:34:58.480Z"
   },
   {
    "duration": 256,
    "start_time": "2023-03-26T09:34:58.485Z"
   },
   {
    "duration": 6,
    "start_time": "2023-03-26T09:34:58.743Z"
   },
   {
    "duration": 5,
    "start_time": "2023-03-26T09:34:58.753Z"
   },
   {
    "duration": 61,
    "start_time": "2023-03-26T09:34:58.759Z"
   },
   {
    "duration": 716,
    "start_time": "2023-03-26T09:34:58.822Z"
   },
   {
    "duration": 318,
    "start_time": "2023-03-26T09:34:59.540Z"
   },
   {
    "duration": 204,
    "start_time": "2023-03-26T09:34:59.860Z"
   },
   {
    "duration": 1769,
    "start_time": "2023-03-26T09:35:00.066Z"
   },
   {
    "duration": 195,
    "start_time": "2023-03-26T09:35:01.837Z"
   },
   {
    "duration": 186,
    "start_time": "2023-03-26T09:35:02.034Z"
   },
   {
    "duration": 180,
    "start_time": "2023-03-26T09:35:02.222Z"
   },
   {
    "duration": 190,
    "start_time": "2023-03-26T09:35:02.404Z"
   },
   {
    "duration": 205,
    "start_time": "2023-03-26T09:35:02.597Z"
   },
   {
    "duration": 194,
    "start_time": "2023-03-26T09:35:02.804Z"
   },
   {
    "duration": 450,
    "start_time": "2023-03-26T09:35:02.999Z"
   },
   {
    "duration": 242,
    "start_time": "2023-03-26T09:35:03.451Z"
   },
   {
    "duration": 200,
    "start_time": "2023-03-26T09:35:03.695Z"
   },
   {
    "duration": 364,
    "start_time": "2023-03-26T09:35:03.897Z"
   },
   {
    "duration": 5,
    "start_time": "2023-03-26T09:35:04.264Z"
   },
   {
    "duration": 211,
    "start_time": "2023-03-26T09:35:04.271Z"
   },
   {
    "duration": 7,
    "start_time": "2023-03-26T09:35:04.485Z"
   },
   {
    "duration": 18,
    "start_time": "2023-03-26T09:35:04.494Z"
   },
   {
    "duration": 195,
    "start_time": "2023-03-26T09:35:04.514Z"
   },
   {
    "duration": 209,
    "start_time": "2023-03-26T09:35:04.710Z"
   },
   {
    "duration": 5,
    "start_time": "2023-03-26T09:35:04.921Z"
   },
   {
    "duration": 228,
    "start_time": "2023-03-26T09:35:04.928Z"
   },
   {
    "duration": 6,
    "start_time": "2023-03-26T09:35:05.159Z"
   },
   {
    "duration": 224,
    "start_time": "2023-03-26T09:35:05.167Z"
   },
   {
    "duration": 5,
    "start_time": "2023-03-26T09:35:05.393Z"
   },
   {
    "duration": 446,
    "start_time": "2023-03-26T09:35:05.400Z"
   },
   {
    "duration": 16,
    "start_time": "2023-03-26T09:35:05.848Z"
   },
   {
    "duration": 15,
    "start_time": "2023-03-26T09:35:05.867Z"
   },
   {
    "duration": 24,
    "start_time": "2023-03-26T09:35:05.884Z"
   },
   {
    "duration": 42,
    "start_time": "2023-03-26T09:35:05.911Z"
   },
   {
    "duration": 44,
    "start_time": "2023-03-26T09:35:05.955Z"
   },
   {
    "duration": 23,
    "start_time": "2023-03-26T09:35:06.001Z"
   },
   {
    "duration": 30,
    "start_time": "2023-03-26T09:35:06.026Z"
   },
   {
    "duration": 17,
    "start_time": "2023-03-26T09:35:06.058Z"
   },
   {
    "duration": 17,
    "start_time": "2023-03-26T09:35:06.077Z"
   },
   {
    "duration": 16,
    "start_time": "2023-03-26T09:35:06.096Z"
   },
   {
    "duration": 17,
    "start_time": "2023-03-26T09:35:06.114Z"
   },
   {
    "duration": 161,
    "start_time": "2023-03-26T09:35:06.133Z"
   },
   {
    "duration": 15,
    "start_time": "2023-03-26T09:35:06.296Z"
   },
   {
    "duration": 6,
    "start_time": "2023-03-26T09:35:56.653Z"
   },
   {
    "duration": 6,
    "start_time": "2023-03-26T09:36:04.805Z"
   },
   {
    "duration": 47,
    "start_time": "2023-03-26T10:14:28.977Z"
   },
   {
    "duration": 3,
    "start_time": "2023-03-26T10:14:37.144Z"
   },
   {
    "duration": 618,
    "start_time": "2023-03-26T10:14:37.148Z"
   },
   {
    "duration": 15,
    "start_time": "2023-03-26T10:14:37.768Z"
   },
   {
    "duration": 9,
    "start_time": "2023-03-26T10:14:37.784Z"
   },
   {
    "duration": 4,
    "start_time": "2023-03-26T10:14:37.795Z"
   },
   {
    "duration": 7,
    "start_time": "2023-03-26T10:14:37.800Z"
   },
   {
    "duration": 102,
    "start_time": "2023-03-26T10:14:37.809Z"
   },
   {
    "duration": 10,
    "start_time": "2023-03-26T10:14:37.913Z"
   },
   {
    "duration": 22,
    "start_time": "2023-03-26T10:14:37.925Z"
   },
   {
    "duration": 25,
    "start_time": "2023-03-26T10:14:37.949Z"
   },
   {
    "duration": 9,
    "start_time": "2023-03-26T10:14:37.977Z"
   },
   {
    "duration": 4,
    "start_time": "2023-03-26T10:14:37.987Z"
   },
   {
    "duration": 9,
    "start_time": "2023-03-26T10:14:37.993Z"
   },
   {
    "duration": 10,
    "start_time": "2023-03-26T10:14:38.004Z"
   },
   {
    "duration": 8,
    "start_time": "2023-03-26T10:14:38.040Z"
   },
   {
    "duration": 9,
    "start_time": "2023-03-26T10:14:38.050Z"
   },
   {
    "duration": 8,
    "start_time": "2023-03-26T10:14:38.061Z"
   },
   {
    "duration": 4,
    "start_time": "2023-03-26T10:14:38.071Z"
   },
   {
    "duration": 4,
    "start_time": "2023-03-26T10:14:38.077Z"
   },
   {
    "duration": 5,
    "start_time": "2023-03-26T10:14:38.083Z"
   },
   {
    "duration": 15,
    "start_time": "2023-03-26T10:14:38.089Z"
   },
   {
    "duration": 6,
    "start_time": "2023-03-26T10:14:38.141Z"
   },
   {
    "duration": 7,
    "start_time": "2023-03-26T10:14:38.149Z"
   },
   {
    "duration": 15,
    "start_time": "2023-03-26T10:14:38.158Z"
   },
   {
    "duration": 16,
    "start_time": "2023-03-26T10:14:40.799Z"
   },
   {
    "duration": 32,
    "start_time": "2023-03-26T10:14:51.056Z"
   },
   {
    "duration": 8,
    "start_time": "2023-03-26T21:17:25.490Z"
   },
   {
    "duration": 610,
    "start_time": "2023-03-26T21:17:25.500Z"
   },
   {
    "duration": 14,
    "start_time": "2023-03-26T21:17:26.112Z"
   },
   {
    "duration": 8,
    "start_time": "2023-03-26T21:17:26.128Z"
   },
   {
    "duration": 3,
    "start_time": "2023-03-26T21:17:26.138Z"
   },
   {
    "duration": 24,
    "start_time": "2023-03-26T21:17:26.142Z"
   },
   {
    "duration": 74,
    "start_time": "2023-03-26T21:17:26.168Z"
   },
   {
    "duration": 24,
    "start_time": "2023-03-26T21:17:26.243Z"
   },
   {
    "duration": 8,
    "start_time": "2023-03-26T21:17:26.268Z"
   },
   {
    "duration": 25,
    "start_time": "2023-03-26T21:17:26.277Z"
   },
   {
    "duration": 9,
    "start_time": "2023-03-26T21:17:26.304Z"
   },
   {
    "duration": 4,
    "start_time": "2023-03-26T21:17:26.314Z"
   },
   {
    "duration": 5,
    "start_time": "2023-03-26T21:17:30.387Z"
   },
   {
    "duration": 18,
    "start_time": "2023-03-26T21:35:04.934Z"
   },
   {
    "duration": 3,
    "start_time": "2023-03-26T21:42:50.925Z"
   },
   {
    "duration": 159,
    "start_time": "2023-03-26T21:42:50.931Z"
   },
   {
    "duration": 14,
    "start_time": "2023-03-26T21:42:51.091Z"
   },
   {
    "duration": 9,
    "start_time": "2023-03-26T21:42:51.107Z"
   },
   {
    "duration": 4,
    "start_time": "2023-03-26T21:42:51.118Z"
   },
   {
    "duration": 9,
    "start_time": "2023-03-26T21:42:51.124Z"
   },
   {
    "duration": 72,
    "start_time": "2023-03-26T21:42:51.162Z"
   },
   {
    "duration": 8,
    "start_time": "2023-03-26T21:42:51.236Z"
   },
   {
    "duration": 22,
    "start_time": "2023-03-26T21:42:51.246Z"
   },
   {
    "duration": 26,
    "start_time": "2023-03-26T21:42:51.270Z"
   },
   {
    "duration": 10,
    "start_time": "2023-03-26T21:42:51.299Z"
   },
   {
    "duration": 5,
    "start_time": "2023-03-26T21:42:51.311Z"
   },
   {
    "duration": 8,
    "start_time": "2023-03-26T21:42:51.318Z"
   },
   {
    "duration": 39,
    "start_time": "2023-03-26T21:42:51.328Z"
   },
   {
    "duration": 7,
    "start_time": "2023-03-26T21:42:51.369Z"
   },
   {
    "duration": 8,
    "start_time": "2023-03-26T21:42:51.377Z"
   },
   {
    "duration": 9,
    "start_time": "2023-03-26T21:42:51.386Z"
   },
   {
    "duration": 13,
    "start_time": "2023-03-26T21:42:51.397Z"
   },
   {
    "duration": 5,
    "start_time": "2023-03-26T21:42:51.412Z"
   },
   {
    "duration": 8,
    "start_time": "2023-03-26T21:42:51.419Z"
   },
   {
    "duration": 44,
    "start_time": "2023-03-26T21:42:51.429Z"
   },
   {
    "duration": 5,
    "start_time": "2023-03-26T21:42:51.475Z"
   },
   {
    "duration": 14,
    "start_time": "2023-03-26T21:42:51.481Z"
   },
   {
    "duration": 16,
    "start_time": "2023-03-26T21:42:51.497Z"
   },
   {
    "duration": 15,
    "start_time": "2023-03-26T21:42:51.515Z"
   },
   {
    "duration": 2,
    "start_time": "2023-03-26T21:42:51.532Z"
   },
   {
    "duration": 245,
    "start_time": "2023-03-26T21:42:51.536Z"
   },
   {
    "duration": 7,
    "start_time": "2023-03-26T21:42:51.783Z"
   },
   {
    "duration": 5,
    "start_time": "2023-03-26T21:42:51.794Z"
   },
   {
    "duration": 74,
    "start_time": "2023-03-26T21:42:51.800Z"
   },
   {
    "duration": 713,
    "start_time": "2023-03-26T21:42:51.876Z"
   },
   {
    "duration": 281,
    "start_time": "2023-03-26T21:42:52.591Z"
   },
   {
    "duration": 176,
    "start_time": "2023-03-26T21:42:52.874Z"
   },
   {
    "duration": 1660,
    "start_time": "2023-03-26T21:42:53.052Z"
   },
   {
    "duration": 186,
    "start_time": "2023-03-26T21:42:54.714Z"
   },
   {
    "duration": 202,
    "start_time": "2023-03-26T21:42:54.901Z"
   },
   {
    "duration": 182,
    "start_time": "2023-03-26T21:42:55.105Z"
   },
   {
    "duration": 183,
    "start_time": "2023-03-26T21:42:55.289Z"
   },
   {
    "duration": 202,
    "start_time": "2023-03-26T21:42:55.475Z"
   },
   {
    "duration": 198,
    "start_time": "2023-03-26T21:42:55.679Z"
   },
   {
    "duration": 379,
    "start_time": "2023-03-26T21:42:55.879Z"
   },
   {
    "duration": 1408,
    "start_time": "2023-03-26T21:42:59.840Z"
   },
   {
    "duration": 46,
    "start_time": "2023-03-26T21:43:20.256Z"
   },
   {
    "duration": 2,
    "start_time": "2023-03-26T21:43:25.781Z"
   },
   {
    "duration": 535,
    "start_time": "2023-03-26T21:43:25.785Z"
   },
   {
    "duration": 15,
    "start_time": "2023-03-26T21:43:26.322Z"
   },
   {
    "duration": 25,
    "start_time": "2023-03-26T21:43:26.338Z"
   },
   {
    "duration": 4,
    "start_time": "2023-03-26T21:43:26.366Z"
   },
   {
    "duration": 7,
    "start_time": "2023-03-26T21:43:26.372Z"
   },
   {
    "duration": 96,
    "start_time": "2023-03-26T21:43:26.380Z"
   },
   {
    "duration": 10,
    "start_time": "2023-03-26T21:43:26.478Z"
   },
   {
    "duration": 8,
    "start_time": "2023-03-26T21:43:26.489Z"
   },
   {
    "duration": 23,
    "start_time": "2023-03-26T21:43:26.499Z"
   },
   {
    "duration": 37,
    "start_time": "2023-03-26T21:43:26.525Z"
   },
   {
    "duration": 5,
    "start_time": "2023-03-26T21:43:26.563Z"
   },
   {
    "duration": 5,
    "start_time": "2023-03-26T21:43:26.569Z"
   },
   {
    "duration": 7,
    "start_time": "2023-03-26T21:43:26.575Z"
   },
   {
    "duration": 7,
    "start_time": "2023-03-26T21:43:26.584Z"
   },
   {
    "duration": 8,
    "start_time": "2023-03-26T21:43:26.593Z"
   },
   {
    "duration": 8,
    "start_time": "2023-03-26T21:43:26.602Z"
   },
   {
    "duration": 5,
    "start_time": "2023-03-26T21:43:26.611Z"
   },
   {
    "duration": 6,
    "start_time": "2023-03-26T21:43:26.617Z"
   },
   {
    "duration": 43,
    "start_time": "2023-03-26T21:43:26.624Z"
   },
   {
    "duration": 14,
    "start_time": "2023-03-26T21:43:26.668Z"
   },
   {
    "duration": 6,
    "start_time": "2023-03-26T21:43:26.684Z"
   },
   {
    "duration": 9,
    "start_time": "2023-03-26T21:43:26.692Z"
   },
   {
    "duration": 16,
    "start_time": "2023-03-26T21:43:26.703Z"
   },
   {
    "duration": 45,
    "start_time": "2023-03-26T21:43:26.721Z"
   },
   {
    "duration": 3,
    "start_time": "2023-03-26T21:43:26.768Z"
   },
   {
    "duration": 254,
    "start_time": "2023-03-26T21:43:26.772Z"
   },
   {
    "duration": 6,
    "start_time": "2023-03-26T21:43:27.028Z"
   },
   {
    "duration": 5,
    "start_time": "2023-03-26T21:43:27.037Z"
   },
   {
    "duration": 70,
    "start_time": "2023-03-26T21:43:27.043Z"
   },
   {
    "duration": 531,
    "start_time": "2023-03-26T21:43:27.115Z"
   },
   {
    "duration": 233,
    "start_time": "2023-03-26T21:43:27.648Z"
   },
   {
    "duration": 226,
    "start_time": "2023-03-26T21:43:27.882Z"
   },
   {
    "duration": 1660,
    "start_time": "2023-03-26T21:43:28.109Z"
   },
   {
    "duration": 178,
    "start_time": "2023-03-26T21:43:29.771Z"
   },
   {
    "duration": 187,
    "start_time": "2023-03-26T21:43:29.950Z"
   },
   {
    "duration": 167,
    "start_time": "2023-03-26T21:43:30.139Z"
   },
   {
    "duration": 173,
    "start_time": "2023-03-26T21:43:30.308Z"
   },
   {
    "duration": 192,
    "start_time": "2023-03-26T21:43:30.482Z"
   },
   {
    "duration": 189,
    "start_time": "2023-03-26T21:43:30.676Z"
   },
   {
    "duration": 410,
    "start_time": "2023-03-26T21:43:30.867Z"
   },
   {
    "duration": 1140,
    "start_time": "2023-03-26T21:43:33.452Z"
   },
   {
    "duration": 54,
    "start_time": "2023-03-26T21:44:08.400Z"
   },
   {
    "duration": 149,
    "start_time": "2023-03-26T21:44:18.408Z"
   },
   {
    "duration": 159,
    "start_time": "2023-03-26T21:44:26.097Z"
   },
   {
    "duration": 214773,
    "start_time": "2023-03-26T21:49:55.766Z"
   },
   {
    "duration": 164,
    "start_time": "2023-03-26T22:14:32.517Z"
   },
   {
    "duration": 182,
    "start_time": "2023-03-26T22:15:39.211Z"
   },
   {
    "duration": 180,
    "start_time": "2023-03-26T22:15:44.543Z"
   },
   {
    "duration": 31,
    "start_time": "2023-03-26T22:17:06.345Z"
   },
   {
    "duration": 7,
    "start_time": "2023-03-26T22:20:25.014Z"
   },
   {
    "duration": 32,
    "start_time": "2023-03-26T22:20:42.927Z"
   },
   {
    "duration": 160,
    "start_time": "2023-03-26T22:22:19.627Z"
   },
   {
    "duration": 186,
    "start_time": "2023-03-26T22:22:29.918Z"
   },
   {
    "duration": 184,
    "start_time": "2023-03-26T22:22:45.155Z"
   },
   {
    "duration": 191,
    "start_time": "2023-03-26T22:22:53.596Z"
   },
   {
    "duration": 197,
    "start_time": "2023-03-26T22:23:01.431Z"
   },
   {
    "duration": 159,
    "start_time": "2023-03-26T22:23:10.660Z"
   },
   {
    "duration": 162,
    "start_time": "2023-03-26T22:23:14.544Z"
   },
   {
    "duration": 196,
    "start_time": "2023-03-26T22:23:44.694Z"
   },
   {
    "duration": 173,
    "start_time": "2023-03-26T22:24:38.186Z"
   },
   {
    "duration": 161,
    "start_time": "2023-03-26T22:24:50.102Z"
   },
   {
    "duration": 180,
    "start_time": "2023-03-26T22:25:06.070Z"
   },
   {
    "duration": 1640,
    "start_time": "2023-03-26T22:25:13.857Z"
   },
   {
    "duration": 2766,
    "start_time": "2023-03-26T22:25:31.669Z"
   },
   {
    "duration": 72,
    "start_time": "2023-03-26T22:26:05.897Z"
   },
   {
    "duration": 165,
    "start_time": "2023-03-26T22:26:11.666Z"
   },
   {
    "duration": 123,
    "start_time": "2023-03-26T22:26:22.681Z"
   },
   {
    "duration": 161,
    "start_time": "2023-03-26T22:26:36.117Z"
   },
   {
    "duration": 178,
    "start_time": "2023-03-26T22:35:16.553Z"
   },
   {
    "duration": 186,
    "start_time": "2023-03-26T22:35:45.494Z"
   },
   {
    "duration": 186,
    "start_time": "2023-03-26T22:36:16.225Z"
   },
   {
    "duration": 156,
    "start_time": "2023-03-26T22:37:27.872Z"
   },
   {
    "duration": 185,
    "start_time": "2023-03-26T22:37:49.554Z"
   },
   {
    "duration": 184,
    "start_time": "2023-03-26T22:37:55.997Z"
   },
   {
    "duration": 197,
    "start_time": "2023-03-26T22:38:47.624Z"
   },
   {
    "duration": 180,
    "start_time": "2023-03-26T22:39:10.946Z"
   },
   {
    "duration": 191,
    "start_time": "2023-03-26T22:39:17.117Z"
   },
   {
    "duration": 178,
    "start_time": "2023-03-26T22:39:41.756Z"
   },
   {
    "duration": 157,
    "start_time": "2023-03-26T22:39:47.046Z"
   },
   {
    "duration": 183,
    "start_time": "2023-03-26T22:39:52.655Z"
   },
   {
    "duration": 170,
    "start_time": "2023-03-26T22:39:57.695Z"
   },
   {
    "duration": 186,
    "start_time": "2023-03-26T22:40:24.851Z"
   },
   {
    "duration": 174,
    "start_time": "2023-03-26T22:40:37.764Z"
   },
   {
    "duration": 172,
    "start_time": "2023-03-26T22:40:54.833Z"
   },
   {
    "duration": 175,
    "start_time": "2023-03-26T22:41:06.178Z"
   },
   {
    "duration": 172,
    "start_time": "2023-03-26T22:41:19.287Z"
   },
   {
    "duration": 154,
    "start_time": "2023-03-26T22:41:41.873Z"
   },
   {
    "duration": 175,
    "start_time": "2023-03-26T22:41:48.847Z"
   },
   {
    "duration": 73,
    "start_time": "2023-03-26T22:42:33.374Z"
   },
   {
    "duration": 169,
    "start_time": "2023-03-26T22:42:38.221Z"
   },
   {
    "duration": 186,
    "start_time": "2023-03-26T22:42:55.763Z"
   },
   {
    "duration": 182,
    "start_time": "2023-03-26T22:43:35.610Z"
   },
   {
    "duration": 176,
    "start_time": "2023-03-26T22:43:44.283Z"
   },
   {
    "duration": 171,
    "start_time": "2023-03-26T22:43:53.474Z"
   },
   {
    "duration": 376,
    "start_time": "2023-03-26T22:43:57.153Z"
   },
   {
    "duration": 185,
    "start_time": "2023-03-26T22:44:08.542Z"
   },
   {
    "duration": 199,
    "start_time": "2023-03-26T22:44:20.069Z"
   },
   {
    "duration": 208,
    "start_time": "2023-03-26T22:44:31.404Z"
   },
   {
    "duration": 251,
    "start_time": "2023-03-26T22:44:35.656Z"
   },
   {
    "duration": 214,
    "start_time": "2023-03-26T22:44:44.171Z"
   },
   {
    "duration": 174,
    "start_time": "2023-03-26T22:45:42.242Z"
   },
   {
    "duration": 18,
    "start_time": "2023-03-26T22:51:34.429Z"
   },
   {
    "duration": 7,
    "start_time": "2023-03-26T22:55:02.690Z"
   },
   {
    "duration": 2,
    "start_time": "2023-03-26T22:55:11.803Z"
   },
   {
    "duration": 131,
    "start_time": "2023-03-26T22:55:11.807Z"
   },
   {
    "duration": 31,
    "start_time": "2023-03-26T22:55:11.939Z"
   },
   {
    "duration": 9,
    "start_time": "2023-03-26T22:55:11.972Z"
   },
   {
    "duration": 4,
    "start_time": "2023-03-26T22:55:11.982Z"
   },
   {
    "duration": 8,
    "start_time": "2023-03-26T22:55:11.988Z"
   },
   {
    "duration": 99,
    "start_time": "2023-03-26T22:55:11.998Z"
   },
   {
    "duration": 7,
    "start_time": "2023-03-26T22:55:12.099Z"
   },
   {
    "duration": 8,
    "start_time": "2023-03-26T22:55:12.109Z"
   },
   {
    "duration": 44,
    "start_time": "2023-03-26T22:55:12.119Z"
   },
   {
    "duration": 9,
    "start_time": "2023-03-26T22:55:12.165Z"
   },
   {
    "duration": 4,
    "start_time": "2023-03-26T22:55:12.175Z"
   },
   {
    "duration": 6,
    "start_time": "2023-03-26T22:55:12.181Z"
   },
   {
    "duration": 8,
    "start_time": "2023-03-26T22:55:12.188Z"
   },
   {
    "duration": 6,
    "start_time": "2023-03-26T22:55:12.197Z"
   },
   {
    "duration": 11,
    "start_time": "2023-03-26T22:55:12.204Z"
   },
   {
    "duration": 7,
    "start_time": "2023-03-26T22:55:12.216Z"
   },
   {
    "duration": 39,
    "start_time": "2023-03-26T22:55:12.225Z"
   },
   {
    "duration": 5,
    "start_time": "2023-03-26T22:55:12.265Z"
   },
   {
    "duration": 8,
    "start_time": "2023-03-26T22:55:12.272Z"
   },
   {
    "duration": 12,
    "start_time": "2023-03-26T22:55:12.282Z"
   },
   {
    "duration": 5,
    "start_time": "2023-03-26T22:55:12.296Z"
   },
   {
    "duration": 7,
    "start_time": "2023-03-26T22:55:12.303Z"
   },
   {
    "duration": 50,
    "start_time": "2023-03-26T22:55:12.315Z"
   },
   {
    "duration": 17,
    "start_time": "2023-03-26T22:55:12.367Z"
   },
   {
    "duration": 4,
    "start_time": "2023-03-26T22:55:12.386Z"
   },
   {
    "duration": 204,
    "start_time": "2023-03-26T22:55:12.392Z"
   },
   {
    "duration": 8,
    "start_time": "2023-03-26T22:55:12.598Z"
   },
   {
    "duration": 6,
    "start_time": "2023-03-26T22:55:12.608Z"
   },
   {
    "duration": 79,
    "start_time": "2023-03-26T22:55:12.615Z"
   },
   {
    "duration": 310,
    "start_time": "2023-03-26T22:55:12.696Z"
   },
   {
    "duration": 231,
    "start_time": "2023-03-26T22:55:13.008Z"
   },
   {
    "duration": 181,
    "start_time": "2023-03-26T22:55:13.241Z"
   },
   {
    "duration": 1657,
    "start_time": "2023-03-26T22:55:13.423Z"
   },
   {
    "duration": 193,
    "start_time": "2023-03-26T22:55:15.082Z"
   },
   {
    "duration": 180,
    "start_time": "2023-03-26T22:55:15.277Z"
   },
   {
    "duration": 161,
    "start_time": "2023-03-26T22:55:15.461Z"
   },
   {
    "duration": 167,
    "start_time": "2023-03-26T22:55:15.623Z"
   },
   {
    "duration": 186,
    "start_time": "2023-03-26T22:55:15.792Z"
   },
   {
    "duration": 195,
    "start_time": "2023-03-26T22:55:15.979Z"
   },
   {
    "duration": 282,
    "start_time": "2023-03-26T22:55:16.176Z"
   },
   {
    "duration": 165,
    "start_time": "2023-03-26T22:55:16.461Z"
   },
   {
    "duration": 173,
    "start_time": "2023-03-26T22:55:16.627Z"
   },
   {
    "duration": 301,
    "start_time": "2023-03-26T22:55:16.801Z"
   },
   {
    "duration": 4,
    "start_time": "2023-03-26T22:55:17.104Z"
   },
   {
    "duration": 196,
    "start_time": "2023-03-26T22:55:17.109Z"
   },
   {
    "duration": 218,
    "start_time": "2023-03-26T22:55:17.307Z"
   },
   {
    "duration": 5,
    "start_time": "2023-03-26T22:55:17.526Z"
   },
   {
    "duration": 12,
    "start_time": "2023-03-26T22:55:17.532Z"
   },
   {
    "duration": 147,
    "start_time": "2023-03-26T22:55:17.562Z"
   },
   {
    "duration": 196,
    "start_time": "2023-03-26T22:55:17.710Z"
   },
   {
    "duration": 5,
    "start_time": "2023-03-26T22:55:17.907Z"
   },
   {
    "duration": 183,
    "start_time": "2023-03-26T22:55:17.913Z"
   },
   {
    "duration": 5,
    "start_time": "2023-03-26T22:55:18.098Z"
   },
   {
    "duration": 180,
    "start_time": "2023-03-26T22:55:18.105Z"
   },
   {
    "duration": 5,
    "start_time": "2023-03-26T22:55:18.287Z"
   },
   {
    "duration": 380,
    "start_time": "2023-03-26T22:55:18.293Z"
   },
   {
    "duration": 11,
    "start_time": "2023-03-26T22:55:18.674Z"
   },
   {
    "duration": 10,
    "start_time": "2023-03-26T22:55:18.687Z"
   },
   {
    "duration": 13,
    "start_time": "2023-03-26T22:55:18.698Z"
   },
   {
    "duration": 10,
    "start_time": "2023-03-26T22:55:18.713Z"
   },
   {
    "duration": 43,
    "start_time": "2023-03-26T22:55:18.725Z"
   },
   {
    "duration": 18,
    "start_time": "2023-03-26T22:55:18.770Z"
   },
   {
    "duration": 21,
    "start_time": "2023-03-26T22:55:18.789Z"
   },
   {
    "duration": 8,
    "start_time": "2023-03-26T22:55:18.812Z"
   },
   {
    "duration": 8,
    "start_time": "2023-03-26T22:55:18.821Z"
   },
   {
    "duration": 34,
    "start_time": "2023-03-26T22:55:18.830Z"
   },
   {
    "duration": 14,
    "start_time": "2023-03-26T22:55:18.866Z"
   },
   {
    "duration": 14,
    "start_time": "2023-03-26T22:55:22.655Z"
   },
   {
    "duration": 103,
    "start_time": "2023-03-26T22:55:24.199Z"
   },
   {
    "duration": 107,
    "start_time": "2023-03-26T22:55:45.166Z"
   },
   {
    "duration": 7,
    "start_time": "2023-03-26T22:56:08.371Z"
   },
   {
    "duration": 554,
    "start_time": "2023-03-26T22:56:08.380Z"
   },
   {
    "duration": 15,
    "start_time": "2023-03-26T22:56:08.936Z"
   },
   {
    "duration": 9,
    "start_time": "2023-03-26T22:56:08.962Z"
   },
   {
    "duration": 4,
    "start_time": "2023-03-26T22:56:08.973Z"
   },
   {
    "duration": 7,
    "start_time": "2023-03-26T22:56:08.978Z"
   },
   {
    "duration": 96,
    "start_time": "2023-03-26T22:56:08.987Z"
   },
   {
    "duration": 10,
    "start_time": "2023-03-26T22:56:09.085Z"
   },
   {
    "duration": 9,
    "start_time": "2023-03-26T22:56:09.097Z"
   },
   {
    "duration": 26,
    "start_time": "2023-03-26T22:56:09.108Z"
   },
   {
    "duration": 10,
    "start_time": "2023-03-26T22:56:09.161Z"
   },
   {
    "duration": 4,
    "start_time": "2023-03-26T22:56:09.173Z"
   },
   {
    "duration": 24,
    "start_time": "2023-03-26T22:56:09.180Z"
   },
   {
    "duration": 9,
    "start_time": "2023-03-26T22:56:09.206Z"
   },
   {
    "duration": 7,
    "start_time": "2023-03-26T22:56:09.217Z"
   },
   {
    "duration": 11,
    "start_time": "2023-03-26T22:56:09.226Z"
   },
   {
    "duration": 25,
    "start_time": "2023-03-26T22:56:09.238Z"
   },
   {
    "duration": 5,
    "start_time": "2023-03-26T22:56:09.264Z"
   },
   {
    "duration": 4,
    "start_time": "2023-03-26T22:56:09.271Z"
   },
   {
    "duration": 5,
    "start_time": "2023-03-26T22:56:09.277Z"
   },
   {
    "duration": 12,
    "start_time": "2023-03-26T22:56:09.284Z"
   },
   {
    "duration": 5,
    "start_time": "2023-03-26T22:56:09.298Z"
   },
   {
    "duration": 9,
    "start_time": "2023-03-26T22:56:09.305Z"
   },
   {
    "duration": 51,
    "start_time": "2023-03-26T22:56:09.315Z"
   },
   {
    "duration": 16,
    "start_time": "2023-03-26T22:56:09.367Z"
   },
   {
    "duration": 3,
    "start_time": "2023-03-26T22:56:09.385Z"
   },
   {
    "duration": 235,
    "start_time": "2023-03-26T22:56:09.389Z"
   },
   {
    "duration": 7,
    "start_time": "2023-03-26T22:56:09.626Z"
   },
   {
    "duration": 5,
    "start_time": "2023-03-26T22:56:09.635Z"
   },
   {
    "duration": 65,
    "start_time": "2023-03-26T22:56:09.642Z"
   },
   {
    "duration": 510,
    "start_time": "2023-03-26T22:56:09.709Z"
   },
   {
    "duration": 279,
    "start_time": "2023-03-26T22:56:10.221Z"
   },
   {
    "duration": 189,
    "start_time": "2023-03-26T22:56:10.502Z"
   },
   {
    "duration": 1653,
    "start_time": "2023-03-26T22:56:10.692Z"
   },
   {
    "duration": 186,
    "start_time": "2023-03-26T22:56:12.347Z"
   },
   {
    "duration": 195,
    "start_time": "2023-03-26T22:56:12.535Z"
   },
   {
    "duration": 173,
    "start_time": "2023-03-26T22:56:12.734Z"
   },
   {
    "duration": 175,
    "start_time": "2023-03-26T22:56:12.909Z"
   },
   {
    "duration": 192,
    "start_time": "2023-03-26T22:56:13.086Z"
   },
   {
    "duration": 188,
    "start_time": "2023-03-26T22:56:13.279Z"
   },
   {
    "duration": 388,
    "start_time": "2023-03-26T22:56:13.469Z"
   },
   {
    "duration": 201,
    "start_time": "2023-03-26T22:56:13.861Z"
   },
   {
    "duration": 185,
    "start_time": "2023-03-26T22:56:14.064Z"
   },
   {
    "duration": 349,
    "start_time": "2023-03-26T22:56:14.251Z"
   },
   {
    "duration": 4,
    "start_time": "2023-03-26T22:56:14.602Z"
   },
   {
    "duration": 243,
    "start_time": "2023-03-26T22:56:14.608Z"
   },
   {
    "duration": 277,
    "start_time": "2023-03-26T22:56:14.853Z"
   },
   {
    "duration": 5,
    "start_time": "2023-03-26T22:56:15.132Z"
   },
   {
    "duration": 18,
    "start_time": "2023-03-26T22:56:15.138Z"
   },
   {
    "duration": 148,
    "start_time": "2023-03-26T22:56:15.158Z"
   },
   {
    "duration": 200,
    "start_time": "2023-03-26T22:56:15.307Z"
   },
   {
    "duration": 5,
    "start_time": "2023-03-26T22:56:15.508Z"
   },
   {
    "duration": 188,
    "start_time": "2023-03-26T22:56:15.515Z"
   },
   {
    "duration": 4,
    "start_time": "2023-03-26T22:56:15.705Z"
   },
   {
    "duration": 194,
    "start_time": "2023-03-26T22:56:15.711Z"
   },
   {
    "duration": 5,
    "start_time": "2023-03-26T22:56:15.907Z"
   },
   {
    "duration": 387,
    "start_time": "2023-03-26T22:56:15.914Z"
   },
   {
    "duration": 11,
    "start_time": "2023-03-26T22:56:16.302Z"
   },
   {
    "duration": 10,
    "start_time": "2023-03-26T22:56:16.315Z"
   },
   {
    "duration": 12,
    "start_time": "2023-03-26T22:56:16.327Z"
   },
   {
    "duration": 11,
    "start_time": "2023-03-26T22:56:16.363Z"
   },
   {
    "duration": 10,
    "start_time": "2023-03-26T22:56:16.375Z"
   },
   {
    "duration": 20,
    "start_time": "2023-03-26T22:56:16.387Z"
   },
   {
    "duration": 54,
    "start_time": "2023-03-26T22:56:16.408Z"
   },
   {
    "duration": 8,
    "start_time": "2023-03-26T22:56:16.463Z"
   },
   {
    "duration": 8,
    "start_time": "2023-03-26T22:56:16.473Z"
   },
   {
    "duration": 8,
    "start_time": "2023-03-26T22:56:16.482Z"
   },
   {
    "duration": 14,
    "start_time": "2023-03-26T22:56:24.709Z"
   },
   {
    "duration": 100,
    "start_time": "2023-03-26T22:56:29.225Z"
   },
   {
    "duration": 273,
    "start_time": "2023-03-26T22:57:00.712Z"
   },
   {
    "duration": 104,
    "start_time": "2023-03-26T22:57:15.758Z"
   },
   {
    "duration": 142,
    "start_time": "2023-03-26T22:57:29.344Z"
   },
   {
    "duration": 77,
    "start_time": "2023-03-26T22:59:39.070Z"
   },
   {
    "duration": 68,
    "start_time": "2023-03-26T22:59:46.233Z"
   },
   {
    "duration": 96,
    "start_time": "2023-03-26T23:00:00.326Z"
   },
   {
    "duration": 1143,
    "start_time": "2023-03-26T23:00:53.828Z"
   },
   {
    "duration": 1100,
    "start_time": "2023-03-26T23:01:20.059Z"
   },
   {
    "duration": 6,
    "start_time": "2023-03-26T23:02:00.807Z"
   },
   {
    "duration": 135,
    "start_time": "2023-03-26T23:02:10.376Z"
   },
   {
    "duration": 1168,
    "start_time": "2023-03-26T23:02:35.694Z"
   },
   {
    "duration": 6,
    "start_time": "2023-03-26T23:02:50.966Z"
   },
   {
    "duration": 7,
    "start_time": "2023-03-26T23:02:54.937Z"
   },
   {
    "duration": 6,
    "start_time": "2023-03-26T23:02:55.942Z"
   },
   {
    "duration": 14,
    "start_time": "2023-03-26T23:03:22.689Z"
   },
   {
    "duration": 1187,
    "start_time": "2023-03-26T23:03:57.103Z"
   },
   {
    "duration": 141,
    "start_time": "2023-03-26T23:04:14.878Z"
   },
   {
    "duration": 125,
    "start_time": "2023-03-26T23:04:49.723Z"
   },
   {
    "duration": 165,
    "start_time": "2023-03-26T23:05:03.973Z"
   },
   {
    "duration": 70,
    "start_time": "2023-03-26T23:06:36.072Z"
   },
   {
    "duration": 140,
    "start_time": "2023-03-26T23:06:40.566Z"
   },
   {
    "duration": 8,
    "start_time": "2023-03-26T23:24:26.093Z"
   },
   {
    "duration": 579,
    "start_time": "2023-03-26T23:24:26.102Z"
   },
   {
    "duration": 14,
    "start_time": "2023-03-26T23:24:26.683Z"
   },
   {
    "duration": 9,
    "start_time": "2023-03-26T23:24:26.698Z"
   },
   {
    "duration": 4,
    "start_time": "2023-03-26T23:24:26.709Z"
   },
   {
    "duration": 6,
    "start_time": "2023-03-26T23:24:26.715Z"
   },
   {
    "duration": 101,
    "start_time": "2023-03-26T23:24:26.722Z"
   },
   {
    "duration": 10,
    "start_time": "2023-03-26T23:24:26.825Z"
   },
   {
    "duration": 8,
    "start_time": "2023-03-26T23:24:26.836Z"
   },
   {
    "duration": 37,
    "start_time": "2023-03-26T23:24:26.846Z"
   },
   {
    "duration": 11,
    "start_time": "2023-03-26T23:24:26.886Z"
   },
   {
    "duration": 5,
    "start_time": "2023-03-26T23:24:26.898Z"
   },
   {
    "duration": 7,
    "start_time": "2023-03-26T23:24:26.904Z"
   },
   {
    "duration": 9,
    "start_time": "2023-03-26T23:24:26.912Z"
   },
   {
    "duration": 7,
    "start_time": "2023-03-26T23:24:26.923Z"
   },
   {
    "duration": 37,
    "start_time": "2023-03-26T23:24:26.932Z"
   },
   {
    "duration": 8,
    "start_time": "2023-03-26T23:24:26.971Z"
   },
   {
    "duration": 5,
    "start_time": "2023-03-26T23:24:26.980Z"
   },
   {
    "duration": 6,
    "start_time": "2023-03-26T23:24:26.986Z"
   },
   {
    "duration": 5,
    "start_time": "2023-03-26T23:24:26.994Z"
   },
   {
    "duration": 15,
    "start_time": "2023-03-26T23:24:27.000Z"
   },
   {
    "duration": 5,
    "start_time": "2023-03-26T23:24:27.016Z"
   },
   {
    "duration": 40,
    "start_time": "2023-03-26T23:24:27.023Z"
   },
   {
    "duration": 15,
    "start_time": "2023-03-26T23:24:27.065Z"
   },
   {
    "duration": 15,
    "start_time": "2023-03-26T23:24:27.082Z"
   },
   {
    "duration": 3,
    "start_time": "2023-03-26T23:24:27.098Z"
   },
   {
    "duration": 267,
    "start_time": "2023-03-26T23:24:27.103Z"
   },
   {
    "duration": 6,
    "start_time": "2023-03-26T23:24:27.372Z"
   },
   {
    "duration": 4,
    "start_time": "2023-03-26T23:24:27.382Z"
   },
   {
    "duration": 56,
    "start_time": "2023-03-26T23:24:27.387Z"
   },
   {
    "duration": 487,
    "start_time": "2023-03-26T23:24:27.461Z"
   },
   {
    "duration": 257,
    "start_time": "2023-03-26T23:24:27.949Z"
   },
   {
    "duration": 179,
    "start_time": "2023-03-26T23:24:28.207Z"
   },
   {
    "duration": 1570,
    "start_time": "2023-03-26T23:24:28.387Z"
   },
   {
    "duration": 179,
    "start_time": "2023-03-26T23:24:29.959Z"
   },
   {
    "duration": 183,
    "start_time": "2023-03-26T23:24:30.139Z"
   },
   {
    "duration": 170,
    "start_time": "2023-03-26T23:24:30.324Z"
   },
   {
    "duration": 166,
    "start_time": "2023-03-26T23:24:30.496Z"
   },
   {
    "duration": 195,
    "start_time": "2023-03-26T23:24:30.663Z"
   },
   {
    "duration": 183,
    "start_time": "2023-03-26T23:24:30.861Z"
   },
   {
    "duration": 389,
    "start_time": "2023-03-26T23:24:31.046Z"
   },
   {
    "duration": 165,
    "start_time": "2023-03-26T23:24:31.437Z"
   },
   {
    "duration": 166,
    "start_time": "2023-03-26T23:24:31.604Z"
   },
   {
    "duration": 293,
    "start_time": "2023-03-26T23:24:31.772Z"
   },
   {
    "duration": 4,
    "start_time": "2023-03-26T23:24:32.067Z"
   },
   {
    "duration": 184,
    "start_time": "2023-03-26T23:24:32.072Z"
   },
   {
    "duration": 260,
    "start_time": "2023-03-26T23:24:32.257Z"
   },
   {
    "duration": 5,
    "start_time": "2023-03-26T23:24:32.519Z"
   },
   {
    "duration": 15,
    "start_time": "2023-03-26T23:24:32.526Z"
   },
   {
    "duration": 143,
    "start_time": "2023-03-26T23:24:32.542Z"
   },
   {
    "duration": 181,
    "start_time": "2023-03-26T23:24:32.686Z"
   },
   {
    "duration": 5,
    "start_time": "2023-03-26T23:24:32.869Z"
   },
   {
    "duration": 181,
    "start_time": "2023-03-26T23:24:32.876Z"
   },
   {
    "duration": 4,
    "start_time": "2023-03-26T23:24:33.059Z"
   },
   {
    "duration": 172,
    "start_time": "2023-03-26T23:24:33.065Z"
   },
   {
    "duration": 5,
    "start_time": "2023-03-26T23:24:33.239Z"
   },
   {
    "duration": 378,
    "start_time": "2023-03-26T23:24:33.245Z"
   },
   {
    "duration": 11,
    "start_time": "2023-03-26T23:24:33.625Z"
   },
   {
    "duration": 25,
    "start_time": "2023-03-26T23:24:33.637Z"
   },
   {
    "duration": 12,
    "start_time": "2023-03-26T23:24:33.664Z"
   },
   {
    "duration": 10,
    "start_time": "2023-03-26T23:24:33.678Z"
   },
   {
    "duration": 11,
    "start_time": "2023-03-26T23:24:33.689Z"
   },
   {
    "duration": 31,
    "start_time": "2023-03-26T23:24:33.702Z"
   },
   {
    "duration": 38,
    "start_time": "2023-03-26T23:24:33.735Z"
   },
   {
    "duration": 8,
    "start_time": "2023-03-26T23:24:33.775Z"
   },
   {
    "duration": 10,
    "start_time": "2023-03-26T23:24:33.784Z"
   },
   {
    "duration": 6,
    "start_time": "2023-03-26T23:24:33.795Z"
   },
   {
    "duration": 13,
    "start_time": "2023-03-26T23:24:33.803Z"
   },
   {
    "duration": 186,
    "start_time": "2023-03-26T23:24:33.817Z"
   },
   {
    "duration": 6,
    "start_time": "2023-03-26T23:24:34.005Z"
   },
   {
    "duration": 414,
    "start_time": "2023-03-27T20:07:18.765Z"
   },
   {
    "duration": 193,
    "start_time": "2023-03-27T20:07:19.181Z"
   },
   {
    "duration": 16,
    "start_time": "2023-03-27T20:07:19.375Z"
   },
   {
    "duration": 12,
    "start_time": "2023-03-27T20:07:19.393Z"
   },
   {
    "duration": 4,
    "start_time": "2023-03-27T20:07:19.407Z"
   },
   {
    "duration": 7,
    "start_time": "2023-03-27T20:07:19.413Z"
   },
   {
    "duration": 103,
    "start_time": "2023-03-27T20:07:19.421Z"
   },
   {
    "duration": 8,
    "start_time": "2023-03-27T20:07:19.526Z"
   },
   {
    "duration": 7,
    "start_time": "2023-03-27T20:07:19.536Z"
   },
   {
    "duration": 40,
    "start_time": "2023-03-27T20:07:19.544Z"
   },
   {
    "duration": 10,
    "start_time": "2023-03-27T20:07:19.586Z"
   },
   {
    "duration": 4,
    "start_time": "2023-03-27T20:07:19.598Z"
   },
   {
    "duration": 7,
    "start_time": "2023-03-27T20:07:19.603Z"
   },
   {
    "duration": 8,
    "start_time": "2023-03-27T20:07:19.613Z"
   },
   {
    "duration": 9,
    "start_time": "2023-03-27T20:07:19.622Z"
   },
   {
    "duration": 9,
    "start_time": "2023-03-27T20:07:19.661Z"
   },
   {
    "duration": 10,
    "start_time": "2023-03-27T20:07:19.672Z"
   },
   {
    "duration": 3,
    "start_time": "2023-03-27T20:07:19.684Z"
   },
   {
    "duration": 4,
    "start_time": "2023-03-27T20:07:19.689Z"
   },
   {
    "duration": 7,
    "start_time": "2023-03-27T20:07:19.694Z"
   },
   {
    "duration": 12,
    "start_time": "2023-03-27T20:07:19.703Z"
   },
   {
    "duration": 5,
    "start_time": "2023-03-27T20:07:19.717Z"
   },
   {
    "duration": 41,
    "start_time": "2023-03-27T20:07:19.723Z"
   },
   {
    "duration": 15,
    "start_time": "2023-03-27T20:07:19.766Z"
   },
   {
    "duration": 15,
    "start_time": "2023-03-27T20:07:19.783Z"
   },
   {
    "duration": 3,
    "start_time": "2023-03-27T20:07:19.799Z"
   },
   {
    "duration": 236,
    "start_time": "2023-03-27T20:07:19.803Z"
   },
   {
    "duration": 6,
    "start_time": "2023-03-27T20:07:20.041Z"
   },
   {
    "duration": 17,
    "start_time": "2023-03-27T20:07:20.049Z"
   },
   {
    "duration": 54,
    "start_time": "2023-03-27T20:07:20.068Z"
   },
   {
    "duration": 707,
    "start_time": "2023-03-27T20:07:20.124Z"
   },
   {
    "duration": 290,
    "start_time": "2023-03-27T20:07:20.833Z"
   },
   {
    "duration": 187,
    "start_time": "2023-03-27T20:07:21.125Z"
   },
   {
    "duration": 1710,
    "start_time": "2023-03-27T20:07:21.314Z"
   },
   {
    "duration": 185,
    "start_time": "2023-03-27T20:07:23.026Z"
   },
   {
    "duration": 188,
    "start_time": "2023-03-27T20:07:23.212Z"
   },
   {
    "duration": 166,
    "start_time": "2023-03-27T20:07:23.402Z"
   },
   {
    "duration": 176,
    "start_time": "2023-03-27T20:07:23.569Z"
   },
   {
    "duration": 187,
    "start_time": "2023-03-27T20:07:23.747Z"
   },
   {
    "duration": 235,
    "start_time": "2023-03-27T20:07:23.936Z"
   },
   {
    "duration": 380,
    "start_time": "2023-03-27T20:07:24.175Z"
   },
   {
    "duration": 153,
    "start_time": "2023-03-27T20:07:24.561Z"
   },
   {
    "duration": 171,
    "start_time": "2023-03-27T20:07:24.716Z"
   },
   {
    "duration": 316,
    "start_time": "2023-03-27T20:07:32.008Z"
   },
   {
    "duration": 1930,
    "start_time": "2023-03-27T20:07:36.611Z"
   },
   {
    "duration": 318,
    "start_time": "2023-03-27T20:07:45.915Z"
   },
   {
    "duration": 446,
    "start_time": "2023-03-27T20:08:43.147Z"
   },
   {
    "duration": 144,
    "start_time": "2023-03-27T20:08:43.595Z"
   },
   {
    "duration": 21,
    "start_time": "2023-03-27T20:08:43.741Z"
   },
   {
    "duration": 11,
    "start_time": "2023-03-27T20:08:43.763Z"
   },
   {
    "duration": 18,
    "start_time": "2023-03-27T20:08:43.776Z"
   },
   {
    "duration": 8,
    "start_time": "2023-03-27T20:08:43.796Z"
   },
   {
    "duration": 89,
    "start_time": "2023-03-27T20:08:43.805Z"
   },
   {
    "duration": 10,
    "start_time": "2023-03-27T20:08:43.896Z"
   },
   {
    "duration": 8,
    "start_time": "2023-03-27T20:08:43.908Z"
   },
   {
    "duration": 52,
    "start_time": "2023-03-27T20:08:43.917Z"
   },
   {
    "duration": 11,
    "start_time": "2023-03-27T20:08:43.971Z"
   },
   {
    "duration": 5,
    "start_time": "2023-03-27T20:08:43.984Z"
   },
   {
    "duration": 6,
    "start_time": "2023-03-27T20:08:43.992Z"
   },
   {
    "duration": 10,
    "start_time": "2023-03-27T20:08:44.002Z"
   },
   {
    "duration": 9,
    "start_time": "2023-03-27T20:08:44.014Z"
   },
   {
    "duration": 12,
    "start_time": "2023-03-27T20:08:44.061Z"
   },
   {
    "duration": 10,
    "start_time": "2023-03-27T20:08:44.075Z"
   },
   {
    "duration": 5,
    "start_time": "2023-03-27T20:08:44.086Z"
   },
   {
    "duration": 5,
    "start_time": "2023-03-27T20:08:44.094Z"
   },
   {
    "duration": 7,
    "start_time": "2023-03-27T20:08:44.101Z"
   },
   {
    "duration": 17,
    "start_time": "2023-03-27T20:08:44.110Z"
   },
   {
    "duration": 7,
    "start_time": "2023-03-27T20:08:44.162Z"
   },
   {
    "duration": 11,
    "start_time": "2023-03-27T20:08:44.172Z"
   },
   {
    "duration": 19,
    "start_time": "2023-03-27T20:08:44.185Z"
   },
   {
    "duration": 16,
    "start_time": "2023-03-27T20:08:44.206Z"
   },
   {
    "duration": 4,
    "start_time": "2023-03-27T20:08:44.224Z"
   },
   {
    "duration": 230,
    "start_time": "2023-03-27T20:08:44.262Z"
   },
   {
    "duration": 7,
    "start_time": "2023-03-27T20:08:44.494Z"
   },
   {
    "duration": 5,
    "start_time": "2023-03-27T20:08:44.503Z"
   },
   {
    "duration": 68,
    "start_time": "2023-03-27T20:08:44.510Z"
   },
   {
    "duration": 554,
    "start_time": "2023-03-27T20:08:44.579Z"
   },
   {
    "duration": 298,
    "start_time": "2023-03-27T20:08:45.135Z"
   },
   {
    "duration": 195,
    "start_time": "2023-03-27T20:08:45.434Z"
   },
   {
    "duration": 1700,
    "start_time": "2023-03-27T20:08:45.632Z"
   },
   {
    "duration": 182,
    "start_time": "2023-03-27T20:08:47.333Z"
   },
   {
    "duration": 186,
    "start_time": "2023-03-27T20:08:47.517Z"
   },
   {
    "duration": 180,
    "start_time": "2023-03-27T20:08:47.705Z"
   },
   {
    "duration": 170,
    "start_time": "2023-03-27T20:08:47.887Z"
   },
   {
    "duration": 181,
    "start_time": "2023-03-27T20:08:48.061Z"
   },
   {
    "duration": 182,
    "start_time": "2023-03-27T20:08:48.243Z"
   },
   {
    "duration": 394,
    "start_time": "2023-03-27T20:08:48.428Z"
   },
   {
    "duration": 168,
    "start_time": "2023-03-27T20:08:48.824Z"
   },
   {
    "duration": 171,
    "start_time": "2023-03-27T20:08:48.994Z"
   },
   {
    "duration": 159,
    "start_time": "2023-03-27T20:08:50.788Z"
   },
   {
    "duration": 1682,
    "start_time": "2023-03-27T20:09:14.635Z"
   },
   {
    "duration": 4,
    "start_time": "2023-03-27T20:09:16.319Z"
   },
   {
    "duration": 2220,
    "start_time": "2023-03-27T20:11:11.174Z"
   },
   {
    "duration": 1646,
    "start_time": "2023-03-27T20:11:43.505Z"
   },
   {
    "duration": 41,
    "start_time": "2023-03-27T20:14:01.500Z"
   },
   {
    "duration": 37,
    "start_time": "2023-03-27T20:14:27.327Z"
   },
   {
    "duration": 2191,
    "start_time": "2023-03-27T20:14:48.228Z"
   },
   {
    "duration": 4,
    "start_time": "2023-03-27T20:15:29.398Z"
   },
   {
    "duration": 80,
    "start_time": "2023-03-27T20:16:08.111Z"
   },
   {
    "duration": 1634,
    "start_time": "2023-03-27T20:16:20.761Z"
   },
   {
    "duration": 5,
    "start_time": "2023-03-27T20:16:41.569Z"
   },
   {
    "duration": 36,
    "start_time": "2023-03-27T20:16:48.334Z"
   },
   {
    "duration": 35,
    "start_time": "2023-03-27T20:17:31.986Z"
   },
   {
    "duration": 14,
    "start_time": "2023-03-27T20:18:25.484Z"
   },
   {
    "duration": 33,
    "start_time": "2023-03-27T20:18:35.800Z"
   },
   {
    "duration": 9,
    "start_time": "2023-03-27T20:19:26.104Z"
   },
   {
    "duration": 9,
    "start_time": "2023-03-27T20:22:02.536Z"
   },
   {
    "duration": 29,
    "start_time": "2023-03-27T20:22:24.013Z"
   },
   {
    "duration": 24,
    "start_time": "2023-03-27T20:23:50.389Z"
   },
   {
    "duration": 14,
    "start_time": "2023-03-27T20:24:33.054Z"
   },
   {
    "duration": 24,
    "start_time": "2023-03-27T20:24:45.924Z"
   },
   {
    "duration": 39,
    "start_time": "2023-03-27T20:25:01.846Z"
   },
   {
    "duration": 28,
    "start_time": "2023-03-27T20:25:18.371Z"
   },
   {
    "duration": 19,
    "start_time": "2023-03-27T20:25:48.458Z"
   },
   {
    "duration": 23,
    "start_time": "2023-03-27T20:25:53.575Z"
   },
   {
    "duration": 456,
    "start_time": "2023-03-27T20:26:01.405Z"
   },
   {
    "duration": 153,
    "start_time": "2023-03-27T20:26:01.863Z"
   },
   {
    "duration": 15,
    "start_time": "2023-03-27T20:26:02.018Z"
   },
   {
    "duration": 21,
    "start_time": "2023-03-27T20:26:02.035Z"
   },
   {
    "duration": 18,
    "start_time": "2023-03-27T20:26:02.057Z"
   },
   {
    "duration": 54,
    "start_time": "2023-03-27T20:26:02.077Z"
   },
   {
    "duration": 78,
    "start_time": "2023-03-27T20:26:02.133Z"
   },
   {
    "duration": 11,
    "start_time": "2023-03-27T20:26:02.213Z"
   },
   {
    "duration": 24,
    "start_time": "2023-03-27T20:26:02.226Z"
   },
   {
    "duration": 30,
    "start_time": "2023-03-27T20:26:02.252Z"
   },
   {
    "duration": 13,
    "start_time": "2023-03-27T20:26:02.283Z"
   },
   {
    "duration": 10,
    "start_time": "2023-03-27T20:26:02.297Z"
   },
   {
    "duration": 27,
    "start_time": "2023-03-27T20:26:02.310Z"
   },
   {
    "duration": 11,
    "start_time": "2023-03-27T20:26:02.339Z"
   },
   {
    "duration": 10,
    "start_time": "2023-03-27T20:26:02.351Z"
   },
   {
    "duration": 19,
    "start_time": "2023-03-27T20:26:02.363Z"
   },
   {
    "duration": 14,
    "start_time": "2023-03-27T20:26:02.383Z"
   },
   {
    "duration": 4,
    "start_time": "2023-03-27T20:26:02.399Z"
   },
   {
    "duration": 13,
    "start_time": "2023-03-27T20:26:02.404Z"
   },
   {
    "duration": 11,
    "start_time": "2023-03-27T20:26:02.419Z"
   },
   {
    "duration": 18,
    "start_time": "2023-03-27T20:26:02.431Z"
   },
   {
    "duration": 7,
    "start_time": "2023-03-27T20:26:02.451Z"
   },
   {
    "duration": 7,
    "start_time": "2023-03-27T20:26:02.460Z"
   },
   {
    "duration": 15,
    "start_time": "2023-03-27T20:26:02.469Z"
   },
   {
    "duration": 24,
    "start_time": "2023-03-27T20:26:02.486Z"
   },
   {
    "duration": 7,
    "start_time": "2023-03-27T20:26:02.512Z"
   },
   {
    "duration": 243,
    "start_time": "2023-03-27T20:26:02.521Z"
   },
   {
    "duration": 6,
    "start_time": "2023-03-27T20:26:02.766Z"
   },
   {
    "duration": 23,
    "start_time": "2023-03-27T20:26:02.774Z"
   },
   {
    "duration": 56,
    "start_time": "2023-03-27T20:26:02.799Z"
   },
   {
    "duration": 502,
    "start_time": "2023-03-27T20:26:02.857Z"
   },
   {
    "duration": 298,
    "start_time": "2023-03-27T20:26:03.361Z"
   },
   {
    "duration": 183,
    "start_time": "2023-03-27T20:26:03.662Z"
   },
   {
    "duration": 1790,
    "start_time": "2023-03-27T20:26:03.847Z"
   },
   {
    "duration": 184,
    "start_time": "2023-03-27T20:26:05.638Z"
   },
   {
    "duration": 198,
    "start_time": "2023-03-27T20:26:05.824Z"
   },
   {
    "duration": 169,
    "start_time": "2023-03-27T20:26:06.024Z"
   },
   {
    "duration": 180,
    "start_time": "2023-03-27T20:26:06.195Z"
   },
   {
    "duration": 198,
    "start_time": "2023-03-27T20:26:06.377Z"
   },
   {
    "duration": 186,
    "start_time": "2023-03-27T20:26:06.579Z"
   },
   {
    "duration": 422,
    "start_time": "2023-03-27T20:26:06.766Z"
   },
   {
    "duration": 216,
    "start_time": "2023-03-27T20:26:07.189Z"
   },
   {
    "duration": 198,
    "start_time": "2023-03-27T20:26:07.408Z"
   },
   {
    "duration": 1925,
    "start_time": "2023-03-27T20:26:07.608Z"
   },
   {
    "duration": 88,
    "start_time": "2023-03-27T20:26:09.534Z"
   },
   {
    "duration": 0,
    "start_time": "2023-03-27T20:26:09.623Z"
   },
   {
    "duration": 0,
    "start_time": "2023-03-27T20:26:09.624Z"
   },
   {
    "duration": 0,
    "start_time": "2023-03-27T20:26:09.626Z"
   },
   {
    "duration": 0,
    "start_time": "2023-03-27T20:26:09.627Z"
   },
   {
    "duration": 0,
    "start_time": "2023-03-27T20:26:09.628Z"
   },
   {
    "duration": 0,
    "start_time": "2023-03-27T20:26:09.630Z"
   },
   {
    "duration": 0,
    "start_time": "2023-03-27T20:26:09.631Z"
   },
   {
    "duration": 0,
    "start_time": "2023-03-27T20:26:09.632Z"
   },
   {
    "duration": 0,
    "start_time": "2023-03-27T20:26:09.633Z"
   },
   {
    "duration": 0,
    "start_time": "2023-03-27T20:26:09.635Z"
   },
   {
    "duration": 0,
    "start_time": "2023-03-27T20:26:09.636Z"
   },
   {
    "duration": 0,
    "start_time": "2023-03-27T20:26:09.637Z"
   },
   {
    "duration": 0,
    "start_time": "2023-03-27T20:26:09.638Z"
   },
   {
    "duration": 0,
    "start_time": "2023-03-27T20:26:09.662Z"
   },
   {
    "duration": 0,
    "start_time": "2023-03-27T20:26:09.663Z"
   },
   {
    "duration": 0,
    "start_time": "2023-03-27T20:26:09.665Z"
   },
   {
    "duration": 0,
    "start_time": "2023-03-27T20:26:09.666Z"
   },
   {
    "duration": 0,
    "start_time": "2023-03-27T20:26:09.667Z"
   },
   {
    "duration": 0,
    "start_time": "2023-03-27T20:26:09.667Z"
   },
   {
    "duration": 0,
    "start_time": "2023-03-27T20:26:09.668Z"
   },
   {
    "duration": 0,
    "start_time": "2023-03-27T20:26:09.669Z"
   },
   {
    "duration": 0,
    "start_time": "2023-03-27T20:26:09.670Z"
   },
   {
    "duration": 0,
    "start_time": "2023-03-27T20:26:09.673Z"
   },
   {
    "duration": 0,
    "start_time": "2023-03-27T20:26:09.674Z"
   },
   {
    "duration": 0,
    "start_time": "2023-03-27T20:26:09.675Z"
   },
   {
    "duration": 0,
    "start_time": "2023-03-27T20:26:09.676Z"
   },
   {
    "duration": 3,
    "start_time": "2023-03-27T20:26:20.034Z"
   },
   {
    "duration": 180,
    "start_time": "2023-03-27T20:26:20.039Z"
   },
   {
    "duration": 16,
    "start_time": "2023-03-27T20:26:20.220Z"
   },
   {
    "duration": 26,
    "start_time": "2023-03-27T20:26:20.238Z"
   },
   {
    "duration": 8,
    "start_time": "2023-03-27T20:26:20.268Z"
   },
   {
    "duration": 12,
    "start_time": "2023-03-27T20:26:20.279Z"
   },
   {
    "duration": 116,
    "start_time": "2023-03-27T20:26:20.292Z"
   },
   {
    "duration": 7,
    "start_time": "2023-03-27T20:26:20.410Z"
   },
   {
    "duration": 11,
    "start_time": "2023-03-27T20:26:20.419Z"
   },
   {
    "duration": 42,
    "start_time": "2023-03-27T20:26:20.432Z"
   },
   {
    "duration": 13,
    "start_time": "2023-03-27T20:26:20.478Z"
   },
   {
    "duration": 5,
    "start_time": "2023-03-27T20:26:20.492Z"
   },
   {
    "duration": 5,
    "start_time": "2023-03-27T20:26:20.498Z"
   },
   {
    "duration": 7,
    "start_time": "2023-03-27T20:26:20.505Z"
   },
   {
    "duration": 7,
    "start_time": "2023-03-27T20:26:20.514Z"
   },
   {
    "duration": 49,
    "start_time": "2023-03-27T20:26:20.522Z"
   },
   {
    "duration": 13,
    "start_time": "2023-03-27T20:26:20.574Z"
   },
   {
    "duration": 5,
    "start_time": "2023-03-27T20:26:20.588Z"
   },
   {
    "duration": 5,
    "start_time": "2023-03-27T20:26:20.594Z"
   },
   {
    "duration": 5,
    "start_time": "2023-03-27T20:26:20.600Z"
   },
   {
    "duration": 12,
    "start_time": "2023-03-27T20:26:20.607Z"
   },
   {
    "duration": 42,
    "start_time": "2023-03-27T20:26:20.620Z"
   },
   {
    "duration": 10,
    "start_time": "2023-03-27T20:26:20.664Z"
   },
   {
    "duration": 17,
    "start_time": "2023-03-27T20:26:20.677Z"
   },
   {
    "duration": 17,
    "start_time": "2023-03-27T20:26:20.697Z"
   },
   {
    "duration": 4,
    "start_time": "2023-03-27T20:26:20.716Z"
   },
   {
    "duration": 222,
    "start_time": "2023-03-27T20:26:20.721Z"
   },
   {
    "duration": 7,
    "start_time": "2023-03-27T20:26:20.945Z"
   },
   {
    "duration": 9,
    "start_time": "2023-03-27T20:26:20.965Z"
   },
   {
    "duration": 61,
    "start_time": "2023-03-27T20:26:20.976Z"
   },
   {
    "duration": 386,
    "start_time": "2023-03-27T20:26:21.038Z"
   },
   {
    "duration": 397,
    "start_time": "2023-03-27T20:26:21.427Z"
   },
   {
    "duration": 191,
    "start_time": "2023-03-27T20:26:21.827Z"
   },
   {
    "duration": 2016,
    "start_time": "2023-03-27T20:26:22.019Z"
   },
   {
    "duration": 255,
    "start_time": "2023-03-27T20:26:24.036Z"
   },
   {
    "duration": 204,
    "start_time": "2023-03-27T20:26:24.293Z"
   },
   {
    "duration": 200,
    "start_time": "2023-03-27T20:26:24.498Z"
   },
   {
    "duration": 210,
    "start_time": "2023-03-27T20:26:24.699Z"
   },
   {
    "duration": 221,
    "start_time": "2023-03-27T20:26:24.911Z"
   },
   {
    "duration": 203,
    "start_time": "2023-03-27T20:26:25.134Z"
   },
   {
    "duration": 530,
    "start_time": "2023-03-27T20:26:25.339Z"
   },
   {
    "duration": 178,
    "start_time": "2023-03-27T20:26:25.872Z"
   },
   {
    "duration": 191,
    "start_time": "2023-03-27T20:26:26.051Z"
   },
   {
    "duration": 1959,
    "start_time": "2023-03-27T20:26:26.244Z"
   },
   {
    "duration": 9,
    "start_time": "2023-03-27T20:26:28.205Z"
   },
   {
    "duration": 25,
    "start_time": "2023-03-27T20:26:38.025Z"
   },
   {
    "duration": 73,
    "start_time": "2023-03-27T20:27:08.310Z"
   },
   {
    "duration": 72,
    "start_time": "2023-03-27T20:27:21.550Z"
   },
   {
    "duration": 40,
    "start_time": "2023-03-27T20:27:38.206Z"
   },
   {
    "duration": 20,
    "start_time": "2023-03-27T20:28:39.183Z"
   },
   {
    "duration": 22,
    "start_time": "2023-03-27T20:28:59.045Z"
   },
   {
    "duration": 39,
    "start_time": "2023-03-27T20:29:16.284Z"
   },
   {
    "duration": 20,
    "start_time": "2023-03-27T20:29:50.747Z"
   },
   {
    "duration": 21,
    "start_time": "2023-03-27T20:30:05.858Z"
   },
   {
    "duration": 52,
    "start_time": "2023-03-27T20:30:16.225Z"
   },
   {
    "duration": 19,
    "start_time": "2023-03-27T20:30:22.445Z"
   },
   {
    "duration": 21,
    "start_time": "2023-03-27T20:30:26.068Z"
   },
   {
    "duration": 21,
    "start_time": "2023-03-27T20:30:28.768Z"
   },
   {
    "duration": 20,
    "start_time": "2023-03-27T20:30:31.230Z"
   },
   {
    "duration": 20,
    "start_time": "2023-03-27T20:30:33.715Z"
   },
   {
    "duration": 66,
    "start_time": "2023-03-27T20:30:36.483Z"
   },
   {
    "duration": 21,
    "start_time": "2023-03-27T20:31:01.281Z"
   },
   {
    "duration": 14,
    "start_time": "2023-03-27T20:31:26.084Z"
   },
   {
    "duration": 42,
    "start_time": "2023-03-27T20:32:09.670Z"
   },
   {
    "duration": 41,
    "start_time": "2023-03-27T20:33:29.440Z"
   },
   {
    "duration": 21,
    "start_time": "2023-03-27T20:33:57.109Z"
   },
   {
    "duration": 21,
    "start_time": "2023-03-27T20:34:13.733Z"
   },
   {
    "duration": 368,
    "start_time": "2023-03-27T20:34:21.315Z"
   },
   {
    "duration": 140,
    "start_time": "2023-03-27T20:34:21.684Z"
   },
   {
    "duration": 14,
    "start_time": "2023-03-27T20:34:21.826Z"
   },
   {
    "duration": 20,
    "start_time": "2023-03-27T20:34:21.842Z"
   },
   {
    "duration": 4,
    "start_time": "2023-03-27T20:34:21.864Z"
   },
   {
    "duration": 8,
    "start_time": "2023-03-27T20:34:21.869Z"
   },
   {
    "duration": 90,
    "start_time": "2023-03-27T20:34:21.879Z"
   },
   {
    "duration": 9,
    "start_time": "2023-03-27T20:34:21.971Z"
   },
   {
    "duration": 7,
    "start_time": "2023-03-27T20:34:21.982Z"
   },
   {
    "duration": 25,
    "start_time": "2023-03-27T20:34:21.990Z"
   },
   {
    "duration": 9,
    "start_time": "2023-03-27T20:34:22.017Z"
   },
   {
    "duration": 34,
    "start_time": "2023-03-27T20:34:22.028Z"
   },
   {
    "duration": 6,
    "start_time": "2023-03-27T20:34:22.064Z"
   },
   {
    "duration": 9,
    "start_time": "2023-03-27T20:34:22.074Z"
   },
   {
    "duration": 8,
    "start_time": "2023-03-27T20:34:22.085Z"
   },
   {
    "duration": 10,
    "start_time": "2023-03-27T20:34:22.094Z"
   },
   {
    "duration": 10,
    "start_time": "2023-03-27T20:34:22.106Z"
   },
   {
    "duration": 18,
    "start_time": "2023-03-27T20:34:22.117Z"
   },
   {
    "duration": 25,
    "start_time": "2023-03-27T20:34:22.137Z"
   },
   {
    "duration": 5,
    "start_time": "2023-03-27T20:34:22.164Z"
   },
   {
    "duration": 13,
    "start_time": "2023-03-27T20:34:22.171Z"
   },
   {
    "duration": 5,
    "start_time": "2023-03-27T20:34:22.186Z"
   },
   {
    "duration": 7,
    "start_time": "2023-03-27T20:34:22.193Z"
   },
   {
    "duration": 16,
    "start_time": "2023-03-27T20:34:22.202Z"
   },
   {
    "duration": 54,
    "start_time": "2023-03-27T20:34:22.220Z"
   },
   {
    "duration": 3,
    "start_time": "2023-03-27T20:34:22.276Z"
   },
   {
    "duration": 228,
    "start_time": "2023-03-27T20:34:22.281Z"
   },
   {
    "duration": 6,
    "start_time": "2023-03-27T20:34:22.511Z"
   },
   {
    "duration": 7,
    "start_time": "2023-03-27T20:34:22.519Z"
   },
   {
    "duration": 71,
    "start_time": "2023-03-27T20:34:22.527Z"
   },
   {
    "duration": 516,
    "start_time": "2023-03-27T20:34:22.600Z"
   },
   {
    "duration": 292,
    "start_time": "2023-03-27T20:34:23.118Z"
   },
   {
    "duration": 183,
    "start_time": "2023-03-27T20:34:23.412Z"
   },
   {
    "duration": 1749,
    "start_time": "2023-03-27T20:34:23.597Z"
   },
   {
    "duration": 197,
    "start_time": "2023-03-27T20:34:25.347Z"
   },
   {
    "duration": 199,
    "start_time": "2023-03-27T20:34:25.545Z"
   },
   {
    "duration": 183,
    "start_time": "2023-03-27T20:34:25.745Z"
   },
   {
    "duration": 182,
    "start_time": "2023-03-27T20:34:25.929Z"
   },
   {
    "duration": 201,
    "start_time": "2023-03-27T20:34:26.113Z"
   },
   {
    "duration": 202,
    "start_time": "2023-03-27T20:34:26.316Z"
   },
   {
    "duration": 411,
    "start_time": "2023-03-27T20:34:26.522Z"
   },
   {
    "duration": 173,
    "start_time": "2023-03-27T20:34:26.935Z"
   },
   {
    "duration": 205,
    "start_time": "2023-03-27T20:34:27.110Z"
   },
   {
    "duration": 1846,
    "start_time": "2023-03-27T20:34:27.317Z"
   },
   {
    "duration": 23,
    "start_time": "2023-03-27T20:34:29.164Z"
   },
   {
    "duration": 23,
    "start_time": "2023-03-27T20:34:31.074Z"
   },
   {
    "duration": 14,
    "start_time": "2023-03-27T20:34:31.979Z"
   },
   {
    "duration": 23,
    "start_time": "2023-03-27T20:34:40.914Z"
   },
   {
    "duration": 22,
    "start_time": "2023-03-27T20:35:27.567Z"
   },
   {
    "duration": 27,
    "start_time": "2023-03-27T20:35:54.053Z"
   },
   {
    "duration": 54,
    "start_time": "2023-03-27T20:36:01.169Z"
   },
   {
    "duration": 20,
    "start_time": "2023-03-27T20:36:12.135Z"
   },
   {
    "duration": 21,
    "start_time": "2023-03-27T20:36:19.695Z"
   },
   {
    "duration": 20,
    "start_time": "2023-03-27T20:36:33.142Z"
   },
   {
    "duration": 27,
    "start_time": "2023-03-27T20:36:55.839Z"
   },
   {
    "duration": 21,
    "start_time": "2023-03-27T20:37:01.018Z"
   },
   {
    "duration": 20,
    "start_time": "2023-03-27T20:37:18.384Z"
   },
   {
    "duration": 40,
    "start_time": "2023-03-27T20:38:05.582Z"
   },
   {
    "duration": 19,
    "start_time": "2023-03-27T20:39:26.866Z"
   },
   {
    "duration": 40,
    "start_time": "2023-03-27T20:39:32.111Z"
   },
   {
    "duration": 41,
    "start_time": "2023-03-27T20:39:38.677Z"
   },
   {
    "duration": 20,
    "start_time": "2023-03-27T20:39:46.894Z"
   },
   {
    "duration": 20,
    "start_time": "2023-03-27T20:40:02.149Z"
   },
   {
    "duration": 78,
    "start_time": "2023-03-27T20:40:30.765Z"
   },
   {
    "duration": 107,
    "start_time": "2023-03-27T20:41:09.066Z"
   },
   {
    "duration": 371,
    "start_time": "2023-03-27T20:41:21.314Z"
   },
   {
    "duration": 18,
    "start_time": "2023-03-27T20:41:29.554Z"
   },
   {
    "duration": 291,
    "start_time": "2023-03-27T20:41:59.592Z"
   },
   {
    "duration": 23,
    "start_time": "2023-03-27T20:42:16.032Z"
   },
   {
    "duration": 21,
    "start_time": "2023-03-27T20:42:22.749Z"
   },
   {
    "duration": 16,
    "start_time": "2023-03-27T20:43:08.365Z"
   },
   {
    "duration": 45,
    "start_time": "2023-03-27T20:43:14.169Z"
   },
   {
    "duration": 7,
    "start_time": "2023-03-27T20:43:50.150Z"
   },
   {
    "duration": 8,
    "start_time": "2023-03-27T20:44:03.645Z"
   },
   {
    "duration": 33,
    "start_time": "2023-03-27T20:44:11.574Z"
   },
   {
    "duration": 38,
    "start_time": "2023-03-27T20:45:39.625Z"
   },
   {
    "duration": 14,
    "start_time": "2023-03-27T20:45:54.934Z"
   },
   {
    "duration": 38,
    "start_time": "2023-03-27T20:45:58.766Z"
   },
   {
    "duration": 39,
    "start_time": "2023-03-27T20:46:29.448Z"
   },
   {
    "duration": 73,
    "start_time": "2023-03-27T20:46:52.848Z"
   },
   {
    "duration": 18,
    "start_time": "2023-03-27T20:46:56.365Z"
   },
   {
    "duration": 20,
    "start_time": "2023-03-27T20:47:08.877Z"
   },
   {
    "duration": 46,
    "start_time": "2023-03-27T20:47:15.378Z"
   },
   {
    "duration": 5,
    "start_time": "2023-03-27T21:02:03.886Z"
   },
   {
    "duration": 5,
    "start_time": "2023-03-27T21:02:39.426Z"
   },
   {
    "duration": 172,
    "start_time": "2023-03-27T21:02:40.877Z"
   },
   {
    "duration": 268,
    "start_time": "2023-03-27T21:02:42.394Z"
   },
   {
    "duration": 39,
    "start_time": "2023-03-27T21:05:47.693Z"
   },
   {
    "duration": 22,
    "start_time": "2023-03-27T21:06:00.002Z"
   },
   {
    "duration": 49,
    "start_time": "2023-03-27T21:06:14.126Z"
   },
   {
    "duration": 10,
    "start_time": "2023-03-27T21:07:17.182Z"
   },
   {
    "duration": 37,
    "start_time": "2023-03-27T21:07:33.198Z"
   },
   {
    "duration": 16,
    "start_time": "2023-03-27T21:07:41.278Z"
   },
   {
    "duration": 38,
    "start_time": "2023-03-27T21:07:45.751Z"
   },
   {
    "duration": 20,
    "start_time": "2023-03-27T21:07:52.854Z"
   },
   {
    "duration": 37,
    "start_time": "2023-03-27T21:07:55.047Z"
   },
   {
    "duration": 37,
    "start_time": "2023-03-27T21:08:08.548Z"
   },
   {
    "duration": 71,
    "start_time": "2023-03-27T21:09:13.013Z"
   },
   {
    "duration": 463,
    "start_time": "2023-05-20T19:19:46.857Z"
   },
   {
    "duration": 429,
    "start_time": "2023-05-20T19:19:47.323Z"
   },
   {
    "duration": 21,
    "start_time": "2023-05-20T19:19:47.754Z"
   },
   {
    "duration": 24,
    "start_time": "2023-05-20T19:19:47.778Z"
   },
   {
    "duration": 4,
    "start_time": "2023-05-20T19:19:47.805Z"
   },
   {
    "duration": 12,
    "start_time": "2023-05-20T19:19:47.811Z"
   },
   {
    "duration": 108,
    "start_time": "2023-05-20T19:19:47.825Z"
   },
   {
    "duration": 15,
    "start_time": "2023-05-20T19:19:47.936Z"
   },
   {
    "duration": 32,
    "start_time": "2023-05-20T19:19:47.953Z"
   },
   {
    "duration": 60,
    "start_time": "2023-05-20T19:19:47.988Z"
   },
   {
    "duration": 12,
    "start_time": "2023-05-20T19:19:48.050Z"
   },
   {
    "duration": 43,
    "start_time": "2023-05-20T19:19:48.064Z"
   },
   {
    "duration": 32,
    "start_time": "2023-05-20T19:19:48.109Z"
   },
   {
    "duration": 15,
    "start_time": "2023-05-20T19:19:48.145Z"
   },
   {
    "duration": 36,
    "start_time": "2023-05-20T19:19:48.161Z"
   },
   {
    "duration": 40,
    "start_time": "2023-05-20T19:19:48.199Z"
   },
   {
    "duration": 15,
    "start_time": "2023-05-20T19:19:48.241Z"
   },
   {
    "duration": 8,
    "start_time": "2023-05-20T19:19:48.258Z"
   },
   {
    "duration": 41,
    "start_time": "2023-05-20T19:19:48.268Z"
   },
   {
    "duration": 13,
    "start_time": "2023-05-20T19:19:48.311Z"
   },
   {
    "duration": 19,
    "start_time": "2023-05-20T19:19:48.326Z"
   },
   {
    "duration": 18,
    "start_time": "2023-05-20T19:19:48.347Z"
   },
   {
    "duration": 40,
    "start_time": "2023-05-20T19:19:48.367Z"
   },
   {
    "duration": 40,
    "start_time": "2023-05-20T19:19:48.409Z"
   },
   {
    "duration": 44,
    "start_time": "2023-05-20T19:19:48.451Z"
   },
   {
    "duration": 27,
    "start_time": "2023-05-20T19:19:48.501Z"
   },
   {
    "duration": 314,
    "start_time": "2023-05-20T19:19:48.530Z"
   },
   {
    "duration": 8,
    "start_time": "2023-05-20T19:19:48.846Z"
   },
   {
    "duration": 23,
    "start_time": "2023-05-20T19:19:48.856Z"
   },
   {
    "duration": 83,
    "start_time": "2023-05-20T19:19:48.881Z"
   },
   {
    "duration": 655,
    "start_time": "2023-05-20T19:19:48.967Z"
   },
   {
    "duration": 348,
    "start_time": "2023-05-20T19:19:49.623Z"
   },
   {
    "duration": 234,
    "start_time": "2023-05-20T19:19:49.972Z"
   },
   {
    "duration": 2087,
    "start_time": "2023-05-20T19:19:50.208Z"
   },
   {
    "duration": 234,
    "start_time": "2023-05-20T19:19:52.298Z"
   },
   {
    "duration": 231,
    "start_time": "2023-05-20T19:19:52.534Z"
   },
   {
    "duration": 217,
    "start_time": "2023-05-20T19:19:52.773Z"
   },
   {
    "duration": 216,
    "start_time": "2023-05-20T19:19:52.992Z"
   },
   {
    "duration": 239,
    "start_time": "2023-05-20T19:19:53.210Z"
   },
   {
    "duration": 221,
    "start_time": "2023-05-20T19:19:53.450Z"
   },
   {
    "duration": 465,
    "start_time": "2023-05-20T19:19:53.683Z"
   },
   {
    "duration": 194,
    "start_time": "2023-05-20T19:19:54.150Z"
   },
   {
    "duration": 220,
    "start_time": "2023-05-20T19:19:54.347Z"
   },
   {
    "duration": 2172,
    "start_time": "2023-05-20T19:19:54.580Z"
   },
   {
    "duration": 46,
    "start_time": "2023-05-20T19:19:56.754Z"
   },
   {
    "duration": 49,
    "start_time": "2023-05-20T19:19:56.805Z"
   },
   {
    "duration": 6,
    "start_time": "2023-05-20T19:19:56.856Z"
   },
   {
    "duration": 244,
    "start_time": "2023-05-20T19:19:56.871Z"
   },
   {
    "duration": 287,
    "start_time": "2023-05-20T19:19:57.117Z"
   },
   {
    "duration": 6,
    "start_time": "2023-05-20T19:19:57.407Z"
   },
   {
    "duration": 27,
    "start_time": "2023-05-20T19:19:57.414Z"
   },
   {
    "duration": 203,
    "start_time": "2023-05-20T19:19:57.443Z"
   },
   {
    "duration": 255,
    "start_time": "2023-05-20T19:19:57.648Z"
   },
   {
    "duration": 11,
    "start_time": "2023-05-20T19:19:57.905Z"
   },
   {
    "duration": 432,
    "start_time": "2023-05-20T19:19:57.918Z"
   },
   {
    "duration": 6,
    "start_time": "2023-05-20T19:19:58.351Z"
   },
   {
    "duration": 251,
    "start_time": "2023-05-20T19:19:58.358Z"
   },
   {
    "duration": 6,
    "start_time": "2023-05-20T19:19:58.611Z"
   },
   {
    "duration": 473,
    "start_time": "2023-05-20T19:19:58.619Z"
   },
   {
    "duration": 14,
    "start_time": "2023-05-20T19:19:59.095Z"
   },
   {
    "duration": 18,
    "start_time": "2023-05-20T19:19:59.111Z"
   },
   {
    "duration": 26,
    "start_time": "2023-05-20T19:19:59.131Z"
   },
   {
    "duration": 33,
    "start_time": "2023-05-20T19:19:59.159Z"
   },
   {
    "duration": 35,
    "start_time": "2023-05-20T19:19:59.194Z"
   },
   {
    "duration": 26,
    "start_time": "2023-05-20T19:19:59.231Z"
   },
   {
    "duration": 41,
    "start_time": "2023-05-20T19:19:59.259Z"
   },
   {
    "duration": 19,
    "start_time": "2023-05-20T19:19:59.302Z"
   },
   {
    "duration": 16,
    "start_time": "2023-05-20T19:19:59.323Z"
   },
   {
    "duration": 12,
    "start_time": "2023-05-20T19:19:59.341Z"
   },
   {
    "duration": 33,
    "start_time": "2023-05-20T19:19:59.356Z"
   },
   {
    "duration": 167,
    "start_time": "2023-05-20T19:19:59.391Z"
   },
   {
    "duration": 37,
    "start_time": "2023-05-20T19:19:59.560Z"
   }
  ],
  "kernelspec": {
   "display_name": "Python 3 (ipykernel)",
   "language": "python",
   "name": "python3"
  },
  "language_info": {
   "codemirror_mode": {
    "name": "ipython",
    "version": 3
   },
   "file_extension": ".py",
   "mimetype": "text/x-python",
   "name": "python",
   "nbconvert_exporter": "python",
   "pygments_lexer": "ipython3",
   "version": "3.9.5"
  },
  "toc": {
   "base_numbering": 1,
   "nav_menu": {},
   "number_sections": true,
   "sideBar": true,
   "skip_h1_title": true,
   "title_cell": "Table of Contents",
   "title_sidebar": "Contents",
   "toc_cell": false,
   "toc_position": {},
   "toc_section_display": true,
   "toc_window_display": false
  }
 },
 "nbformat": 4,
 "nbformat_minor": 2
}
