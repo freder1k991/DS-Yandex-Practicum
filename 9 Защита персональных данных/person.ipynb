{
 "cells": [
  {
   "cell_type": "markdown",
   "metadata": {
    "toc": true
   },
   "source": [
    "<h1>Содержание<span class=\"tocSkip\"></span></h1>\n",
    "<div class=\"toc\"><ul class=\"toc-item\"><li><span><a href=\"#Загрузка-данных\" data-toc-modified-id=\"Загрузка-данных-1\"><span class=\"toc-item-num\">1&nbsp;&nbsp;</span>Загрузка данных</a></span></li><li><span><a href=\"#Умножение-матриц\" data-toc-modified-id=\"Умножение-матриц-2\"><span class=\"toc-item-num\">2&nbsp;&nbsp;</span>Умножение матриц</a></span></li><li><span><a href=\"#Алгоритм-преобразования\" data-toc-modified-id=\"Алгоритм-преобразования-3\"><span class=\"toc-item-num\">3&nbsp;&nbsp;</span>Алгоритм преобразования</a></span></li><li><span><a href=\"#Проверка-алгоритма\" data-toc-modified-id=\"Проверка-алгоритма-4\"><span class=\"toc-item-num\">4&nbsp;&nbsp;</span>Проверка алгоритма</a></span><ul class=\"toc-item\"><li><span><a href=\"#Выбор-фичей-и-целевого-показателя\" data-toc-modified-id=\"Выбор-фичей-и-целевого-показателя-4.1\"><span class=\"toc-item-num\">4.1&nbsp;&nbsp;</span>Выбор фичей и целевого показателя</a></span></li><li><span><a href=\"#Сохранение-исходных-данных\" data-toc-modified-id=\"Сохранение-исходных-данных-4.2\"><span class=\"toc-item-num\">4.2&nbsp;&nbsp;</span>Сохранение исходных данных</a></span></li><li><span><a href=\"#Разделение-на-обучающую-и-тестовую-выборку\" data-toc-modified-id=\"Разделение-на-обучающую-и-тестовую-выборку-4.3\"><span class=\"toc-item-num\">4.3&nbsp;&nbsp;</span>Разделение на обучающую и тестовую выборку</a></span></li><li><span><a href=\"#Масштабирование\" data-toc-modified-id=\"Масштабирование-4.4\"><span class=\"toc-item-num\">4.4&nbsp;&nbsp;</span>Масштабирование</a></span></li><li><span><a href=\"#Сравнение-качества-моделей\" data-toc-modified-id=\"Сравнение-качества-моделей-4.5\"><span class=\"toc-item-num\">4.5&nbsp;&nbsp;</span>Сравнение качества моделей</a></span></li></ul></li><li><span><a href=\"#Чек-лист-проверки\" data-toc-modified-id=\"Чек-лист-проверки-5\"><span class=\"toc-item-num\">5&nbsp;&nbsp;</span>Чек-лист проверки</a></span></li></ul></div>"
   ]
  },
  {
   "cell_type": "markdown",
   "metadata": {},
   "source": [
    "# Защита персональных данных клиентов"
   ]
  },
  {
   "cell_type": "markdown",
   "metadata": {},
   "source": [
    "Вам нужно защитить данные клиентов страховой компании «Хоть потоп». Разработайте такой метод преобразования данных, чтобы по ним было сложно восстановить персональную информацию. Обоснуйте корректность его работы.\n",
    "\n",
    "Нужно защитить данные, чтобы при преобразовании качество моделей машинного обучения не ухудшилось. Подбирать наилучшую модель не требуется."
   ]
  },
  {
   "cell_type": "code",
   "execution_count": 1,
   "metadata": {},
   "outputs": [],
   "source": [
    "import pandas as pd\n",
    "import numpy as np \n",
    "from sklearn.preprocessing import StandardScaler\n",
    "from sklearn.linear_model import LinearRegression\n",
    "from sklearn.metrics import r2_score"
   ]
  },
  {
   "cell_type": "markdown",
   "metadata": {},
   "source": [
    "## Загрузка данных"
   ]
  },
  {
   "cell_type": "code",
   "execution_count": 2,
   "metadata": {},
   "outputs": [
    {
     "data": {
      "text/html": [
       "<div>\n",
       "<style scoped>\n",
       "    .dataframe tbody tr th:only-of-type {\n",
       "        vertical-align: middle;\n",
       "    }\n",
       "\n",
       "    .dataframe tbody tr th {\n",
       "        vertical-align: top;\n",
       "    }\n",
       "\n",
       "    .dataframe thead th {\n",
       "        text-align: right;\n",
       "    }\n",
       "</style>\n",
       "<table border=\"1\" class=\"dataframe\">\n",
       "  <thead>\n",
       "    <tr style=\"text-align: right;\">\n",
       "      <th></th>\n",
       "      <th>Пол</th>\n",
       "      <th>Возраст</th>\n",
       "      <th>Зарплата</th>\n",
       "      <th>Члены семьи</th>\n",
       "      <th>Страховые выплаты</th>\n",
       "    </tr>\n",
       "  </thead>\n",
       "  <tbody>\n",
       "    <tr>\n",
       "      <th>0</th>\n",
       "      <td>1</td>\n",
       "      <td>41.0</td>\n",
       "      <td>49600.0</td>\n",
       "      <td>1</td>\n",
       "      <td>0</td>\n",
       "    </tr>\n",
       "    <tr>\n",
       "      <th>1</th>\n",
       "      <td>0</td>\n",
       "      <td>46.0</td>\n",
       "      <td>38000.0</td>\n",
       "      <td>1</td>\n",
       "      <td>1</td>\n",
       "    </tr>\n",
       "    <tr>\n",
       "      <th>2</th>\n",
       "      <td>0</td>\n",
       "      <td>29.0</td>\n",
       "      <td>21000.0</td>\n",
       "      <td>0</td>\n",
       "      <td>0</td>\n",
       "    </tr>\n",
       "    <tr>\n",
       "      <th>3</th>\n",
       "      <td>0</td>\n",
       "      <td>21.0</td>\n",
       "      <td>41700.0</td>\n",
       "      <td>2</td>\n",
       "      <td>0</td>\n",
       "    </tr>\n",
       "    <tr>\n",
       "      <th>4</th>\n",
       "      <td>1</td>\n",
       "      <td>28.0</td>\n",
       "      <td>26100.0</td>\n",
       "      <td>0</td>\n",
       "      <td>0</td>\n",
       "    </tr>\n",
       "  </tbody>\n",
       "</table>\n",
       "</div>"
      ],
      "text/plain": [
       "   Пол  Возраст  Зарплата  Члены семьи  Страховые выплаты\n",
       "0    1     41.0   49600.0            1                  0\n",
       "1    0     46.0   38000.0            1                  1\n",
       "2    0     29.0   21000.0            0                  0\n",
       "3    0     21.0   41700.0            2                  0\n",
       "4    1     28.0   26100.0            0                  0"
      ]
     },
     "execution_count": 2,
     "metadata": {},
     "output_type": "execute_result"
    }
   ],
   "source": [
    "df = pd.read_csv('/datasets/insurance.csv')\n",
    "df.head()"
   ]
  },
  {
   "cell_type": "code",
   "execution_count": 3,
   "metadata": {},
   "outputs": [
    {
     "data": {
      "text/plain": [
       "(5000, 5)"
      ]
     },
     "execution_count": 3,
     "metadata": {},
     "output_type": "execute_result"
    }
   ],
   "source": [
    "df.shape"
   ]
  },
  {
   "cell_type": "code",
   "execution_count": 4,
   "metadata": {},
   "outputs": [
    {
     "name": "stdout",
     "output_type": "stream",
     "text": [
      "<class 'pandas.core.frame.DataFrame'>\n",
      "RangeIndex: 5000 entries, 0 to 4999\n",
      "Data columns (total 5 columns):\n",
      " #   Column             Non-Null Count  Dtype  \n",
      "---  ------             --------------  -----  \n",
      " 0   Пол                5000 non-null   int64  \n",
      " 1   Возраст            5000 non-null   float64\n",
      " 2   Зарплата           5000 non-null   float64\n",
      " 3   Члены семьи        5000 non-null   int64  \n",
      " 4   Страховые выплаты  5000 non-null   int64  \n",
      "dtypes: float64(2), int64(3)\n",
      "memory usage: 195.4 KB\n"
     ]
    }
   ],
   "source": [
    "df.info()"
   ]
  },
  {
   "cell_type": "code",
   "execution_count": 5,
   "metadata": {},
   "outputs": [
    {
     "data": {
      "text/plain": [
       "<AxesSubplot:title={'center':'Кол-во страховых выплат'}, xlabel='Страховые выплаты'>"
      ]
     },
     "execution_count": 5,
     "metadata": {},
     "output_type": "execute_result"
    },
    {
     "data": {
      "image/png": "[encoded data removed]",
      "text/plain": [
       "<Figure size 432x288 with 1 Axes>"
      ]
     },
     "metadata": {
      "needs_background": "light"
     },
     "output_type": "display_data"
    }
   ],
   "source": [
    "df.groupby('Страховые выплаты').count()['Пол'].plot(kind='bar', title='Кол-во страховых выплат')"
   ]
  },
  {
   "cell_type": "code",
   "execution_count": 6,
   "metadata": {},
   "outputs": [
    {
     "data": {
      "text/plain": [
       "<AxesSubplot:title={'center':'Возраст клиентов'}, ylabel='Frequency'>"
      ]
     },
     "execution_count": 6,
     "metadata": {},
     "output_type": "execute_result"
    },
    {
     "data": {
      "image/png": "[encoded data removed]",
      "text/plain": [
       "<Figure size 432x288 with 1 Axes>"
      ]
     },
     "metadata": {
      "needs_background": "light"
     },
     "output_type": "display_data"
    }
   ],
   "source": [
    "df[['Возраст']].plot(bins=47, kind='hist', title='Возраст клиентов', grid=True)"
   ]
  },
  {
   "cell_type": "code",
   "execution_count": 7,
   "metadata": {},
   "outputs": [
    {
     "data": {
      "text/plain": [
       "<AxesSubplot:>"
      ]
     },
     "execution_count": 7,
     "metadata": {},
     "output_type": "execute_result"
    },
    {
     "data": {
      "image/png": "[encoded data removed]",
      "text/plain": [
       "<Figure size 432x288 with 1 Axes>"
      ]
     },
     "metadata": {
      "needs_background": "light"
     },
     "output_type": "display_data"
    }
   ],
   "source": [
    "#Зарплата клиентов\n",
    "df['Зарплата'].hist()"
   ]
  },
  {
   "cell_type": "code",
   "execution_count": 8,
   "metadata": {},
   "outputs": [
    {
     "data": {
      "text/plain": [
       "<AxesSubplot:>"
      ]
     },
     "execution_count": 8,
     "metadata": {},
     "output_type": "execute_result"
    },
    {
     "data": {
      "image/png": "[encoded data removed]",
      "text/plain": [
       "<Figure size 432x288 with 1 Axes>"
      ]
     },
     "metadata": {
      "needs_background": "light"
     },
     "output_type": "display_data"
    }
   ],
   "source": [
    "df['Члены семьи'].hist(bins=6)"
   ]
  },
  {
   "cell_type": "markdown",
   "metadata": {},
   "source": [
    "## Умножение матриц"
   ]
  },
  {
   "cell_type": "markdown",
   "metadata": {},
   "source": [
    "В этом задании вы можете записывать формулы в *Jupyter Notebook.*\n",
    "\n",
    "Чтобы записать формулу внутри текста, окружите её символами доллара \\\\$; если снаружи —  двойными символами \\\\$\\\\$. Эти формулы записываются на языке вёрстки *LaTeX.* \n",
    "\n",
    "Для примера мы записали формулы линейной регрессии. Можете их скопировать и отредактировать, чтобы решить задачу.\n",
    "\n",
    "Работать в *LaTeX* необязательно."
   ]
  },
  {
   "cell_type": "markdown",
   "metadata": {},
   "source": [
    "Обозначения:\n",
    "\n",
    "- $X$ — матрица признаков (нулевой столбец состоит из единиц)\n",
    "\n",
    "- $y$ — вектор целевого признака\n",
    "\n",
    "- $P$ — матрица, на которую умножаются признаки\n",
    "\n",
    "- $w$ — вектор весов линейной регрессии (нулевой элемент равен сдвигу)"
   ]
  },
  {
   "cell_type": "markdown",
   "metadata": {},
   "source": [
    "Предсказания:\n",
    "\n",
    "$$\n",
    "a = Xw\n",
    "$$\n",
    "\n",
    "Задача обучения:\n",
    "\n",
    "$$\n",
    "w = \\arg\\min_w MSE(Xw, y)\n",
    "$$\n",
    "\n",
    "Формула обучения:\n",
    "\n",
    "$$\n",
    "w = (X^T X)^{-1} X^T y\n",
    "$$"
   ]
  },
  {
   "cell_type": "markdown",
   "metadata": {},
   "source": [
    "**Ответ:** b. Не изменится.\n",
    "\n",
    "$A$ - обратная матрица\n",
    "\n",
    "Если признаки умножить на обратную матрицу мы получим новую матрицу:\n",
    "\n",
    "$$\n",
    "X new = A * X\n",
    "$$\n",
    "\n",
    "Следовательно и будудут новые веса:\n",
    "\n",
    "$$\n",
    "w new = A * w\n",
    "$$\n",
    "$\n",
    "w_0 -  начальное значение предсказания модели\n",
    "$\n",
    "\n",
    "Формула линейной регрессии:\n",
    "$$\n",
    "y = w_0 + w_1new * x_1 new + w_2new*x_2new + ... + w_nnew*x_nnew\n",
    "$$\n",
    "\n",
    "Рассмотрим предсказание на новых признаках:\n",
    "\n",
    "$$\n",
    "a new = X new * w new\n",
    "$$\n",
    "$$\n",
    "a new =(A * X) * (A * w) = 2 A * (X * W)\n",
    "$$\n",
    "\n",
    "**Обоснование:** Таким образом из данного доказательства следует, что предсказания модели на исходных признаках и на новых признаках будут одинаковыми, следовательно, качество линейной регрессии не изменится.\n",
    "\n",
    "Как я понял параметры связаны тем что параметры модели изменяются путем умножения исходных параметров на обратную матрицу, а начальный сдвиг остается неизменным."
   ]
  },
  {
   "cell_type": "markdown",
   "metadata": {},
   "source": [
    "## Алгоритм преобразования"
   ]
  },
  {
   "cell_type": "markdown",
   "metadata": {},
   "source": [
    "**Алгоритм**\n",
    "\n",
    "- Удалить из таблицы признаки, которые будут идентифицировать пользователя (имя, адрес и т.д.).\n",
    "\n",
    "В данной таблицы таких столбцов не наблюдаем.\n",
    "\n",
    "- сохранить исхо исходные данные чтобы на них можно было тоже произвести обучение.\n",
    "\n",
    "- В таблице есть категориальный признак, который уже преобразован в численный, с ними особо ничего нельзя сделать. `Пол`. Но их можно попробовать от масштабировать\n",
    "- Затем идут такие фича как `Возраст`, `Зарплата`, `Члены семьи` и `Страховые выплаты`. \n",
    "- Выбрать фичи из таблицы и целевой показатель. \n",
    "- Разделение на обучающую и тестовые выборки\n"
   ]
  },
  {
   "cell_type": "markdown",
   "metadata": {},
   "source": [
    "**Обоснование**\n",
    "\n",
    "В моем понимании можно масштабировать при помощи метода StandardScaler. При этом методе значения признаков масштабируются в оперделенном диапазоне, как я понимаю по отношению друг к другу они не шибко изменятся, поэтому веса у модели останутся такие же и качество обучения совпадет. \n",
    "\n",
    "Формула для cтандартизации:\n",
    "$$\n",
    "x\\ scaled = (x - n) / q\n",
    "$$\n",
    "то есть приведению к нулевому среднему значению и единичному стандартному нормальному распределению.\n",
    "\n",
    "Как я понимаю к примеру если рассматривать максимальный возраст, он и останется максимальным на фоне всех остальных клиентов. И получит такой же весовой коэфицент как и при первичном обучении. "
   ]
  },
  {
   "cell_type": "markdown",
   "metadata": {},
   "source": [
    "## Проверка алгоритма\n",
    "### Выбор фичей и целевого показателя"
   ]
  },
  {
   "cell_type": "code",
   "execution_count": 9,
   "metadata": {},
   "outputs": [
    {
     "data": {
      "text/plain": [
       "Index(['Пол', 'Возраст', 'Зарплата', 'Члены семьи', 'Страховые выплаты'], dtype='object')"
      ]
     },
     "execution_count": 9,
     "metadata": {},
     "output_type": "execute_result"
    }
   ],
   "source": [
    "df.columns"
   ]
  },
  {
   "cell_type": "code",
   "execution_count": 10,
   "metadata": {},
   "outputs": [],
   "source": [
    "x_col = df.drop('Страховые выплаты', axis=1).columns\n",
    "y_col = df[['Страховые выплаты']].columns"
   ]
  },
  {
   "cell_type": "markdown",
   "metadata": {},
   "source": [
    "### Сохранение исходных данных"
   ]
  },
  {
   "cell_type": "code",
   "execution_count": 11,
   "metadata": {},
   "outputs": [],
   "source": [
    "df_scaled = df.copy()"
   ]
  },
  {
   "cell_type": "markdown",
   "metadata": {},
   "source": [
    "### Разделение на обучающую и тестовую выборку"
   ]
  },
  {
   "cell_type": "code",
   "execution_count": 12,
   "metadata": {},
   "outputs": [],
   "source": [
    "from sklearn.model_selection import train_test_split"
   ]
  },
  {
   "cell_type": "code",
   "execution_count": 13,
   "metadata": {},
   "outputs": [],
   "source": [
    "x_train, x_test, y_train, y_test = train_test_split(df[x_col], df[y_col],\n",
    "                                                    test_size=0.4, random_state=42)\n",
    "\n",
    "x_scaled_train, x_scaled_test, y_scaled_train, y_scaled_test = train_test_split(df_scaled[x_col], df_scaled[y_col],\n",
    "                                                                                test_size=0.4, random_state=42)"
   ]
  },
  {
   "cell_type": "markdown",
   "metadata": {},
   "source": [
    "### Масштабирование "
   ]
  },
  {
   "cell_type": "code",
   "execution_count": 15,
   "metadata": {},
   "outputs": [],
   "source": [
    "#стандартизация фичей\n",
    "scaler  = StandardScaler()\n",
    "scaled_data  = scaler.fit(x_scaled_train)"
   ]
  },
  {
   "cell_type": "code",
   "execution_count": 16,
   "metadata": {},
   "outputs": [],
   "source": [
    "x_scaled_train = pd.DataFrame(scaler.transform(x_scaled_train))\n",
    "x_scaled_test = pd.DataFrame(scaler.transform(x_scaled_test))"
   ]
  },
  {
   "cell_type": "code",
   "execution_count": 17,
   "metadata": {},
   "outputs": [],
   "source": [
    "#решил отдельно обучить таргет, разницы никакой не дало\n",
    "scaler  = StandardScaler()\n",
    "scaled_data  = scaler.fit(y_scaled_train)\n",
    "\n",
    "y_scaled_train= pd.DataFrame(scaler.transform(y_scaled_train))\n",
    "y_scaled_test = pd.DataFrame(scaler.transform(y_scaled_test))"
   ]
  },
  {
   "cell_type": "code",
   "execution_count": 18,
   "metadata": {},
   "outputs": [
    {
     "data": {
      "text/html": [
       "<div>\n",
       "<style scoped>\n",
       "    .dataframe tbody tr th:only-of-type {\n",
       "        vertical-align: middle;\n",
       "    }\n",
       "\n",
       "    .dataframe tbody tr th {\n",
       "        vertical-align: top;\n",
       "    }\n",
       "\n",
       "    .dataframe thead th {\n",
       "        text-align: right;\n",
       "    }\n",
       "</style>\n",
       "<table border=\"1\" class=\"dataframe\">\n",
       "  <thead>\n",
       "    <tr style=\"text-align: right;\">\n",
       "      <th></th>\n",
       "      <th>0</th>\n",
       "      <th>1</th>\n",
       "      <th>2</th>\n",
       "      <th>3</th>\n",
       "      <th>4</th>\n",
       "    </tr>\n",
       "  </thead>\n",
       "  <tbody>\n",
       "    <tr>\n",
       "      <th>0</th>\n",
       "      <td>-0.995344</td>\n",
       "      <td>0.825498</td>\n",
       "      <td>-0.234425</td>\n",
       "      <td>-0.179417</td>\n",
       "      <td>-0.324867</td>\n",
       "    </tr>\n",
       "    <tr>\n",
       "      <th>1</th>\n",
       "      <td>-0.995344</td>\n",
       "      <td>0.108574</td>\n",
       "      <td>1.044091</td>\n",
       "      <td>-0.179417</td>\n",
       "      <td>-0.324867</td>\n",
       "    </tr>\n",
       "    <tr>\n",
       "      <th>2</th>\n",
       "      <td>1.004678</td>\n",
       "      <td>1.183960</td>\n",
       "      <td>0.329330</td>\n",
       "      <td>-0.179417</td>\n",
       "      <td>-0.324867</td>\n",
       "    </tr>\n",
       "    <tr>\n",
       "      <th>3</th>\n",
       "      <td>1.004678</td>\n",
       "      <td>-0.608350</td>\n",
       "      <td>-0.576704</td>\n",
       "      <td>-1.077999</td>\n",
       "      <td>-0.324867</td>\n",
       "    </tr>\n",
       "    <tr>\n",
       "      <th>4</th>\n",
       "      <td>-0.995344</td>\n",
       "      <td>-1.205786</td>\n",
       "      <td>1.285700</td>\n",
       "      <td>0.719165</td>\n",
       "      <td>-0.324867</td>\n",
       "    </tr>\n",
       "    <tr>\n",
       "      <th>...</th>\n",
       "      <td>...</td>\n",
       "      <td>...</td>\n",
       "      <td>...</td>\n",
       "      <td>...</td>\n",
       "      <td>...</td>\n",
       "    </tr>\n",
       "    <tr>\n",
       "      <th>2995</th>\n",
       "      <td>1.004678</td>\n",
       "      <td>-0.727837</td>\n",
       "      <td>-0.365296</td>\n",
       "      <td>0.719165</td>\n",
       "      <td>-0.324867</td>\n",
       "    </tr>\n",
       "    <tr>\n",
       "      <th>2996</th>\n",
       "      <td>-0.995344</td>\n",
       "      <td>0.228061</td>\n",
       "      <td>-1.432404</td>\n",
       "      <td>1.617748</td>\n",
       "      <td>-0.324867</td>\n",
       "    </tr>\n",
       "    <tr>\n",
       "      <th>2997</th>\n",
       "      <td>1.004678</td>\n",
       "      <td>0.825498</td>\n",
       "      <td>0.661543</td>\n",
       "      <td>-1.077999</td>\n",
       "      <td>-0.324867</td>\n",
       "    </tr>\n",
       "    <tr>\n",
       "      <th>2998</th>\n",
       "      <td>1.004678</td>\n",
       "      <td>0.228061</td>\n",
       "      <td>-0.405565</td>\n",
       "      <td>-1.077999</td>\n",
       "      <td>-0.324867</td>\n",
       "    </tr>\n",
       "    <tr>\n",
       "      <th>2999</th>\n",
       "      <td>-0.995344</td>\n",
       "      <td>1.661909</td>\n",
       "      <td>0.440068</td>\n",
       "      <td>0.719165</td>\n",
       "      <td>1.890136</td>\n",
       "    </tr>\n",
       "  </tbody>\n",
       "</table>\n",
       "<p>3000 rows × 5 columns</p>\n",
       "</div>"
      ],
      "text/plain": [
       "             0         1         2         3         4\n",
       "0    -0.995344  0.825498 -0.234425 -0.179417 -0.324867\n",
       "1    -0.995344  0.108574  1.044091 -0.179417 -0.324867\n",
       "2     1.004678  1.183960  0.329330 -0.179417 -0.324867\n",
       "3     1.004678 -0.608350 -0.576704 -1.077999 -0.324867\n",
       "4    -0.995344 -1.205786  1.285700  0.719165 -0.324867\n",
       "...        ...       ...       ...       ...       ...\n",
       "2995  1.004678 -0.727837 -0.365296  0.719165 -0.324867\n",
       "2996 -0.995344  0.228061 -1.432404  1.617748 -0.324867\n",
       "2997  1.004678  0.825498  0.661543 -1.077999 -0.324867\n",
       "2998  1.004678  0.228061 -0.405565 -1.077999 -0.324867\n",
       "2999 -0.995344  1.661909  0.440068  0.719165  1.890136\n",
       "\n",
       "[3000 rows x 5 columns]"
      ]
     },
     "execution_count": 18,
     "metadata": {},
     "output_type": "execute_result"
    }
   ],
   "source": [
    "data_scaled = x_scaled_train.copy()\n",
    "data_scaled[4] = y_scaled_train\n",
    "data_scaled"
   ]
  },
  {
   "cell_type": "markdown",
   "metadata": {},
   "source": [
    "### Сравнение качества моделей\n",
    "**Исходная:**"
   ]
  },
  {
   "cell_type": "code",
   "execution_count": 25,
   "metadata": {},
   "outputs": [],
   "source": [
    "def lineregress(x_train, y_train, x_test, y_test):\n",
    "    model = LinearRegression()\n",
    "    model.fit(x_train, y_train)\n",
    "    pred = model.predict(x_test)\n",
    "    return 'Доля средней квадратичной ошибки или r2:', r2_score(y_test, pred)"
   ]
  },
  {
   "cell_type": "code",
   "execution_count": 26,
   "metadata": {},
   "outputs": [
    {
     "data": {
      "text/plain": [
       "('Доля средней квадратичной ошибки или r2:', 0.4268018208826925)"
      ]
     },
     "execution_count": 26,
     "metadata": {},
     "output_type": "execute_result"
    }
   ],
   "source": [
    "lineregress(x_train, y_train, x_test, y_test)"
   ]
  },
  {
   "cell_type": "markdown",
   "metadata": {},
   "source": [
    "**Преобразованная:**"
   ]
  },
  {
   "cell_type": "code",
   "execution_count": 29,
   "metadata": {},
   "outputs": [
    {
     "data": {
      "text/plain": [
       "('Доля средней квадратичной ошибки или r2:', 0.4268018208826947)"
      ]
     },
     "execution_count": 29,
     "metadata": {},
     "output_type": "execute_result"
    }
   ],
   "source": [
    "lineregress(x_scaled_train, y_scaled_train, x_scaled_test, y_scaled_test)"
   ]
  },
  {
   "cell_type": "markdown",
   "metadata": {},
   "source": [
    "**Вывод**\n",
    "\n",
    "Качество обучения линейной регрессии вышло сохранить. Таблица стала тяжело интерпретируема, так что данные «под защитой»."
   ]
  },
  {
   "cell_type": "markdown",
   "metadata": {},
   "source": [
    "## Чек-лист проверки"
   ]
  },
  {
   "cell_type": "markdown",
   "metadata": {},
   "source": [
    "Поставьте 'x' в выполненных пунктах. Далее нажмите Shift+Enter."
   ]
  },
  {
   "cell_type": "markdown",
   "metadata": {},
   "source": [
    "- [x]  Jupyter Notebook открыт\n",
    "- [x]  Весь код выполняется без ошибок\n",
    "- [x]  Ячейки с кодом расположены в порядке исполнения\n",
    "- [x]  Выполнен шаг 1: данные загружены\n",
    "- [x]  Выполнен шаг 2: получен ответ на вопрос об умножении матриц\n",
    "    - [x]  Указан правильный вариант ответа\n",
    "    - [x]  Вариант обоснован\n",
    "- [x]  Выполнен шаг 3: предложен алгоритм преобразования\n",
    "    - [x]  Алгоритм описан\n",
    "    - [x]  Алгоритм обоснован\n",
    "- [x]  Выполнен шаг 4: алгоритм проверен\n",
    "    - [x]  Алгоритм реализован\n",
    "    - [x]  Проведено сравнение качества моделей до и после преобразования"
   ]
  }
 ],
 "metadata": {
  "ExecuteTimeLog": [
   {
    "duration": 381,
    "start_time": "2023-06-27T13:13:57.716Z"
   },
   {
    "duration": 71,
    "start_time": "2023-06-27T13:14:15.969Z"
   },
   {
    "duration": 88,
    "start_time": "2023-06-27T13:14:21.843Z"
   },
   {
    "duration": 28,
    "start_time": "2023-06-27T13:14:30.718Z"
   },
   {
    "duration": 32,
    "start_time": "2023-06-27T13:14:41.094Z"
   },
   {
    "duration": 4,
    "start_time": "2023-06-27T13:15:09.753Z"
   },
   {
    "duration": 9,
    "start_time": "2023-06-27T13:15:20.308Z"
   },
   {
    "duration": 8,
    "start_time": "2023-06-27T13:15:31.328Z"
   },
   {
    "duration": 13,
    "start_time": "2023-06-27T13:16:49.420Z"
   },
   {
    "duration": 12,
    "start_time": "2023-06-27T13:16:55.601Z"
   },
   {
    "duration": 11,
    "start_time": "2023-06-27T13:17:28.856Z"
   },
   {
    "duration": 8,
    "start_time": "2023-06-27T13:17:41.609Z"
   },
   {
    "duration": 7,
    "start_time": "2023-06-27T13:18:31.452Z"
   },
   {
    "duration": 11,
    "start_time": "2023-06-27T13:18:35.017Z"
   },
   {
    "duration": 6,
    "start_time": "2023-06-27T13:19:10.449Z"
   },
   {
    "duration": 6,
    "start_time": "2023-06-27T13:19:21.805Z"
   },
   {
    "duration": 6,
    "start_time": "2023-06-27T13:19:24.313Z"
   },
   {
    "duration": 6,
    "start_time": "2023-06-27T14:12:39.221Z"
   },
   {
    "duration": 5,
    "start_time": "2023-06-27T14:13:00.238Z"
   },
   {
    "duration": 57,
    "start_time": "2023-06-29T12:49:15.017Z"
   },
   {
    "duration": 468,
    "start_time": "2023-06-29T12:49:19.906Z"
   },
   {
    "duration": 104,
    "start_time": "2023-06-29T12:49:20.765Z"
   },
   {
    "duration": 3,
    "start_time": "2023-06-29T12:49:21.242Z"
   },
   {
    "duration": 11,
    "start_time": "2023-06-29T12:49:21.671Z"
   },
   {
    "duration": 4,
    "start_time": "2023-06-29T12:49:23.365Z"
   },
   {
    "duration": 30,
    "start_time": "2023-06-29T12:50:15.831Z"
   },
   {
    "duration": 4,
    "start_time": "2023-06-29T12:50:24.202Z"
   },
   {
    "duration": 5,
    "start_time": "2023-06-29T12:51:22.205Z"
   },
   {
    "duration": 5,
    "start_time": "2023-06-29T12:51:37.588Z"
   },
   {
    "duration": 6,
    "start_time": "2023-06-29T12:51:45.154Z"
   },
   {
    "duration": 5,
    "start_time": "2023-06-29T12:53:33.728Z"
   },
   {
    "duration": 422,
    "start_time": "2023-07-01T12:29:34.895Z"
   },
   {
    "duration": 101,
    "start_time": "2023-07-01T12:29:35.777Z"
   },
   {
    "duration": 5,
    "start_time": "2023-07-01T12:29:36.553Z"
   },
   {
    "duration": 4,
    "start_time": "2023-07-01T12:30:45.038Z"
   },
   {
    "duration": 11,
    "start_time": "2023-07-01T12:30:45.568Z"
   },
   {
    "duration": 4,
    "start_time": "2023-07-01T12:30:45.601Z"
   },
   {
    "duration": 5,
    "start_time": "2023-07-01T12:30:45.632Z"
   },
   {
    "duration": 852,
    "start_time": "2023-07-01T15:15:50.627Z"
   },
   {
    "duration": 25,
    "start_time": "2023-07-01T15:16:23.758Z"
   },
   {
    "duration": 2,
    "start_time": "2023-07-01T15:16:42.750Z"
   },
   {
    "duration": 13,
    "start_time": "2023-07-01T15:20:41.738Z"
   },
   {
    "duration": 7,
    "start_time": "2023-07-01T15:20:53.810Z"
   },
   {
    "duration": 2,
    "start_time": "2023-07-01T15:25:24.396Z"
   },
   {
    "duration": 3,
    "start_time": "2023-07-01T15:35:46.434Z"
   },
   {
    "duration": 9,
    "start_time": "2023-07-01T15:36:06.184Z"
   },
   {
    "duration": 10,
    "start_time": "2023-07-01T15:38:23.185Z"
   },
   {
    "duration": 2,
    "start_time": "2023-07-01T15:38:47.786Z"
   },
   {
    "duration": 6,
    "start_time": "2023-07-01T15:39:36.260Z"
   },
   {
    "duration": 7,
    "start_time": "2023-07-01T15:40:33.307Z"
   },
   {
    "duration": 8,
    "start_time": "2023-07-01T15:40:51.869Z"
   },
   {
    "duration": 10,
    "start_time": "2023-07-01T15:41:43.741Z"
   },
   {
    "duration": 2,
    "start_time": "2023-07-01T15:41:46.514Z"
   },
   {
    "duration": 12,
    "start_time": "2023-07-01T15:41:46.752Z"
   },
   {
    "duration": 12,
    "start_time": "2023-07-01T16:09:44.127Z"
   },
   {
    "duration": 5,
    "start_time": "2023-07-01T16:10:35.977Z"
   },
   {
    "duration": 14,
    "start_time": "2023-07-01T16:10:42.304Z"
   },
   {
    "duration": 5,
    "start_time": "2023-07-01T16:11:32.067Z"
   },
   {
    "duration": 15,
    "start_time": "2023-07-01T16:11:33.434Z"
   },
   {
    "duration": 2,
    "start_time": "2023-07-01T16:11:43.314Z"
   },
   {
    "duration": 4,
    "start_time": "2023-07-01T16:11:44.774Z"
   },
   {
    "duration": 15,
    "start_time": "2023-07-01T16:11:45.383Z"
   },
   {
    "duration": 14,
    "start_time": "2023-07-01T16:12:36.458Z"
   },
   {
    "duration": 4,
    "start_time": "2023-07-01T16:12:48.478Z"
   },
   {
    "duration": 25,
    "start_time": "2023-07-01T16:19:40.399Z"
   },
   {
    "duration": 2,
    "start_time": "2023-07-01T16:19:55.577Z"
   },
   {
    "duration": 3,
    "start_time": "2023-07-01T16:20:19.278Z"
   },
   {
    "duration": 101,
    "start_time": "2023-07-01T16:21:21.145Z"
   },
   {
    "duration": 3,
    "start_time": "2023-07-01T16:21:30.677Z"
   },
   {
    "duration": 13,
    "start_time": "2023-07-01T16:21:38.144Z"
   },
   {
    "duration": 100,
    "start_time": "2023-07-01T16:21:46.865Z"
   },
   {
    "duration": 19,
    "start_time": "2023-07-01T16:22:00.937Z"
   },
   {
    "duration": 387,
    "start_time": "2023-07-01T16:22:37.030Z"
   },
   {
    "duration": 42,
    "start_time": "2023-07-01T16:22:37.419Z"
   },
   {
    "duration": 4,
    "start_time": "2023-07-01T16:22:37.462Z"
   },
   {
    "duration": 16,
    "start_time": "2023-07-01T16:22:37.467Z"
   },
   {
    "duration": 16,
    "start_time": "2023-07-01T16:22:37.485Z"
   },
   {
    "duration": 9,
    "start_time": "2023-07-01T16:22:37.503Z"
   },
   {
    "duration": 7,
    "start_time": "2023-07-01T16:22:37.513Z"
   },
   {
    "duration": 8,
    "start_time": "2023-07-01T16:22:37.521Z"
   },
   {
    "duration": 8,
    "start_time": "2023-07-01T16:22:37.531Z"
   },
   {
    "duration": 888,
    "start_time": "2023-07-01T16:22:37.540Z"
   },
   {
    "duration": 108,
    "start_time": "2023-07-01T16:22:38.430Z"
   },
   {
    "duration": 0,
    "start_time": "2023-07-01T16:22:38.540Z"
   },
   {
    "duration": 0,
    "start_time": "2023-07-01T16:22:38.541Z"
   },
   {
    "duration": 0,
    "start_time": "2023-07-01T16:22:38.542Z"
   },
   {
    "duration": 0,
    "start_time": "2023-07-01T16:22:38.543Z"
   },
   {
    "duration": 0,
    "start_time": "2023-07-01T16:22:38.544Z"
   },
   {
    "duration": 0,
    "start_time": "2023-07-01T16:22:38.546Z"
   },
   {
    "duration": 0,
    "start_time": "2023-07-01T16:22:38.547Z"
   },
   {
    "duration": 16,
    "start_time": "2023-07-01T16:23:05.689Z"
   },
   {
    "duration": 14,
    "start_time": "2023-07-01T16:23:32.814Z"
   },
   {
    "duration": 13,
    "start_time": "2023-07-01T16:23:37.652Z"
   },
   {
    "duration": 2375,
    "start_time": "2023-07-01T16:24:44.322Z"
   },
   {
    "duration": 9,
    "start_time": "2023-07-01T16:24:57.959Z"
   },
   {
    "duration": 3,
    "start_time": "2023-07-01T16:25:07.719Z"
   },
   {
    "duration": 3,
    "start_time": "2023-07-01T16:25:08.212Z"
   },
   {
    "duration": 22,
    "start_time": "2023-07-01T16:25:15.328Z"
   },
   {
    "duration": 89,
    "start_time": "2023-07-01T16:25:16.303Z"
   },
   {
    "duration": 97,
    "start_time": "2023-07-01T16:27:03.043Z"
   },
   {
    "duration": 92,
    "start_time": "2023-07-01T16:27:42.556Z"
   },
   {
    "duration": 13,
    "start_time": "2023-07-01T16:28:06.841Z"
   },
   {
    "duration": 8,
    "start_time": "2023-07-01T16:28:14.522Z"
   },
   {
    "duration": 13,
    "start_time": "2023-07-01T16:28:25.051Z"
   },
   {
    "duration": 18,
    "start_time": "2023-07-01T16:35:40.507Z"
   },
   {
    "duration": 8,
    "start_time": "2023-07-01T16:37:10.411Z"
   },
   {
    "duration": 7,
    "start_time": "2023-07-01T16:37:32.068Z"
   },
   {
    "duration": 3,
    "start_time": "2023-07-01T16:38:47.281Z"
   },
   {
    "duration": 8,
    "start_time": "2023-07-01T16:43:34.370Z"
   },
   {
    "duration": 409,
    "start_time": "2023-07-01T16:44:01.617Z"
   },
   {
    "duration": 44,
    "start_time": "2023-07-01T16:44:02.028Z"
   },
   {
    "duration": 4,
    "start_time": "2023-07-01T16:44:02.074Z"
   },
   {
    "duration": 69,
    "start_time": "2023-07-01T16:44:02.080Z"
   },
   {
    "duration": 25,
    "start_time": "2023-07-01T16:44:02.151Z"
   },
   {
    "duration": 22,
    "start_time": "2023-07-01T16:44:02.178Z"
   },
   {
    "duration": 11,
    "start_time": "2023-07-01T16:44:02.202Z"
   },
   {
    "duration": 768,
    "start_time": "2023-07-01T16:44:02.215Z"
   },
   {
    "duration": 13,
    "start_time": "2023-07-01T16:44:02.986Z"
   },
   {
    "duration": 24,
    "start_time": "2023-07-01T16:44:03.001Z"
   },
   {
    "duration": 24,
    "start_time": "2023-07-01T16:44:03.027Z"
   },
   {
    "duration": 20,
    "start_time": "2023-07-01T16:44:03.053Z"
   },
   {
    "duration": 24,
    "start_time": "2023-07-01T16:44:03.075Z"
   },
   {
    "duration": 24,
    "start_time": "2023-07-01T16:44:03.100Z"
   },
   {
    "duration": 26,
    "start_time": "2023-07-01T16:44:03.127Z"
   },
   {
    "duration": 4,
    "start_time": "2023-07-01T16:44:03.155Z"
   },
   {
    "duration": 76,
    "start_time": "2023-07-01T16:44:03.161Z"
   },
   {
    "duration": 13,
    "start_time": "2023-07-01T16:44:03.239Z"
   },
   {
    "duration": 111,
    "start_time": "2023-07-01T16:44:03.253Z"
   },
   {
    "duration": 10,
    "start_time": "2023-07-01T16:46:58.683Z"
   },
   {
    "duration": 3,
    "start_time": "2023-07-01T16:47:06.051Z"
   },
   {
    "duration": 9,
    "start_time": "2023-07-01T16:47:10.226Z"
   },
   {
    "duration": 12,
    "start_time": "2023-07-01T16:49:25.514Z"
   },
   {
    "duration": 14,
    "start_time": "2023-07-01T16:49:46.345Z"
   },
   {
    "duration": 20,
    "start_time": "2023-07-01T16:50:06.801Z"
   },
   {
    "duration": 11,
    "start_time": "2023-07-01T16:50:52.817Z"
   },
   {
    "duration": 9,
    "start_time": "2023-07-01T16:51:11.662Z"
   },
   {
    "duration": 3,
    "start_time": "2023-07-01T16:52:51.764Z"
   },
   {
    "duration": 11,
    "start_time": "2023-07-01T16:52:55.809Z"
   },
   {
    "duration": 13,
    "start_time": "2023-07-01T16:53:13.704Z"
   },
   {
    "duration": 5,
    "start_time": "2023-07-01T16:53:21.802Z"
   },
   {
    "duration": 7,
    "start_time": "2023-07-01T16:53:35.800Z"
   },
   {
    "duration": 14,
    "start_time": "2023-07-01T16:53:47.831Z"
   },
   {
    "duration": 4,
    "start_time": "2023-07-01T16:53:48.708Z"
   },
   {
    "duration": 12,
    "start_time": "2023-07-01T16:53:58.739Z"
   },
   {
    "duration": 4,
    "start_time": "2023-07-01T16:53:59.042Z"
   },
   {
    "duration": 11,
    "start_time": "2023-07-01T16:55:12.090Z"
   },
   {
    "duration": 3,
    "start_time": "2023-07-01T17:02:32.747Z"
   },
   {
    "duration": 2389,
    "start_time": "2023-07-01T17:03:29.560Z"
   },
   {
    "duration": 6,
    "start_time": "2023-07-01T17:03:39.492Z"
   },
   {
    "duration": 2,
    "start_time": "2023-07-01T17:04:53.240Z"
   },
   {
    "duration": 3,
    "start_time": "2023-07-01T17:04:57.892Z"
   },
   {
    "duration": 13,
    "start_time": "2023-07-01T17:04:57.936Z"
   },
   {
    "duration": 3,
    "start_time": "2023-07-01T17:04:58.789Z"
   },
   {
    "duration": 9,
    "start_time": "2023-07-01T17:04:59.137Z"
   },
   {
    "duration": 10,
    "start_time": "2023-07-01T17:05:13.874Z"
   },
   {
    "duration": 14,
    "start_time": "2023-07-01T17:05:22.537Z"
   },
   {
    "duration": 13,
    "start_time": "2023-07-01T17:05:27.301Z"
   },
   {
    "duration": 3,
    "start_time": "2023-07-01T17:05:27.843Z"
   },
   {
    "duration": 10,
    "start_time": "2023-07-01T17:05:28.118Z"
   },
   {
    "duration": 15,
    "start_time": "2023-07-01T17:06:46.752Z"
   },
   {
    "duration": 410,
    "start_time": "2023-07-01T17:07:13.007Z"
   },
   {
    "duration": 40,
    "start_time": "2023-07-01T17:07:13.419Z"
   },
   {
    "duration": 4,
    "start_time": "2023-07-01T17:07:13.461Z"
   },
   {
    "duration": 14,
    "start_time": "2023-07-01T17:07:13.467Z"
   },
   {
    "duration": 4,
    "start_time": "2023-07-01T17:07:13.483Z"
   },
   {
    "duration": 24,
    "start_time": "2023-07-01T17:07:13.489Z"
   },
   {
    "duration": 18,
    "start_time": "2023-07-01T17:07:13.515Z"
   },
   {
    "duration": 79,
    "start_time": "2023-07-01T17:07:13.534Z"
   },
   {
    "duration": 0,
    "start_time": "2023-07-01T17:07:13.615Z"
   },
   {
    "duration": 0,
    "start_time": "2023-07-01T17:07:13.616Z"
   },
   {
    "duration": 0,
    "start_time": "2023-07-01T17:07:13.620Z"
   },
   {
    "duration": 0,
    "start_time": "2023-07-01T17:07:13.620Z"
   },
   {
    "duration": 0,
    "start_time": "2023-07-01T17:07:13.621Z"
   },
   {
    "duration": 0,
    "start_time": "2023-07-01T17:07:13.623Z"
   },
   {
    "duration": 0,
    "start_time": "2023-07-01T17:07:13.624Z"
   },
   {
    "duration": 0,
    "start_time": "2023-07-01T17:07:13.625Z"
   },
   {
    "duration": 0,
    "start_time": "2023-07-01T17:07:13.626Z"
   },
   {
    "duration": 0,
    "start_time": "2023-07-01T17:07:13.627Z"
   },
   {
    "duration": 0,
    "start_time": "2023-07-01T17:07:13.628Z"
   },
   {
    "duration": 0,
    "start_time": "2023-07-01T17:07:13.629Z"
   },
   {
    "duration": 0,
    "start_time": "2023-07-01T17:07:13.630Z"
   },
   {
    "duration": 0,
    "start_time": "2023-07-01T17:07:13.632Z"
   },
   {
    "duration": 0,
    "start_time": "2023-07-01T17:07:13.633Z"
   },
   {
    "duration": 405,
    "start_time": "2023-07-01T17:08:46.518Z"
   },
   {
    "duration": 43,
    "start_time": "2023-07-01T17:08:46.925Z"
   },
   {
    "duration": 4,
    "start_time": "2023-07-01T17:08:46.969Z"
   },
   {
    "duration": 12,
    "start_time": "2023-07-01T17:08:46.975Z"
   },
   {
    "duration": 6,
    "start_time": "2023-07-01T17:08:46.989Z"
   },
   {
    "duration": 13,
    "start_time": "2023-07-01T17:08:46.996Z"
   },
   {
    "duration": 18,
    "start_time": "2023-07-01T17:08:47.011Z"
   },
   {
    "duration": 78,
    "start_time": "2023-07-01T17:08:47.031Z"
   },
   {
    "duration": 0,
    "start_time": "2023-07-01T17:08:47.111Z"
   },
   {
    "duration": 0,
    "start_time": "2023-07-01T17:08:47.112Z"
   },
   {
    "duration": 0,
    "start_time": "2023-07-01T17:08:47.115Z"
   },
   {
    "duration": 0,
    "start_time": "2023-07-01T17:08:47.115Z"
   },
   {
    "duration": 0,
    "start_time": "2023-07-01T17:08:47.117Z"
   },
   {
    "duration": 0,
    "start_time": "2023-07-01T17:08:47.118Z"
   },
   {
    "duration": 0,
    "start_time": "2023-07-01T17:08:47.118Z"
   },
   {
    "duration": 0,
    "start_time": "2023-07-01T17:08:47.119Z"
   },
   {
    "duration": 0,
    "start_time": "2023-07-01T17:08:47.120Z"
   },
   {
    "duration": 0,
    "start_time": "2023-07-01T17:08:47.121Z"
   },
   {
    "duration": 0,
    "start_time": "2023-07-01T17:08:47.122Z"
   },
   {
    "duration": 0,
    "start_time": "2023-07-01T17:08:47.123Z"
   },
   {
    "duration": 0,
    "start_time": "2023-07-01T17:08:47.124Z"
   },
   {
    "duration": 0,
    "start_time": "2023-07-01T17:08:47.125Z"
   },
   {
    "duration": 0,
    "start_time": "2023-07-01T17:08:47.126Z"
   },
   {
    "duration": 12,
    "start_time": "2023-07-01T17:09:07.273Z"
   },
   {
    "duration": 2,
    "start_time": "2023-07-01T17:09:13.283Z"
   },
   {
    "duration": 711,
    "start_time": "2023-07-01T17:09:18.229Z"
   },
   {
    "duration": 10,
    "start_time": "2023-07-01T17:09:18.942Z"
   },
   {
    "duration": 2,
    "start_time": "2023-07-01T17:09:27.915Z"
   },
   {
    "duration": 2454,
    "start_time": "2023-07-01T17:09:28.191Z"
   },
   {
    "duration": 5,
    "start_time": "2023-07-01T17:09:30.647Z"
   },
   {
    "duration": 4,
    "start_time": "2023-07-01T17:13:05.621Z"
   },
   {
    "duration": 14,
    "start_time": "2023-07-01T17:13:12.340Z"
   },
   {
    "duration": 54,
    "start_time": "2023-07-01T17:14:37.596Z"
   },
   {
    "duration": 15,
    "start_time": "2023-07-01T17:14:38.255Z"
   },
   {
    "duration": 2621,
    "start_time": "2023-07-01T17:15:02.595Z"
   },
   {
    "duration": 14,
    "start_time": "2023-07-01T17:15:06.961Z"
   },
   {
    "duration": 385,
    "start_time": "2023-07-01T17:16:57.740Z"
   },
   {
    "duration": 46,
    "start_time": "2023-07-01T17:16:58.127Z"
   },
   {
    "duration": 4,
    "start_time": "2023-07-01T17:16:58.175Z"
   },
   {
    "duration": 12,
    "start_time": "2023-07-01T17:16:58.504Z"
   },
   {
    "duration": 8,
    "start_time": "2023-07-01T17:16:58.519Z"
   },
   {
    "duration": 17,
    "start_time": "2023-07-01T17:16:58.529Z"
   },
   {
    "duration": 28,
    "start_time": "2023-07-01T17:16:58.548Z"
   },
   {
    "duration": 770,
    "start_time": "2023-07-01T17:16:58.578Z"
   },
   {
    "duration": 9,
    "start_time": "2023-07-01T17:16:59.350Z"
   },
   {
    "duration": 14,
    "start_time": "2023-07-01T17:16:59.361Z"
   },
   {
    "duration": 3173,
    "start_time": "2023-07-01T17:16:59.377Z"
   },
   {
    "duration": 209,
    "start_time": "2023-07-01T17:17:02.552Z"
   },
   {
    "duration": 0,
    "start_time": "2023-07-01T17:17:02.814Z"
   },
   {
    "duration": 0,
    "start_time": "2023-07-01T17:17:02.815Z"
   },
   {
    "duration": 0,
    "start_time": "2023-07-01T17:17:02.816Z"
   },
   {
    "duration": 0,
    "start_time": "2023-07-01T17:17:02.817Z"
   },
   {
    "duration": 0,
    "start_time": "2023-07-01T17:17:02.818Z"
   },
   {
    "duration": 0,
    "start_time": "2023-07-01T17:17:02.819Z"
   },
   {
    "duration": 0,
    "start_time": "2023-07-01T17:17:02.820Z"
   },
   {
    "duration": 0,
    "start_time": "2023-07-01T17:17:02.822Z"
   },
   {
    "duration": 0,
    "start_time": "2023-07-01T17:17:02.823Z"
   },
   {
    "duration": 1,
    "start_time": "2023-07-01T17:17:02.823Z"
   },
   {
    "duration": 0,
    "start_time": "2023-07-01T17:17:02.824Z"
   },
   {
    "duration": 0,
    "start_time": "2023-07-01T17:17:02.825Z"
   },
   {
    "duration": 9,
    "start_time": "2023-07-01T17:21:35.297Z"
   },
   {
    "duration": 3,
    "start_time": "2023-07-01T17:22:35.474Z"
   },
   {
    "duration": 3,
    "start_time": "2023-07-01T17:22:55.368Z"
   },
   {
    "duration": 5,
    "start_time": "2023-07-01T17:23:26.789Z"
   },
   {
    "duration": 9,
    "start_time": "2023-07-01T17:24:04.252Z"
   },
   {
    "duration": 21,
    "start_time": "2023-07-01T17:24:13.399Z"
   },
   {
    "duration": 24,
    "start_time": "2023-07-01T17:24:16.605Z"
   },
   {
    "duration": 3,
    "start_time": "2023-07-01T17:37:12.612Z"
   },
   {
    "duration": 8,
    "start_time": "2023-07-01T17:38:38.393Z"
   },
   {
    "duration": 5,
    "start_time": "2023-07-01T17:38:43.251Z"
   },
   {
    "duration": 10,
    "start_time": "2023-07-01T17:39:09.080Z"
   },
   {
    "duration": 7,
    "start_time": "2023-07-01T17:39:47.658Z"
   },
   {
    "duration": 12,
    "start_time": "2023-07-01T17:39:51.682Z"
   },
   {
    "duration": 10,
    "start_time": "2023-07-01T17:41:40.946Z"
   },
   {
    "duration": 3,
    "start_time": "2023-07-01T17:41:46.178Z"
   },
   {
    "duration": 13,
    "start_time": "2023-07-01T17:41:47.828Z"
   },
   {
    "duration": 6,
    "start_time": "2023-07-01T17:42:10.243Z"
   },
   {
    "duration": 6,
    "start_time": "2023-07-01T17:42:37.665Z"
   },
   {
    "duration": 3,
    "start_time": "2023-07-01T17:42:45.306Z"
   },
   {
    "duration": 3,
    "start_time": "2023-07-01T17:43:45.009Z"
   },
   {
    "duration": 13,
    "start_time": "2023-07-01T17:43:50.987Z"
   },
   {
    "duration": 11,
    "start_time": "2023-07-01T17:44:09.079Z"
   },
   {
    "duration": 4,
    "start_time": "2023-07-01T17:54:15.618Z"
   },
   {
    "duration": 10,
    "start_time": "2023-07-01T17:54:21.833Z"
   },
   {
    "duration": 6,
    "start_time": "2023-07-01T17:54:48.808Z"
   },
   {
    "duration": 14,
    "start_time": "2023-07-01T17:55:03.973Z"
   },
   {
    "duration": 7,
    "start_time": "2023-07-01T17:55:17.435Z"
   },
   {
    "duration": 12,
    "start_time": "2023-07-01T17:55:18.198Z"
   },
   {
    "duration": 6,
    "start_time": "2023-07-01T17:55:53.606Z"
   },
   {
    "duration": 11,
    "start_time": "2023-07-01T17:56:05.764Z"
   },
   {
    "duration": 12,
    "start_time": "2023-07-01T17:56:51.365Z"
   },
   {
    "duration": 9,
    "start_time": "2023-07-01T17:58:04.691Z"
   },
   {
    "duration": 8,
    "start_time": "2023-07-01T17:58:31.900Z"
   },
   {
    "duration": 8,
    "start_time": "2023-07-01T17:58:42.526Z"
   },
   {
    "duration": 11,
    "start_time": "2023-07-01T17:58:54.804Z"
   },
   {
    "duration": 9,
    "start_time": "2023-07-01T17:59:13.362Z"
   },
   {
    "duration": 2,
    "start_time": "2023-07-01T18:02:45.425Z"
   },
   {
    "duration": 15,
    "start_time": "2023-07-01T18:02:48.153Z"
   },
   {
    "duration": 6,
    "start_time": "2023-07-01T18:03:13.217Z"
   },
   {
    "duration": 6,
    "start_time": "2023-07-01T18:03:17.597Z"
   },
   {
    "duration": 12,
    "start_time": "2023-07-01T18:03:26.524Z"
   },
   {
    "duration": 8,
    "start_time": "2023-07-01T18:03:28.111Z"
   },
   {
    "duration": 13,
    "start_time": "2023-07-01T18:06:45.951Z"
   },
   {
    "duration": 5,
    "start_time": "2023-07-01T18:07:24.355Z"
   },
   {
    "duration": 7,
    "start_time": "2023-07-01T18:07:53.405Z"
   },
   {
    "duration": 13,
    "start_time": "2023-07-01T18:08:09.114Z"
   },
   {
    "duration": 9,
    "start_time": "2023-07-01T18:08:18.552Z"
   },
   {
    "duration": 2,
    "start_time": "2023-07-01T18:08:21.833Z"
   },
   {
    "duration": 6,
    "start_time": "2023-07-01T18:08:22.120Z"
   },
   {
    "duration": 14,
    "start_time": "2023-07-01T18:08:24.731Z"
   },
   {
    "duration": 17,
    "start_time": "2023-07-01T18:09:00.976Z"
   },
   {
    "duration": 7,
    "start_time": "2023-07-01T18:09:46.814Z"
   },
   {
    "duration": 7,
    "start_time": "2023-07-01T18:09:50.234Z"
   },
   {
    "duration": 2,
    "start_time": "2023-07-01T18:11:36.306Z"
   },
   {
    "duration": 369,
    "start_time": "2023-07-01T18:11:53.963Z"
   },
   {
    "duration": 42,
    "start_time": "2023-07-01T18:11:54.334Z"
   },
   {
    "duration": 3,
    "start_time": "2023-07-01T18:11:54.378Z"
   },
   {
    "duration": 11,
    "start_time": "2023-07-01T18:11:54.383Z"
   },
   {
    "duration": 4,
    "start_time": "2023-07-01T18:11:54.396Z"
   },
   {
    "duration": 6,
    "start_time": "2023-07-01T18:11:54.402Z"
   },
   {
    "duration": 10,
    "start_time": "2023-07-01T18:11:54.413Z"
   },
   {
    "duration": 729,
    "start_time": "2023-07-01T18:11:54.426Z"
   },
   {
    "duration": 10,
    "start_time": "2023-07-01T18:11:55.156Z"
   },
   {
    "duration": 3,
    "start_time": "2023-07-01T18:11:55.169Z"
   },
   {
    "duration": 22,
    "start_time": "2023-07-01T18:11:55.173Z"
   },
   {
    "duration": 9,
    "start_time": "2023-07-01T18:11:55.197Z"
   },
   {
    "duration": 119,
    "start_time": "2023-07-01T18:11:55.207Z"
   },
   {
    "duration": 0,
    "start_time": "2023-07-01T18:11:55.328Z"
   },
   {
    "duration": 0,
    "start_time": "2023-07-01T18:11:55.328Z"
   },
   {
    "duration": 0,
    "start_time": "2023-07-01T18:11:55.329Z"
   },
   {
    "duration": 0,
    "start_time": "2023-07-01T18:11:55.330Z"
   },
   {
    "duration": 0,
    "start_time": "2023-07-01T18:11:55.331Z"
   },
   {
    "duration": 0,
    "start_time": "2023-07-01T18:11:55.332Z"
   },
   {
    "duration": 0,
    "start_time": "2023-07-01T18:11:55.333Z"
   },
   {
    "duration": 0,
    "start_time": "2023-07-01T18:11:55.334Z"
   },
   {
    "duration": 0,
    "start_time": "2023-07-01T18:11:55.335Z"
   },
   {
    "duration": 0,
    "start_time": "2023-07-01T18:11:55.335Z"
   },
   {
    "duration": 0,
    "start_time": "2023-07-01T18:11:55.336Z"
   },
   {
    "duration": 2,
    "start_time": "2023-07-01T18:12:33.777Z"
   },
   {
    "duration": 2,
    "start_time": "2023-07-01T18:12:34.328Z"
   },
   {
    "duration": 2,
    "start_time": "2023-07-01T18:12:34.499Z"
   },
   {
    "duration": 2,
    "start_time": "2023-07-01T18:12:35.085Z"
   },
   {
    "duration": 2,
    "start_time": "2023-07-01T18:12:35.206Z"
   },
   {
    "duration": 3,
    "start_time": "2023-07-01T18:12:35.393Z"
   },
   {
    "duration": 2,
    "start_time": "2023-07-01T18:12:35.860Z"
   },
   {
    "duration": 24,
    "start_time": "2023-07-01T18:12:35.864Z"
   },
   {
    "duration": 19,
    "start_time": "2023-07-01T18:12:36.359Z"
   },
   {
    "duration": 13,
    "start_time": "2023-07-01T18:12:36.588Z"
   },
   {
    "duration": 19,
    "start_time": "2023-07-01T18:12:37.757Z"
   },
   {
    "duration": 13,
    "start_time": "2023-07-01T18:13:17.421Z"
   },
   {
    "duration": 11,
    "start_time": "2023-07-01T18:13:25.550Z"
   },
   {
    "duration": 11,
    "start_time": "2023-07-01T18:14:03.213Z"
   },
   {
    "duration": 16,
    "start_time": "2023-07-01T18:16:08.629Z"
   },
   {
    "duration": 7,
    "start_time": "2023-07-01T18:16:32.566Z"
   },
   {
    "duration": 9,
    "start_time": "2023-07-01T18:16:38.641Z"
   },
   {
    "duration": 12,
    "start_time": "2023-07-01T18:16:41.373Z"
   },
   {
    "duration": 3,
    "start_time": "2023-07-01T18:16:45.587Z"
   },
   {
    "duration": 5,
    "start_time": "2023-07-01T18:16:46.528Z"
   },
   {
    "duration": 7,
    "start_time": "2023-07-01T18:16:47.880Z"
   },
   {
    "duration": 14,
    "start_time": "2023-07-01T18:17:02.634Z"
   },
   {
    "duration": 9,
    "start_time": "2023-07-01T18:17:48.555Z"
   },
   {
    "duration": 8,
    "start_time": "2023-07-01T18:20:26.029Z"
   },
   {
    "duration": 15,
    "start_time": "2023-07-01T18:20:32.296Z"
   },
   {
    "duration": 9,
    "start_time": "2023-07-01T18:20:39.364Z"
   },
   {
    "duration": 12,
    "start_time": "2023-07-01T18:20:49.814Z"
   },
   {
    "duration": 8,
    "start_time": "2023-07-01T18:20:57.870Z"
   },
   {
    "duration": 9,
    "start_time": "2023-07-01T20:15:01.026Z"
   },
   {
    "duration": 399,
    "start_time": "2023-07-01T20:15:09.114Z"
   },
   {
    "duration": 41,
    "start_time": "2023-07-01T20:15:09.515Z"
   },
   {
    "duration": 3,
    "start_time": "2023-07-01T20:15:09.558Z"
   },
   {
    "duration": 16,
    "start_time": "2023-07-01T20:15:09.563Z"
   },
   {
    "duration": 5,
    "start_time": "2023-07-01T20:15:09.580Z"
   },
   {
    "duration": 5,
    "start_time": "2023-07-01T20:15:09.587Z"
   },
   {
    "duration": 4,
    "start_time": "2023-07-01T20:15:09.594Z"
   },
   {
    "duration": 702,
    "start_time": "2023-07-01T20:15:09.600Z"
   },
   {
    "duration": 12,
    "start_time": "2023-07-01T20:15:10.304Z"
   },
   {
    "duration": 2,
    "start_time": "2023-07-01T20:15:10.319Z"
   },
   {
    "duration": 9,
    "start_time": "2023-07-01T20:15:10.323Z"
   },
   {
    "duration": 7,
    "start_time": "2023-07-01T20:15:10.334Z"
   },
   {
    "duration": 10,
    "start_time": "2023-07-01T20:15:10.343Z"
   },
   {
    "duration": 22,
    "start_time": "2023-07-01T20:15:10.355Z"
   },
   {
    "duration": 45,
    "start_time": "2023-07-01T20:15:10.378Z"
   },
   {
    "duration": 14,
    "start_time": "2023-07-01T20:15:10.425Z"
   },
   {
    "duration": 10,
    "start_time": "2023-07-01T20:15:10.441Z"
   },
   {
    "duration": 3,
    "start_time": "2023-07-01T20:21:19.323Z"
   },
   {
    "duration": 11,
    "start_time": "2023-07-01T20:21:28.523Z"
   },
   {
    "duration": 13,
    "start_time": "2023-07-01T20:21:56.123Z"
   },
   {
    "duration": 376,
    "start_time": "2023-07-01T20:23:11.133Z"
   },
   {
    "duration": 44,
    "start_time": "2023-07-01T20:23:11.512Z"
   },
   {
    "duration": 4,
    "start_time": "2023-07-01T20:23:11.557Z"
   },
   {
    "duration": 11,
    "start_time": "2023-07-01T20:23:11.563Z"
   },
   {
    "duration": 3,
    "start_time": "2023-07-01T20:23:11.577Z"
   },
   {
    "duration": 4,
    "start_time": "2023-07-01T20:23:11.582Z"
   },
   {
    "duration": 4,
    "start_time": "2023-07-01T20:23:11.588Z"
   },
   {
    "duration": 724,
    "start_time": "2023-07-01T20:23:11.593Z"
   },
   {
    "duration": 10,
    "start_time": "2023-07-01T20:23:12.319Z"
   },
   {
    "duration": 6,
    "start_time": "2023-07-01T20:23:12.330Z"
   },
   {
    "duration": 9,
    "start_time": "2023-07-01T20:23:12.338Z"
   },
   {
    "duration": 13,
    "start_time": "2023-07-01T20:23:12.348Z"
   },
   {
    "duration": 20,
    "start_time": "2023-07-01T20:23:12.362Z"
   },
   {
    "duration": 14,
    "start_time": "2023-07-01T20:23:12.384Z"
   },
   {
    "duration": 30,
    "start_time": "2023-07-01T20:23:12.400Z"
   },
   {
    "duration": 11,
    "start_time": "2023-07-01T20:23:12.432Z"
   },
   {
    "duration": 11,
    "start_time": "2023-07-01T20:23:12.445Z"
   },
   {
    "duration": 417,
    "start_time": "2023-07-02T12:54:52.397Z"
   },
   {
    "duration": 93,
    "start_time": "2023-07-02T12:54:52.816Z"
   },
   {
    "duration": 5,
    "start_time": "2023-07-02T12:54:52.910Z"
   },
   {
    "duration": 19,
    "start_time": "2023-07-02T12:54:52.917Z"
   },
   {
    "duration": 8,
    "start_time": "2023-07-02T12:54:52.939Z"
   },
   {
    "duration": 15,
    "start_time": "2023-07-02T12:54:52.949Z"
   },
   {
    "duration": 9,
    "start_time": "2023-07-02T12:54:52.966Z"
   },
   {
    "duration": 752,
    "start_time": "2023-07-02T12:54:52.977Z"
   },
   {
    "duration": 9,
    "start_time": "2023-07-02T12:54:53.731Z"
   },
   {
    "duration": 25,
    "start_time": "2023-07-02T12:54:53.741Z"
   },
   {
    "duration": 19,
    "start_time": "2023-07-02T12:54:53.768Z"
   },
   {
    "duration": 24,
    "start_time": "2023-07-02T12:54:53.789Z"
   },
   {
    "duration": 20,
    "start_time": "2023-07-02T12:54:53.815Z"
   },
   {
    "duration": 25,
    "start_time": "2023-07-02T12:54:53.838Z"
   },
   {
    "duration": 46,
    "start_time": "2023-07-02T12:54:53.865Z"
   },
   {
    "duration": 24,
    "start_time": "2023-07-02T12:54:53.913Z"
   },
   {
    "duration": 31,
    "start_time": "2023-07-02T12:54:53.939Z"
   },
   {
    "duration": 370,
    "start_time": "2023-07-03T12:30:17.518Z"
   },
   {
    "duration": 63,
    "start_time": "2023-07-03T12:33:31.544Z"
   },
   {
    "duration": 3,
    "start_time": "2023-07-03T12:33:37.490Z"
   },
   {
    "duration": 103,
    "start_time": "2023-07-03T12:33:38.071Z"
   },
   {
    "duration": 4,
    "start_time": "2023-07-03T12:33:39.414Z"
   },
   {
    "duration": 12,
    "start_time": "2023-07-03T12:33:39.844Z"
   },
   {
    "duration": 4,
    "start_time": "2023-07-03T12:33:40.583Z"
   },
   {
    "duration": 11,
    "start_time": "2023-07-03T12:33:52.109Z"
   },
   {
    "duration": 8,
    "start_time": "2023-07-03T12:34:18.898Z"
   },
   {
    "duration": 545,
    "start_time": "2023-07-03T12:34:25.834Z"
   },
   {
    "duration": 125,
    "start_time": "2023-07-03T12:34:32.677Z"
   },
   {
    "duration": 111,
    "start_time": "2023-07-03T12:34:53.927Z"
   },
   {
    "duration": 124,
    "start_time": "2023-07-03T12:36:11.632Z"
   },
   {
    "duration": 181,
    "start_time": "2023-07-03T12:42:21.045Z"
   },
   {
    "duration": 118,
    "start_time": "2023-07-03T12:59:20.704Z"
   },
   {
    "duration": 212,
    "start_time": "2023-07-03T13:00:14.707Z"
   },
   {
    "duration": 5,
    "start_time": "2023-07-03T13:00:44.530Z"
   },
   {
    "duration": 6,
    "start_time": "2023-07-03T13:00:52.829Z"
   },
   {
    "duration": 195,
    "start_time": "2023-07-03T13:00:57.854Z"
   },
   {
    "duration": 4,
    "start_time": "2023-07-03T13:01:09.862Z"
   },
   {
    "duration": 156,
    "start_time": "2023-07-03T13:01:39.740Z"
   },
   {
    "duration": 160,
    "start_time": "2023-07-03T13:01:52.845Z"
   },
   {
    "duration": 184,
    "start_time": "2023-07-03T13:01:55.228Z"
   },
   {
    "duration": 169,
    "start_time": "2023-07-03T13:03:22.964Z"
   },
   {
    "duration": 170,
    "start_time": "2023-07-03T13:03:34.559Z"
   },
   {
    "duration": 239,
    "start_time": "2023-07-03T13:03:42.482Z"
   },
   {
    "duration": 166,
    "start_time": "2023-07-03T13:05:26.264Z"
   },
   {
    "duration": 183,
    "start_time": "2023-07-03T13:07:20.609Z"
   },
   {
    "duration": 190,
    "start_time": "2023-07-03T13:07:49.708Z"
   },
   {
    "duration": 139,
    "start_time": "2023-07-03T13:12:14.478Z"
   },
   {
    "duration": 147,
    "start_time": "2023-07-03T13:19:49.927Z"
   },
   {
    "duration": 181,
    "start_time": "2023-07-03T13:23:09.024Z"
   },
   {
    "duration": 135,
    "start_time": "2023-07-03T13:23:31.699Z"
   },
   {
    "duration": 135,
    "start_time": "2023-07-03T13:23:37.288Z"
   },
   {
    "duration": 128,
    "start_time": "2023-07-03T13:23:42.083Z"
   },
   {
    "duration": 133,
    "start_time": "2023-07-03T13:23:47.439Z"
   },
   {
    "duration": 133,
    "start_time": "2023-07-03T13:23:54.477Z"
   },
   {
    "duration": 4,
    "start_time": "2023-07-03T13:24:05.327Z"
   },
   {
    "duration": 222,
    "start_time": "2023-07-03T13:24:12.736Z"
   },
   {
    "duration": 736,
    "start_time": "2023-07-03T13:31:37.920Z"
   },
   {
    "duration": 115,
    "start_time": "2023-07-03T13:39:59.681Z"
   },
   {
    "duration": 3,
    "start_time": "2023-07-03T13:40:05.832Z"
   },
   {
    "duration": 134,
    "start_time": "2023-07-03T13:40:23.333Z"
   },
   {
    "duration": 3,
    "start_time": "2023-07-03T13:40:27.227Z"
   },
   {
    "duration": 39,
    "start_time": "2023-07-03T13:41:02.539Z"
   },
   {
    "duration": 1109,
    "start_time": "2023-07-03T13:41:24.088Z"
   },
   {
    "duration": 43,
    "start_time": "2023-07-03T13:41:25.199Z"
   },
   {
    "duration": 5,
    "start_time": "2023-07-03T13:41:25.243Z"
   },
   {
    "duration": 12,
    "start_time": "2023-07-03T13:41:25.251Z"
   },
   {
    "duration": 412,
    "start_time": "2023-07-03T13:41:25.265Z"
   },
   {
    "duration": 209,
    "start_time": "2023-07-03T13:41:25.679Z"
   },
   {
    "duration": 152,
    "start_time": "2023-07-03T13:41:25.893Z"
   },
   {
    "duration": 141,
    "start_time": "2023-07-03T13:41:26.047Z"
   },
   {
    "duration": 4,
    "start_time": "2023-07-03T13:41:26.190Z"
   },
   {
    "duration": 10,
    "start_time": "2023-07-03T13:41:26.196Z"
   },
   {
    "duration": 10,
    "start_time": "2023-07-03T13:41:26.207Z"
   },
   {
    "duration": 5,
    "start_time": "2023-07-03T13:41:26.218Z"
   },
   {
    "duration": 11,
    "start_time": "2023-07-03T13:41:26.224Z"
   },
   {
    "duration": 2,
    "start_time": "2023-07-03T13:41:26.236Z"
   },
   {
    "duration": 16,
    "start_time": "2023-07-03T13:41:26.240Z"
   },
   {
    "duration": 23,
    "start_time": "2023-07-03T13:41:26.258Z"
   },
   {
    "duration": 13,
    "start_time": "2023-07-03T13:41:26.283Z"
   },
   {
    "duration": 13,
    "start_time": "2023-07-03T13:41:26.297Z"
   },
   {
    "duration": 4,
    "start_time": "2023-07-03T13:41:26.312Z"
   },
   {
    "duration": 4,
    "start_time": "2023-07-03T13:41:26.317Z"
   },
   {
    "duration": 14,
    "start_time": "2023-07-03T13:41:26.323Z"
   },
   {
    "duration": 108,
    "start_time": "2023-07-03T13:41:26.338Z"
   },
   {
    "duration": 0,
    "start_time": "2023-07-03T13:41:26.447Z"
   },
   {
    "duration": 0,
    "start_time": "2023-07-03T13:41:26.456Z"
   },
   {
    "duration": 4,
    "start_time": "2023-07-03T13:42:42.353Z"
   },
   {
    "duration": 13,
    "start_time": "2023-07-03T13:42:43.788Z"
   },
   {
    "duration": 3,
    "start_time": "2023-07-03T13:42:52.407Z"
   },
   {
    "duration": 11,
    "start_time": "2023-07-03T13:42:52.668Z"
   },
   {
    "duration": 12,
    "start_time": "2023-07-03T13:43:31.653Z"
   },
   {
    "duration": 2,
    "start_time": "2023-07-03T13:43:42.854Z"
   },
   {
    "duration": 11,
    "start_time": "2023-07-03T13:44:17.458Z"
   }
  ],
  "kernelspec": {
   "display_name": "Python 3 (ipykernel)",
   "language": "python",
   "name": "python3"
  },
  "language_info": {
   "codemirror_mode": {
    "name": "ipython",
    "version": 3
   },
   "file_extension": ".py",
   "mimetype": "text/x-python",
   "name": "python",
   "nbconvert_exporter": "python",
   "pygments_lexer": "ipython3",
   "version": "3.9.5"
  },
  "toc": {
   "base_numbering": 1,
   "nav_menu": {},
   "number_sections": true,
   "sideBar": true,
   "skip_h1_title": true,
   "title_cell": "Содержание",
   "title_sidebar": "Contents",
   "toc_cell": true,
   "toc_position": {
    "height": "707px",
    "left": "150px",
    "top": "145.125px",
    "width": "212px"
   },
   "toc_section_display": true,
   "toc_window_display": true
  }
 },
 "nbformat": 4,
 "nbformat_minor": 2
}
