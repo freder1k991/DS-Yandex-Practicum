{
 "cells": [
  {
   "cell_type": "markdown",
   "metadata": {},
   "source": [
    "<div class=\"alert-info\" style=\"padding: 20px; border-radius: 30px\">\n",
    "    \n",
    "<b>💎Комментарий студента V2 💎</b>\n",
    "\n",
    "… особенно в таком, когда происходит переобучение :) </div>"
   ]
  },
  {
   "cell_type": "markdown",
   "metadata": {
    "toc": true
   },
   "source": [
    "<h1>Содержание<span class=\"tocSkip\"></span></h1>\n",
    "<div class=\"toc\"><ul class=\"toc-item\"><li><span><a href=\"#Подготовка-данных\" data-toc-modified-id=\"Подготовка-данных-1\"><span class=\"toc-item-num\">1&nbsp;&nbsp;</span>Подготовка данных</a></span><ul class=\"toc-item\"><li><span><a href=\"#Загрузка-файлов-и-их-изучение\" data-toc-modified-id=\"Загрузка-файлов-и-их-изучение-1.1\"><span class=\"toc-item-num\">1.1&nbsp;&nbsp;</span>Загрузка файлов и их изучение</a></span></li><li><span><a href=\"#Проверка-расчета-эффективности-обогащения\" data-toc-modified-id=\"Проверка-расчета-эффективности-обогащения-1.2\"><span class=\"toc-item-num\">1.2&nbsp;&nbsp;</span>Проверка расчета эффективности обогащения</a></span></li><li><span><a href=\"#Анализ-признаков,-которые-отсутствуют-в-тестовой-выборке\" data-toc-modified-id=\"Анализ-признаков,-которые-отсутствуют-в-тестовой-выборке-1.3\"><span class=\"toc-item-num\">1.3&nbsp;&nbsp;</span>Анализ признаков, которые отсутствуют в тестовой выборке</a></span></li><li><span><a href=\"#Предобработка-данных\" data-toc-modified-id=\"Предобработка-данных-1.4\"><span class=\"toc-item-num\">1.4&nbsp;&nbsp;</span>Предобработка данных</a></span><ul class=\"toc-item\"><li><span><a href=\"#Data-Cleaning\" data-toc-modified-id=\"Data-Cleaning-1.4.1\"><span class=\"toc-item-num\">1.4.1&nbsp;&nbsp;</span>Data Cleaning</a></span></li><li><span><a href=\"#Восстановление-двух-таблиц-data_test-и-data_tr-из-таблицы-data_all\" data-toc-modified-id=\"Восстановление-двух-таблиц-data_test-и-data_tr-из-таблицы-data_all-1.4.2\"><span class=\"toc-item-num\">1.4.2&nbsp;&nbsp;</span>Восстановление двух таблиц data_test и data_tr из таблицы data_all</a></span></li></ul></li></ul></li><li><span><a href=\"#Анализ-данных\" data-toc-modified-id=\"Анализ-данных-2\"><span class=\"toc-item-num\">2&nbsp;&nbsp;</span>Анализ данных</a></span><ul class=\"toc-item\"><li><span><a href=\"#Изменение-концентрации-металлов-(Au,-Ag,-Pb)-на-различных-этапах-очистки.\" data-toc-modified-id=\"Изменение-концентрации-металлов-(Au,-Ag,-Pb)-на-различных-этапах-очистки.-2.1\"><span class=\"toc-item-num\">2.1&nbsp;&nbsp;</span>Изменение концентрации металлов (Au, Ag, Pb) на различных этапах очистки.</a></span></li><li><span><a href=\"#Сравним-распределения-размеров-гранул-сырья-на-обучающей-и-тестовой-выборках.\" data-toc-modified-id=\"Сравним-распределения-размеров-гранул-сырья-на-обучающей-и-тестовой-выборках.-2.2\"><span class=\"toc-item-num\">2.2&nbsp;&nbsp;</span>Сравним распределения размеров гранул сырья на обучающей и тестовой выборках.</a></span></li><li><span><a href=\"#Cуммарная-концентрация-всех-веществ-на-разных-стадиях\" data-toc-modified-id=\"Cуммарная-концентрация-всех-веществ-на-разных-стадиях-2.3\"><span class=\"toc-item-num\">2.3&nbsp;&nbsp;</span>Cуммарная концентрация всех веществ на разных стадиях</a></span></li></ul></li><li><span><a href=\"#Модель\" data-toc-modified-id=\"Модель-3\"><span class=\"toc-item-num\">3&nbsp;&nbsp;</span>Модель</a></span><ul class=\"toc-item\"><li><ul class=\"toc-item\"><li><span><a href=\"#Разделение-датасетов-на-признаки-и-2-целевых-показателя\" data-toc-modified-id=\"Разделение-датасетов-на-признаки-и-2-целевых-показателя-3.0.1\"><span class=\"toc-item-num\">3.0.1&nbsp;&nbsp;</span>Разделение датасетов на признаки и 2 целевых показателя</a></span></li><li><span><a href=\"#Стандартизация-фитчей\" data-toc-modified-id=\"Стандартизация-фитчей-3.0.2\"><span class=\"toc-item-num\">3.0.2&nbsp;&nbsp;</span>Стандартизация фитчей</a></span></li></ul></li><li><span><a href=\"#Функция-для-вычисления-итоговой-sMAPE\" data-toc-modified-id=\"Функция-для-вычисления-итоговой-sMAPE-3.1\"><span class=\"toc-item-num\">3.1&nbsp;&nbsp;</span>Функция для вычисления итоговой sMAPE</a></span></li><li><span><a href=\"#GridSearchCV,-RandomForestRegressor\" data-toc-modified-id=\"GridSearchCV,-RandomForestRegressor-3.2\"><span class=\"toc-item-num\">3.2&nbsp;&nbsp;</span>GridSearchCV, RandomForestRegressor</a></span><ul class=\"toc-item\"><li><span><a href=\"#Обучение-модели-для-чернового-концентрата\" data-toc-modified-id=\"Обучение-модели-для-чернового-концентрата-3.2.1\"><span class=\"toc-item-num\">3.2.1&nbsp;&nbsp;</span>Обучение модели для чернового концентрата</a></span></li><li><span><a href=\"#Обучение-модели-для-финального-концентрата\" data-toc-modified-id=\"Обучение-модели-для-финального-концентрата-3.2.2\"><span class=\"toc-item-num\">3.2.2&nbsp;&nbsp;</span>Обучение модели для финального концентрата</a></span></li></ul></li><li><span><a href=\"#Итоговая-sMAPE-RandomForestRegressor\" data-toc-modified-id=\"Итоговая-sMAPE-RandomForestRegressor-3.3\"><span class=\"toc-item-num\">3.3&nbsp;&nbsp;</span>Итоговая sMAPE RandomForestRegressor</a></span></li><li><span><a href=\"#Catboost\" data-toc-modified-id=\"Catboost-3.4\"><span class=\"toc-item-num\">3.4&nbsp;&nbsp;</span>Catboost</a></span><ul class=\"toc-item\"><li><span><a href=\"#Эффективность-обогащения-чернового-концентрата\" data-toc-modified-id=\"Эффективность-обогащения-чернового-концентрата-3.4.1\"><span class=\"toc-item-num\">3.4.1&nbsp;&nbsp;</span>Эффективность обогащения чернового концентрата</a></span></li><li><span><a href=\"#Эффективность-обогащения-финального-концентрата\" data-toc-modified-id=\"Эффективность-обогащения-финального-концентрата-3.4.2\"><span class=\"toc-item-num\">3.4.2&nbsp;&nbsp;</span>Эффективность обогащения финального концентрата</a></span></li></ul></li><li><span><a href=\"#Итоговая-sMAPE-для-CatBoostRegressor\" data-toc-modified-id=\"Итоговая-sMAPE-для-CatBoostRegressor-3.5\"><span class=\"toc-item-num\">3.5&nbsp;&nbsp;</span>Итоговая sMAPE для CatBoostRegressor</a></span></li></ul></li><li><span><a href=\"#Чек-лист-готовности-проекта\" data-toc-modified-id=\"Чек-лист-готовности-проекта-4\"><span class=\"toc-item-num\">4&nbsp;&nbsp;</span>Чек-лист готовности проекта</a></span></li></ul></div>"
   ]
  },
  {
   "cell_type": "markdown",
   "metadata": {},
   "source": [
    "# Восстановление золота из руды"
   ]
  },
  {
   "cell_type": "markdown",
   "metadata": {},
   "source": [
    "Подготовьте прототип модели машинного обучения для «Цифры». Компания разрабатывает решения для эффективной работы промышленных предприятий.\n",
    "\n",
    "Модель должна предсказать коэффициент восстановления золота из золотосодержащей руды. Используйте данные с параметрами добычи и очистки. \n",
    "\n",
    "Модель поможет оптимизировать производство, чтобы не запускать предприятие с убыточными характеристиками.\n",
    "\n",
    "Вам нужно:\n",
    "\n",
    "1. Подготовить данные;\n",
    "2. Провести исследовательский анализ данных;\n",
    "3. Построить и обучить модель.\n",
    "\n",
    "Чтобы выполнить проект, обращайтесь к библиотекам *pandas*, *matplotlib* и *sklearn.* Вам поможет их документация."
   ]
  },
  {
   "cell_type": "code",
   "execution_count": 1,
   "metadata": {},
   "outputs": [],
   "source": [
    "import pandas as pd\n",
    "import numpy as np\n",
    "import matplotlib.pyplot as plt\n",
    "\n",
    "from sklearn.metrics import mean_absolute_error\n",
    "from sklearn.metrics import make_scorer, mean_squared_error\n",
    "from sklearn.preprocessing import StandardScaler\n",
    "from sklearn.ensemble import RandomForestRegressor\n",
    "from sklearn.model_selection import GridSearchCV\n",
    "\n",
    "from catboost import CatBoostRegressor\n",
    "from catboost import cv, Pool"
   ]
  },
  {
   "cell_type": "markdown",
   "metadata": {},
   "source": [
    "## Подготовка данных"
   ]
  },
  {
   "cell_type": "markdown",
   "metadata": {},
   "source": [
    "### Загрузка файлов и их изучение"
   ]
  },
  {
   "cell_type": "code",
   "execution_count": 2,
   "metadata": {},
   "outputs": [],
   "source": [
    "data_tr = pd.read_csv('/datasets/gold_recovery_train_new.csv')\n",
    "data_test = pd.read_csv('/datasets/gold_recovery_test_new.csv')\n",
    "data_all = pd.read_csv('/datasets/gold_recovery_full_new.csv')"
   ]
  },
  {
   "cell_type": "markdown",
   "metadata": {},
   "source": [
    "Размеры датасетов:"
   ]
  },
  {
   "cell_type": "code",
   "execution_count": 3,
   "metadata": {},
   "outputs": [
    {
     "name": "stdout",
     "output_type": "stream",
     "text": [
      "data_tr размер: (14149, 87)\n",
      "data_test размер: (5290, 53)\n",
      "data_all размер: (19439, 87)\n"
     ]
    }
   ],
   "source": [
    "print('data_tr размер:', data_tr.shape)\n",
    "print('data_test размер:', data_test.shape)\n",
    "print('data_all размер:', data_all.shape)"
   ]
  },
  {
   "cell_type": "markdown",
   "metadata": {},
   "source": [
    "В таблице `data_test` не хватает столбцов, надо будет с этим разбираться. Видимо их еще не расчитали.\n",
    "\n",
    "Процент тестовой выборки:"
   ]
  },
  {
   "cell_type": "code",
   "execution_count": 4,
   "metadata": {},
   "outputs": [
    {
     "data": {
      "text/plain": [
       "0.2721333401923967"
      ]
     },
     "execution_count": 4,
     "metadata": {},
     "output_type": "execute_result"
    }
   ],
   "source": [
    "len(data_test) / len(data_all)"
   ]
  },
  {
   "cell_type": "markdown",
   "metadata": {},
   "source": [
    "Общие сведения о таблице: Кто-то уже позаботился и для нас разделил дата сет "
   ]
  },
  {
   "cell_type": "code",
   "execution_count": 5,
   "metadata": {},
   "outputs": [],
   "source": [
    "#data_all.info()"
   ]
  },
  {
   "cell_type": "code",
   "execution_count": 6,
   "metadata": {},
   "outputs": [
    {
     "name": "stdout",
     "output_type": "stream",
     "text": [
      "date                                                     0\n",
      "final.output.concentrate_ag                              1\n",
      "final.output.concentrate_pb                              1\n",
      "final.output.concentrate_sol                           211\n",
      "final.output.concentrate_au                              0\n",
      "final.output.recovery                                    0\n",
      "final.output.tail_ag                                     0\n",
      "final.output.tail_pb                                   100\n",
      "final.output.tail_sol                                    5\n",
      "final.output.tail_au                                     0\n",
      "primary_cleaner.input.sulfate                           20\n",
      "primary_cleaner.input.depressant                        32\n",
      "primary_cleaner.input.feed_size                          0\n",
      "primary_cleaner.input.xanthate                         100\n",
      "primary_cleaner.output.concentrate_ag                    0\n",
      "primary_cleaner.output.concentrate_pb                   86\n",
      "primary_cleaner.output.concentrate_sol                 286\n",
      "primary_cleaner.output.concentrate_au                    0\n",
      "primary_cleaner.output.tail_ag                           1\n",
      "primary_cleaner.output.tail_pb                          15\n",
      "primary_cleaner.output.tail_sol                         46\n",
      "primary_cleaner.output.tail_au                           0\n",
      "primary_cleaner.state.floatbank8_a_air                   4\n",
      "primary_cleaner.state.floatbank8_a_level                 1\n",
      "primary_cleaner.state.floatbank8_b_air                   4\n",
      "primary_cleaner.state.floatbank8_b_level                 1\n",
      "primary_cleaner.state.floatbank8_c_air                   2\n",
      "primary_cleaner.state.floatbank8_c_level                 1\n",
      "primary_cleaner.state.floatbank8_d_air                   3\n",
      "primary_cleaner.state.floatbank8_d_level                 1\n",
      "rougher.calculation.sulfate_to_au_concentrate            1\n",
      "rougher.calculation.floatbank10_sulfate_to_au_feed       1\n",
      "rougher.calculation.floatbank11_sulfate_to_au_feed       1\n",
      "rougher.calculation.au_pb_ratio                          0\n",
      "rougher.input.feed_ag                                    0\n",
      "rougher.input.feed_pb                                  100\n",
      "rougher.input.feed_rate                                  8\n",
      "rougher.input.feed_size                                144\n",
      "rougher.input.feed_sol                                  78\n",
      "rougher.input.feed_au                                    0\n",
      "rougher.input.floatbank10_sulfate                       29\n",
      "rougher.input.floatbank10_xanthate                       8\n",
      "rougher.input.floatbank11_sulfate                       36\n",
      "rougher.input.floatbank11_xanthate                     428\n",
      "rougher.output.concentrate_ag                            0\n",
      "rougher.output.concentrate_pb                            0\n",
      "rougher.output.concentrate_sol                          22\n",
      "rougher.output.concentrate_au                            0\n",
      "rougher.output.recovery                                  0\n",
      "rougher.output.tail_ag                                   1\n",
      "rougher.output.tail_pb                                   0\n",
      "rougher.output.tail_sol                                  0\n",
      "rougher.output.tail_au                                   0\n",
      "rougher.state.floatbank10_a_air                          1\n",
      "rougher.state.floatbank10_a_level                        1\n",
      "rougher.state.floatbank10_b_air                          1\n",
      "rougher.state.floatbank10_b_level                        1\n",
      "rougher.state.floatbank10_c_air                          1\n",
      "rougher.state.floatbank10_c_level                        1\n",
      "rougher.state.floatbank10_d_air                          0\n",
      "rougher.state.floatbank10_d_level                        0\n",
      "rougher.state.floatbank10_e_air                        436\n",
      "rougher.state.floatbank10_e_level                        0\n",
      "rougher.state.floatbank10_f_air                          0\n",
      "rougher.state.floatbank10_f_level                        0\n",
      "secondary_cleaner.output.tail_ag                         2\n",
      "secondary_cleaner.output.tail_pb                        10\n",
      "secondary_cleaner.output.tail_sol                     1605\n",
      "secondary_cleaner.output.tail_au                         0\n",
      "secondary_cleaner.state.floatbank2_a_air               217\n",
      "secondary_cleaner.state.floatbank2_a_level               1\n",
      "secondary_cleaner.state.floatbank2_b_air                21\n",
      "secondary_cleaner.state.floatbank2_b_level               1\n",
      "secondary_cleaner.state.floatbank3_a_air                 4\n",
      "secondary_cleaner.state.floatbank3_a_level               1\n",
      "secondary_cleaner.state.floatbank3_b_air                 1\n",
      "secondary_cleaner.state.floatbank3_b_level               1\n",
      "secondary_cleaner.state.floatbank4_a_air                 6\n",
      "secondary_cleaner.state.floatbank4_a_level               1\n",
      "secondary_cleaner.state.floatbank4_b_air                 1\n",
      "secondary_cleaner.state.floatbank4_b_level               1\n",
      "secondary_cleaner.state.floatbank5_a_air                 1\n",
      "secondary_cleaner.state.floatbank5_a_level               1\n",
      "secondary_cleaner.state.floatbank5_b_air                 1\n",
      "secondary_cleaner.state.floatbank5_b_level               1\n",
      "secondary_cleaner.state.floatbank6_a_air                 2\n",
      "secondary_cleaner.state.floatbank6_a_level               1\n",
      "dtype: int64\n"
     ]
    }
   ],
   "source": [
    "pd.set_option('display.max_rows', None)\n",
    "print(data_tr.isna().sum())\n",
    "pd.reset_option('display.max_rows')"
   ]
  },
  {
   "cell_type": "code",
   "execution_count": 7,
   "metadata": {},
   "outputs": [],
   "source": [
    "#data_test.head()"
   ]
  },
  {
   "cell_type": "markdown",
   "metadata": {},
   "source": [
    "**Вывод:** Много столбцов, но все они соединены одним циклом (столбцом) date, этим можно воспользоваться при заполнении пропусков. От одной таблицы потерялась половина столбцов, нужно будет их поискать"
   ]
  },
  {
   "cell_type": "markdown",
   "metadata": {},
   "source": [
    "### Проверка расчета эффективности обогащения\n",
    "Вычислите её на обучающей выборке для признака rougher.output.recovery. Найдите MAE между вашими расчётами и значением признака. Опишите выводы\n",
    "\n",
    "Функция по расчёту эффективности:"
   ]
  },
  {
   "cell_type": "code",
   "execution_count": 8,
   "metadata": {},
   "outputs": [],
   "source": [
    "#расчет признака data_all['rougher.output.recovery'].head()"
   ]
  },
  {
   "cell_type": "code",
   "execution_count": 9,
   "metadata": {},
   "outputs": [],
   "source": [
    "#data_all['rougher.output.concentrate_ag'].head()"
   ]
  },
  {
   "cell_type": "code",
   "execution_count": 10,
   "metadata": {},
   "outputs": [],
   "source": [
    "C, F, T = ['rougher.output.concentrate_au', 'rougher.input.feed_au', 'rougher.output.tail_au']"
   ]
  },
  {
   "cell_type": "code",
   "execution_count": 11,
   "metadata": {},
   "outputs": [],
   "source": [
    "#формула расчета\n",
    "def recovery(data):\n",
    "    recover = ((data[C] * (data[F] - data[T])) / (data[F] * (data[C] - data[T]))) * 100\n",
    "    return recover"
   ]
  },
  {
   "cell_type": "code",
   "execution_count": 12,
   "metadata": {},
   "outputs": [
    {
     "data": {
      "text/html": [
       "<div>\n",
       "<style scoped>\n",
       "    .dataframe tbody tr th:only-of-type {\n",
       "        vertical-align: middle;\n",
       "    }\n",
       "\n",
       "    .dataframe tbody tr th {\n",
       "        vertical-align: top;\n",
       "    }\n",
       "\n",
       "    .dataframe thead th {\n",
       "        text-align: right;\n",
       "    }\n",
       "</style>\n",
       "<table border=\"1\" class=\"dataframe\">\n",
       "  <thead>\n",
       "    <tr style=\"text-align: right;\">\n",
       "      <th></th>\n",
       "      <th>rougher.output.recovery_test</th>\n",
       "    </tr>\n",
       "  </thead>\n",
       "  <tbody>\n",
       "    <tr>\n",
       "      <th>0</th>\n",
       "      <td>87.107763</td>\n",
       "    </tr>\n",
       "    <tr>\n",
       "      <th>1</th>\n",
       "      <td>86.843261</td>\n",
       "    </tr>\n",
       "    <tr>\n",
       "      <th>2</th>\n",
       "      <td>86.842308</td>\n",
       "    </tr>\n",
       "    <tr>\n",
       "      <th>3</th>\n",
       "      <td>87.226430</td>\n",
       "    </tr>\n",
       "    <tr>\n",
       "      <th>4</th>\n",
       "      <td>86.688794</td>\n",
       "    </tr>\n",
       "  </tbody>\n",
       "</table>\n",
       "</div>"
      ],
      "text/plain": [
       "   rougher.output.recovery_test\n",
       "0                     87.107763\n",
       "1                     86.843261\n",
       "2                     86.842308\n",
       "3                     87.226430\n",
       "4                     86.688794"
      ]
     },
     "execution_count": 12,
     "metadata": {},
     "output_type": "execute_result"
    }
   ],
   "source": [
    "data_all['rougher.output.recovery_test'] = data_all[[C, F, T]].apply(recovery, axis=1)\n",
    "data_all[['rougher.output.recovery_test']].head()"
   ]
  },
  {
   "cell_type": "code",
   "execution_count": 13,
   "metadata": {},
   "outputs": [
    {
     "data": {
      "text/plain": [
       "9.874045668302637e-15"
      ]
     },
     "execution_count": 13,
     "metadata": {},
     "output_type": "execute_result"
    }
   ],
   "source": [
    "#MAE для всей выборки\n",
    "mean_absolute_error(data_all['rougher.output.recovery'], data_all['rougher.output.recovery_test'])"
   ]
  },
  {
   "cell_type": "markdown",
   "metadata": {},
   "source": [
    "**Добавление необходимые столбцы для `data_test` из таблицы ``data_all`` по столбцу `date`**"
   ]
  },
  {
   "cell_type": "code",
   "execution_count": 15,
   "metadata": {},
   "outputs": [],
   "source": [
    "#data_test = data_test.merge(data_all[['date', 'rougher.output.recovery', C, T]], on='date')\n",
    "#data_test.join(data_all, on='date', rsuffix='_y')"
   ]
  },
  {
   "cell_type": "code",
   "execution_count": 16,
   "metadata": {},
   "outputs": [],
   "source": [
    "#расчет эффективности для test выборки:\n",
    "#data_test['rougher.output.recovery_test'] = data_test[[C, F, T]].apply(recovery, axis=1)"
   ]
  },
  {
   "cell_type": "code",
   "execution_count": 17,
   "metadata": {},
   "outputs": [],
   "source": [
    "#MAE для всей test\n",
    "#mean_absolute_error(data_test['rougher.output.recovery'], data_test['rougher.output.recovery_test'])"
   ]
  },
  {
   "cell_type": "markdown",
   "metadata": {},
   "source": [
    "**Вывод:** Кажется все ок, эффективность в тестовой выборке которая была рассчитана в общей таблице совпала с контрольным расчетом. Так же эффективность во всем дата сете рассчитана корректно.\n",
    "\n",
    "### Анализ признаков, которые отсутствуют в тестовой выборке\n",
    "Как было отмечено раньше не количество столбцов в тестовой выборке не совпадает со всем дата сетом. Разберемся каких именно не хватает"
   ]
  },
  {
   "cell_type": "code",
   "execution_count": 18,
   "metadata": {},
   "outputs": [],
   "source": [
    "# из обучающей выборки удаляем лишние столбцы!\n",
    "data_tr = data_tr[data_test.columns]"
   ]
  },
  {
   "cell_type": "code",
   "execution_count": 19,
   "metadata": {},
   "outputs": [],
   "source": [
    "#добваить ТАРГЕТ: rougher.output.recovery\n",
    "#data_tr = data_tr.merge(data_all[['date', 'final.output.recovery']], on='date')\n"
   ]
  },
  {
   "cell_type": "code",
   "execution_count": 20,
   "metadata": {},
   "outputs": [],
   "source": [
    "#добваить ТАРГЕТЫ: final.output.recovery, rougher.output.recovery\n",
    "data_tr = data_tr.merge(data_all[['date', 'rougher.output.recovery', 'final.output.recovery']],\n",
    "                        on='date')\n",
    "\n",
    "data_test = data_test.merge(data_all[['date', 'rougher.output.recovery', 'final.output.recovery']],\n",
    "                            on='date')"
   ]
  },
  {
   "cell_type": "markdown",
   "metadata": {},
   "source": [
    "**Вывод:** Из данного списка можно сделать вывод, что в таблице не хватает параметров продукта `output` на выходе на всех стадиях производства. Так же отсутствуют расчеты `rougher`."
   ]
  },
  {
   "cell_type": "markdown",
   "metadata": {},
   "source": [
    "### Предобработка данных\n",
    "#### Data Cleaning\n",
    "Обработка поропусков в пустой таблице"
   ]
  },
  {
   "cell_type": "code",
   "execution_count": 21,
   "metadata": {},
   "outputs": [
    {
     "data": {
      "text/html": [
       "<div>\n",
       "<style scoped>\n",
       "    .dataframe tbody tr th:only-of-type {\n",
       "        vertical-align: middle;\n",
       "    }\n",
       "\n",
       "    .dataframe tbody tr th {\n",
       "        vertical-align: top;\n",
       "    }\n",
       "\n",
       "    .dataframe thead th {\n",
       "        text-align: right;\n",
       "    }\n",
       "</style>\n",
       "<table border=\"1\" class=\"dataframe\">\n",
       "  <thead>\n",
       "    <tr style=\"text-align: right;\">\n",
       "      <th></th>\n",
       "      <th>date</th>\n",
       "      <th>final.output.concentrate_ag</th>\n",
       "      <th>final.output.concentrate_pb</th>\n",
       "      <th>final.output.concentrate_sol</th>\n",
       "      <th>final.output.concentrate_au</th>\n",
       "      <th>final.output.recovery</th>\n",
       "      <th>final.output.tail_ag</th>\n",
       "      <th>final.output.tail_pb</th>\n",
       "      <th>final.output.tail_sol</th>\n",
       "      <th>final.output.tail_au</th>\n",
       "      <th>primary_cleaner.input.sulfate</th>\n",
       "      <th>primary_cleaner.input.depressant</th>\n",
       "      <th>primary_cleaner.input.feed_size</th>\n",
       "      <th>primary_cleaner.input.xanthate</th>\n",
       "      <th>primary_cleaner.output.concentrate_ag</th>\n",
       "      <th>primary_cleaner.output.concentrate_pb</th>\n",
       "      <th>primary_cleaner.output.concentrate_sol</th>\n",
       "      <th>primary_cleaner.output.concentrate_au</th>\n",
       "      <th>primary_cleaner.output.tail_ag</th>\n",
       "      <th>primary_cleaner.output.tail_pb</th>\n",
       "      <th>primary_cleaner.output.tail_sol</th>\n",
       "      <th>primary_cleaner.output.tail_au</th>\n",
       "      <th>primary_cleaner.state.floatbank8_a_air</th>\n",
       "      <th>primary_cleaner.state.floatbank8_a_level</th>\n",
       "      <th>primary_cleaner.state.floatbank8_b_air</th>\n",
       "      <th>primary_cleaner.state.floatbank8_b_level</th>\n",
       "      <th>primary_cleaner.state.floatbank8_c_air</th>\n",
       "      <th>primary_cleaner.state.floatbank8_c_level</th>\n",
       "      <th>primary_cleaner.state.floatbank8_d_air</th>\n",
       "      <th>primary_cleaner.state.floatbank8_d_level</th>\n",
       "      <th>rougher.calculation.sulfate_to_au_concentrate</th>\n",
       "      <th>rougher.calculation.floatbank10_sulfate_to_au_feed</th>\n",
       "      <th>rougher.calculation.floatbank11_sulfate_to_au_feed</th>\n",
       "      <th>rougher.calculation.au_pb_ratio</th>\n",
       "      <th>rougher.input.feed_ag</th>\n",
       "      <th>rougher.input.feed_pb</th>\n",
       "      <th>rougher.input.feed_rate</th>\n",
       "      <th>rougher.input.feed_size</th>\n",
       "      <th>rougher.input.feed_sol</th>\n",
       "      <th>rougher.input.feed_au</th>\n",
       "      <th>rougher.input.floatbank10_sulfate</th>\n",
       "      <th>rougher.input.floatbank10_xanthate</th>\n",
       "      <th>rougher.input.floatbank11_sulfate</th>\n",
       "      <th>rougher.input.floatbank11_xanthate</th>\n",
       "      <th>rougher.output.concentrate_ag</th>\n",
       "      <th>rougher.output.concentrate_pb</th>\n",
       "      <th>rougher.output.concentrate_sol</th>\n",
       "      <th>rougher.output.concentrate_au</th>\n",
       "      <th>rougher.output.recovery</th>\n",
       "      <th>rougher.output.tail_ag</th>\n",
       "      <th>rougher.output.tail_pb</th>\n",
       "      <th>rougher.output.tail_sol</th>\n",
       "      <th>rougher.output.tail_au</th>\n",
       "      <th>rougher.state.floatbank10_a_air</th>\n",
       "      <th>rougher.state.floatbank10_a_level</th>\n",
       "      <th>rougher.state.floatbank10_b_air</th>\n",
       "      <th>rougher.state.floatbank10_b_level</th>\n",
       "      <th>rougher.state.floatbank10_c_air</th>\n",
       "      <th>rougher.state.floatbank10_c_level</th>\n",
       "      <th>rougher.state.floatbank10_d_air</th>\n",
       "      <th>rougher.state.floatbank10_d_level</th>\n",
       "      <th>rougher.state.floatbank10_e_air</th>\n",
       "      <th>rougher.state.floatbank10_e_level</th>\n",
       "      <th>rougher.state.floatbank10_f_air</th>\n",
       "      <th>rougher.state.floatbank10_f_level</th>\n",
       "      <th>secondary_cleaner.output.tail_ag</th>\n",
       "      <th>secondary_cleaner.output.tail_pb</th>\n",
       "      <th>secondary_cleaner.output.tail_sol</th>\n",
       "      <th>secondary_cleaner.output.tail_au</th>\n",
       "      <th>secondary_cleaner.state.floatbank2_a_air</th>\n",
       "      <th>secondary_cleaner.state.floatbank2_a_level</th>\n",
       "      <th>secondary_cleaner.state.floatbank2_b_air</th>\n",
       "      <th>secondary_cleaner.state.floatbank2_b_level</th>\n",
       "      <th>secondary_cleaner.state.floatbank3_a_air</th>\n",
       "      <th>secondary_cleaner.state.floatbank3_a_level</th>\n",
       "      <th>secondary_cleaner.state.floatbank3_b_air</th>\n",
       "      <th>secondary_cleaner.state.floatbank3_b_level</th>\n",
       "      <th>secondary_cleaner.state.floatbank4_a_air</th>\n",
       "      <th>secondary_cleaner.state.floatbank4_a_level</th>\n",
       "      <th>secondary_cleaner.state.floatbank4_b_air</th>\n",
       "      <th>secondary_cleaner.state.floatbank4_b_level</th>\n",
       "      <th>secondary_cleaner.state.floatbank5_a_air</th>\n",
       "      <th>secondary_cleaner.state.floatbank5_a_level</th>\n",
       "      <th>secondary_cleaner.state.floatbank5_b_air</th>\n",
       "      <th>secondary_cleaner.state.floatbank5_b_level</th>\n",
       "      <th>secondary_cleaner.state.floatbank6_a_air</th>\n",
       "      <th>secondary_cleaner.state.floatbank6_a_level</th>\n",
       "      <th>rougher.output.recovery_test</th>\n",
       "    </tr>\n",
       "  </thead>\n",
       "  <tbody>\n",
       "    <tr>\n",
       "      <th>0</th>\n",
       "      <td>2016-01-15 00:00:00</td>\n",
       "      <td>6.055403</td>\n",
       "      <td>9.889648</td>\n",
       "      <td>5.507324</td>\n",
       "      <td>42.192020</td>\n",
       "      <td>70.541216</td>\n",
       "      <td>10.411962</td>\n",
       "      <td>0.895447</td>\n",
       "      <td>16.904297</td>\n",
       "      <td>2.143149</td>\n",
       "      <td>127.092003</td>\n",
       "      <td>10.128295</td>\n",
       "      <td>7.25</td>\n",
       "      <td>0.988759</td>\n",
       "      <td>8.547551</td>\n",
       "      <td>10.389648</td>\n",
       "      <td>19.529297</td>\n",
       "      <td>34.174427</td>\n",
       "      <td>14.936526</td>\n",
       "      <td>2.534912</td>\n",
       "      <td>7.476074</td>\n",
       "      <td>2.106679</td>\n",
       "      <td>1549.775757</td>\n",
       "      <td>-498.912140</td>\n",
       "      <td>1551.434204</td>\n",
       "      <td>-516.403442</td>\n",
       "      <td>1549.873901</td>\n",
       "      <td>-498.666595</td>\n",
       "      <td>1554.367432</td>\n",
       "      <td>-493.428131</td>\n",
       "      <td>41885.707031</td>\n",
       "      <td>3481.779053</td>\n",
       "      <td>3520.337158</td>\n",
       "      <td>2.838687</td>\n",
       "      <td>6.100378</td>\n",
       "      <td>2.284912</td>\n",
       "      <td>523.546326</td>\n",
       "      <td>55.486599</td>\n",
       "      <td>36.808594</td>\n",
       "      <td>6.486150</td>\n",
       "      <td>11.986616</td>\n",
       "      <td>6.007990</td>\n",
       "      <td>11.836743</td>\n",
       "      <td>6.005818</td>\n",
       "      <td>11.500771</td>\n",
       "      <td>7.101074</td>\n",
       "      <td>28.029297</td>\n",
       "      <td>19.793808</td>\n",
       "      <td>87.107763</td>\n",
       "      <td>5.008018</td>\n",
       "      <td>0.508728</td>\n",
       "      <td>19.154297</td>\n",
       "      <td>1.170244</td>\n",
       "      <td>999.706909</td>\n",
       "      <td>-404.066986</td>\n",
       "      <td>1603.011353</td>\n",
       "      <td>-434.715027</td>\n",
       "      <td>1602.375000</td>\n",
       "      <td>-442.204468</td>\n",
       "      <td>1598.937256</td>\n",
       "      <td>-451.294128</td>\n",
       "      <td>1404.472046</td>\n",
       "      <td>-455.462982</td>\n",
       "      <td>1416.354980</td>\n",
       "      <td>-451.939636</td>\n",
       "      <td>14.500184</td>\n",
       "      <td>4.694824</td>\n",
       "      <td>8.764648</td>\n",
       "      <td>2.606185</td>\n",
       "      <td>25.853109</td>\n",
       "      <td>-498.526489</td>\n",
       "      <td>23.893660</td>\n",
       "      <td>-501.406281</td>\n",
       "      <td>23.961798</td>\n",
       "      <td>-495.262817</td>\n",
       "      <td>21.940409</td>\n",
       "      <td>-499.340973</td>\n",
       "      <td>14.016835</td>\n",
       "      <td>-502.488007</td>\n",
       "      <td>12.099931</td>\n",
       "      <td>-504.715942</td>\n",
       "      <td>9.925633</td>\n",
       "      <td>-498.310211</td>\n",
       "      <td>8.079666</td>\n",
       "      <td>-500.470978</td>\n",
       "      <td>14.151341</td>\n",
       "      <td>-605.841980</td>\n",
       "      <td>87.107763</td>\n",
       "    </tr>\n",
       "    <tr>\n",
       "      <th>1</th>\n",
       "      <td>2016-01-15 01:00:00</td>\n",
       "      <td>6.029369</td>\n",
       "      <td>9.968944</td>\n",
       "      <td>5.257781</td>\n",
       "      <td>42.701629</td>\n",
       "      <td>69.266198</td>\n",
       "      <td>10.462676</td>\n",
       "      <td>0.927452</td>\n",
       "      <td>16.634514</td>\n",
       "      <td>2.224930</td>\n",
       "      <td>125.629232</td>\n",
       "      <td>10.296251</td>\n",
       "      <td>7.25</td>\n",
       "      <td>1.002663</td>\n",
       "      <td>8.558743</td>\n",
       "      <td>10.497069</td>\n",
       "      <td>19.369147</td>\n",
       "      <td>34.118526</td>\n",
       "      <td>16.250511</td>\n",
       "      <td>3.049646</td>\n",
       "      <td>6.733907</td>\n",
       "      <td>2.353017</td>\n",
       "      <td>1576.166671</td>\n",
       "      <td>-500.904965</td>\n",
       "      <td>1575.950626</td>\n",
       "      <td>-499.865889</td>\n",
       "      <td>1575.994189</td>\n",
       "      <td>-499.315107</td>\n",
       "      <td>1574.479259</td>\n",
       "      <td>-498.931665</td>\n",
       "      <td>42050.861809</td>\n",
       "      <td>3498.370979</td>\n",
       "      <td>3489.981857</td>\n",
       "      <td>2.858998</td>\n",
       "      <td>6.161113</td>\n",
       "      <td>2.266033</td>\n",
       "      <td>525.290581</td>\n",
       "      <td>57.278666</td>\n",
       "      <td>35.753385</td>\n",
       "      <td>6.478583</td>\n",
       "      <td>11.971193</td>\n",
       "      <td>6.005766</td>\n",
       "      <td>11.996163</td>\n",
       "      <td>6.012594</td>\n",
       "      <td>11.615865</td>\n",
       "      <td>7.278807</td>\n",
       "      <td>28.067063</td>\n",
       "      <td>20.050975</td>\n",
       "      <td>86.843261</td>\n",
       "      <td>4.955378</td>\n",
       "      <td>0.536689</td>\n",
       "      <td>18.965234</td>\n",
       "      <td>1.184827</td>\n",
       "      <td>1000.286398</td>\n",
       "      <td>-400.065196</td>\n",
       "      <td>1600.754587</td>\n",
       "      <td>-449.953435</td>\n",
       "      <td>1600.479580</td>\n",
       "      <td>-449.830646</td>\n",
       "      <td>1600.527589</td>\n",
       "      <td>-449.953649</td>\n",
       "      <td>1399.227084</td>\n",
       "      <td>-450.869848</td>\n",
       "      <td>1399.719514</td>\n",
       "      <td>-450.119001</td>\n",
       "      <td>14.265474</td>\n",
       "      <td>4.592547</td>\n",
       "      <td>9.001494</td>\n",
       "      <td>2.488248</td>\n",
       "      <td>25.880539</td>\n",
       "      <td>-499.989656</td>\n",
       "      <td>23.889530</td>\n",
       "      <td>-500.372428</td>\n",
       "      <td>23.970550</td>\n",
       "      <td>-500.085473</td>\n",
       "      <td>22.085714</td>\n",
       "      <td>-499.446897</td>\n",
       "      <td>13.992281</td>\n",
       "      <td>-505.503262</td>\n",
       "      <td>11.950531</td>\n",
       "      <td>-501.331529</td>\n",
       "      <td>10.039245</td>\n",
       "      <td>-500.169983</td>\n",
       "      <td>7.984757</td>\n",
       "      <td>-500.582168</td>\n",
       "      <td>13.998353</td>\n",
       "      <td>-599.787184</td>\n",
       "      <td>86.843261</td>\n",
       "    </tr>\n",
       "    <tr>\n",
       "      <th>2</th>\n",
       "      <td>2016-01-15 02:00:00</td>\n",
       "      <td>6.055926</td>\n",
       "      <td>10.213995</td>\n",
       "      <td>5.383759</td>\n",
       "      <td>42.657501</td>\n",
       "      <td>68.116445</td>\n",
       "      <td>10.507046</td>\n",
       "      <td>0.953716</td>\n",
       "      <td>16.208849</td>\n",
       "      <td>2.257889</td>\n",
       "      <td>123.819808</td>\n",
       "      <td>11.316280</td>\n",
       "      <td>7.25</td>\n",
       "      <td>0.991265</td>\n",
       "      <td>8.603505</td>\n",
       "      <td>10.354494</td>\n",
       "      <td>19.167579</td>\n",
       "      <td>33.969464</td>\n",
       "      <td>16.491823</td>\n",
       "      <td>3.124664</td>\n",
       "      <td>6.471768</td>\n",
       "      <td>2.416800</td>\n",
       "      <td>1601.556163</td>\n",
       "      <td>-499.997791</td>\n",
       "      <td>1600.386685</td>\n",
       "      <td>-500.607762</td>\n",
       "      <td>1602.003542</td>\n",
       "      <td>-500.870069</td>\n",
       "      <td>1599.541515</td>\n",
       "      <td>-499.827444</td>\n",
       "      <td>42018.101184</td>\n",
       "      <td>3495.348910</td>\n",
       "      <td>3502.359819</td>\n",
       "      <td>2.945989</td>\n",
       "      <td>6.116455</td>\n",
       "      <td>2.159622</td>\n",
       "      <td>530.026610</td>\n",
       "      <td>57.510649</td>\n",
       "      <td>35.971630</td>\n",
       "      <td>6.362222</td>\n",
       "      <td>11.920603</td>\n",
       "      <td>6.197377</td>\n",
       "      <td>11.920305</td>\n",
       "      <td>6.204633</td>\n",
       "      <td>11.695753</td>\n",
       "      <td>7.216833</td>\n",
       "      <td>27.454037</td>\n",
       "      <td>19.737170</td>\n",
       "      <td>86.842308</td>\n",
       "      <td>4.843460</td>\n",
       "      <td>0.546416</td>\n",
       "      <td>18.808533</td>\n",
       "      <td>1.162562</td>\n",
       "      <td>999.719565</td>\n",
       "      <td>-400.074028</td>\n",
       "      <td>1599.337330</td>\n",
       "      <td>-450.008530</td>\n",
       "      <td>1599.672797</td>\n",
       "      <td>-449.954491</td>\n",
       "      <td>1599.849325</td>\n",
       "      <td>-449.954185</td>\n",
       "      <td>1399.180945</td>\n",
       "      <td>-449.937588</td>\n",
       "      <td>1400.316682</td>\n",
       "      <td>-450.527147</td>\n",
       "      <td>14.115662</td>\n",
       "      <td>4.624775</td>\n",
       "      <td>8.842896</td>\n",
       "      <td>2.458187</td>\n",
       "      <td>26.005245</td>\n",
       "      <td>-499.929616</td>\n",
       "      <td>23.886657</td>\n",
       "      <td>-499.951928</td>\n",
       "      <td>23.913535</td>\n",
       "      <td>-499.442343</td>\n",
       "      <td>23.957717</td>\n",
       "      <td>-499.901982</td>\n",
       "      <td>14.015015</td>\n",
       "      <td>-502.520901</td>\n",
       "      <td>11.912783</td>\n",
       "      <td>-501.133383</td>\n",
       "      <td>10.070913</td>\n",
       "      <td>-500.129135</td>\n",
       "      <td>8.013877</td>\n",
       "      <td>-500.517572</td>\n",
       "      <td>14.028663</td>\n",
       "      <td>-601.427363</td>\n",
       "      <td>86.842308</td>\n",
       "    </tr>\n",
       "    <tr>\n",
       "      <th>3</th>\n",
       "      <td>2016-01-15 03:00:00</td>\n",
       "      <td>6.047977</td>\n",
       "      <td>9.977019</td>\n",
       "      <td>4.858634</td>\n",
       "      <td>42.689819</td>\n",
       "      <td>68.347543</td>\n",
       "      <td>10.422762</td>\n",
       "      <td>0.883763</td>\n",
       "      <td>16.532835</td>\n",
       "      <td>2.146849</td>\n",
       "      <td>122.270188</td>\n",
       "      <td>11.322140</td>\n",
       "      <td>7.25</td>\n",
       "      <td>0.996739</td>\n",
       "      <td>7.221879</td>\n",
       "      <td>8.496563</td>\n",
       "      <td>15.978538</td>\n",
       "      <td>28.260743</td>\n",
       "      <td>16.024359</td>\n",
       "      <td>2.960362</td>\n",
       "      <td>6.843791</td>\n",
       "      <td>2.262051</td>\n",
       "      <td>1599.968720</td>\n",
       "      <td>-500.951778</td>\n",
       "      <td>1600.659236</td>\n",
       "      <td>-499.677094</td>\n",
       "      <td>1600.304144</td>\n",
       "      <td>-500.727997</td>\n",
       "      <td>1600.449520</td>\n",
       "      <td>-500.052575</td>\n",
       "      <td>42029.447991</td>\n",
       "      <td>3498.578313</td>\n",
       "      <td>3499.162912</td>\n",
       "      <td>3.002340</td>\n",
       "      <td>6.043309</td>\n",
       "      <td>2.037807</td>\n",
       "      <td>542.590390</td>\n",
       "      <td>57.792734</td>\n",
       "      <td>36.862241</td>\n",
       "      <td>6.118189</td>\n",
       "      <td>11.630094</td>\n",
       "      <td>6.203177</td>\n",
       "      <td>11.692450</td>\n",
       "      <td>6.196578</td>\n",
       "      <td>11.915047</td>\n",
       "      <td>7.175616</td>\n",
       "      <td>27.341277</td>\n",
       "      <td>19.320810</td>\n",
       "      <td>87.226430</td>\n",
       "      <td>4.655288</td>\n",
       "      <td>0.542525</td>\n",
       "      <td>19.330200</td>\n",
       "      <td>1.079755</td>\n",
       "      <td>999.814770</td>\n",
       "      <td>-400.200179</td>\n",
       "      <td>1600.059442</td>\n",
       "      <td>-450.619948</td>\n",
       "      <td>1600.012842</td>\n",
       "      <td>-449.910497</td>\n",
       "      <td>1597.725177</td>\n",
       "      <td>-450.130127</td>\n",
       "      <td>1400.943157</td>\n",
       "      <td>-450.030142</td>\n",
       "      <td>1400.234743</td>\n",
       "      <td>-449.790835</td>\n",
       "      <td>13.732071</td>\n",
       "      <td>4.482453</td>\n",
       "      <td>9.122857</td>\n",
       "      <td>2.322062</td>\n",
       "      <td>25.942508</td>\n",
       "      <td>-499.176749</td>\n",
       "      <td>23.955516</td>\n",
       "      <td>-499.848796</td>\n",
       "      <td>23.966838</td>\n",
       "      <td>-500.008812</td>\n",
       "      <td>23.954443</td>\n",
       "      <td>-499.944710</td>\n",
       "      <td>14.036510</td>\n",
       "      <td>-500.857308</td>\n",
       "      <td>11.999550</td>\n",
       "      <td>-501.193686</td>\n",
       "      <td>9.970366</td>\n",
       "      <td>-499.201640</td>\n",
       "      <td>7.977324</td>\n",
       "      <td>-500.255908</td>\n",
       "      <td>14.005551</td>\n",
       "      <td>-599.996129</td>\n",
       "      <td>87.226430</td>\n",
       "    </tr>\n",
       "    <tr>\n",
       "      <th>4</th>\n",
       "      <td>2016-01-15 04:00:00</td>\n",
       "      <td>6.148599</td>\n",
       "      <td>10.142511</td>\n",
       "      <td>4.939416</td>\n",
       "      <td>42.774141</td>\n",
       "      <td>66.927016</td>\n",
       "      <td>10.360302</td>\n",
       "      <td>0.792826</td>\n",
       "      <td>16.525686</td>\n",
       "      <td>2.055292</td>\n",
       "      <td>117.988169</td>\n",
       "      <td>11.913613</td>\n",
       "      <td>7.25</td>\n",
       "      <td>1.009869</td>\n",
       "      <td>9.089428</td>\n",
       "      <td>9.986786</td>\n",
       "      <td>19.199864</td>\n",
       "      <td>33.044932</td>\n",
       "      <td>16.480185</td>\n",
       "      <td>3.112100</td>\n",
       "      <td>6.550154</td>\n",
       "      <td>2.277073</td>\n",
       "      <td>1601.339707</td>\n",
       "      <td>-498.975456</td>\n",
       "      <td>1601.437854</td>\n",
       "      <td>-500.323246</td>\n",
       "      <td>1599.581894</td>\n",
       "      <td>-500.888152</td>\n",
       "      <td>1602.649541</td>\n",
       "      <td>-500.593010</td>\n",
       "      <td>42125.354245</td>\n",
       "      <td>3494.800771</td>\n",
       "      <td>3506.679315</td>\n",
       "      <td>3.169615</td>\n",
       "      <td>6.060915</td>\n",
       "      <td>1.786875</td>\n",
       "      <td>540.531893</td>\n",
       "      <td>56.047189</td>\n",
       "      <td>34.347666</td>\n",
       "      <td>5.663707</td>\n",
       "      <td>10.957755</td>\n",
       "      <td>6.198826</td>\n",
       "      <td>10.960521</td>\n",
       "      <td>6.194897</td>\n",
       "      <td>12.411054</td>\n",
       "      <td>7.240205</td>\n",
       "      <td>27.041023</td>\n",
       "      <td>19.216101</td>\n",
       "      <td>86.688794</td>\n",
       "      <td>4.552800</td>\n",
       "      <td>0.515438</td>\n",
       "      <td>19.267422</td>\n",
       "      <td>1.012642</td>\n",
       "      <td>999.678690</td>\n",
       "      <td>-399.752729</td>\n",
       "      <td>1600.208824</td>\n",
       "      <td>-449.599614</td>\n",
       "      <td>1600.357732</td>\n",
       "      <td>-450.034364</td>\n",
       "      <td>1599.759049</td>\n",
       "      <td>-449.909799</td>\n",
       "      <td>1401.560902</td>\n",
       "      <td>-448.877187</td>\n",
       "      <td>1401.160227</td>\n",
       "      <td>-450.407128</td>\n",
       "      <td>14.079996</td>\n",
       "      <td>4.470737</td>\n",
       "      <td>8.871028</td>\n",
       "      <td>2.330448</td>\n",
       "      <td>26.024787</td>\n",
       "      <td>-500.279091</td>\n",
       "      <td>23.955345</td>\n",
       "      <td>-500.593614</td>\n",
       "      <td>23.985703</td>\n",
       "      <td>-500.083811</td>\n",
       "      <td>23.958945</td>\n",
       "      <td>-499.990309</td>\n",
       "      <td>14.027298</td>\n",
       "      <td>-499.838632</td>\n",
       "      <td>11.953070</td>\n",
       "      <td>-501.053894</td>\n",
       "      <td>9.925709</td>\n",
       "      <td>-501.686727</td>\n",
       "      <td>7.894242</td>\n",
       "      <td>-500.356035</td>\n",
       "      <td>13.996647</td>\n",
       "      <td>-601.496691</td>\n",
       "      <td>86.688794</td>\n",
       "    </tr>\n",
       "  </tbody>\n",
       "</table>\n",
       "</div>"
      ],
      "text/plain": [
       "                  date  final.output.concentrate_ag  \\\n",
       "0  2016-01-15 00:00:00                     6.055403   \n",
       "1  2016-01-15 01:00:00                     6.029369   \n",
       "2  2016-01-15 02:00:00                     6.055926   \n",
       "3  2016-01-15 03:00:00                     6.047977   \n",
       "4  2016-01-15 04:00:00                     6.148599   \n",
       "\n",
       "   final.output.concentrate_pb  final.output.concentrate_sol  \\\n",
       "0                     9.889648                      5.507324   \n",
       "1                     9.968944                      5.257781   \n",
       "2                    10.213995                      5.383759   \n",
       "3                     9.977019                      4.858634   \n",
       "4                    10.142511                      4.939416   \n",
       "\n",
       "   final.output.concentrate_au  final.output.recovery  final.output.tail_ag  \\\n",
       "0                    42.192020              70.541216             10.411962   \n",
       "1                    42.701629              69.266198             10.462676   \n",
       "2                    42.657501              68.116445             10.507046   \n",
       "3                    42.689819              68.347543             10.422762   \n",
       "4                    42.774141              66.927016             10.360302   \n",
       "\n",
       "   final.output.tail_pb  final.output.tail_sol  final.output.tail_au  \\\n",
       "0              0.895447              16.904297              2.143149   \n",
       "1              0.927452              16.634514              2.224930   \n",
       "2              0.953716              16.208849              2.257889   \n",
       "3              0.883763              16.532835              2.146849   \n",
       "4              0.792826              16.525686              2.055292   \n",
       "\n",
       "   primary_cleaner.input.sulfate  primary_cleaner.input.depressant  \\\n",
       "0                     127.092003                         10.128295   \n",
       "1                     125.629232                         10.296251   \n",
       "2                     123.819808                         11.316280   \n",
       "3                     122.270188                         11.322140   \n",
       "4                     117.988169                         11.913613   \n",
       "\n",
       "   primary_cleaner.input.feed_size  primary_cleaner.input.xanthate  \\\n",
       "0                             7.25                        0.988759   \n",
       "1                             7.25                        1.002663   \n",
       "2                             7.25                        0.991265   \n",
       "3                             7.25                        0.996739   \n",
       "4                             7.25                        1.009869   \n",
       "\n",
       "   primary_cleaner.output.concentrate_ag  \\\n",
       "0                               8.547551   \n",
       "1                               8.558743   \n",
       "2                               8.603505   \n",
       "3                               7.221879   \n",
       "4                               9.089428   \n",
       "\n",
       "   primary_cleaner.output.concentrate_pb  \\\n",
       "0                              10.389648   \n",
       "1                              10.497069   \n",
       "2                              10.354494   \n",
       "3                               8.496563   \n",
       "4                               9.986786   \n",
       "\n",
       "   primary_cleaner.output.concentrate_sol  \\\n",
       "0                               19.529297   \n",
       "1                               19.369147   \n",
       "2                               19.167579   \n",
       "3                               15.978538   \n",
       "4                               19.199864   \n",
       "\n",
       "   primary_cleaner.output.concentrate_au  primary_cleaner.output.tail_ag  \\\n",
       "0                              34.174427                       14.936526   \n",
       "1                              34.118526                       16.250511   \n",
       "2                              33.969464                       16.491823   \n",
       "3                              28.260743                       16.024359   \n",
       "4                              33.044932                       16.480185   \n",
       "\n",
       "   primary_cleaner.output.tail_pb  primary_cleaner.output.tail_sol  \\\n",
       "0                        2.534912                         7.476074   \n",
       "1                        3.049646                         6.733907   \n",
       "2                        3.124664                         6.471768   \n",
       "3                        2.960362                         6.843791   \n",
       "4                        3.112100                         6.550154   \n",
       "\n",
       "   primary_cleaner.output.tail_au  primary_cleaner.state.floatbank8_a_air  \\\n",
       "0                        2.106679                             1549.775757   \n",
       "1                        2.353017                             1576.166671   \n",
       "2                        2.416800                             1601.556163   \n",
       "3                        2.262051                             1599.968720   \n",
       "4                        2.277073                             1601.339707   \n",
       "\n",
       "   primary_cleaner.state.floatbank8_a_level  \\\n",
       "0                               -498.912140   \n",
       "1                               -500.904965   \n",
       "2                               -499.997791   \n",
       "3                               -500.951778   \n",
       "4                               -498.975456   \n",
       "\n",
       "   primary_cleaner.state.floatbank8_b_air  \\\n",
       "0                             1551.434204   \n",
       "1                             1575.950626   \n",
       "2                             1600.386685   \n",
       "3                             1600.659236   \n",
       "4                             1601.437854   \n",
       "\n",
       "   primary_cleaner.state.floatbank8_b_level  \\\n",
       "0                               -516.403442   \n",
       "1                               -499.865889   \n",
       "2                               -500.607762   \n",
       "3                               -499.677094   \n",
       "4                               -500.323246   \n",
       "\n",
       "   primary_cleaner.state.floatbank8_c_air  \\\n",
       "0                             1549.873901   \n",
       "1                             1575.994189   \n",
       "2                             1602.003542   \n",
       "3                             1600.304144   \n",
       "4                             1599.581894   \n",
       "\n",
       "   primary_cleaner.state.floatbank8_c_level  \\\n",
       "0                               -498.666595   \n",
       "1                               -499.315107   \n",
       "2                               -500.870069   \n",
       "3                               -500.727997   \n",
       "4                               -500.888152   \n",
       "\n",
       "   primary_cleaner.state.floatbank8_d_air  \\\n",
       "0                             1554.367432   \n",
       "1                             1574.479259   \n",
       "2                             1599.541515   \n",
       "3                             1600.449520   \n",
       "4                             1602.649541   \n",
       "\n",
       "   primary_cleaner.state.floatbank8_d_level  \\\n",
       "0                               -493.428131   \n",
       "1                               -498.931665   \n",
       "2                               -499.827444   \n",
       "3                               -500.052575   \n",
       "4                               -500.593010   \n",
       "\n",
       "   rougher.calculation.sulfate_to_au_concentrate  \\\n",
       "0                                   41885.707031   \n",
       "1                                   42050.861809   \n",
       "2                                   42018.101184   \n",
       "3                                   42029.447991   \n",
       "4                                   42125.354245   \n",
       "\n",
       "   rougher.calculation.floatbank10_sulfate_to_au_feed  \\\n",
       "0                                        3481.779053    \n",
       "1                                        3498.370979    \n",
       "2                                        3495.348910    \n",
       "3                                        3498.578313    \n",
       "4                                        3494.800771    \n",
       "\n",
       "   rougher.calculation.floatbank11_sulfate_to_au_feed  \\\n",
       "0                                        3520.337158    \n",
       "1                                        3489.981857    \n",
       "2                                        3502.359819    \n",
       "3                                        3499.162912    \n",
       "4                                        3506.679315    \n",
       "\n",
       "   rougher.calculation.au_pb_ratio  rougher.input.feed_ag  \\\n",
       "0                         2.838687               6.100378   \n",
       "1                         2.858998               6.161113   \n",
       "2                         2.945989               6.116455   \n",
       "3                         3.002340               6.043309   \n",
       "4                         3.169615               6.060915   \n",
       "\n",
       "   rougher.input.feed_pb  rougher.input.feed_rate  rougher.input.feed_size  \\\n",
       "0               2.284912               523.546326                55.486599   \n",
       "1               2.266033               525.290581                57.278666   \n",
       "2               2.159622               530.026610                57.510649   \n",
       "3               2.037807               542.590390                57.792734   \n",
       "4               1.786875               540.531893                56.047189   \n",
       "\n",
       "   rougher.input.feed_sol  rougher.input.feed_au  \\\n",
       "0               36.808594               6.486150   \n",
       "1               35.753385               6.478583   \n",
       "2               35.971630               6.362222   \n",
       "3               36.862241               6.118189   \n",
       "4               34.347666               5.663707   \n",
       "\n",
       "   rougher.input.floatbank10_sulfate  rougher.input.floatbank10_xanthate  \\\n",
       "0                          11.986616                            6.007990   \n",
       "1                          11.971193                            6.005766   \n",
       "2                          11.920603                            6.197377   \n",
       "3                          11.630094                            6.203177   \n",
       "4                          10.957755                            6.198826   \n",
       "\n",
       "   rougher.input.floatbank11_sulfate  rougher.input.floatbank11_xanthate  \\\n",
       "0                          11.836743                            6.005818   \n",
       "1                          11.996163                            6.012594   \n",
       "2                          11.920305                            6.204633   \n",
       "3                          11.692450                            6.196578   \n",
       "4                          10.960521                            6.194897   \n",
       "\n",
       "   rougher.output.concentrate_ag  rougher.output.concentrate_pb  \\\n",
       "0                      11.500771                       7.101074   \n",
       "1                      11.615865                       7.278807   \n",
       "2                      11.695753                       7.216833   \n",
       "3                      11.915047                       7.175616   \n",
       "4                      12.411054                       7.240205   \n",
       "\n",
       "   rougher.output.concentrate_sol  rougher.output.concentrate_au  \\\n",
       "0                       28.029297                      19.793808   \n",
       "1                       28.067063                      20.050975   \n",
       "2                       27.454037                      19.737170   \n",
       "3                       27.341277                      19.320810   \n",
       "4                       27.041023                      19.216101   \n",
       "\n",
       "   rougher.output.recovery  rougher.output.tail_ag  rougher.output.tail_pb  \\\n",
       "0                87.107763                5.008018                0.508728   \n",
       "1                86.843261                4.955378                0.536689   \n",
       "2                86.842308                4.843460                0.546416   \n",
       "3                87.226430                4.655288                0.542525   \n",
       "4                86.688794                4.552800                0.515438   \n",
       "\n",
       "   rougher.output.tail_sol  rougher.output.tail_au  \\\n",
       "0                19.154297                1.170244   \n",
       "1                18.965234                1.184827   \n",
       "2                18.808533                1.162562   \n",
       "3                19.330200                1.079755   \n",
       "4                19.267422                1.012642   \n",
       "\n",
       "   rougher.state.floatbank10_a_air  rougher.state.floatbank10_a_level  \\\n",
       "0                       999.706909                        -404.066986   \n",
       "1                      1000.286398                        -400.065196   \n",
       "2                       999.719565                        -400.074028   \n",
       "3                       999.814770                        -400.200179   \n",
       "4                       999.678690                        -399.752729   \n",
       "\n",
       "   rougher.state.floatbank10_b_air  rougher.state.floatbank10_b_level  \\\n",
       "0                      1603.011353                        -434.715027   \n",
       "1                      1600.754587                        -449.953435   \n",
       "2                      1599.337330                        -450.008530   \n",
       "3                      1600.059442                        -450.619948   \n",
       "4                      1600.208824                        -449.599614   \n",
       "\n",
       "   rougher.state.floatbank10_c_air  rougher.state.floatbank10_c_level  \\\n",
       "0                      1602.375000                        -442.204468   \n",
       "1                      1600.479580                        -449.830646   \n",
       "2                      1599.672797                        -449.954491   \n",
       "3                      1600.012842                        -449.910497   \n",
       "4                      1600.357732                        -450.034364   \n",
       "\n",
       "   rougher.state.floatbank10_d_air  rougher.state.floatbank10_d_level  \\\n",
       "0                      1598.937256                        -451.294128   \n",
       "1                      1600.527589                        -449.953649   \n",
       "2                      1599.849325                        -449.954185   \n",
       "3                      1597.725177                        -450.130127   \n",
       "4                      1599.759049                        -449.909799   \n",
       "\n",
       "   rougher.state.floatbank10_e_air  rougher.state.floatbank10_e_level  \\\n",
       "0                      1404.472046                        -455.462982   \n",
       "1                      1399.227084                        -450.869848   \n",
       "2                      1399.180945                        -449.937588   \n",
       "3                      1400.943157                        -450.030142   \n",
       "4                      1401.560902                        -448.877187   \n",
       "\n",
       "   rougher.state.floatbank10_f_air  rougher.state.floatbank10_f_level  \\\n",
       "0                      1416.354980                        -451.939636   \n",
       "1                      1399.719514                        -450.119001   \n",
       "2                      1400.316682                        -450.527147   \n",
       "3                      1400.234743                        -449.790835   \n",
       "4                      1401.160227                        -450.407128   \n",
       "\n",
       "   secondary_cleaner.output.tail_ag  secondary_cleaner.output.tail_pb  \\\n",
       "0                         14.500184                          4.694824   \n",
       "1                         14.265474                          4.592547   \n",
       "2                         14.115662                          4.624775   \n",
       "3                         13.732071                          4.482453   \n",
       "4                         14.079996                          4.470737   \n",
       "\n",
       "   secondary_cleaner.output.tail_sol  secondary_cleaner.output.tail_au  \\\n",
       "0                           8.764648                          2.606185   \n",
       "1                           9.001494                          2.488248   \n",
       "2                           8.842896                          2.458187   \n",
       "3                           9.122857                          2.322062   \n",
       "4                           8.871028                          2.330448   \n",
       "\n",
       "   secondary_cleaner.state.floatbank2_a_air  \\\n",
       "0                                 25.853109   \n",
       "1                                 25.880539   \n",
       "2                                 26.005245   \n",
       "3                                 25.942508   \n",
       "4                                 26.024787   \n",
       "\n",
       "   secondary_cleaner.state.floatbank2_a_level  \\\n",
       "0                                 -498.526489   \n",
       "1                                 -499.989656   \n",
       "2                                 -499.929616   \n",
       "3                                 -499.176749   \n",
       "4                                 -500.279091   \n",
       "\n",
       "   secondary_cleaner.state.floatbank2_b_air  \\\n",
       "0                                 23.893660   \n",
       "1                                 23.889530   \n",
       "2                                 23.886657   \n",
       "3                                 23.955516   \n",
       "4                                 23.955345   \n",
       "\n",
       "   secondary_cleaner.state.floatbank2_b_level  \\\n",
       "0                                 -501.406281   \n",
       "1                                 -500.372428   \n",
       "2                                 -499.951928   \n",
       "3                                 -499.848796   \n",
       "4                                 -500.593614   \n",
       "\n",
       "   secondary_cleaner.state.floatbank3_a_air  \\\n",
       "0                                 23.961798   \n",
       "1                                 23.970550   \n",
       "2                                 23.913535   \n",
       "3                                 23.966838   \n",
       "4                                 23.985703   \n",
       "\n",
       "   secondary_cleaner.state.floatbank3_a_level  \\\n",
       "0                                 -495.262817   \n",
       "1                                 -500.085473   \n",
       "2                                 -499.442343   \n",
       "3                                 -500.008812   \n",
       "4                                 -500.083811   \n",
       "\n",
       "   secondary_cleaner.state.floatbank3_b_air  \\\n",
       "0                                 21.940409   \n",
       "1                                 22.085714   \n",
       "2                                 23.957717   \n",
       "3                                 23.954443   \n",
       "4                                 23.958945   \n",
       "\n",
       "   secondary_cleaner.state.floatbank3_b_level  \\\n",
       "0                                 -499.340973   \n",
       "1                                 -499.446897   \n",
       "2                                 -499.901982   \n",
       "3                                 -499.944710   \n",
       "4                                 -499.990309   \n",
       "\n",
       "   secondary_cleaner.state.floatbank4_a_air  \\\n",
       "0                                 14.016835   \n",
       "1                                 13.992281   \n",
       "2                                 14.015015   \n",
       "3                                 14.036510   \n",
       "4                                 14.027298   \n",
       "\n",
       "   secondary_cleaner.state.floatbank4_a_level  \\\n",
       "0                                 -502.488007   \n",
       "1                                 -505.503262   \n",
       "2                                 -502.520901   \n",
       "3                                 -500.857308   \n",
       "4                                 -499.838632   \n",
       "\n",
       "   secondary_cleaner.state.floatbank4_b_air  \\\n",
       "0                                 12.099931   \n",
       "1                                 11.950531   \n",
       "2                                 11.912783   \n",
       "3                                 11.999550   \n",
       "4                                 11.953070   \n",
       "\n",
       "   secondary_cleaner.state.floatbank4_b_level  \\\n",
       "0                                 -504.715942   \n",
       "1                                 -501.331529   \n",
       "2                                 -501.133383   \n",
       "3                                 -501.193686   \n",
       "4                                 -501.053894   \n",
       "\n",
       "   secondary_cleaner.state.floatbank5_a_air  \\\n",
       "0                                  9.925633   \n",
       "1                                 10.039245   \n",
       "2                                 10.070913   \n",
       "3                                  9.970366   \n",
       "4                                  9.925709   \n",
       "\n",
       "   secondary_cleaner.state.floatbank5_a_level  \\\n",
       "0                                 -498.310211   \n",
       "1                                 -500.169983   \n",
       "2                                 -500.129135   \n",
       "3                                 -499.201640   \n",
       "4                                 -501.686727   \n",
       "\n",
       "   secondary_cleaner.state.floatbank5_b_air  \\\n",
       "0                                  8.079666   \n",
       "1                                  7.984757   \n",
       "2                                  8.013877   \n",
       "3                                  7.977324   \n",
       "4                                  7.894242   \n",
       "\n",
       "   secondary_cleaner.state.floatbank5_b_level  \\\n",
       "0                                 -500.470978   \n",
       "1                                 -500.582168   \n",
       "2                                 -500.517572   \n",
       "3                                 -500.255908   \n",
       "4                                 -500.356035   \n",
       "\n",
       "   secondary_cleaner.state.floatbank6_a_air  \\\n",
       "0                                 14.151341   \n",
       "1                                 13.998353   \n",
       "2                                 14.028663   \n",
       "3                                 14.005551   \n",
       "4                                 13.996647   \n",
       "\n",
       "   secondary_cleaner.state.floatbank6_a_level  rougher.output.recovery_test  \n",
       "0                                 -605.841980                     87.107763  \n",
       "1                                 -599.787184                     86.843261  \n",
       "2                                 -601.427363                     86.842308  \n",
       "3                                 -599.996129                     87.226430  \n",
       "4                                 -601.496691                     86.688794  "
      ]
     },
     "execution_count": 21,
     "metadata": {},
     "output_type": "execute_result"
    }
   ],
   "source": [
    "pd.set_option('display.max_columns', None) #вывод всех столбцов таблицы \n",
    "data_all.head(5)"
   ]
  },
  {
   "cell_type": "code",
   "execution_count": 22,
   "metadata": {
    "scrolled": true
   },
   "outputs": [
    {
     "name": "stdout",
     "output_type": "stream",
     "text": [
      "4481\n"
     ]
    }
   ],
   "source": [
    "pd.set_option('display.max_rows', None)#отображение всех строк\n",
    "print(data_all.isna().sum().sum())\n",
    "pd.reset_option('display.max_rows')#возврат в исходный вариант"
   ]
  },
  {
   "cell_type": "code",
   "execution_count": 23,
   "metadata": {},
   "outputs": [],
   "source": [
    "#обработка пропусков предыдущим значением \n",
    "n = [\n",
    "    'final.output.concentrate_sol', 'final.output.tail_pb',\n",
    "     'primary_cleaner.input.xanthate', 'primary_cleaner.output.concentrate_pb',\n",
    "     'primary_cleaner.output.concentrate_sol', 'primary_cleaner.input.sulfate',\n",
    "     'primary_cleaner.input.depressant', 'primary_cleaner.output.tail_ag',\n",
    "     'primary_cleaner.output.tail_pb', 'rougher.input.floatbank11_xanthate',\n",
    "     'secondary_cleaner.output.tail_sol', 'rougher.input.feed_size',\n",
    "     'rougher.input.feed_pb', 'rougher.input.feed_sol'     \n",
    "    ]"
   ]
  },
  {
   "cell_type": "code",
   "execution_count": 24,
   "metadata": {},
   "outputs": [],
   "source": [
    "#заполнение выбранных пропусков\n",
    "data_all[n] = data_all[n].fillna(method='ffill')#.isna().sum()"
   ]
  },
  {
   "cell_type": "code",
   "execution_count": 25,
   "metadata": {},
   "outputs": [],
   "source": [
    "#заполнение оставшихся пропусков так же\n",
    "data_all = data_all.fillna(method='ffill')"
   ]
  },
  {
   "cell_type": "code",
   "execution_count": 26,
   "metadata": {},
   "outputs": [],
   "source": [
    "#контрольная функция для проверки сомнительных фич\n",
    "def sorte(col):\n",
    "    data_all[[col]].plot(figsize=(6, 3))\n",
    "    x = data_all[data_all[col].isna()]\n",
    "    y = data_all[data_all[col] <= 1 ].shape\n",
    "    return y\n",
    "#sorte('final.output.recovery')"
   ]
  },
  {
   "cell_type": "markdown",
   "metadata": {},
   "source": [
    "**Удаление выбрасов:**"
   ]
  },
  {
   "cell_type": "code",
   "execution_count": 27,
   "metadata": {},
   "outputs": [
    {
     "data": {
      "image/png": "[encoded data removed]",
      "text/plain": [
       "<Figure size 432x216 with 1 Axes>"
      ]
     },
     "metadata": {
      "needs_background": "light"
     },
     "output_type": "display_data"
    }
   ],
   "source": [
    "#primary_cleaner.input.feed_size\n",
    "data_all[['primary_cleaner.input.feed_size']].plot(figsize=(6, 3))\n",
    "\n",
    "data_all = data_all[data_all['primary_cleaner.input.feed_size'] < 10]\n",
    "data_all = data_all[data_all['primary_cleaner.input.feed_size'] > 4.3]"
   ]
  },
  {
   "cell_type": "code",
   "execution_count": 28,
   "metadata": {},
   "outputs": [
    {
     "data": {
      "image/png": "[encoded data removed]",
      "text/plain": [
       "<Figure size 432x216 with 1 Axes>"
      ]
     },
     "metadata": {
      "needs_background": "light"
     },
     "output_type": "display_data"
    }
   ],
   "source": [
    "#primary_cleaner.input.depressant\n",
    "data_all[['primary_cleaner.input.depressant']].plot(figsize=(6, 3))\n",
    "\n",
    "data_all = data_all[data_all['primary_cleaner.input.depressant'] <= 25 ]"
   ]
  },
  {
   "cell_type": "code",
   "execution_count": 29,
   "metadata": {},
   "outputs": [
    {
     "data": {
      "image/png": "[encoded data removed]",
      "text/plain": [
       "<Figure size 432x216 with 1 Axes>"
      ]
     },
     "metadata": {
      "needs_background": "light"
     },
     "output_type": "display_data"
    }
   ],
   "source": [
    "#primary_cleaner.input.feed_size\n",
    "data_all[['primary_cleaner.input.feed_size']].plot(figsize=(6, 3))\n",
    "\n",
    "data_all = data_all[data_all['primary_cleaner.input.feed_size'] >= 5 ]"
   ]
  },
  {
   "cell_type": "code",
   "execution_count": 30,
   "metadata": {},
   "outputs": [
    {
     "data": {
      "image/png": "[encoded data removed]",
      "text/plain": [
       "<Figure size 432x216 with 1 Axes>"
      ]
     },
     "metadata": {
      "needs_background": "light"
     },
     "output_type": "display_data"
    }
   ],
   "source": [
    "#primary_cleaner.output.concentrate_sol\n",
    "data_all[['primary_cleaner.output.concentrate_sol']].plot(figsize=(6, 3))\n",
    "\n",
    "data_all = data_all[data_all['primary_cleaner.output.concentrate_sol'] <= 21 ]"
   ]
  },
  {
   "cell_type": "code",
   "execution_count": 31,
   "metadata": {},
   "outputs": [
    {
     "data": {
      "image/png": "[encoded data removed]",
      "text/plain": [
       "<Figure size 432x216 with 1 Axes>"
      ]
     },
     "metadata": {
      "needs_background": "light"
     },
     "output_type": "display_data"
    }
   ],
   "source": [
    "#primary_cleaner.output.tail_sol\n",
    "data_all[['primary_cleaner.output.tail_sol']].plot(figsize=(6, 3))\n",
    "\n",
    "data_all = data_all[data_all['primary_cleaner.output.tail_sol'] <= 15 ]"
   ]
  },
  {
   "cell_type": "code",
   "execution_count": 32,
   "metadata": {},
   "outputs": [
    {
     "data": {
      "image/png": "[encoded data removed]",
      "text/plain": [
       "<Figure size 432x216 with 1 Axes>"
      ]
     },
     "metadata": {
      "needs_background": "light"
     },
     "output_type": "display_data"
    }
   ],
   "source": [
    "#primary_cleaner.output.tail_au\n",
    "data_all[['primary_cleaner.output.tail_au']].plot(figsize=(6, 3))\n",
    "\n",
    "data_all = data_all[data_all['primary_cleaner.output.tail_au'] <= 12.5 ]"
   ]
  },
  {
   "cell_type": "code",
   "execution_count": 33,
   "metadata": {},
   "outputs": [
    {
     "data": {
      "image/png": "[encoded data removed]",
      "text/plain": [
       "<Figure size 432x216 with 1 Axes>"
      ]
     },
     "metadata": {
      "needs_background": "light"
     },
     "output_type": "display_data"
    }
   ],
   "source": [
    "#rougher.state.floatbank10_e_air\n",
    "data_all[['rougher.state.floatbank10_e_air']].plot(figsize=(6, 3))\n",
    "\n",
    "data_all = data_all[data_all['rougher.state.floatbank10_e_air'] >= 500 ]\n",
    "data_all = data_all[data_all['rougher.state.floatbank10_e_air'] <= 1800 ]"
   ]
  },
  {
   "cell_type": "code",
   "execution_count": 34,
   "metadata": {},
   "outputs": [
    {
     "data": {
      "image/png": "[encoded data removed]",
      "text/plain": [
       "<Figure size 432x216 with 1 Axes>"
      ]
     },
     "metadata": {
      "needs_background": "light"
     },
     "output_type": "display_data"
    }
   ],
   "source": [
    "#secondary_cleaner.output.tail_sol\n",
    "data_all[['secondary_cleaner.output.tail_sol']].plot(figsize=(6, 3))\n",
    "\n",
    "data_all = data_all[data_all['secondary_cleaner.output.tail_sol'] <= 16.5 ]"
   ]
  },
  {
   "cell_type": "code",
   "execution_count": 35,
   "metadata": {},
   "outputs": [
    {
     "data": {
      "image/png": "[encoded data removed]",
      "text/plain": [
       "<Figure size 432x216 with 1 Axes>"
      ]
     },
     "metadata": {
      "needs_background": "light"
     },
     "output_type": "display_data"
    }
   ],
   "source": [
    "#rougher.input.feed_size\n",
    "data_all[['rougher.input.feed_size']].plot(figsize=(6, 3))\n",
    "\n",
    "data_all = data_all[data_all['rougher.input.feed_size'] <= 350 ]"
   ]
  },
  {
   "cell_type": "code",
   "execution_count": 36,
   "metadata": {},
   "outputs": [
    {
     "data": {
      "image/png": "[encoded data removed]",
      "text/plain": [
       "<Figure size 432x216 with 1 Axes>"
      ]
     },
     "metadata": {
      "needs_background": "light"
     },
     "output_type": "display_data"
    }
   ],
   "source": [
    "#rougher.input.feed_size\n",
    "data_all[['rougher.input.feed_size']].plot(figsize=(6, 3))\n",
    "\n",
    "data_all = data_all[data_all['rougher.input.feed_size'] <= 150 ]\n",
    "data_all = data_all[data_all['rougher.input.feed_size'] >= 25 ]"
   ]
  },
  {
   "cell_type": "markdown",
   "metadata": {},
   "source": [
    "#### Восстановление двух таблиц data_test и data_tr из таблицы data_all"
   ]
  },
  {
   "cell_type": "code",
   "execution_count": 37,
   "metadata": {},
   "outputs": [],
   "source": [
    "col = data_tr.columns"
   ]
  },
  {
   "cell_type": "code",
   "execution_count": 38,
   "metadata": {},
   "outputs": [],
   "source": [
    "data_test = data_all.merge(data_test, on='date', suffixes=('', '+'))[col]"
   ]
  },
  {
   "cell_type": "code",
   "execution_count": 39,
   "metadata": {},
   "outputs": [],
   "source": [
    "data_tr = data_all.merge(data_tr, on='date', suffixes=('', '+'))[col]"
   ]
  },
  {
   "cell_type": "code",
   "execution_count": 40,
   "metadata": {},
   "outputs": [
    {
     "name": "stdout",
     "output_type": "stream",
     "text": [
      "data_tr размер: (13918, 55)\n",
      "data_test размер: (5247, 55)\n",
      "data_all размер: (19165, 88)\n"
     ]
    }
   ],
   "source": [
    "print('data_tr размер:', data_tr.shape)\n",
    "print('data_test размер:', data_test.shape)\n",
    "print('data_all размер:', data_all.shape)"
   ]
  },
  {
   "cell_type": "markdown",
   "metadata": {},
   "source": [
    "Итог: таблицы востановлены. "
   ]
  },
  {
   "cell_type": "markdown",
   "metadata": {},
   "source": [
    "## Анализ данных\n",
    "\n",
    "### Изменение концентрации металлов (Au, Ag, Pb) на различных этапах очистки.\n",
    "rougher, primary_cleaner, secondary_cleaner, final\n",
    "\n",
    "Концентрация Au:"
   ]
  },
  {
   "cell_type": "code",
   "execution_count": 41,
   "metadata": {},
   "outputs": [
    {
     "data": {
      "text/plain": [
       "<matplotlib.legend.Legend at 0x7f20c8aea310>"
      ]
     },
     "execution_count": 41,
     "metadata": {},
     "output_type": "execute_result"
    },
    {
     "data": {
      "image/png": "[encoded data removed]",
      "text/plain": [
       "<Figure size 864x288 with 1 Axes>"
      ]
     },
     "metadata": {
      "needs_background": "light"
     },
     "output_type": "display_data"
    }
   ],
   "source": [
    "#rougher.output.concentrate_au, 'rougher.output.concentrate_pb', 'rougher.output.concentrate_ag'\n",
    "#концентрация золота\n",
    "plt.figure(figsize=(12, 4))\n",
    "plt.hist(data_all['rougher.input.feed_au'], alpha=0.5, bins=100)\n",
    "plt.hist(data_all['rougher.output.concentrate_au'], alpha=0.5, bins=100)\n",
    "\n",
    "plt.hist(data_all[['primary_cleaner.output.concentrate_au']], alpha=0.5, bins=100)\n",
    "plt.hist(data_all[['final.output.concentrate_au']], alpha=0.5, bins=100)\n",
    "#plt.show()\n",
    "#plt.legend(labels=['флотация', 'первичная очистка', 'финальная очистка'])\n",
    "plt.legend(labels=['исходное сырье', 'флотация',\n",
    "                   'первичная очистка', 'финальная очистка'])"
   ]
  },
  {
   "cell_type": "code",
   "execution_count": 42,
   "metadata": {},
   "outputs": [],
   "source": [
    "#удаление выьрасов в общей таблице\n",
    "data_all = data_all[data_all['rougher.input.feed_au']>1]\n",
    "data_all = data_all[data_all['rougher.output.concentrate_au']>0.1]\n",
    "data_all = data_all[data_all['primary_cleaner.output.concentrate_au']>0.1]\n",
    "data_all = data_all[data_all['final.output.concentrate_au']>0.1]\n",
    "\n",
    "#удаление выбростов в сводных таблицах\n",
    "data_tr = data_tr[data_tr['rougher.input.feed_au']>1]\n",
    "data_test = data_test[data_test['rougher.input.feed_au']>1]"
   ]
  },
  {
   "cell_type": "code",
   "execution_count": 43,
   "metadata": {},
   "outputs": [
    {
     "data": {
      "text/plain": [
       "<matplotlib.legend.Legend at 0x7f20b9cebfd0>"
      ]
     },
     "execution_count": 43,
     "metadata": {},
     "output_type": "execute_result"
    },
    {
     "data": {
      "image/png": "[encoded data removed]",
      "text/plain": [
       "<Figure size 864x288 with 1 Axes>"
      ]
     },
     "metadata": {
      "needs_background": "light"
     },
     "output_type": "display_data"
    }
   ],
   "source": [
    "#'primary_cleaner.output.concentrate_ag', 'primary_cleaner.output.concentrate_pb', 'primary_cleaner.output.concentrate_au'\n",
    "\n",
    "plt.figure(figsize=(12, 4))\n",
    "plt.title(\"серебро\")\n",
    "plt.hist(data_all['rougher.input.feed_ag'], alpha=0.5, bins=100)\n",
    "\n",
    "plt.hist(data_all['rougher.output.concentrate_ag'], alpha=0.5, bins=100)\n",
    "plt.hist(data_all[['primary_cleaner.output.concentrate_ag']], alpha=0.5, bins=100)\n",
    "plt.hist(data_all[['final.output.concentrate_ag']], alpha=0.5, bins=100)\n",
    "\n",
    "plt.legend(labels=['исходное сырье', \n",
    "                   'флотация', 'первичная очистка', 'финальная очистка'])"
   ]
  },
  {
   "cell_type": "code",
   "execution_count": 44,
   "metadata": {},
   "outputs": [
    {
     "data": {
      "text/plain": [
       "<matplotlib.legend.Legend at 0x7f20b9a3aca0>"
      ]
     },
     "execution_count": 44,
     "metadata": {},
     "output_type": "execute_result"
    },
    {
     "data": {
      "image/png": "[encoded data removed]",
      "text/plain": [
       "<Figure size 864x288 with 1 Axes>"
      ]
     },
     "metadata": {
      "needs_background": "light"
     },
     "output_type": "display_data"
    }
   ],
   "source": [
    "#'final.output.concentrate_ag', 'final.output.concentrate_pb', 'final.output.concentrate_au'\n",
    "\n",
    "plt.figure(figsize=(12, 4))\n",
    "plt.title(\"cвинец\") \n",
    "plt.hist(data_all['rougher.input.feed_pb'], alpha=0.5, bins=100)\n",
    "\n",
    "plt.hist(data_all['rougher.output.concentrate_pb'], alpha=0.5, bins=100)\n",
    "plt.hist(data_all[['primary_cleaner.output.concentrate_pb']], alpha=0.5, bins=100)\n",
    "plt.hist(data_all[['final.output.concentrate_pb']], alpha=0.5, bins=100)\n",
    "\n",
    "plt.legend(labels=['исходное сырье',\n",
    "                   'флотация', 'первичная очистка', 'финальная очистка'])"
   ]
  },
  {
   "cell_type": "markdown",
   "metadata": {},
   "source": [
    "**Вывод:** \n",
    "- Первый график показывает, как изменяться концентрация золота с глубиной отчистки. Чем если смотреть в общем чем глубже обработка чем выше концентрация золота, производство работает корректно. \n",
    "- На 2 графике отображена концентрация серебра. После всех обработок самое большое содержание серебра, а на прошлых  стадиях меньше. Данный метал необходимо тоже извлекать, так что все тут тоже хорошо.\n",
    "- А вот последний график весьма неоднозначный. После стадии флотации содержится меньше свинца, а потом его концентрация возрастает, на последующих обработках. Выдвину предположение что свинец содержится в реактивах и после первичной и 2-ой обработки его концентрация возрастает. \n"
   ]
  },
  {
   "cell_type": "markdown",
   "metadata": {},
   "source": [
    "### Сравним распределения размеров гранул сырья на обучающей и тестовой выборках. \n",
    "Если распределения сильно отличаются друг от друга, оценка модели будет неправильной\n"
   ]
  },
  {
   "cell_type": "markdown",
   "metadata": {},
   "source": [
    "**После флотации:**"
   ]
  },
  {
   "cell_type": "code",
   "execution_count": 45,
   "metadata": {},
   "outputs": [
    {
     "data": {
      "text/plain": [
       "Text(0.5, 1.0, 'Размер гранул после флотации')"
      ]
     },
     "execution_count": 45,
     "metadata": {},
     "output_type": "execute_result"
    },
    {
     "data": {
      "image/png": "[encoded data removed]",
      "text/plain": [
       "<Figure size 648x360 with 1 Axes>"
      ]
     },
     "metadata": {
      "needs_background": "light"
     },
     "output_type": "display_data"
    }
   ],
   "source": [
    "plt.figure(figsize=(9, 5))\n",
    "\n",
    "plt.hist(data_tr[['rougher.input.feed_size']], alpha=0.5, bins=50, density=True)\n",
    "plt.hist(data_test[['rougher.input.feed_size']], alpha=0.5, bins=50, density=True)\n",
    "plt.legend(labels=['Тренировочная выборка', \n",
    "                   'Тестовая выборка'])\n",
    "\n",
    "plt.title(\"Размер гранул после флотации\") "
   ]
  },
  {
   "cell_type": "code",
   "execution_count": 46,
   "metadata": {},
   "outputs": [
    {
     "data": {
      "text/plain": [
       "58.822718430241856"
      ]
     },
     "execution_count": 46,
     "metadata": {},
     "output_type": "execute_result"
    }
   ],
   "source": [
    "data_tr['rougher.input.feed_size'].mean()"
   ]
  },
  {
   "cell_type": "code",
   "execution_count": 47,
   "metadata": {},
   "outputs": [],
   "source": [
    "data_test = data_test[data_test['rougher.input.feed_size'] < 150]\n",
    "data_tr = data_tr[data_tr['rougher.input.feed_size'] < 150]\n",
    "\n",
    "data_test = data_test[data_test['rougher.input.feed_size'] > 25]\n",
    "data_tr = data_tr[data_tr['rougher.input.feed_size'] > 25]"
   ]
  },
  {
   "cell_type": "code",
   "execution_count": 48,
   "metadata": {},
   "outputs": [
    {
     "name": "stdout",
     "output_type": "stream",
     "text": [
      "Обучающая выборка размер гнанул после флотации, среднее: 58.822718430241856\n",
      "Тестовая выборка размер гнанул после флотации, среднее: 55.447402783838385\n"
     ]
    }
   ],
   "source": [
    "print('Обучающая выборка размер гнанул после флотации, среднее:', data_tr['rougher.input.feed_size'].mean())\n",
    "print('Тестовая выборка размер гнанул после флотации, среднее:', data_test['rougher.input.feed_size'].mean())"
   ]
  },
  {
   "cell_type": "markdown",
   "metadata": {},
   "source": [
    "Обучающая выборка содержала приличное количество выбросов пришлось их убрать. Диапозон размаха стал примерно одинаковым"
   ]
  },
  {
   "cell_type": "markdown",
   "metadata": {},
   "source": [
    "**После первичной обработки:**"
   ]
  },
  {
   "cell_type": "code",
   "execution_count": 49,
   "metadata": {},
   "outputs": [
    {
     "data": {
      "text/plain": [
       "Text(0.5, 1.0, 'Размер гранул после первичной обработки')"
      ]
     },
     "execution_count": 49,
     "metadata": {},
     "output_type": "execute_result"
    },
    {
     "data": {
      "image/png": "[encoded data removed]",
      "text/plain": [
       "<Figure size 648x360 with 1 Axes>"
      ]
     },
     "metadata": {
      "needs_background": "light"
     },
     "output_type": "display_data"
    }
   ],
   "source": [
    "plt.figure(figsize=(9, 5))\n",
    "\n",
    "plt.hist(data_tr[['primary_cleaner.input.feed_size']], alpha=0.5, bins=50, density=True)\n",
    "plt.hist(data_test[['primary_cleaner.input.feed_size']], alpha=0.5, bins=50, density=True)\n",
    "\n",
    "plt.legend(labels=['Тренировочная выборка', 'Тестовая выборка'])\n",
    "plt.title(\"Размер гранул после первичной обработки\") "
   ]
  },
  {
   "cell_type": "code",
   "execution_count": 50,
   "metadata": {},
   "outputs": [],
   "source": [
    "data_test = data_test[data_test['primary_cleaner.input.feed_size'] < 9]\n",
    "data_tr = data_tr[data_tr['primary_cleaner.input.feed_size'] < 9]"
   ]
  },
  {
   "cell_type": "code",
   "execution_count": 51,
   "metadata": {},
   "outputs": [
    {
     "name": "stdout",
     "output_type": "stream",
     "text": [
      "Обучающая выборка размер гнанул после первичной обработки, среднее: 7.325574602099285\n",
      "Тестовая выборка размер гнанул после первичной обработки, среднее: 7.250638998599682\n",
      "\n",
      "Hазмег гранул в 2-х дата сетах практических схож.\n"
     ]
    }
   ],
   "source": [
    "print('Обучающая выборка размер гнанул после первичной обработки, среднее:', data_tr['primary_cleaner.input.feed_size'].mean())\n",
    "print('Тестовая выборка размер гнанул после первичной обработки, среднее:', data_test['primary_cleaner.input.feed_size'].mean())\n",
    "print()\n",
    "print('Hазмег гранул в 2-х дата сетах практических схож.')"
   ]
  },
  {
   "cell_type": "markdown",
   "metadata": {},
   "source": [
    "**Вывод** диапазон разброса во всех выборках практически схож "
   ]
  },
  {
   "cell_type": "markdown",
   "metadata": {},
   "source": [
    "### Cуммарная концентрация всех веществ на разных стадиях\n",
    "\n",
    "Не совсем понял что имееться в виду под \"суммарной концентрацией веществ\". Но посчитаю суммирую концентрацию каждого из металлов на разных стадиях производства. Как общую концентрацию (хотя очень сомневаюсь, что это нужно), и посмотрю среднее. \n",
    "\n",
    "В сырье, в черновом и финальном концентратах"
   ]
  },
  {
   "cell_type": "code",
   "execution_count": 52,
   "metadata": {},
   "outputs": [],
   "source": [
    "#все вещества\n",
    "n_rougher_input = ['rougher.input.feed_ag', 'rougher.input.feed_pb', 'rougher.input.feed_sol', 'rougher.input.feed_au']\n",
    "n_rougher = ['rougher.output.concentrate_ag', 'rougher.output.concentrate_pb', 'rougher.output.concentrate_sol', 'rougher.output.concentrate_au']\n",
    "#n_primary_cleaner = ['primary_cleaner.output.concentrate_ag', 'primary_cleaner.output.concentrate_pb', 'primary_cleaner.output.concentrate_sol', 'primary_cleaner.output.concentrate_au']\n",
    "n_final = ['final.output.concentrate_ag', 'final.output.concentrate_pb', 'final.output.concentrate_sol', 'final.output.concentrate_au']"
   ]
  },
  {
   "cell_type": "code",
   "execution_count": 53,
   "metadata": {},
   "outputs": [
    {
     "name": "stdout",
     "output_type": "stream",
     "text": [
      "сырье\n",
      "Cумма концентрации: 1059838.6621850957 \n",
      "Средняя концентрация: 14.355510946864275\n",
      "черновой концентрат\n",
      "Cумма концентрации: 1284974.6617861346 \n",
      "Средняя концентрация: 17.404977268599104\n",
      "финальнфй концентрат\n",
      "Cумма концентрации: 1275286.9664281316 \n",
      "Средняя концентрация: 17.2737574690921\n"
     ]
    }
   ],
   "source": [
    "print('сырье')\n",
    "print('Cумма концентрации:', data_all[n_rougher_input].sum().sum(), \n",
    "      '\\nСредняя концентрация:', data_all[n_rougher_input].mean().mean())\n",
    "\n",
    "print('черновой концентрат')\n",
    "print('Cумма концентрации:', data_all[n_rougher].sum().sum(), \n",
    "      '\\nСредняя концентрация:', data_all[n_rougher].mean().mean())\n",
    "\n",
    "print('финальнфй концентрат')\n",
    "print('Cумма концентрации:', data_all[n_final].sum().sum(),\n",
    "      '\\nСредняя концентрация:', data_all[n_final].mean().mean())"
   ]
  },
  {
   "cell_type": "markdown",
   "metadata": {},
   "source": [
    "**Вывод:** Концентрация после каждой обработки всех веществ возрастает чтоже самое происходит и со средней концентрацией"
   ]
  },
  {
   "cell_type": "markdown",
   "metadata": {},
   "source": [
    "## Модель\n",
    "\n",
    "#### Разделение датасетов на признаки и 2 целевых показателя"
   ]
  },
  {
   "cell_type": "code",
   "execution_count": 54,
   "metadata": {},
   "outputs": [
    {
     "data": {
      "text/plain": [
       "((13845, 55), (5205, 55))"
      ]
     },
     "execution_count": 54,
     "metadata": {},
     "output_type": "execute_result"
    }
   ],
   "source": [
    "data_tr.shape, data_test.shape"
   ]
  },
  {
   "cell_type": "code",
   "execution_count": 55,
   "metadata": {},
   "outputs": [],
   "source": [
    "#первое предсказание:\n",
    "data_tr_fetures_1 = data_tr.drop(['rougher.output.recovery', 'final.output.recovery', 'date'], axis=1)\n",
    "data_tr_target_1 = data_tr['rougher.output.recovery']\n",
    "\n",
    "data_test_fetures_1 = data_test.drop(['rougher.output.recovery', 'final.output.recovery', 'date'], axis=1)\n",
    "data_test_target_1 = data_test['rougher.output.recovery']\n",
    "\n",
    "#второе предсказание\n",
    "data_tr_fetures_2 = data_tr.drop(['final.output.recovery', 'date'], axis=1)\n",
    "data_tr_target_2 = data_tr['final.output.recovery']\n",
    "\n",
    "data_test_fetures_2 = data_test.drop(['final.output.recovery', 'date'], axis=1)\n",
    "data_test_target_2 = data_test['final.output.recovery']"
   ]
  },
  {
   "cell_type": "markdown",
   "metadata": {},
   "source": [
    "#### Стандартизация фитчей\n",
    "Необходимо масштабировать все наши фитчи перед тем, как строить модель. Данные у нас уже разделены на обучающую и тестовую выборку."
   ]
  },
  {
   "cell_type": "code",
   "execution_count": 56,
   "metadata": {},
   "outputs": [],
   "source": [
    "#устранение конфликта sklearn и pandas\n",
    "pd.options.mode.chained_assignment = None\n",
    "\n",
    "#1\n",
    "scaler_1 = StandardScaler()\n",
    "scaler_1.fit(data_tr_fetures_1)\n",
    "\n",
    "data_tr_fetures_1 = scaler_1.transform(data_tr_fetures_1)\n",
    "data_test_fetures_1 = scaler_1.transform(data_test_fetures_1)\n",
    "\n",
    "#2\n",
    "scaler_2 = StandardScaler()\n",
    "scaler_2.fit(data_tr_fetures_2)\n",
    "\n",
    "data_tr_fetures_2 = scaler_2.transform(data_tr_fetures_2)\n",
    "data_test_fetures_2 = scaler_2.transform(data_test_fetures_2)"
   ]
  },
  {
   "cell_type": "markdown",
   "metadata": {},
   "source": [
    "### Функция для вычисления итоговой sMAPE"
   ]
  },
  {
   "cell_type": "code",
   "execution_count": null,
   "metadata": {},
   "outputs": [],
   "source": [
    "def smape(target, predict):\n",
    "    return 100/len(target) * sum(2* abs(target-predict) / (abs(target)+ abs(predict)))"
   ]
  },
  {
   "cell_type": "code",
   "execution_count": null,
   "metadata": {},
   "outputs": [],
   "source": [
    "#функция для константной метрики качества \n",
    "def smape_const(target):\n",
    "    return 100/len(target) * sum(abs(target) / (abs(target)))"
   ]
  },
  {
   "cell_type": "markdown",
   "metadata": {},
   "source": [
    "### GridSearchCV, RandomForestRegressor\n",
    "#### Обучение модели для чернового концентрата\n",
    "P.S. Об этих зарешёченных джунглях будет упоминание в выводе "
   ]
  },
  {
   "cell_type": "code",
   "execution_count": null,
   "metadata": {},
   "outputs": [],
   "source": [
    "data_test = data_test.reset_index(drop=True)\n",
    "data_tr = data_tr.reset_index(drop=True)"
   ]
  },
  {
   "cell_type": "code",
   "execution_count": null,
   "metadata": {},
   "outputs": [],
   "source": [
    "x_rougher = ['rougher.input.feed_ag', 'rougher.input.feed_pb', 'rougher.input.feed_rate',\n",
    "       'rougher.input.feed_size', 'rougher.input.feed_sol',\n",
    "       'rougher.input.feed_au', 'rougher.input.floatbank10_sulfate',\n",
    "       'rougher.input.floatbank10_xanthate', 'rougher.input.floatbank11_sulfate',\n",
    "       'rougher.input.floatbank11_xanthate', 'rougher.state.floatbank10_a_air',\n",
    "       'rougher.state.floatbank10_a_level', 'rougher.state.floatbank10_b_air',\n",
    "       'rougher.state.floatbank10_b_level', 'rougher.state.floatbank10_c_air',\n",
    "       'rougher.state.floatbank10_c_level', 'rougher.state.floatbank10_d_air',\n",
    "       'rougher.state.floatbank10_d_level', 'rougher.state.floatbank10_e_air',\n",
    "       'rougher.state.floatbank10_e_level', 'rougher.state.floatbank10_f_air',\n",
    "       'rougher.state.floatbank10_f_level']\n",
    "\n",
    "y_rougher = ['rougher.output.recovery']"
   ]
  },
  {
   "cell_type": "code",
   "execution_count": null,
   "metadata": {
    "scrolled": true
   },
   "outputs": [],
   "source": [
    "model = RandomForestRegressor(random_state=123)\n",
    "\n",
    "scorer = make_scorer(mean_squared_error, greater_is_better=False)\n",
    "\n",
    "parametrs = { 'n_estimators': [100, 150],\n",
    "             'max_depth': [10, 15, None]}\n",
    "\n",
    "grid_rfr = GridSearchCV(model, parametrs, verbose=3, scoring=scorer, cv=3)\n",
    "grid_rfr.fit(data_tr[x_rougher], data_tr[y_rougher])"
   ]
  },
  {
   "cell_type": "code",
   "execution_count": null,
   "metadata": {},
   "outputs": [],
   "source": [
    "#model_1_predict\n",
    "grid_rfr.best_estimator_.predict(data_test[x_rougher])"
   ]
  },
  {
   "cell_type": "code",
   "execution_count": null,
   "metadata": {},
   "outputs": [],
   "source": [
    "#создание таблицы с предсказанием и таргетом\n",
    "\n",
    "data_predict_rougher = pd.DataFrame({'predict_rougher':grid_rfr.best_estimator_.predict(data_test[x_rougher])})\n",
    "len(data_predict_rougher)"
   ]
  },
  {
   "cell_type": "code",
   "execution_count": null,
   "metadata": {},
   "outputs": [],
   "source": [
    "len(data_test[['rougher.output.recovery']])"
   ]
  },
  {
   "cell_type": "code",
   "execution_count": null,
   "metadata": {},
   "outputs": [],
   "source": [
    "# функция по рассчету rougher \n",
    "smape_rougher_1 = smape(data_test['rougher.output.recovery'], data_predict_rougher['predict_rougher'])\n",
    "smape_rougher_1"
   ]
  },
  {
   "cell_type": "markdown",
   "metadata": {},
   "source": [
    "#### Обучение модели для финального концентрата"
   ]
  },
  {
   "cell_type": "code",
   "execution_count": null,
   "metadata": {},
   "outputs": [],
   "source": [
    "#обзор фичей\n",
    "x_final = ['primary_cleaner.input.sulfate',\n",
    "       'primary_cleaner.input.depressant', 'primary_cleaner.input.feed_size',\n",
    "       'primary_cleaner.input.xanthate',\n",
    "       'primary_cleaner.state.floatbank8_a_air',\n",
    "       'primary_cleaner.state.floatbank8_a_level',\n",
    "       'primary_cleaner.state.floatbank8_b_air',\n",
    "       'primary_cleaner.state.floatbank8_b_level',\n",
    "       'primary_cleaner.state.floatbank8_c_air',\n",
    "       'primary_cleaner.state.floatbank8_c_level',\n",
    "       'primary_cleaner.state.floatbank8_d_air',\n",
    "       'primary_cleaner.state.floatbank8_d_level', 'rougher.input.feed_ag',\n",
    "       'rougher.input.feed_pb', 'rougher.input.feed_rate',\n",
    "       'rougher.input.feed_size', 'rougher.input.feed_sol',\n",
    "       'rougher.input.feed_au', 'rougher.input.floatbank10_sulfate',\n",
    "       'rougher.input.floatbank10_xanthate',\n",
    "       'rougher.input.floatbank11_sulfate',\n",
    "       'rougher.input.floatbank11_xanthate', 'rougher.state.floatbank10_a_air',\n",
    "       'rougher.state.floatbank10_a_level', 'rougher.state.floatbank10_b_air',\n",
    "       'rougher.state.floatbank10_b_level', 'rougher.state.floatbank10_c_air',\n",
    "       'rougher.state.floatbank10_c_level', 'rougher.state.floatbank10_d_air',\n",
    "       'rougher.state.floatbank10_d_level', 'rougher.state.floatbank10_e_air',\n",
    "       'rougher.state.floatbank10_e_level', 'rougher.state.floatbank10_f_air',\n",
    "       'rougher.state.floatbank10_f_level',\n",
    "       'secondary_cleaner.state.floatbank2_a_air',\n",
    "       'secondary_cleaner.state.floatbank2_a_level',\n",
    "       'secondary_cleaner.state.floatbank2_b_air',\n",
    "       'secondary_cleaner.state.floatbank2_b_level',\n",
    "       'secondary_cleaner.state.floatbank3_a_air',\n",
    "       'secondary_cleaner.state.floatbank3_a_level',\n",
    "       'secondary_cleaner.state.floatbank3_b_air',\n",
    "       'secondary_cleaner.state.floatbank3_b_level',\n",
    "       'secondary_cleaner.state.floatbank4_a_air',\n",
    "       'secondary_cleaner.state.floatbank4_a_level',\n",
    "       'secondary_cleaner.state.floatbank4_b_air',\n",
    "       'secondary_cleaner.state.floatbank4_b_level',\n",
    "       'secondary_cleaner.state.floatbank5_a_air',\n",
    "       'secondary_cleaner.state.floatbank5_a_level',\n",
    "       'secondary_cleaner.state.floatbank5_b_air',\n",
    "       'secondary_cleaner.state.floatbank5_b_level',\n",
    "       'secondary_cleaner.state.floatbank6_a_air',\n",
    "       'secondary_cleaner.state.floatbank6_a_level']\n",
    "\n",
    "y_final = ['final.output.recovery']"
   ]
  },
  {
   "cell_type": "code",
   "execution_count": null,
   "metadata": {},
   "outputs": [],
   "source": [
    "model_GS = RandomForestRegressor(random_state=123)\n",
    "\n",
    "scorer = make_scorer(mean_squared_error, greater_is_better=False)\n",
    "\n",
    "parametrs = { 'n_estimators': [100, 150],\n",
    "             'max_depth': [10, 15, None]}\n",
    "\n",
    "grid_rfr_2 = GridSearchCV(model_GS, parametrs, verbose=3, scoring=scorer, cv=3)\n",
    "grid_rfr_2.fit(data_tr[x_final], data_tr[y_final])"
   ]
  },
  {
   "cell_type": "code",
   "execution_count": null,
   "metadata": {},
   "outputs": [],
   "source": [
    "grid_rfr_2.best_estimator_.predict(data_test[x_final])"
   ]
  },
  {
   "cell_type": "code",
   "execution_count": null,
   "metadata": {},
   "outputs": [],
   "source": [
    "#создание таблицы\n",
    "data_predict_final = pd.DataFrame({'predict_final':grid_rfr_2.best_estimator_.predict(data_test[x_final])})\n",
    "data_predict_final.head()"
   ]
  },
  {
   "cell_type": "code",
   "execution_count": null,
   "metadata": {},
   "outputs": [],
   "source": [
    "#таргет\n",
    "data_test['final.output.recovery'].head()"
   ]
  },
  {
   "cell_type": "code",
   "execution_count": null,
   "metadata": {},
   "outputs": [],
   "source": [
    "# функция по рассчету final\n",
    "smape_final_1 = smape(data_test['final.output.recovery'], data_predict_final['predict_final'])\n",
    "smape_final_1"
   ]
  },
  {
   "cell_type": "markdown",
   "metadata": {},
   "source": [
    "### Итоговая sMAPE RandomForestRegressor"
   ]
  },
  {
   "cell_type": "code",
   "execution_count": null,
   "metadata": {},
   "outputs": [],
   "source": [
    "pred_rougher_2 = pd.Series([data_test['rougher.output.recovery'].median()] * len(data_test))\n",
    "pred_final_2 = pd.Series([data_test['final.output.recovery'].median()] * len(data_test))\n",
    "\n",
    "#констатнтная метрика функция для нее\n",
    "0.25 * smape(data_test['rougher.output.recovery'], pred_rougher_2) + 0.75 * smape(data_test['final.output.recovery'], pred_final_2)"
   ]
  },
  {
   "cell_type": "code",
   "execution_count": null,
   "metadata": {},
   "outputs": [],
   "source": [
    "#предсказанная\n",
    "0.25 * smape_rougher_1 + 0.75 * smape_final_1"
   ]
  },
  {
   "cell_type": "markdown",
   "metadata": {},
   "source": [
    "### Catboost\n",
    "#### Эффективность обогащения чернового концентрата "
   ]
  },
  {
   "cell_type": "code",
   "execution_count": null,
   "metadata": {},
   "outputs": [],
   "source": [
    "#обор фичей\n",
    "x_rougher, y_rougher"
   ]
  },
  {
   "cell_type": "code",
   "execution_count": null,
   "metadata": {},
   "outputs": [],
   "source": [
    "#перебор гипер параметров Cat\n",
    "model_Cat = CatBoostRegressor(random_state=123)\n",
    "\n",
    "scorer = make_scorer(mean_squared_error, greater_is_better=False)\n",
    "\n",
    "parametrs = {'eval_metric': ['SMAPE'],\n",
    "             'loss_function': ['RMSE'],\n",
    "             'learning_rate': [0.2],#сдвиг точки переобучения \n",
    "             'depth': [4, 6, 8],\n",
    "             #'random_seed': 2007,\n",
    "             'verbose':[100]}\n",
    "\n",
    "grid_cat = GridSearchCV(estimator=model_Cat, param_grid=parametrs, verbose=3, scoring=scorer, cv=3)\n",
    "grid_cat.fit(data_tr[x_rougher], data_tr[y_rougher])"
   ]
  },
  {
   "cell_type": "code",
   "execution_count": null,
   "metadata": {},
   "outputs": [],
   "source": [
    "best_cat = grid_cat.best_params_\n",
    "best_cat"
   ]
  },
  {
   "cell_type": "code",
   "execution_count": null,
   "metadata": {},
   "outputs": [],
   "source": [
    "#best_cat = {'depth': 8,\n",
    "#            'eval_metric': 'SMAPE',\n",
    "#            'learning_rate': 0.20,\n",
    "#            'loss_function': 'RMSE',\n",
    "#            'verbose': 100} #ответ"
   ]
  },
  {
   "cell_type": "code",
   "execution_count": null,
   "metadata": {},
   "outputs": [],
   "source": [
    "train_tr_rougher = Pool(data=data_tr[x_rougher], \n",
    "                          label=data_tr[y_rougher])\n",
    "\n",
    "predict_test_rougher = Pool(data=data_test[x_rougher],\n",
    "                         label=data_test[y_rougher])"
   ]
  },
  {
   "cell_type": "code",
   "execution_count": null,
   "metadata": {},
   "outputs": [],
   "source": [
    "#проверка отсутствия переобучения\n",
    "cv_data = cv(params = best_cat,\n",
    "             pool = train_tr_rougher,\n",
    "             fold_count=3,\n",
    "             shuffle=True,\n",
    "             partition_random_seed=0,\n",
    "             stratified=False,\n",
    "             verbose=False,\n",
    "             early_stopping_rounds=200)"
   ]
  },
  {
   "cell_type": "code",
   "execution_count": null,
   "metadata": {},
   "outputs": [],
   "source": [
    "#добавление предсказаний в таблицу \n",
    "data_test['rougher.output.recovery_predict'] = grid_cat.best_estimator_.predict(predict_test_rougher)"
   ]
  },
  {
   "cell_type": "code",
   "execution_count": null,
   "metadata": {},
   "outputs": [],
   "source": [
    "#проверка работы функции\n",
    "smape_rougher = smape(data_test['rougher.output.recovery'], data_test['rougher.output.recovery_predict'])"
   ]
  },
  {
   "cell_type": "code",
   "execution_count": null,
   "metadata": {},
   "outputs": [],
   "source": [
    "smape_rougher"
   ]
  },
  {
   "cell_type": "markdown",
   "metadata": {},
   "source": [
    "#### Эффективность обогащения финального концентрата"
   ]
  },
  {
   "cell_type": "code",
   "execution_count": null,
   "metadata": {},
   "outputs": [],
   "source": [
    "# обзор фичей\n",
    "x_final, y_final"
   ]
  },
  {
   "cell_type": "code",
   "execution_count": null,
   "metadata": {},
   "outputs": [],
   "source": [
    "train_tr_final = Pool(data=data_tr[x_final], \n",
    "                          label=data_tr[y_final])\n",
    "\n",
    "predict_test_final = Pool(data=data_test[x_final],\n",
    "                         label=data_test[y_final])"
   ]
  },
  {
   "cell_type": "code",
   "execution_count": null,
   "metadata": {},
   "outputs": [],
   "source": [
    "#перебор гипер параметров Cat\n",
    "model_Cat = CatBoostRegressor(random_state=123)\n",
    "\n",
    "scorer = make_scorer(mean_squared_error, greater_is_better=False)\n",
    "\n",
    "parametrs = {'eval_metric': ['SMAPE'],\n",
    "             'loss_function': ['RMSE'],\n",
    "             'learning_rate': [0.2],#сдвиг точки переобучения \n",
    "             'depth': [4, 6, 8],\n",
    "             'verbose':[100]}\n",
    "\n",
    "grid_cat_2 = GridSearchCV(estimator=model_Cat, param_grid=parametrs, verbose=3, scoring=scorer, cv=3)\n",
    "grid_cat_2.fit(data_tr[x_final], data_tr[y_final])"
   ]
  },
  {
   "cell_type": "code",
   "execution_count": null,
   "metadata": {},
   "outputs": [],
   "source": [
    "best_cat_2 = grid_cat_2.best_params_\n",
    "best_cat_2"
   ]
  },
  {
   "cell_type": "code",
   "execution_count": null,
   "metadata": {},
   "outputs": [],
   "source": [
    "#контрольный вывод параметров\n",
    "#best_cat_2 = {'depth': 8,\n",
    "#              'eval_metric': 'SMAPE',\n",
    "#              'learning_rate': 0.25,\n",
    "#              'loss_function': 'RMSE',\n",
    "#              'verbose': 100} #ответ"
   ]
  },
  {
   "cell_type": "code",
   "execution_count": null,
   "metadata": {},
   "outputs": [],
   "source": [
    "#проверка отсутствия переобучения\n",
    "cv_data = cv(params = best_cat_2,\n",
    "             pool = train_tr_final,\n",
    "             fold_count=3,\n",
    "             shuffle=True,\n",
    "             partition_random_seed=0,\n",
    "             stratified=False,\n",
    "             verbose=False,\n",
    "             early_stopping_rounds=200)"
   ]
  },
  {
   "cell_type": "code",
   "execution_count": null,
   "metadata": {},
   "outputs": [],
   "source": [
    "#добавление предсказаний в таблицу\n",
    "data_test['final.output.recovery_predict'] = grid_cat_2.best_estimator_.predict(predict_test_final)"
   ]
  },
  {
   "cell_type": "code",
   "execution_count": null,
   "metadata": {},
   "outputs": [],
   "source": [
    "smape_final = smape(data_test['final.output.recovery'], data_test['final.output.recovery_predict'])"
   ]
  },
  {
   "cell_type": "code",
   "execution_count": null,
   "metadata": {},
   "outputs": [],
   "source": [
    "smape_final"
   ]
  },
  {
   "cell_type": "markdown",
   "metadata": {},
   "source": [
    "### Итоговая sMAPE для CatBoostRegressor"
   ]
  },
  {
   "cell_type": "code",
   "execution_count": null,
   "metadata": {},
   "outputs": [],
   "source": [
    "pred_rougher_2 = pd.Series([data_test['rougher.output.recovery'].median()] * len(data_test))\n",
    "pred_final_2 = pd.Series([data_test['final.output.recovery'].median()] * len(data_test))\n",
    "\n",
    "#констатнтная метрика функция для нее\n",
    "0.25 * smape(data_test['rougher.output.recovery'], pred_rougher_2) + 0.75 * smape(data_test['final.output.recovery'], pred_final_2)"
   ]
  },
  {
   "cell_type": "code",
   "execution_count": null,
   "metadata": {},
   "outputs": [],
   "source": [
    "#предсказанная\n",
    "0.25 * smape_rougher + 0.75 * smape_final"
   ]
  },
  {
   "cell_type": "markdown",
   "metadata": {},
   "source": [
    "**Вывод** \n",
    "\n",
    "Были обучены модели на CatBoostRegressor, до этого так же пытался перебрать гиперпараметры при помощи GridSearchCV для RandomForestRegressor, потом попробовал просто обучить, но все занимало уж очень много времени.\n",
    "\n",
    "Мое железо не вывозило такого объема данных и никакие танцы с бубном не помогли преодолеть результат в 4 ч только для перебора параметров. Код я оставил, но за комментировал это исчадие ада… Я понимаю все-таки одной моделью я не отделаюсь, это понимаю. Поэтому хотелось бы разобраться почему такое долгое обучение или это не дееспособная вещь и ее надо удалить и так больше не делать. \n",
    "\n",
    "Вернемся к великолепной модели CatBoostRegressor. Как уже говорилось модель обучена сделала предсказание, на основании полученных данных рассчитано симметричное среднее абсолютное процентное отклонение для двух стадий производства. И рассчитана итоговая метрика. Как я понимаю данная метрика указывает отклонение от «таргета». Выходит, отклонение составило 22 %. \n",
    "\n"
   ]
  },
  {
   "cell_type": "markdown",
   "metadata": {},
   "source": [
    "## Чек-лист готовности проекта"
   ]
  },
  {
   "cell_type": "markdown",
   "metadata": {},
   "source": [
    "- [x]  Jupyter Notebook открыт\n",
    "- [x]  Весь код выполняется без ошибок\n",
    "- [x]  Ячейки с кодом расположены в порядке выполнения\n",
    "- [x]  Выполнен шаг 1: данные подготовлены\n",
    "    - [x]  Проверена формула вычисления эффективности обогащения\n",
    "    - [x]  Проанализированы признаки, недоступные в тестовой выборке\n",
    "    - [x]  Проведена предобработка данных\n",
    "- [x]  Выполнен шаг 2: данные проанализированы\n",
    "    - [x]  Исследовано изменение концентрации элементов на каждом этапе\n",
    "    - [x]  Проанализированы распределения размеров гранул на обучающей и тестовой выборках\n",
    "    - [x]  Исследованы суммарные концентрации\n",
    "- [x]  Выполнен шаг 3: построена модель прогнозирования\n",
    "    - [x]  Написана функция для вычисления итогового *sMAPE*\n",
    "    - [x]  Обучено и проверено несколько моделей\n",
    "    - [x]  Выбрана лучшая модель, её качество проверено на тестовой выборке"
   ]
  },
  {
   "cell_type": "code",
   "execution_count": null,
   "metadata": {},
   "outputs": [],
   "source": []
  }
 ],
 "metadata": {
  "ExecuteTimeLog": [
   {
    "duration": 443,
    "start_time": "2023-06-09T11:12:25.921Z"
   },
   {
    "duration": 132,
    "start_time": "2023-06-09T11:12:48.957Z"
   },
   {
    "duration": 54,
    "start_time": "2023-06-09T11:13:24.403Z"
   },
   {
    "duration": 92,
    "start_time": "2023-06-09T11:14:45.936Z"
   },
   {
    "duration": 148,
    "start_time": "2023-06-09T11:14:57.663Z"
   },
   {
    "duration": 11,
    "start_time": "2023-06-09T11:15:05.203Z"
   },
   {
    "duration": 49,
    "start_time": "2023-06-09T11:15:38.327Z"
   },
   {
    "duration": 881,
    "start_time": "2023-06-09T11:15:43.076Z"
   },
   {
    "duration": 359,
    "start_time": "2023-06-09T11:15:50.012Z"
   },
   {
    "duration": 357,
    "start_time": "2023-06-09T11:16:07.995Z"
   },
   {
    "duration": 874,
    "start_time": "2023-06-09T11:16:41.958Z"
   },
   {
    "duration": 45,
    "start_time": "2023-06-09T13:24:21.096Z"
   },
   {
    "duration": 361,
    "start_time": "2023-06-09T13:24:25.118Z"
   },
   {
    "duration": 1945,
    "start_time": "2023-06-09T13:24:26.086Z"
   },
   {
    "duration": 325,
    "start_time": "2023-06-09T13:25:14.276Z"
   },
   {
    "duration": 823,
    "start_time": "2023-06-09T13:25:29.905Z"
   },
   {
    "duration": 25,
    "start_time": "2023-06-09T13:26:02.378Z"
   },
   {
    "duration": 15,
    "start_time": "2023-06-09T13:26:19.129Z"
   },
   {
    "duration": 17,
    "start_time": "2023-06-09T13:26:29.035Z"
   },
   {
    "duration": 8,
    "start_time": "2023-06-09T13:29:06.630Z"
   },
   {
    "duration": 7,
    "start_time": "2023-06-09T13:29:20.762Z"
   },
   {
    "duration": 6,
    "start_time": "2023-06-09T13:29:24.492Z"
   },
   {
    "duration": 595,
    "start_time": "2023-06-09T13:29:28.314Z"
   },
   {
    "duration": 6,
    "start_time": "2023-06-09T13:29:28.911Z"
   },
   {
    "duration": 3,
    "start_time": "2023-06-09T13:29:35.013Z"
   },
   {
    "duration": 3,
    "start_time": "2023-06-09T13:30:43.473Z"
   },
   {
    "duration": 3,
    "start_time": "2023-06-09T13:31:14.196Z"
   },
   {
    "duration": 3,
    "start_time": "2023-06-09T13:31:32.450Z"
   },
   {
    "duration": 4,
    "start_time": "2023-06-09T13:31:48.140Z"
   },
   {
    "duration": 20,
    "start_time": "2023-06-09T13:33:56.236Z"
   },
   {
    "duration": 2120,
    "start_time": "2023-06-09T13:40:03.577Z"
   },
   {
    "duration": 4,
    "start_time": "2023-06-09T13:40:08.801Z"
   },
   {
    "duration": 4,
    "start_time": "2023-06-09T13:40:17.379Z"
   },
   {
    "duration": 16,
    "start_time": "2023-06-09T13:40:27.950Z"
   },
   {
    "duration": 621,
    "start_time": "2023-06-09T13:40:54.836Z"
   },
   {
    "duration": 3,
    "start_time": "2023-06-09T13:40:55.459Z"
   },
   {
    "duration": 3,
    "start_time": "2023-06-09T13:40:55.690Z"
   },
   {
    "duration": 18,
    "start_time": "2023-06-09T13:40:56.028Z"
   },
   {
    "duration": 19,
    "start_time": "2023-06-09T13:40:56.241Z"
   },
   {
    "duration": 18,
    "start_time": "2023-06-09T13:41:01.151Z"
   },
   {
    "duration": 394,
    "start_time": "2023-06-09T13:41:08.317Z"
   },
   {
    "duration": 623,
    "start_time": "2023-06-09T13:41:08.713Z"
   },
   {
    "duration": 4,
    "start_time": "2023-06-09T13:41:09.338Z"
   },
   {
    "duration": 25,
    "start_time": "2023-06-09T13:41:09.343Z"
   },
   {
    "duration": 17,
    "start_time": "2023-06-09T13:41:09.370Z"
   },
   {
    "duration": 64,
    "start_time": "2023-06-09T13:41:09.389Z"
   },
   {
    "duration": 31,
    "start_time": "2023-06-09T13:41:24.204Z"
   },
   {
    "duration": 17,
    "start_time": "2023-06-09T14:21:25.699Z"
   },
   {
    "duration": 17,
    "start_time": "2023-06-09T14:21:37.405Z"
   },
   {
    "duration": 13,
    "start_time": "2023-06-09T14:25:13.244Z"
   },
   {
    "duration": 7,
    "start_time": "2023-06-09T14:27:44.069Z"
   },
   {
    "duration": 10,
    "start_time": "2023-06-09T14:28:05.723Z"
   },
   {
    "duration": 11,
    "start_time": "2023-06-09T14:29:04.401Z"
   },
   {
    "duration": 3,
    "start_time": "2023-06-09T14:29:14.658Z"
   },
   {
    "duration": 2599,
    "start_time": "2023-06-09T14:29:38.921Z"
   },
   {
    "duration": 15,
    "start_time": "2023-06-09T14:36:04.201Z"
   },
   {
    "duration": 8,
    "start_time": "2023-06-09T14:36:20.341Z"
   },
   {
    "duration": 24,
    "start_time": "2023-06-09T14:36:31.062Z"
   },
   {
    "duration": 8,
    "start_time": "2023-06-09T14:38:17.527Z"
   },
   {
    "duration": 6,
    "start_time": "2023-06-09T14:38:30.335Z"
   },
   {
    "duration": 7,
    "start_time": "2023-06-09T14:39:13.263Z"
   },
   {
    "duration": 6,
    "start_time": "2023-06-09T14:40:52.722Z"
   },
   {
    "duration": 8,
    "start_time": "2023-06-09T14:41:49.580Z"
   },
   {
    "duration": 22,
    "start_time": "2023-06-09T14:45:35.815Z"
   },
   {
    "duration": 18,
    "start_time": "2023-06-09T14:45:44.388Z"
   },
   {
    "duration": 8,
    "start_time": "2023-06-09T17:37:00.600Z"
   },
   {
    "duration": 5,
    "start_time": "2023-06-09T17:37:25.046Z"
   },
   {
    "duration": 9,
    "start_time": "2023-06-09T17:37:34.582Z"
   },
   {
    "duration": 4,
    "start_time": "2023-06-09T17:37:38.169Z"
   },
   {
    "duration": 4,
    "start_time": "2023-06-09T17:38:39.701Z"
   },
   {
    "duration": 5,
    "start_time": "2023-06-09T17:38:59.563Z"
   },
   {
    "duration": 2,
    "start_time": "2023-06-09T17:39:43.950Z"
   },
   {
    "duration": 7,
    "start_time": "2023-06-09T17:43:19.058Z"
   },
   {
    "duration": 6,
    "start_time": "2023-06-09T17:43:26.086Z"
   },
   {
    "duration": 7,
    "start_time": "2023-06-09T21:40:48.449Z"
   },
   {
    "duration": 7,
    "start_time": "2023-06-09T21:40:54.238Z"
   },
   {
    "duration": 4,
    "start_time": "2023-06-09T21:41:03.230Z"
   },
   {
    "duration": 2,
    "start_time": "2023-06-09T21:41:18.029Z"
   },
   {
    "duration": 3,
    "start_time": "2023-06-09T21:43:00.628Z"
   },
   {
    "duration": 2,
    "start_time": "2023-06-09T21:43:24.280Z"
   },
   {
    "duration": 438,
    "start_time": "2023-06-09T21:44:05.100Z"
   },
   {
    "duration": 2923,
    "start_time": "2023-06-09T21:44:05.540Z"
   },
   {
    "duration": 4,
    "start_time": "2023-06-09T21:44:08.465Z"
   },
   {
    "duration": 108,
    "start_time": "2023-06-09T21:44:08.470Z"
   },
   {
    "duration": 4,
    "start_time": "2023-06-09T21:44:08.579Z"
   },
   {
    "duration": 12,
    "start_time": "2023-06-09T21:44:08.585Z"
   },
   {
    "duration": 19,
    "start_time": "2023-06-09T21:44:08.599Z"
   },
   {
    "duration": 2,
    "start_time": "2023-06-09T21:44:08.620Z"
   },
   {
    "duration": 14,
    "start_time": "2023-06-09T21:44:08.624Z"
   },
   {
    "duration": 4,
    "start_time": "2023-06-09T21:44:08.640Z"
   },
   {
    "duration": 9,
    "start_time": "2023-06-09T21:44:08.645Z"
   },
   {
    "duration": 445,
    "start_time": "2023-06-10T10:33:04.816Z"
   },
   {
    "duration": 3406,
    "start_time": "2023-06-10T10:33:05.264Z"
   },
   {
    "duration": 6,
    "start_time": "2023-06-10T10:33:08.673Z"
   },
   {
    "duration": 37,
    "start_time": "2023-06-10T10:33:08.681Z"
   },
   {
    "duration": 48,
    "start_time": "2023-06-10T10:33:08.720Z"
   },
   {
    "duration": 33,
    "start_time": "2023-06-10T10:33:08.770Z"
   },
   {
    "duration": 40,
    "start_time": "2023-06-10T10:33:08.805Z"
   },
   {
    "duration": 6,
    "start_time": "2023-06-10T10:33:08.849Z"
   },
   {
    "duration": 14,
    "start_time": "2023-06-10T10:33:08.857Z"
   },
   {
    "duration": 9,
    "start_time": "2023-06-10T10:33:08.874Z"
   },
   {
    "duration": 16,
    "start_time": "2023-06-10T10:33:08.885Z"
   },
   {
    "duration": 86,
    "start_time": "2023-06-10T10:33:08.903Z"
   },
   {
    "duration": 6,
    "start_time": "2023-06-10T10:33:26.841Z"
   },
   {
    "duration": 2230,
    "start_time": "2023-06-10T10:33:33.565Z"
   },
   {
    "duration": 4,
    "start_time": "2023-06-10T10:34:03.839Z"
   },
   {
    "duration": 15,
    "start_time": "2023-06-10T10:34:13.050Z"
   },
   {
    "duration": 2,
    "start_time": "2023-06-10T10:34:21.998Z"
   },
   {
    "duration": 5,
    "start_time": "2023-06-10T10:35:52.442Z"
   },
   {
    "duration": 10,
    "start_time": "2023-06-10T10:37:37.773Z"
   },
   {
    "duration": 15,
    "start_time": "2023-06-10T10:37:59.968Z"
   },
   {
    "duration": 12,
    "start_time": "2023-06-10T10:39:09.020Z"
   },
   {
    "duration": 2348,
    "start_time": "2023-06-10T10:39:41.725Z"
   },
   {
    "duration": 1626,
    "start_time": "2023-06-10T10:40:15.239Z"
   },
   {
    "duration": 16,
    "start_time": "2023-06-10T10:40:56.864Z"
   },
   {
    "duration": 14,
    "start_time": "2023-06-10T10:41:00.316Z"
   },
   {
    "duration": 20,
    "start_time": "2023-06-10T10:41:07.108Z"
   },
   {
    "duration": 4,
    "start_time": "2023-06-10T10:41:45.654Z"
   },
   {
    "duration": 357,
    "start_time": "2023-06-10T10:45:38.135Z"
   },
   {
    "duration": 15,
    "start_time": "2023-06-10T10:45:54.736Z"
   },
   {
    "duration": 1903,
    "start_time": "2023-06-10T10:46:08.311Z"
   },
   {
    "duration": 390,
    "start_time": "2023-06-10T10:46:22.552Z"
   },
   {
    "duration": 8,
    "start_time": "2023-06-10T10:50:08.138Z"
   },
   {
    "duration": 336,
    "start_time": "2023-06-10T10:53:19.441Z"
   },
   {
    "duration": 348,
    "start_time": "2023-06-10T10:53:27.416Z"
   },
   {
    "duration": 370,
    "start_time": "2023-06-10T10:53:31.964Z"
   },
   {
    "duration": 367,
    "start_time": "2023-06-10T10:53:42.466Z"
   },
   {
    "duration": 365,
    "start_time": "2023-06-10T10:53:59.530Z"
   },
   {
    "duration": 373,
    "start_time": "2023-06-10T10:54:40.301Z"
   },
   {
    "duration": 359,
    "start_time": "2023-06-10T10:54:47.130Z"
   },
   {
    "duration": 12,
    "start_time": "2023-06-10T10:55:20.174Z"
   },
   {
    "duration": 8,
    "start_time": "2023-06-10T10:55:43.227Z"
   },
   {
    "duration": 355,
    "start_time": "2023-06-10T10:55:50.207Z"
   },
   {
    "duration": 4,
    "start_time": "2023-06-10T10:56:09.935Z"
   },
   {
    "duration": 2,
    "start_time": "2023-06-10T10:56:19.136Z"
   },
   {
    "duration": 387,
    "start_time": "2023-06-10T10:58:19.040Z"
   },
   {
    "duration": 343,
    "start_time": "2023-06-10T10:58:28.206Z"
   },
   {
    "duration": 758,
    "start_time": "2023-06-10T11:02:45.919Z"
   },
   {
    "duration": 3,
    "start_time": "2023-06-10T11:06:51.267Z"
   },
   {
    "duration": 5,
    "start_time": "2023-06-10T11:07:52.038Z"
   },
   {
    "duration": 1455,
    "start_time": "2023-06-10T11:10:09.078Z"
   },
   {
    "duration": 19,
    "start_time": "2023-06-10T11:10:16.150Z"
   },
   {
    "duration": 5,
    "start_time": "2023-06-10T11:10:34.520Z"
   },
   {
    "duration": 2,
    "start_time": "2023-06-10T11:10:42.407Z"
   },
   {
    "duration": 9,
    "start_time": "2023-06-10T11:49:51.743Z"
   },
   {
    "duration": 12,
    "start_time": "2023-06-10T11:50:47.954Z"
   },
   {
    "duration": 2025,
    "start_time": "2023-06-10T11:59:21.535Z"
   },
   {
    "duration": 1745,
    "start_time": "2023-06-10T11:59:27.307Z"
   },
   {
    "duration": 9,
    "start_time": "2023-06-10T11:59:39.454Z"
   },
   {
    "duration": 5,
    "start_time": "2023-06-10T11:59:48.531Z"
   },
   {
    "duration": 28,
    "start_time": "2023-06-10T12:01:00.435Z"
   },
   {
    "duration": 21,
    "start_time": "2023-06-10T12:01:14.731Z"
   },
   {
    "duration": 8,
    "start_time": "2023-06-10T12:05:45.728Z"
   },
   {
    "duration": 26,
    "start_time": "2023-06-10T12:05:53.503Z"
   },
   {
    "duration": 26,
    "start_time": "2023-06-10T12:06:01.961Z"
   },
   {
    "duration": 17,
    "start_time": "2023-06-10T12:08:57.434Z"
   },
   {
    "duration": 20,
    "start_time": "2023-06-10T12:08:57.975Z"
   },
   {
    "duration": 16,
    "start_time": "2023-06-10T12:12:57.253Z"
   },
   {
    "duration": 15,
    "start_time": "2023-06-10T12:14:47.907Z"
   },
   {
    "duration": 21,
    "start_time": "2023-06-10T12:14:49.417Z"
   },
   {
    "duration": 30,
    "start_time": "2023-06-10T12:16:04.925Z"
   },
   {
    "duration": 20,
    "start_time": "2023-06-10T12:16:06.119Z"
   },
   {
    "duration": 27,
    "start_time": "2023-06-10T12:24:07.345Z"
   },
   {
    "duration": 22,
    "start_time": "2023-06-10T12:24:08.063Z"
   },
   {
    "duration": 14,
    "start_time": "2023-06-10T12:29:16.450Z"
   },
   {
    "duration": 12,
    "start_time": "2023-06-10T12:29:38.972Z"
   },
   {
    "duration": 84,
    "start_time": "2023-06-10T12:29:41.307Z"
   },
   {
    "duration": 25,
    "start_time": "2023-06-10T12:29:47.253Z"
   },
   {
    "duration": 12,
    "start_time": "2023-06-10T12:29:54.112Z"
   },
   {
    "duration": 16,
    "start_time": "2023-06-10T12:30:30.630Z"
   },
   {
    "duration": 6,
    "start_time": "2023-06-10T12:31:47.625Z"
   },
   {
    "duration": 1350,
    "start_time": "2023-06-10T12:32:05.711Z"
   },
   {
    "duration": 7,
    "start_time": "2023-06-10T12:32:12.722Z"
   },
   {
    "duration": 21,
    "start_time": "2023-06-10T12:33:02.942Z"
   },
   {
    "duration": 6,
    "start_time": "2023-06-10T12:34:21.877Z"
   },
   {
    "duration": 13,
    "start_time": "2023-06-10T12:34:45.095Z"
   },
   {
    "duration": 28,
    "start_time": "2023-06-10T12:35:05.458Z"
   },
   {
    "duration": 26,
    "start_time": "2023-06-10T12:35:25.231Z"
   },
   {
    "duration": 27,
    "start_time": "2023-06-10T12:35:33.064Z"
   },
   {
    "duration": 26,
    "start_time": "2023-06-10T12:35:56.834Z"
   },
   {
    "duration": 7,
    "start_time": "2023-06-10T12:36:24.148Z"
   },
   {
    "duration": 7,
    "start_time": "2023-06-10T12:36:37.128Z"
   },
   {
    "duration": 5,
    "start_time": "2023-06-10T12:36:59.015Z"
   },
   {
    "duration": 14,
    "start_time": "2023-06-10T12:37:47.273Z"
   },
   {
    "duration": 11,
    "start_time": "2023-06-10T12:37:50.765Z"
   },
   {
    "duration": 14,
    "start_time": "2023-06-10T12:37:51.095Z"
   },
   {
    "duration": 1635,
    "start_time": "2023-06-10T12:38:14.537Z"
   },
   {
    "duration": 1083,
    "start_time": "2023-06-10T12:38:33.031Z"
   },
   {
    "duration": 761,
    "start_time": "2023-06-10T12:38:34.116Z"
   },
   {
    "duration": 6,
    "start_time": "2023-06-10T12:38:34.879Z"
   },
   {
    "duration": 25,
    "start_time": "2023-06-10T12:38:34.887Z"
   },
   {
    "duration": 16,
    "start_time": "2023-06-10T12:38:34.914Z"
   },
   {
    "duration": 20,
    "start_time": "2023-06-10T12:38:34.933Z"
   },
   {
    "duration": 48,
    "start_time": "2023-06-10T12:38:34.955Z"
   },
   {
    "duration": 3,
    "start_time": "2023-06-10T12:38:35.005Z"
   },
   {
    "duration": 16,
    "start_time": "2023-06-10T12:38:35.010Z"
   },
   {
    "duration": 40,
    "start_time": "2023-06-10T12:38:35.028Z"
   },
   {
    "duration": 17,
    "start_time": "2023-06-10T12:38:35.070Z"
   },
   {
    "duration": 422,
    "start_time": "2023-06-10T12:38:35.088Z"
   },
   {
    "duration": 13,
    "start_time": "2023-06-10T12:38:35.512Z"
   },
   {
    "duration": 19,
    "start_time": "2023-06-10T12:38:35.527Z"
   },
   {
    "duration": 1406,
    "start_time": "2023-06-10T12:38:35.548Z"
   },
   {
    "duration": 0,
    "start_time": "2023-06-10T12:38:36.956Z"
   },
   {
    "duration": 29,
    "start_time": "2023-06-10T12:39:22.906Z"
   },
   {
    "duration": 4,
    "start_time": "2023-06-10T12:39:37.549Z"
   },
   {
    "duration": 1417,
    "start_time": "2023-06-10T12:39:49.705Z"
   },
   {
    "duration": 1377,
    "start_time": "2023-06-10T12:39:55.755Z"
   },
   {
    "duration": 7,
    "start_time": "2023-06-10T12:40:01.326Z"
   },
   {
    "duration": 1355,
    "start_time": "2023-06-10T12:40:17.211Z"
   },
   {
    "duration": 14,
    "start_time": "2023-06-10T12:40:22.177Z"
   },
   {
    "duration": 3,
    "start_time": "2023-06-10T12:40:37.603Z"
   },
   {
    "duration": 1444,
    "start_time": "2023-06-10T12:40:46.536Z"
   },
   {
    "duration": 5,
    "start_time": "2023-06-10T12:40:56.388Z"
   },
   {
    "duration": 5,
    "start_time": "2023-06-10T12:41:14.826Z"
   },
   {
    "duration": 2219,
    "start_time": "2023-06-10T12:41:29.076Z"
   },
   {
    "duration": 6,
    "start_time": "2023-06-10T12:42:04.512Z"
   },
   {
    "duration": 4,
    "start_time": "2023-06-10T12:42:26.847Z"
   },
   {
    "duration": 6,
    "start_time": "2023-06-10T12:42:38.080Z"
   },
   {
    "duration": 8,
    "start_time": "2023-06-10T12:43:09.046Z"
   },
   {
    "duration": 12,
    "start_time": "2023-06-10T12:43:42.033Z"
   },
   {
    "duration": 6,
    "start_time": "2023-06-10T12:43:56.776Z"
   },
   {
    "duration": 6,
    "start_time": "2023-06-10T12:44:01.471Z"
   },
   {
    "duration": 11,
    "start_time": "2023-06-10T12:44:04.563Z"
   },
   {
    "duration": 5,
    "start_time": "2023-06-10T12:44:08.806Z"
   },
   {
    "duration": 11,
    "start_time": "2023-06-10T12:44:15.948Z"
   },
   {
    "duration": 111,
    "start_time": "2023-06-10T12:44:40.681Z"
   },
   {
    "duration": 28,
    "start_time": "2023-06-10T12:45:20.536Z"
   },
   {
    "duration": 107,
    "start_time": "2023-06-10T12:46:46.863Z"
   },
   {
    "duration": 112,
    "start_time": "2023-06-10T12:46:53.090Z"
   },
   {
    "duration": 128,
    "start_time": "2023-06-10T12:47:00.639Z"
   },
   {
    "duration": 27,
    "start_time": "2023-06-10T12:48:20.262Z"
   },
   {
    "duration": 1333,
    "start_time": "2023-06-10T12:48:42.238Z"
   },
   {
    "duration": 15,
    "start_time": "2023-06-10T12:49:38.036Z"
   },
   {
    "duration": 131,
    "start_time": "2023-06-10T12:50:21.651Z"
   },
   {
    "duration": 115,
    "start_time": "2023-06-10T12:50:53.519Z"
   },
   {
    "duration": 5,
    "start_time": "2023-06-10T12:52:20.128Z"
   },
   {
    "duration": 5,
    "start_time": "2023-06-10T12:52:46.860Z"
   },
   {
    "duration": 5,
    "start_time": "2023-06-10T12:52:56.271Z"
   },
   {
    "duration": 7,
    "start_time": "2023-06-10T15:01:16.611Z"
   },
   {
    "duration": 4,
    "start_time": "2023-06-10T15:01:24.448Z"
   },
   {
    "duration": 3,
    "start_time": "2023-06-10T15:01:55.857Z"
   },
   {
    "duration": 12,
    "start_time": "2023-06-10T15:02:26.422Z"
   },
   {
    "duration": 3,
    "start_time": "2023-06-10T15:02:32.371Z"
   },
   {
    "duration": 12,
    "start_time": "2023-06-10T15:03:23.353Z"
   },
   {
    "duration": 3,
    "start_time": "2023-06-10T15:04:05.179Z"
   },
   {
    "duration": 98,
    "start_time": "2023-06-10T15:04:25.582Z"
   },
   {
    "duration": 12,
    "start_time": "2023-06-10T15:04:38.764Z"
   },
   {
    "duration": 12,
    "start_time": "2023-06-10T15:06:51.297Z"
   },
   {
    "duration": 3,
    "start_time": "2023-06-10T15:07:30.508Z"
   },
   {
    "duration": 4,
    "start_time": "2023-06-10T15:08:15.053Z"
   },
   {
    "duration": 12,
    "start_time": "2023-06-10T15:08:56.339Z"
   },
   {
    "duration": 24,
    "start_time": "2023-06-10T15:09:47.286Z"
   },
   {
    "duration": 4,
    "start_time": "2023-06-10T15:10:20.150Z"
   },
   {
    "duration": 4,
    "start_time": "2023-06-10T15:10:34.567Z"
   },
   {
    "duration": 2,
    "start_time": "2023-06-10T15:10:47.477Z"
   },
   {
    "duration": 14,
    "start_time": "2023-06-10T15:13:56.007Z"
   },
   {
    "duration": 12,
    "start_time": "2023-06-10T15:14:15.595Z"
   },
   {
    "duration": 16,
    "start_time": "2023-06-10T15:15:33.417Z"
   },
   {
    "duration": 12,
    "start_time": "2023-06-10T15:15:37.586Z"
   },
   {
    "duration": 1023,
    "start_time": "2023-06-10T15:16:23.623Z"
   },
   {
    "duration": 719,
    "start_time": "2023-06-10T15:16:24.648Z"
   },
   {
    "duration": 4,
    "start_time": "2023-06-10T15:16:25.369Z"
   },
   {
    "duration": 16,
    "start_time": "2023-06-10T15:16:25.375Z"
   },
   {
    "duration": 13,
    "start_time": "2023-06-10T15:16:25.392Z"
   },
   {
    "duration": 9,
    "start_time": "2023-06-10T15:16:25.406Z"
   },
   {
    "duration": 25,
    "start_time": "2023-06-10T15:16:25.417Z"
   },
   {
    "duration": 3,
    "start_time": "2023-06-10T15:16:25.443Z"
   },
   {
    "duration": 19,
    "start_time": "2023-06-10T15:16:25.447Z"
   },
   {
    "duration": 5,
    "start_time": "2023-06-10T15:16:25.468Z"
   },
   {
    "duration": 6,
    "start_time": "2023-06-10T15:16:25.474Z"
   },
   {
    "duration": 369,
    "start_time": "2023-06-10T15:16:25.482Z"
   },
   {
    "duration": 4,
    "start_time": "2023-06-10T15:16:25.853Z"
   },
   {
    "duration": 14,
    "start_time": "2023-06-10T15:16:25.859Z"
   },
   {
    "duration": 114,
    "start_time": "2023-06-10T15:16:25.874Z"
   },
   {
    "duration": 5,
    "start_time": "2023-06-10T15:16:25.989Z"
   },
   {
    "duration": 35,
    "start_time": "2023-06-10T15:16:25.995Z"
   },
   {
    "duration": 104,
    "start_time": "2023-06-10T15:16:26.032Z"
   },
   {
    "duration": 0,
    "start_time": "2023-06-10T15:16:26.137Z"
   },
   {
    "duration": 15,
    "start_time": "2023-06-10T15:16:33.334Z"
   },
   {
    "duration": 8,
    "start_time": "2023-06-10T15:17:20.501Z"
   },
   {
    "duration": 1628,
    "start_time": "2023-06-10T17:45:02.100Z"
   },
   {
    "duration": 686,
    "start_time": "2023-06-10T17:45:03.730Z"
   },
   {
    "duration": 7,
    "start_time": "2023-06-10T17:45:04.418Z"
   },
   {
    "duration": 34,
    "start_time": "2023-06-10T17:45:04.427Z"
   },
   {
    "duration": 20,
    "start_time": "2023-06-10T17:45:04.463Z"
   },
   {
    "duration": 15,
    "start_time": "2023-06-10T17:45:04.485Z"
   },
   {
    "duration": 33,
    "start_time": "2023-06-10T17:45:04.502Z"
   },
   {
    "duration": 7,
    "start_time": "2023-06-10T17:45:04.537Z"
   },
   {
    "duration": 42,
    "start_time": "2023-06-10T17:45:04.546Z"
   },
   {
    "duration": 37,
    "start_time": "2023-06-10T17:45:04.590Z"
   },
   {
    "duration": 24,
    "start_time": "2023-06-10T17:45:04.629Z"
   },
   {
    "duration": 415,
    "start_time": "2023-06-10T17:45:04.655Z"
   },
   {
    "duration": 5,
    "start_time": "2023-06-10T17:45:05.072Z"
   },
   {
    "duration": 39,
    "start_time": "2023-06-10T17:45:05.078Z"
   },
   {
    "duration": 138,
    "start_time": "2023-06-10T17:45:05.119Z"
   },
   {
    "duration": 4,
    "start_time": "2023-06-10T17:45:05.259Z"
   },
   {
    "duration": 32,
    "start_time": "2023-06-10T17:45:05.265Z"
   },
   {
    "duration": 97,
    "start_time": "2023-06-10T17:45:05.299Z"
   },
   {
    "duration": 18,
    "start_time": "2023-06-10T17:46:01.307Z"
   },
   {
    "duration": 12,
    "start_time": "2023-06-10T17:47:13.174Z"
   },
   {
    "duration": 18,
    "start_time": "2023-06-10T17:47:36.247Z"
   },
   {
    "duration": 3,
    "start_time": "2023-06-10T17:48:21.232Z"
   },
   {
    "duration": 21,
    "start_time": "2023-06-10T17:49:40.276Z"
   },
   {
    "duration": 5,
    "start_time": "2023-06-10T17:50:01.873Z"
   },
   {
    "duration": 9,
    "start_time": "2023-06-10T17:52:46.113Z"
   },
   {
    "duration": 15,
    "start_time": "2023-06-10T18:09:01.190Z"
   },
   {
    "duration": 10,
    "start_time": "2023-06-10T18:09:23.530Z"
   },
   {
    "duration": 128,
    "start_time": "2023-06-10T18:09:36.630Z"
   },
   {
    "duration": 14,
    "start_time": "2023-06-10T18:09:41.130Z"
   },
   {
    "duration": 8,
    "start_time": "2023-06-10T18:09:48.627Z"
   },
   {
    "duration": 198,
    "start_time": "2023-06-10T18:09:57.904Z"
   },
   {
    "duration": 9,
    "start_time": "2023-06-10T18:10:03.558Z"
   },
   {
    "duration": 12,
    "start_time": "2023-06-10T18:10:55.723Z"
   },
   {
    "duration": 117,
    "start_time": "2023-06-10T18:14:42.623Z"
   },
   {
    "duration": 50,
    "start_time": "2023-06-10T18:15:00.494Z"
   },
   {
    "duration": 9,
    "start_time": "2023-06-10T18:15:27.424Z"
   },
   {
    "duration": 59,
    "start_time": "2023-06-10T18:15:34.462Z"
   },
   {
    "duration": 33,
    "start_time": "2023-06-10T18:15:57.100Z"
   },
   {
    "duration": 46,
    "start_time": "2023-06-10T18:16:35.658Z"
   },
   {
    "duration": 9,
    "start_time": "2023-06-10T18:36:29.563Z"
   },
   {
    "duration": 12,
    "start_time": "2023-06-10T18:36:38.983Z"
   },
   {
    "duration": 1690,
    "start_time": "2023-06-10T18:36:47.082Z"
   },
   {
    "duration": 9,
    "start_time": "2023-06-10T18:37:10.352Z"
   },
   {
    "duration": 90,
    "start_time": "2023-06-10T18:37:20.358Z"
   },
   {
    "duration": 61,
    "start_time": "2023-06-10T18:37:47.238Z"
   },
   {
    "duration": 3,
    "start_time": "2023-06-10T18:40:45.386Z"
   },
   {
    "duration": 3,
    "start_time": "2023-06-10T18:40:49.354Z"
   },
   {
    "duration": 2059,
    "start_time": "2023-06-10T19:05:05.273Z"
   },
   {
    "duration": 32,
    "start_time": "2023-06-10T19:05:13.108Z"
   },
   {
    "duration": 9,
    "start_time": "2023-06-10T19:05:23.138Z"
   },
   {
    "duration": 8,
    "start_time": "2023-06-10T19:05:33.600Z"
   },
   {
    "duration": 7,
    "start_time": "2023-06-10T19:05:41.166Z"
   },
   {
    "duration": 700,
    "start_time": "2023-06-10T19:06:19.868Z"
   },
   {
    "duration": 142,
    "start_time": "2023-06-10T19:08:07.619Z"
   },
   {
    "duration": 171,
    "start_time": "2023-06-10T19:08:16.097Z"
   },
   {
    "duration": 167,
    "start_time": "2023-06-10T19:08:38.393Z"
   },
   {
    "duration": 168,
    "start_time": "2023-06-10T19:09:31.087Z"
   },
   {
    "duration": 12,
    "start_time": "2023-06-10T19:12:54.932Z"
   },
   {
    "duration": 11,
    "start_time": "2023-06-10T19:13:14.824Z"
   },
   {
    "duration": 9,
    "start_time": "2023-06-10T19:14:01.559Z"
   },
   {
    "duration": 10,
    "start_time": "2023-06-10T19:14:10.351Z"
   },
   {
    "duration": 6,
    "start_time": "2023-06-10T19:16:03.352Z"
   },
   {
    "duration": 7,
    "start_time": "2023-06-10T19:16:11.882Z"
   },
   {
    "duration": 6,
    "start_time": "2023-06-10T19:16:22.431Z"
   },
   {
    "duration": 75,
    "start_time": "2023-06-10T19:18:12.806Z"
   },
   {
    "duration": 10,
    "start_time": "2023-06-10T19:18:28.389Z"
   },
   {
    "duration": 8,
    "start_time": "2023-06-10T19:18:40.732Z"
   },
   {
    "duration": 230,
    "start_time": "2023-06-10T19:19:27.697Z"
   },
   {
    "duration": 233,
    "start_time": "2023-06-10T19:19:58.459Z"
   },
   {
    "duration": 189,
    "start_time": "2023-06-10T19:20:09.677Z"
   },
   {
    "duration": 70,
    "start_time": "2023-06-10T19:20:23.802Z"
   },
   {
    "duration": 58,
    "start_time": "2023-06-10T19:21:09.623Z"
   },
   {
    "duration": 120,
    "start_time": "2023-06-10T19:22:41.955Z"
   },
   {
    "duration": 12,
    "start_time": "2023-06-10T19:22:56.947Z"
   },
   {
    "duration": 9,
    "start_time": "2023-06-10T19:23:07.802Z"
   },
   {
    "duration": 6,
    "start_time": "2023-06-10T19:23:47.876Z"
   },
   {
    "duration": 6,
    "start_time": "2023-06-10T19:24:09.918Z"
   },
   {
    "duration": 95,
    "start_time": "2023-06-10T19:24:22.826Z"
   },
   {
    "duration": 6,
    "start_time": "2023-06-10T19:24:27.471Z"
   },
   {
    "duration": 699,
    "start_time": "2023-06-10T19:24:54.800Z"
   },
   {
    "duration": 1219,
    "start_time": "2023-06-10T19:25:14.123Z"
   },
   {
    "duration": 710,
    "start_time": "2023-06-10T19:25:15.344Z"
   },
   {
    "duration": 5,
    "start_time": "2023-06-10T19:25:16.056Z"
   },
   {
    "duration": 35,
    "start_time": "2023-06-10T19:25:16.064Z"
   },
   {
    "duration": 31,
    "start_time": "2023-06-10T19:25:16.101Z"
   },
   {
    "duration": 21,
    "start_time": "2023-06-10T19:25:16.134Z"
   },
   {
    "duration": 15,
    "start_time": "2023-06-10T19:25:16.157Z"
   },
   {
    "duration": 16,
    "start_time": "2023-06-10T19:25:16.174Z"
   },
   {
    "duration": 27,
    "start_time": "2023-06-10T19:25:16.193Z"
   },
   {
    "duration": 44,
    "start_time": "2023-06-10T19:25:16.223Z"
   },
   {
    "duration": 39,
    "start_time": "2023-06-10T19:25:16.269Z"
   },
   {
    "duration": 394,
    "start_time": "2023-06-10T19:25:16.310Z"
   },
   {
    "duration": 4,
    "start_time": "2023-06-10T19:25:16.706Z"
   },
   {
    "duration": 25,
    "start_time": "2023-06-10T19:25:16.712Z"
   },
   {
    "duration": 112,
    "start_time": "2023-06-10T19:25:16.738Z"
   },
   {
    "duration": 5,
    "start_time": "2023-06-10T19:25:16.851Z"
   },
   {
    "duration": 26,
    "start_time": "2023-06-10T19:25:16.857Z"
   },
   {
    "duration": 82,
    "start_time": "2023-06-10T19:25:16.885Z"
   },
   {
    "duration": 8,
    "start_time": "2023-06-10T19:25:16.970Z"
   },
   {
    "duration": 27,
    "start_time": "2023-06-10T19:25:16.979Z"
   },
   {
    "duration": 485,
    "start_time": "2023-06-10T19:25:17.008Z"
   },
   {
    "duration": 6,
    "start_time": "2023-06-10T19:25:41.949Z"
   },
   {
    "duration": 1010,
    "start_time": "2023-06-10T19:26:02.051Z"
   },
   {
    "duration": 670,
    "start_time": "2023-06-10T19:26:03.063Z"
   },
   {
    "duration": 5,
    "start_time": "2023-06-10T19:26:03.734Z"
   },
   {
    "duration": 40,
    "start_time": "2023-06-10T19:26:03.741Z"
   },
   {
    "duration": 24,
    "start_time": "2023-06-10T19:26:03.782Z"
   },
   {
    "duration": 14,
    "start_time": "2023-06-10T19:26:03.808Z"
   },
   {
    "duration": 7,
    "start_time": "2023-06-10T19:26:03.823Z"
   },
   {
    "duration": 16,
    "start_time": "2023-06-10T19:26:03.831Z"
   },
   {
    "duration": 7,
    "start_time": "2023-06-10T19:26:03.849Z"
   },
   {
    "duration": 4,
    "start_time": "2023-06-10T19:26:03.859Z"
   },
   {
    "duration": 14,
    "start_time": "2023-06-10T19:26:03.864Z"
   },
   {
    "duration": 387,
    "start_time": "2023-06-10T19:26:03.879Z"
   },
   {
    "duration": 6,
    "start_time": "2023-06-10T19:26:04.268Z"
   },
   {
    "duration": 21,
    "start_time": "2023-06-10T19:26:04.276Z"
   },
   {
    "duration": 125,
    "start_time": "2023-06-10T19:26:04.299Z"
   },
   {
    "duration": 5,
    "start_time": "2023-06-10T19:26:04.426Z"
   },
   {
    "duration": 15,
    "start_time": "2023-06-10T19:26:04.432Z"
   },
   {
    "duration": 66,
    "start_time": "2023-06-10T19:26:04.449Z"
   },
   {
    "duration": 9,
    "start_time": "2023-06-10T19:26:04.524Z"
   },
   {
    "duration": 4,
    "start_time": "2023-06-10T19:26:04.535Z"
   },
   {
    "duration": 9,
    "start_time": "2023-06-10T19:26:04.541Z"
   },
   {
    "duration": 472,
    "start_time": "2023-06-10T19:26:04.552Z"
   },
   {
    "duration": 12,
    "start_time": "2023-06-10T19:27:09.608Z"
   },
   {
    "duration": 1512,
    "start_time": "2023-06-10T19:27:53.922Z"
   },
   {
    "duration": 11,
    "start_time": "2023-06-10T19:29:19.504Z"
   },
   {
    "duration": 3,
    "start_time": "2023-06-10T19:29:25.898Z"
   },
   {
    "duration": 7,
    "start_time": "2023-06-10T19:29:26.222Z"
   },
   {
    "duration": 1052,
    "start_time": "2023-06-10T19:31:55.144Z"
   },
   {
    "duration": 716,
    "start_time": "2023-06-10T19:31:56.198Z"
   },
   {
    "duration": 9,
    "start_time": "2023-06-10T19:31:56.916Z"
   },
   {
    "duration": 13,
    "start_time": "2023-06-10T19:31:56.927Z"
   },
   {
    "duration": 5,
    "start_time": "2023-06-10T19:31:56.943Z"
   },
   {
    "duration": 6,
    "start_time": "2023-06-10T19:31:56.950Z"
   },
   {
    "duration": 5,
    "start_time": "2023-06-10T19:31:56.958Z"
   },
   {
    "duration": 8,
    "start_time": "2023-06-10T19:31:56.964Z"
   },
   {
    "duration": 10,
    "start_time": "2023-06-10T19:31:56.973Z"
   },
   {
    "duration": 6,
    "start_time": "2023-06-10T19:31:56.984Z"
   },
   {
    "duration": 6,
    "start_time": "2023-06-10T19:31:56.991Z"
   },
   {
    "duration": 407,
    "start_time": "2023-06-10T19:31:56.998Z"
   },
   {
    "duration": 6,
    "start_time": "2023-06-10T19:31:57.406Z"
   },
   {
    "duration": 18,
    "start_time": "2023-06-10T19:31:57.427Z"
   },
   {
    "duration": 129,
    "start_time": "2023-06-10T19:31:57.447Z"
   },
   {
    "duration": 6,
    "start_time": "2023-06-10T19:31:57.578Z"
   },
   {
    "duration": 25,
    "start_time": "2023-06-10T19:31:57.585Z"
   },
   {
    "duration": 80,
    "start_time": "2023-06-10T19:31:57.613Z"
   },
   {
    "duration": 11,
    "start_time": "2023-06-10T19:31:57.695Z"
   },
   {
    "duration": 7,
    "start_time": "2023-06-10T19:31:57.707Z"
   },
   {
    "duration": 19,
    "start_time": "2023-06-10T19:31:57.716Z"
   },
   {
    "duration": 14,
    "start_time": "2023-06-10T19:31:57.737Z"
   },
   {
    "duration": 123,
    "start_time": "2023-06-10T19:31:57.754Z"
   },
   {
    "duration": 452,
    "start_time": "2023-06-10T19:31:57.879Z"
   },
   {
    "duration": 10,
    "start_time": "2023-06-10T19:32:26.413Z"
   },
   {
    "duration": 8,
    "start_time": "2023-06-10T19:32:55.943Z"
   },
   {
    "duration": 9,
    "start_time": "2023-06-10T19:32:57.135Z"
   },
   {
    "duration": 10,
    "start_time": "2023-06-10T19:33:02.350Z"
   },
   {
    "duration": 9,
    "start_time": "2023-06-10T19:33:12.566Z"
   },
   {
    "duration": 12,
    "start_time": "2023-06-10T19:33:33.306Z"
   },
   {
    "duration": 9,
    "start_time": "2023-06-10T19:33:53.427Z"
   },
   {
    "duration": 20,
    "start_time": "2023-06-10T19:34:59.578Z"
   },
   {
    "duration": 9,
    "start_time": "2023-06-10T19:35:13.949Z"
   },
   {
    "duration": 112,
    "start_time": "2023-06-10T19:35:34.250Z"
   },
   {
    "duration": 10,
    "start_time": "2023-06-10T19:35:36.539Z"
   },
   {
    "duration": 6,
    "start_time": "2023-06-10T19:35:57.043Z"
   },
   {
    "duration": 5,
    "start_time": "2023-06-10T19:36:03.976Z"
   },
   {
    "duration": 11,
    "start_time": "2023-06-10T19:37:53.900Z"
   },
   {
    "duration": 24,
    "start_time": "2023-06-10T19:39:39.393Z"
   },
   {
    "duration": 8,
    "start_time": "2023-06-10T19:41:18.212Z"
   },
   {
    "duration": 113,
    "start_time": "2023-06-10T19:41:33.117Z"
   },
   {
    "duration": 24,
    "start_time": "2023-06-10T19:43:13.088Z"
   },
   {
    "duration": 141,
    "start_time": "2023-06-10T19:43:19.976Z"
   },
   {
    "duration": 23,
    "start_time": "2023-06-10T19:43:37.263Z"
   },
   {
    "duration": 22,
    "start_time": "2023-06-10T19:43:49.894Z"
   },
   {
    "duration": 25,
    "start_time": "2023-06-10T19:44:11.347Z"
   },
   {
    "duration": 160,
    "start_time": "2023-06-10T19:44:28.716Z"
   },
   {
    "duration": 14,
    "start_time": "2023-06-10T19:49:22.455Z"
   },
   {
    "duration": 19,
    "start_time": "2023-06-10T19:49:38.380Z"
   },
   {
    "duration": 95,
    "start_time": "2023-06-10T19:49:48.656Z"
   },
   {
    "duration": 107,
    "start_time": "2023-06-10T19:50:01.379Z"
   },
   {
    "duration": 104,
    "start_time": "2023-06-10T19:50:18.655Z"
   },
   {
    "duration": 98,
    "start_time": "2023-06-10T19:50:31.116Z"
   },
   {
    "duration": 92,
    "start_time": "2023-06-10T19:50:48.463Z"
   },
   {
    "duration": 98,
    "start_time": "2023-06-10T19:51:02.405Z"
   },
   {
    "duration": 125,
    "start_time": "2023-06-10T19:54:39.791Z"
   },
   {
    "duration": 182,
    "start_time": "2023-06-10T19:59:57.626Z"
   },
   {
    "duration": 176,
    "start_time": "2023-06-10T20:02:49.710Z"
   },
   {
    "duration": 140,
    "start_time": "2023-06-10T20:10:59.617Z"
   },
   {
    "duration": 17,
    "start_time": "2023-06-10T20:18:30.854Z"
   },
   {
    "duration": 3,
    "start_time": "2023-06-10T20:31:45.018Z"
   },
   {
    "duration": 6,
    "start_time": "2023-06-10T20:32:22.833Z"
   },
   {
    "duration": 3,
    "start_time": "2023-06-10T20:32:53.226Z"
   },
   {
    "duration": 70,
    "start_time": "2023-06-10T20:32:56.025Z"
   },
   {
    "duration": 155,
    "start_time": "2023-06-10T20:33:18.944Z"
   },
   {
    "duration": 154,
    "start_time": "2023-06-10T20:34:00.050Z"
   },
   {
    "duration": 10,
    "start_time": "2023-06-10T20:34:35.179Z"
   },
   {
    "duration": 20,
    "start_time": "2023-06-10T20:34:45.550Z"
   },
   {
    "duration": 19,
    "start_time": "2023-06-10T20:34:55.284Z"
   },
   {
    "duration": 64,
    "start_time": "2023-06-10T20:35:02.597Z"
   },
   {
    "duration": 97,
    "start_time": "2023-06-10T20:35:42.445Z"
   },
   {
    "duration": 11,
    "start_time": "2023-06-10T20:36:09.912Z"
   },
   {
    "duration": 6,
    "start_time": "2023-06-10T20:36:13.497Z"
   },
   {
    "duration": 5,
    "start_time": "2023-06-10T20:36:34.221Z"
   },
   {
    "duration": 5,
    "start_time": "2023-06-10T20:36:44.615Z"
   },
   {
    "duration": 5,
    "start_time": "2023-06-10T20:36:54.482Z"
   },
   {
    "duration": 5,
    "start_time": "2023-06-10T20:37:03.010Z"
   },
   {
    "duration": 5,
    "start_time": "2023-06-10T20:37:13.976Z"
   },
   {
    "duration": 23,
    "start_time": "2023-06-10T20:37:56.480Z"
   },
   {
    "duration": 94,
    "start_time": "2023-06-10T20:39:01.476Z"
   },
   {
    "duration": 166,
    "start_time": "2023-06-10T20:40:23.074Z"
   },
   {
    "duration": 172,
    "start_time": "2023-06-10T20:42:48.176Z"
   },
   {
    "duration": 239,
    "start_time": "2023-06-10T20:42:56.284Z"
   },
   {
    "duration": 59,
    "start_time": "2023-06-10T20:54:37.997Z"
   },
   {
    "duration": 71,
    "start_time": "2023-06-10T20:55:09.296Z"
   },
   {
    "duration": 53,
    "start_time": "2023-06-10T20:55:27.328Z"
   },
   {
    "duration": 6,
    "start_time": "2023-06-10T20:55:41.879Z"
   },
   {
    "duration": 6,
    "start_time": "2023-06-10T20:56:03.947Z"
   },
   {
    "duration": 11,
    "start_time": "2023-06-10T20:56:33.931Z"
   },
   {
    "duration": 11,
    "start_time": "2023-06-10T20:56:44.188Z"
   },
   {
    "duration": 11,
    "start_time": "2023-06-10T20:56:56.773Z"
   },
   {
    "duration": 10,
    "start_time": "2023-06-10T20:57:03.682Z"
   },
   {
    "duration": 16,
    "start_time": "2023-06-10T21:00:04.527Z"
   },
   {
    "duration": 12,
    "start_time": "2023-06-10T21:00:53.131Z"
   },
   {
    "duration": 63,
    "start_time": "2023-06-10T21:01:03.209Z"
   },
   {
    "duration": 74,
    "start_time": "2023-06-10T21:01:18.474Z"
   },
   {
    "duration": 105,
    "start_time": "2023-06-10T21:02:33.521Z"
   },
   {
    "duration": 324,
    "start_time": "2023-06-10T21:03:04.564Z"
   },
   {
    "duration": 391,
    "start_time": "2023-06-10T21:04:19.647Z"
   },
   {
    "duration": 323,
    "start_time": "2023-06-10T21:04:35.057Z"
   },
   {
    "duration": 17,
    "start_time": "2023-06-10T21:04:50.147Z"
   },
   {
    "duration": 1018,
    "start_time": "2023-06-10T21:05:08.847Z"
   },
   {
    "duration": 725,
    "start_time": "2023-06-10T21:05:09.867Z"
   },
   {
    "duration": 4,
    "start_time": "2023-06-10T21:05:10.593Z"
   },
   {
    "duration": 10,
    "start_time": "2023-06-10T21:05:10.599Z"
   },
   {
    "duration": 2,
    "start_time": "2023-06-10T21:05:10.624Z"
   },
   {
    "duration": 5,
    "start_time": "2023-06-10T21:05:10.628Z"
   },
   {
    "duration": 5,
    "start_time": "2023-06-10T21:05:10.635Z"
   },
   {
    "duration": 14,
    "start_time": "2023-06-10T21:05:10.641Z"
   },
   {
    "duration": 17,
    "start_time": "2023-06-10T21:05:10.657Z"
   },
   {
    "duration": 8,
    "start_time": "2023-06-10T21:05:10.675Z"
   },
   {
    "duration": 8,
    "start_time": "2023-06-10T21:05:10.685Z"
   },
   {
    "duration": 440,
    "start_time": "2023-06-10T21:05:10.695Z"
   },
   {
    "duration": 5,
    "start_time": "2023-06-10T21:05:11.137Z"
   },
   {
    "duration": 18,
    "start_time": "2023-06-10T21:05:11.144Z"
   },
   {
    "duration": 130,
    "start_time": "2023-06-10T21:05:11.163Z"
   },
   {
    "duration": 5,
    "start_time": "2023-06-10T21:05:11.295Z"
   },
   {
    "duration": 9,
    "start_time": "2023-06-10T21:05:11.301Z"
   },
   {
    "duration": 60,
    "start_time": "2023-06-10T21:05:11.324Z"
   },
   {
    "duration": 9,
    "start_time": "2023-06-10T21:05:11.386Z"
   },
   {
    "duration": 7,
    "start_time": "2023-06-10T21:05:11.396Z"
   },
   {
    "duration": 21,
    "start_time": "2023-06-10T21:05:11.405Z"
   },
   {
    "duration": 21,
    "start_time": "2023-06-10T21:05:11.428Z"
   },
   {
    "duration": 414,
    "start_time": "2023-06-10T21:05:11.451Z"
   },
   {
    "duration": 121,
    "start_time": "2023-06-10T21:05:11.866Z"
   },
   {
    "duration": 3,
    "start_time": "2023-06-10T21:05:11.988Z"
   },
   {
    "duration": 128,
    "start_time": "2023-06-10T21:05:28.337Z"
   },
   {
    "duration": 91,
    "start_time": "2023-06-10T21:06:00.462Z"
   },
   {
    "duration": 1023,
    "start_time": "2023-06-10T21:07:05.046Z"
   },
   {
    "duration": 682,
    "start_time": "2023-06-10T21:07:06.071Z"
   },
   {
    "duration": 4,
    "start_time": "2023-06-10T21:07:06.754Z"
   },
   {
    "duration": 22,
    "start_time": "2023-06-10T21:07:06.759Z"
   },
   {
    "duration": 4,
    "start_time": "2023-06-10T21:07:06.784Z"
   },
   {
    "duration": 5,
    "start_time": "2023-06-10T21:07:06.789Z"
   },
   {
    "duration": 6,
    "start_time": "2023-06-10T21:07:06.795Z"
   },
   {
    "duration": 13,
    "start_time": "2023-06-10T21:07:06.802Z"
   },
   {
    "duration": 6,
    "start_time": "2023-06-10T21:07:06.816Z"
   },
   {
    "duration": 7,
    "start_time": "2023-06-10T21:07:06.823Z"
   },
   {
    "duration": 6,
    "start_time": "2023-06-10T21:07:06.832Z"
   },
   {
    "duration": 355,
    "start_time": "2023-06-10T21:07:06.839Z"
   },
   {
    "duration": 4,
    "start_time": "2023-06-10T21:07:07.196Z"
   },
   {
    "duration": 24,
    "start_time": "2023-06-10T21:07:07.202Z"
   },
   {
    "duration": 109,
    "start_time": "2023-06-10T21:07:07.227Z"
   },
   {
    "duration": 5,
    "start_time": "2023-06-10T21:07:07.337Z"
   },
   {
    "duration": 7,
    "start_time": "2023-06-10T21:07:07.344Z"
   },
   {
    "duration": 54,
    "start_time": "2023-06-10T21:07:07.353Z"
   },
   {
    "duration": 20,
    "start_time": "2023-06-10T21:07:07.408Z"
   },
   {
    "duration": 3,
    "start_time": "2023-06-10T21:07:07.429Z"
   },
   {
    "duration": 9,
    "start_time": "2023-06-10T21:07:07.433Z"
   },
   {
    "duration": 19,
    "start_time": "2023-06-10T21:07:07.443Z"
   },
   {
    "duration": 400,
    "start_time": "2023-06-10T21:07:07.464Z"
   },
   {
    "duration": 103,
    "start_time": "2023-06-10T21:07:07.866Z"
   },
   {
    "duration": 2,
    "start_time": "2023-06-10T21:07:07.971Z"
   },
   {
    "duration": 6,
    "start_time": "2023-06-10T21:07:07.974Z"
   },
   {
    "duration": 5,
    "start_time": "2023-06-10T21:08:01.890Z"
   },
   {
    "duration": 5,
    "start_time": "2023-06-10T21:08:08.095Z"
   },
   {
    "duration": 6,
    "start_time": "2023-06-10T21:08:16.067Z"
   },
   {
    "duration": 4,
    "start_time": "2023-06-10T21:08:30.612Z"
   },
   {
    "duration": 104,
    "start_time": "2023-06-10T21:08:34.064Z"
   },
   {
    "duration": 4,
    "start_time": "2023-06-10T21:08:40.812Z"
   },
   {
    "duration": 6,
    "start_time": "2023-06-10T21:08:54.518Z"
   },
   {
    "duration": 6,
    "start_time": "2023-06-10T21:09:00.957Z"
   },
   {
    "duration": 6,
    "start_time": "2023-06-10T21:09:06.076Z"
   },
   {
    "duration": 59,
    "start_time": "2023-06-10T21:09:38.219Z"
   },
   {
    "duration": 75,
    "start_time": "2023-06-10T21:10:19.570Z"
   },
   {
    "duration": 11,
    "start_time": "2023-06-10T21:10:32.991Z"
   },
   {
    "duration": 168,
    "start_time": "2023-06-10T21:10:37.556Z"
   },
   {
    "duration": 65,
    "start_time": "2023-06-10T21:11:17.210Z"
   },
   {
    "duration": 70,
    "start_time": "2023-06-10T21:11:28.717Z"
   },
   {
    "duration": 15,
    "start_time": "2023-06-10T21:11:44.560Z"
   },
   {
    "duration": 179,
    "start_time": "2023-06-10T21:11:47.615Z"
   },
   {
    "duration": 167,
    "start_time": "2023-06-10T21:11:58.167Z"
   },
   {
    "duration": 165,
    "start_time": "2023-06-10T21:12:03.501Z"
   },
   {
    "duration": 18,
    "start_time": "2023-06-10T21:14:22.992Z"
   },
   {
    "duration": 159,
    "start_time": "2023-06-10T21:14:48.074Z"
   },
   {
    "duration": 1295,
    "start_time": "2023-06-10T21:15:33.906Z"
   },
   {
    "duration": 48,
    "start_time": "2023-06-10T21:15:44.964Z"
   },
   {
    "duration": 175,
    "start_time": "2023-06-10T21:16:20.160Z"
   },
   {
    "duration": 69,
    "start_time": "2023-06-10T21:17:20.221Z"
   },
   {
    "duration": 65,
    "start_time": "2023-06-10T21:17:28.766Z"
   },
   {
    "duration": 148,
    "start_time": "2023-06-10T21:17:41.079Z"
   },
   {
    "duration": 68,
    "start_time": "2023-06-10T21:17:48.451Z"
   },
   {
    "duration": 58,
    "start_time": "2023-06-10T21:18:20.061Z"
   },
   {
    "duration": 46,
    "start_time": "2023-06-10T21:18:29.993Z"
   },
   {
    "duration": 192,
    "start_time": "2023-06-10T21:18:45.860Z"
   },
   {
    "duration": 73,
    "start_time": "2023-06-10T21:19:06.755Z"
   },
   {
    "duration": 10,
    "start_time": "2023-06-10T21:20:21.706Z"
   },
   {
    "duration": 19,
    "start_time": "2023-06-10T21:21:04.699Z"
   },
   {
    "duration": 187,
    "start_time": "2023-06-10T21:21:12.175Z"
   },
   {
    "duration": 20,
    "start_time": "2023-06-10T21:21:43.056Z"
   },
   {
    "duration": 76,
    "start_time": "2023-06-10T21:21:49.172Z"
   },
   {
    "duration": 159,
    "start_time": "2023-06-10T21:22:14.521Z"
   },
   {
    "duration": 199,
    "start_time": "2023-06-10T21:24:16.051Z"
   },
   {
    "duration": 5,
    "start_time": "2023-06-10T21:25:03.402Z"
   },
   {
    "duration": 19,
    "start_time": "2023-06-10T21:26:00.497Z"
   },
   {
    "duration": 253,
    "start_time": "2023-06-10T21:26:10.789Z"
   },
   {
    "duration": 12,
    "start_time": "2023-06-10T21:27:02.717Z"
   },
   {
    "duration": 6,
    "start_time": "2023-06-10T21:27:08.398Z"
   },
   {
    "duration": 17,
    "start_time": "2023-06-10T21:29:41.525Z"
   },
   {
    "duration": 20,
    "start_time": "2023-06-10T21:30:35.768Z"
   },
   {
    "duration": 223,
    "start_time": "2023-06-10T21:30:59.695Z"
   },
   {
    "duration": 225,
    "start_time": "2023-06-10T21:31:44.111Z"
   },
   {
    "duration": 222,
    "start_time": "2023-06-10T21:31:58.577Z"
   },
   {
    "duration": 249,
    "start_time": "2023-06-10T21:32:25.388Z"
   },
   {
    "duration": 3,
    "start_time": "2023-06-10T21:32:38.715Z"
   },
   {
    "duration": 2,
    "start_time": "2023-06-10T21:32:40.524Z"
   },
   {
    "duration": 7,
    "start_time": "2023-06-10T21:33:11.263Z"
   },
   {
    "duration": 238,
    "start_time": "2023-06-10T21:33:15.300Z"
   },
   {
    "duration": 251,
    "start_time": "2023-06-10T21:33:39.765Z"
   },
   {
    "duration": 246,
    "start_time": "2023-06-10T21:33:54.890Z"
   },
   {
    "duration": 277,
    "start_time": "2023-06-10T21:34:18.348Z"
   },
   {
    "duration": 10,
    "start_time": "2023-06-10T21:34:36.575Z"
   },
   {
    "duration": 10,
    "start_time": "2023-06-10T21:34:43.516Z"
   },
   {
    "duration": 9,
    "start_time": "2023-06-10T21:34:57.515Z"
   },
   {
    "duration": 248,
    "start_time": "2023-06-10T21:35:42.346Z"
   },
   {
    "duration": 1065,
    "start_time": "2023-06-10T21:36:02.620Z"
   },
   {
    "duration": 718,
    "start_time": "2023-06-10T21:36:03.687Z"
   },
   {
    "duration": 4,
    "start_time": "2023-06-10T21:36:04.406Z"
   },
   {
    "duration": 23,
    "start_time": "2023-06-10T21:36:04.412Z"
   },
   {
    "duration": 9,
    "start_time": "2023-06-10T21:36:04.437Z"
   },
   {
    "duration": 18,
    "start_time": "2023-06-10T21:36:04.448Z"
   },
   {
    "duration": 28,
    "start_time": "2023-06-10T21:36:04.468Z"
   },
   {
    "duration": 11,
    "start_time": "2023-06-10T21:36:04.498Z"
   },
   {
    "duration": 21,
    "start_time": "2023-06-10T21:36:04.511Z"
   },
   {
    "duration": 28,
    "start_time": "2023-06-10T21:36:04.533Z"
   },
   {
    "duration": 32,
    "start_time": "2023-06-10T21:36:04.563Z"
   },
   {
    "duration": 464,
    "start_time": "2023-06-10T21:36:04.597Z"
   },
   {
    "duration": 5,
    "start_time": "2023-06-10T21:36:05.062Z"
   },
   {
    "duration": 15,
    "start_time": "2023-06-10T21:36:05.069Z"
   },
   {
    "duration": 141,
    "start_time": "2023-06-10T21:36:05.085Z"
   },
   {
    "duration": 5,
    "start_time": "2023-06-10T21:36:05.228Z"
   },
   {
    "duration": 10,
    "start_time": "2023-06-10T21:36:05.235Z"
   },
   {
    "duration": 82,
    "start_time": "2023-06-10T21:36:05.247Z"
   },
   {
    "duration": 9,
    "start_time": "2023-06-10T21:36:05.331Z"
   },
   {
    "duration": 9,
    "start_time": "2023-06-10T21:36:05.341Z"
   },
   {
    "duration": 31,
    "start_time": "2023-06-10T21:36:05.352Z"
   },
   {
    "duration": 551,
    "start_time": "2023-06-10T21:36:05.384Z"
   },
   {
    "duration": 2,
    "start_time": "2023-06-10T21:36:05.937Z"
   },
   {
    "duration": 7,
    "start_time": "2023-06-10T21:36:05.941Z"
   },
   {
    "duration": 22,
    "start_time": "2023-06-10T21:36:05.950Z"
   },
   {
    "duration": 182,
    "start_time": "2023-06-10T21:36:05.973Z"
   },
   {
    "duration": 19,
    "start_time": "2023-06-10T21:36:06.156Z"
   },
   {
    "duration": 2,
    "start_time": "2023-06-10T21:36:06.176Z"
   },
   {
    "duration": 19,
    "start_time": "2023-06-10T21:36:06.180Z"
   },
   {
    "duration": 9,
    "start_time": "2023-06-10T21:36:31.951Z"
   },
   {
    "duration": 231,
    "start_time": "2023-06-10T21:37:06.368Z"
   },
   {
    "duration": 232,
    "start_time": "2023-06-10T21:38:00.524Z"
   },
   {
    "duration": 218,
    "start_time": "2023-06-10T21:38:10.465Z"
   },
   {
    "duration": 192,
    "start_time": "2023-06-10T21:38:17.334Z"
   },
   {
    "duration": 198,
    "start_time": "2023-06-10T21:38:27.513Z"
   },
   {
    "duration": 275,
    "start_time": "2023-06-10T21:38:30.956Z"
   },
   {
    "duration": 190,
    "start_time": "2023-06-10T21:38:35.912Z"
   },
   {
    "duration": 212,
    "start_time": "2023-06-10T21:38:48.878Z"
   },
   {
    "duration": 185,
    "start_time": "2023-06-10T21:38:56.558Z"
   },
   {
    "duration": 215,
    "start_time": "2023-06-10T21:39:04.859Z"
   },
   {
    "duration": 219,
    "start_time": "2023-06-10T21:39:12.238Z"
   },
   {
    "duration": 196,
    "start_time": "2023-06-10T21:39:17.068Z"
   },
   {
    "duration": 193,
    "start_time": "2023-06-10T21:39:23.589Z"
   },
   {
    "duration": 205,
    "start_time": "2023-06-10T21:39:31.063Z"
   },
   {
    "duration": 199,
    "start_time": "2023-06-10T21:39:47.186Z"
   },
   {
    "duration": 230,
    "start_time": "2023-06-10T21:40:05.143Z"
   },
   {
    "duration": 297,
    "start_time": "2023-06-10T21:40:14.553Z"
   },
   {
    "duration": 187,
    "start_time": "2023-06-10T21:40:22.675Z"
   },
   {
    "duration": 208,
    "start_time": "2023-06-10T21:40:36.019Z"
   },
   {
    "duration": 188,
    "start_time": "2023-06-10T21:40:40.302Z"
   },
   {
    "duration": 193,
    "start_time": "2023-06-10T21:41:12.768Z"
   },
   {
    "duration": 201,
    "start_time": "2023-06-10T21:41:28.285Z"
   },
   {
    "duration": 192,
    "start_time": "2023-06-10T21:41:38.044Z"
   },
   {
    "duration": 200,
    "start_time": "2023-06-10T21:41:44.485Z"
   },
   {
    "duration": 198,
    "start_time": "2023-06-10T21:41:51.329Z"
   },
   {
    "duration": 260,
    "start_time": "2023-06-10T21:42:04.711Z"
   },
   {
    "duration": 211,
    "start_time": "2023-06-10T21:42:16.097Z"
   },
   {
    "duration": 288,
    "start_time": "2023-06-10T21:42:24.167Z"
   },
   {
    "duration": 202,
    "start_time": "2023-06-10T21:42:28.928Z"
   },
   {
    "duration": 210,
    "start_time": "2023-06-10T21:42:39.098Z"
   },
   {
    "duration": 224,
    "start_time": "2023-06-10T21:42:53.003Z"
   },
   {
    "duration": 232,
    "start_time": "2023-06-10T21:43:03.347Z"
   },
   {
    "duration": 2,
    "start_time": "2023-06-10T21:43:28.794Z"
   },
   {
    "duration": 218,
    "start_time": "2023-06-10T21:44:41.130Z"
   },
   {
    "duration": 226,
    "start_time": "2023-06-10T21:45:23.601Z"
   },
   {
    "duration": 216,
    "start_time": "2023-06-10T21:46:17.634Z"
   },
   {
    "duration": 9,
    "start_time": "2023-06-10T21:46:39.927Z"
   },
   {
    "duration": 216,
    "start_time": "2023-06-10T21:46:59.414Z"
   },
   {
    "duration": 201,
    "start_time": "2023-06-10T21:47:32.976Z"
   },
   {
    "duration": 234,
    "start_time": "2023-06-10T21:49:10.835Z"
   },
   {
    "duration": 173,
    "start_time": "2023-06-10T21:49:32.951Z"
   },
   {
    "duration": 266,
    "start_time": "2023-06-10T21:49:43.196Z"
   },
   {
    "duration": 9,
    "start_time": "2023-06-10T21:50:40.775Z"
   },
   {
    "duration": 185,
    "start_time": "2023-06-10T21:50:46.033Z"
   },
   {
    "duration": 192,
    "start_time": "2023-06-10T21:51:36.270Z"
   },
   {
    "duration": 255,
    "start_time": "2023-06-10T21:51:40.992Z"
   },
   {
    "duration": 216,
    "start_time": "2023-06-10T21:52:00.977Z"
   },
   {
    "duration": 200,
    "start_time": "2023-06-10T21:52:06.627Z"
   },
   {
    "duration": 92,
    "start_time": "2023-06-10T21:53:09.053Z"
   },
   {
    "duration": 11,
    "start_time": "2023-06-10T21:53:23.221Z"
   },
   {
    "duration": 170,
    "start_time": "2023-06-10T21:53:36.834Z"
   },
   {
    "duration": 173,
    "start_time": "2023-06-10T21:54:58.423Z"
   },
   {
    "duration": 194,
    "start_time": "2023-06-10T21:55:15.387Z"
   },
   {
    "duration": 167,
    "start_time": "2023-06-10T21:55:28.587Z"
   },
   {
    "duration": 167,
    "start_time": "2023-06-10T21:55:34.089Z"
   },
   {
    "duration": 212,
    "start_time": "2023-06-10T21:55:40.956Z"
   },
   {
    "duration": 268,
    "start_time": "2023-06-10T21:58:19.643Z"
   },
   {
    "duration": 226,
    "start_time": "2023-06-10T21:58:56.527Z"
   },
   {
    "duration": 8,
    "start_time": "2023-06-10T21:59:18.850Z"
   },
   {
    "duration": 231,
    "start_time": "2023-06-10T21:59:45.470Z"
   },
   {
    "duration": 214,
    "start_time": "2023-06-10T22:00:03.604Z"
   },
   {
    "duration": 188,
    "start_time": "2023-06-10T22:00:48.847Z"
   },
   {
    "duration": 189,
    "start_time": "2023-06-10T22:00:53.361Z"
   },
   {
    "duration": 208,
    "start_time": "2023-06-10T22:01:10.525Z"
   },
   {
    "duration": 180,
    "start_time": "2023-06-10T22:01:17.419Z"
   },
   {
    "duration": 8,
    "start_time": "2023-06-10T22:02:07.450Z"
   },
   {
    "duration": 188,
    "start_time": "2023-06-10T22:02:17.997Z"
   },
   {
    "duration": 198,
    "start_time": "2023-06-10T22:02:42.857Z"
   },
   {
    "duration": 204,
    "start_time": "2023-06-10T22:02:53.673Z"
   },
   {
    "duration": 10,
    "start_time": "2023-06-10T22:03:06.054Z"
   },
   {
    "duration": 212,
    "start_time": "2023-06-10T22:03:13.912Z"
   },
   {
    "duration": 337,
    "start_time": "2023-06-10T22:04:24.087Z"
   },
   {
    "duration": 257,
    "start_time": "2023-06-10T22:04:43.667Z"
   },
   {
    "duration": 8,
    "start_time": "2023-06-10T22:07:17.199Z"
   },
   {
    "duration": 3,
    "start_time": "2023-06-10T22:07:24.500Z"
   },
   {
    "duration": 5,
    "start_time": "2023-06-10T22:07:27.042Z"
   },
   {
    "duration": 10,
    "start_time": "2023-06-10T22:07:32.098Z"
   },
   {
    "duration": 262,
    "start_time": "2023-06-10T22:07:58.690Z"
   },
   {
    "duration": 10,
    "start_time": "2023-06-10T22:10:00.291Z"
   },
   {
    "duration": 352,
    "start_time": "2023-06-10T22:10:45.164Z"
   },
   {
    "duration": 190,
    "start_time": "2023-06-10T22:13:09.486Z"
   },
   {
    "duration": 4,
    "start_time": "2023-06-10T22:13:42.779Z"
   },
   {
    "duration": 183,
    "start_time": "2023-06-10T22:14:39.612Z"
   },
   {
    "duration": 178,
    "start_time": "2023-06-10T22:14:47.683Z"
   },
   {
    "duration": 178,
    "start_time": "2023-06-10T22:14:53.565Z"
   },
   {
    "duration": 187,
    "start_time": "2023-06-10T22:15:09.787Z"
   },
   {
    "duration": 7,
    "start_time": "2023-06-10T22:15:54.166Z"
   },
   {
    "duration": 214,
    "start_time": "2023-06-10T22:16:02.525Z"
   },
   {
    "duration": 190,
    "start_time": "2023-06-10T22:16:41.529Z"
   },
   {
    "duration": 193,
    "start_time": "2023-06-10T22:16:58.005Z"
   },
   {
    "duration": 3,
    "start_time": "2023-06-10T22:17:04.434Z"
   },
   {
    "duration": 11,
    "start_time": "2023-06-10T22:18:33.197Z"
   },
   {
    "duration": 7,
    "start_time": "2023-06-10T22:19:46.529Z"
   },
   {
    "duration": 254,
    "start_time": "2023-06-10T22:20:15.844Z"
   },
   {
    "duration": 172,
    "start_time": "2023-06-10T22:21:05.893Z"
   },
   {
    "duration": 180,
    "start_time": "2023-06-10T22:21:14.974Z"
   },
   {
    "duration": 255,
    "start_time": "2023-06-10T22:21:21.299Z"
   },
   {
    "duration": 169,
    "start_time": "2023-06-10T22:24:21.895Z"
   },
   {
    "duration": 171,
    "start_time": "2023-06-10T22:24:27.737Z"
   },
   {
    "duration": 176,
    "start_time": "2023-06-10T22:24:37.009Z"
   },
   {
    "duration": 180,
    "start_time": "2023-06-10T22:24:50.192Z"
   },
   {
    "duration": 201,
    "start_time": "2023-06-10T22:24:54.771Z"
   },
   {
    "duration": 3,
    "start_time": "2023-06-10T22:27:05.934Z"
   },
   {
    "duration": 6,
    "start_time": "2023-06-10T22:27:06.840Z"
   },
   {
    "duration": 166,
    "start_time": "2023-06-10T22:27:09.041Z"
   },
   {
    "duration": 9,
    "start_time": "2023-06-10T22:27:28.699Z"
   },
   {
    "duration": 241,
    "start_time": "2023-06-10T22:28:17.211Z"
   },
   {
    "duration": 189,
    "start_time": "2023-06-10T22:28:39.023Z"
   },
   {
    "duration": 258,
    "start_time": "2023-06-10T22:28:55.373Z"
   },
   {
    "duration": 7,
    "start_time": "2023-06-10T22:29:22.037Z"
   },
   {
    "duration": 196,
    "start_time": "2023-06-10T22:29:35.810Z"
   },
   {
    "duration": 209,
    "start_time": "2023-06-10T22:29:57.025Z"
   },
   {
    "duration": 180,
    "start_time": "2023-06-10T22:30:01.993Z"
   },
   {
    "duration": 181,
    "start_time": "2023-06-10T22:30:07.757Z"
   },
   {
    "duration": 11,
    "start_time": "2023-06-10T22:30:43.499Z"
   },
   {
    "duration": 189,
    "start_time": "2023-06-10T22:30:48.984Z"
   },
   {
    "duration": 4,
    "start_time": "2023-06-10T22:30:55.338Z"
   },
   {
    "duration": 196,
    "start_time": "2023-06-10T22:31:45.165Z"
   },
   {
    "duration": 9,
    "start_time": "2023-06-10T22:31:52.643Z"
   },
   {
    "duration": 249,
    "start_time": "2023-06-10T22:32:19.536Z"
   },
   {
    "duration": 184,
    "start_time": "2023-06-10T22:33:33.665Z"
   },
   {
    "duration": 188,
    "start_time": "2023-06-10T22:33:50.533Z"
   },
   {
    "duration": 179,
    "start_time": "2023-06-10T22:33:53.730Z"
   },
   {
    "duration": 183,
    "start_time": "2023-06-10T22:34:01.258Z"
   },
   {
    "duration": 281,
    "start_time": "2023-06-10T22:34:12.275Z"
   },
   {
    "duration": 6,
    "start_time": "2023-06-10T22:34:52.768Z"
   },
   {
    "duration": 188,
    "start_time": "2023-06-10T22:35:02.047Z"
   },
   {
    "duration": 3,
    "start_time": "2023-06-10T22:35:16.108Z"
   },
   {
    "duration": 6,
    "start_time": "2023-06-10T22:35:16.554Z"
   },
   {
    "duration": 8,
    "start_time": "2023-06-10T22:35:29.324Z"
   },
   {
    "duration": 216,
    "start_time": "2023-06-10T22:35:59.817Z"
   },
   {
    "duration": 159,
    "start_time": "2023-06-10T22:36:19.267Z"
   },
   {
    "duration": 157,
    "start_time": "2023-06-10T22:36:22.930Z"
   },
   {
    "duration": 160,
    "start_time": "2023-06-10T22:36:30.363Z"
   },
   {
    "duration": 152,
    "start_time": "2023-06-10T22:36:36.311Z"
   },
   {
    "duration": 6,
    "start_time": "2023-06-10T22:37:13.762Z"
   },
   {
    "duration": 164,
    "start_time": "2023-06-10T22:37:19.418Z"
   },
   {
    "duration": 3,
    "start_time": "2023-06-10T22:37:56.714Z"
   },
   {
    "duration": 7,
    "start_time": "2023-06-10T22:37:57.663Z"
   },
   {
    "duration": 9,
    "start_time": "2023-06-10T22:37:59.987Z"
   },
   {
    "duration": 5,
    "start_time": "2023-06-10T22:38:12.883Z"
   },
   {
    "duration": 198,
    "start_time": "2023-06-10T22:38:43.951Z"
   },
   {
    "duration": 193,
    "start_time": "2023-06-10T22:39:17.514Z"
   },
   {
    "duration": 187,
    "start_time": "2023-06-10T22:39:30.868Z"
   },
   {
    "duration": 3,
    "start_time": "2023-06-10T22:40:13.069Z"
   },
   {
    "duration": 7,
    "start_time": "2023-06-10T22:40:13.714Z"
   },
   {
    "duration": 9,
    "start_time": "2023-06-10T22:40:18.374Z"
   },
   {
    "duration": 4,
    "start_time": "2023-06-10T22:43:18.363Z"
   },
   {
    "duration": 7,
    "start_time": "2023-06-10T22:43:18.782Z"
   },
   {
    "duration": 146,
    "start_time": "2023-06-10T22:43:33.343Z"
   },
   {
    "duration": 4,
    "start_time": "2023-06-10T22:43:42.037Z"
   },
   {
    "duration": 9,
    "start_time": "2023-06-10T22:44:23.894Z"
   },
   {
    "duration": 74,
    "start_time": "2023-06-10T22:45:20.921Z"
   },
   {
    "duration": 16,
    "start_time": "2023-06-10T22:45:33.529Z"
   },
   {
    "duration": 15,
    "start_time": "2023-06-10T22:45:40.435Z"
   },
   {
    "duration": 84,
    "start_time": "2023-06-10T22:45:51.924Z"
   },
   {
    "duration": 9,
    "start_time": "2023-06-10T22:45:59.551Z"
   },
   {
    "duration": 272,
    "start_time": "2023-06-10T22:47:55.452Z"
   },
   {
    "duration": 3,
    "start_time": "2023-06-10T22:48:02.798Z"
   },
   {
    "duration": 63,
    "start_time": "2023-06-10T23:05:35.696Z"
   },
   {
    "duration": 9,
    "start_time": "2023-06-10T23:05:52.994Z"
   },
   {
    "duration": 8,
    "start_time": "2023-06-10T23:05:59.561Z"
   },
   {
    "duration": 2,
    "start_time": "2023-06-11T10:22:55.475Z"
   },
   {
    "duration": 652,
    "start_time": "2023-06-11T10:22:55.479Z"
   },
   {
    "duration": 4,
    "start_time": "2023-06-11T10:22:56.133Z"
   },
   {
    "duration": 9,
    "start_time": "2023-06-11T10:22:56.143Z"
   },
   {
    "duration": 6,
    "start_time": "2023-06-11T10:22:56.153Z"
   },
   {
    "duration": 5,
    "start_time": "2023-06-11T10:22:56.160Z"
   },
   {
    "duration": 6,
    "start_time": "2023-06-11T10:22:56.166Z"
   },
   {
    "duration": 6,
    "start_time": "2023-06-11T10:22:56.174Z"
   },
   {
    "duration": 6,
    "start_time": "2023-06-11T10:22:56.181Z"
   },
   {
    "duration": 7,
    "start_time": "2023-06-11T10:22:56.188Z"
   },
   {
    "duration": 8,
    "start_time": "2023-06-11T10:22:56.196Z"
   },
   {
    "duration": 387,
    "start_time": "2023-06-11T10:22:56.205Z"
   },
   {
    "duration": 5,
    "start_time": "2023-06-11T10:22:56.593Z"
   },
   {
    "duration": 13,
    "start_time": "2023-06-11T10:22:56.599Z"
   },
   {
    "duration": 110,
    "start_time": "2023-06-11T10:22:56.613Z"
   },
   {
    "duration": 8,
    "start_time": "2023-06-11T10:22:56.730Z"
   },
   {
    "duration": 8,
    "start_time": "2023-06-11T10:22:56.741Z"
   },
   {
    "duration": 91,
    "start_time": "2023-06-11T10:22:56.750Z"
   },
   {
    "duration": 10,
    "start_time": "2023-06-11T10:22:56.842Z"
   },
   {
    "duration": 9,
    "start_time": "2023-06-11T10:22:56.853Z"
   },
   {
    "duration": 14,
    "start_time": "2023-06-11T10:22:56.864Z"
   },
   {
    "duration": 24,
    "start_time": "2023-06-11T10:22:56.879Z"
   },
   {
    "duration": 174,
    "start_time": "2023-06-11T10:22:56.904Z"
   },
   {
    "duration": 3,
    "start_time": "2023-06-11T10:22:57.080Z"
   },
   {
    "duration": 27,
    "start_time": "2023-06-11T10:22:57.085Z"
   },
   {
    "duration": 19,
    "start_time": "2023-06-11T10:22:57.114Z"
   },
   {
    "duration": 14,
    "start_time": "2023-06-11T10:22:57.134Z"
   },
   {
    "duration": 18,
    "start_time": "2023-06-11T10:22:57.149Z"
   },
   {
    "duration": 7,
    "start_time": "2023-06-11T10:22:57.169Z"
   },
   {
    "duration": 9,
    "start_time": "2023-06-11T10:22:57.177Z"
   },
   {
    "duration": 7,
    "start_time": "2023-06-11T10:22:57.187Z"
   },
   {
    "duration": 8,
    "start_time": "2023-06-11T10:22:57.195Z"
   },
   {
    "duration": 6,
    "start_time": "2023-06-11T10:22:57.204Z"
   },
   {
    "duration": 11,
    "start_time": "2023-06-11T10:22:57.211Z"
   },
   {
    "duration": 24,
    "start_time": "2023-06-11T10:22:57.223Z"
   },
   {
    "duration": 11,
    "start_time": "2023-06-11T10:22:57.248Z"
   },
   {
    "duration": 95,
    "start_time": "2023-06-11T10:22:57.261Z"
   },
   {
    "duration": 92,
    "start_time": "2023-06-11T15:10:05.511Z"
   },
   {
    "duration": 6,
    "start_time": "2023-06-11T15:10:16.555Z"
   },
   {
    "duration": 2,
    "start_time": "2023-06-11T15:10:25.287Z"
   },
   {
    "duration": 10,
    "start_time": "2023-06-11T15:11:53.323Z"
   },
   {
    "duration": 142,
    "start_time": "2023-06-11T15:12:04.919Z"
   },
   {
    "duration": 10,
    "start_time": "2023-06-11T15:12:14.568Z"
   },
   {
    "duration": 127,
    "start_time": "2023-06-11T15:12:21.321Z"
   },
   {
    "duration": 120,
    "start_time": "2023-06-11T15:12:45.053Z"
   },
   {
    "duration": 26,
    "start_time": "2023-06-11T15:13:02.733Z"
   },
   {
    "duration": 25,
    "start_time": "2023-06-11T15:13:08.237Z"
   },
   {
    "duration": 3,
    "start_time": "2023-06-11T15:13:22.187Z"
   },
   {
    "duration": 88,
    "start_time": "2023-06-11T15:13:29.590Z"
   },
   {
    "duration": 21,
    "start_time": "2023-06-11T15:14:22.467Z"
   },
   {
    "duration": 163,
    "start_time": "2023-06-11T15:14:56.677Z"
   },
   {
    "duration": 39,
    "start_time": "2023-06-11T15:15:10.611Z"
   },
   {
    "duration": 26,
    "start_time": "2023-06-11T15:15:17.473Z"
   },
   {
    "duration": 43,
    "start_time": "2023-06-11T15:15:22.072Z"
   },
   {
    "duration": 102,
    "start_time": "2023-06-11T15:15:27.698Z"
   },
   {
    "duration": 53,
    "start_time": "2023-06-11T15:15:43.924Z"
   },
   {
    "duration": 63,
    "start_time": "2023-06-11T15:23:50.724Z"
   },
   {
    "duration": 53,
    "start_time": "2023-06-11T15:24:43.501Z"
   },
   {
    "duration": 7,
    "start_time": "2023-06-11T15:27:14.738Z"
   },
   {
    "duration": 63,
    "start_time": "2023-06-11T15:27:40.532Z"
   },
   {
    "duration": 78,
    "start_time": "2023-06-11T15:27:43.097Z"
   },
   {
    "duration": 9,
    "start_time": "2023-06-11T15:35:26.349Z"
   },
   {
    "duration": 10,
    "start_time": "2023-06-11T15:35:33.409Z"
   },
   {
    "duration": 6,
    "start_time": "2023-06-11T15:39:50.577Z"
   },
   {
    "duration": 131,
    "start_time": "2023-06-11T15:40:02.036Z"
   },
   {
    "duration": 3,
    "start_time": "2023-06-11T15:40:41.957Z"
   },
   {
    "duration": 153,
    "start_time": "2023-06-11T15:41:28.102Z"
   },
   {
    "duration": 142,
    "start_time": "2023-06-11T15:42:16.622Z"
   },
   {
    "duration": 164,
    "start_time": "2023-06-11T15:43:13.511Z"
   },
   {
    "duration": 213,
    "start_time": "2023-06-11T15:48:38.778Z"
   },
   {
    "duration": 205,
    "start_time": "2023-06-11T15:49:26.145Z"
   },
   {
    "duration": 225,
    "start_time": "2023-06-11T15:49:35.636Z"
   },
   {
    "duration": 210,
    "start_time": "2023-06-11T15:49:41.500Z"
   },
   {
    "duration": 220,
    "start_time": "2023-06-11T15:49:51.885Z"
   },
   {
    "duration": 199,
    "start_time": "2023-06-11T15:49:58.250Z"
   },
   {
    "duration": 488,
    "start_time": "2023-06-11T15:52:30.062Z"
   },
   {
    "duration": 497,
    "start_time": "2023-06-11T15:58:52.628Z"
   },
   {
    "duration": 547,
    "start_time": "2023-06-11T15:58:53.128Z"
   },
   {
    "duration": 520,
    "start_time": "2023-06-11T15:59:37.547Z"
   },
   {
    "duration": 1171,
    "start_time": "2023-06-11T16:00:49.725Z"
   },
   {
    "duration": 816,
    "start_time": "2023-06-11T16:00:50.898Z"
   },
   {
    "duration": 16,
    "start_time": "2023-06-11T16:00:51.716Z"
   },
   {
    "duration": 45,
    "start_time": "2023-06-11T16:00:51.738Z"
   },
   {
    "duration": 32,
    "start_time": "2023-06-11T16:00:51.785Z"
   },
   {
    "duration": 71,
    "start_time": "2023-06-11T16:00:51.819Z"
   },
   {
    "duration": 10,
    "start_time": "2023-06-11T16:00:51.891Z"
   },
   {
    "duration": 20,
    "start_time": "2023-06-11T16:00:51.903Z"
   },
   {
    "duration": 64,
    "start_time": "2023-06-11T16:00:51.924Z"
   },
   {
    "duration": 55,
    "start_time": "2023-06-11T16:00:51.992Z"
   },
   {
    "duration": 39,
    "start_time": "2023-06-11T16:00:52.051Z"
   },
   {
    "duration": 535,
    "start_time": "2023-06-11T16:00:52.091Z"
   },
   {
    "duration": 15,
    "start_time": "2023-06-11T16:00:52.633Z"
   },
   {
    "duration": 33,
    "start_time": "2023-06-11T16:00:52.650Z"
   },
   {
    "duration": 142,
    "start_time": "2023-06-11T16:00:52.685Z"
   },
   {
    "duration": 7,
    "start_time": "2023-06-11T16:00:52.831Z"
   },
   {
    "duration": 22,
    "start_time": "2023-06-11T16:00:52.845Z"
   },
   {
    "duration": 107,
    "start_time": "2023-06-11T16:00:52.869Z"
   },
   {
    "duration": 12,
    "start_time": "2023-06-11T16:00:52.978Z"
   },
   {
    "duration": 12,
    "start_time": "2023-06-11T16:00:52.992Z"
   },
   {
    "duration": 46,
    "start_time": "2023-06-11T16:00:53.005Z"
   },
   {
    "duration": 29,
    "start_time": "2023-06-11T16:00:53.054Z"
   },
   {
    "duration": 582,
    "start_time": "2023-06-11T16:00:53.088Z"
   },
   {
    "duration": 3,
    "start_time": "2023-06-11T16:00:53.672Z"
   },
   {
    "duration": 11,
    "start_time": "2023-06-11T16:00:53.677Z"
   },
   {
    "duration": 22,
    "start_time": "2023-06-11T16:00:53.690Z"
   },
   {
    "duration": 24,
    "start_time": "2023-06-11T16:00:53.714Z"
   },
   {
    "duration": 45,
    "start_time": "2023-06-11T16:00:53.743Z"
   },
   {
    "duration": 16,
    "start_time": "2023-06-11T16:00:53.790Z"
   },
   {
    "duration": 12,
    "start_time": "2023-06-11T16:00:53.809Z"
   },
   {
    "duration": 42,
    "start_time": "2023-06-11T16:00:53.828Z"
   },
   {
    "duration": 27,
    "start_time": "2023-06-11T16:00:53.872Z"
   },
   {
    "duration": 12,
    "start_time": "2023-06-11T16:00:53.901Z"
   },
   {
    "duration": 26,
    "start_time": "2023-06-11T16:00:53.915Z"
   },
   {
    "duration": 32,
    "start_time": "2023-06-11T16:00:53.942Z"
   },
   {
    "duration": 26,
    "start_time": "2023-06-11T16:00:53.975Z"
   },
   {
    "duration": 26,
    "start_time": "2023-06-11T16:00:54.003Z"
   },
   {
    "duration": 113,
    "start_time": "2023-06-11T16:00:54.031Z"
   },
   {
    "duration": 73,
    "start_time": "2023-06-11T16:00:54.147Z"
   },
   {
    "duration": 9,
    "start_time": "2023-06-11T16:00:54.222Z"
   },
   {
    "duration": 607,
    "start_time": "2023-06-11T16:00:54.233Z"
   },
   {
    "duration": 666,
    "start_time": "2023-06-11T16:00:54.842Z"
   },
   {
    "duration": 452,
    "start_time": "2023-06-11T16:05:01.481Z"
   },
   {
    "duration": 135,
    "start_time": "2023-06-11T16:10:33.878Z"
   },
   {
    "duration": 509,
    "start_time": "2023-06-11T16:11:06.188Z"
   },
   {
    "duration": 556,
    "start_time": "2023-06-11T16:12:01.701Z"
   },
   {
    "duration": 498,
    "start_time": "2023-06-11T16:13:48.006Z"
   },
   {
    "duration": 604,
    "start_time": "2023-06-11T16:19:23.966Z"
   },
   {
    "duration": 567,
    "start_time": "2023-06-11T16:22:14.679Z"
   },
   {
    "duration": 525,
    "start_time": "2023-06-11T16:22:26.610Z"
   },
   {
    "duration": 543,
    "start_time": "2023-06-11T16:24:28.157Z"
   },
   {
    "duration": 507,
    "start_time": "2023-06-11T16:24:47.780Z"
   },
   {
    "duration": 673,
    "start_time": "2023-06-11T16:25:24.805Z"
   },
   {
    "duration": 498,
    "start_time": "2023-06-11T16:25:32.330Z"
   },
   {
    "duration": 508,
    "start_time": "2023-06-11T16:25:40.217Z"
   },
   {
    "duration": 506,
    "start_time": "2023-06-11T16:25:48.858Z"
   },
   {
    "duration": 573,
    "start_time": "2023-06-11T16:26:24.722Z"
   },
   {
    "duration": 546,
    "start_time": "2023-06-11T16:26:41.957Z"
   },
   {
    "duration": 716,
    "start_time": "2023-06-11T16:27:01.269Z"
   },
   {
    "duration": 530,
    "start_time": "2023-06-11T16:27:15.072Z"
   },
   {
    "duration": 146,
    "start_time": "2023-06-11T16:27:33.189Z"
   },
   {
    "duration": 119,
    "start_time": "2023-06-11T16:27:38.599Z"
   },
   {
    "duration": 494,
    "start_time": "2023-06-11T16:28:50.469Z"
   },
   {
    "duration": 475,
    "start_time": "2023-06-11T16:29:23.744Z"
   },
   {
    "duration": 511,
    "start_time": "2023-06-11T16:30:45.542Z"
   },
   {
    "duration": 525,
    "start_time": "2023-06-11T16:31:34.889Z"
   },
   {
    "duration": 536,
    "start_time": "2023-06-11T16:32:06.172Z"
   },
   {
    "duration": 539,
    "start_time": "2023-06-11T16:32:10.477Z"
   },
   {
    "duration": 542,
    "start_time": "2023-06-11T16:32:31.022Z"
   },
   {
    "duration": 507,
    "start_time": "2023-06-11T16:32:56.626Z"
   },
   {
    "duration": 669,
    "start_time": "2023-06-11T16:33:03.801Z"
   },
   {
    "duration": 522,
    "start_time": "2023-06-11T16:33:12.450Z"
   },
   {
    "duration": 307,
    "start_time": "2023-06-11T16:36:19.712Z"
   },
   {
    "duration": 320,
    "start_time": "2023-06-11T16:36:55.969Z"
   },
   {
    "duration": 318,
    "start_time": "2023-06-11T16:37:05.164Z"
   },
   {
    "duration": 463,
    "start_time": "2023-06-11T16:37:35.994Z"
   },
   {
    "duration": 298,
    "start_time": "2023-06-11T16:37:44.109Z"
   },
   {
    "duration": 481,
    "start_time": "2023-06-11T16:38:43.105Z"
   },
   {
    "duration": 512,
    "start_time": "2023-06-11T16:40:12.039Z"
   },
   {
    "duration": 7,
    "start_time": "2023-06-11T16:54:41.601Z"
   },
   {
    "duration": 147,
    "start_time": "2023-06-11T16:55:06.507Z"
   },
   {
    "duration": 134,
    "start_time": "2023-06-11T16:55:33.241Z"
   },
   {
    "duration": 151,
    "start_time": "2023-06-11T16:55:52.192Z"
   },
   {
    "duration": 148,
    "start_time": "2023-06-11T16:56:21.714Z"
   },
   {
    "duration": 144,
    "start_time": "2023-06-11T16:56:26.954Z"
   },
   {
    "duration": 248,
    "start_time": "2023-06-11T16:57:28.828Z"
   },
   {
    "duration": 150,
    "start_time": "2023-06-11T16:57:43.727Z"
   },
   {
    "duration": 168,
    "start_time": "2023-06-11T16:57:47.549Z"
   },
   {
    "duration": 142,
    "start_time": "2023-06-11T16:57:55.142Z"
   },
   {
    "duration": 163,
    "start_time": "2023-06-11T16:58:01.629Z"
   },
   {
    "duration": 156,
    "start_time": "2023-06-11T16:58:07.777Z"
   },
   {
    "duration": 5,
    "start_time": "2023-06-11T16:58:58.538Z"
   },
   {
    "duration": 4,
    "start_time": "2023-06-11T17:00:50.140Z"
   },
   {
    "duration": 5,
    "start_time": "2023-06-11T17:02:18.346Z"
   },
   {
    "duration": 4,
    "start_time": "2023-06-11T17:02:49.468Z"
   },
   {
    "duration": 5,
    "start_time": "2023-06-11T17:03:16.367Z"
   },
   {
    "duration": 9,
    "start_time": "2023-06-11T17:04:24.473Z"
   },
   {
    "duration": 6,
    "start_time": "2023-06-11T17:05:38.903Z"
   },
   {
    "duration": 5,
    "start_time": "2023-06-11T17:05:50.432Z"
   },
   {
    "duration": 5,
    "start_time": "2023-06-11T17:06:06.950Z"
   },
   {
    "duration": 5,
    "start_time": "2023-06-11T17:06:15.447Z"
   },
   {
    "duration": 140,
    "start_time": "2023-06-11T17:08:19.641Z"
   },
   {
    "duration": 172,
    "start_time": "2023-06-11T17:08:36.471Z"
   },
   {
    "duration": 5,
    "start_time": "2023-06-11T17:09:47.002Z"
   },
   {
    "duration": 140,
    "start_time": "2023-06-11T17:10:24.555Z"
   },
   {
    "duration": 5,
    "start_time": "2023-06-11T17:12:13.110Z"
   },
   {
    "duration": 78,
    "start_time": "2023-06-11T17:13:37.224Z"
   },
   {
    "duration": 5,
    "start_time": "2023-06-11T17:13:43.508Z"
   },
   {
    "duration": 11,
    "start_time": "2023-06-11T17:14:00.317Z"
   },
   {
    "duration": 8,
    "start_time": "2023-06-11T17:14:22.976Z"
   },
   {
    "duration": 135,
    "start_time": "2023-06-11T17:14:55.575Z"
   },
   {
    "duration": 6,
    "start_time": "2023-06-11T17:15:01.110Z"
   },
   {
    "duration": 17,
    "start_time": "2023-06-11T17:15:13.482Z"
   },
   {
    "duration": 1251,
    "start_time": "2023-06-11T17:15:29.633Z"
   },
   {
    "duration": 718,
    "start_time": "2023-06-11T17:15:30.886Z"
   },
   {
    "duration": 5,
    "start_time": "2023-06-11T17:15:31.606Z"
   },
   {
    "duration": 57,
    "start_time": "2023-06-11T17:15:31.625Z"
   },
   {
    "duration": 41,
    "start_time": "2023-06-11T17:15:31.684Z"
   },
   {
    "duration": 31,
    "start_time": "2023-06-11T17:15:31.727Z"
   },
   {
    "duration": 25,
    "start_time": "2023-06-11T17:15:31.760Z"
   },
   {
    "duration": 8,
    "start_time": "2023-06-11T17:15:31.787Z"
   },
   {
    "duration": 9,
    "start_time": "2023-06-11T17:15:31.797Z"
   },
   {
    "duration": 20,
    "start_time": "2023-06-11T17:15:31.809Z"
   },
   {
    "duration": 15,
    "start_time": "2023-06-11T17:15:31.831Z"
   },
   {
    "duration": 383,
    "start_time": "2023-06-11T17:15:31.847Z"
   },
   {
    "duration": 5,
    "start_time": "2023-06-11T17:15:32.231Z"
   },
   {
    "duration": 23,
    "start_time": "2023-06-11T17:15:32.237Z"
   },
   {
    "duration": 121,
    "start_time": "2023-06-11T17:15:32.262Z"
   },
   {
    "duration": 5,
    "start_time": "2023-06-11T17:15:32.385Z"
   },
   {
    "duration": 33,
    "start_time": "2023-06-11T17:15:32.392Z"
   },
   {
    "duration": 65,
    "start_time": "2023-06-11T17:15:32.427Z"
   },
   {
    "duration": 9,
    "start_time": "2023-06-11T17:15:32.493Z"
   },
   {
    "duration": 8,
    "start_time": "2023-06-11T17:15:32.503Z"
   },
   {
    "duration": 20,
    "start_time": "2023-06-11T17:15:32.513Z"
   },
   {
    "duration": 19,
    "start_time": "2023-06-11T17:15:32.534Z"
   },
   {
    "duration": 509,
    "start_time": "2023-06-11T17:15:32.554Z"
   },
   {
    "duration": 4,
    "start_time": "2023-06-11T17:15:33.065Z"
   },
   {
    "duration": 82,
    "start_time": "2023-06-11T17:15:33.071Z"
   },
   {
    "duration": 37,
    "start_time": "2023-06-11T17:15:33.155Z"
   },
   {
    "duration": 54,
    "start_time": "2023-06-11T17:15:33.193Z"
   },
   {
    "duration": 78,
    "start_time": "2023-06-11T17:15:33.252Z"
   },
   {
    "duration": 67,
    "start_time": "2023-06-11T17:15:33.332Z"
   },
   {
    "duration": 54,
    "start_time": "2023-06-11T17:15:33.402Z"
   },
   {
    "duration": 33,
    "start_time": "2023-06-11T17:15:33.459Z"
   },
   {
    "duration": 67,
    "start_time": "2023-06-11T17:15:33.494Z"
   },
   {
    "duration": 41,
    "start_time": "2023-06-11T17:15:33.563Z"
   },
   {
    "duration": 32,
    "start_time": "2023-06-11T17:15:33.605Z"
   },
   {
    "duration": 24,
    "start_time": "2023-06-11T17:15:33.639Z"
   },
   {
    "duration": 43,
    "start_time": "2023-06-11T17:15:33.665Z"
   },
   {
    "duration": 25,
    "start_time": "2023-06-11T17:15:33.710Z"
   },
   {
    "duration": 45,
    "start_time": "2023-06-11T17:15:33.737Z"
   },
   {
    "duration": 50,
    "start_time": "2023-06-11T17:15:33.784Z"
   },
   {
    "duration": 3,
    "start_time": "2023-06-11T17:15:33.835Z"
   },
   {
    "duration": 530,
    "start_time": "2023-06-11T17:15:33.839Z"
   },
   {
    "duration": 307,
    "start_time": "2023-06-11T17:15:34.371Z"
   },
   {
    "duration": 592,
    "start_time": "2023-06-11T17:15:34.680Z"
   },
   {
    "duration": 187,
    "start_time": "2023-06-11T17:15:35.275Z"
   },
   {
    "duration": 6,
    "start_time": "2023-06-11T17:15:35.464Z"
   },
   {
    "duration": 27,
    "start_time": "2023-06-11T17:15:35.472Z"
   },
   {
    "duration": 166,
    "start_time": "2023-06-11T17:15:35.501Z"
   },
   {
    "duration": 5,
    "start_time": "2023-06-11T17:15:35.669Z"
   },
   {
    "duration": 6,
    "start_time": "2023-06-11T17:16:54.941Z"
   },
   {
    "duration": 5,
    "start_time": "2023-06-11T17:20:14.103Z"
   },
   {
    "duration": 1009,
    "start_time": "2023-06-11T17:37:28.380Z"
   },
   {
    "duration": 706,
    "start_time": "2023-06-11T17:37:29.392Z"
   },
   {
    "duration": 3,
    "start_time": "2023-06-11T17:37:30.100Z"
   },
   {
    "duration": 83,
    "start_time": "2023-06-11T17:37:30.105Z"
   },
   {
    "duration": 249,
    "start_time": "2023-06-11T17:37:30.190Z"
   },
   {
    "duration": 163,
    "start_time": "2023-06-11T17:37:30.441Z"
   },
   {
    "duration": 53,
    "start_time": "2023-06-11T17:37:30.606Z"
   },
   {
    "duration": 91,
    "start_time": "2023-06-11T17:37:30.661Z"
   },
   {
    "duration": 239,
    "start_time": "2023-06-11T17:37:30.754Z"
   },
   {
    "duration": 120,
    "start_time": "2023-06-11T17:37:30.997Z"
   },
   {
    "duration": 44,
    "start_time": "2023-06-11T17:37:31.119Z"
   },
   {
    "duration": 429,
    "start_time": "2023-06-11T17:37:31.165Z"
   },
   {
    "duration": 4,
    "start_time": "2023-06-11T17:37:31.595Z"
   },
   {
    "duration": 41,
    "start_time": "2023-06-11T17:37:31.601Z"
   },
   {
    "duration": 150,
    "start_time": "2023-06-11T17:37:31.644Z"
   },
   {
    "duration": 7,
    "start_time": "2023-06-11T17:37:31.796Z"
   },
   {
    "duration": 16,
    "start_time": "2023-06-11T17:37:31.804Z"
   },
   {
    "duration": 81,
    "start_time": "2023-06-11T17:37:31.825Z"
   },
   {
    "duration": 8,
    "start_time": "2023-06-11T17:37:31.908Z"
   },
   {
    "duration": 4,
    "start_time": "2023-06-11T17:37:31.917Z"
   },
   {
    "duration": 32,
    "start_time": "2023-06-11T17:37:31.922Z"
   },
   {
    "duration": 14,
    "start_time": "2023-06-11T17:37:31.956Z"
   },
   {
    "duration": 445,
    "start_time": "2023-06-11T17:37:31.972Z"
   },
   {
    "duration": 8,
    "start_time": "2023-06-11T17:37:32.419Z"
   },
   {
    "duration": 19,
    "start_time": "2023-06-11T17:37:32.429Z"
   },
   {
    "duration": 15,
    "start_time": "2023-06-11T17:37:32.450Z"
   },
   {
    "duration": 9,
    "start_time": "2023-06-11T17:37:32.467Z"
   },
   {
    "duration": 11,
    "start_time": "2023-06-11T17:37:32.479Z"
   },
   {
    "duration": 7,
    "start_time": "2023-06-11T17:37:32.491Z"
   },
   {
    "duration": 6,
    "start_time": "2023-06-11T17:37:32.499Z"
   },
   {
    "duration": 15,
    "start_time": "2023-06-11T17:37:32.506Z"
   },
   {
    "duration": 19,
    "start_time": "2023-06-11T17:37:32.522Z"
   },
   {
    "duration": 11,
    "start_time": "2023-06-11T17:37:32.542Z"
   },
   {
    "duration": 15,
    "start_time": "2023-06-11T17:37:32.554Z"
   },
   {
    "duration": 10,
    "start_time": "2023-06-11T17:37:32.571Z"
   },
   {
    "duration": 14,
    "start_time": "2023-06-11T17:37:32.583Z"
   },
   {
    "duration": 2,
    "start_time": "2023-06-11T17:37:32.598Z"
   },
   {
    "duration": 26,
    "start_time": "2023-06-11T17:37:32.602Z"
   },
   {
    "duration": 53,
    "start_time": "2023-06-11T17:37:32.630Z"
   },
   {
    "duration": 2,
    "start_time": "2023-06-11T17:37:32.685Z"
   },
   {
    "duration": 532,
    "start_time": "2023-06-11T17:37:32.689Z"
   },
   {
    "duration": 352,
    "start_time": "2023-06-11T17:37:33.223Z"
   },
   {
    "duration": 566,
    "start_time": "2023-06-11T17:37:33.577Z"
   },
   {
    "duration": 161,
    "start_time": "2023-06-11T17:37:34.145Z"
   },
   {
    "duration": 5,
    "start_time": "2023-06-11T17:37:34.307Z"
   },
   {
    "duration": 18,
    "start_time": "2023-06-11T17:37:34.324Z"
   },
   {
    "duration": 168,
    "start_time": "2023-06-11T17:37:34.344Z"
   },
   {
    "duration": 14,
    "start_time": "2023-06-11T17:37:34.513Z"
   },
   {
    "duration": 63,
    "start_time": "2023-06-12T17:18:29.620Z"
   },
   {
    "duration": 1367,
    "start_time": "2023-06-12T17:18:37.341Z"
   },
   {
    "duration": 3648,
    "start_time": "2023-06-12T17:18:38.709Z"
   },
   {
    "duration": 8,
    "start_time": "2023-06-12T17:18:42.360Z"
   },
   {
    "duration": 32,
    "start_time": "2023-06-12T17:18:42.370Z"
   },
   {
    "duration": 15,
    "start_time": "2023-06-12T17:18:42.406Z"
   },
   {
    "duration": 52,
    "start_time": "2023-06-12T17:18:42.424Z"
   },
   {
    "duration": 44,
    "start_time": "2023-06-12T17:18:42.478Z"
   },
   {
    "duration": 10,
    "start_time": "2023-06-12T17:18:42.524Z"
   },
   {
    "duration": 35,
    "start_time": "2023-06-12T17:18:42.536Z"
   },
   {
    "duration": 25,
    "start_time": "2023-06-12T17:18:42.574Z"
   },
   {
    "duration": 36,
    "start_time": "2023-06-12T17:18:42.602Z"
   },
   {
    "duration": 554,
    "start_time": "2023-06-12T17:18:42.640Z"
   },
   {
    "duration": 5,
    "start_time": "2023-06-12T17:18:43.196Z"
   },
   {
    "duration": 23,
    "start_time": "2023-06-12T17:18:43.206Z"
   },
   {
    "duration": 151,
    "start_time": "2023-06-12T17:18:43.246Z"
   },
   {
    "duration": 6,
    "start_time": "2023-06-12T17:18:43.399Z"
   },
   {
    "duration": 8,
    "start_time": "2023-06-12T17:18:43.407Z"
   },
   {
    "duration": 90,
    "start_time": "2023-06-12T17:18:43.417Z"
   },
   {
    "duration": 9,
    "start_time": "2023-06-12T17:18:43.510Z"
   },
   {
    "duration": 11,
    "start_time": "2023-06-12T17:18:43.521Z"
   },
   {
    "duration": 37,
    "start_time": "2023-06-12T17:18:43.534Z"
   },
   {
    "duration": 16,
    "start_time": "2023-06-12T17:18:43.573Z"
   },
   {
    "duration": 513,
    "start_time": "2023-06-12T17:18:43.591Z"
   },
   {
    "duration": 5,
    "start_time": "2023-06-12T17:18:44.106Z"
   },
   {
    "duration": 17,
    "start_time": "2023-06-12T17:18:44.112Z"
   },
   {
    "duration": 13,
    "start_time": "2023-06-12T17:18:44.131Z"
   },
   {
    "duration": 55,
    "start_time": "2023-06-12T17:18:44.146Z"
   },
   {
    "duration": 27,
    "start_time": "2023-06-12T17:18:44.203Z"
   },
   {
    "duration": 53,
    "start_time": "2023-06-12T17:18:44.232Z"
   },
   {
    "duration": 85,
    "start_time": "2023-06-12T17:18:44.286Z"
   },
   {
    "duration": 30,
    "start_time": "2023-06-12T17:18:44.373Z"
   },
   {
    "duration": 9,
    "start_time": "2023-06-12T17:18:44.405Z"
   },
   {
    "duration": 10,
    "start_time": "2023-06-12T17:18:44.416Z"
   },
   {
    "duration": 14,
    "start_time": "2023-06-12T17:18:44.428Z"
   },
   {
    "duration": 16,
    "start_time": "2023-06-12T17:18:44.444Z"
   },
   {
    "duration": 19,
    "start_time": "2023-06-12T17:18:44.466Z"
   },
   {
    "duration": 16,
    "start_time": "2023-06-12T17:18:44.487Z"
   },
   {
    "duration": 32,
    "start_time": "2023-06-12T17:18:44.504Z"
   },
   {
    "duration": 48,
    "start_time": "2023-06-12T17:18:44.537Z"
   },
   {
    "duration": 2,
    "start_time": "2023-06-12T17:18:44.587Z"
   },
   {
    "duration": 501,
    "start_time": "2023-06-12T17:18:44.593Z"
   },
   {
    "duration": 0,
    "start_time": "2023-06-12T17:18:45.095Z"
   },
   {
    "duration": 0,
    "start_time": "2023-06-12T17:18:45.097Z"
   },
   {
    "duration": 0,
    "start_time": "2023-06-12T17:18:45.098Z"
   },
   {
    "duration": 0,
    "start_time": "2023-06-12T17:18:45.099Z"
   },
   {
    "duration": 0,
    "start_time": "2023-06-12T17:18:45.100Z"
   },
   {
    "duration": 0,
    "start_time": "2023-06-12T17:18:45.101Z"
   },
   {
    "duration": 0,
    "start_time": "2023-06-12T17:18:45.103Z"
   },
   {
    "duration": 321,
    "start_time": "2023-06-12T17:19:20.856Z"
   },
   {
    "duration": 544,
    "start_time": "2023-06-12T17:22:46.736Z"
   },
   {
    "duration": 193,
    "start_time": "2023-06-12T17:29:47.189Z"
   },
   {
    "duration": 235,
    "start_time": "2023-06-12T17:30:36.962Z"
   },
   {
    "duration": 232,
    "start_time": "2023-06-12T17:31:07.592Z"
   },
   {
    "duration": 250,
    "start_time": "2023-06-12T17:31:36.007Z"
   },
   {
    "duration": 515,
    "start_time": "2023-06-12T17:31:41.089Z"
   },
   {
    "duration": 298,
    "start_time": "2023-06-12T17:32:32.279Z"
   },
   {
    "duration": 244,
    "start_time": "2023-06-12T17:33:49.262Z"
   },
   {
    "duration": 317,
    "start_time": "2023-06-12T17:42:43.287Z"
   },
   {
    "duration": 9,
    "start_time": "2023-06-12T17:47:50.615Z"
   },
   {
    "duration": 4,
    "start_time": "2023-06-12T17:47:55.308Z"
   },
   {
    "duration": 14,
    "start_time": "2023-06-12T17:48:12.640Z"
   },
   {
    "duration": 9,
    "start_time": "2023-06-12T17:48:23.004Z"
   },
   {
    "duration": 163,
    "start_time": "2023-06-12T18:17:59.982Z"
   },
   {
    "duration": 5,
    "start_time": "2023-06-12T18:18:00.277Z"
   },
   {
    "duration": 15,
    "start_time": "2023-06-12T18:18:00.545Z"
   },
   {
    "duration": 191,
    "start_time": "2023-06-12T18:18:01.072Z"
   },
   {
    "duration": 6,
    "start_time": "2023-06-12T18:18:01.321Z"
   },
   {
    "duration": 81,
    "start_time": "2023-06-12T18:21:21.973Z"
   },
   {
    "duration": 3,
    "start_time": "2023-06-12T19:48:52.918Z"
   },
   {
    "duration": 296,
    "start_time": "2023-06-12T19:52:55.877Z"
   },
   {
    "duration": 232,
    "start_time": "2023-06-12T19:53:16.886Z"
   },
   {
    "duration": 206,
    "start_time": "2023-06-12T19:54:21.120Z"
   },
   {
    "duration": 173,
    "start_time": "2023-06-12T19:54:47.769Z"
   },
   {
    "duration": 293,
    "start_time": "2023-06-12T19:55:47.483Z"
   },
   {
    "duration": 340,
    "start_time": "2023-06-12T19:55:52.988Z"
   },
   {
    "duration": 342,
    "start_time": "2023-06-12T19:56:05.272Z"
   },
   {
    "duration": 10,
    "start_time": "2023-06-12T19:56:34.222Z"
   },
   {
    "duration": 263,
    "start_time": "2023-06-12T19:56:49.060Z"
   },
   {
    "duration": 368,
    "start_time": "2023-06-12T19:57:02.791Z"
   },
   {
    "duration": 239,
    "start_time": "2023-06-12T19:57:13.664Z"
   },
   {
    "duration": 540,
    "start_time": "2023-06-12T20:00:01.599Z"
   },
   {
    "duration": 521,
    "start_time": "2023-06-12T20:02:18.911Z"
   },
   {
    "duration": 21,
    "start_time": "2023-06-12T20:03:19.858Z"
   },
   {
    "duration": 536,
    "start_time": "2023-06-12T20:03:24.161Z"
   },
   {
    "duration": 479,
    "start_time": "2023-06-12T20:03:58.725Z"
   },
   {
    "duration": 1761,
    "start_time": "2023-06-12T20:05:11.999Z"
   },
   {
    "duration": 1263,
    "start_time": "2023-06-12T20:05:13.762Z"
   },
   {
    "duration": 6,
    "start_time": "2023-06-12T20:05:15.026Z"
   },
   {
    "duration": 60,
    "start_time": "2023-06-12T20:05:15.034Z"
   },
   {
    "duration": 36,
    "start_time": "2023-06-12T20:05:15.095Z"
   },
   {
    "duration": 59,
    "start_time": "2023-06-12T20:05:15.133Z"
   },
   {
    "duration": 5,
    "start_time": "2023-06-12T20:05:15.194Z"
   },
   {
    "duration": 68,
    "start_time": "2023-06-12T20:05:15.200Z"
   },
   {
    "duration": 18,
    "start_time": "2023-06-12T20:05:15.270Z"
   },
   {
    "duration": 13,
    "start_time": "2023-06-12T20:05:15.291Z"
   },
   {
    "duration": 31,
    "start_time": "2023-06-12T20:05:15.306Z"
   },
   {
    "duration": 435,
    "start_time": "2023-06-12T20:05:15.338Z"
   },
   {
    "duration": 5,
    "start_time": "2023-06-12T20:05:15.775Z"
   },
   {
    "duration": 60,
    "start_time": "2023-06-12T20:05:15.781Z"
   },
   {
    "duration": 161,
    "start_time": "2023-06-12T20:05:15.843Z"
   },
   {
    "duration": 5,
    "start_time": "2023-06-12T20:05:16.006Z"
   },
   {
    "duration": 53,
    "start_time": "2023-06-12T20:05:16.013Z"
   },
   {
    "duration": 111,
    "start_time": "2023-06-12T20:05:16.068Z"
   },
   {
    "duration": 10,
    "start_time": "2023-06-12T20:05:16.181Z"
   },
   {
    "duration": 5,
    "start_time": "2023-06-12T20:05:16.193Z"
   },
   {
    "duration": 22,
    "start_time": "2023-06-12T20:05:16.200Z"
   },
   {
    "duration": 25,
    "start_time": "2023-06-12T20:05:16.224Z"
   },
   {
    "duration": 214,
    "start_time": "2023-06-12T20:05:16.259Z"
   },
   {
    "duration": 7,
    "start_time": "2023-06-12T20:05:16.474Z"
   },
   {
    "duration": 25,
    "start_time": "2023-06-12T20:05:16.482Z"
   },
   {
    "duration": 9,
    "start_time": "2023-06-12T20:05:16.509Z"
   },
   {
    "duration": 10,
    "start_time": "2023-06-12T20:05:16.520Z"
   },
   {
    "duration": 15,
    "start_time": "2023-06-12T20:05:16.533Z"
   },
   {
    "duration": 18,
    "start_time": "2023-06-12T20:05:16.560Z"
   },
   {
    "duration": 14,
    "start_time": "2023-06-12T20:05:16.581Z"
   },
   {
    "duration": 10,
    "start_time": "2023-06-12T20:05:16.597Z"
   },
   {
    "duration": 16,
    "start_time": "2023-06-12T20:05:16.608Z"
   },
   {
    "duration": 16,
    "start_time": "2023-06-12T20:05:16.626Z"
   },
   {
    "duration": 34,
    "start_time": "2023-06-12T20:05:16.644Z"
   },
   {
    "duration": 40,
    "start_time": "2023-06-12T20:05:16.680Z"
   },
   {
    "duration": 22,
    "start_time": "2023-06-12T20:05:16.722Z"
   },
   {
    "duration": 7,
    "start_time": "2023-06-12T20:05:16.745Z"
   },
   {
    "duration": 42,
    "start_time": "2023-06-12T20:05:16.754Z"
   },
   {
    "duration": 68,
    "start_time": "2023-06-12T20:05:16.798Z"
   },
   {
    "duration": 220,
    "start_time": "2023-06-12T20:05:16.868Z"
   },
   {
    "duration": 218,
    "start_time": "2023-06-12T20:05:17.090Z"
   },
   {
    "duration": 224,
    "start_time": "2023-06-12T20:05:17.310Z"
   },
   {
    "duration": 369,
    "start_time": "2023-06-12T20:05:17.536Z"
   },
   {
    "duration": 252,
    "start_time": "2023-06-12T20:05:17.907Z"
   },
   {
    "duration": 6,
    "start_time": "2023-06-12T20:05:18.161Z"
   },
   {
    "duration": 14,
    "start_time": "2023-06-12T20:05:18.169Z"
   },
   {
    "duration": 174,
    "start_time": "2023-06-12T20:05:18.185Z"
   },
   {
    "duration": 5,
    "start_time": "2023-06-12T20:05:18.361Z"
   },
   {
    "duration": 7,
    "start_time": "2023-06-12T20:05:18.368Z"
   },
   {
    "duration": 11,
    "start_time": "2023-06-12T20:05:18.376Z"
   },
   {
    "duration": 6,
    "start_time": "2023-06-12T20:06:48.337Z"
   },
   {
    "duration": 364,
    "start_time": "2023-06-12T20:07:07.346Z"
   },
   {
    "duration": 352,
    "start_time": "2023-06-12T20:09:59.088Z"
   },
   {
    "duration": 170,
    "start_time": "2023-06-12T20:11:09.334Z"
   },
   {
    "duration": 5,
    "start_time": "2023-06-12T20:11:21.536Z"
   },
   {
    "duration": 7,
    "start_time": "2023-06-12T20:11:42.871Z"
   },
   {
    "duration": 14,
    "start_time": "2023-06-12T20:12:27.118Z"
   },
   {
    "duration": 411,
    "start_time": "2023-06-12T20:12:29.827Z"
   },
   {
    "duration": 11,
    "start_time": "2023-06-12T20:13:22.382Z"
   },
   {
    "duration": 5,
    "start_time": "2023-06-12T20:13:28.098Z"
   },
   {
    "duration": 6,
    "start_time": "2023-06-12T20:13:40.045Z"
   },
   {
    "duration": 5,
    "start_time": "2023-06-12T20:14:02.163Z"
   },
   {
    "duration": 11,
    "start_time": "2023-06-12T20:14:11.769Z"
   },
   {
    "duration": 354,
    "start_time": "2023-06-12T20:14:14.537Z"
   },
   {
    "duration": 1496,
    "start_time": "2023-06-12T20:15:06.623Z"
   },
   {
    "duration": 1452,
    "start_time": "2023-06-12T20:15:08.121Z"
   },
   {
    "duration": 4,
    "start_time": "2023-06-12T20:15:09.575Z"
   },
   {
    "duration": 70,
    "start_time": "2023-06-12T20:15:09.580Z"
   },
   {
    "duration": 29,
    "start_time": "2023-06-12T20:15:09.652Z"
   },
   {
    "duration": 34,
    "start_time": "2023-06-12T20:15:09.683Z"
   },
   {
    "duration": 11,
    "start_time": "2023-06-12T20:15:09.747Z"
   },
   {
    "duration": 13,
    "start_time": "2023-06-12T20:15:09.760Z"
   },
   {
    "duration": 12,
    "start_time": "2023-06-12T20:15:09.775Z"
   },
   {
    "duration": 9,
    "start_time": "2023-06-12T20:15:09.789Z"
   },
   {
    "duration": 8,
    "start_time": "2023-06-12T20:15:09.800Z"
   },
   {
    "duration": 630,
    "start_time": "2023-06-12T20:15:09.810Z"
   },
   {
    "duration": 18,
    "start_time": "2023-06-12T20:15:10.441Z"
   },
   {
    "duration": 31,
    "start_time": "2023-06-12T20:15:10.462Z"
   },
   {
    "duration": 128,
    "start_time": "2023-06-12T20:15:10.495Z"
   },
   {
    "duration": 5,
    "start_time": "2023-06-12T20:15:10.625Z"
   },
   {
    "duration": 39,
    "start_time": "2023-06-12T20:15:10.632Z"
   },
   {
    "duration": 89,
    "start_time": "2023-06-12T20:15:10.673Z"
   },
   {
    "duration": 9,
    "start_time": "2023-06-12T20:15:10.764Z"
   },
   {
    "duration": 9,
    "start_time": "2023-06-12T20:15:10.775Z"
   },
   {
    "duration": 20,
    "start_time": "2023-06-12T20:15:10.785Z"
   },
   {
    "duration": 28,
    "start_time": "2023-06-12T20:15:10.807Z"
   },
   {
    "duration": 196,
    "start_time": "2023-06-12T20:15:10.837Z"
   },
   {
    "duration": 12,
    "start_time": "2023-06-12T20:15:11.035Z"
   },
   {
    "duration": 51,
    "start_time": "2023-06-12T20:15:11.051Z"
   },
   {
    "duration": 99,
    "start_time": "2023-06-12T20:15:11.103Z"
   },
   {
    "duration": 30,
    "start_time": "2023-06-12T20:15:11.203Z"
   },
   {
    "duration": 20,
    "start_time": "2023-06-12T20:15:11.235Z"
   },
   {
    "duration": 13,
    "start_time": "2023-06-12T20:15:11.256Z"
   },
   {
    "duration": 16,
    "start_time": "2023-06-12T20:15:11.271Z"
   },
   {
    "duration": 11,
    "start_time": "2023-06-12T20:15:11.289Z"
   },
   {
    "duration": 22,
    "start_time": "2023-06-12T20:15:11.302Z"
   },
   {
    "duration": 21,
    "start_time": "2023-06-12T20:15:11.326Z"
   },
   {
    "duration": 23,
    "start_time": "2023-06-12T20:15:11.349Z"
   },
   {
    "duration": 22,
    "start_time": "2023-06-12T20:15:11.374Z"
   },
   {
    "duration": 10,
    "start_time": "2023-06-12T20:15:11.404Z"
   },
   {
    "duration": 12,
    "start_time": "2023-06-12T20:15:11.416Z"
   },
   {
    "duration": 37,
    "start_time": "2023-06-12T20:15:11.430Z"
   },
   {
    "duration": 49,
    "start_time": "2023-06-12T20:15:11.469Z"
   },
   {
    "duration": 222,
    "start_time": "2023-06-12T20:15:11.520Z"
   },
   {
    "duration": 240,
    "start_time": "2023-06-12T20:15:11.746Z"
   },
   {
    "duration": 247,
    "start_time": "2023-06-12T20:15:11.989Z"
   },
   {
    "duration": 457,
    "start_time": "2023-06-12T20:15:12.238Z"
   },
   {
    "duration": 7,
    "start_time": "2023-06-12T20:15:12.698Z"
   },
   {
    "duration": 75,
    "start_time": "2023-06-12T20:15:12.707Z"
   },
   {
    "duration": 24,
    "start_time": "2023-06-12T20:15:12.784Z"
   },
   {
    "duration": 494,
    "start_time": "2023-06-12T20:15:12.809Z"
   },
   {
    "duration": 8,
    "start_time": "2023-06-12T20:15:13.305Z"
   },
   {
    "duration": 273,
    "start_time": "2023-06-12T20:15:13.315Z"
   },
   {
    "duration": 5,
    "start_time": "2023-06-12T20:15:13.590Z"
   },
   {
    "duration": 17,
    "start_time": "2023-06-12T20:15:13.597Z"
   },
   {
    "duration": 55,
    "start_time": "2023-06-12T20:15:13.616Z"
   },
   {
    "duration": 360,
    "start_time": "2023-06-12T20:15:35.779Z"
   },
   {
    "duration": 6,
    "start_time": "2023-06-12T20:15:57.519Z"
   },
   {
    "duration": 6,
    "start_time": "2023-06-12T20:22:45.365Z"
   },
   {
    "duration": 5,
    "start_time": "2023-06-12T20:22:58.500Z"
   },
   {
    "duration": 6,
    "start_time": "2023-06-12T20:23:18.755Z"
   },
   {
    "duration": 10,
    "start_time": "2023-06-12T20:29:42.967Z"
   },
   {
    "duration": 7,
    "start_time": "2023-06-12T20:30:25.097Z"
   },
   {
    "duration": 10,
    "start_time": "2023-06-12T20:31:58.184Z"
   },
   {
    "duration": 119,
    "start_time": "2023-06-12T20:46:29.361Z"
   },
   {
    "duration": 0,
    "start_time": "2023-06-12T20:46:29.482Z"
   },
   {
    "duration": 13,
    "start_time": "2023-06-12T20:46:43.901Z"
   },
   {
    "duration": 8,
    "start_time": "2023-06-12T20:47:48.557Z"
   },
   {
    "duration": 14,
    "start_time": "2023-06-12T20:48:01.869Z"
   },
   {
    "duration": 21,
    "start_time": "2023-06-12T20:48:19.338Z"
   },
   {
    "duration": 15,
    "start_time": "2023-06-12T20:49:15.262Z"
   },
   {
    "duration": 16,
    "start_time": "2023-06-12T20:50:33.748Z"
   },
   {
    "duration": 4,
    "start_time": "2023-06-12T20:51:56.107Z"
   },
   {
    "duration": 15,
    "start_time": "2023-06-12T20:51:56.393Z"
   },
   {
    "duration": 12,
    "start_time": "2023-06-12T20:53:57.124Z"
   },
   {
    "duration": 20,
    "start_time": "2023-06-12T20:54:53.477Z"
   },
   {
    "duration": 27,
    "start_time": "2023-06-12T20:55:03.278Z"
   },
   {
    "duration": 5,
    "start_time": "2023-06-12T20:55:30.128Z"
   },
   {
    "duration": 10,
    "start_time": "2023-06-12T20:55:48.357Z"
   },
   {
    "duration": 17,
    "start_time": "2023-06-12T20:55:49.075Z"
   },
   {
    "duration": 16,
    "start_time": "2023-06-12T20:57:35.097Z"
   },
   {
    "duration": 4,
    "start_time": "2023-06-12T20:58:38.320Z"
   },
   {
    "duration": 23,
    "start_time": "2023-06-12T20:58:38.531Z"
   },
   {
    "duration": 11,
    "start_time": "2023-06-12T21:11:38.441Z"
   },
   {
    "duration": 6,
    "start_time": "2023-06-12T21:11:54.775Z"
   },
   {
    "duration": 14,
    "start_time": "2023-06-12T21:13:39.783Z"
   },
   {
    "duration": 132,
    "start_time": "2023-06-12T22:06:46.242Z"
   },
   {
    "duration": 3,
    "start_time": "2023-06-12T22:06:58.429Z"
   },
   {
    "duration": 6,
    "start_time": "2023-06-12T22:08:19.522Z"
   },
   {
    "duration": 25,
    "start_time": "2023-06-12T22:10:52.097Z"
   },
   {
    "duration": 77,
    "start_time": "2023-06-12T22:10:59.672Z"
   },
   {
    "duration": 18,
    "start_time": "2023-06-12T22:11:11.572Z"
   },
   {
    "duration": 8,
    "start_time": "2023-06-12T22:11:32.602Z"
   },
   {
    "duration": 4,
    "start_time": "2023-06-12T22:14:54.204Z"
   },
   {
    "duration": 23,
    "start_time": "2023-06-12T22:15:59.961Z"
   },
   {
    "duration": 5,
    "start_time": "2023-06-12T22:22:07.956Z"
   },
   {
    "duration": 59,
    "start_time": "2023-06-12T22:22:13.479Z"
   },
   {
    "duration": 42,
    "start_time": "2023-06-13T07:59:31.301Z"
   },
   {
    "duration": 1469,
    "start_time": "2023-06-13T07:59:35.167Z"
   },
   {
    "duration": 2981,
    "start_time": "2023-06-13T07:59:36.638Z"
   },
   {
    "duration": 5,
    "start_time": "2023-06-13T07:59:39.623Z"
   },
   {
    "duration": 17,
    "start_time": "2023-06-13T07:59:39.629Z"
   },
   {
    "duration": 9,
    "start_time": "2023-06-13T07:59:39.647Z"
   },
   {
    "duration": 20,
    "start_time": "2023-06-13T07:59:39.657Z"
   },
   {
    "duration": 14,
    "start_time": "2023-06-13T07:59:39.679Z"
   },
   {
    "duration": 12,
    "start_time": "2023-06-13T07:59:39.695Z"
   },
   {
    "duration": 9,
    "start_time": "2023-06-13T07:59:39.711Z"
   },
   {
    "duration": 6,
    "start_time": "2023-06-13T07:59:39.721Z"
   },
   {
    "duration": 14,
    "start_time": "2023-06-13T07:59:39.728Z"
   },
   {
    "duration": 379,
    "start_time": "2023-06-13T07:59:39.743Z"
   },
   {
    "duration": 4,
    "start_time": "2023-06-13T07:59:40.124Z"
   },
   {
    "duration": 29,
    "start_time": "2023-06-13T07:59:40.130Z"
   },
   {
    "duration": 104,
    "start_time": "2023-06-13T07:59:40.161Z"
   },
   {
    "duration": 4,
    "start_time": "2023-06-13T07:59:40.267Z"
   },
   {
    "duration": 26,
    "start_time": "2023-06-13T07:59:40.272Z"
   },
   {
    "duration": 73,
    "start_time": "2023-06-13T07:59:40.299Z"
   },
   {
    "duration": 8,
    "start_time": "2023-06-13T07:59:40.374Z"
   },
   {
    "duration": 9,
    "start_time": "2023-06-13T07:59:40.384Z"
   },
   {
    "duration": 10,
    "start_time": "2023-06-13T07:59:40.395Z"
   },
   {
    "duration": 20,
    "start_time": "2023-06-13T07:59:40.407Z"
   },
   {
    "duration": 201,
    "start_time": "2023-06-13T07:59:40.429Z"
   },
   {
    "duration": 5,
    "start_time": "2023-06-13T07:59:40.632Z"
   },
   {
    "duration": 14,
    "start_time": "2023-06-13T07:59:40.638Z"
   },
   {
    "duration": 9,
    "start_time": "2023-06-13T07:59:40.653Z"
   },
   {
    "duration": 9,
    "start_time": "2023-06-13T07:59:40.666Z"
   },
   {
    "duration": 13,
    "start_time": "2023-06-13T07:59:40.677Z"
   },
   {
    "duration": 13,
    "start_time": "2023-06-13T07:59:40.691Z"
   },
   {
    "duration": 22,
    "start_time": "2023-06-13T07:59:40.705Z"
   },
   {
    "duration": 27,
    "start_time": "2023-06-13T07:59:40.728Z"
   },
   {
    "duration": 11,
    "start_time": "2023-06-13T07:59:40.757Z"
   },
   {
    "duration": 17,
    "start_time": "2023-06-13T07:59:40.770Z"
   },
   {
    "duration": 25,
    "start_time": "2023-06-13T07:59:40.789Z"
   },
   {
    "duration": 14,
    "start_time": "2023-06-13T07:59:40.816Z"
   },
   {
    "duration": 53,
    "start_time": "2023-06-13T07:59:40.832Z"
   },
   {
    "duration": 17,
    "start_time": "2023-06-13T07:59:40.887Z"
   },
   {
    "duration": 51,
    "start_time": "2023-06-13T07:59:40.905Z"
   },
   {
    "duration": 43,
    "start_time": "2023-06-13T07:59:40.958Z"
   },
   {
    "duration": 262,
    "start_time": "2023-06-13T07:59:41.002Z"
   },
   {
    "duration": 209,
    "start_time": "2023-06-13T07:59:41.266Z"
   },
   {
    "duration": 209,
    "start_time": "2023-06-13T07:59:41.477Z"
   },
   {
    "duration": 305,
    "start_time": "2023-06-13T07:59:41.688Z"
   },
   {
    "duration": 5,
    "start_time": "2023-06-13T07:59:41.994Z"
   },
   {
    "duration": 35,
    "start_time": "2023-06-13T07:59:42.000Z"
   },
   {
    "duration": 20,
    "start_time": "2023-06-13T07:59:42.036Z"
   },
   {
    "duration": 397,
    "start_time": "2023-06-13T07:59:42.058Z"
   },
   {
    "duration": 10,
    "start_time": "2023-06-13T07:59:42.457Z"
   },
   {
    "duration": 17,
    "start_time": "2023-06-13T07:59:42.469Z"
   },
   {
    "duration": 30,
    "start_time": "2023-06-13T07:59:42.488Z"
   },
   {
    "duration": 65,
    "start_time": "2023-06-13T07:59:42.521Z"
   },
   {
    "duration": 31,
    "start_time": "2023-06-13T07:59:42.588Z"
   },
   {
    "duration": 25,
    "start_time": "2023-06-13T07:59:42.620Z"
   },
   {
    "duration": 30,
    "start_time": "2023-06-13T07:59:42.646Z"
   },
   {
    "duration": 92,
    "start_time": "2023-06-13T07:59:42.678Z"
   },
   {
    "duration": 3,
    "start_time": "2023-06-13T07:59:42.772Z"
   },
   {
    "duration": 3,
    "start_time": "2023-06-13T07:59:46.216Z"
   },
   {
    "duration": 5,
    "start_time": "2023-06-13T07:59:57.964Z"
   },
   {
    "duration": 5,
    "start_time": "2023-06-13T08:00:04.753Z"
   },
   {
    "duration": 4,
    "start_time": "2023-06-13T08:00:25.879Z"
   },
   {
    "duration": 225,
    "start_time": "2023-06-13T08:02:44.312Z"
   },
   {
    "duration": 5,
    "start_time": "2023-06-13T08:03:01.254Z"
   },
   {
    "duration": 48,
    "start_time": "2023-06-13T08:08:18.332Z"
   },
   {
    "duration": 3,
    "start_time": "2023-06-13T08:11:31.037Z"
   },
   {
    "duration": 28081,
    "start_time": "2023-06-13T08:14:40.728Z"
   },
   {
    "duration": 2,
    "start_time": "2023-06-13T08:15:13.186Z"
   },
   {
    "duration": 3,
    "start_time": "2023-06-13T08:26:28.553Z"
   },
   {
    "duration": 1624,
    "start_time": "2023-06-13T08:51:08.615Z"
   },
   {
    "duration": 629,
    "start_time": "2023-06-13T08:51:11.961Z"
   },
   {
    "duration": 4,
    "start_time": "2023-06-13T08:51:12.708Z"
   },
   {
    "duration": 6,
    "start_time": "2023-06-13T08:51:14.431Z"
   },
   {
    "duration": 3,
    "start_time": "2023-06-13T08:51:14.763Z"
   },
   {
    "duration": 13,
    "start_time": "2023-06-13T08:51:14.923Z"
   },
   {
    "duration": 2,
    "start_time": "2023-06-13T08:51:15.098Z"
   },
   {
    "duration": 2,
    "start_time": "2023-06-13T08:51:15.611Z"
   },
   {
    "duration": 2,
    "start_time": "2023-06-13T08:51:15.785Z"
   },
   {
    "duration": 3,
    "start_time": "2023-06-13T08:51:16.194Z"
   },
   {
    "duration": 4,
    "start_time": "2023-06-13T08:51:16.723Z"
   },
   {
    "duration": 380,
    "start_time": "2023-06-13T08:51:16.883Z"
   },
   {
    "duration": 5,
    "start_time": "2023-06-13T08:51:17.265Z"
   },
   {
    "duration": 13,
    "start_time": "2023-06-13T08:51:17.403Z"
   },
   {
    "duration": 120,
    "start_time": "2023-06-13T08:51:17.586Z"
   },
   {
    "duration": 6,
    "start_time": "2023-06-13T08:51:18.176Z"
   },
   {
    "duration": 9,
    "start_time": "2023-06-13T08:51:18.524Z"
   },
   {
    "duration": 58,
    "start_time": "2023-06-13T08:51:19.107Z"
   },
   {
    "duration": 9,
    "start_time": "2023-06-13T08:51:19.363Z"
   },
   {
    "duration": 3,
    "start_time": "2023-06-13T08:51:19.573Z"
   },
   {
    "duration": 7,
    "start_time": "2023-06-13T08:51:20.300Z"
   },
   {
    "duration": 12,
    "start_time": "2023-06-13T08:51:20.822Z"
   },
   {
    "duration": 187,
    "start_time": "2023-06-13T08:51:21.411Z"
   },
   {
    "duration": 3,
    "start_time": "2023-06-13T08:51:21.998Z"
   },
   {
    "duration": 11,
    "start_time": "2023-06-13T08:51:22.652Z"
   },
   {
    "duration": 7,
    "start_time": "2023-06-13T08:51:23.001Z"
   },
   {
    "duration": 7,
    "start_time": "2023-06-13T08:51:23.186Z"
   },
   {
    "duration": 7,
    "start_time": "2023-06-13T08:51:23.358Z"
   },
   {
    "duration": 7,
    "start_time": "2023-06-13T08:51:23.544Z"
   },
   {
    "duration": 7,
    "start_time": "2023-06-13T08:51:23.731Z"
   },
   {
    "duration": 11,
    "start_time": "2023-06-13T08:51:23.917Z"
   },
   {
    "duration": 8,
    "start_time": "2023-06-13T08:51:24.105Z"
   },
   {
    "duration": 8,
    "start_time": "2023-06-13T08:51:24.270Z"
   },
   {
    "duration": 3,
    "start_time": "2023-06-13T08:51:24.604Z"
   },
   {
    "duration": 18,
    "start_time": "2023-06-13T08:51:24.779Z"
   },
   {
    "duration": 43,
    "start_time": "2023-06-13T08:51:24.960Z"
   },
   {
    "duration": 180,
    "start_time": "2023-06-13T08:51:25.496Z"
   },
   {
    "duration": 186,
    "start_time": "2023-06-13T08:51:25.693Z"
   },
   {
    "duration": 221,
    "start_time": "2023-06-13T08:51:25.889Z"
   },
   {
    "duration": 308,
    "start_time": "2023-06-13T08:51:26.694Z"
   },
   {
    "duration": 5,
    "start_time": "2023-06-13T08:51:27.004Z"
   },
   {
    "duration": 8,
    "start_time": "2023-06-13T08:51:27.065Z"
   },
   {
    "duration": 5,
    "start_time": "2023-06-13T08:51:27.249Z"
   },
   {
    "duration": 364,
    "start_time": "2023-06-13T08:51:27.809Z"
   },
   {
    "duration": 8,
    "start_time": "2023-06-13T08:51:28.175Z"
   },
   {
    "duration": 15,
    "start_time": "2023-06-13T08:51:28.184Z"
   },
   {
    "duration": 4,
    "start_time": "2023-06-13T08:51:28.504Z"
   },
   {
    "duration": 17,
    "start_time": "2023-06-13T08:51:28.698Z"
   },
   {
    "duration": 3,
    "start_time": "2023-06-13T08:51:29.407Z"
   },
   {
    "duration": 14,
    "start_time": "2023-06-13T08:51:29.593Z"
   },
   {
    "duration": 3,
    "start_time": "2023-06-13T08:51:29.794Z"
   },
   {
    "duration": 56,
    "start_time": "2023-06-13T08:51:30.162Z"
   },
   {
    "duration": 3,
    "start_time": "2023-06-13T08:51:30.562Z"
   },
   {
    "duration": 46,
    "start_time": "2023-06-13T08:51:30.957Z"
   },
   {
    "duration": 48,
    "start_time": "2023-06-13T09:22:52.976Z"
   },
   {
    "duration": 1151,
    "start_time": "2023-06-13T09:22:54.079Z"
   },
   {
    "duration": 1690,
    "start_time": "2023-06-13T09:23:02.131Z"
   },
   {
    "duration": 697,
    "start_time": "2023-06-13T09:23:03.823Z"
   },
   {
    "duration": 5,
    "start_time": "2023-06-13T09:23:04.521Z"
   },
   {
    "duration": 53,
    "start_time": "2023-06-13T09:23:04.528Z"
   },
   {
    "duration": 60,
    "start_time": "2023-06-13T09:23:04.583Z"
   },
   {
    "duration": 22,
    "start_time": "2023-06-13T09:23:04.644Z"
   },
   {
    "duration": 16,
    "start_time": "2023-06-13T09:23:04.668Z"
   },
   {
    "duration": 8,
    "start_time": "2023-06-13T09:23:04.685Z"
   },
   {
    "duration": 27,
    "start_time": "2023-06-13T09:23:04.695Z"
   },
   {
    "duration": 9,
    "start_time": "2023-06-13T09:23:04.725Z"
   },
   {
    "duration": 9,
    "start_time": "2023-06-13T09:23:04.735Z"
   },
   {
    "duration": 396,
    "start_time": "2023-06-13T09:23:04.745Z"
   },
   {
    "duration": 5,
    "start_time": "2023-06-13T09:23:05.142Z"
   },
   {
    "duration": 29,
    "start_time": "2023-06-13T09:23:05.148Z"
   },
   {
    "duration": 115,
    "start_time": "2023-06-13T09:23:05.178Z"
   },
   {
    "duration": 5,
    "start_time": "2023-06-13T09:23:05.295Z"
   },
   {
    "duration": 25,
    "start_time": "2023-06-13T09:23:05.301Z"
   },
   {
    "duration": 91,
    "start_time": "2023-06-13T09:23:05.328Z"
   },
   {
    "duration": 7,
    "start_time": "2023-06-13T09:23:05.421Z"
   },
   {
    "duration": 6,
    "start_time": "2023-06-13T09:23:05.430Z"
   },
   {
    "duration": 70,
    "start_time": "2023-06-13T09:23:05.437Z"
   },
   {
    "duration": 19,
    "start_time": "2023-06-13T09:23:05.509Z"
   },
   {
    "duration": 174,
    "start_time": "2023-06-13T09:23:05.530Z"
   },
   {
    "duration": 3,
    "start_time": "2023-06-13T09:23:05.706Z"
   },
   {
    "duration": 27,
    "start_time": "2023-06-13T09:23:05.711Z"
   },
   {
    "duration": 8,
    "start_time": "2023-06-13T09:23:05.740Z"
   },
   {
    "duration": 34,
    "start_time": "2023-06-13T09:23:05.749Z"
   },
   {
    "duration": 18,
    "start_time": "2023-06-13T09:23:05.787Z"
   },
   {
    "duration": 27,
    "start_time": "2023-06-13T09:23:05.807Z"
   },
   {
    "duration": 85,
    "start_time": "2023-06-13T09:23:05.835Z"
   },
   {
    "duration": 14,
    "start_time": "2023-06-13T09:23:05.922Z"
   },
   {
    "duration": 34,
    "start_time": "2023-06-13T09:23:05.937Z"
   },
   {
    "duration": 19,
    "start_time": "2023-06-13T09:23:05.976Z"
   },
   {
    "duration": 12,
    "start_time": "2023-06-13T09:23:05.996Z"
   },
   {
    "duration": 36,
    "start_time": "2023-06-13T09:23:06.010Z"
   },
   {
    "duration": 42,
    "start_time": "2023-06-13T09:23:06.048Z"
   },
   {
    "duration": 198,
    "start_time": "2023-06-13T09:23:06.091Z"
   },
   {
    "duration": 226,
    "start_time": "2023-06-13T09:23:06.291Z"
   },
   {
    "duration": 214,
    "start_time": "2023-06-13T09:23:06.519Z"
   },
   {
    "duration": 312,
    "start_time": "2023-06-13T09:23:06.735Z"
   },
   {
    "duration": 19,
    "start_time": "2023-06-13T09:23:07.049Z"
   },
   {
    "duration": 18,
    "start_time": "2023-06-13T09:23:07.073Z"
   },
   {
    "duration": 11,
    "start_time": "2023-06-13T09:23:07.092Z"
   },
   {
    "duration": 368,
    "start_time": "2023-06-13T09:23:07.104Z"
   },
   {
    "duration": 9,
    "start_time": "2023-06-13T09:23:07.474Z"
   },
   {
    "duration": 7,
    "start_time": "2023-06-13T09:23:07.484Z"
   },
   {
    "duration": 7,
    "start_time": "2023-06-13T09:23:07.492Z"
   },
   {
    "duration": 19,
    "start_time": "2023-06-13T09:23:07.501Z"
   },
   {
    "duration": 4,
    "start_time": "2023-06-13T09:23:07.522Z"
   },
   {
    "duration": 50,
    "start_time": "2023-06-13T09:23:07.527Z"
   },
   {
    "duration": 9,
    "start_time": "2023-06-13T09:23:07.579Z"
   },
   {
    "duration": 74,
    "start_time": "2023-06-13T09:23:07.590Z"
   },
   {
    "duration": 6,
    "start_time": "2023-06-13T09:23:07.666Z"
   },
   {
    "duration": 65,
    "start_time": "2023-06-13T09:23:07.676Z"
   },
   {
    "duration": 0,
    "start_time": "2023-06-13T09:24:35.568Z"
   },
   {
    "duration": 0,
    "start_time": "2023-06-13T09:24:35.569Z"
   },
   {
    "duration": 0,
    "start_time": "2023-06-13T09:29:33.700Z"
   },
   {
    "duration": 1458,
    "start_time": "2023-06-13T09:29:49.878Z"
   },
   {
    "duration": 787,
    "start_time": "2023-06-13T09:29:51.338Z"
   },
   {
    "duration": 5,
    "start_time": "2023-06-13T09:29:52.128Z"
   },
   {
    "duration": 17,
    "start_time": "2023-06-13T09:29:52.135Z"
   },
   {
    "duration": 43,
    "start_time": "2023-06-13T09:29:52.162Z"
   },
   {
    "duration": 44,
    "start_time": "2023-06-13T09:29:52.207Z"
   },
   {
    "duration": 39,
    "start_time": "2023-06-13T09:29:52.253Z"
   },
   {
    "duration": 29,
    "start_time": "2023-06-13T09:29:52.294Z"
   },
   {
    "duration": 23,
    "start_time": "2023-06-13T09:29:52.325Z"
   },
   {
    "duration": 35,
    "start_time": "2023-06-13T09:29:52.351Z"
   },
   {
    "duration": 27,
    "start_time": "2023-06-13T09:29:52.388Z"
   },
   {
    "duration": 521,
    "start_time": "2023-06-13T09:29:52.417Z"
   },
   {
    "duration": 5,
    "start_time": "2023-06-13T09:29:52.940Z"
   },
   {
    "duration": 45,
    "start_time": "2023-06-13T09:29:52.962Z"
   },
   {
    "duration": 136,
    "start_time": "2023-06-13T09:29:53.009Z"
   },
   {
    "duration": 5,
    "start_time": "2023-06-13T09:29:53.147Z"
   },
   {
    "duration": 39,
    "start_time": "2023-06-13T09:29:53.154Z"
   },
   {
    "duration": 89,
    "start_time": "2023-06-13T09:29:53.195Z"
   },
   {
    "duration": 11,
    "start_time": "2023-06-13T09:29:53.286Z"
   },
   {
    "duration": 45,
    "start_time": "2023-06-13T09:29:53.299Z"
   },
   {
    "duration": 23,
    "start_time": "2023-06-13T09:29:53.346Z"
   },
   {
    "duration": 37,
    "start_time": "2023-06-13T09:29:53.372Z"
   },
   {
    "duration": 189,
    "start_time": "2023-06-13T09:29:53.411Z"
   },
   {
    "duration": 4,
    "start_time": "2023-06-13T09:29:53.602Z"
   },
   {
    "duration": 18,
    "start_time": "2023-06-13T09:29:53.608Z"
   },
   {
    "duration": 12,
    "start_time": "2023-06-13T09:29:53.627Z"
   },
   {
    "duration": 10,
    "start_time": "2023-06-13T09:29:53.640Z"
   },
   {
    "duration": 41,
    "start_time": "2023-06-13T09:29:53.664Z"
   },
   {
    "duration": 28,
    "start_time": "2023-06-13T09:29:53.707Z"
   },
   {
    "duration": 24,
    "start_time": "2023-06-13T09:29:53.737Z"
   },
   {
    "duration": 39,
    "start_time": "2023-06-13T09:29:53.762Z"
   },
   {
    "duration": 16,
    "start_time": "2023-06-13T09:29:53.803Z"
   },
   {
    "duration": 9,
    "start_time": "2023-06-13T09:29:53.821Z"
   },
   {
    "duration": 14,
    "start_time": "2023-06-13T09:29:53.831Z"
   },
   {
    "duration": 37,
    "start_time": "2023-06-13T09:29:53.847Z"
   },
   {
    "duration": 91,
    "start_time": "2023-06-13T09:29:53.886Z"
   },
   {
    "duration": 205,
    "start_time": "2023-06-13T09:29:53.978Z"
   },
   {
    "duration": 228,
    "start_time": "2023-06-13T09:29:54.185Z"
   },
   {
    "duration": 217,
    "start_time": "2023-06-13T09:29:54.415Z"
   },
   {
    "duration": 332,
    "start_time": "2023-06-13T09:29:54.634Z"
   },
   {
    "duration": 11,
    "start_time": "2023-06-13T09:29:54.968Z"
   },
   {
    "duration": 39,
    "start_time": "2023-06-13T09:29:54.981Z"
   },
   {
    "duration": 58,
    "start_time": "2023-06-13T09:29:55.023Z"
   },
   {
    "duration": 483,
    "start_time": "2023-06-13T09:29:55.083Z"
   },
   {
    "duration": 11,
    "start_time": "2023-06-13T09:29:55.568Z"
   },
   {
    "duration": 31,
    "start_time": "2023-06-13T09:29:55.583Z"
   },
   {
    "duration": 33,
    "start_time": "2023-06-13T09:29:55.616Z"
   },
   {
    "duration": 53,
    "start_time": "2023-06-13T09:29:55.651Z"
   },
   {
    "duration": 19,
    "start_time": "2023-06-13T09:29:55.706Z"
   },
   {
    "duration": 20,
    "start_time": "2023-06-13T09:29:55.727Z"
   },
   {
    "duration": 43,
    "start_time": "2023-06-13T09:29:55.749Z"
   },
   {
    "duration": 63,
    "start_time": "2023-06-13T09:29:55.793Z"
   },
   {
    "duration": 3,
    "start_time": "2023-06-13T09:29:55.858Z"
   },
   {
    "duration": 99,
    "start_time": "2023-06-13T09:29:55.866Z"
   },
   {
    "duration": 1338,
    "start_time": "2023-06-13T09:32:09.953Z"
   },
   {
    "duration": 707,
    "start_time": "2023-06-13T09:32:11.292Z"
   },
   {
    "duration": 5,
    "start_time": "2023-06-13T09:32:12.001Z"
   },
   {
    "duration": 9,
    "start_time": "2023-06-13T09:32:12.009Z"
   },
   {
    "duration": 16,
    "start_time": "2023-06-13T09:32:12.020Z"
   },
   {
    "duration": 29,
    "start_time": "2023-06-13T09:32:12.038Z"
   },
   {
    "duration": 12,
    "start_time": "2023-06-13T09:32:12.069Z"
   },
   {
    "duration": 14,
    "start_time": "2023-06-13T09:32:12.083Z"
   },
   {
    "duration": 10,
    "start_time": "2023-06-13T09:32:12.099Z"
   },
   {
    "duration": 8,
    "start_time": "2023-06-13T09:32:12.113Z"
   },
   {
    "duration": 13,
    "start_time": "2023-06-13T09:32:12.122Z"
   },
   {
    "duration": 387,
    "start_time": "2023-06-13T09:32:12.136Z"
   },
   {
    "duration": 5,
    "start_time": "2023-06-13T09:32:12.526Z"
   },
   {
    "duration": 34,
    "start_time": "2023-06-13T09:32:12.532Z"
   },
   {
    "duration": 113,
    "start_time": "2023-06-13T09:32:12.567Z"
   },
   {
    "duration": 6,
    "start_time": "2023-06-13T09:32:12.682Z"
   },
   {
    "duration": 16,
    "start_time": "2023-06-13T09:32:12.690Z"
   },
   {
    "duration": 86,
    "start_time": "2023-06-13T09:32:12.708Z"
   },
   {
    "duration": 9,
    "start_time": "2023-06-13T09:32:12.795Z"
   },
   {
    "duration": 4,
    "start_time": "2023-06-13T09:32:12.809Z"
   },
   {
    "duration": 21,
    "start_time": "2023-06-13T09:32:12.818Z"
   },
   {
    "duration": 13,
    "start_time": "2023-06-13T09:32:12.842Z"
   },
   {
    "duration": 215,
    "start_time": "2023-06-13T09:32:12.857Z"
   },
   {
    "duration": 7,
    "start_time": "2023-06-13T09:32:13.074Z"
   },
   {
    "duration": 29,
    "start_time": "2023-06-13T09:32:13.087Z"
   },
   {
    "duration": 8,
    "start_time": "2023-06-13T09:32:13.118Z"
   },
   {
    "duration": 7,
    "start_time": "2023-06-13T09:32:13.127Z"
   },
   {
    "duration": 16,
    "start_time": "2023-06-13T09:32:13.137Z"
   },
   {
    "duration": 28,
    "start_time": "2023-06-13T09:32:13.154Z"
   },
   {
    "duration": 24,
    "start_time": "2023-06-13T09:32:13.185Z"
   },
   {
    "duration": 27,
    "start_time": "2023-06-13T09:32:13.211Z"
   },
   {
    "duration": 8,
    "start_time": "2023-06-13T09:32:13.239Z"
   },
   {
    "duration": 51,
    "start_time": "2023-06-13T09:32:13.248Z"
   },
   {
    "duration": 3,
    "start_time": "2023-06-13T09:32:13.301Z"
   },
   {
    "duration": 36,
    "start_time": "2023-06-13T09:32:13.306Z"
   },
   {
    "duration": 42,
    "start_time": "2023-06-13T09:32:13.344Z"
   },
   {
    "duration": 205,
    "start_time": "2023-06-13T09:32:13.388Z"
   },
   {
    "duration": 234,
    "start_time": "2023-06-13T09:32:13.594Z"
   },
   {
    "duration": 238,
    "start_time": "2023-06-13T09:32:13.830Z"
   },
   {
    "duration": 362,
    "start_time": "2023-06-13T09:32:14.079Z"
   },
   {
    "duration": 5,
    "start_time": "2023-06-13T09:32:14.443Z"
   },
   {
    "duration": 8,
    "start_time": "2023-06-13T09:32:14.468Z"
   },
   {
    "duration": 27,
    "start_time": "2023-06-13T09:32:14.478Z"
   },
   {
    "duration": 542,
    "start_time": "2023-06-13T09:32:14.507Z"
   },
   {
    "duration": 11,
    "start_time": "2023-06-13T09:32:15.051Z"
   },
   {
    "duration": 71,
    "start_time": "2023-06-13T09:32:15.064Z"
   },
   {
    "duration": 73,
    "start_time": "2023-06-13T09:32:15.137Z"
   },
   {
    "duration": 51,
    "start_time": "2023-06-13T09:32:15.212Z"
   },
   {
    "duration": 35,
    "start_time": "2023-06-13T09:32:15.271Z"
   },
   {
    "duration": 42,
    "start_time": "2023-06-13T09:32:15.308Z"
   },
   {
    "duration": 36,
    "start_time": "2023-06-13T09:32:15.352Z"
   },
   {
    "duration": 114,
    "start_time": "2023-06-13T09:32:15.390Z"
   },
   {
    "duration": 21,
    "start_time": "2023-06-13T09:32:15.506Z"
   },
   {
    "duration": 116,
    "start_time": "2023-06-13T09:32:15.529Z"
   },
   {
    "duration": 70,
    "start_time": "2023-06-13T09:34:22.878Z"
   },
   {
    "duration": 1375,
    "start_time": "2023-06-13T09:34:26.234Z"
   },
   {
    "duration": 726,
    "start_time": "2023-06-13T09:34:27.612Z"
   },
   {
    "duration": 5,
    "start_time": "2023-06-13T09:34:28.339Z"
   },
   {
    "duration": 22,
    "start_time": "2023-06-13T09:34:28.345Z"
   },
   {
    "duration": 6,
    "start_time": "2023-06-13T09:34:28.376Z"
   },
   {
    "duration": 20,
    "start_time": "2023-06-13T09:34:28.384Z"
   },
   {
    "duration": 6,
    "start_time": "2023-06-13T09:34:28.406Z"
   },
   {
    "duration": 23,
    "start_time": "2023-06-13T09:34:28.413Z"
   },
   {
    "duration": 14,
    "start_time": "2023-06-13T09:34:28.437Z"
   },
   {
    "duration": 15,
    "start_time": "2023-06-13T09:34:28.453Z"
   },
   {
    "duration": 16,
    "start_time": "2023-06-13T09:34:28.470Z"
   },
   {
    "duration": 428,
    "start_time": "2023-06-13T09:34:28.487Z"
   },
   {
    "duration": 5,
    "start_time": "2023-06-13T09:34:28.918Z"
   },
   {
    "duration": 20,
    "start_time": "2023-06-13T09:34:28.925Z"
   },
   {
    "duration": 132,
    "start_time": "2023-06-13T09:34:28.947Z"
   },
   {
    "duration": 6,
    "start_time": "2023-06-13T09:34:29.080Z"
   },
   {
    "duration": 17,
    "start_time": "2023-06-13T09:34:29.087Z"
   },
   {
    "duration": 71,
    "start_time": "2023-06-13T09:34:29.106Z"
   },
   {
    "duration": 10,
    "start_time": "2023-06-13T09:34:29.180Z"
   },
   {
    "duration": 7,
    "start_time": "2023-06-13T09:34:29.192Z"
   },
   {
    "duration": 15,
    "start_time": "2023-06-13T09:34:29.201Z"
   },
   {
    "duration": 16,
    "start_time": "2023-06-13T09:34:29.217Z"
   },
   {
    "duration": 212,
    "start_time": "2023-06-13T09:34:29.235Z"
   },
   {
    "duration": 4,
    "start_time": "2023-06-13T09:34:29.449Z"
   },
   {
    "duration": 36,
    "start_time": "2023-06-13T09:34:29.465Z"
   },
   {
    "duration": 13,
    "start_time": "2023-06-13T09:34:29.503Z"
   },
   {
    "duration": 12,
    "start_time": "2023-06-13T09:34:29.518Z"
   },
   {
    "duration": 11,
    "start_time": "2023-06-13T09:34:29.532Z"
   },
   {
    "duration": 11,
    "start_time": "2023-06-13T09:34:29.545Z"
   },
   {
    "duration": 9,
    "start_time": "2023-06-13T09:34:29.557Z"
   },
   {
    "duration": 32,
    "start_time": "2023-06-13T09:34:29.570Z"
   },
   {
    "duration": 9,
    "start_time": "2023-06-13T09:34:29.604Z"
   },
   {
    "duration": 11,
    "start_time": "2023-06-13T09:34:29.615Z"
   },
   {
    "duration": 10,
    "start_time": "2023-06-13T09:34:29.628Z"
   },
   {
    "duration": 33,
    "start_time": "2023-06-13T09:34:29.640Z"
   },
   {
    "duration": 53,
    "start_time": "2023-06-13T09:34:29.676Z"
   },
   {
    "duration": 191,
    "start_time": "2023-06-13T09:34:29.731Z"
   },
   {
    "duration": 211,
    "start_time": "2023-06-13T09:34:29.923Z"
   },
   {
    "duration": 237,
    "start_time": "2023-06-13T09:34:30.135Z"
   },
   {
    "duration": 341,
    "start_time": "2023-06-13T09:34:30.373Z"
   },
   {
    "duration": 5,
    "start_time": "2023-06-13T09:34:30.719Z"
   },
   {
    "duration": 50,
    "start_time": "2023-06-13T09:34:30.726Z"
   },
   {
    "duration": 79,
    "start_time": "2023-06-13T09:34:30.778Z"
   },
   {
    "duration": 425,
    "start_time": "2023-06-13T09:34:30.859Z"
   },
   {
    "duration": 8,
    "start_time": "2023-06-13T09:34:31.286Z"
   },
   {
    "duration": 29,
    "start_time": "2023-06-13T09:34:31.295Z"
   },
   {
    "duration": 35,
    "start_time": "2023-06-13T09:34:31.326Z"
   },
   {
    "duration": 45,
    "start_time": "2023-06-13T09:34:31.368Z"
   },
   {
    "duration": 54,
    "start_time": "2023-06-13T09:34:31.415Z"
   },
   {
    "duration": 46,
    "start_time": "2023-06-13T09:34:31.472Z"
   },
   {
    "duration": 35,
    "start_time": "2023-06-13T09:34:31.520Z"
   },
   {
    "duration": 113,
    "start_time": "2023-06-13T09:34:31.557Z"
   },
   {
    "duration": 5,
    "start_time": "2023-06-13T09:34:31.675Z"
   },
   {
    "duration": 95,
    "start_time": "2023-06-13T09:34:31.685Z"
   },
   {
    "duration": 334600,
    "start_time": "2023-06-13T09:34:31.782Z"
   },
   {
    "duration": 0,
    "start_time": "2023-06-13T09:40:06.386Z"
   },
   {
    "duration": 379,
    "start_time": "2023-06-13T09:43:03.515Z"
   },
   {
    "duration": 215747,
    "start_time": "2023-06-13T09:43:16.343Z"
   },
   {
    "duration": 1611,
    "start_time": "2023-06-13T09:50:03.829Z"
   },
   {
    "duration": 684,
    "start_time": "2023-06-13T09:50:05.442Z"
   },
   {
    "duration": 4,
    "start_time": "2023-06-13T09:50:06.127Z"
   },
   {
    "duration": 9,
    "start_time": "2023-06-13T09:50:06.133Z"
   },
   {
    "duration": 5,
    "start_time": "2023-06-13T09:50:06.143Z"
   },
   {
    "duration": 39,
    "start_time": "2023-06-13T09:50:06.149Z"
   },
   {
    "duration": 4,
    "start_time": "2023-06-13T09:50:06.190Z"
   },
   {
    "duration": 5,
    "start_time": "2023-06-13T09:50:06.195Z"
   },
   {
    "duration": 13,
    "start_time": "2023-06-13T09:50:06.201Z"
   },
   {
    "duration": 6,
    "start_time": "2023-06-13T09:50:06.217Z"
   },
   {
    "duration": 10,
    "start_time": "2023-06-13T09:50:06.224Z"
   },
   {
    "duration": 399,
    "start_time": "2023-06-13T09:50:06.236Z"
   },
   {
    "duration": 6,
    "start_time": "2023-06-13T09:50:06.637Z"
   },
   {
    "duration": 38,
    "start_time": "2023-06-13T09:50:06.645Z"
   },
   {
    "duration": 100,
    "start_time": "2023-06-13T09:50:06.688Z"
   },
   {
    "duration": 5,
    "start_time": "2023-06-13T09:50:06.789Z"
   },
   {
    "duration": 8,
    "start_time": "2023-06-13T09:50:06.796Z"
   },
   {
    "duration": 73,
    "start_time": "2023-06-13T09:50:06.806Z"
   },
   {
    "duration": 8,
    "start_time": "2023-06-13T09:50:06.881Z"
   },
   {
    "duration": 2,
    "start_time": "2023-06-13T09:50:06.891Z"
   },
   {
    "duration": 9,
    "start_time": "2023-06-13T09:50:06.894Z"
   },
   {
    "duration": 12,
    "start_time": "2023-06-13T09:50:06.904Z"
   },
   {
    "duration": 219,
    "start_time": "2023-06-13T09:50:06.918Z"
   },
   {
    "duration": 3,
    "start_time": "2023-06-13T09:50:07.139Z"
   },
   {
    "duration": 44,
    "start_time": "2023-06-13T09:50:07.143Z"
   },
   {
    "duration": 6,
    "start_time": "2023-06-13T09:50:07.188Z"
   },
   {
    "duration": 14,
    "start_time": "2023-06-13T09:50:07.195Z"
   },
   {
    "duration": 6,
    "start_time": "2023-06-13T09:50:07.213Z"
   },
   {
    "duration": 8,
    "start_time": "2023-06-13T09:50:07.221Z"
   },
   {
    "duration": 10,
    "start_time": "2023-06-13T09:50:07.231Z"
   },
   {
    "duration": 10,
    "start_time": "2023-06-13T09:50:07.243Z"
   },
   {
    "duration": 9,
    "start_time": "2023-06-13T09:50:07.255Z"
   },
   {
    "duration": 22,
    "start_time": "2023-06-13T09:50:07.266Z"
   },
   {
    "duration": 4,
    "start_time": "2023-06-13T09:50:07.290Z"
   },
   {
    "duration": 22,
    "start_time": "2023-06-13T09:50:07.296Z"
   },
   {
    "duration": 41,
    "start_time": "2023-06-13T09:50:07.320Z"
   },
   {
    "duration": 181,
    "start_time": "2023-06-13T09:50:07.370Z"
   },
   {
    "duration": 197,
    "start_time": "2023-06-13T09:50:07.553Z"
   },
   {
    "duration": 234,
    "start_time": "2023-06-13T09:50:07.752Z"
   },
   {
    "duration": 321,
    "start_time": "2023-06-13T09:50:07.988Z"
   },
   {
    "duration": 5,
    "start_time": "2023-06-13T09:50:08.311Z"
   },
   {
    "duration": 10,
    "start_time": "2023-06-13T09:50:08.317Z"
   },
   {
    "duration": 6,
    "start_time": "2023-06-13T09:50:08.328Z"
   },
   {
    "duration": 388,
    "start_time": "2023-06-13T09:50:08.335Z"
   },
   {
    "duration": 7,
    "start_time": "2023-06-13T09:50:08.725Z"
   },
   {
    "duration": 6,
    "start_time": "2023-06-13T09:50:08.734Z"
   },
   {
    "duration": 8,
    "start_time": "2023-06-13T09:50:08.742Z"
   },
   {
    "duration": 24,
    "start_time": "2023-06-13T09:50:08.762Z"
   },
   {
    "duration": 8,
    "start_time": "2023-06-13T09:50:08.788Z"
   },
   {
    "duration": 16,
    "start_time": "2023-06-13T09:50:08.798Z"
   },
   {
    "duration": 10,
    "start_time": "2023-06-13T09:50:08.815Z"
   },
   {
    "duration": 65,
    "start_time": "2023-06-13T09:50:08.826Z"
   },
   {
    "duration": 3,
    "start_time": "2023-06-13T09:50:08.894Z"
   },
   {
    "duration": 53,
    "start_time": "2023-06-13T09:50:08.898Z"
   },
   {
    "duration": 1696,
    "start_time": "2023-06-13T09:50:32.857Z"
   },
   {
    "duration": 692,
    "start_time": "2023-06-13T09:50:34.555Z"
   },
   {
    "duration": 4,
    "start_time": "2023-06-13T09:50:35.249Z"
   },
   {
    "duration": 19,
    "start_time": "2023-06-13T09:50:35.262Z"
   },
   {
    "duration": 8,
    "start_time": "2023-06-13T09:50:35.283Z"
   },
   {
    "duration": 17,
    "start_time": "2023-06-13T09:50:35.292Z"
   },
   {
    "duration": 2,
    "start_time": "2023-06-13T09:50:35.310Z"
   },
   {
    "duration": 10,
    "start_time": "2023-06-13T09:50:35.314Z"
   },
   {
    "duration": 5,
    "start_time": "2023-06-13T09:50:35.325Z"
   },
   {
    "duration": 6,
    "start_time": "2023-06-13T09:50:35.331Z"
   },
   {
    "duration": 6,
    "start_time": "2023-06-13T09:50:35.339Z"
   },
   {
    "duration": 404,
    "start_time": "2023-06-13T09:50:35.347Z"
   },
   {
    "duration": 24,
    "start_time": "2023-06-13T09:50:35.753Z"
   },
   {
    "duration": 37,
    "start_time": "2023-06-13T09:50:35.779Z"
   },
   {
    "duration": 105,
    "start_time": "2023-06-13T09:50:35.818Z"
   },
   {
    "duration": 4,
    "start_time": "2023-06-13T09:50:35.925Z"
   },
   {
    "duration": 13,
    "start_time": "2023-06-13T09:50:35.931Z"
   },
   {
    "duration": 83,
    "start_time": "2023-06-13T09:50:35.945Z"
   },
   {
    "duration": 7,
    "start_time": "2023-06-13T09:50:36.030Z"
   },
   {
    "duration": 20,
    "start_time": "2023-06-13T09:50:36.039Z"
   },
   {
    "duration": 36,
    "start_time": "2023-06-13T09:50:36.060Z"
   },
   {
    "duration": 25,
    "start_time": "2023-06-13T09:50:36.097Z"
   },
   {
    "duration": 172,
    "start_time": "2023-06-13T09:50:36.124Z"
   },
   {
    "duration": 3,
    "start_time": "2023-06-13T09:50:36.298Z"
   },
   {
    "duration": 17,
    "start_time": "2023-06-13T09:50:36.303Z"
   },
   {
    "duration": 7,
    "start_time": "2023-06-13T09:50:36.321Z"
   },
   {
    "duration": 7,
    "start_time": "2023-06-13T09:50:36.329Z"
   },
   {
    "duration": 7,
    "start_time": "2023-06-13T09:50:36.337Z"
   },
   {
    "duration": 35,
    "start_time": "2023-06-13T09:50:36.345Z"
   },
   {
    "duration": 49,
    "start_time": "2023-06-13T09:50:36.382Z"
   },
   {
    "duration": 17,
    "start_time": "2023-06-13T09:50:36.433Z"
   },
   {
    "duration": 73,
    "start_time": "2023-06-13T09:50:36.452Z"
   },
   {
    "duration": 25,
    "start_time": "2023-06-13T09:50:36.527Z"
   },
   {
    "duration": 37,
    "start_time": "2023-06-13T09:50:36.554Z"
   },
   {
    "duration": 24,
    "start_time": "2023-06-13T09:50:36.594Z"
   },
   {
    "duration": 54,
    "start_time": "2023-06-13T09:50:36.620Z"
   },
   {
    "duration": 171,
    "start_time": "2023-06-13T09:50:36.676Z"
   },
   {
    "duration": 191,
    "start_time": "2023-06-13T09:50:36.849Z"
   },
   {
    "duration": 211,
    "start_time": "2023-06-13T09:50:37.042Z"
   },
   {
    "duration": 291,
    "start_time": "2023-06-13T09:50:37.255Z"
   },
   {
    "duration": 20,
    "start_time": "2023-06-13T09:50:37.549Z"
   },
   {
    "duration": 16,
    "start_time": "2023-06-13T09:50:37.575Z"
   },
   {
    "duration": 19,
    "start_time": "2023-06-13T09:50:37.592Z"
   },
   {
    "duration": 370,
    "start_time": "2023-06-13T09:50:37.612Z"
   },
   {
    "duration": 8,
    "start_time": "2023-06-13T09:50:37.984Z"
   },
   {
    "duration": 29,
    "start_time": "2023-06-13T09:50:37.994Z"
   },
   {
    "duration": 28,
    "start_time": "2023-06-13T09:50:38.025Z"
   },
   {
    "duration": 40,
    "start_time": "2023-06-13T09:50:38.054Z"
   },
   {
    "duration": 17,
    "start_time": "2023-06-13T09:50:38.095Z"
   },
   {
    "duration": 23,
    "start_time": "2023-06-13T09:50:38.113Z"
   },
   {
    "duration": 19,
    "start_time": "2023-06-13T09:50:38.138Z"
   },
   {
    "duration": 84,
    "start_time": "2023-06-13T09:50:38.158Z"
   },
   {
    "duration": 3,
    "start_time": "2023-06-13T09:50:38.244Z"
   },
   {
    "duration": 81,
    "start_time": "2023-06-13T09:50:38.248Z"
   },
   {
    "duration": 1799,
    "start_time": "2023-06-13T09:51:50.868Z"
   },
   {
    "duration": 726,
    "start_time": "2023-06-13T09:51:52.670Z"
   },
   {
    "duration": 5,
    "start_time": "2023-06-13T09:51:53.398Z"
   },
   {
    "duration": 12,
    "start_time": "2023-06-13T09:51:53.406Z"
   },
   {
    "duration": 13,
    "start_time": "2023-06-13T09:51:53.419Z"
   },
   {
    "duration": 18,
    "start_time": "2023-06-13T09:51:53.433Z"
   },
   {
    "duration": 2,
    "start_time": "2023-06-13T09:51:53.453Z"
   },
   {
    "duration": 33,
    "start_time": "2023-06-13T09:51:53.456Z"
   },
   {
    "duration": 14,
    "start_time": "2023-06-13T09:51:53.491Z"
   },
   {
    "duration": 18,
    "start_time": "2023-06-13T09:51:53.508Z"
   },
   {
    "duration": 17,
    "start_time": "2023-06-13T09:51:53.527Z"
   },
   {
    "duration": 459,
    "start_time": "2023-06-13T09:51:53.546Z"
   },
   {
    "duration": 5,
    "start_time": "2023-06-13T09:51:54.006Z"
   },
   {
    "duration": 42,
    "start_time": "2023-06-13T09:51:54.013Z"
   },
   {
    "duration": 154,
    "start_time": "2023-06-13T09:51:54.057Z"
   },
   {
    "duration": 5,
    "start_time": "2023-06-13T09:51:54.213Z"
   },
   {
    "duration": 38,
    "start_time": "2023-06-13T09:51:54.220Z"
   },
   {
    "duration": 108,
    "start_time": "2023-06-13T09:51:54.260Z"
   },
   {
    "duration": 13,
    "start_time": "2023-06-13T09:51:54.371Z"
   },
   {
    "duration": 21,
    "start_time": "2023-06-13T09:51:54.386Z"
   },
   {
    "duration": 21,
    "start_time": "2023-06-13T09:51:54.409Z"
   },
   {
    "duration": 38,
    "start_time": "2023-06-13T09:51:54.431Z"
   },
   {
    "duration": 220,
    "start_time": "2023-06-13T09:51:54.471Z"
   },
   {
    "duration": 4,
    "start_time": "2023-06-13T09:51:54.693Z"
   },
   {
    "duration": 37,
    "start_time": "2023-06-13T09:51:54.699Z"
   },
   {
    "duration": 17,
    "start_time": "2023-06-13T09:51:54.738Z"
   },
   {
    "duration": 35,
    "start_time": "2023-06-13T09:51:54.757Z"
   },
   {
    "duration": 21,
    "start_time": "2023-06-13T09:51:54.797Z"
   },
   {
    "duration": 23,
    "start_time": "2023-06-13T09:51:54.819Z"
   },
   {
    "duration": 48,
    "start_time": "2023-06-13T09:51:54.843Z"
   },
   {
    "duration": 27,
    "start_time": "2023-06-13T09:51:54.893Z"
   },
   {
    "duration": 25,
    "start_time": "2023-06-13T09:51:54.921Z"
   },
   {
    "duration": 14,
    "start_time": "2023-06-13T09:51:54.947Z"
   },
   {
    "duration": 22,
    "start_time": "2023-06-13T09:51:54.962Z"
   },
   {
    "duration": 37,
    "start_time": "2023-06-13T09:51:54.986Z"
   },
   {
    "duration": 144,
    "start_time": "2023-06-13T09:51:55.024Z"
   },
   {
    "duration": 219,
    "start_time": "2023-06-13T09:51:55.170Z"
   },
   {
    "duration": 222,
    "start_time": "2023-06-13T09:51:55.391Z"
   },
   {
    "duration": 213,
    "start_time": "2023-06-13T09:51:55.615Z"
   },
   {
    "duration": 351,
    "start_time": "2023-06-13T09:51:55.829Z"
   },
   {
    "duration": 6,
    "start_time": "2023-06-13T09:51:56.183Z"
   },
   {
    "duration": 21,
    "start_time": "2023-06-13T09:51:56.190Z"
   },
   {
    "duration": 46,
    "start_time": "2023-06-13T09:51:56.213Z"
   },
   {
    "duration": 492,
    "start_time": "2023-06-13T09:51:56.261Z"
   },
   {
    "duration": 15,
    "start_time": "2023-06-13T09:51:56.767Z"
   },
   {
    "duration": 26,
    "start_time": "2023-06-13T09:51:56.785Z"
   },
   {
    "duration": 26,
    "start_time": "2023-06-13T09:51:56.813Z"
   },
   {
    "duration": 31,
    "start_time": "2023-06-13T09:51:56.840Z"
   },
   {
    "duration": 16,
    "start_time": "2023-06-13T09:51:56.872Z"
   },
   {
    "duration": 22,
    "start_time": "2023-06-13T09:51:56.889Z"
   },
   {
    "duration": 11,
    "start_time": "2023-06-13T09:51:56.912Z"
   },
   {
    "duration": 84,
    "start_time": "2023-06-13T09:51:56.924Z"
   },
   {
    "duration": 4,
    "start_time": "2023-06-13T09:51:57.010Z"
   },
   {
    "duration": 103,
    "start_time": "2023-06-13T09:51:57.016Z"
   },
   {
    "duration": 501165,
    "start_time": "2023-06-13T09:51:57.120Z"
   },
   {
    "duration": 0,
    "start_time": "2023-06-13T10:00:18.287Z"
   },
   {
    "duration": 3,
    "start_time": "2023-06-13T10:00:20.912Z"
   },
   {
    "duration": 3,
    "start_time": "2023-06-13T10:00:23.815Z"
   },
   {
    "duration": 7413545,
    "start_time": "2023-06-13T10:00:26.080Z"
   },
   {
    "duration": 11,
    "start_time": "2023-06-13T12:04:02.371Z"
   },
   {
    "duration": 240,
    "start_time": "2023-06-13T12:04:19.783Z"
   },
   {
    "duration": 209,
    "start_time": "2023-06-13T12:04:40.450Z"
   },
   {
    "duration": 197,
    "start_time": "2023-06-13T12:04:45.311Z"
   },
   {
    "duration": 232,
    "start_time": "2023-06-13T12:04:49.253Z"
   },
   {
    "duration": 215,
    "start_time": "2023-06-13T12:06:04.889Z"
   },
   {
    "duration": 221,
    "start_time": "2023-06-13T12:06:24.611Z"
   },
   {
    "duration": 332,
    "start_time": "2023-06-13T12:07:59.394Z"
   },
   {
    "duration": 223,
    "start_time": "2023-06-13T12:08:08.821Z"
   },
   {
    "duration": 213,
    "start_time": "2023-06-13T12:08:50.820Z"
   },
   {
    "duration": 271,
    "start_time": "2023-06-13T12:09:01.894Z"
   },
   {
    "duration": 244,
    "start_time": "2023-06-13T12:09:11.852Z"
   },
   {
    "duration": 7,
    "start_time": "2023-06-13T12:10:07.049Z"
   },
   {
    "duration": 227,
    "start_time": "2023-06-13T12:10:09.682Z"
   },
   {
    "duration": 225,
    "start_time": "2023-06-13T12:10:25.458Z"
   },
   {
    "duration": 22,
    "start_time": "2023-06-13T12:10:55.158Z"
   },
   {
    "duration": 211,
    "start_time": "2023-06-13T12:10:58.313Z"
   },
   {
    "duration": 244,
    "start_time": "2023-06-13T12:11:15.045Z"
   },
   {
    "duration": 235,
    "start_time": "2023-06-13T12:11:23.316Z"
   },
   {
    "duration": 250,
    "start_time": "2023-06-13T12:11:33.890Z"
   },
   {
    "duration": 223,
    "start_time": "2023-06-13T12:11:39.485Z"
   },
   {
    "duration": 233,
    "start_time": "2023-06-13T12:11:47.496Z"
   },
   {
    "duration": 252,
    "start_time": "2023-06-13T12:11:51.831Z"
   },
   {
    "duration": 241,
    "start_time": "2023-06-13T12:11:58.048Z"
   },
   {
    "duration": 338,
    "start_time": "2023-06-13T12:12:02.020Z"
   },
   {
    "duration": 255,
    "start_time": "2023-06-13T12:12:04.753Z"
   },
   {
    "duration": 225,
    "start_time": "2023-06-13T12:12:08.953Z"
   },
   {
    "duration": 313,
    "start_time": "2023-06-13T12:12:17.322Z"
   },
   {
    "duration": 362,
    "start_time": "2023-06-13T12:12:25.347Z"
   },
   {
    "duration": 393,
    "start_time": "2023-06-13T12:12:33.984Z"
   },
   {
    "duration": 1705,
    "start_time": "2023-06-13T12:12:40.817Z"
   },
   {
    "duration": 717,
    "start_time": "2023-06-13T12:12:42.524Z"
   },
   {
    "duration": 4,
    "start_time": "2023-06-13T12:12:43.242Z"
   },
   {
    "duration": 33,
    "start_time": "2023-06-13T12:12:43.249Z"
   },
   {
    "duration": 24,
    "start_time": "2023-06-13T12:12:43.284Z"
   },
   {
    "duration": 35,
    "start_time": "2023-06-13T12:12:43.311Z"
   },
   {
    "duration": 8,
    "start_time": "2023-06-13T12:12:43.348Z"
   },
   {
    "duration": 31,
    "start_time": "2023-06-13T12:12:43.358Z"
   },
   {
    "duration": 18,
    "start_time": "2023-06-13T12:12:43.391Z"
   },
   {
    "duration": 46,
    "start_time": "2023-06-13T12:12:43.412Z"
   },
   {
    "duration": 33,
    "start_time": "2023-06-13T12:12:43.460Z"
   },
   {
    "duration": 450,
    "start_time": "2023-06-13T12:12:43.495Z"
   },
   {
    "duration": 5,
    "start_time": "2023-06-13T12:12:43.946Z"
   },
   {
    "duration": 38,
    "start_time": "2023-06-13T12:12:43.966Z"
   },
   {
    "duration": 132,
    "start_time": "2023-06-13T12:12:44.005Z"
   },
   {
    "duration": 6,
    "start_time": "2023-06-13T12:12:44.139Z"
   },
   {
    "duration": 30,
    "start_time": "2023-06-13T12:12:44.147Z"
   },
   {
    "duration": 74,
    "start_time": "2023-06-13T12:12:44.180Z"
   },
   {
    "duration": 27,
    "start_time": "2023-06-13T12:12:44.256Z"
   },
   {
    "duration": 18,
    "start_time": "2023-06-13T12:12:44.285Z"
   },
   {
    "duration": 30,
    "start_time": "2023-06-13T12:12:44.305Z"
   },
   {
    "duration": 16,
    "start_time": "2023-06-13T12:12:44.337Z"
   },
   {
    "duration": 250,
    "start_time": "2023-06-13T12:12:44.355Z"
   },
   {
    "duration": 4,
    "start_time": "2023-06-13T12:12:44.606Z"
   },
   {
    "duration": 49,
    "start_time": "2023-06-13T12:12:44.612Z"
   },
   {
    "duration": 29,
    "start_time": "2023-06-13T12:12:44.672Z"
   },
   {
    "duration": 39,
    "start_time": "2023-06-13T12:12:44.703Z"
   },
   {
    "duration": 11,
    "start_time": "2023-06-13T12:12:44.745Z"
   },
   {
    "duration": 27,
    "start_time": "2023-06-13T12:12:44.758Z"
   },
   {
    "duration": 20,
    "start_time": "2023-06-13T12:12:44.787Z"
   },
   {
    "duration": 17,
    "start_time": "2023-06-13T12:12:44.809Z"
   },
   {
    "duration": 7,
    "start_time": "2023-06-13T12:12:44.828Z"
   },
   {
    "duration": 9,
    "start_time": "2023-06-13T12:12:44.837Z"
   },
   {
    "duration": 25,
    "start_time": "2023-06-13T12:12:44.848Z"
   },
   {
    "duration": 7,
    "start_time": "2023-06-13T12:12:44.875Z"
   },
   {
    "duration": 32,
    "start_time": "2023-06-13T12:12:44.883Z"
   },
   {
    "duration": 42,
    "start_time": "2023-06-13T12:12:44.917Z"
   },
   {
    "duration": 212,
    "start_time": "2023-06-13T12:12:44.961Z"
   },
   {
    "duration": 244,
    "start_time": "2023-06-13T12:12:45.175Z"
   },
   {
    "duration": 227,
    "start_time": "2023-06-13T12:12:45.421Z"
   },
   {
    "duration": 345,
    "start_time": "2023-06-13T12:12:45.649Z"
   },
   {
    "duration": 6,
    "start_time": "2023-06-13T12:12:45.996Z"
   },
   {
    "duration": 15,
    "start_time": "2023-06-13T12:12:46.004Z"
   },
   {
    "duration": 10,
    "start_time": "2023-06-13T12:12:46.021Z"
   },
   {
    "duration": 474,
    "start_time": "2023-06-13T12:12:46.033Z"
   },
   {
    "duration": 16,
    "start_time": "2023-06-13T12:12:46.509Z"
   },
   {
    "duration": 27,
    "start_time": "2023-06-13T12:12:46.528Z"
   },
   {
    "duration": 50,
    "start_time": "2023-06-13T12:12:46.557Z"
   },
   {
    "duration": 46,
    "start_time": "2023-06-13T12:12:46.609Z"
   },
   {
    "duration": 24,
    "start_time": "2023-06-13T12:12:46.657Z"
   },
   {
    "duration": 25,
    "start_time": "2023-06-13T12:12:46.682Z"
   },
   {
    "duration": 14,
    "start_time": "2023-06-13T12:12:46.709Z"
   },
   {
    "duration": 82,
    "start_time": "2023-06-13T12:12:46.724Z"
   },
   {
    "duration": 4,
    "start_time": "2023-06-13T12:12:46.808Z"
   },
   {
    "duration": 83,
    "start_time": "2023-06-13T12:12:46.814Z"
   },
   {
    "duration": 48191,
    "start_time": "2023-06-13T12:12:46.898Z"
   },
   {
    "duration": 0,
    "start_time": "2023-06-13T12:13:35.092Z"
   },
   {
    "duration": 3,
    "start_time": "2023-06-13T12:14:57.817Z"
   },
   {
    "duration": 1519548,
    "start_time": "2023-06-13T12:19:08.696Z"
   },
   {
    "duration": 0,
    "start_time": "2023-06-13T12:44:28.246Z"
   },
   {
    "duration": 3826622,
    "start_time": "2023-06-13T12:44:30.022Z"
   },
   {
    "duration": 5,
    "start_time": "2023-06-13T13:48:16.646Z"
   },
   {
    "duration": 1515,
    "start_time": "2023-06-13T14:20:08.474Z"
   },
   {
    "duration": 761,
    "start_time": "2023-06-13T14:20:09.991Z"
   },
   {
    "duration": 14,
    "start_time": "2023-06-13T14:20:10.755Z"
   },
   {
    "duration": 9,
    "start_time": "2023-06-13T14:20:10.782Z"
   },
   {
    "duration": 8,
    "start_time": "2023-06-13T14:20:10.793Z"
   },
   {
    "duration": 16,
    "start_time": "2023-06-13T14:20:10.803Z"
   },
   {
    "duration": 3,
    "start_time": "2023-06-13T14:20:10.821Z"
   },
   {
    "duration": 5,
    "start_time": "2023-06-13T14:20:10.825Z"
   },
   {
    "duration": 8,
    "start_time": "2023-06-13T14:20:10.832Z"
   },
   {
    "duration": 8,
    "start_time": "2023-06-13T14:20:10.842Z"
   },
   {
    "duration": 21,
    "start_time": "2023-06-13T14:20:10.852Z"
   },
   {
    "duration": 452,
    "start_time": "2023-06-13T14:20:10.875Z"
   },
   {
    "duration": 5,
    "start_time": "2023-06-13T14:20:11.329Z"
   },
   {
    "duration": 79,
    "start_time": "2023-06-13T14:20:11.336Z"
   },
   {
    "duration": 174,
    "start_time": "2023-06-13T14:20:11.417Z"
   },
   {
    "duration": 6,
    "start_time": "2023-06-13T14:20:11.593Z"
   },
   {
    "duration": 631,
    "start_time": "2023-06-13T14:20:11.600Z"
   },
   {
    "duration": 73,
    "start_time": "2023-06-13T14:20:12.233Z"
   },
   {
    "duration": 8,
    "start_time": "2023-06-13T14:20:12.310Z"
   },
   {
    "duration": 16,
    "start_time": "2023-06-13T14:20:12.320Z"
   },
   {
    "duration": 12,
    "start_time": "2023-06-13T14:20:12.338Z"
   },
   {
    "duration": 21,
    "start_time": "2023-06-13T14:20:12.352Z"
   },
   {
    "duration": 273,
    "start_time": "2023-06-13T14:20:12.374Z"
   },
   {
    "duration": 4,
    "start_time": "2023-06-13T14:20:12.649Z"
   },
   {
    "duration": 224,
    "start_time": "2023-06-13T14:20:12.655Z"
   },
   {
    "duration": 230,
    "start_time": "2023-06-13T14:20:12.883Z"
   },
   {
    "duration": 106,
    "start_time": "2023-06-13T14:20:13.115Z"
   },
   {
    "duration": 71,
    "start_time": "2023-06-13T14:20:13.224Z"
   },
   {
    "duration": 33,
    "start_time": "2023-06-13T14:20:13.297Z"
   },
   {
    "duration": 24,
    "start_time": "2023-06-13T14:20:13.332Z"
   },
   {
    "duration": 31,
    "start_time": "2023-06-13T14:20:13.358Z"
   },
   {
    "duration": 9,
    "start_time": "2023-06-13T14:20:13.390Z"
   },
   {
    "duration": 26,
    "start_time": "2023-06-13T14:20:13.401Z"
   },
   {
    "duration": 24,
    "start_time": "2023-06-13T14:20:13.429Z"
   },
   {
    "duration": 6,
    "start_time": "2023-06-13T14:20:13.455Z"
   },
   {
    "duration": 77,
    "start_time": "2023-06-13T14:20:13.465Z"
   },
   {
    "duration": 43,
    "start_time": "2023-06-13T14:20:13.544Z"
   },
   {
    "duration": 206,
    "start_time": "2023-06-13T14:20:13.589Z"
   },
   {
    "duration": 237,
    "start_time": "2023-06-13T14:20:13.797Z"
   },
   {
    "duration": 246,
    "start_time": "2023-06-13T14:20:14.037Z"
   },
   {
    "duration": 317,
    "start_time": "2023-06-13T14:20:14.288Z"
   },
   {
    "duration": 6,
    "start_time": "2023-06-13T14:20:14.607Z"
   },
   {
    "duration": 19,
    "start_time": "2023-06-13T14:20:14.615Z"
   },
   {
    "duration": 9,
    "start_time": "2023-06-13T14:20:14.637Z"
   },
   {
    "duration": 442,
    "start_time": "2023-06-13T14:20:14.648Z"
   },
   {
    "duration": 9,
    "start_time": "2023-06-13T14:20:15.092Z"
   },
   {
    "duration": 37,
    "start_time": "2023-06-13T14:20:15.103Z"
   },
   {
    "duration": 18,
    "start_time": "2023-06-13T14:20:15.142Z"
   },
   {
    "duration": 47,
    "start_time": "2023-06-13T14:20:15.161Z"
   },
   {
    "duration": 23,
    "start_time": "2023-06-13T14:20:15.211Z"
   },
   {
    "duration": 20,
    "start_time": "2023-06-13T14:20:15.236Z"
   },
   {
    "duration": 34,
    "start_time": "2023-06-13T14:20:15.257Z"
   },
   {
    "duration": 42,
    "start_time": "2023-06-13T14:20:15.293Z"
   },
   {
    "duration": 92,
    "start_time": "2023-06-13T14:20:15.337Z"
   },
   {
    "duration": 4,
    "start_time": "2023-06-13T14:20:15.431Z"
   },
   {
    "duration": 62,
    "start_time": "2023-06-13T14:20:15.437Z"
   },
   {
    "duration": 179,
    "start_time": "2023-06-13T14:20:15.502Z"
   },
   {
    "duration": 0,
    "start_time": "2023-06-13T14:20:15.684Z"
   },
   {
    "duration": 0,
    "start_time": "2023-06-13T14:20:15.685Z"
   },
   {
    "duration": 358319,
    "start_time": "2023-06-13T14:20:47.247Z"
   },
   {
    "duration": 0,
    "start_time": "2023-06-13T14:26:45.568Z"
   },
   {
    "duration": 83,
    "start_time": "2023-06-13T14:26:47.741Z"
   },
   {
    "duration": 78,
    "start_time": "2023-06-13T14:27:37.491Z"
   },
   {
    "duration": 217,
    "start_time": "2023-06-13T14:29:09.670Z"
   },
   {
    "duration": 23,
    "start_time": "2023-06-13T14:29:20.705Z"
   },
   {
    "duration": 6,
    "start_time": "2023-06-13T14:29:39.820Z"
   },
   {
    "duration": 5,
    "start_time": "2023-06-13T14:29:46.897Z"
   },
   {
    "duration": 120,
    "start_time": "2023-06-13T14:32:47.591Z"
   },
   {
    "duration": 39,
    "start_time": "2023-06-13T14:33:13.221Z"
   },
   {
    "duration": 5,
    "start_time": "2023-06-13T14:33:25.709Z"
   },
   {
    "duration": 5,
    "start_time": "2023-06-13T14:33:30.946Z"
   },
   {
    "duration": 4,
    "start_time": "2023-06-13T14:33:38.835Z"
   },
   {
    "duration": 5,
    "start_time": "2023-06-13T14:33:43.726Z"
   },
   {
    "duration": 4,
    "start_time": "2023-06-13T14:33:47.369Z"
   },
   {
    "duration": 6,
    "start_time": "2023-06-13T14:33:53.362Z"
   },
   {
    "duration": 4,
    "start_time": "2023-06-13T14:34:02.323Z"
   },
   {
    "duration": 101,
    "start_time": "2023-06-13T14:34:57.174Z"
   },
   {
    "duration": 107,
    "start_time": "2023-06-13T14:35:06.842Z"
   },
   {
    "duration": 86,
    "start_time": "2023-06-13T14:35:21.402Z"
   },
   {
    "duration": 88,
    "start_time": "2023-06-13T14:35:27.132Z"
   },
   {
    "duration": 7,
    "start_time": "2023-06-13T14:35:42.169Z"
   },
   {
    "duration": 99,
    "start_time": "2023-06-13T14:35:46.392Z"
   },
   {
    "duration": 25,
    "start_time": "2023-06-13T14:36:03.488Z"
   },
   {
    "duration": 5,
    "start_time": "2023-06-13T14:36:13.796Z"
   },
   {
    "duration": 5,
    "start_time": "2023-06-13T14:36:19.149Z"
   },
   {
    "duration": 4,
    "start_time": "2023-06-13T14:36:23.584Z"
   },
   {
    "duration": 4,
    "start_time": "2023-06-13T14:36:27.318Z"
   },
   {
    "duration": 21,
    "start_time": "2023-06-13T14:36:46.604Z"
   },
   {
    "duration": 6,
    "start_time": "2023-06-13T14:36:51.885Z"
   },
   {
    "duration": 5,
    "start_time": "2023-06-13T14:36:55.447Z"
   },
   {
    "duration": 4,
    "start_time": "2023-06-13T14:36:59.274Z"
   },
   {
    "duration": 5,
    "start_time": "2023-06-13T14:37:03.872Z"
   },
   {
    "duration": 14,
    "start_time": "2023-06-13T14:37:22.022Z"
   },
   {
    "duration": 10,
    "start_time": "2023-06-13T14:37:22.241Z"
   },
   {
    "duration": 130176,
    "start_time": "2023-06-13T14:37:59.411Z"
   },
   {
    "duration": 0,
    "start_time": "2023-06-13T14:40:09.589Z"
   },
   {
    "duration": 3527801,
    "start_time": "2023-06-13T14:40:11.020Z"
   },
   {
    "duration": 0,
    "start_time": "2023-06-13T15:38:58.823Z"
   },
   {
    "duration": 1450,
    "start_time": "2023-06-13T15:41:58.445Z"
   },
   {
    "duration": 779,
    "start_time": "2023-06-13T15:41:59.897Z"
   },
   {
    "duration": 6,
    "start_time": "2023-06-13T15:42:00.677Z"
   },
   {
    "duration": 73,
    "start_time": "2023-06-13T15:42:00.685Z"
   },
   {
    "duration": 59,
    "start_time": "2023-06-13T15:42:00.760Z"
   },
   {
    "duration": 58,
    "start_time": "2023-06-13T15:42:00.821Z"
   },
   {
    "duration": 72,
    "start_time": "2023-06-13T15:42:00.881Z"
   },
   {
    "duration": 195,
    "start_time": "2023-06-13T15:42:00.956Z"
   },
   {
    "duration": 538,
    "start_time": "2023-06-13T15:42:01.153Z"
   },
   {
    "duration": 37,
    "start_time": "2023-06-13T15:42:01.695Z"
   },
   {
    "duration": 44,
    "start_time": "2023-06-13T15:42:01.735Z"
   },
   {
    "duration": 518,
    "start_time": "2023-06-13T15:42:01.781Z"
   },
   {
    "duration": 6,
    "start_time": "2023-06-13T15:42:02.301Z"
   },
   {
    "duration": 17,
    "start_time": "2023-06-13T15:42:02.309Z"
   },
   {
    "duration": 169,
    "start_time": "2023-06-13T15:42:02.328Z"
   },
   {
    "duration": 6,
    "start_time": "2023-06-13T15:42:02.499Z"
   },
   {
    "duration": 24,
    "start_time": "2023-06-13T15:42:02.506Z"
   },
   {
    "duration": 107,
    "start_time": "2023-06-13T15:42:02.532Z"
   },
   {
    "duration": 9,
    "start_time": "2023-06-13T15:42:02.641Z"
   },
   {
    "duration": 17,
    "start_time": "2023-06-13T15:42:02.667Z"
   },
   {
    "duration": 27,
    "start_time": "2023-06-13T15:42:02.686Z"
   },
   {
    "duration": 32,
    "start_time": "2023-06-13T15:42:02.716Z"
   },
   {
    "duration": 271,
    "start_time": "2023-06-13T15:42:02.749Z"
   },
   {
    "duration": 4,
    "start_time": "2023-06-13T15:42:03.022Z"
   },
   {
    "duration": 69,
    "start_time": "2023-06-13T15:42:03.028Z"
   },
   {
    "duration": 27,
    "start_time": "2023-06-13T15:42:03.099Z"
   },
   {
    "duration": 24,
    "start_time": "2023-06-13T15:42:03.127Z"
   },
   {
    "duration": 16,
    "start_time": "2023-06-13T15:42:03.156Z"
   },
   {
    "duration": 20,
    "start_time": "2023-06-13T15:42:03.174Z"
   },
   {
    "duration": 14,
    "start_time": "2023-06-13T15:42:03.195Z"
   },
   {
    "duration": 11,
    "start_time": "2023-06-13T15:42:03.211Z"
   },
   {
    "duration": 7,
    "start_time": "2023-06-13T15:42:03.224Z"
   },
   {
    "duration": 22,
    "start_time": "2023-06-13T15:42:03.232Z"
   },
   {
    "duration": 29,
    "start_time": "2023-06-13T15:42:03.256Z"
   },
   {
    "duration": 21,
    "start_time": "2023-06-13T15:42:03.287Z"
   },
   {
    "duration": 37,
    "start_time": "2023-06-13T15:42:03.310Z"
   },
   {
    "duration": 100,
    "start_time": "2023-06-13T15:42:03.349Z"
   },
   {
    "duration": 217,
    "start_time": "2023-06-13T15:42:03.451Z"
   },
   {
    "duration": 227,
    "start_time": "2023-06-13T15:42:03.678Z"
   },
   {
    "duration": 259,
    "start_time": "2023-06-13T15:42:03.908Z"
   },
   {
    "duration": 342,
    "start_time": "2023-06-13T15:42:04.171Z"
   },
   {
    "duration": 6,
    "start_time": "2023-06-13T15:42:04.514Z"
   },
   {
    "duration": 31,
    "start_time": "2023-06-13T15:42:04.522Z"
   },
   {
    "duration": 35,
    "start_time": "2023-06-13T15:42:04.555Z"
   },
   {
    "duration": 426,
    "start_time": "2023-06-13T15:42:04.592Z"
   },
   {
    "duration": 9,
    "start_time": "2023-06-13T15:42:05.019Z"
   },
   {
    "duration": 24,
    "start_time": "2023-06-13T15:42:05.030Z"
   },
   {
    "duration": 27,
    "start_time": "2023-06-13T15:42:05.056Z"
   },
   {
    "duration": 40,
    "start_time": "2023-06-13T15:42:05.085Z"
   },
   {
    "duration": 7,
    "start_time": "2023-06-13T15:42:05.127Z"
   },
   {
    "duration": 10,
    "start_time": "2023-06-13T15:42:05.136Z"
   },
   {
    "duration": 49,
    "start_time": "2023-06-13T15:42:05.147Z"
   },
   {
    "duration": 15,
    "start_time": "2023-06-13T15:42:05.198Z"
   },
   {
    "duration": 72,
    "start_time": "2023-06-13T15:42:05.215Z"
   },
   {
    "duration": 3,
    "start_time": "2023-06-13T15:42:05.289Z"
   },
   {
    "duration": 116,
    "start_time": "2023-06-13T15:42:05.294Z"
   },
   {
    "duration": 176305,
    "start_time": "2023-06-13T15:42:05.412Z"
   },
   {
    "duration": 0,
    "start_time": "2023-06-13T15:45:01.720Z"
   },
   {
    "duration": 0,
    "start_time": "2023-06-13T15:45:01.721Z"
   },
   {
    "duration": 828852,
    "start_time": "2023-06-13T15:45:03.261Z"
   },
   {
    "duration": 0,
    "start_time": "2023-06-13T15:58:52.115Z"
   },
   {
    "duration": 181,
    "start_time": "2023-06-13T16:05:52.705Z"
   },
   {
    "duration": 1443,
    "start_time": "2023-06-13T17:07:57.010Z"
   },
   {
    "duration": 857,
    "start_time": "2023-06-13T17:07:58.455Z"
   },
   {
    "duration": 5,
    "start_time": "2023-06-13T17:07:59.313Z"
   },
   {
    "duration": 37,
    "start_time": "2023-06-13T17:07:59.320Z"
   },
   {
    "duration": 31,
    "start_time": "2023-06-13T17:07:59.360Z"
   },
   {
    "duration": 48,
    "start_time": "2023-06-13T17:07:59.393Z"
   },
   {
    "duration": 40,
    "start_time": "2023-06-13T17:07:59.443Z"
   },
   {
    "duration": 23,
    "start_time": "2023-06-13T17:07:59.485Z"
   },
   {
    "duration": 16,
    "start_time": "2023-06-13T17:07:59.511Z"
   },
   {
    "duration": 21,
    "start_time": "2023-06-13T17:07:59.529Z"
   },
   {
    "duration": 44,
    "start_time": "2023-06-13T17:07:59.552Z"
   },
   {
    "duration": 485,
    "start_time": "2023-06-13T17:07:59.598Z"
   },
   {
    "duration": 6,
    "start_time": "2023-06-13T17:08:00.085Z"
   },
   {
    "duration": 40,
    "start_time": "2023-06-13T17:08:00.095Z"
   },
   {
    "duration": 187,
    "start_time": "2023-06-13T17:08:00.137Z"
   },
   {
    "duration": 6,
    "start_time": "2023-06-13T17:08:00.326Z"
   },
   {
    "duration": 78,
    "start_time": "2023-06-13T17:08:00.333Z"
   },
   {
    "duration": 106,
    "start_time": "2023-06-13T17:08:00.413Z"
   },
   {
    "duration": 9,
    "start_time": "2023-06-13T17:08:00.522Z"
   },
   {
    "duration": 38,
    "start_time": "2023-06-13T17:08:00.533Z"
   },
   {
    "duration": 10,
    "start_time": "2023-06-13T17:08:00.573Z"
   },
   {
    "duration": 56,
    "start_time": "2023-06-13T17:08:00.585Z"
   },
   {
    "duration": 391,
    "start_time": "2023-06-13T17:08:00.642Z"
   },
   {
    "duration": 5,
    "start_time": "2023-06-13T17:08:01.035Z"
   },
   {
    "duration": 458,
    "start_time": "2023-06-13T17:08:01.042Z"
   },
   {
    "duration": 42,
    "start_time": "2023-06-13T17:08:01.502Z"
   },
   {
    "duration": 65,
    "start_time": "2023-06-13T17:08:01.546Z"
   },
   {
    "duration": 46,
    "start_time": "2023-06-13T17:08:01.613Z"
   },
   {
    "duration": 72,
    "start_time": "2023-06-13T17:08:01.661Z"
   },
   {
    "duration": 33,
    "start_time": "2023-06-13T17:08:01.735Z"
   },
   {
    "duration": 43,
    "start_time": "2023-06-13T17:08:01.769Z"
   },
   {
    "duration": 42,
    "start_time": "2023-06-13T17:08:01.814Z"
   },
   {
    "duration": 53,
    "start_time": "2023-06-13T17:08:01.858Z"
   },
   {
    "duration": 54,
    "start_time": "2023-06-13T17:08:01.915Z"
   },
   {
    "duration": 57,
    "start_time": "2023-06-13T17:08:01.974Z"
   },
   {
    "duration": 76,
    "start_time": "2023-06-13T17:08:02.034Z"
   },
   {
    "duration": 54,
    "start_time": "2023-06-13T17:08:02.112Z"
   },
   {
    "duration": 223,
    "start_time": "2023-06-13T17:08:02.168Z"
   },
   {
    "duration": 251,
    "start_time": "2023-06-13T17:08:02.393Z"
   },
   {
    "duration": 243,
    "start_time": "2023-06-13T17:08:02.646Z"
   },
   {
    "duration": 361,
    "start_time": "2023-06-13T17:08:02.893Z"
   },
   {
    "duration": 21,
    "start_time": "2023-06-13T17:08:03.256Z"
   },
   {
    "duration": 29,
    "start_time": "2023-06-13T17:08:03.280Z"
   },
   {
    "duration": 11,
    "start_time": "2023-06-13T17:08:03.311Z"
   },
   {
    "duration": 452,
    "start_time": "2023-06-13T17:08:03.323Z"
   },
   {
    "duration": 11,
    "start_time": "2023-06-13T17:08:03.779Z"
   },
   {
    "duration": 14,
    "start_time": "2023-06-13T17:08:03.792Z"
   },
   {
    "duration": 6,
    "start_time": "2023-06-13T17:08:03.807Z"
   },
   {
    "duration": 21,
    "start_time": "2023-06-13T17:08:03.814Z"
   },
   {
    "duration": 11,
    "start_time": "2023-06-13T17:08:03.837Z"
   },
   {
    "duration": 21,
    "start_time": "2023-06-13T17:08:03.850Z"
   },
   {
    "duration": 32,
    "start_time": "2023-06-13T17:08:03.873Z"
   },
   {
    "duration": 11,
    "start_time": "2023-06-13T17:08:03.907Z"
   },
   {
    "duration": 77,
    "start_time": "2023-06-13T17:08:03.920Z"
   },
   {
    "duration": 3,
    "start_time": "2023-06-13T17:08:03.999Z"
   },
   {
    "duration": 65,
    "start_time": "2023-06-13T17:08:04.004Z"
   },
   {
    "duration": 115074,
    "start_time": "2023-06-13T17:08:04.072Z"
   },
   {
    "duration": 0,
    "start_time": "2023-06-13T17:09:59.149Z"
   },
   {
    "duration": 0,
    "start_time": "2023-06-13T17:09:59.150Z"
   },
   {
    "duration": 0,
    "start_time": "2023-06-13T17:09:59.168Z"
   },
   {
    "duration": 3,
    "start_time": "2023-06-13T17:10:00.741Z"
   },
   {
    "duration": 1392,
    "start_time": "2023-06-13T19:16:54.582Z"
   },
   {
    "duration": 919,
    "start_time": "2023-06-13T19:16:55.976Z"
   },
   {
    "duration": 5,
    "start_time": "2023-06-13T19:16:56.899Z"
   },
   {
    "duration": 18,
    "start_time": "2023-06-13T19:16:56.907Z"
   },
   {
    "duration": 21,
    "start_time": "2023-06-13T19:16:56.926Z"
   },
   {
    "duration": 16,
    "start_time": "2023-06-13T19:16:56.949Z"
   },
   {
    "duration": 17,
    "start_time": "2023-06-13T19:16:56.967Z"
   },
   {
    "duration": 13,
    "start_time": "2023-06-13T19:16:56.986Z"
   },
   {
    "duration": 9,
    "start_time": "2023-06-13T19:16:57.000Z"
   },
   {
    "duration": 5,
    "start_time": "2023-06-13T19:16:57.012Z"
   },
   {
    "duration": 8,
    "start_time": "2023-06-13T19:16:57.019Z"
   },
   {
    "duration": 444,
    "start_time": "2023-06-13T19:16:57.028Z"
   },
   {
    "duration": 11,
    "start_time": "2023-06-13T19:16:57.474Z"
   },
   {
    "duration": 24,
    "start_time": "2023-06-13T19:16:57.487Z"
   },
   {
    "duration": 138,
    "start_time": "2023-06-13T19:16:57.513Z"
   },
   {
    "duration": 6,
    "start_time": "2023-06-13T19:16:57.652Z"
   },
   {
    "duration": 29,
    "start_time": "2023-06-13T19:16:57.662Z"
   },
   {
    "duration": 64,
    "start_time": "2023-06-13T19:16:57.693Z"
   },
   {
    "duration": 12,
    "start_time": "2023-06-13T19:16:57.759Z"
   },
   {
    "duration": 16,
    "start_time": "2023-06-13T19:16:57.772Z"
   },
   {
    "duration": 17,
    "start_time": "2023-06-13T19:16:57.789Z"
   },
   {
    "duration": 28,
    "start_time": "2023-06-13T19:16:57.807Z"
   },
   {
    "duration": 256,
    "start_time": "2023-06-13T19:16:57.837Z"
   },
   {
    "duration": 4,
    "start_time": "2023-06-13T19:16:58.094Z"
   },
   {
    "duration": 25,
    "start_time": "2023-06-13T19:16:58.100Z"
   },
   {
    "duration": 11,
    "start_time": "2023-06-13T19:16:58.127Z"
   },
   {
    "duration": 9,
    "start_time": "2023-06-13T19:16:58.140Z"
   },
   {
    "duration": 15,
    "start_time": "2023-06-13T19:16:58.164Z"
   },
   {
    "duration": 14,
    "start_time": "2023-06-13T19:16:58.181Z"
   },
   {
    "duration": 10,
    "start_time": "2023-06-13T19:16:58.197Z"
   },
   {
    "duration": 18,
    "start_time": "2023-06-13T19:16:58.209Z"
   },
   {
    "duration": 15,
    "start_time": "2023-06-13T19:16:58.229Z"
   },
   {
    "duration": 11,
    "start_time": "2023-06-13T19:16:58.246Z"
   },
   {
    "duration": 36,
    "start_time": "2023-06-13T19:16:58.258Z"
   },
   {
    "duration": 5,
    "start_time": "2023-06-13T19:16:58.296Z"
   },
   {
    "duration": 30,
    "start_time": "2023-06-13T19:16:58.303Z"
   },
   {
    "duration": 160,
    "start_time": "2023-06-13T19:16:58.335Z"
   },
   {
    "duration": 222,
    "start_time": "2023-06-13T19:16:58.497Z"
   },
   {
    "duration": 1219,
    "start_time": "2023-06-13T19:16:58.721Z"
   },
   {
    "duration": 486,
    "start_time": "2023-06-13T19:16:59.944Z"
   },
   {
    "duration": 341,
    "start_time": "2023-06-13T19:17:00.432Z"
   },
   {
    "duration": 7,
    "start_time": "2023-06-13T19:17:00.775Z"
   },
   {
    "duration": 41,
    "start_time": "2023-06-13T19:17:00.784Z"
   },
   {
    "duration": 70,
    "start_time": "2023-06-13T19:17:00.827Z"
   },
   {
    "duration": 459,
    "start_time": "2023-06-13T19:17:00.899Z"
   },
   {
    "duration": 14,
    "start_time": "2023-06-13T19:17:01.360Z"
   },
   {
    "duration": 45,
    "start_time": "2023-06-13T19:17:01.377Z"
   },
   {
    "duration": 68,
    "start_time": "2023-06-13T19:17:01.424Z"
   },
   {
    "duration": 81,
    "start_time": "2023-06-13T19:17:01.494Z"
   },
   {
    "duration": 42,
    "start_time": "2023-06-13T19:17:01.581Z"
   },
   {
    "duration": 63,
    "start_time": "2023-06-13T19:17:01.625Z"
   },
   {
    "duration": 49,
    "start_time": "2023-06-13T19:17:01.690Z"
   },
   {
    "duration": 230,
    "start_time": "2023-06-13T19:17:01.741Z"
   },
   {
    "duration": 0,
    "start_time": "2023-06-13T19:17:01.974Z"
   },
   {
    "duration": 0,
    "start_time": "2023-06-13T19:17:01.975Z"
   },
   {
    "duration": 0,
    "start_time": "2023-06-13T19:17:01.978Z"
   },
   {
    "duration": 0,
    "start_time": "2023-06-13T19:17:01.979Z"
   },
   {
    "duration": 0,
    "start_time": "2023-06-13T19:17:01.981Z"
   },
   {
    "duration": 0,
    "start_time": "2023-06-13T19:17:01.982Z"
   },
   {
    "duration": 0,
    "start_time": "2023-06-13T19:17:01.983Z"
   },
   {
    "duration": 0,
    "start_time": "2023-06-13T19:17:01.984Z"
   },
   {
    "duration": 0,
    "start_time": "2023-06-13T19:17:01.986Z"
   },
   {
    "duration": 5,
    "start_time": "2023-06-13T19:18:10.347Z"
   },
   {
    "duration": 34,
    "start_time": "2023-06-13T19:18:22.879Z"
   },
   {
    "duration": 29,
    "start_time": "2023-06-13T19:18:28.174Z"
   },
   {
    "duration": 6,
    "start_time": "2023-06-13T19:18:28.884Z"
   },
   {
    "duration": 75,
    "start_time": "2023-06-13T19:18:31.509Z"
   },
   {
    "duration": 3,
    "start_time": "2023-06-13T19:18:32.809Z"
   },
   {
    "duration": 154,
    "start_time": "2023-06-13T19:18:33.655Z"
   },
   {
    "duration": 268,
    "start_time": "2023-06-13T19:18:34.143Z"
   },
   {
    "duration": 4,
    "start_time": "2023-06-13T19:18:34.421Z"
   },
   {
    "duration": 3,
    "start_time": "2023-06-13T19:18:34.934Z"
   },
   {
    "duration": 3,
    "start_time": "2023-06-13T19:18:35.478Z"
   },
   {
    "duration": 90,
    "start_time": "2023-06-13T19:18:36.298Z"
   },
   {
    "duration": 3,
    "start_time": "2023-06-13T19:18:47.960Z"
   },
   {
    "duration": 1304,
    "start_time": "2023-06-13T19:21:45.496Z"
   },
   {
    "duration": 18,
    "start_time": "2023-06-13T19:22:17.598Z"
   },
   {
    "duration": 13,
    "start_time": "2023-06-13T19:23:02.926Z"
   },
   {
    "duration": 13,
    "start_time": "2023-06-13T19:26:06.795Z"
   },
   {
    "duration": 22,
    "start_time": "2023-06-13T19:29:49.976Z"
   },
   {
    "duration": 10,
    "start_time": "2023-06-13T19:32:15.088Z"
   },
   {
    "duration": 5,
    "start_time": "2023-06-13T19:34:18.652Z"
   },
   {
    "duration": 3,
    "start_time": "2023-06-13T19:35:32.293Z"
   },
   {
    "duration": 11,
    "start_time": "2023-06-13T19:36:02.225Z"
   },
   {
    "duration": 3,
    "start_time": "2023-06-13T19:36:41.680Z"
   },
   {
    "duration": 170,
    "start_time": "2023-06-13T19:37:33.325Z"
   },
   {
    "duration": 46362,
    "start_time": "2023-06-13T19:39:08.213Z"
   },
   {
    "duration": 3,
    "start_time": "2023-06-13T19:40:48.703Z"
   },
   {
    "duration": 47755,
    "start_time": "2023-06-13T19:40:50.026Z"
   },
   {
    "duration": 3,
    "start_time": "2023-06-13T19:43:21.051Z"
   },
   {
    "duration": 40285,
    "start_time": "2023-06-13T19:43:21.462Z"
   },
   {
    "duration": 4,
    "start_time": "2023-06-13T19:44:27.976Z"
   },
   {
    "duration": 39193,
    "start_time": "2023-06-13T19:44:28.459Z"
   },
   {
    "duration": 19,
    "start_time": "2023-06-13T19:47:55.798Z"
   },
   {
    "duration": 3,
    "start_time": "2023-06-13T19:50:39.378Z"
   },
   {
    "duration": 38218,
    "start_time": "2023-06-13T19:50:39.590Z"
   },
   {
    "duration": 5,
    "start_time": "2023-06-13T19:54:28.691Z"
   },
   {
    "duration": 6,
    "start_time": "2023-06-13T19:54:58.233Z"
   },
   {
    "duration": 83,
    "start_time": "2023-06-13T19:55:50.996Z"
   },
   {
    "duration": 939,
    "start_time": "2023-06-13T19:55:58.614Z"
   },
   {
    "duration": 104,
    "start_time": "2023-06-13T19:56:30.072Z"
   },
   {
    "duration": 528,
    "start_time": "2023-06-13T19:56:37.599Z"
   },
   {
    "duration": 5,
    "start_time": "2023-06-13T19:56:50.958Z"
   },
   {
    "duration": 40185,
    "start_time": "2023-06-13T19:56:51.288Z"
   },
   {
    "duration": 16,
    "start_time": "2023-06-13T19:57:31.477Z"
   },
   {
    "duration": 25,
    "start_time": "2023-06-13T19:58:48.148Z"
   },
   {
    "duration": 38296,
    "start_time": "2023-06-13T19:59:05.427Z"
   },
   {
    "duration": 15,
    "start_time": "2023-06-13T19:59:43.725Z"
   },
   {
    "duration": 13,
    "start_time": "2023-06-13T20:02:54.982Z"
   },
   {
    "duration": 4,
    "start_time": "2023-06-13T20:03:06.184Z"
   },
   {
    "duration": 37228,
    "start_time": "2023-06-13T20:03:06.547Z"
   },
   {
    "duration": 12,
    "start_time": "2023-06-13T20:03:43.782Z"
   },
   {
    "duration": 13,
    "start_time": "2023-06-13T20:04:01.890Z"
   },
   {
    "duration": 12,
    "start_time": "2023-06-13T20:04:09.118Z"
   },
   {
    "duration": 3,
    "start_time": "2023-06-13T20:05:04.709Z"
   },
   {
    "duration": 79258,
    "start_time": "2023-06-13T20:05:05.090Z"
   },
   {
    "duration": 12,
    "start_time": "2023-06-13T20:06:24.350Z"
   },
   {
    "duration": 3,
    "start_time": "2023-06-13T20:06:46.189Z"
   },
   {
    "duration": 43316,
    "start_time": "2023-06-13T20:06:46.505Z"
   },
   {
    "duration": 18,
    "start_time": "2023-06-13T20:07:29.823Z"
   },
   {
    "duration": 13,
    "start_time": "2023-06-13T20:07:45.235Z"
   },
   {
    "duration": 12,
    "start_time": "2023-06-13T20:07:49.517Z"
   },
   {
    "duration": 2,
    "start_time": "2023-06-13T20:08:14.928Z"
   },
   {
    "duration": 40737,
    "start_time": "2023-06-13T20:08:15.430Z"
   },
   {
    "duration": 12,
    "start_time": "2023-06-13T20:08:56.177Z"
   },
   {
    "duration": 3,
    "start_time": "2023-06-13T20:09:10.783Z"
   },
   {
    "duration": 38928,
    "start_time": "2023-06-13T20:09:11.077Z"
   },
   {
    "duration": 12,
    "start_time": "2023-06-13T20:09:50.007Z"
   },
   {
    "duration": 3,
    "start_time": "2023-06-13T20:10:07.633Z"
   },
   {
    "duration": 22726,
    "start_time": "2023-06-13T20:10:07.639Z"
   },
   {
    "duration": 16,
    "start_time": "2023-06-13T20:10:30.367Z"
   },
   {
    "duration": 4,
    "start_time": "2023-06-13T20:11:08.211Z"
   },
   {
    "duration": 16,
    "start_time": "2023-06-13T20:11:48.441Z"
   },
   {
    "duration": 40688,
    "start_time": "2023-06-13T20:11:48.459Z"
   },
   {
    "duration": 11,
    "start_time": "2023-06-13T20:12:29.149Z"
   },
   {
    "duration": 22,
    "start_time": "2023-06-13T20:12:29.162Z"
   },
   {
    "duration": 10,
    "start_time": "2023-06-13T20:12:29.185Z"
   },
   {
    "duration": 27,
    "start_time": "2023-06-13T20:12:29.196Z"
   },
   {
    "duration": 21,
    "start_time": "2023-06-13T20:12:54.954Z"
   },
   {
    "duration": 94,
    "start_time": "2023-06-13T20:13:15.885Z"
   },
   {
    "duration": 4,
    "start_time": "2023-06-13T20:13:34.689Z"
   },
   {
    "duration": 17,
    "start_time": "2023-06-13T20:14:33.682Z"
   },
   {
    "duration": 3,
    "start_time": "2023-06-13T20:14:46.659Z"
   },
   {
    "duration": 3,
    "start_time": "2023-06-13T20:15:27.050Z"
   },
   {
    "duration": 40841,
    "start_time": "2023-06-13T20:15:27.055Z"
   },
   {
    "duration": 12,
    "start_time": "2023-06-13T20:16:07.899Z"
   },
   {
    "duration": 21,
    "start_time": "2023-06-13T20:16:14.858Z"
   },
   {
    "duration": 13,
    "start_time": "2023-06-13T20:16:33.842Z"
   },
   {
    "duration": 4,
    "start_time": "2023-06-13T20:16:36.614Z"
   },
   {
    "duration": 4,
    "start_time": "2023-06-13T20:16:51.180Z"
   },
   {
    "duration": 3,
    "start_time": "2023-06-13T20:17:58.820Z"
   },
   {
    "duration": 14211,
    "start_time": "2023-06-13T20:17:59.411Z"
   },
   {
    "duration": 4,
    "start_time": "2023-06-13T20:18:54.580Z"
   },
   {
    "duration": 4,
    "start_time": "2023-06-13T20:19:17.604Z"
   },
   {
    "duration": 19,
    "start_time": "2023-06-13T20:23:22.256Z"
   },
   {
    "duration": 11,
    "start_time": "2023-06-13T20:23:32.181Z"
   },
   {
    "duration": 14,
    "start_time": "2023-06-13T20:23:43.376Z"
   },
   {
    "duration": 12,
    "start_time": "2023-06-13T20:24:01.934Z"
   },
   {
    "duration": 5,
    "start_time": "2023-06-13T20:24:20.069Z"
   },
   {
    "duration": 11,
    "start_time": "2023-06-13T20:24:30.050Z"
   },
   {
    "duration": 15,
    "start_time": "2023-06-13T20:26:15.063Z"
   },
   {
    "duration": 12,
    "start_time": "2023-06-13T20:30:37.913Z"
   },
   {
    "duration": 6,
    "start_time": "2023-06-13T20:30:44.103Z"
   },
   {
    "duration": 14,
    "start_time": "2023-06-13T20:31:00.555Z"
   },
   {
    "duration": 3,
    "start_time": "2023-06-13T20:31:39.493Z"
   },
   {
    "duration": 11,
    "start_time": "2023-06-13T20:33:25.307Z"
   },
   {
    "duration": 4,
    "start_time": "2023-06-13T20:33:29.430Z"
   },
   {
    "duration": 12,
    "start_time": "2023-06-13T20:33:32.990Z"
   },
   {
    "duration": 8,
    "start_time": "2023-06-13T21:17:34.026Z"
   },
   {
    "duration": 7,
    "start_time": "2023-06-13T21:18:52.015Z"
   },
   {
    "duration": 4,
    "start_time": "2023-06-13T21:22:02.233Z"
   },
   {
    "duration": 5,
    "start_time": "2023-06-13T21:24:48.799Z"
   },
   {
    "duration": 1912,
    "start_time": "2023-06-13T21:25:08.411Z"
   },
   {
    "duration": 6,
    "start_time": "2023-06-13T21:27:44.622Z"
   },
   {
    "duration": 29,
    "start_time": "2023-06-13T21:27:44.630Z"
   },
   {
    "duration": 1538,
    "start_time": "2023-06-13T21:27:58.342Z"
   },
   {
    "duration": 9,
    "start_time": "2023-06-13T21:28:57.780Z"
   },
   {
    "duration": 4,
    "start_time": "2023-06-13T21:29:24.614Z"
   },
   {
    "duration": 1939,
    "start_time": "2023-06-13T21:29:30.014Z"
   },
   {
    "duration": 7,
    "start_time": "2023-06-13T21:29:54.306Z"
   },
   {
    "duration": 62,
    "start_time": "2023-06-13T21:30:49.462Z"
   },
   {
    "duration": 1661,
    "start_time": "2023-06-13T21:31:00.380Z"
   },
   {
    "duration": 36,
    "start_time": "2023-06-13T21:31:17.644Z"
   },
   {
    "duration": 4,
    "start_time": "2023-06-13T21:32:41.874Z"
   },
   {
    "duration": 32,
    "start_time": "2023-06-13T21:33:11.980Z"
   },
   {
    "duration": 9,
    "start_time": "2023-06-13T21:33:32.560Z"
   },
   {
    "duration": 6,
    "start_time": "2023-06-13T21:33:36.580Z"
   },
   {
    "duration": 1396,
    "start_time": "2023-06-13T21:33:40.679Z"
   },
   {
    "duration": 11,
    "start_time": "2023-06-13T21:33:45.904Z"
   },
   {
    "duration": 20,
    "start_time": "2023-06-13T21:34:00.366Z"
   },
   {
    "duration": 1067,
    "start_time": "2023-06-13T21:36:49.677Z"
   },
   {
    "duration": 10,
    "start_time": "2023-06-13T21:37:09.136Z"
   },
   {
    "duration": 18,
    "start_time": "2023-06-13T21:37:42.855Z"
   },
   {
    "duration": 9,
    "start_time": "2023-06-13T21:37:56.614Z"
   },
   {
    "duration": 1029,
    "start_time": "2023-06-13T21:38:20.875Z"
   },
   {
    "duration": 426,
    "start_time": "2023-06-13T21:38:59.659Z"
   },
   {
    "duration": 357,
    "start_time": "2023-06-13T21:39:30.761Z"
   },
   {
    "duration": 475,
    "start_time": "2023-06-13T21:39:41.213Z"
   },
   {
    "duration": 40,
    "start_time": "2023-06-13T21:40:10.076Z"
   },
   {
    "duration": 8,
    "start_time": "2023-06-13T21:40:15.553Z"
   },
   {
    "duration": 5,
    "start_time": "2023-06-13T21:40:28.543Z"
   },
   {
    "duration": 9,
    "start_time": "2023-06-13T21:40:32.713Z"
   },
   {
    "duration": 8,
    "start_time": "2023-06-13T21:40:34.977Z"
   },
   {
    "duration": 1128,
    "start_time": "2023-06-13T21:41:29.689Z"
   },
   {
    "duration": 1229,
    "start_time": "2023-06-13T21:41:46.962Z"
   },
   {
    "duration": 4,
    "start_time": "2023-06-13T21:42:38.080Z"
   },
   {
    "duration": 1402,
    "start_time": "2023-06-13T21:42:38.842Z"
   },
   {
    "duration": 10,
    "start_time": "2023-06-13T21:43:13.931Z"
   },
   {
    "duration": 10,
    "start_time": "2023-06-13T21:43:22.175Z"
   },
   {
    "duration": 9,
    "start_time": "2023-06-13T21:43:31.435Z"
   },
   {
    "duration": 8,
    "start_time": "2023-06-13T21:44:14.701Z"
   },
   {
    "duration": 8,
    "start_time": "2023-06-13T21:44:21.348Z"
   },
   {
    "duration": 15,
    "start_time": "2023-06-13T21:44:24.153Z"
   },
   {
    "duration": 10,
    "start_time": "2023-06-13T21:44:41.113Z"
   },
   {
    "duration": 11,
    "start_time": "2023-06-13T21:45:10.737Z"
   },
   {
    "duration": 6,
    "start_time": "2023-06-13T21:45:44.480Z"
   },
   {
    "duration": 7,
    "start_time": "2023-06-13T21:45:56.336Z"
   },
   {
    "duration": 7,
    "start_time": "2023-06-13T21:46:02.679Z"
   },
   {
    "duration": 5,
    "start_time": "2023-06-13T21:46:07.226Z"
   },
   {
    "duration": 9,
    "start_time": "2023-06-13T21:46:10.933Z"
   },
   {
    "duration": 7,
    "start_time": "2023-06-13T21:46:25.444Z"
   },
   {
    "duration": 5,
    "start_time": "2023-06-13T21:46:34.136Z"
   },
   {
    "duration": 9,
    "start_time": "2023-06-13T21:47:16.885Z"
   },
   {
    "duration": 3,
    "start_time": "2023-06-13T21:47:48.440Z"
   },
   {
    "duration": 81,
    "start_time": "2023-06-13T21:47:55.648Z"
   },
   {
    "duration": 8,
    "start_time": "2023-06-13T21:48:00.407Z"
   },
   {
    "duration": 10,
    "start_time": "2023-06-13T21:48:33.959Z"
   },
   {
    "duration": 8,
    "start_time": "2023-06-13T21:49:18.038Z"
   },
   {
    "duration": 3,
    "start_time": "2023-06-13T21:49:58.883Z"
   },
   {
    "duration": 11,
    "start_time": "2023-06-13T21:50:15.798Z"
   },
   {
    "duration": 6,
    "start_time": "2023-06-13T21:50:29.279Z"
   },
   {
    "duration": 45,
    "start_time": "2023-06-13T21:54:06.736Z"
   },
   {
    "duration": 4,
    "start_time": "2023-06-13T21:54:37.855Z"
   },
   {
    "duration": 11,
    "start_time": "2023-06-13T21:57:05.250Z"
   },
   {
    "duration": 6,
    "start_time": "2023-06-13T21:57:24.795Z"
   },
   {
    "duration": 17,
    "start_time": "2023-06-13T22:02:50.907Z"
   },
   {
    "duration": 16,
    "start_time": "2023-06-13T22:03:21.085Z"
   },
   {
    "duration": 21,
    "start_time": "2023-06-13T22:03:34.161Z"
   },
   {
    "duration": 7,
    "start_time": "2023-06-13T22:03:41.211Z"
   },
   {
    "duration": 6,
    "start_time": "2023-06-13T22:05:10.577Z"
   },
   {
    "duration": 1611,
    "start_time": "2023-06-13T22:05:19.376Z"
   },
   {
    "duration": 1395,
    "start_time": "2023-06-13T22:05:47.251Z"
   },
   {
    "duration": 80,
    "start_time": "2023-06-13T22:06:28.706Z"
   },
   {
    "duration": 5,
    "start_time": "2023-06-13T22:06:37.695Z"
   },
   {
    "duration": 5,
    "start_time": "2023-06-13T22:06:47.995Z"
   },
   {
    "duration": 1395,
    "start_time": "2023-06-13T22:07:07.146Z"
   },
   {
    "duration": 101,
    "start_time": "2023-06-13T22:10:06.187Z"
   },
   {
    "duration": 11,
    "start_time": "2023-06-13T22:10:11.591Z"
   },
   {
    "duration": 3,
    "start_time": "2023-06-13T22:10:15.141Z"
   },
   {
    "duration": 36342,
    "start_time": "2023-06-13T22:10:15.608Z"
   },
   {
    "duration": 12698,
    "start_time": "2023-06-13T22:10:51.952Z"
   },
   {
    "duration": 22,
    "start_time": "2023-06-13T22:11:04.652Z"
   },
   {
    "duration": 6,
    "start_time": "2023-06-13T22:11:17.944Z"
   },
   {
    "duration": 7,
    "start_time": "2023-06-13T22:12:03.703Z"
   },
   {
    "duration": 26,
    "start_time": "2023-06-13T22:12:16.284Z"
   },
   {
    "duration": 8,
    "start_time": "2023-06-13T22:12:31.592Z"
   },
   {
    "duration": 15,
    "start_time": "2023-06-13T22:12:32.176Z"
   },
   {
    "duration": 1353,
    "start_time": "2023-06-13T22:12:33.258Z"
   },
   {
    "duration": 5,
    "start_time": "2023-06-13T22:12:52.280Z"
   },
   {
    "duration": 3,
    "start_time": "2023-06-13T22:13:36.435Z"
   },
   {
    "duration": 85865,
    "start_time": "2023-06-13T22:15:28.276Z"
   },
   {
    "duration": 88329,
    "start_time": "2023-06-13T22:17:22.811Z"
   },
   {
    "duration": 3,
    "start_time": "2023-06-13T22:18:56.176Z"
   },
   {
    "duration": 13109,
    "start_time": "2023-06-13T22:18:57.076Z"
   },
   {
    "duration": 3369,
    "start_time": "2023-06-13T22:21:30.650Z"
   },
   {
    "duration": 23,
    "start_time": "2023-06-13T22:24:08.255Z"
   },
   {
    "duration": 7,
    "start_time": "2023-06-13T22:27:03.705Z"
   },
   {
    "duration": 3,
    "start_time": "2023-06-13T22:29:03.005Z"
   },
   {
    "duration": 6,
    "start_time": "2023-06-13T22:29:45.447Z"
   },
   {
    "duration": 15,
    "start_time": "2023-06-13T22:30:22.962Z"
   },
   {
    "duration": 6,
    "start_time": "2023-06-13T22:30:53.018Z"
   },
   {
    "duration": 5,
    "start_time": "2023-06-13T22:31:17.456Z"
   },
   {
    "duration": 4,
    "start_time": "2023-06-13T22:32:13.209Z"
   },
   {
    "duration": 4,
    "start_time": "2023-06-13T22:32:34.107Z"
   },
   {
    "duration": 4,
    "start_time": "2023-06-13T22:32:47.611Z"
   },
   {
    "duration": 4,
    "start_time": "2023-06-13T22:33:06.447Z"
   },
   {
    "duration": 3,
    "start_time": "2023-06-13T22:33:20.715Z"
   },
   {
    "duration": 4,
    "start_time": "2023-06-13T22:34:31.475Z"
   },
   {
    "duration": 1435,
    "start_time": "2023-06-13T22:48:11.949Z"
   },
   {
    "duration": 864,
    "start_time": "2023-06-13T22:48:13.386Z"
   },
   {
    "duration": 4,
    "start_time": "2023-06-13T22:48:14.252Z"
   },
   {
    "duration": 22,
    "start_time": "2023-06-13T22:48:14.267Z"
   },
   {
    "duration": 9,
    "start_time": "2023-06-13T22:48:14.291Z"
   },
   {
    "duration": 31,
    "start_time": "2023-06-13T22:48:14.302Z"
   },
   {
    "duration": 2,
    "start_time": "2023-06-13T22:48:14.335Z"
   },
   {
    "duration": 10,
    "start_time": "2023-06-13T22:48:14.339Z"
   },
   {
    "duration": 28,
    "start_time": "2023-06-13T22:48:14.350Z"
   },
   {
    "duration": 31,
    "start_time": "2023-06-13T22:48:14.382Z"
   },
   {
    "duration": 33,
    "start_time": "2023-06-13T22:48:14.415Z"
   },
   {
    "duration": 450,
    "start_time": "2023-06-13T22:48:14.450Z"
   },
   {
    "duration": 4,
    "start_time": "2023-06-13T22:48:14.902Z"
   },
   {
    "duration": 23,
    "start_time": "2023-06-13T22:48:14.908Z"
   },
   {
    "duration": 141,
    "start_time": "2023-06-13T22:48:14.933Z"
   },
   {
    "duration": 6,
    "start_time": "2023-06-13T22:48:15.076Z"
   },
   {
    "duration": 47,
    "start_time": "2023-06-13T22:48:15.084Z"
   },
   {
    "duration": 156,
    "start_time": "2023-06-13T22:48:15.133Z"
   },
   {
    "duration": 9,
    "start_time": "2023-06-13T22:48:15.290Z"
   },
   {
    "duration": 35,
    "start_time": "2023-06-13T22:48:15.300Z"
   },
   {
    "duration": 13,
    "start_time": "2023-06-13T22:48:15.337Z"
   },
   {
    "duration": 41,
    "start_time": "2023-06-13T22:48:15.352Z"
   },
   {
    "duration": 246,
    "start_time": "2023-06-13T22:48:15.394Z"
   },
   {
    "duration": 3,
    "start_time": "2023-06-13T22:48:15.642Z"
   },
   {
    "duration": 57,
    "start_time": "2023-06-13T22:48:15.647Z"
   },
   {
    "duration": 22,
    "start_time": "2023-06-13T22:48:15.705Z"
   },
   {
    "duration": 65,
    "start_time": "2023-06-13T22:48:15.729Z"
   },
   {
    "duration": 7,
    "start_time": "2023-06-13T22:48:15.798Z"
   },
   {
    "duration": 15,
    "start_time": "2023-06-13T22:48:15.807Z"
   },
   {
    "duration": 12,
    "start_time": "2023-06-13T22:48:15.824Z"
   },
   {
    "duration": 25,
    "start_time": "2023-06-13T22:48:15.838Z"
   },
   {
    "duration": 12,
    "start_time": "2023-06-13T22:48:15.865Z"
   },
   {
    "duration": 16,
    "start_time": "2023-06-13T22:48:15.879Z"
   },
   {
    "duration": 29,
    "start_time": "2023-06-13T22:48:15.897Z"
   },
   {
    "duration": 3,
    "start_time": "2023-06-13T22:48:15.927Z"
   },
   {
    "duration": 46,
    "start_time": "2023-06-13T22:48:15.932Z"
   },
   {
    "duration": 46,
    "start_time": "2023-06-13T22:48:15.980Z"
   },
   {
    "duration": 235,
    "start_time": "2023-06-13T22:48:16.028Z"
   },
   {
    "duration": 219,
    "start_time": "2023-06-13T22:48:16.266Z"
   },
   {
    "duration": 256,
    "start_time": "2023-06-13T22:48:16.486Z"
   },
   {
    "duration": 437,
    "start_time": "2023-06-13T22:48:16.743Z"
   },
   {
    "duration": 198,
    "start_time": "2023-06-13T22:48:17.183Z"
   },
   {
    "duration": 653,
    "start_time": "2023-06-13T22:48:17.383Z"
   },
   {
    "duration": 271,
    "start_time": "2023-06-13T22:48:18.038Z"
   },
   {
    "duration": 371,
    "start_time": "2023-06-13T22:48:18.311Z"
   },
   {
    "duration": 8,
    "start_time": "2023-06-13T22:48:18.684Z"
   },
   {
    "duration": 12,
    "start_time": "2023-06-13T22:48:18.694Z"
   },
   {
    "duration": 13,
    "start_time": "2023-06-13T22:48:18.707Z"
   },
   {
    "duration": 25,
    "start_time": "2023-06-13T22:48:18.722Z"
   },
   {
    "duration": 9,
    "start_time": "2023-06-13T22:48:18.749Z"
   },
   {
    "duration": 16,
    "start_time": "2023-06-13T22:48:18.764Z"
   },
   {
    "duration": 7,
    "start_time": "2023-06-13T22:48:18.782Z"
   },
   {
    "duration": 141,
    "start_time": "2023-06-13T22:48:18.791Z"
   },
   {
    "duration": 0,
    "start_time": "2023-06-13T22:48:18.934Z"
   },
   {
    "duration": 0,
    "start_time": "2023-06-13T22:48:18.935Z"
   },
   {
    "duration": 0,
    "start_time": "2023-06-13T22:48:18.936Z"
   },
   {
    "duration": 0,
    "start_time": "2023-06-13T22:48:18.937Z"
   },
   {
    "duration": 0,
    "start_time": "2023-06-13T22:48:18.939Z"
   },
   {
    "duration": 0,
    "start_time": "2023-06-13T22:48:18.940Z"
   },
   {
    "duration": 0,
    "start_time": "2023-06-13T22:48:18.941Z"
   },
   {
    "duration": 0,
    "start_time": "2023-06-13T22:48:18.942Z"
   },
   {
    "duration": 0,
    "start_time": "2023-06-13T22:48:18.943Z"
   },
   {
    "duration": 0,
    "start_time": "2023-06-13T22:48:18.968Z"
   },
   {
    "duration": 0,
    "start_time": "2023-06-13T22:48:18.969Z"
   },
   {
    "duration": 0,
    "start_time": "2023-06-13T22:48:18.971Z"
   },
   {
    "duration": 0,
    "start_time": "2023-06-13T22:48:18.972Z"
   },
   {
    "duration": 0,
    "start_time": "2023-06-13T22:48:18.974Z"
   },
   {
    "duration": 0,
    "start_time": "2023-06-13T22:48:18.975Z"
   },
   {
    "duration": 0,
    "start_time": "2023-06-13T22:48:18.977Z"
   },
   {
    "duration": 0,
    "start_time": "2023-06-13T22:48:18.978Z"
   },
   {
    "duration": 0,
    "start_time": "2023-06-13T22:48:18.980Z"
   },
   {
    "duration": 0,
    "start_time": "2023-06-13T22:48:18.981Z"
   },
   {
    "duration": 0,
    "start_time": "2023-06-13T22:48:18.983Z"
   },
   {
    "duration": 0,
    "start_time": "2023-06-13T22:48:18.984Z"
   },
   {
    "duration": 3,
    "start_time": "2023-06-13T22:49:27.953Z"
   },
   {
    "duration": 3,
    "start_time": "2023-06-13T22:49:30.457Z"
   },
   {
    "duration": 1466,
    "start_time": "2023-06-13T22:49:35.624Z"
   },
   {
    "duration": 737,
    "start_time": "2023-06-13T22:49:37.092Z"
   },
   {
    "duration": 4,
    "start_time": "2023-06-13T22:49:37.831Z"
   },
   {
    "duration": 24,
    "start_time": "2023-06-13T22:49:37.837Z"
   },
   {
    "duration": 20,
    "start_time": "2023-06-13T22:49:37.866Z"
   },
   {
    "duration": 62,
    "start_time": "2023-06-13T22:49:37.888Z"
   },
   {
    "duration": 12,
    "start_time": "2023-06-13T22:49:37.952Z"
   },
   {
    "duration": 34,
    "start_time": "2023-06-13T22:49:37.970Z"
   },
   {
    "duration": 23,
    "start_time": "2023-06-13T22:49:38.006Z"
   },
   {
    "duration": 31,
    "start_time": "2023-06-13T22:49:38.032Z"
   },
   {
    "duration": 32,
    "start_time": "2023-06-13T22:49:38.065Z"
   },
   {
    "duration": 440,
    "start_time": "2023-06-13T22:49:38.098Z"
   },
   {
    "duration": 5,
    "start_time": "2023-06-13T22:49:38.539Z"
   },
   {
    "duration": 45,
    "start_time": "2023-06-13T22:49:38.546Z"
   },
   {
    "duration": 149,
    "start_time": "2023-06-13T22:49:38.593Z"
   },
   {
    "duration": 5,
    "start_time": "2023-06-13T22:49:38.744Z"
   },
   {
    "duration": 18,
    "start_time": "2023-06-13T22:49:38.751Z"
   },
   {
    "duration": 74,
    "start_time": "2023-06-13T22:49:38.770Z"
   },
   {
    "duration": 7,
    "start_time": "2023-06-13T22:49:38.846Z"
   },
   {
    "duration": 25,
    "start_time": "2023-06-13T22:49:38.855Z"
   },
   {
    "duration": 13,
    "start_time": "2023-06-13T22:49:38.882Z"
   },
   {
    "duration": 24,
    "start_time": "2023-06-13T22:49:38.896Z"
   },
   {
    "duration": 236,
    "start_time": "2023-06-13T22:49:38.922Z"
   },
   {
    "duration": 16,
    "start_time": "2023-06-13T22:49:39.160Z"
   },
   {
    "duration": 42,
    "start_time": "2023-06-13T22:49:39.178Z"
   },
   {
    "duration": 7,
    "start_time": "2023-06-13T22:49:39.222Z"
   },
   {
    "duration": 28,
    "start_time": "2023-06-13T22:49:39.231Z"
   },
   {
    "duration": 30,
    "start_time": "2023-06-13T22:49:39.265Z"
   },
   {
    "duration": 10,
    "start_time": "2023-06-13T22:49:39.297Z"
   },
   {
    "duration": 23,
    "start_time": "2023-06-13T22:49:39.308Z"
   },
   {
    "duration": 37,
    "start_time": "2023-06-13T22:49:39.332Z"
   },
   {
    "duration": 35,
    "start_time": "2023-06-13T22:49:39.379Z"
   },
   {
    "duration": 26,
    "start_time": "2023-06-13T22:49:39.416Z"
   },
   {
    "duration": 41,
    "start_time": "2023-06-13T22:49:39.443Z"
   },
   {
    "duration": 18,
    "start_time": "2023-06-13T22:49:39.486Z"
   },
   {
    "duration": 29,
    "start_time": "2023-06-13T22:49:39.506Z"
   },
   {
    "duration": 59,
    "start_time": "2023-06-13T22:49:39.537Z"
   },
   {
    "duration": 203,
    "start_time": "2023-06-13T22:49:39.598Z"
   },
   {
    "duration": 216,
    "start_time": "2023-06-13T22:49:39.802Z"
   },
   {
    "duration": 221,
    "start_time": "2023-06-13T22:49:40.020Z"
   },
   {
    "duration": 441,
    "start_time": "2023-06-13T22:49:40.243Z"
   },
   {
    "duration": 5,
    "start_time": "2023-06-13T22:49:40.685Z"
   },
   {
    "duration": 703,
    "start_time": "2023-06-13T22:49:40.691Z"
   },
   {
    "duration": 27,
    "start_time": "2023-06-13T22:49:41.396Z"
   },
   {
    "duration": 339,
    "start_time": "2023-06-13T22:49:41.425Z"
   },
   {
    "duration": 10,
    "start_time": "2023-06-13T22:49:41.772Z"
   },
   {
    "duration": 17,
    "start_time": "2023-06-13T22:49:41.784Z"
   },
   {
    "duration": 8,
    "start_time": "2023-06-13T22:49:41.803Z"
   },
   {
    "duration": 22,
    "start_time": "2023-06-13T22:49:41.813Z"
   },
   {
    "duration": 10,
    "start_time": "2023-06-13T22:49:41.836Z"
   },
   {
    "duration": 12,
    "start_time": "2023-06-13T22:49:41.848Z"
   },
   {
    "duration": 76,
    "start_time": "2023-06-13T22:49:41.862Z"
   },
   {
    "duration": 23,
    "start_time": "2023-06-13T22:49:41.940Z"
   },
   {
    "duration": 18,
    "start_time": "2023-06-13T22:49:41.970Z"
   },
   {
    "duration": 6,
    "start_time": "2023-06-13T22:49:41.989Z"
   },
   {
    "duration": 16,
    "start_time": "2023-06-13T22:49:41.997Z"
   },
   {
    "duration": 15,
    "start_time": "2023-06-13T22:49:42.015Z"
   },
   {
    "duration": 41667,
    "start_time": "2023-06-13T22:49:42.032Z"
   },
   {
    "duration": 2,
    "start_time": "2023-06-13T22:50:23.701Z"
   },
   {
    "duration": 24,
    "start_time": "2023-06-13T22:50:23.705Z"
   },
   {
    "duration": 29,
    "start_time": "2023-06-13T22:50:23.731Z"
   },
   {
    "duration": 13145,
    "start_time": "2023-06-13T22:50:23.762Z"
   },
   {
    "duration": 10,
    "start_time": "2023-06-13T22:50:36.909Z"
   },
   {
    "duration": 6,
    "start_time": "2023-06-13T22:50:36.920Z"
   },
   {
    "duration": 8,
    "start_time": "2023-06-13T22:50:36.927Z"
   },
   {
    "duration": 36,
    "start_time": "2023-06-13T22:50:36.937Z"
   },
   {
    "duration": 6,
    "start_time": "2023-06-13T22:50:36.979Z"
   },
   {
    "duration": 86250,
    "start_time": "2023-06-13T22:50:36.986Z"
   },
   {
    "duration": 3,
    "start_time": "2023-06-13T22:52:03.238Z"
   },
   {
    "duration": 13614,
    "start_time": "2023-06-13T22:52:03.243Z"
   },
   {
    "duration": 17,
    "start_time": "2023-06-13T22:52:16.859Z"
   },
   {
    "duration": 21,
    "start_time": "2023-06-13T22:52:16.878Z"
   },
   {
    "duration": 7,
    "start_time": "2023-06-13T22:52:16.901Z"
   },
   {
    "duration": 149,
    "start_time": "2023-06-13T22:52:16.910Z"
   },
   {
    "duration": 1402,
    "start_time": "2023-06-13T23:10:23.127Z"
   },
   {
    "duration": 1541,
    "start_time": "2023-06-13T23:10:24.531Z"
   },
   {
    "duration": 7,
    "start_time": "2023-06-13T23:10:26.074Z"
   },
   {
    "duration": 21,
    "start_time": "2023-06-13T23:10:26.084Z"
   },
   {
    "duration": 10,
    "start_time": "2023-06-13T23:10:26.107Z"
   },
   {
    "duration": 55,
    "start_time": "2023-06-13T23:10:26.118Z"
   },
   {
    "duration": 4,
    "start_time": "2023-06-13T23:10:26.174Z"
   },
   {
    "duration": 17,
    "start_time": "2023-06-13T23:10:26.180Z"
   },
   {
    "duration": 26,
    "start_time": "2023-06-13T23:10:26.199Z"
   },
   {
    "duration": 59,
    "start_time": "2023-06-13T23:10:26.228Z"
   },
   {
    "duration": 13,
    "start_time": "2023-06-13T23:10:26.290Z"
   },
   {
    "duration": 553,
    "start_time": "2023-06-13T23:10:26.304Z"
   },
   {
    "duration": 6,
    "start_time": "2023-06-13T23:10:26.863Z"
   },
   {
    "duration": 25,
    "start_time": "2023-06-13T23:10:26.871Z"
   },
   {
    "duration": 108,
    "start_time": "2023-06-13T23:10:26.898Z"
   },
   {
    "duration": 4,
    "start_time": "2023-06-13T23:10:27.008Z"
   },
   {
    "duration": 23,
    "start_time": "2023-06-13T23:10:27.014Z"
   },
   {
    "duration": 60,
    "start_time": "2023-06-13T23:10:27.038Z"
   },
   {
    "duration": 8,
    "start_time": "2023-06-13T23:10:27.099Z"
   },
   {
    "duration": 5,
    "start_time": "2023-06-13T23:10:27.108Z"
   },
   {
    "duration": 19,
    "start_time": "2023-06-13T23:10:27.115Z"
   },
   {
    "duration": 13,
    "start_time": "2023-06-13T23:10:27.135Z"
   },
   {
    "duration": 230,
    "start_time": "2023-06-13T23:10:27.150Z"
   },
   {
    "duration": 3,
    "start_time": "2023-06-13T23:10:27.382Z"
   },
   {
    "duration": 43,
    "start_time": "2023-06-13T23:10:27.387Z"
   },
   {
    "duration": 24,
    "start_time": "2023-06-13T23:10:27.431Z"
   },
   {
    "duration": 30,
    "start_time": "2023-06-13T23:10:27.457Z"
   },
   {
    "duration": 9,
    "start_time": "2023-06-13T23:10:27.492Z"
   },
   {
    "duration": 7,
    "start_time": "2023-06-13T23:10:27.503Z"
   },
   {
    "duration": 13,
    "start_time": "2023-06-13T23:10:27.511Z"
   },
   {
    "duration": 12,
    "start_time": "2023-06-13T23:10:27.526Z"
   },
   {
    "duration": 41,
    "start_time": "2023-06-13T23:10:27.539Z"
   },
   {
    "duration": 80,
    "start_time": "2023-06-13T23:10:27.581Z"
   },
   {
    "duration": 55,
    "start_time": "2023-06-13T23:10:27.663Z"
   },
   {
    "duration": 16,
    "start_time": "2023-06-13T23:10:27.720Z"
   },
   {
    "duration": 41,
    "start_time": "2023-06-13T23:10:27.738Z"
   },
   {
    "duration": 56,
    "start_time": "2023-06-13T23:10:27.780Z"
   },
   {
    "duration": 186,
    "start_time": "2023-06-13T23:10:27.837Z"
   },
   {
    "duration": 192,
    "start_time": "2023-06-13T23:10:28.025Z"
   },
   {
    "duration": 194,
    "start_time": "2023-06-13T23:10:28.218Z"
   },
   {
    "duration": 404,
    "start_time": "2023-06-13T23:10:28.413Z"
   },
   {
    "duration": 6,
    "start_time": "2023-06-13T23:10:28.819Z"
   },
   {
    "duration": 25,
    "start_time": "2023-06-13T23:10:28.826Z"
   },
   {
    "duration": 28,
    "start_time": "2023-06-13T23:10:28.853Z"
   },
   {
    "duration": 317,
    "start_time": "2023-06-13T23:10:28.883Z"
   },
   {
    "duration": 8,
    "start_time": "2023-06-13T23:10:29.202Z"
   },
   {
    "duration": 6,
    "start_time": "2023-06-13T23:10:29.212Z"
   },
   {
    "duration": 16,
    "start_time": "2023-06-13T23:10:29.220Z"
   },
   {
    "duration": 35,
    "start_time": "2023-06-13T23:10:29.238Z"
   },
   {
    "duration": 4,
    "start_time": "2023-06-13T23:10:29.277Z"
   },
   {
    "duration": 13,
    "start_time": "2023-06-13T23:10:29.283Z"
   },
   {
    "duration": 9,
    "start_time": "2023-06-13T23:10:29.298Z"
   },
   {
    "duration": 13,
    "start_time": "2023-06-13T23:10:29.308Z"
   },
   {
    "duration": 14,
    "start_time": "2023-06-13T23:10:29.323Z"
   },
   {
    "duration": 18,
    "start_time": "2023-06-13T23:10:29.338Z"
   },
   {
    "duration": 59,
    "start_time": "2023-06-13T23:10:29.357Z"
   },
   {
    "duration": 11,
    "start_time": "2023-06-13T23:10:29.417Z"
   },
   {
    "duration": 34553,
    "start_time": "2023-06-13T23:10:29.430Z"
   },
   {
    "duration": 2,
    "start_time": "2023-06-13T23:11:03.987Z"
   },
   {
    "duration": 18,
    "start_time": "2023-06-13T23:11:03.991Z"
   },
   {
    "duration": 29,
    "start_time": "2023-06-13T23:11:04.010Z"
   },
   {
    "duration": 11688,
    "start_time": "2023-06-13T23:11:04.040Z"
   },
   {
    "duration": 9,
    "start_time": "2023-06-13T23:11:15.729Z"
   },
   {
    "duration": 7,
    "start_time": "2023-06-13T23:11:15.739Z"
   },
   {
    "duration": 10,
    "start_time": "2023-06-13T23:11:15.748Z"
   },
   {
    "duration": 34,
    "start_time": "2023-06-13T23:11:15.759Z"
   },
   {
    "duration": 3,
    "start_time": "2023-06-13T23:11:15.794Z"
   },
   {
    "duration": 78769,
    "start_time": "2023-06-13T23:11:15.799Z"
   },
   {
    "duration": 3,
    "start_time": "2023-06-13T23:12:34.572Z"
   },
   {
    "duration": 11737,
    "start_time": "2023-06-13T23:12:34.580Z"
   },
   {
    "duration": 18,
    "start_time": "2023-06-13T23:12:46.319Z"
   },
   {
    "duration": 10,
    "start_time": "2023-06-13T23:12:46.338Z"
   },
   {
    "duration": 8,
    "start_time": "2023-06-13T23:12:46.350Z"
   },
   {
    "duration": 1198,
    "start_time": "2023-06-14T19:26:47.102Z"
   },
   {
    "duration": 2361,
    "start_time": "2023-06-14T19:26:53.124Z"
   },
   {
    "duration": 5,
    "start_time": "2023-06-14T19:26:55.487Z"
   },
   {
    "duration": 11,
    "start_time": "2023-06-14T19:26:56.321Z"
   },
   {
    "duration": 3,
    "start_time": "2023-06-14T19:26:58.509Z"
   },
   {
    "duration": 10,
    "start_time": "2023-06-14T19:26:59.230Z"
   },
   {
    "duration": 2,
    "start_time": "2023-06-14T19:26:59.822Z"
   },
   {
    "duration": 3,
    "start_time": "2023-06-14T19:27:02.224Z"
   },
   {
    "duration": 3,
    "start_time": "2023-06-14T19:27:02.605Z"
   },
   {
    "duration": 3,
    "start_time": "2023-06-14T19:27:03.029Z"
   },
   {
    "duration": 3,
    "start_time": "2023-06-14T19:27:03.498Z"
   },
   {
    "duration": 407,
    "start_time": "2023-06-14T19:27:04.786Z"
   },
   {
    "duration": 6,
    "start_time": "2023-06-14T19:27:07.225Z"
   },
   {
    "duration": 4,
    "start_time": "2023-06-14T19:28:03.745Z"
   },
   {
    "duration": 28,
    "start_time": "2023-06-14T19:28:43.741Z"
   },
   {
    "duration": 141,
    "start_time": "2023-06-14T19:28:43.970Z"
   },
   {
    "duration": 7,
    "start_time": "2023-06-14T19:28:44.177Z"
   },
   {
    "duration": 8,
    "start_time": "2023-06-14T19:28:52.286Z"
   },
   {
    "duration": 79,
    "start_time": "2023-06-14T19:29:55.321Z"
   },
   {
    "duration": 8,
    "start_time": "2023-06-14T19:29:55.824Z"
   },
   {
    "duration": 4,
    "start_time": "2023-06-14T19:29:57.078Z"
   },
   {
    "duration": 9,
    "start_time": "2023-06-14T19:29:59.975Z"
   },
   {
    "duration": 15,
    "start_time": "2023-06-14T19:30:00.329Z"
   },
   {
    "duration": 261,
    "start_time": "2023-06-14T19:30:21.419Z"
   },
   {
    "duration": 3,
    "start_time": "2023-06-14T19:31:21.518Z"
   },
   {
    "duration": 23,
    "start_time": "2023-06-14T19:31:21.906Z"
   },
   {
    "duration": 62,
    "start_time": "2023-06-14T19:31:22.314Z"
   },
   {
    "duration": 86,
    "start_time": "2023-06-14T19:31:32.634Z"
   },
   {
    "duration": 5,
    "start_time": "2023-06-14T19:31:35.644Z"
   },
   {
    "duration": 7,
    "start_time": "2023-06-14T19:31:42.146Z"
   },
   {
    "duration": 217,
    "start_time": "2023-06-14T19:33:49.392Z"
   },
   {
    "duration": 5,
    "start_time": "2023-06-14T19:36:47.794Z"
   },
   {
    "duration": 9,
    "start_time": "2023-06-14T19:36:52.090Z"
   },
   {
    "duration": 5,
    "start_time": "2023-06-14T19:36:52.338Z"
   },
   {
    "duration": 488,
    "start_time": "2023-06-14T19:36:56.211Z"
   },
   {
    "duration": 11,
    "start_time": "2023-06-14T19:36:56.702Z"
   },
   {
    "duration": 378,
    "start_time": "2023-06-14T19:38:59.348Z"
   },
   {
    "duration": 9,
    "start_time": "2023-06-14T19:38:59.728Z"
   },
   {
    "duration": 23,
    "start_time": "2023-06-14T19:38:59.739Z"
   },
   {
    "duration": 4,
    "start_time": "2023-06-14T19:39:00.629Z"
   },
   {
    "duration": 25,
    "start_time": "2023-06-14T19:39:01.074Z"
   },
   {
    "duration": 4,
    "start_time": "2023-06-14T19:39:58.535Z"
   },
   {
    "duration": 4,
    "start_time": "2023-06-14T19:39:59.316Z"
   },
   {
    "duration": 4,
    "start_time": "2023-06-14T19:40:00.576Z"
   },
   {
    "duration": 3,
    "start_time": "2023-06-14T19:40:02.304Z"
   },
   {
    "duration": 5,
    "start_time": "2023-06-14T19:45:52.554Z"
   },
   {
    "duration": 4,
    "start_time": "2023-06-14T19:45:53.798Z"
   },
   {
    "duration": 20,
    "start_time": "2023-06-14T19:45:58.739Z"
   },
   {
    "duration": 3,
    "start_time": "2023-06-14T19:45:59.906Z"
   },
   {
    "duration": 47692,
    "start_time": "2023-06-14T19:46:01.118Z"
   },
   {
    "duration": 2,
    "start_time": "2023-06-14T19:47:14.815Z"
   },
   {
    "duration": 3,
    "start_time": "2023-06-14T19:47:15.437Z"
   },
   {
    "duration": 10,
    "start_time": "2023-06-14T19:47:17.071Z"
   },
   {
    "duration": 16578,
    "start_time": "2023-06-14T19:47:17.719Z"
   },
   {
    "duration": 13,
    "start_time": "2023-06-14T19:48:02.127Z"
   },
   {
    "duration": 14,
    "start_time": "2023-06-14T19:48:02.669Z"
   },
   {
    "duration": 4,
    "start_time": "2023-06-14T19:48:16.695Z"
   },
   {
    "duration": 9,
    "start_time": "2023-06-14T19:48:41.194Z"
   },
   {
    "duration": 6,
    "start_time": "2023-06-14T19:48:50.332Z"
   },
   {
    "duration": 20,
    "start_time": "2023-06-14T19:49:53.206Z"
   },
   {
    "duration": 8,
    "start_time": "2023-06-14T19:49:53.977Z"
   },
   {
    "duration": 105654,
    "start_time": "2023-06-14T19:49:55.335Z"
   },
   {
    "duration": 3,
    "start_time": "2023-06-14T19:53:25.892Z"
   },
   {
    "duration": 16268,
    "start_time": "2023-06-14T19:53:26.497Z"
   },
   {
    "duration": 15,
    "start_time": "2023-06-14T19:53:54.279Z"
   },
   {
    "duration": 18,
    "start_time": "2023-06-14T19:53:54.458Z"
   },
   {
    "duration": 5,
    "start_time": "2023-06-14T19:54:03.632Z"
   },
   {
    "duration": 1086929,
    "start_time": "2023-06-14T19:56:09.208Z"
   },
   {
    "duration": 5,
    "start_time": "2023-06-14T20:16:57.724Z"
   },
   {
    "duration": 6,
    "start_time": "2023-06-14T20:21:12.628Z"
   },
   {
    "duration": 60,
    "start_time": "2023-06-16T19:35:43.185Z"
   },
   {
    "duration": 1894,
    "start_time": "2023-06-16T19:35:54.571Z"
   },
   {
    "duration": 4447,
    "start_time": "2023-06-16T19:35:56.471Z"
   },
   {
    "duration": 4,
    "start_time": "2023-06-16T19:36:00.920Z"
   },
   {
    "duration": 74,
    "start_time": "2023-06-16T19:36:00.925Z"
   },
   {
    "duration": 77,
    "start_time": "2023-06-16T19:36:01.002Z"
   },
   {
    "duration": 35,
    "start_time": "2023-06-16T19:36:01.081Z"
   },
   {
    "duration": 12,
    "start_time": "2023-06-16T19:36:01.118Z"
   },
   {
    "duration": 66,
    "start_time": "2023-06-16T19:36:01.133Z"
   },
   {
    "duration": 63,
    "start_time": "2023-06-16T19:36:01.202Z"
   },
   {
    "duration": 59,
    "start_time": "2023-06-16T19:36:01.267Z"
   },
   {
    "duration": 64,
    "start_time": "2023-06-16T19:36:01.328Z"
   },
   {
    "duration": 575,
    "start_time": "2023-06-16T19:36:01.394Z"
   },
   {
    "duration": 7,
    "start_time": "2023-06-16T19:36:01.972Z"
   },
   {
    "duration": 26,
    "start_time": "2023-06-16T19:36:01.982Z"
   },
   {
    "duration": 71,
    "start_time": "2023-06-16T19:36:02.010Z"
   },
   {
    "duration": 170,
    "start_time": "2023-06-16T19:36:02.083Z"
   },
   {
    "duration": 25,
    "start_time": "2023-06-16T19:36:02.257Z"
   },
   {
    "duration": 15,
    "start_time": "2023-06-16T19:36:02.292Z"
   },
   {
    "duration": 24,
    "start_time": "2023-06-16T20:29:37.283Z"
   },
   {
    "duration": 153,
    "start_time": "2023-06-16T20:29:56.179Z"
   },
   {
    "duration": 8,
    "start_time": "2023-06-16T20:31:01.259Z"
   },
   {
    "duration": 8,
    "start_time": "2023-06-16T20:31:26.461Z"
   },
   {
    "duration": 4,
    "start_time": "2023-06-16T20:31:39.078Z"
   },
   {
    "duration": 12,
    "start_time": "2023-06-16T20:32:36.651Z"
   },
   {
    "duration": 4,
    "start_time": "2023-06-16T21:53:13.149Z"
   },
   {
    "duration": 5,
    "start_time": "2023-06-16T21:53:26.859Z"
   },
   {
    "duration": 25,
    "start_time": "2023-06-16T21:53:35.064Z"
   },
   {
    "duration": 8,
    "start_time": "2023-06-16T21:53:39.035Z"
   },
   {
    "duration": 6,
    "start_time": "2023-06-16T21:53:55.556Z"
   },
   {
    "duration": 27,
    "start_time": "2023-06-16T21:56:56.780Z"
   },
   {
    "duration": 31,
    "start_time": "2023-06-16T21:57:00.603Z"
   },
   {
    "duration": 26,
    "start_time": "2023-06-16T21:57:06.360Z"
   },
   {
    "duration": 4,
    "start_time": "2023-06-16T21:57:13.604Z"
   },
   {
    "duration": 15,
    "start_time": "2023-06-16T21:58:47.757Z"
   },
   {
    "duration": 4,
    "start_time": "2023-06-16T21:59:04.957Z"
   },
   {
    "duration": 12,
    "start_time": "2023-06-16T21:59:22.858Z"
   },
   {
    "duration": 385,
    "start_time": "2023-06-16T22:01:54.941Z"
   },
   {
    "duration": 404,
    "start_time": "2023-06-16T22:02:00.561Z"
   },
   {
    "duration": 372,
    "start_time": "2023-06-16T22:04:02.045Z"
   },
   {
    "duration": 376,
    "start_time": "2023-06-16T22:04:17.205Z"
   },
   {
    "duration": 371,
    "start_time": "2023-06-16T22:04:29.545Z"
   },
   {
    "duration": 362,
    "start_time": "2023-06-16T22:04:53.816Z"
   },
   {
    "duration": 11,
    "start_time": "2023-06-16T22:07:24.605Z"
   },
   {
    "duration": 8,
    "start_time": "2023-06-16T22:07:51.572Z"
   },
   {
    "duration": 30,
    "start_time": "2023-06-16T22:08:07.776Z"
   },
   {
    "duration": 13,
    "start_time": "2023-06-16T22:08:19.825Z"
   },
   {
    "duration": 32,
    "start_time": "2023-06-16T22:09:26.397Z"
   },
   {
    "duration": 9,
    "start_time": "2023-06-16T22:09:38.063Z"
   },
   {
    "duration": 7,
    "start_time": "2023-06-16T22:10:37.764Z"
   },
   {
    "duration": 6,
    "start_time": "2023-06-16T22:11:13.354Z"
   },
   {
    "duration": 9,
    "start_time": "2023-06-16T22:11:23.355Z"
   },
   {
    "duration": 9,
    "start_time": "2023-06-16T22:11:47.717Z"
   },
   {
    "duration": 31,
    "start_time": "2023-06-16T22:12:24.548Z"
   },
   {
    "duration": 11,
    "start_time": "2023-06-16T22:12:43.571Z"
   },
   {
    "duration": 1372,
    "start_time": "2023-06-16T22:12:51.753Z"
   },
   {
    "duration": 1394,
    "start_time": "2023-06-16T22:13:12.038Z"
   },
   {
    "duration": 13,
    "start_time": "2023-06-16T22:13:24.084Z"
   },
   {
    "duration": 6,
    "start_time": "2023-06-16T22:14:11.105Z"
   },
   {
    "duration": 7,
    "start_time": "2023-06-16T22:15:04.334Z"
   },
   {
    "duration": 4,
    "start_time": "2023-06-16T22:15:13.768Z"
   },
   {
    "duration": 15,
    "start_time": "2023-06-16T22:16:11.735Z"
   },
   {
    "duration": 1278,
    "start_time": "2023-06-16T22:17:36.992Z"
   },
   {
    "duration": 673,
    "start_time": "2023-06-16T22:17:38.272Z"
   },
   {
    "duration": 4,
    "start_time": "2023-06-16T22:17:38.947Z"
   },
   {
    "duration": 10,
    "start_time": "2023-06-16T22:17:38.953Z"
   },
   {
    "duration": 4,
    "start_time": "2023-06-16T22:17:38.965Z"
   },
   {
    "duration": 12,
    "start_time": "2023-06-16T22:17:38.970Z"
   },
   {
    "duration": 3,
    "start_time": "2023-06-16T22:17:38.983Z"
   },
   {
    "duration": 9,
    "start_time": "2023-06-16T22:17:38.987Z"
   },
   {
    "duration": 16,
    "start_time": "2023-06-16T22:17:38.997Z"
   },
   {
    "duration": 12,
    "start_time": "2023-06-16T22:17:39.014Z"
   },
   {
    "duration": 10,
    "start_time": "2023-06-16T22:17:39.027Z"
   },
   {
    "duration": 359,
    "start_time": "2023-06-16T22:17:39.038Z"
   },
   {
    "duration": 4,
    "start_time": "2023-06-16T22:17:39.399Z"
   },
   {
    "duration": 53,
    "start_time": "2023-06-16T22:17:39.406Z"
   },
   {
    "duration": 31,
    "start_time": "2023-06-16T22:17:39.460Z"
   },
   {
    "duration": 96,
    "start_time": "2023-06-16T22:17:39.493Z"
   },
   {
    "duration": 4,
    "start_time": "2023-06-16T22:17:39.591Z"
   },
   {
    "duration": 109,
    "start_time": "2023-06-16T22:17:39.597Z"
   },
   {
    "duration": 0,
    "start_time": "2023-06-16T22:17:39.709Z"
   },
   {
    "duration": 0,
    "start_time": "2023-06-16T22:17:39.710Z"
   },
   {
    "duration": 0,
    "start_time": "2023-06-16T22:17:39.711Z"
   },
   {
    "duration": 0,
    "start_time": "2023-06-16T22:17:39.712Z"
   },
   {
    "duration": 0,
    "start_time": "2023-06-16T22:17:39.713Z"
   },
   {
    "duration": 0,
    "start_time": "2023-06-16T22:17:39.714Z"
   },
   {
    "duration": 0,
    "start_time": "2023-06-16T22:17:39.715Z"
   },
   {
    "duration": 0,
    "start_time": "2023-06-16T22:17:39.731Z"
   },
   {
    "duration": 0,
    "start_time": "2023-06-16T22:17:39.732Z"
   },
   {
    "duration": 0,
    "start_time": "2023-06-16T22:17:39.733Z"
   },
   {
    "duration": 0,
    "start_time": "2023-06-16T22:17:39.734Z"
   },
   {
    "duration": 0,
    "start_time": "2023-06-16T22:17:39.735Z"
   },
   {
    "duration": 0,
    "start_time": "2023-06-16T22:17:39.736Z"
   },
   {
    "duration": 0,
    "start_time": "2023-06-16T22:17:39.737Z"
   },
   {
    "duration": 0,
    "start_time": "2023-06-16T22:17:39.738Z"
   },
   {
    "duration": 0,
    "start_time": "2023-06-16T22:17:39.739Z"
   },
   {
    "duration": 0,
    "start_time": "2023-06-16T22:17:39.740Z"
   },
   {
    "duration": 0,
    "start_time": "2023-06-16T22:17:39.741Z"
   },
   {
    "duration": 0,
    "start_time": "2023-06-16T22:17:39.742Z"
   },
   {
    "duration": 0,
    "start_time": "2023-06-16T22:17:39.743Z"
   },
   {
    "duration": 0,
    "start_time": "2023-06-16T22:17:39.744Z"
   },
   {
    "duration": 0,
    "start_time": "2023-06-16T22:17:39.745Z"
   },
   {
    "duration": 0,
    "start_time": "2023-06-16T22:17:39.746Z"
   },
   {
    "duration": 0,
    "start_time": "2023-06-16T22:17:39.747Z"
   },
   {
    "duration": 0,
    "start_time": "2023-06-16T22:17:39.748Z"
   },
   {
    "duration": 0,
    "start_time": "2023-06-16T22:17:39.749Z"
   },
   {
    "duration": 0,
    "start_time": "2023-06-16T22:17:39.750Z"
   },
   {
    "duration": 0,
    "start_time": "2023-06-16T22:17:39.751Z"
   },
   {
    "duration": 0,
    "start_time": "2023-06-16T22:17:39.751Z"
   },
   {
    "duration": 0,
    "start_time": "2023-06-16T22:17:39.752Z"
   },
   {
    "duration": 0,
    "start_time": "2023-06-16T22:17:39.753Z"
   },
   {
    "duration": 0,
    "start_time": "2023-06-16T22:17:39.755Z"
   },
   {
    "duration": 0,
    "start_time": "2023-06-16T22:17:39.755Z"
   },
   {
    "duration": 0,
    "start_time": "2023-06-16T22:17:39.756Z"
   },
   {
    "duration": 0,
    "start_time": "2023-06-16T22:17:39.758Z"
   },
   {
    "duration": 0,
    "start_time": "2023-06-16T22:17:39.759Z"
   },
   {
    "duration": 0,
    "start_time": "2023-06-16T22:17:39.760Z"
   },
   {
    "duration": 0,
    "start_time": "2023-06-16T22:17:39.761Z"
   },
   {
    "duration": 0,
    "start_time": "2023-06-16T22:17:39.763Z"
   },
   {
    "duration": 0,
    "start_time": "2023-06-16T22:17:39.763Z"
   },
   {
    "duration": 0,
    "start_time": "2023-06-16T22:17:39.765Z"
   },
   {
    "duration": 0,
    "start_time": "2023-06-16T22:17:39.765Z"
   },
   {
    "duration": 0,
    "start_time": "2023-06-16T22:17:39.766Z"
   },
   {
    "duration": 0,
    "start_time": "2023-06-16T22:17:39.767Z"
   },
   {
    "duration": 0,
    "start_time": "2023-06-16T22:17:39.768Z"
   },
   {
    "duration": 0,
    "start_time": "2023-06-16T22:17:39.769Z"
   },
   {
    "duration": 0,
    "start_time": "2023-06-16T22:17:39.832Z"
   },
   {
    "duration": 0,
    "start_time": "2023-06-16T22:17:39.833Z"
   },
   {
    "duration": 0,
    "start_time": "2023-06-16T22:17:39.834Z"
   },
   {
    "duration": 0,
    "start_time": "2023-06-16T22:17:39.835Z"
   },
   {
    "duration": 0,
    "start_time": "2023-06-16T22:17:39.836Z"
   },
   {
    "duration": 0,
    "start_time": "2023-06-16T22:17:39.837Z"
   },
   {
    "duration": 0,
    "start_time": "2023-06-16T22:17:39.838Z"
   },
   {
    "duration": 1,
    "start_time": "2023-06-16T22:17:39.838Z"
   },
   {
    "duration": 0,
    "start_time": "2023-06-16T22:17:39.840Z"
   },
   {
    "duration": 0,
    "start_time": "2023-06-16T22:17:39.841Z"
   },
   {
    "duration": 0,
    "start_time": "2023-06-16T22:17:39.842Z"
   },
   {
    "duration": 0,
    "start_time": "2023-06-16T22:17:39.843Z"
   },
   {
    "duration": 0,
    "start_time": "2023-06-16T22:17:39.844Z"
   },
   {
    "duration": 0,
    "start_time": "2023-06-16T22:17:39.845Z"
   },
   {
    "duration": 0,
    "start_time": "2023-06-16T22:17:39.845Z"
   },
   {
    "duration": 3,
    "start_time": "2023-06-16T22:18:14.446Z"
   },
   {
    "duration": 4,
    "start_time": "2023-06-16T22:18:28.178Z"
   },
   {
    "duration": 5,
    "start_time": "2023-06-16T22:19:44.612Z"
   },
   {
    "duration": 2300,
    "start_time": "2023-06-16T22:21:14.315Z"
   },
   {
    "duration": 5,
    "start_time": "2023-06-16T22:21:27.642Z"
   },
   {
    "duration": 5,
    "start_time": "2023-06-16T22:21:35.219Z"
   },
   {
    "duration": 7,
    "start_time": "2023-06-16T22:21:44.560Z"
   },
   {
    "duration": 5,
    "start_time": "2023-06-16T22:24:06.640Z"
   },
   {
    "duration": 5,
    "start_time": "2023-06-16T22:24:15.781Z"
   },
   {
    "duration": 5,
    "start_time": "2023-06-16T22:24:48.124Z"
   },
   {
    "duration": 2391,
    "start_time": "2023-06-16T22:24:58.947Z"
   },
   {
    "duration": 6,
    "start_time": "2023-06-16T22:25:41.766Z"
   },
   {
    "duration": 26,
    "start_time": "2023-06-16T22:26:21.454Z"
   },
   {
    "duration": 6,
    "start_time": "2023-06-16T22:26:32.013Z"
   },
   {
    "duration": 2141,
    "start_time": "2023-06-16T22:27:02.981Z"
   },
   {
    "duration": 13,
    "start_time": "2023-06-16T22:28:12.774Z"
   },
   {
    "duration": 12,
    "start_time": "2023-06-16T22:28:19.422Z"
   },
   {
    "duration": 35,
    "start_time": "2023-06-16T22:28:46.634Z"
   },
   {
    "duration": 10,
    "start_time": "2023-06-16T22:29:01.512Z"
   },
   {
    "duration": 25,
    "start_time": "2023-06-16T22:29:59.203Z"
   },
   {
    "duration": 4,
    "start_time": "2023-06-16T22:30:04.292Z"
   },
   {
    "duration": 3,
    "start_time": "2023-06-16T22:30:05.522Z"
   },
   {
    "duration": 15,
    "start_time": "2023-06-16T22:30:07.973Z"
   },
   {
    "duration": 7,
    "start_time": "2023-06-16T22:30:30.707Z"
   },
   {
    "duration": 32,
    "start_time": "2023-06-16T22:31:21.296Z"
   },
   {
    "duration": 8,
    "start_time": "2023-06-16T22:31:25.289Z"
   },
   {
    "duration": 4,
    "start_time": "2023-06-16T22:31:32.544Z"
   },
   {
    "duration": 52,
    "start_time": "2023-06-16T22:33:54.985Z"
   },
   {
    "duration": 14,
    "start_time": "2023-06-16T22:34:20.619Z"
   },
   {
    "duration": 38,
    "start_time": "2023-06-16T22:34:38.238Z"
   },
   {
    "duration": 16,
    "start_time": "2023-06-16T22:34:47.563Z"
   },
   {
    "duration": 15,
    "start_time": "2023-06-16T22:35:42.578Z"
   },
   {
    "duration": 12,
    "start_time": "2023-06-16T22:36:30.645Z"
   },
   {
    "duration": 1339,
    "start_time": "2023-06-16T22:37:04.961Z"
   },
   {
    "duration": 673,
    "start_time": "2023-06-16T22:37:06.301Z"
   },
   {
    "duration": 3,
    "start_time": "2023-06-16T22:37:06.976Z"
   },
   {
    "duration": 16,
    "start_time": "2023-06-16T22:37:06.981Z"
   },
   {
    "duration": 28,
    "start_time": "2023-06-16T22:37:06.999Z"
   },
   {
    "duration": 46,
    "start_time": "2023-06-16T22:37:07.028Z"
   },
   {
    "duration": 45,
    "start_time": "2023-06-16T22:37:07.076Z"
   },
   {
    "duration": 10,
    "start_time": "2023-06-16T22:37:07.123Z"
   },
   {
    "duration": 21,
    "start_time": "2023-06-16T22:37:07.134Z"
   },
   {
    "duration": 5,
    "start_time": "2023-06-16T22:37:07.156Z"
   },
   {
    "duration": 18,
    "start_time": "2023-06-16T22:37:07.162Z"
   },
   {
    "duration": 374,
    "start_time": "2023-06-16T22:37:07.182Z"
   },
   {
    "duration": 4,
    "start_time": "2023-06-16T22:37:07.557Z"
   },
   {
    "duration": 109,
    "start_time": "2023-06-16T22:37:07.564Z"
   },
   {
    "duration": 0,
    "start_time": "2023-06-16T22:37:07.676Z"
   },
   {
    "duration": 0,
    "start_time": "2023-06-16T22:37:07.677Z"
   },
   {
    "duration": 0,
    "start_time": "2023-06-16T22:37:07.679Z"
   },
   {
    "duration": 0,
    "start_time": "2023-06-16T22:37:07.680Z"
   },
   {
    "duration": 0,
    "start_time": "2023-06-16T22:37:07.681Z"
   },
   {
    "duration": 0,
    "start_time": "2023-06-16T22:37:07.683Z"
   },
   {
    "duration": 0,
    "start_time": "2023-06-16T22:37:07.683Z"
   },
   {
    "duration": 0,
    "start_time": "2023-06-16T22:37:07.684Z"
   },
   {
    "duration": 0,
    "start_time": "2023-06-16T22:37:07.685Z"
   },
   {
    "duration": 0,
    "start_time": "2023-06-16T22:37:07.686Z"
   },
   {
    "duration": 0,
    "start_time": "2023-06-16T22:37:07.687Z"
   },
   {
    "duration": 0,
    "start_time": "2023-06-16T22:37:07.688Z"
   },
   {
    "duration": 0,
    "start_time": "2023-06-16T22:37:07.689Z"
   },
   {
    "duration": 0,
    "start_time": "2023-06-16T22:37:07.690Z"
   },
   {
    "duration": 0,
    "start_time": "2023-06-16T22:37:07.691Z"
   },
   {
    "duration": 0,
    "start_time": "2023-06-16T22:37:07.692Z"
   },
   {
    "duration": 0,
    "start_time": "2023-06-16T22:37:07.692Z"
   },
   {
    "duration": 0,
    "start_time": "2023-06-16T22:37:07.693Z"
   },
   {
    "duration": 0,
    "start_time": "2023-06-16T22:37:07.694Z"
   },
   {
    "duration": 0,
    "start_time": "2023-06-16T22:37:07.696Z"
   },
   {
    "duration": 0,
    "start_time": "2023-06-16T22:37:07.731Z"
   },
   {
    "duration": 0,
    "start_time": "2023-06-16T22:37:07.733Z"
   },
   {
    "duration": 0,
    "start_time": "2023-06-16T22:37:07.733Z"
   },
   {
    "duration": 0,
    "start_time": "2023-06-16T22:37:07.734Z"
   },
   {
    "duration": 0,
    "start_time": "2023-06-16T22:37:07.735Z"
   },
   {
    "duration": 0,
    "start_time": "2023-06-16T22:37:07.737Z"
   },
   {
    "duration": 0,
    "start_time": "2023-06-16T22:37:07.737Z"
   },
   {
    "duration": 0,
    "start_time": "2023-06-16T22:37:07.739Z"
   },
   {
    "duration": 0,
    "start_time": "2023-06-16T22:37:07.739Z"
   },
   {
    "duration": 0,
    "start_time": "2023-06-16T22:37:07.740Z"
   },
   {
    "duration": 0,
    "start_time": "2023-06-16T22:37:07.741Z"
   },
   {
    "duration": 0,
    "start_time": "2023-06-16T22:37:07.742Z"
   },
   {
    "duration": 0,
    "start_time": "2023-06-16T22:37:07.744Z"
   },
   {
    "duration": 0,
    "start_time": "2023-06-16T22:37:07.744Z"
   },
   {
    "duration": 0,
    "start_time": "2023-06-16T22:37:07.746Z"
   },
   {
    "duration": 0,
    "start_time": "2023-06-16T22:37:07.746Z"
   },
   {
    "duration": 0,
    "start_time": "2023-06-16T22:37:07.747Z"
   },
   {
    "duration": 0,
    "start_time": "2023-06-16T22:37:07.748Z"
   },
   {
    "duration": 0,
    "start_time": "2023-06-16T22:37:07.749Z"
   },
   {
    "duration": 0,
    "start_time": "2023-06-16T22:37:07.750Z"
   },
   {
    "duration": 0,
    "start_time": "2023-06-16T22:37:07.751Z"
   },
   {
    "duration": 0,
    "start_time": "2023-06-16T22:37:07.752Z"
   },
   {
    "duration": 0,
    "start_time": "2023-06-16T22:37:07.753Z"
   },
   {
    "duration": 0,
    "start_time": "2023-06-16T22:37:07.754Z"
   },
   {
    "duration": 0,
    "start_time": "2023-06-16T22:37:07.755Z"
   },
   {
    "duration": 0,
    "start_time": "2023-06-16T22:37:07.756Z"
   },
   {
    "duration": 0,
    "start_time": "2023-06-16T22:37:07.757Z"
   },
   {
    "duration": 0,
    "start_time": "2023-06-16T22:37:07.758Z"
   },
   {
    "duration": 0,
    "start_time": "2023-06-16T22:37:07.760Z"
   },
   {
    "duration": 0,
    "start_time": "2023-06-16T22:37:07.761Z"
   },
   {
    "duration": 0,
    "start_time": "2023-06-16T22:37:07.763Z"
   },
   {
    "duration": 0,
    "start_time": "2023-06-16T22:37:07.764Z"
   },
   {
    "duration": 0,
    "start_time": "2023-06-16T22:37:07.765Z"
   },
   {
    "duration": 0,
    "start_time": "2023-06-16T22:37:07.765Z"
   },
   {
    "duration": 0,
    "start_time": "2023-06-16T22:37:07.767Z"
   },
   {
    "duration": 0,
    "start_time": "2023-06-16T22:37:07.831Z"
   },
   {
    "duration": 0,
    "start_time": "2023-06-16T22:37:07.832Z"
   },
   {
    "duration": 0,
    "start_time": "2023-06-16T22:37:07.833Z"
   },
   {
    "duration": 0,
    "start_time": "2023-06-16T22:37:07.834Z"
   },
   {
    "duration": 0,
    "start_time": "2023-06-16T22:37:07.835Z"
   },
   {
    "duration": 0,
    "start_time": "2023-06-16T22:37:07.837Z"
   },
   {
    "duration": 0,
    "start_time": "2023-06-16T22:37:07.838Z"
   },
   {
    "duration": 0,
    "start_time": "2023-06-16T22:37:07.839Z"
   },
   {
    "duration": 0,
    "start_time": "2023-06-16T22:37:07.840Z"
   },
   {
    "duration": 0,
    "start_time": "2023-06-16T22:37:07.842Z"
   },
   {
    "duration": 0,
    "start_time": "2023-06-16T22:37:07.843Z"
   },
   {
    "duration": 3,
    "start_time": "2023-06-16T22:39:15.230Z"
   },
   {
    "duration": 12,
    "start_time": "2023-06-16T22:39:16.143Z"
   },
   {
    "duration": 1440,
    "start_time": "2023-06-17T11:34:35.549Z"
   },
   {
    "duration": 3014,
    "start_time": "2023-06-17T11:34:36.991Z"
   },
   {
    "duration": 4,
    "start_time": "2023-06-17T11:34:40.007Z"
   },
   {
    "duration": 14,
    "start_time": "2023-06-17T11:34:40.013Z"
   },
   {
    "duration": 17,
    "start_time": "2023-06-17T11:34:40.029Z"
   },
   {
    "duration": 31,
    "start_time": "2023-06-17T11:34:40.048Z"
   },
   {
    "duration": 10,
    "start_time": "2023-06-17T11:34:40.081Z"
   },
   {
    "duration": 15,
    "start_time": "2023-06-17T11:34:40.093Z"
   },
   {
    "duration": 8,
    "start_time": "2023-06-17T11:34:40.109Z"
   },
   {
    "duration": 9,
    "start_time": "2023-06-17T11:34:40.119Z"
   },
   {
    "duration": 14,
    "start_time": "2023-06-17T11:34:40.130Z"
   },
   {
    "duration": 441,
    "start_time": "2023-06-17T11:34:40.146Z"
   },
   {
    "duration": 14,
    "start_time": "2023-06-17T11:34:40.589Z"
   },
   {
    "duration": 4,
    "start_time": "2023-06-17T11:34:40.607Z"
   },
   {
    "duration": 20,
    "start_time": "2023-06-17T11:34:40.613Z"
   },
   {
    "duration": 148,
    "start_time": "2023-06-17T11:34:40.635Z"
   },
   {
    "duration": 3,
    "start_time": "2023-06-17T11:34:40.785Z"
   },
   {
    "duration": 13,
    "start_time": "2023-06-17T11:34:40.790Z"
   },
   {
    "duration": 127,
    "start_time": "2023-06-17T11:34:40.805Z"
   },
   {
    "duration": 0,
    "start_time": "2023-06-17T11:34:40.936Z"
   },
   {
    "duration": 0,
    "start_time": "2023-06-17T11:34:40.937Z"
   },
   {
    "duration": 0,
    "start_time": "2023-06-17T11:34:40.939Z"
   },
   {
    "duration": 0,
    "start_time": "2023-06-17T11:34:40.941Z"
   },
   {
    "duration": 0,
    "start_time": "2023-06-17T11:34:40.942Z"
   },
   {
    "duration": 0,
    "start_time": "2023-06-17T11:34:40.944Z"
   },
   {
    "duration": 0,
    "start_time": "2023-06-17T11:34:40.946Z"
   },
   {
    "duration": 0,
    "start_time": "2023-06-17T11:34:40.948Z"
   },
   {
    "duration": 0,
    "start_time": "2023-06-17T11:34:40.949Z"
   },
   {
    "duration": 0,
    "start_time": "2023-06-17T11:34:40.951Z"
   },
   {
    "duration": 0,
    "start_time": "2023-06-17T11:34:40.952Z"
   },
   {
    "duration": 0,
    "start_time": "2023-06-17T11:34:40.954Z"
   },
   {
    "duration": 0,
    "start_time": "2023-06-17T11:34:40.955Z"
   },
   {
    "duration": 0,
    "start_time": "2023-06-17T11:34:40.957Z"
   },
   {
    "duration": 0,
    "start_time": "2023-06-17T11:34:40.958Z"
   },
   {
    "duration": 0,
    "start_time": "2023-06-17T11:34:40.959Z"
   },
   {
    "duration": 0,
    "start_time": "2023-06-17T11:34:40.960Z"
   },
   {
    "duration": 0,
    "start_time": "2023-06-17T11:34:40.961Z"
   },
   {
    "duration": 0,
    "start_time": "2023-06-17T11:34:41.002Z"
   },
   {
    "duration": 0,
    "start_time": "2023-06-17T11:34:41.003Z"
   },
   {
    "duration": 0,
    "start_time": "2023-06-17T11:34:41.004Z"
   },
   {
    "duration": 0,
    "start_time": "2023-06-17T11:34:41.005Z"
   },
   {
    "duration": 0,
    "start_time": "2023-06-17T11:34:41.006Z"
   },
   {
    "duration": 0,
    "start_time": "2023-06-17T11:34:41.007Z"
   },
   {
    "duration": 0,
    "start_time": "2023-06-17T11:34:41.008Z"
   },
   {
    "duration": 0,
    "start_time": "2023-06-17T11:34:41.010Z"
   },
   {
    "duration": 0,
    "start_time": "2023-06-17T11:34:41.011Z"
   },
   {
    "duration": 0,
    "start_time": "2023-06-17T11:34:41.012Z"
   },
   {
    "duration": 0,
    "start_time": "2023-06-17T11:34:41.013Z"
   },
   {
    "duration": 0,
    "start_time": "2023-06-17T11:34:41.014Z"
   },
   {
    "duration": 0,
    "start_time": "2023-06-17T11:34:41.015Z"
   },
   {
    "duration": 0,
    "start_time": "2023-06-17T11:34:41.016Z"
   },
   {
    "duration": 0,
    "start_time": "2023-06-17T11:34:41.016Z"
   },
   {
    "duration": 0,
    "start_time": "2023-06-17T11:34:41.017Z"
   },
   {
    "duration": 0,
    "start_time": "2023-06-17T11:34:41.018Z"
   },
   {
    "duration": 0,
    "start_time": "2023-06-17T11:34:41.019Z"
   },
   {
    "duration": 0,
    "start_time": "2023-06-17T11:34:41.020Z"
   },
   {
    "duration": 0,
    "start_time": "2023-06-17T11:34:41.021Z"
   },
   {
    "duration": 0,
    "start_time": "2023-06-17T11:34:41.022Z"
   },
   {
    "duration": 0,
    "start_time": "2023-06-17T11:34:41.023Z"
   },
   {
    "duration": 0,
    "start_time": "2023-06-17T11:34:41.024Z"
   },
   {
    "duration": 0,
    "start_time": "2023-06-17T11:34:41.025Z"
   },
   {
    "duration": 0,
    "start_time": "2023-06-17T11:34:41.026Z"
   },
   {
    "duration": 0,
    "start_time": "2023-06-17T11:34:41.027Z"
   },
   {
    "duration": 0,
    "start_time": "2023-06-17T11:34:41.028Z"
   },
   {
    "duration": 0,
    "start_time": "2023-06-17T11:34:41.029Z"
   },
   {
    "duration": 0,
    "start_time": "2023-06-17T11:34:41.030Z"
   },
   {
    "duration": 0,
    "start_time": "2023-06-17T11:34:41.031Z"
   },
   {
    "duration": 0,
    "start_time": "2023-06-17T11:34:41.032Z"
   },
   {
    "duration": 0,
    "start_time": "2023-06-17T11:34:41.033Z"
   },
   {
    "duration": 0,
    "start_time": "2023-06-17T11:34:41.034Z"
   },
   {
    "duration": 0,
    "start_time": "2023-06-17T11:34:41.035Z"
   },
   {
    "duration": 0,
    "start_time": "2023-06-17T11:34:41.037Z"
   },
   {
    "duration": 0,
    "start_time": "2023-06-17T11:34:41.038Z"
   },
   {
    "duration": 0,
    "start_time": "2023-06-17T11:34:41.102Z"
   },
   {
    "duration": 0,
    "start_time": "2023-06-17T11:34:41.104Z"
   },
   {
    "duration": 0,
    "start_time": "2023-06-17T11:34:41.105Z"
   },
   {
    "duration": 0,
    "start_time": "2023-06-17T11:34:41.106Z"
   },
   {
    "duration": 0,
    "start_time": "2023-06-17T11:34:41.107Z"
   },
   {
    "duration": 0,
    "start_time": "2023-06-17T11:34:41.109Z"
   },
   {
    "duration": 1525,
    "start_time": "2023-06-17T11:36:05.459Z"
   },
   {
    "duration": 656,
    "start_time": "2023-06-17T11:36:06.986Z"
   },
   {
    "duration": 4,
    "start_time": "2023-06-17T11:36:07.644Z"
   },
   {
    "duration": 33,
    "start_time": "2023-06-17T11:36:07.650Z"
   },
   {
    "duration": 8,
    "start_time": "2023-06-17T11:36:07.686Z"
   },
   {
    "duration": 16,
    "start_time": "2023-06-17T11:36:07.696Z"
   },
   {
    "duration": 3,
    "start_time": "2023-06-17T11:36:07.714Z"
   },
   {
    "duration": 10,
    "start_time": "2023-06-17T11:36:07.718Z"
   },
   {
    "duration": 9,
    "start_time": "2023-06-17T11:36:07.730Z"
   },
   {
    "duration": 7,
    "start_time": "2023-06-17T11:36:07.741Z"
   },
   {
    "duration": 14,
    "start_time": "2023-06-17T11:36:07.750Z"
   },
   {
    "duration": 398,
    "start_time": "2023-06-17T11:36:07.766Z"
   },
   {
    "duration": 5,
    "start_time": "2023-06-17T11:36:08.165Z"
   },
   {
    "duration": 39,
    "start_time": "2023-06-17T11:36:08.173Z"
   },
   {
    "duration": 22,
    "start_time": "2023-06-17T11:36:08.214Z"
   },
   {
    "duration": 18,
    "start_time": "2023-06-17T11:36:08.238Z"
   },
   {
    "duration": 19,
    "start_time": "2023-06-17T11:36:08.258Z"
   },
   {
    "duration": 48,
    "start_time": "2023-06-17T11:36:08.279Z"
   },
   {
    "duration": 110,
    "start_time": "2023-06-17T11:36:08.328Z"
   },
   {
    "duration": 0,
    "start_time": "2023-06-17T11:36:08.442Z"
   },
   {
    "duration": 0,
    "start_time": "2023-06-17T11:36:08.443Z"
   },
   {
    "duration": 0,
    "start_time": "2023-06-17T11:36:08.445Z"
   },
   {
    "duration": 0,
    "start_time": "2023-06-17T11:36:08.446Z"
   },
   {
    "duration": 0,
    "start_time": "2023-06-17T11:36:08.448Z"
   },
   {
    "duration": 1,
    "start_time": "2023-06-17T11:36:08.449Z"
   },
   {
    "duration": 0,
    "start_time": "2023-06-17T11:36:08.451Z"
   },
   {
    "duration": 0,
    "start_time": "2023-06-17T11:36:08.453Z"
   },
   {
    "duration": 0,
    "start_time": "2023-06-17T11:36:08.454Z"
   },
   {
    "duration": 0,
    "start_time": "2023-06-17T11:36:08.456Z"
   },
   {
    "duration": 0,
    "start_time": "2023-06-17T11:36:08.457Z"
   },
   {
    "duration": 0,
    "start_time": "2023-06-17T11:36:08.459Z"
   },
   {
    "duration": 0,
    "start_time": "2023-06-17T11:36:08.460Z"
   },
   {
    "duration": 0,
    "start_time": "2023-06-17T11:36:08.461Z"
   },
   {
    "duration": 0,
    "start_time": "2023-06-17T11:36:08.502Z"
   },
   {
    "duration": 0,
    "start_time": "2023-06-17T11:36:08.504Z"
   },
   {
    "duration": 0,
    "start_time": "2023-06-17T11:36:08.505Z"
   },
   {
    "duration": 0,
    "start_time": "2023-06-17T11:36:08.506Z"
   },
   {
    "duration": 0,
    "start_time": "2023-06-17T11:36:08.507Z"
   },
   {
    "duration": 0,
    "start_time": "2023-06-17T11:36:08.508Z"
   },
   {
    "duration": 0,
    "start_time": "2023-06-17T11:36:08.509Z"
   },
   {
    "duration": 0,
    "start_time": "2023-06-17T11:36:08.510Z"
   },
   {
    "duration": 0,
    "start_time": "2023-06-17T11:36:08.512Z"
   },
   {
    "duration": 0,
    "start_time": "2023-06-17T11:36:08.513Z"
   },
   {
    "duration": 0,
    "start_time": "2023-06-17T11:36:08.514Z"
   },
   {
    "duration": 0,
    "start_time": "2023-06-17T11:36:08.515Z"
   },
   {
    "duration": 0,
    "start_time": "2023-06-17T11:36:08.516Z"
   },
   {
    "duration": 0,
    "start_time": "2023-06-17T11:36:08.517Z"
   },
   {
    "duration": 0,
    "start_time": "2023-06-17T11:36:08.518Z"
   },
   {
    "duration": 0,
    "start_time": "2023-06-17T11:36:08.519Z"
   },
   {
    "duration": 0,
    "start_time": "2023-06-17T11:36:08.520Z"
   },
   {
    "duration": 0,
    "start_time": "2023-06-17T11:36:08.521Z"
   },
   {
    "duration": 0,
    "start_time": "2023-06-17T11:36:08.522Z"
   },
   {
    "duration": 0,
    "start_time": "2023-06-17T11:36:08.523Z"
   },
   {
    "duration": 0,
    "start_time": "2023-06-17T11:36:08.524Z"
   },
   {
    "duration": 0,
    "start_time": "2023-06-17T11:36:08.525Z"
   },
   {
    "duration": 0,
    "start_time": "2023-06-17T11:36:08.526Z"
   },
   {
    "duration": 0,
    "start_time": "2023-06-17T11:36:08.527Z"
   },
   {
    "duration": 1,
    "start_time": "2023-06-17T11:36:08.528Z"
   },
   {
    "duration": 0,
    "start_time": "2023-06-17T11:36:08.530Z"
   },
   {
    "duration": 0,
    "start_time": "2023-06-17T11:36:08.531Z"
   },
   {
    "duration": 0,
    "start_time": "2023-06-17T11:36:08.532Z"
   },
   {
    "duration": 0,
    "start_time": "2023-06-17T11:36:08.533Z"
   },
   {
    "duration": 0,
    "start_time": "2023-06-17T11:36:08.534Z"
   },
   {
    "duration": 0,
    "start_time": "2023-06-17T11:36:08.535Z"
   },
   {
    "duration": 0,
    "start_time": "2023-06-17T11:36:08.536Z"
   },
   {
    "duration": 0,
    "start_time": "2023-06-17T11:36:08.537Z"
   },
   {
    "duration": 0,
    "start_time": "2023-06-17T11:36:08.538Z"
   },
   {
    "duration": 0,
    "start_time": "2023-06-17T11:36:08.539Z"
   },
   {
    "duration": 0,
    "start_time": "2023-06-17T11:36:08.602Z"
   },
   {
    "duration": 0,
    "start_time": "2023-06-17T11:36:08.603Z"
   },
   {
    "duration": 0,
    "start_time": "2023-06-17T11:36:08.604Z"
   },
   {
    "duration": 0,
    "start_time": "2023-06-17T11:36:08.605Z"
   },
   {
    "duration": 0,
    "start_time": "2023-06-17T11:36:08.606Z"
   },
   {
    "duration": 0,
    "start_time": "2023-06-17T11:36:08.607Z"
   },
   {
    "duration": 0,
    "start_time": "2023-06-17T11:36:08.608Z"
   },
   {
    "duration": 0,
    "start_time": "2023-06-17T11:36:08.609Z"
   },
   {
    "duration": 0,
    "start_time": "2023-06-17T11:36:08.610Z"
   },
   {
    "duration": 0,
    "start_time": "2023-06-17T11:36:08.611Z"
   },
   {
    "duration": 0,
    "start_time": "2023-06-17T11:36:08.611Z"
   },
   {
    "duration": 1245,
    "start_time": "2023-06-17T11:36:32.873Z"
   },
   {
    "duration": 1239,
    "start_time": "2023-06-17T11:36:55.751Z"
   },
   {
    "duration": 6,
    "start_time": "2023-06-17T11:37:17.536Z"
   },
   {
    "duration": 4,
    "start_time": "2023-06-17T11:37:27.671Z"
   },
   {
    "duration": 18,
    "start_time": "2023-06-17T11:37:49.294Z"
   },
   {
    "duration": 4,
    "start_time": "2023-06-17T11:37:56.124Z"
   },
   {
    "duration": 24,
    "start_time": "2023-06-17T11:38:56.007Z"
   },
   {
    "duration": 24,
    "start_time": "2023-06-17T11:40:04.509Z"
   },
   {
    "duration": 4,
    "start_time": "2023-06-17T11:40:07.514Z"
   },
   {
    "duration": 17,
    "start_time": "2023-06-17T11:40:22.103Z"
   },
   {
    "duration": 1371,
    "start_time": "2023-06-17T11:40:50.409Z"
   },
   {
    "duration": 676,
    "start_time": "2023-06-17T11:40:51.782Z"
   },
   {
    "duration": 5,
    "start_time": "2023-06-17T11:40:52.459Z"
   },
   {
    "duration": 33,
    "start_time": "2023-06-17T11:40:52.466Z"
   },
   {
    "duration": 16,
    "start_time": "2023-06-17T11:40:52.501Z"
   },
   {
    "duration": 16,
    "start_time": "2023-06-17T11:40:52.519Z"
   },
   {
    "duration": 3,
    "start_time": "2023-06-17T11:40:52.537Z"
   },
   {
    "duration": 7,
    "start_time": "2023-06-17T11:40:52.541Z"
   },
   {
    "duration": 15,
    "start_time": "2023-06-17T11:40:52.549Z"
   },
   {
    "duration": 7,
    "start_time": "2023-06-17T11:40:52.565Z"
   },
   {
    "duration": 15,
    "start_time": "2023-06-17T11:40:52.574Z"
   },
   {
    "duration": 385,
    "start_time": "2023-06-17T11:40:52.591Z"
   },
   {
    "duration": 5,
    "start_time": "2023-06-17T11:40:52.978Z"
   },
   {
    "duration": 17,
    "start_time": "2023-06-17T11:40:52.986Z"
   },
   {
    "duration": 2,
    "start_time": "2023-06-17T11:40:53.004Z"
   },
   {
    "duration": 10,
    "start_time": "2023-06-17T11:40:53.008Z"
   },
   {
    "duration": 5,
    "start_time": "2023-06-17T11:40:53.020Z"
   },
   {
    "duration": 11,
    "start_time": "2023-06-17T11:40:53.026Z"
   },
   {
    "duration": 11,
    "start_time": "2023-06-17T11:40:53.038Z"
   },
   {
    "duration": 8,
    "start_time": "2023-06-17T11:40:53.050Z"
   },
   {
    "duration": 29,
    "start_time": "2023-06-17T11:40:53.059Z"
   },
   {
    "duration": 12,
    "start_time": "2023-06-17T11:40:53.090Z"
   },
   {
    "duration": 67,
    "start_time": "2023-06-17T11:40:53.104Z"
   },
   {
    "duration": 12,
    "start_time": "2023-06-17T11:40:53.173Z"
   },
   {
    "duration": 3,
    "start_time": "2023-06-17T11:40:53.186Z"
   },
   {
    "duration": 13,
    "start_time": "2023-06-17T11:40:53.191Z"
   },
   {
    "duration": 15,
    "start_time": "2023-06-17T11:40:53.206Z"
   },
   {
    "duration": 236,
    "start_time": "2023-06-17T11:40:53.223Z"
   },
   {
    "duration": 4,
    "start_time": "2023-06-17T11:40:53.460Z"
   },
   {
    "duration": 21,
    "start_time": "2023-06-17T11:40:53.465Z"
   },
   {
    "duration": 15,
    "start_time": "2023-06-17T11:40:53.488Z"
   },
   {
    "duration": 10,
    "start_time": "2023-06-17T11:40:53.505Z"
   },
   {
    "duration": 15,
    "start_time": "2023-06-17T11:40:53.516Z"
   },
   {
    "duration": 15,
    "start_time": "2023-06-17T11:40:53.532Z"
   },
   {
    "duration": 7,
    "start_time": "2023-06-17T11:40:53.549Z"
   },
   {
    "duration": 11,
    "start_time": "2023-06-17T11:40:53.558Z"
   },
   {
    "duration": 10,
    "start_time": "2023-06-17T11:40:53.570Z"
   },
   {
    "duration": 19,
    "start_time": "2023-06-17T11:40:53.582Z"
   },
   {
    "duration": 10,
    "start_time": "2023-06-17T11:40:53.603Z"
   },
   {
    "duration": 3,
    "start_time": "2023-06-17T11:40:53.615Z"
   },
   {
    "duration": 20,
    "start_time": "2023-06-17T11:40:53.623Z"
   },
   {
    "duration": 68,
    "start_time": "2023-06-17T11:40:53.645Z"
   },
   {
    "duration": 193,
    "start_time": "2023-06-17T11:40:53.715Z"
   },
   {
    "duration": 206,
    "start_time": "2023-06-17T11:40:53.910Z"
   },
   {
    "duration": 212,
    "start_time": "2023-06-17T11:40:54.119Z"
   },
   {
    "duration": 384,
    "start_time": "2023-06-17T11:40:54.333Z"
   },
   {
    "duration": 5,
    "start_time": "2023-06-17T11:40:54.719Z"
   },
   {
    "duration": 13,
    "start_time": "2023-06-17T11:40:54.726Z"
   },
   {
    "duration": 6,
    "start_time": "2023-06-17T11:40:54.741Z"
   },
   {
    "duration": 346,
    "start_time": "2023-06-17T11:40:54.749Z"
   },
   {
    "duration": 12,
    "start_time": "2023-06-17T11:40:55.096Z"
   },
   {
    "duration": 6,
    "start_time": "2023-06-17T11:40:55.109Z"
   },
   {
    "duration": 26,
    "start_time": "2023-06-17T11:40:55.116Z"
   },
   {
    "duration": 33,
    "start_time": "2023-06-17T11:40:55.144Z"
   },
   {
    "duration": 6,
    "start_time": "2023-06-17T11:40:55.179Z"
   },
   {
    "duration": 14,
    "start_time": "2023-06-17T11:40:55.186Z"
   },
   {
    "duration": 13,
    "start_time": "2023-06-17T11:40:55.202Z"
   },
   {
    "duration": 156,
    "start_time": "2023-06-17T11:40:55.217Z"
   },
   {
    "duration": 0,
    "start_time": "2023-06-17T11:40:55.374Z"
   },
   {
    "duration": 0,
    "start_time": "2023-06-17T11:40:55.375Z"
   },
   {
    "duration": 0,
    "start_time": "2023-06-17T11:40:55.376Z"
   },
   {
    "duration": 0,
    "start_time": "2023-06-17T11:40:55.377Z"
   },
   {
    "duration": 0,
    "start_time": "2023-06-17T11:40:55.379Z"
   },
   {
    "duration": 0,
    "start_time": "2023-06-17T11:40:55.380Z"
   },
   {
    "duration": 0,
    "start_time": "2023-06-17T11:40:55.381Z"
   },
   {
    "duration": 0,
    "start_time": "2023-06-17T11:40:55.382Z"
   },
   {
    "duration": 0,
    "start_time": "2023-06-17T11:40:55.383Z"
   },
   {
    "duration": 0,
    "start_time": "2023-06-17T11:40:55.402Z"
   },
   {
    "duration": 0,
    "start_time": "2023-06-17T11:40:55.403Z"
   },
   {
    "duration": 0,
    "start_time": "2023-06-17T11:40:55.404Z"
   },
   {
    "duration": 0,
    "start_time": "2023-06-17T11:40:55.405Z"
   },
   {
    "duration": 0,
    "start_time": "2023-06-17T11:40:55.406Z"
   },
   {
    "duration": 0,
    "start_time": "2023-06-17T11:40:55.407Z"
   },
   {
    "duration": 0,
    "start_time": "2023-06-17T11:40:55.408Z"
   },
   {
    "duration": 0,
    "start_time": "2023-06-17T11:40:55.410Z"
   },
   {
    "duration": 0,
    "start_time": "2023-06-17T11:40:55.411Z"
   },
   {
    "duration": 0,
    "start_time": "2023-06-17T11:40:55.412Z"
   },
   {
    "duration": 0,
    "start_time": "2023-06-17T11:40:55.413Z"
   },
   {
    "duration": 0,
    "start_time": "2023-06-17T11:40:55.414Z"
   },
   {
    "duration": 0,
    "start_time": "2023-06-17T11:40:55.415Z"
   },
   {
    "duration": 1323,
    "start_time": "2023-06-17T11:41:16.865Z"
   },
   {
    "duration": 675,
    "start_time": "2023-06-17T11:41:18.191Z"
   },
   {
    "duration": 3,
    "start_time": "2023-06-17T11:41:18.870Z"
   },
   {
    "duration": 30,
    "start_time": "2023-06-17T11:41:18.875Z"
   },
   {
    "duration": 5,
    "start_time": "2023-06-17T11:41:18.907Z"
   },
   {
    "duration": 13,
    "start_time": "2023-06-17T11:41:18.913Z"
   },
   {
    "duration": 8,
    "start_time": "2023-06-17T11:41:18.927Z"
   },
   {
    "duration": 12,
    "start_time": "2023-06-17T11:41:18.936Z"
   },
   {
    "duration": 19,
    "start_time": "2023-06-17T11:41:18.950Z"
   },
   {
    "duration": 15,
    "start_time": "2023-06-17T11:41:18.970Z"
   },
   {
    "duration": 13,
    "start_time": "2023-06-17T11:41:18.987Z"
   },
   {
    "duration": 386,
    "start_time": "2023-06-17T11:41:19.002Z"
   },
   {
    "duration": 13,
    "start_time": "2023-06-17T11:41:19.389Z"
   },
   {
    "duration": 15,
    "start_time": "2023-06-17T11:41:19.404Z"
   },
   {
    "duration": 4,
    "start_time": "2023-06-17T11:41:19.421Z"
   },
   {
    "duration": 11,
    "start_time": "2023-06-17T11:41:19.426Z"
   },
   {
    "duration": 8,
    "start_time": "2023-06-17T11:41:19.439Z"
   },
   {
    "duration": 6,
    "start_time": "2023-06-17T11:41:19.449Z"
   },
   {
    "duration": 11,
    "start_time": "2023-06-17T11:41:19.456Z"
   },
   {
    "duration": 8,
    "start_time": "2023-06-17T11:41:19.469Z"
   },
   {
    "duration": 35,
    "start_time": "2023-06-17T11:41:19.478Z"
   },
   {
    "duration": 103,
    "start_time": "2023-06-17T11:41:19.515Z"
   },
   {
    "duration": 0,
    "start_time": "2023-06-17T11:41:19.621Z"
   },
   {
    "duration": 0,
    "start_time": "2023-06-17T11:41:19.622Z"
   },
   {
    "duration": 0,
    "start_time": "2023-06-17T11:41:19.623Z"
   },
   {
    "duration": 0,
    "start_time": "2023-06-17T11:41:19.624Z"
   },
   {
    "duration": 0,
    "start_time": "2023-06-17T11:41:19.625Z"
   },
   {
    "duration": 0,
    "start_time": "2023-06-17T11:41:19.634Z"
   },
   {
    "duration": 0,
    "start_time": "2023-06-17T11:41:19.634Z"
   },
   {
    "duration": 0,
    "start_time": "2023-06-17T11:41:19.635Z"
   },
   {
    "duration": 0,
    "start_time": "2023-06-17T11:41:19.636Z"
   },
   {
    "duration": 0,
    "start_time": "2023-06-17T11:41:19.636Z"
   },
   {
    "duration": 0,
    "start_time": "2023-06-17T11:41:19.638Z"
   },
   {
    "duration": 0,
    "start_time": "2023-06-17T11:41:19.639Z"
   },
   {
    "duration": 0,
    "start_time": "2023-06-17T11:41:19.640Z"
   },
   {
    "duration": 0,
    "start_time": "2023-06-17T11:41:19.642Z"
   },
   {
    "duration": 0,
    "start_time": "2023-06-17T11:41:19.643Z"
   },
   {
    "duration": 0,
    "start_time": "2023-06-17T11:41:19.644Z"
   },
   {
    "duration": 0,
    "start_time": "2023-06-17T11:41:19.645Z"
   },
   {
    "duration": 0,
    "start_time": "2023-06-17T11:41:19.646Z"
   },
   {
    "duration": 0,
    "start_time": "2023-06-17T11:41:19.647Z"
   },
   {
    "duration": 0,
    "start_time": "2023-06-17T11:41:19.648Z"
   },
   {
    "duration": 0,
    "start_time": "2023-06-17T11:41:19.649Z"
   },
   {
    "duration": 0,
    "start_time": "2023-06-17T11:41:19.650Z"
   },
   {
    "duration": 0,
    "start_time": "2023-06-17T11:41:19.651Z"
   },
   {
    "duration": 0,
    "start_time": "2023-06-17T11:41:19.652Z"
   },
   {
    "duration": 0,
    "start_time": "2023-06-17T11:41:19.653Z"
   },
   {
    "duration": 0,
    "start_time": "2023-06-17T11:41:19.654Z"
   },
   {
    "duration": 0,
    "start_time": "2023-06-17T11:41:19.655Z"
   },
   {
    "duration": 0,
    "start_time": "2023-06-17T11:41:19.656Z"
   },
   {
    "duration": 0,
    "start_time": "2023-06-17T11:41:19.656Z"
   },
   {
    "duration": 0,
    "start_time": "2023-06-17T11:41:19.657Z"
   },
   {
    "duration": 0,
    "start_time": "2023-06-17T11:41:19.658Z"
   },
   {
    "duration": 0,
    "start_time": "2023-06-17T11:41:19.659Z"
   },
   {
    "duration": 0,
    "start_time": "2023-06-17T11:41:19.660Z"
   },
   {
    "duration": 0,
    "start_time": "2023-06-17T11:41:19.661Z"
   },
   {
    "duration": 0,
    "start_time": "2023-06-17T11:41:19.702Z"
   },
   {
    "duration": 0,
    "start_time": "2023-06-17T11:41:19.704Z"
   },
   {
    "duration": 0,
    "start_time": "2023-06-17T11:41:19.704Z"
   },
   {
    "duration": 0,
    "start_time": "2023-06-17T11:41:19.706Z"
   },
   {
    "duration": 0,
    "start_time": "2023-06-17T11:41:19.707Z"
   },
   {
    "duration": 0,
    "start_time": "2023-06-17T11:41:19.708Z"
   },
   {
    "duration": 0,
    "start_time": "2023-06-17T11:41:19.709Z"
   },
   {
    "duration": 0,
    "start_time": "2023-06-17T11:41:19.710Z"
   },
   {
    "duration": 0,
    "start_time": "2023-06-17T11:41:19.711Z"
   },
   {
    "duration": 0,
    "start_time": "2023-06-17T11:41:19.712Z"
   },
   {
    "duration": 0,
    "start_time": "2023-06-17T11:41:19.713Z"
   },
   {
    "duration": 0,
    "start_time": "2023-06-17T11:41:19.714Z"
   },
   {
    "duration": 0,
    "start_time": "2023-06-17T11:41:19.715Z"
   },
   {
    "duration": 0,
    "start_time": "2023-06-17T11:41:19.715Z"
   },
   {
    "duration": 0,
    "start_time": "2023-06-17T11:41:19.716Z"
   },
   {
    "duration": 0,
    "start_time": "2023-06-17T11:41:19.717Z"
   },
   {
    "duration": 0,
    "start_time": "2023-06-17T11:41:19.718Z"
   },
   {
    "duration": 0,
    "start_time": "2023-06-17T11:41:19.719Z"
   },
   {
    "duration": 0,
    "start_time": "2023-06-17T11:41:19.720Z"
   },
   {
    "duration": 0,
    "start_time": "2023-06-17T11:41:19.721Z"
   },
   {
    "duration": 0,
    "start_time": "2023-06-17T11:41:19.722Z"
   },
   {
    "duration": 0,
    "start_time": "2023-06-17T11:41:19.723Z"
   },
   {
    "duration": 0,
    "start_time": "2023-06-17T11:41:19.724Z"
   },
   {
    "duration": 0,
    "start_time": "2023-06-17T11:41:19.725Z"
   },
   {
    "duration": 0,
    "start_time": "2023-06-17T11:41:19.726Z"
   },
   {
    "duration": 5,
    "start_time": "2023-06-17T11:41:29.986Z"
   },
   {
    "duration": 8,
    "start_time": "2023-06-17T11:48:33.102Z"
   },
   {
    "duration": 24,
    "start_time": "2023-06-17T11:50:57.307Z"
   },
   {
    "duration": 4,
    "start_time": "2023-06-17T11:51:33.079Z"
   },
   {
    "duration": 66,
    "start_time": "2023-06-17T11:51:45.007Z"
   },
   {
    "duration": 10,
    "start_time": "2023-06-17T11:51:45.294Z"
   },
   {
    "duration": 3,
    "start_time": "2023-06-17T11:51:46.076Z"
   },
   {
    "duration": 9,
    "start_time": "2023-06-17T11:51:46.592Z"
   },
   {
    "duration": 14,
    "start_time": "2023-06-17T11:51:47.184Z"
   },
   {
    "duration": 225,
    "start_time": "2023-06-17T11:51:48.427Z"
   },
   {
    "duration": 4,
    "start_time": "2023-06-17T11:51:49.699Z"
   },
   {
    "duration": 20,
    "start_time": "2023-06-17T11:51:50.029Z"
   },
   {
    "duration": 7,
    "start_time": "2023-06-17T11:51:50.195Z"
   },
   {
    "duration": 8,
    "start_time": "2023-06-17T11:51:50.362Z"
   },
   {
    "duration": 9,
    "start_time": "2023-06-17T11:51:50.545Z"
   },
   {
    "duration": 8,
    "start_time": "2023-06-17T11:51:50.715Z"
   },
   {
    "duration": 8,
    "start_time": "2023-06-17T11:51:50.889Z"
   },
   {
    "duration": 14,
    "start_time": "2023-06-17T11:51:51.049Z"
   },
   {
    "duration": 9,
    "start_time": "2023-06-17T11:51:51.216Z"
   },
   {
    "duration": 10,
    "start_time": "2023-06-17T11:51:51.627Z"
   },
   {
    "duration": 13,
    "start_time": "2023-06-17T11:51:51.937Z"
   },
   {
    "duration": 12,
    "start_time": "2023-06-17T11:54:24.605Z"
   },
   {
    "duration": 13,
    "start_time": "2023-06-17T11:56:52.306Z"
   },
   {
    "duration": 13,
    "start_time": "2023-06-17T11:57:28.618Z"
   },
   {
    "duration": 197,
    "start_time": "2023-06-17T11:57:33.634Z"
   },
   {
    "duration": 215,
    "start_time": "2023-06-17T11:58:55.752Z"
   },
   {
    "duration": 210,
    "start_time": "2023-06-17T11:59:15.348Z"
   },
   {
    "duration": 1460,
    "start_time": "2023-06-17T12:02:17.302Z"
   },
   {
    "duration": 664,
    "start_time": "2023-06-17T12:02:18.764Z"
   },
   {
    "duration": 4,
    "start_time": "2023-06-17T12:02:19.430Z"
   },
   {
    "duration": 13,
    "start_time": "2023-06-17T12:02:19.436Z"
   },
   {
    "duration": 6,
    "start_time": "2023-06-17T12:02:19.450Z"
   },
   {
    "duration": 13,
    "start_time": "2023-06-17T12:02:19.457Z"
   },
   {
    "duration": 5,
    "start_time": "2023-06-17T12:02:19.472Z"
   },
   {
    "duration": 7,
    "start_time": "2023-06-17T12:02:19.479Z"
   },
   {
    "duration": 6,
    "start_time": "2023-06-17T12:02:19.502Z"
   },
   {
    "duration": 16,
    "start_time": "2023-06-17T12:02:19.510Z"
   },
   {
    "duration": 12,
    "start_time": "2023-06-17T12:02:19.527Z"
   },
   {
    "duration": 391,
    "start_time": "2023-06-17T12:02:19.541Z"
   },
   {
    "duration": 6,
    "start_time": "2023-06-17T12:02:19.933Z"
   },
   {
    "duration": 6,
    "start_time": "2023-06-17T12:02:19.941Z"
   },
   {
    "duration": 6,
    "start_time": "2023-06-17T12:02:19.949Z"
   },
   {
    "duration": 6,
    "start_time": "2023-06-17T12:02:19.957Z"
   },
   {
    "duration": 14,
    "start_time": "2023-06-17T12:02:19.965Z"
   },
   {
    "duration": 26,
    "start_time": "2023-06-17T12:02:19.980Z"
   },
   {
    "duration": 2,
    "start_time": "2023-06-17T12:02:20.008Z"
   },
   {
    "duration": 58,
    "start_time": "2023-06-17T12:02:20.012Z"
   },
   {
    "duration": 58,
    "start_time": "2023-06-17T12:02:20.072Z"
   },
   {
    "duration": 23,
    "start_time": "2023-06-17T12:02:20.132Z"
   },
   {
    "duration": 13,
    "start_time": "2023-06-17T12:02:20.157Z"
   },
   {
    "duration": 17,
    "start_time": "2023-06-17T12:02:20.171Z"
   },
   {
    "duration": 18,
    "start_time": "2023-06-17T12:02:20.190Z"
   },
   {
    "duration": 252,
    "start_time": "2023-06-17T12:02:20.209Z"
   },
   {
    "duration": 192,
    "start_time": "2023-06-17T12:02:20.463Z"
   },
   {
    "duration": 182,
    "start_time": "2023-06-17T12:02:20.660Z"
   },
   {
    "duration": 167,
    "start_time": "2023-06-17T12:02:20.844Z"
   },
   {
    "duration": 216,
    "start_time": "2023-06-17T12:02:21.013Z"
   },
   {
    "duration": 303,
    "start_time": "2023-06-17T12:02:21.231Z"
   },
   {
    "duration": 215,
    "start_time": "2023-06-17T12:02:21.536Z"
   },
   {
    "duration": 219,
    "start_time": "2023-06-17T12:02:21.753Z"
   },
   {
    "duration": 169,
    "start_time": "2023-06-17T12:02:21.973Z"
   },
   {
    "duration": 172,
    "start_time": "2023-06-17T12:02:22.144Z"
   },
   {
    "duration": 172,
    "start_time": "2023-06-17T12:02:22.318Z"
   },
   {
    "duration": 225,
    "start_time": "2023-06-17T12:02:22.491Z"
   },
   {
    "duration": 108,
    "start_time": "2023-06-17T12:02:22.718Z"
   },
   {
    "duration": 0,
    "start_time": "2023-06-17T12:02:22.828Z"
   },
   {
    "duration": 0,
    "start_time": "2023-06-17T12:02:22.829Z"
   },
   {
    "duration": 0,
    "start_time": "2023-06-17T12:02:22.830Z"
   },
   {
    "duration": 0,
    "start_time": "2023-06-17T12:02:22.832Z"
   },
   {
    "duration": 0,
    "start_time": "2023-06-17T12:02:22.833Z"
   },
   {
    "duration": 0,
    "start_time": "2023-06-17T12:02:22.834Z"
   },
   {
    "duration": 0,
    "start_time": "2023-06-17T12:02:22.835Z"
   },
   {
    "duration": 0,
    "start_time": "2023-06-17T12:02:22.836Z"
   },
   {
    "duration": 0,
    "start_time": "2023-06-17T12:02:22.837Z"
   },
   {
    "duration": 0,
    "start_time": "2023-06-17T12:02:22.838Z"
   },
   {
    "duration": 0,
    "start_time": "2023-06-17T12:02:22.839Z"
   },
   {
    "duration": 0,
    "start_time": "2023-06-17T12:02:22.840Z"
   },
   {
    "duration": 0,
    "start_time": "2023-06-17T12:02:22.841Z"
   },
   {
    "duration": 0,
    "start_time": "2023-06-17T12:02:22.842Z"
   },
   {
    "duration": 0,
    "start_time": "2023-06-17T12:02:22.843Z"
   },
   {
    "duration": 0,
    "start_time": "2023-06-17T12:02:22.844Z"
   },
   {
    "duration": 0,
    "start_time": "2023-06-17T12:02:22.845Z"
   },
   {
    "duration": 0,
    "start_time": "2023-06-17T12:02:22.846Z"
   },
   {
    "duration": 0,
    "start_time": "2023-06-17T12:02:22.847Z"
   },
   {
    "duration": 0,
    "start_time": "2023-06-17T12:02:22.848Z"
   },
   {
    "duration": 0,
    "start_time": "2023-06-17T12:02:22.849Z"
   },
   {
    "duration": 0,
    "start_time": "2023-06-17T12:02:22.851Z"
   },
   {
    "duration": 0,
    "start_time": "2023-06-17T12:02:22.851Z"
   },
   {
    "duration": 0,
    "start_time": "2023-06-17T12:02:22.852Z"
   },
   {
    "duration": 0,
    "start_time": "2023-06-17T12:02:22.853Z"
   },
   {
    "duration": 0,
    "start_time": "2023-06-17T12:02:22.854Z"
   },
   {
    "duration": 0,
    "start_time": "2023-06-17T12:02:22.855Z"
   },
   {
    "duration": 0,
    "start_time": "2023-06-17T12:02:22.901Z"
   },
   {
    "duration": 0,
    "start_time": "2023-06-17T12:02:22.903Z"
   },
   {
    "duration": 0,
    "start_time": "2023-06-17T12:02:22.904Z"
   },
   {
    "duration": 0,
    "start_time": "2023-06-17T12:02:22.905Z"
   },
   {
    "duration": 0,
    "start_time": "2023-06-17T12:02:22.906Z"
   },
   {
    "duration": 0,
    "start_time": "2023-06-17T12:02:22.907Z"
   },
   {
    "duration": 0,
    "start_time": "2023-06-17T12:02:22.907Z"
   },
   {
    "duration": 1,
    "start_time": "2023-06-17T12:02:22.908Z"
   },
   {
    "duration": 0,
    "start_time": "2023-06-17T12:02:22.909Z"
   },
   {
    "duration": 0,
    "start_time": "2023-06-17T12:02:22.910Z"
   },
   {
    "duration": 1,
    "start_time": "2023-06-17T12:02:22.911Z"
   },
   {
    "duration": 0,
    "start_time": "2023-06-17T12:02:22.913Z"
   },
   {
    "duration": 0,
    "start_time": "2023-06-17T12:02:22.913Z"
   },
   {
    "duration": 0,
    "start_time": "2023-06-17T12:02:22.914Z"
   },
   {
    "duration": 4,
    "start_time": "2023-06-17T12:02:39.592Z"
   },
   {
    "duration": 219,
    "start_time": "2023-06-17T12:03:26.185Z"
   },
   {
    "duration": 208,
    "start_time": "2023-06-17T12:03:30.740Z"
   },
   {
    "duration": 206,
    "start_time": "2023-06-17T12:03:33.219Z"
   },
   {
    "duration": 190,
    "start_time": "2023-06-17T12:03:35.855Z"
   },
   {
    "duration": 206,
    "start_time": "2023-06-17T12:03:55.573Z"
   },
   {
    "duration": 208,
    "start_time": "2023-06-17T12:04:08.284Z"
   },
   {
    "duration": 254,
    "start_time": "2023-06-17T12:04:23.075Z"
   },
   {
    "duration": 198,
    "start_time": "2023-06-17T12:04:35.671Z"
   },
   {
    "duration": 201,
    "start_time": "2023-06-17T12:04:49.388Z"
   },
   {
    "duration": 5,
    "start_time": "2023-06-17T12:07:44.360Z"
   },
   {
    "duration": 10,
    "start_time": "2023-06-17T12:08:07.521Z"
   },
   {
    "duration": 7,
    "start_time": "2023-06-17T12:08:11.736Z"
   },
   {
    "duration": 2,
    "start_time": "2023-06-17T12:08:29.918Z"
   },
   {
    "duration": 20,
    "start_time": "2023-06-17T12:08:58.949Z"
   },
   {
    "duration": 6,
    "start_time": "2023-06-17T12:09:07.722Z"
   },
   {
    "duration": 4,
    "start_time": "2023-06-17T12:09:13.757Z"
   },
   {
    "duration": 8,
    "start_time": "2023-06-17T12:09:42.248Z"
   },
   {
    "duration": 38,
    "start_time": "2023-06-17T12:09:57.447Z"
   },
   {
    "duration": 7,
    "start_time": "2023-06-17T12:10:00.354Z"
   },
   {
    "duration": 4,
    "start_time": "2023-06-17T12:10:03.865Z"
   },
   {
    "duration": 202,
    "start_time": "2023-06-17T12:34:27.077Z"
   },
   {
    "duration": 5,
    "start_time": "2023-06-17T12:37:28.315Z"
   },
   {
    "duration": 172,
    "start_time": "2023-06-17T12:37:47.466Z"
   },
   {
    "duration": 463,
    "start_time": "2023-06-17T12:37:59.498Z"
   },
   {
    "duration": 448,
    "start_time": "2023-06-17T12:41:22.541Z"
   },
   {
    "duration": 627,
    "start_time": "2023-06-17T12:47:08.143Z"
   },
   {
    "duration": 745,
    "start_time": "2023-06-17T12:47:17.394Z"
   },
   {
    "duration": 2672,
    "start_time": "2023-06-17T12:47:38.890Z"
   },
   {
    "duration": 7825,
    "start_time": "2023-06-17T12:47:58.936Z"
   },
   {
    "duration": 1363,
    "start_time": "2023-06-17T12:48:20.232Z"
   },
   {
    "duration": 805,
    "start_time": "2023-06-17T12:49:03.617Z"
   },
   {
    "duration": 759,
    "start_time": "2023-06-17T12:49:18.071Z"
   },
   {
    "duration": 1428,
    "start_time": "2023-06-17T12:49:42.251Z"
   },
   {
    "duration": 6,
    "start_time": "2023-06-17T12:51:32.715Z"
   },
   {
    "duration": 102,
    "start_time": "2023-06-17T12:51:43.092Z"
   },
   {
    "duration": 76,
    "start_time": "2023-06-17T12:51:48.438Z"
   },
   {
    "duration": 1382,
    "start_time": "2023-06-17T12:51:54.934Z"
   },
   {
    "duration": 1356,
    "start_time": "2023-06-17T12:52:08.329Z"
   },
   {
    "duration": 1330,
    "start_time": "2023-06-17T12:52:21.017Z"
   },
   {
    "duration": 83,
    "start_time": "2023-06-17T12:52:32.815Z"
   },
   {
    "duration": 764,
    "start_time": "2023-06-17T12:59:22.791Z"
   },
   {
    "duration": 86,
    "start_time": "2023-06-17T12:59:35.643Z"
   },
   {
    "duration": 832,
    "start_time": "2023-06-17T12:59:39.424Z"
   },
   {
    "duration": 741,
    "start_time": "2023-06-17T12:59:47.049Z"
   },
   {
    "duration": 1377,
    "start_time": "2023-06-17T12:59:53.215Z"
   },
   {
    "duration": 771,
    "start_time": "2023-06-17T13:00:47.690Z"
   },
   {
    "duration": 794,
    "start_time": "2023-06-17T13:00:56.235Z"
   },
   {
    "duration": 819,
    "start_time": "2023-06-17T13:01:05.551Z"
   },
   {
    "duration": 1503,
    "start_time": "2023-06-17T13:01:12.955Z"
   },
   {
    "duration": 788,
    "start_time": "2023-06-17T13:01:25.890Z"
   },
   {
    "duration": 873,
    "start_time": "2023-06-17T13:01:43.516Z"
   },
   {
    "duration": 804,
    "start_time": "2023-06-17T13:01:57.687Z"
   },
   {
    "duration": 1635,
    "start_time": "2023-06-17T13:02:03.698Z"
   },
   {
    "duration": 769,
    "start_time": "2023-06-17T13:02:17.097Z"
   },
   {
    "duration": 772,
    "start_time": "2023-06-17T13:02:26.346Z"
   },
   {
    "duration": 99,
    "start_time": "2023-06-17T13:03:25.315Z"
   },
   {
    "duration": 83,
    "start_time": "2023-06-17T13:03:34.401Z"
   },
   {
    "duration": 22,
    "start_time": "2023-06-17T13:03:41.324Z"
   },
   {
    "duration": 21,
    "start_time": "2023-06-17T13:03:46.050Z"
   },
   {
    "duration": 77,
    "start_time": "2023-06-17T13:03:49.211Z"
   },
   {
    "duration": 14,
    "start_time": "2023-06-17T13:04:03.048Z"
   },
   {
    "duration": 1552,
    "start_time": "2023-06-17T13:04:07.215Z"
   },
   {
    "duration": 44,
    "start_time": "2023-06-17T13:04:24.902Z"
   },
   {
    "duration": 61,
    "start_time": "2023-06-17T13:04:32.129Z"
   },
   {
    "duration": 18,
    "start_time": "2023-06-17T13:06:35.494Z"
   },
   {
    "duration": 7,
    "start_time": "2023-06-17T13:06:51.902Z"
   },
   {
    "duration": 12,
    "start_time": "2023-06-17T13:09:24.313Z"
   },
   {
    "duration": 727,
    "start_time": "2023-06-17T13:09:26.926Z"
   },
   {
    "duration": 19,
    "start_time": "2023-06-17T13:10:03.702Z"
   },
   {
    "duration": 73,
    "start_time": "2023-06-17T13:10:16.705Z"
   },
   {
    "duration": 74,
    "start_time": "2023-06-17T13:10:25.826Z"
   },
   {
    "duration": 90,
    "start_time": "2023-06-17T13:10:49.104Z"
   },
   {
    "duration": 25,
    "start_time": "2023-06-17T13:11:04.444Z"
   },
   {
    "duration": 828,
    "start_time": "2023-06-17T13:11:07.741Z"
   },
   {
    "duration": 8,
    "start_time": "2023-06-17T13:11:36.721Z"
   },
   {
    "duration": 8,
    "start_time": "2023-06-17T13:11:40.556Z"
   },
   {
    "duration": 1615,
    "start_time": "2023-06-17T13:11:52.145Z"
   },
   {
    "duration": 23,
    "start_time": "2023-06-17T13:12:20.743Z"
   },
   {
    "duration": 759,
    "start_time": "2023-06-17T13:12:22.897Z"
   },
   {
    "duration": 749,
    "start_time": "2023-06-17T13:25:55.374Z"
   },
   {
    "duration": 793,
    "start_time": "2023-06-17T13:26:19.831Z"
   },
   {
    "duration": 761,
    "start_time": "2023-06-17T13:28:44.721Z"
   },
   {
    "duration": 247,
    "start_time": "2023-06-17T13:32:38.870Z"
   },
   {
    "duration": 780,
    "start_time": "2023-06-17T13:32:46.494Z"
   },
   {
    "duration": 1702,
    "start_time": "2023-06-17T13:33:32.816Z"
   },
   {
    "duration": 799,
    "start_time": "2023-06-17T13:34:06.415Z"
   },
   {
    "duration": 761,
    "start_time": "2023-06-17T13:34:24.258Z"
   },
   {
    "duration": 803,
    "start_time": "2023-06-17T13:34:48.254Z"
   },
   {
    "duration": 766,
    "start_time": "2023-06-17T13:34:55.716Z"
   },
   {
    "duration": 772,
    "start_time": "2023-06-17T13:35:20.815Z"
   },
   {
    "duration": 1798,
    "start_time": "2023-06-17T13:35:28.073Z"
   },
   {
    "duration": 807,
    "start_time": "2023-06-17T13:35:44.673Z"
   },
   {
    "duration": 310,
    "start_time": "2023-06-17T13:38:25.006Z"
   },
   {
    "duration": 219,
    "start_time": "2023-06-17T13:39:09.299Z"
   },
   {
    "duration": 307,
    "start_time": "2023-06-17T13:39:23.717Z"
   },
   {
    "duration": 486,
    "start_time": "2023-06-17T13:39:30.016Z"
   },
   {
    "duration": 482,
    "start_time": "2023-06-17T13:39:40.740Z"
   },
   {
    "duration": 315,
    "start_time": "2023-06-17T13:39:58.916Z"
   },
   {
    "duration": 303,
    "start_time": "2023-06-17T13:40:23.715Z"
   },
   {
    "duration": 6,
    "start_time": "2023-06-17T13:49:01.214Z"
   },
   {
    "duration": 12,
    "start_time": "2023-06-17T13:49:02.564Z"
   },
   {
    "duration": 321,
    "start_time": "2023-06-17T13:49:09.060Z"
   },
   {
    "duration": 299,
    "start_time": "2023-06-17T13:49:33.017Z"
   },
   {
    "duration": 1819,
    "start_time": "2023-06-17T13:49:42.033Z"
   },
   {
    "duration": 316,
    "start_time": "2023-06-17T13:49:50.864Z"
   },
   {
    "duration": 404,
    "start_time": "2023-06-17T13:50:56.770Z"
   },
   {
    "duration": 1535,
    "start_time": "2023-06-17T13:51:43.863Z"
   },
   {
    "duration": 317,
    "start_time": "2023-06-17T13:51:57.640Z"
   },
   {
    "duration": 9,
    "start_time": "2023-06-17T13:52:19.904Z"
   },
   {
    "duration": 10,
    "start_time": "2023-06-17T13:52:22.039Z"
   },
   {
    "duration": 5,
    "start_time": "2023-06-17T13:52:23.949Z"
   },
   {
    "duration": 1473,
    "start_time": "2023-06-17T13:53:00.343Z"
   },
   {
    "duration": 732,
    "start_time": "2023-06-17T13:53:01.818Z"
   },
   {
    "duration": 4,
    "start_time": "2023-06-17T13:53:02.552Z"
   },
   {
    "duration": 84,
    "start_time": "2023-06-17T13:53:02.558Z"
   },
   {
    "duration": 20,
    "start_time": "2023-06-17T13:53:02.644Z"
   },
   {
    "duration": 14,
    "start_time": "2023-06-17T13:53:02.666Z"
   },
   {
    "duration": 6,
    "start_time": "2023-06-17T13:53:02.681Z"
   },
   {
    "duration": 11,
    "start_time": "2023-06-17T13:53:02.689Z"
   },
   {
    "duration": 20,
    "start_time": "2023-06-17T13:53:02.701Z"
   },
   {
    "duration": 50,
    "start_time": "2023-06-17T13:53:02.724Z"
   },
   {
    "duration": 70,
    "start_time": "2023-06-17T13:53:02.775Z"
   },
   {
    "duration": 469,
    "start_time": "2023-06-17T13:53:02.847Z"
   },
   {
    "duration": 5,
    "start_time": "2023-06-17T13:53:03.318Z"
   },
   {
    "duration": 12,
    "start_time": "2023-06-17T13:53:03.325Z"
   },
   {
    "duration": 13,
    "start_time": "2023-06-17T13:53:03.338Z"
   },
   {
    "duration": 6,
    "start_time": "2023-06-17T13:53:03.352Z"
   },
   {
    "duration": 9,
    "start_time": "2023-06-17T13:53:03.360Z"
   },
   {
    "duration": 12,
    "start_time": "2023-06-17T13:53:03.371Z"
   },
   {
    "duration": 9,
    "start_time": "2023-06-17T13:53:03.384Z"
   },
   {
    "duration": 47,
    "start_time": "2023-06-17T13:53:03.394Z"
   },
   {
    "duration": 72,
    "start_time": "2023-06-17T13:53:03.443Z"
   },
   {
    "duration": 9,
    "start_time": "2023-06-17T13:53:03.517Z"
   },
   {
    "duration": 23,
    "start_time": "2023-06-17T13:53:03.527Z"
   },
   {
    "duration": 16,
    "start_time": "2023-06-17T13:53:03.552Z"
   },
   {
    "duration": 20,
    "start_time": "2023-06-17T13:53:03.570Z"
   },
   {
    "duration": 8,
    "start_time": "2023-06-17T13:53:03.592Z"
   },
   {
    "duration": 234,
    "start_time": "2023-06-17T13:53:03.601Z"
   },
   {
    "duration": 178,
    "start_time": "2023-06-17T13:53:03.841Z"
   },
   {
    "duration": 231,
    "start_time": "2023-06-17T13:53:04.021Z"
   },
   {
    "duration": 236,
    "start_time": "2023-06-17T13:53:04.254Z"
   },
   {
    "duration": 234,
    "start_time": "2023-06-17T13:53:04.491Z"
   },
   {
    "duration": 301,
    "start_time": "2023-06-17T13:53:04.726Z"
   },
   {
    "duration": 183,
    "start_time": "2023-06-17T13:53:05.030Z"
   },
   {
    "duration": 162,
    "start_time": "2023-06-17T13:53:05.215Z"
   },
   {
    "duration": 170,
    "start_time": "2023-06-17T13:53:05.378Z"
   },
   {
    "duration": 225,
    "start_time": "2023-06-17T13:53:05.549Z"
   },
   {
    "duration": 3,
    "start_time": "2023-06-17T13:53:05.776Z"
   },
   {
    "duration": 35,
    "start_time": "2023-06-17T13:53:05.780Z"
   },
   {
    "duration": 123,
    "start_time": "2023-06-17T13:53:05.817Z"
   },
   {
    "duration": 4,
    "start_time": "2023-06-17T13:53:05.942Z"
   },
   {
    "duration": 848,
    "start_time": "2023-06-17T13:53:05.948Z"
   },
   {
    "duration": 26,
    "start_time": "2023-06-17T13:53:06.803Z"
   },
   {
    "duration": 922,
    "start_time": "2023-06-17T13:53:06.831Z"
   },
   {
    "duration": 965,
    "start_time": "2023-06-17T13:53:07.755Z"
   },
   {
    "duration": 337,
    "start_time": "2023-06-17T13:53:08.722Z"
   },
   {
    "duration": 118,
    "start_time": "2023-06-17T13:53:09.061Z"
   },
   {
    "duration": 0,
    "start_time": "2023-06-17T13:53:09.181Z"
   },
   {
    "duration": 0,
    "start_time": "2023-06-17T13:53:09.184Z"
   },
   {
    "duration": 0,
    "start_time": "2023-06-17T13:53:09.186Z"
   },
   {
    "duration": 0,
    "start_time": "2023-06-17T13:53:09.187Z"
   },
   {
    "duration": 0,
    "start_time": "2023-06-17T13:53:09.189Z"
   },
   {
    "duration": 0,
    "start_time": "2023-06-17T13:53:09.203Z"
   },
   {
    "duration": 0,
    "start_time": "2023-06-17T13:53:09.204Z"
   },
   {
    "duration": 0,
    "start_time": "2023-06-17T13:53:09.204Z"
   },
   {
    "duration": 0,
    "start_time": "2023-06-17T13:53:09.205Z"
   },
   {
    "duration": 0,
    "start_time": "2023-06-17T13:53:09.215Z"
   },
   {
    "duration": 0,
    "start_time": "2023-06-17T13:53:09.216Z"
   },
   {
    "duration": 0,
    "start_time": "2023-06-17T13:53:09.217Z"
   },
   {
    "duration": 0,
    "start_time": "2023-06-17T13:53:09.219Z"
   },
   {
    "duration": 1,
    "start_time": "2023-06-17T13:53:09.220Z"
   },
   {
    "duration": 0,
    "start_time": "2023-06-17T13:53:09.222Z"
   },
   {
    "duration": 0,
    "start_time": "2023-06-17T13:53:09.224Z"
   },
   {
    "duration": 1,
    "start_time": "2023-06-17T13:53:09.225Z"
   },
   {
    "duration": 0,
    "start_time": "2023-06-17T13:53:09.227Z"
   },
   {
    "duration": 0,
    "start_time": "2023-06-17T13:53:09.228Z"
   },
   {
    "duration": 0,
    "start_time": "2023-06-17T13:53:09.230Z"
   },
   {
    "duration": 0,
    "start_time": "2023-06-17T13:53:09.231Z"
   },
   {
    "duration": 0,
    "start_time": "2023-06-17T13:53:09.233Z"
   },
   {
    "duration": 0,
    "start_time": "2023-06-17T13:53:09.234Z"
   },
   {
    "duration": 0,
    "start_time": "2023-06-17T13:53:09.236Z"
   },
   {
    "duration": 0,
    "start_time": "2023-06-17T13:53:09.237Z"
   },
   {
    "duration": 0,
    "start_time": "2023-06-17T13:53:09.238Z"
   },
   {
    "duration": 0,
    "start_time": "2023-06-17T13:53:09.239Z"
   },
   {
    "duration": 0,
    "start_time": "2023-06-17T13:53:09.241Z"
   },
   {
    "duration": 0,
    "start_time": "2023-06-17T13:53:09.242Z"
   },
   {
    "duration": 0,
    "start_time": "2023-06-17T13:53:09.243Z"
   },
   {
    "duration": 0,
    "start_time": "2023-06-17T13:53:09.244Z"
   },
   {
    "duration": 0,
    "start_time": "2023-06-17T13:53:09.245Z"
   },
   {
    "duration": 0,
    "start_time": "2023-06-17T13:53:09.246Z"
   },
   {
    "duration": 1,
    "start_time": "2023-06-17T13:53:09.247Z"
   },
   {
    "duration": 8,
    "start_time": "2023-06-17T13:53:27.644Z"
   },
   {
    "duration": 327,
    "start_time": "2023-06-17T13:53:34.558Z"
   },
   {
    "duration": 5,
    "start_time": "2023-06-17T13:54:38.987Z"
   },
   {
    "duration": 10,
    "start_time": "2023-06-17T13:54:39.300Z"
   },
   {
    "duration": 7,
    "start_time": "2023-06-17T13:54:40.389Z"
   },
   {
    "duration": 230,
    "start_time": "2023-06-17T13:55:40.968Z"
   },
   {
    "duration": 1379,
    "start_time": "2023-06-17T13:56:26.345Z"
   },
   {
    "duration": 723,
    "start_time": "2023-06-17T13:56:27.727Z"
   },
   {
    "duration": 4,
    "start_time": "2023-06-17T13:56:28.452Z"
   },
   {
    "duration": 18,
    "start_time": "2023-06-17T13:56:28.457Z"
   },
   {
    "duration": 10,
    "start_time": "2023-06-17T13:56:28.477Z"
   },
   {
    "duration": 35,
    "start_time": "2023-06-17T13:56:28.489Z"
   },
   {
    "duration": 2,
    "start_time": "2023-06-17T13:56:28.526Z"
   },
   {
    "duration": 7,
    "start_time": "2023-06-17T13:56:28.530Z"
   },
   {
    "duration": 12,
    "start_time": "2023-06-17T13:56:28.538Z"
   },
   {
    "duration": 5,
    "start_time": "2023-06-17T13:56:28.551Z"
   },
   {
    "duration": 18,
    "start_time": "2023-06-17T13:56:28.557Z"
   },
   {
    "duration": 413,
    "start_time": "2023-06-17T13:56:28.577Z"
   },
   {
    "duration": 11,
    "start_time": "2023-06-17T13:56:28.991Z"
   },
   {
    "duration": 5,
    "start_time": "2023-06-17T13:56:29.016Z"
   },
   {
    "duration": 14,
    "start_time": "2023-06-17T13:56:29.022Z"
   },
   {
    "duration": 11,
    "start_time": "2023-06-17T13:56:29.038Z"
   },
   {
    "duration": 21,
    "start_time": "2023-06-17T13:56:29.051Z"
   },
   {
    "duration": 27,
    "start_time": "2023-06-17T13:56:29.073Z"
   },
   {
    "duration": 15,
    "start_time": "2023-06-17T13:56:29.104Z"
   },
   {
    "duration": 46,
    "start_time": "2023-06-17T13:56:29.120Z"
   },
   {
    "duration": 76,
    "start_time": "2023-06-17T13:56:29.168Z"
   },
   {
    "duration": 9,
    "start_time": "2023-06-17T13:56:29.245Z"
   },
   {
    "duration": 18,
    "start_time": "2023-06-17T13:56:29.255Z"
   },
   {
    "duration": 24,
    "start_time": "2023-06-17T13:56:29.274Z"
   },
   {
    "duration": 52,
    "start_time": "2023-06-17T13:56:29.299Z"
   },
   {
    "duration": 4,
    "start_time": "2023-06-17T13:56:29.352Z"
   },
   {
    "duration": 185,
    "start_time": "2023-06-17T13:56:29.357Z"
   },
   {
    "duration": 172,
    "start_time": "2023-06-17T13:56:29.544Z"
   },
   {
    "duration": 209,
    "start_time": "2023-06-17T13:56:29.718Z"
   },
   {
    "duration": 213,
    "start_time": "2023-06-17T13:56:29.929Z"
   },
   {
    "duration": 215,
    "start_time": "2023-06-17T13:56:30.144Z"
   },
   {
    "duration": 336,
    "start_time": "2023-06-17T13:56:30.362Z"
   },
   {
    "duration": 169,
    "start_time": "2023-06-17T13:56:30.699Z"
   },
   {
    "duration": 173,
    "start_time": "2023-06-17T13:56:30.870Z"
   },
   {
    "duration": 175,
    "start_time": "2023-06-17T13:56:31.045Z"
   },
   {
    "duration": 133,
    "start_time": "2023-06-17T13:56:31.222Z"
   },
   {
    "duration": 103,
    "start_time": "2023-06-17T13:56:31.356Z"
   },
   {
    "duration": 0,
    "start_time": "2023-06-17T13:56:31.462Z"
   },
   {
    "duration": 0,
    "start_time": "2023-06-17T13:56:31.463Z"
   },
   {
    "duration": 0,
    "start_time": "2023-06-17T13:56:31.464Z"
   },
   {
    "duration": 0,
    "start_time": "2023-06-17T13:56:31.465Z"
   },
   {
    "duration": 0,
    "start_time": "2023-06-17T13:56:31.466Z"
   },
   {
    "duration": 0,
    "start_time": "2023-06-17T13:56:31.468Z"
   },
   {
    "duration": 0,
    "start_time": "2023-06-17T13:56:31.468Z"
   },
   {
    "duration": 0,
    "start_time": "2023-06-17T13:56:31.469Z"
   },
   {
    "duration": 0,
    "start_time": "2023-06-17T13:56:31.471Z"
   },
   {
    "duration": 0,
    "start_time": "2023-06-17T13:56:31.472Z"
   },
   {
    "duration": 0,
    "start_time": "2023-06-17T13:56:31.473Z"
   },
   {
    "duration": 0,
    "start_time": "2023-06-17T13:56:31.474Z"
   },
   {
    "duration": 0,
    "start_time": "2023-06-17T13:56:31.474Z"
   },
   {
    "duration": 0,
    "start_time": "2023-06-17T13:56:31.476Z"
   },
   {
    "duration": 0,
    "start_time": "2023-06-17T13:56:31.505Z"
   },
   {
    "duration": 0,
    "start_time": "2023-06-17T13:56:31.506Z"
   },
   {
    "duration": 0,
    "start_time": "2023-06-17T13:56:31.506Z"
   },
   {
    "duration": 0,
    "start_time": "2023-06-17T13:56:31.507Z"
   },
   {
    "duration": 0,
    "start_time": "2023-06-17T13:56:31.509Z"
   },
   {
    "duration": 1,
    "start_time": "2023-06-17T13:56:31.509Z"
   },
   {
    "duration": 0,
    "start_time": "2023-06-17T13:56:31.510Z"
   },
   {
    "duration": 0,
    "start_time": "2023-06-17T13:56:31.511Z"
   },
   {
    "duration": 0,
    "start_time": "2023-06-17T13:56:31.512Z"
   },
   {
    "duration": 0,
    "start_time": "2023-06-17T13:56:31.513Z"
   },
   {
    "duration": 0,
    "start_time": "2023-06-17T13:56:31.514Z"
   },
   {
    "duration": 0,
    "start_time": "2023-06-17T13:56:31.515Z"
   },
   {
    "duration": 0,
    "start_time": "2023-06-17T13:56:31.516Z"
   },
   {
    "duration": 0,
    "start_time": "2023-06-17T13:56:31.516Z"
   },
   {
    "duration": 0,
    "start_time": "2023-06-17T13:56:31.517Z"
   },
   {
    "duration": 0,
    "start_time": "2023-06-17T13:56:31.518Z"
   },
   {
    "duration": 0,
    "start_time": "2023-06-17T13:56:31.519Z"
   },
   {
    "duration": 0,
    "start_time": "2023-06-17T13:56:31.521Z"
   },
   {
    "duration": 0,
    "start_time": "2023-06-17T13:56:31.522Z"
   },
   {
    "duration": 0,
    "start_time": "2023-06-17T13:56:31.524Z"
   },
   {
    "duration": 0,
    "start_time": "2023-06-17T13:56:31.525Z"
   },
   {
    "duration": 0,
    "start_time": "2023-06-17T13:56:31.527Z"
   },
   {
    "duration": 0,
    "start_time": "2023-06-17T13:56:31.528Z"
   },
   {
    "duration": 0,
    "start_time": "2023-06-17T13:56:31.529Z"
   },
   {
    "duration": 0,
    "start_time": "2023-06-17T13:56:31.530Z"
   },
   {
    "duration": 0,
    "start_time": "2023-06-17T13:56:31.532Z"
   },
   {
    "duration": 1,
    "start_time": "2023-06-17T13:56:31.533Z"
   },
   {
    "duration": 0,
    "start_time": "2023-06-17T13:56:31.535Z"
   },
   {
    "duration": 0,
    "start_time": "2023-06-17T13:56:31.536Z"
   },
   {
    "duration": 1,
    "start_time": "2023-06-17T13:56:31.537Z"
   },
   {
    "duration": 88,
    "start_time": "2023-06-17T13:56:41.691Z"
   },
   {
    "duration": 19,
    "start_time": "2023-06-17T13:57:10.198Z"
   },
   {
    "duration": 6,
    "start_time": "2023-06-17T13:57:22.415Z"
   },
   {
    "duration": 8,
    "start_time": "2023-06-17T13:58:03.200Z"
   },
   {
    "duration": 226,
    "start_time": "2023-06-17T14:00:06.516Z"
   },
   {
    "duration": 7,
    "start_time": "2023-06-17T14:00:10.115Z"
   },
   {
    "duration": 5,
    "start_time": "2023-06-17T14:00:46.850Z"
   },
   {
    "duration": 18,
    "start_time": "2023-06-17T14:00:47.392Z"
   },
   {
    "duration": 326,
    "start_time": "2023-06-17T14:00:51.225Z"
   },
   {
    "duration": 1453,
    "start_time": "2023-06-17T14:01:08.017Z"
   },
   {
    "duration": 714,
    "start_time": "2023-06-17T14:01:09.472Z"
   },
   {
    "duration": 4,
    "start_time": "2023-06-17T14:01:10.188Z"
   },
   {
    "duration": 21,
    "start_time": "2023-06-17T14:01:10.202Z"
   },
   {
    "duration": 10,
    "start_time": "2023-06-17T14:01:10.226Z"
   },
   {
    "duration": 13,
    "start_time": "2023-06-17T14:01:10.238Z"
   },
   {
    "duration": 2,
    "start_time": "2023-06-17T14:01:10.253Z"
   },
   {
    "duration": 8,
    "start_time": "2023-06-17T14:01:10.256Z"
   },
   {
    "duration": 13,
    "start_time": "2023-06-17T14:01:10.265Z"
   },
   {
    "duration": 9,
    "start_time": "2023-06-17T14:01:10.280Z"
   },
   {
    "duration": 7,
    "start_time": "2023-06-17T14:01:10.290Z"
   },
   {
    "duration": 469,
    "start_time": "2023-06-17T14:01:10.298Z"
   },
   {
    "duration": 5,
    "start_time": "2023-06-17T14:01:10.769Z"
   },
   {
    "duration": 8,
    "start_time": "2023-06-17T14:01:10.776Z"
   },
   {
    "duration": 9,
    "start_time": "2023-06-17T14:01:10.786Z"
   },
   {
    "duration": 8,
    "start_time": "2023-06-17T14:01:10.805Z"
   },
   {
    "duration": 26,
    "start_time": "2023-06-17T14:01:10.816Z"
   },
   {
    "duration": 21,
    "start_time": "2023-06-17T14:01:10.844Z"
   },
   {
    "duration": 7,
    "start_time": "2023-06-17T14:01:10.867Z"
   },
   {
    "duration": 46,
    "start_time": "2023-06-17T14:01:10.876Z"
   },
   {
    "duration": 65,
    "start_time": "2023-06-17T14:01:10.924Z"
   },
   {
    "duration": 21,
    "start_time": "2023-06-17T14:01:10.991Z"
   },
   {
    "duration": 16,
    "start_time": "2023-06-17T14:01:11.014Z"
   },
   {
    "duration": 18,
    "start_time": "2023-06-17T14:01:11.031Z"
   },
   {
    "duration": 16,
    "start_time": "2023-06-17T14:01:11.051Z"
   },
   {
    "duration": 3,
    "start_time": "2023-06-17T14:01:11.069Z"
   },
   {
    "duration": 215,
    "start_time": "2023-06-17T14:01:11.074Z"
   },
   {
    "duration": 171,
    "start_time": "2023-06-17T14:01:11.291Z"
   },
   {
    "duration": 220,
    "start_time": "2023-06-17T14:01:11.464Z"
   },
   {
    "duration": 236,
    "start_time": "2023-06-17T14:01:11.686Z"
   },
   {
    "duration": 234,
    "start_time": "2023-06-17T14:01:11.924Z"
   },
   {
    "duration": 304,
    "start_time": "2023-06-17T14:01:12.160Z"
   },
   {
    "duration": 177,
    "start_time": "2023-06-17T14:01:12.466Z"
   },
   {
    "duration": 174,
    "start_time": "2023-06-17T14:01:12.645Z"
   },
   {
    "duration": 173,
    "start_time": "2023-06-17T14:01:12.820Z"
   },
   {
    "duration": 10,
    "start_time": "2023-06-17T14:01:12.995Z"
   },
   {
    "duration": 7,
    "start_time": "2023-06-17T14:01:13.015Z"
   },
   {
    "duration": 39,
    "start_time": "2023-06-17T14:01:13.024Z"
   },
   {
    "duration": 48,
    "start_time": "2023-06-17T14:01:13.066Z"
   },
   {
    "duration": 5,
    "start_time": "2023-06-17T14:01:13.116Z"
   },
   {
    "duration": 813,
    "start_time": "2023-06-17T14:01:13.127Z"
   },
   {
    "duration": 24,
    "start_time": "2023-06-17T14:01:13.942Z"
   },
   {
    "duration": 880,
    "start_time": "2023-06-17T14:01:13.968Z"
   },
   {
    "duration": 803,
    "start_time": "2023-06-17T14:01:14.850Z"
   },
   {
    "duration": 462,
    "start_time": "2023-06-17T14:01:15.655Z"
   },
   {
    "duration": 108,
    "start_time": "2023-06-17T14:01:16.119Z"
   },
   {
    "duration": 0,
    "start_time": "2023-06-17T14:01:16.228Z"
   },
   {
    "duration": 0,
    "start_time": "2023-06-17T14:01:16.229Z"
   },
   {
    "duration": 0,
    "start_time": "2023-06-17T14:01:16.231Z"
   },
   {
    "duration": 0,
    "start_time": "2023-06-17T14:01:16.232Z"
   },
   {
    "duration": 0,
    "start_time": "2023-06-17T14:01:16.233Z"
   },
   {
    "duration": 0,
    "start_time": "2023-06-17T14:01:16.234Z"
   },
   {
    "duration": 0,
    "start_time": "2023-06-17T14:01:16.235Z"
   },
   {
    "duration": 0,
    "start_time": "2023-06-17T14:01:16.236Z"
   },
   {
    "duration": 0,
    "start_time": "2023-06-17T14:01:16.237Z"
   },
   {
    "duration": 0,
    "start_time": "2023-06-17T14:01:16.238Z"
   },
   {
    "duration": 0,
    "start_time": "2023-06-17T14:01:16.239Z"
   },
   {
    "duration": 0,
    "start_time": "2023-06-17T14:01:16.240Z"
   },
   {
    "duration": 0,
    "start_time": "2023-06-17T14:01:16.241Z"
   },
   {
    "duration": 0,
    "start_time": "2023-06-17T14:01:16.242Z"
   },
   {
    "duration": 0,
    "start_time": "2023-06-17T14:01:16.243Z"
   },
   {
    "duration": 0,
    "start_time": "2023-06-17T14:01:16.244Z"
   },
   {
    "duration": 0,
    "start_time": "2023-06-17T14:01:16.245Z"
   },
   {
    "duration": 0,
    "start_time": "2023-06-17T14:01:16.246Z"
   },
   {
    "duration": 0,
    "start_time": "2023-06-17T14:01:16.247Z"
   },
   {
    "duration": 0,
    "start_time": "2023-06-17T14:01:16.248Z"
   },
   {
    "duration": 0,
    "start_time": "2023-06-17T14:01:16.249Z"
   },
   {
    "duration": 0,
    "start_time": "2023-06-17T14:01:16.250Z"
   },
   {
    "duration": 0,
    "start_time": "2023-06-17T14:01:16.251Z"
   },
   {
    "duration": 0,
    "start_time": "2023-06-17T14:01:16.252Z"
   },
   {
    "duration": 0,
    "start_time": "2023-06-17T14:01:16.252Z"
   },
   {
    "duration": 0,
    "start_time": "2023-06-17T14:01:16.254Z"
   },
   {
    "duration": 0,
    "start_time": "2023-06-17T14:01:16.255Z"
   },
   {
    "duration": 0,
    "start_time": "2023-06-17T14:01:16.256Z"
   },
   {
    "duration": 0,
    "start_time": "2023-06-17T14:01:16.257Z"
   },
   {
    "duration": 0,
    "start_time": "2023-06-17T14:01:16.257Z"
   },
   {
    "duration": 0,
    "start_time": "2023-06-17T14:01:16.305Z"
   },
   {
    "duration": 0,
    "start_time": "2023-06-17T14:01:16.306Z"
   },
   {
    "duration": 0,
    "start_time": "2023-06-17T14:01:16.307Z"
   },
   {
    "duration": 0,
    "start_time": "2023-06-17T14:01:16.308Z"
   },
   {
    "duration": 0,
    "start_time": "2023-06-17T14:01:16.309Z"
   },
   {
    "duration": 0,
    "start_time": "2023-06-17T14:01:16.309Z"
   },
   {
    "duration": 7,
    "start_time": "2023-06-17T14:02:09.477Z"
   },
   {
    "duration": 247,
    "start_time": "2023-06-17T14:02:18.368Z"
   },
   {
    "duration": 5,
    "start_time": "2023-06-17T14:03:09.485Z"
   },
   {
    "duration": 9,
    "start_time": "2023-06-17T14:03:09.915Z"
   },
   {
    "duration": 6,
    "start_time": "2023-06-17T14:03:10.885Z"
   },
   {
    "duration": 334,
    "start_time": "2023-06-17T14:03:18.257Z"
   },
   {
    "duration": 308,
    "start_time": "2023-06-17T14:03:25.847Z"
   },
   {
    "duration": 4,
    "start_time": "2023-06-17T14:03:34.237Z"
   },
   {
    "duration": 8,
    "start_time": "2023-06-17T14:03:44.541Z"
   },
   {
    "duration": 5,
    "start_time": "2023-06-17T14:03:46.136Z"
   },
   {
    "duration": 6,
    "start_time": "2023-06-17T14:05:08.548Z"
   },
   {
    "duration": 8,
    "start_time": "2023-06-17T14:05:20.467Z"
   },
   {
    "duration": 1461,
    "start_time": "2023-06-17T14:05:42.370Z"
   },
   {
    "duration": 741,
    "start_time": "2023-06-17T14:05:43.833Z"
   },
   {
    "duration": 5,
    "start_time": "2023-06-17T14:05:44.575Z"
   },
   {
    "duration": 37,
    "start_time": "2023-06-17T14:05:44.582Z"
   },
   {
    "duration": 8,
    "start_time": "2023-06-17T14:05:44.621Z"
   },
   {
    "duration": 28,
    "start_time": "2023-06-17T14:05:44.631Z"
   },
   {
    "duration": 5,
    "start_time": "2023-06-17T14:05:44.661Z"
   },
   {
    "duration": 29,
    "start_time": "2023-06-17T14:05:44.667Z"
   },
   {
    "duration": 18,
    "start_time": "2023-06-17T14:05:44.698Z"
   },
   {
    "duration": 4,
    "start_time": "2023-06-17T14:05:44.719Z"
   },
   {
    "duration": 5,
    "start_time": "2023-06-17T14:05:44.725Z"
   },
   {
    "duration": 422,
    "start_time": "2023-06-17T14:05:44.732Z"
   },
   {
    "duration": 4,
    "start_time": "2023-06-17T14:05:45.156Z"
   },
   {
    "duration": 39,
    "start_time": "2023-06-17T14:05:45.161Z"
   },
   {
    "duration": 44,
    "start_time": "2023-06-17T14:05:45.201Z"
   },
   {
    "duration": 20,
    "start_time": "2023-06-17T14:05:45.247Z"
   },
   {
    "duration": 49,
    "start_time": "2023-06-17T14:05:45.268Z"
   },
   {
    "duration": 26,
    "start_time": "2023-06-17T14:05:45.319Z"
   },
   {
    "duration": 16,
    "start_time": "2023-06-17T14:05:45.347Z"
   },
   {
    "duration": 79,
    "start_time": "2023-06-17T14:05:45.365Z"
   },
   {
    "duration": 78,
    "start_time": "2023-06-17T14:05:45.445Z"
   },
   {
    "duration": 8,
    "start_time": "2023-06-17T14:05:45.524Z"
   },
   {
    "duration": 22,
    "start_time": "2023-06-17T14:05:45.534Z"
   },
   {
    "duration": 11,
    "start_time": "2023-06-17T14:05:45.557Z"
   },
   {
    "duration": 48,
    "start_time": "2023-06-17T14:05:45.570Z"
   },
   {
    "duration": 7,
    "start_time": "2023-06-17T14:05:45.620Z"
   },
   {
    "duration": 222,
    "start_time": "2023-06-17T14:05:45.628Z"
   },
   {
    "duration": 162,
    "start_time": "2023-06-17T14:05:45.854Z"
   },
   {
    "duration": 212,
    "start_time": "2023-06-17T14:05:46.018Z"
   },
   {
    "duration": 203,
    "start_time": "2023-06-17T14:05:46.231Z"
   },
   {
    "duration": 213,
    "start_time": "2023-06-17T14:05:46.436Z"
   },
   {
    "duration": 305,
    "start_time": "2023-06-17T14:05:46.651Z"
   },
   {
    "duration": 166,
    "start_time": "2023-06-17T14:05:46.957Z"
   },
   {
    "duration": 161,
    "start_time": "2023-06-17T14:05:47.126Z"
   },
   {
    "duration": 168,
    "start_time": "2023-06-17T14:05:47.289Z"
   },
   {
    "duration": 3,
    "start_time": "2023-06-17T14:05:47.458Z"
   },
   {
    "duration": 7,
    "start_time": "2023-06-17T14:05:47.462Z"
   },
   {
    "duration": 24,
    "start_time": "2023-06-17T14:05:47.470Z"
   },
   {
    "duration": 48,
    "start_time": "2023-06-17T14:05:47.502Z"
   },
   {
    "duration": 5,
    "start_time": "2023-06-17T14:05:47.552Z"
   },
   {
    "duration": 794,
    "start_time": "2023-06-17T14:05:47.559Z"
   },
   {
    "duration": 23,
    "start_time": "2023-06-17T14:05:48.355Z"
   },
   {
    "duration": 906,
    "start_time": "2023-06-17T14:05:48.380Z"
   },
   {
    "duration": 780,
    "start_time": "2023-06-17T14:05:49.288Z"
   },
   {
    "duration": 499,
    "start_time": "2023-06-17T14:05:50.071Z"
   },
   {
    "duration": 4,
    "start_time": "2023-06-17T14:05:50.572Z"
   },
   {
    "duration": 24,
    "start_time": "2023-06-17T14:05:50.578Z"
   },
   {
    "duration": 15,
    "start_time": "2023-06-17T14:05:50.606Z"
   },
   {
    "duration": 10,
    "start_time": "2023-06-17T14:05:50.623Z"
   },
   {
    "duration": 225,
    "start_time": "2023-06-17T14:05:50.635Z"
   },
   {
    "duration": 310,
    "start_time": "2023-06-17T14:05:50.862Z"
   },
   {
    "duration": 8,
    "start_time": "2023-06-17T14:05:51.173Z"
   },
   {
    "duration": 26,
    "start_time": "2023-06-17T14:05:51.183Z"
   },
   {
    "duration": 18,
    "start_time": "2023-06-17T14:05:51.210Z"
   },
   {
    "duration": 27,
    "start_time": "2023-06-17T14:05:51.229Z"
   },
   {
    "duration": 8,
    "start_time": "2023-06-17T14:05:51.258Z"
   },
   {
    "duration": 9,
    "start_time": "2023-06-17T14:05:51.267Z"
   },
   {
    "duration": 11,
    "start_time": "2023-06-17T14:05:51.278Z"
   },
   {
    "duration": 179,
    "start_time": "2023-06-17T14:05:51.291Z"
   },
   {
    "duration": 0,
    "start_time": "2023-06-17T14:05:51.472Z"
   },
   {
    "duration": 0,
    "start_time": "2023-06-17T14:05:51.473Z"
   },
   {
    "duration": 0,
    "start_time": "2023-06-17T14:05:51.475Z"
   },
   {
    "duration": 0,
    "start_time": "2023-06-17T14:05:51.476Z"
   },
   {
    "duration": 0,
    "start_time": "2023-06-17T14:05:51.477Z"
   },
   {
    "duration": 0,
    "start_time": "2023-06-17T14:05:51.478Z"
   },
   {
    "duration": 0,
    "start_time": "2023-06-17T14:05:51.479Z"
   },
   {
    "duration": 0,
    "start_time": "2023-06-17T14:05:51.480Z"
   },
   {
    "duration": 0,
    "start_time": "2023-06-17T14:05:51.481Z"
   },
   {
    "duration": 0,
    "start_time": "2023-06-17T14:05:51.482Z"
   },
   {
    "duration": 0,
    "start_time": "2023-06-17T14:05:51.483Z"
   },
   {
    "duration": 0,
    "start_time": "2023-06-17T14:05:51.484Z"
   },
   {
    "duration": 0,
    "start_time": "2023-06-17T14:05:51.505Z"
   },
   {
    "duration": 0,
    "start_time": "2023-06-17T14:05:51.506Z"
   },
   {
    "duration": 1,
    "start_time": "2023-06-17T14:05:51.506Z"
   },
   {
    "duration": 0,
    "start_time": "2023-06-17T14:05:51.507Z"
   },
   {
    "duration": 0,
    "start_time": "2023-06-17T14:05:51.508Z"
   },
   {
    "duration": 0,
    "start_time": "2023-06-17T14:05:51.508Z"
   },
   {
    "duration": 0,
    "start_time": "2023-06-17T14:05:51.512Z"
   },
   {
    "duration": 0,
    "start_time": "2023-06-17T14:05:51.513Z"
   },
   {
    "duration": 0,
    "start_time": "2023-06-17T14:05:51.517Z"
   },
   {
    "duration": 0,
    "start_time": "2023-06-17T14:05:51.520Z"
   },
   {
    "duration": 5,
    "start_time": "2023-06-17T14:11:08.050Z"
   },
   {
    "duration": 5,
    "start_time": "2023-06-17T14:11:15.524Z"
   },
   {
    "duration": 6,
    "start_time": "2023-06-17T14:12:13.817Z"
   },
   {
    "duration": 7,
    "start_time": "2023-06-17T14:12:18.415Z"
   },
   {
    "duration": 312,
    "start_time": "2023-06-17T14:12:38.815Z"
   },
   {
    "duration": 11,
    "start_time": "2023-06-17T14:13:59.615Z"
   },
   {
    "duration": 313,
    "start_time": "2023-06-17T14:14:02.492Z"
   },
   {
    "duration": 449,
    "start_time": "2023-06-17T14:15:32.305Z"
   },
   {
    "duration": 341,
    "start_time": "2023-06-17T14:16:16.090Z"
   },
   {
    "duration": 9,
    "start_time": "2023-06-17T14:19:21.253Z"
   },
   {
    "duration": 177,
    "start_time": "2023-06-17T14:19:31.315Z"
   },
   {
    "duration": 123,
    "start_time": "2023-06-17T14:20:19.188Z"
   },
   {
    "duration": 125,
    "start_time": "2023-06-17T14:21:45.429Z"
   },
   {
    "duration": 205,
    "start_time": "2023-06-17T14:21:56.765Z"
   },
   {
    "duration": 186,
    "start_time": "2023-06-17T14:22:34.413Z"
   },
   {
    "duration": 13,
    "start_time": "2023-06-17T14:23:05.660Z"
   },
   {
    "duration": 191,
    "start_time": "2023-06-17T14:23:11.236Z"
   },
   {
    "duration": 834,
    "start_time": "2023-06-17T14:23:24.894Z"
   },
   {
    "duration": 245,
    "start_time": "2023-06-17T14:26:13.172Z"
   },
   {
    "duration": 119,
    "start_time": "2023-06-17T14:26:26.555Z"
   },
   {
    "duration": 45,
    "start_time": "2023-06-17T19:23:42.145Z"
   },
   {
    "duration": 1586,
    "start_time": "2023-06-17T19:23:54.329Z"
   },
   {
    "duration": 1862,
    "start_time": "2023-06-17T19:23:55.917Z"
   },
   {
    "duration": 5,
    "start_time": "2023-06-17T19:23:57.780Z"
   },
   {
    "duration": 8,
    "start_time": "2023-06-17T19:23:57.786Z"
   },
   {
    "duration": 9,
    "start_time": "2023-06-17T19:23:57.796Z"
   },
   {
    "duration": 24,
    "start_time": "2023-06-17T19:23:57.807Z"
   },
   {
    "duration": 3,
    "start_time": "2023-06-17T19:23:57.833Z"
   },
   {
    "duration": 8,
    "start_time": "2023-06-17T19:23:57.837Z"
   },
   {
    "duration": 7,
    "start_time": "2023-06-17T19:23:57.847Z"
   },
   {
    "duration": 3,
    "start_time": "2023-06-17T19:23:57.856Z"
   },
   {
    "duration": 3,
    "start_time": "2023-06-17T19:23:57.861Z"
   },
   {
    "duration": 425,
    "start_time": "2023-06-17T19:23:57.866Z"
   },
   {
    "duration": 5,
    "start_time": "2023-06-17T19:23:58.293Z"
   },
   {
    "duration": 6,
    "start_time": "2023-06-17T19:23:58.300Z"
   },
   {
    "duration": 14,
    "start_time": "2023-06-17T19:23:58.308Z"
   },
   {
    "duration": 4,
    "start_time": "2023-06-17T19:23:58.324Z"
   },
   {
    "duration": 11,
    "start_time": "2023-06-17T19:23:58.330Z"
   },
   {
    "duration": 28,
    "start_time": "2023-06-17T19:23:58.342Z"
   },
   {
    "duration": 16,
    "start_time": "2023-06-17T19:23:58.372Z"
   },
   {
    "duration": 27,
    "start_time": "2023-06-17T19:23:58.390Z"
   },
   {
    "duration": 80,
    "start_time": "2023-06-17T19:23:58.419Z"
   },
   {
    "duration": 8,
    "start_time": "2023-06-17T19:23:58.501Z"
   },
   {
    "duration": 5,
    "start_time": "2023-06-17T19:23:58.511Z"
   },
   {
    "duration": 11,
    "start_time": "2023-06-17T19:23:58.517Z"
   },
   {
    "duration": 16,
    "start_time": "2023-06-17T19:23:58.530Z"
   },
   {
    "duration": 4,
    "start_time": "2023-06-17T19:23:58.569Z"
   },
   {
    "duration": 210,
    "start_time": "2023-06-17T19:23:58.575Z"
   },
   {
    "duration": 155,
    "start_time": "2023-06-17T19:23:58.788Z"
   },
   {
    "duration": 223,
    "start_time": "2023-06-17T19:23:58.945Z"
   },
   {
    "duration": 200,
    "start_time": "2023-06-17T19:23:59.169Z"
   },
   {
    "duration": 186,
    "start_time": "2023-06-17T19:23:59.371Z"
   },
   {
    "duration": 261,
    "start_time": "2023-06-17T19:23:59.558Z"
   },
   {
    "duration": 149,
    "start_time": "2023-06-17T19:23:59.820Z"
   },
   {
    "duration": 167,
    "start_time": "2023-06-17T19:23:59.971Z"
   },
   {
    "duration": 159,
    "start_time": "2023-06-17T19:24:00.140Z"
   },
   {
    "duration": 207,
    "start_time": "2023-06-17T19:24:00.301Z"
   },
   {
    "duration": 2,
    "start_time": "2023-06-17T19:24:00.510Z"
   },
   {
    "duration": 50,
    "start_time": "2023-06-17T19:24:00.514Z"
   },
   {
    "duration": 55,
    "start_time": "2023-06-17T19:24:00.566Z"
   },
   {
    "duration": 4,
    "start_time": "2023-06-17T19:24:00.623Z"
   },
   {
    "duration": 780,
    "start_time": "2023-06-17T19:24:00.629Z"
   },
   {
    "duration": 22,
    "start_time": "2023-06-17T19:24:01.412Z"
   },
   {
    "duration": 1154,
    "start_time": "2023-06-17T19:24:01.436Z"
   },
   {
    "duration": 1413,
    "start_time": "2023-06-17T19:24:02.592Z"
   },
   {
    "duration": 362,
    "start_time": "2023-06-17T19:24:04.007Z"
   },
   {
    "duration": 5,
    "start_time": "2023-06-17T19:24:04.370Z"
   },
   {
    "duration": 11,
    "start_time": "2023-06-17T19:24:04.376Z"
   },
   {
    "duration": 5,
    "start_time": "2023-06-17T19:24:04.389Z"
   },
   {
    "duration": 7,
    "start_time": "2023-06-17T19:24:04.395Z"
   },
   {
    "duration": 226,
    "start_time": "2023-06-17T19:24:04.403Z"
   },
   {
    "duration": 274,
    "start_time": "2023-06-17T19:24:04.630Z"
   },
   {
    "duration": 6,
    "start_time": "2023-06-17T19:24:04.906Z"
   },
   {
    "duration": 8,
    "start_time": "2023-06-17T19:24:04.914Z"
   },
   {
    "duration": 4,
    "start_time": "2023-06-17T19:24:04.923Z"
   },
   {
    "duration": 17,
    "start_time": "2023-06-17T19:24:04.928Z"
   },
   {
    "duration": 3,
    "start_time": "2023-06-17T19:24:04.947Z"
   },
   {
    "duration": 2,
    "start_time": "2023-06-17T19:24:04.968Z"
   },
   {
    "duration": 5,
    "start_time": "2023-06-17T19:24:04.972Z"
   },
   {
    "duration": 168,
    "start_time": "2023-06-17T19:24:04.978Z"
   },
   {
    "duration": 0,
    "start_time": "2023-06-17T19:24:05.147Z"
   },
   {
    "duration": 0,
    "start_time": "2023-06-17T19:24:05.148Z"
   },
   {
    "duration": 0,
    "start_time": "2023-06-17T19:24:05.150Z"
   },
   {
    "duration": 0,
    "start_time": "2023-06-17T19:24:05.151Z"
   },
   {
    "duration": 0,
    "start_time": "2023-06-17T19:24:05.153Z"
   },
   {
    "duration": 0,
    "start_time": "2023-06-17T19:24:05.167Z"
   },
   {
    "duration": 0,
    "start_time": "2023-06-17T19:24:05.169Z"
   },
   {
    "duration": 0,
    "start_time": "2023-06-17T19:24:05.171Z"
   },
   {
    "duration": 0,
    "start_time": "2023-06-17T19:24:05.172Z"
   },
   {
    "duration": 0,
    "start_time": "2023-06-17T19:24:05.172Z"
   },
   {
    "duration": 0,
    "start_time": "2023-06-17T19:24:05.173Z"
   },
   {
    "duration": 0,
    "start_time": "2023-06-17T19:24:05.174Z"
   },
   {
    "duration": 0,
    "start_time": "2023-06-17T19:24:05.175Z"
   },
   {
    "duration": 0,
    "start_time": "2023-06-17T19:24:05.176Z"
   },
   {
    "duration": 0,
    "start_time": "2023-06-17T19:24:05.177Z"
   },
   {
    "duration": 0,
    "start_time": "2023-06-17T19:24:05.178Z"
   },
   {
    "duration": 0,
    "start_time": "2023-06-17T19:24:05.179Z"
   },
   {
    "duration": 0,
    "start_time": "2023-06-17T19:24:05.180Z"
   },
   {
    "duration": 0,
    "start_time": "2023-06-17T19:24:05.181Z"
   },
   {
    "duration": 0,
    "start_time": "2023-06-17T19:24:05.182Z"
   },
   {
    "duration": 0,
    "start_time": "2023-06-17T19:24:05.183Z"
   },
   {
    "duration": 0,
    "start_time": "2023-06-17T19:24:05.184Z"
   },
   {
    "duration": 221,
    "start_time": "2023-06-17T19:32:27.556Z"
   },
   {
    "duration": 12,
    "start_time": "2023-06-17T19:35:09.975Z"
   },
   {
    "duration": 36,
    "start_time": "2023-06-17T19:35:34.805Z"
   },
   {
    "duration": 11,
    "start_time": "2023-06-17T19:35:41.483Z"
   },
   {
    "duration": 2,
    "start_time": "2023-06-17T19:51:51.764Z"
   },
   {
    "duration": 3,
    "start_time": "2023-06-17T19:55:08.654Z"
   },
   {
    "duration": 5,
    "start_time": "2023-06-17T20:04:51.784Z"
   },
   {
    "duration": 14,
    "start_time": "2023-06-17T20:06:16.337Z"
   },
   {
    "duration": 12,
    "start_time": "2023-06-17T20:06:24.837Z"
   },
   {
    "duration": 46,
    "start_time": "2023-06-17T20:06:40.261Z"
   },
   {
    "duration": 4,
    "start_time": "2023-06-17T20:07:05.979Z"
   },
   {
    "duration": 3,
    "start_time": "2023-06-17T20:09:43.731Z"
   },
   {
    "duration": 70204,
    "start_time": "2023-06-17T20:12:02.000Z"
   },
   {
    "duration": 0,
    "start_time": "2023-06-17T20:13:12.206Z"
   },
   {
    "duration": 24,
    "start_time": "2023-06-17T20:13:17.526Z"
   },
   {
    "duration": 9630,
    "start_time": "2023-06-17T20:13:17.609Z"
   },
   {
    "duration": 54,
    "start_time": "2023-06-17T20:13:55.159Z"
   },
   {
    "duration": 0,
    "start_time": "2023-06-17T20:17:40.206Z"
   },
   {
    "duration": 0,
    "start_time": "2023-06-17T20:17:40.208Z"
   },
   {
    "duration": 194463,
    "start_time": "2023-06-17T20:17:43.293Z"
   },
   {
    "duration": 3,
    "start_time": "2023-06-17T20:20:57.758Z"
   },
   {
    "duration": 4,
    "start_time": "2023-06-17T20:21:51.673Z"
   },
   {
    "duration": 109,
    "start_time": "2023-06-17T21:41:07.872Z"
   },
   {
    "duration": 3,
    "start_time": "2023-06-17T21:41:32.030Z"
   },
   {
    "duration": 107,
    "start_time": "2023-06-17T21:41:37.376Z"
   },
   {
    "duration": 3,
    "start_time": "2023-06-17T21:42:15.402Z"
   },
   {
    "duration": 4,
    "start_time": "2023-06-17T21:42:42.957Z"
   },
   {
    "duration": 22,
    "start_time": "2023-06-17T21:46:27.647Z"
   },
   {
    "duration": 4,
    "start_time": "2023-06-17T21:47:06.152Z"
   },
   {
    "duration": 16288,
    "start_time": "2023-06-17T21:47:06.873Z"
   },
   {
    "duration": 6,
    "start_time": "2023-06-17T21:48:01.291Z"
   },
   {
    "duration": 24,
    "start_time": "2023-06-17T21:48:23.788Z"
   },
   {
    "duration": 11,
    "start_time": "2023-06-17T21:48:56.078Z"
   },
   {
    "duration": 9,
    "start_time": "2023-06-17T21:49:38.915Z"
   },
   {
    "duration": 9,
    "start_time": "2023-06-17T21:49:55.503Z"
   },
   {
    "duration": 9,
    "start_time": "2023-06-17T21:50:45.608Z"
   },
   {
    "duration": 22,
    "start_time": "2023-06-17T21:50:52.647Z"
   },
   {
    "duration": 15148,
    "start_time": "2023-06-17T21:51:47.915Z"
   },
   {
    "duration": 4,
    "start_time": "2023-06-17T21:53:48.760Z"
   },
   {
    "duration": 15984,
    "start_time": "2023-06-17T21:54:14.019Z"
   },
   {
    "duration": 113363,
    "start_time": "2023-06-17T21:55:13.693Z"
   },
   {
    "duration": 1557914,
    "start_time": "2023-06-17T21:57:09.468Z"
   },
   {
    "duration": 2,
    "start_time": "2023-06-17T22:23:07.384Z"
   },
   {
    "duration": 2,
    "start_time": "2023-06-17T22:24:18.402Z"
   },
   {
    "duration": 5,
    "start_time": "2023-06-17T22:24:38.183Z"
   },
   {
    "duration": 3,
    "start_time": "2023-06-17T22:26:43.043Z"
   },
   {
    "duration": 10,
    "start_time": "2023-06-17T22:26:48.059Z"
   },
   {
    "duration": 112,
    "start_time": "2023-06-17T22:27:04.962Z"
   },
   {
    "duration": 9,
    "start_time": "2023-06-17T22:27:16.764Z"
   },
   {
    "duration": 5,
    "start_time": "2023-06-17T22:29:34.461Z"
   },
   {
    "duration": 13,
    "start_time": "2023-06-17T22:29:39.622Z"
   },
   {
    "duration": 12,
    "start_time": "2023-06-17T22:29:50.938Z"
   },
   {
    "duration": 12,
    "start_time": "2023-06-17T22:30:03.492Z"
   },
   {
    "duration": 10,
    "start_time": "2023-06-17T22:30:47.078Z"
   },
   {
    "duration": 11,
    "start_time": "2023-06-17T22:35:55.707Z"
   },
   {
    "duration": 3,
    "start_time": "2023-06-17T22:36:05.152Z"
   },
   {
    "duration": 7,
    "start_time": "2023-06-17T22:36:09.897Z"
   },
   {
    "duration": 13,
    "start_time": "2023-06-17T22:38:00.899Z"
   },
   {
    "duration": 13,
    "start_time": "2023-06-17T22:38:32.403Z"
   },
   {
    "duration": 9,
    "start_time": "2023-06-17T22:38:38.319Z"
   },
   {
    "duration": 10,
    "start_time": "2023-06-17T22:40:55.242Z"
   },
   {
    "duration": 9,
    "start_time": "2023-06-17T22:41:14.869Z"
   },
   {
    "duration": 14,
    "start_time": "2023-06-17T22:41:45.536Z"
   },
   {
    "duration": 4,
    "start_time": "2023-06-17T22:42:25.185Z"
   },
   {
    "duration": 6,
    "start_time": "2023-06-17T22:43:20.302Z"
   },
   {
    "duration": 6,
    "start_time": "2023-06-17T22:43:25.054Z"
   },
   {
    "duration": 1978,
    "start_time": "2023-06-17T22:43:31.914Z"
   },
   {
    "duration": 1688,
    "start_time": "2023-06-17T22:43:37.520Z"
   },
   {
    "duration": 1737,
    "start_time": "2023-06-17T22:43:47.496Z"
   },
   {
    "duration": 1698,
    "start_time": "2023-06-17T22:43:58.537Z"
   },
   {
    "duration": 1794,
    "start_time": "2023-06-17T22:44:13.091Z"
   },
   {
    "duration": 1702,
    "start_time": "2023-06-17T22:44:18.134Z"
   },
   {
    "duration": 22,
    "start_time": "2023-06-17T22:44:29.156Z"
   },
   {
    "duration": 4,
    "start_time": "2023-06-17T22:45:30.945Z"
   },
   {
    "duration": 12,
    "start_time": "2023-06-17T22:45:42.823Z"
   },
   {
    "duration": 3,
    "start_time": "2023-06-17T22:48:48.435Z"
   },
   {
    "duration": 4,
    "start_time": "2023-06-17T22:49:04.937Z"
   },
   {
    "duration": 8,
    "start_time": "2023-06-17T22:49:09.534Z"
   },
   {
    "duration": 4,
    "start_time": "2023-06-17T22:49:14.003Z"
   },
   {
    "duration": 4,
    "start_time": "2023-06-17T22:49:20.010Z"
   },
   {
    "duration": 8,
    "start_time": "2023-06-17T22:50:25.922Z"
   },
   {
    "duration": 7,
    "start_time": "2023-06-17T22:50:49.634Z"
   },
   {
    "duration": 10,
    "start_time": "2023-06-17T22:51:06.943Z"
   },
   {
    "duration": 6,
    "start_time": "2023-06-17T22:51:28.760Z"
   },
   {
    "duration": 6,
    "start_time": "2023-06-17T22:51:39.650Z"
   },
   {
    "duration": 8,
    "start_time": "2023-06-17T22:52:04.591Z"
   },
   {
    "duration": 5,
    "start_time": "2023-06-17T22:52:35.472Z"
   },
   {
    "duration": 4,
    "start_time": "2023-06-17T22:52:50.169Z"
   },
   {
    "duration": 8,
    "start_time": "2023-06-17T22:53:00.377Z"
   },
   {
    "duration": 10,
    "start_time": "2023-06-17T22:53:10.355Z"
   },
   {
    "duration": 10,
    "start_time": "2023-06-17T22:53:24.236Z"
   },
   {
    "duration": 9,
    "start_time": "2023-06-17T22:53:32.671Z"
   },
   {
    "duration": 10,
    "start_time": "2023-06-17T22:53:46.644Z"
   },
   {
    "duration": 4,
    "start_time": "2023-06-17T22:54:02.355Z"
   },
   {
    "duration": 9,
    "start_time": "2023-06-17T22:55:15.411Z"
   },
   {
    "duration": 4,
    "start_time": "2023-06-17T22:55:24.352Z"
   },
   {
    "duration": 6,
    "start_time": "2023-06-17T22:55:42.709Z"
   },
   {
    "duration": 5,
    "start_time": "2023-06-17T22:56:12.709Z"
   },
   {
    "duration": 1758,
    "start_time": "2023-06-17T22:58:28.713Z"
   },
   {
    "duration": 10,
    "start_time": "2023-06-17T22:58:35.106Z"
   },
   {
    "duration": 5,
    "start_time": "2023-06-17T22:59:02.030Z"
   },
   {
    "duration": 7,
    "start_time": "2023-06-17T22:59:19.925Z"
   },
   {
    "duration": 5,
    "start_time": "2023-06-17T22:59:36.434Z"
   },
   {
    "duration": 5,
    "start_time": "2023-06-17T22:59:48.950Z"
   },
   {
    "duration": 5,
    "start_time": "2023-06-17T23:00:07.596Z"
   },
   {
    "duration": 7,
    "start_time": "2023-06-17T23:00:30.660Z"
   },
   {
    "duration": 8,
    "start_time": "2023-06-17T23:00:41.021Z"
   },
   {
    "duration": 7,
    "start_time": "2023-06-17T23:00:59.552Z"
   },
   {
    "duration": 9,
    "start_time": "2023-06-17T23:01:09.618Z"
   },
   {
    "duration": 9,
    "start_time": "2023-06-17T23:01:13.166Z"
   },
   {
    "duration": 7,
    "start_time": "2023-06-17T23:01:19.294Z"
   },
   {
    "duration": 10,
    "start_time": "2023-06-17T23:01:49.010Z"
   },
   {
    "duration": 9,
    "start_time": "2023-06-17T23:02:19.348Z"
   },
   {
    "duration": 6,
    "start_time": "2023-06-17T23:02:41.963Z"
   },
   {
    "duration": 6,
    "start_time": "2023-06-17T23:02:57.856Z"
   },
   {
    "duration": 7,
    "start_time": "2023-06-17T23:03:01.606Z"
   },
   {
    "duration": 8,
    "start_time": "2023-06-17T23:03:10.480Z"
   },
   {
    "duration": 6,
    "start_time": "2023-06-17T23:03:13.896Z"
   },
   {
    "duration": 6,
    "start_time": "2023-06-17T23:03:22.450Z"
   },
   {
    "duration": 7,
    "start_time": "2023-06-17T23:03:29.034Z"
   },
   {
    "duration": 6,
    "start_time": "2023-06-17T23:03:48.379Z"
   },
   {
    "duration": 6,
    "start_time": "2023-06-17T23:04:03.393Z"
   },
   {
    "duration": 8,
    "start_time": "2023-06-17T23:04:07.523Z"
   },
   {
    "duration": 48,
    "start_time": "2023-06-17T23:04:31.949Z"
   },
   {
    "duration": 8,
    "start_time": "2023-06-17T23:04:47.021Z"
   },
   {
    "duration": 49,
    "start_time": "2023-06-17T23:04:55.571Z"
   },
   {
    "duration": 7,
    "start_time": "2023-06-17T23:05:02.916Z"
   },
   {
    "duration": 8,
    "start_time": "2023-06-17T23:05:41.541Z"
   },
   {
    "duration": 7,
    "start_time": "2023-06-17T23:06:00.633Z"
   },
   {
    "duration": 9,
    "start_time": "2023-06-17T23:06:19.191Z"
   },
   {
    "duration": 7,
    "start_time": "2023-06-17T23:06:46.571Z"
   },
   {
    "duration": 14,
    "start_time": "2023-06-17T23:06:59.350Z"
   },
   {
    "duration": 1304,
    "start_time": "2023-06-17T23:08:44.529Z"
   },
   {
    "duration": 668,
    "start_time": "2023-06-17T23:08:45.835Z"
   },
   {
    "duration": 4,
    "start_time": "2023-06-17T23:08:46.505Z"
   },
   {
    "duration": 7,
    "start_time": "2023-06-17T23:08:46.510Z"
   },
   {
    "duration": 4,
    "start_time": "2023-06-17T23:08:46.518Z"
   },
   {
    "duration": 11,
    "start_time": "2023-06-17T23:08:46.523Z"
   },
   {
    "duration": 2,
    "start_time": "2023-06-17T23:08:46.535Z"
   },
   {
    "duration": 4,
    "start_time": "2023-06-17T23:08:46.539Z"
   },
   {
    "duration": 36,
    "start_time": "2023-06-17T23:08:46.544Z"
   },
   {
    "duration": 3,
    "start_time": "2023-06-17T23:08:46.583Z"
   },
   {
    "duration": 5,
    "start_time": "2023-06-17T23:08:46.588Z"
   },
   {
    "duration": 363,
    "start_time": "2023-06-17T23:08:46.594Z"
   },
   {
    "duration": 10,
    "start_time": "2023-06-17T23:08:46.959Z"
   },
   {
    "duration": 8,
    "start_time": "2023-06-17T23:08:46.970Z"
   },
   {
    "duration": 6,
    "start_time": "2023-06-17T23:08:46.979Z"
   },
   {
    "duration": 14,
    "start_time": "2023-06-17T23:08:46.986Z"
   },
   {
    "duration": 5,
    "start_time": "2023-06-17T23:08:47.001Z"
   },
   {
    "duration": 13,
    "start_time": "2023-06-17T23:08:47.007Z"
   },
   {
    "duration": 8,
    "start_time": "2023-06-17T23:08:47.022Z"
   },
   {
    "duration": 28,
    "start_time": "2023-06-17T23:08:47.031Z"
   },
   {
    "duration": 67,
    "start_time": "2023-06-17T23:08:47.060Z"
   },
   {
    "duration": 11,
    "start_time": "2023-06-17T23:08:47.128Z"
   },
   {
    "duration": 3,
    "start_time": "2023-06-17T23:08:47.141Z"
   },
   {
    "duration": 25,
    "start_time": "2023-06-17T23:08:47.145Z"
   },
   {
    "duration": 13,
    "start_time": "2023-06-17T23:08:47.172Z"
   },
   {
    "duration": 3,
    "start_time": "2023-06-17T23:08:47.187Z"
   },
   {
    "duration": 214,
    "start_time": "2023-06-17T23:08:47.191Z"
   },
   {
    "duration": 151,
    "start_time": "2023-06-17T23:08:47.409Z"
   },
   {
    "duration": 201,
    "start_time": "2023-06-17T23:08:47.561Z"
   },
   {
    "duration": 200,
    "start_time": "2023-06-17T23:08:47.763Z"
   },
   {
    "duration": 200,
    "start_time": "2023-06-17T23:08:47.965Z"
   },
   {
    "duration": 274,
    "start_time": "2023-06-17T23:08:48.167Z"
   },
   {
    "duration": 156,
    "start_time": "2023-06-17T23:08:48.443Z"
   },
   {
    "duration": 157,
    "start_time": "2023-06-17T23:08:48.601Z"
   },
   {
    "duration": 156,
    "start_time": "2023-06-17T23:08:48.759Z"
   },
   {
    "duration": 211,
    "start_time": "2023-06-17T23:08:48.917Z"
   },
   {
    "duration": 2,
    "start_time": "2023-06-17T23:08:49.130Z"
   },
   {
    "duration": 20,
    "start_time": "2023-06-17T23:08:49.134Z"
   },
   {
    "duration": 46,
    "start_time": "2023-06-17T23:08:49.156Z"
   },
   {
    "duration": 5,
    "start_time": "2023-06-17T23:08:49.203Z"
   },
   {
    "duration": 737,
    "start_time": "2023-06-17T23:08:49.209Z"
   },
   {
    "duration": 28,
    "start_time": "2023-06-17T23:08:49.948Z"
   },
   {
    "duration": 788,
    "start_time": "2023-06-17T23:08:49.978Z"
   },
   {
    "duration": 791,
    "start_time": "2023-06-17T23:08:50.768Z"
   },
   {
    "duration": 293,
    "start_time": "2023-06-17T23:08:51.560Z"
   },
   {
    "duration": 4,
    "start_time": "2023-06-17T23:08:51.855Z"
   },
   {
    "duration": 18,
    "start_time": "2023-06-17T23:08:51.860Z"
   },
   {
    "duration": 9,
    "start_time": "2023-06-17T23:08:51.879Z"
   },
   {
    "duration": 267,
    "start_time": "2023-06-17T23:08:51.889Z"
   },
   {
    "duration": 14,
    "start_time": "2023-06-17T23:08:52.157Z"
   },
   {
    "duration": 14,
    "start_time": "2023-06-17T23:08:52.172Z"
   },
   {
    "duration": 11,
    "start_time": "2023-06-17T23:08:52.187Z"
   },
   {
    "duration": 18,
    "start_time": "2023-06-17T23:08:52.199Z"
   },
   {
    "duration": 4,
    "start_time": "2023-06-17T23:08:52.218Z"
   },
   {
    "duration": 24,
    "start_time": "2023-06-17T23:08:52.223Z"
   },
   {
    "duration": 41,
    "start_time": "2023-06-17T23:08:52.249Z"
   },
   {
    "duration": 3,
    "start_time": "2023-06-17T23:08:52.292Z"
   },
   {
    "duration": 53,
    "start_time": "2023-06-17T23:08:52.296Z"
   },
   {
    "duration": 3,
    "start_time": "2023-06-17T23:08:52.350Z"
   },
   {
    "duration": 323552,
    "start_time": "2023-06-17T23:08:52.367Z"
   },
   {
    "duration": 3,
    "start_time": "2023-06-17T23:14:15.921Z"
   },
   {
    "duration": 1557109,
    "start_time": "2023-06-17T23:14:15.925Z"
   },
   {
    "duration": 5,
    "start_time": "2023-06-17T23:40:13.036Z"
   },
   {
    "duration": 1874,
    "start_time": "2023-06-19T14:01:46.065Z"
   },
   {
    "duration": 3046,
    "start_time": "2023-06-19T14:01:47.941Z"
   },
   {
    "duration": 5,
    "start_time": "2023-06-19T14:01:50.988Z"
   },
   {
    "duration": 31,
    "start_time": "2023-06-19T14:01:50.995Z"
   },
   {
    "duration": 24,
    "start_time": "2023-06-19T14:01:51.027Z"
   },
   {
    "duration": 42,
    "start_time": "2023-06-19T14:01:51.052Z"
   },
   {
    "duration": 79,
    "start_time": "2023-06-19T14:01:51.096Z"
   },
   {
    "duration": 57,
    "start_time": "2023-06-19T14:01:51.177Z"
   },
   {
    "duration": 82,
    "start_time": "2023-06-19T14:01:51.236Z"
   },
   {
    "duration": 113,
    "start_time": "2023-06-19T14:01:51.321Z"
   },
   {
    "duration": 56,
    "start_time": "2023-06-19T14:01:51.436Z"
   },
   {
    "duration": 453,
    "start_time": "2023-06-19T14:01:51.494Z"
   },
   {
    "duration": 8,
    "start_time": "2023-06-19T14:01:51.949Z"
   },
   {
    "duration": 39,
    "start_time": "2023-06-19T14:01:51.959Z"
   },
   {
    "duration": 37,
    "start_time": "2023-06-19T14:01:52.000Z"
   },
   {
    "duration": 14,
    "start_time": "2023-06-19T14:01:52.040Z"
   },
   {
    "duration": 39,
    "start_time": "2023-06-19T14:01:52.056Z"
   },
   {
    "duration": 28,
    "start_time": "2023-06-19T14:01:52.097Z"
   },
   {
    "duration": 31,
    "start_time": "2023-06-19T14:01:52.126Z"
   },
   {
    "duration": 56,
    "start_time": "2023-06-19T14:01:52.159Z"
   },
   {
    "duration": 87,
    "start_time": "2023-06-19T14:01:52.375Z"
   },
   {
    "duration": 10,
    "start_time": "2023-06-19T14:01:52.553Z"
   },
   {
    "duration": 3,
    "start_time": "2023-06-19T14:01:53.010Z"
   },
   {
    "duration": 7,
    "start_time": "2023-06-19T14:01:53.166Z"
   },
   {
    "duration": 13,
    "start_time": "2023-06-19T14:01:53.362Z"
   },
   {
    "duration": 4,
    "start_time": "2023-06-19T14:01:53.891Z"
   },
   {
    "duration": 187,
    "start_time": "2023-06-19T14:01:54.392Z"
   },
   {
    "duration": 158,
    "start_time": "2023-06-19T14:01:54.681Z"
   },
   {
    "duration": 228,
    "start_time": "2023-06-19T14:01:54.945Z"
   },
   {
    "duration": 229,
    "start_time": "2023-06-19T14:01:55.479Z"
   },
   {
    "duration": 221,
    "start_time": "2023-06-19T14:01:56.314Z"
   },
   {
    "duration": 309,
    "start_time": "2023-06-19T14:01:56.766Z"
   },
   {
    "duration": 174,
    "start_time": "2023-06-19T14:01:57.434Z"
   },
   {
    "duration": 167,
    "start_time": "2023-06-19T14:01:57.906Z"
   },
   {
    "duration": 158,
    "start_time": "2023-06-19T14:01:58.317Z"
   },
   {
    "duration": 196,
    "start_time": "2023-06-19T14:01:58.800Z"
   },
   {
    "duration": 3,
    "start_time": "2023-06-19T14:02:00.539Z"
   },
   {
    "duration": 22,
    "start_time": "2023-06-19T14:02:01.170Z"
   },
   {
    "duration": 40,
    "start_time": "2023-06-19T14:02:01.537Z"
   },
   {
    "duration": 4,
    "start_time": "2023-06-19T14:02:01.921Z"
   },
   {
    "duration": 792,
    "start_time": "2023-06-19T14:02:03.594Z"
   },
   {
    "duration": 28,
    "start_time": "2023-06-19T14:02:04.389Z"
   },
   {
    "duration": 914,
    "start_time": "2023-06-19T14:02:05.562Z"
   },
   {
    "duration": 933,
    "start_time": "2023-06-19T14:02:06.478Z"
   },
   {
    "duration": 318,
    "start_time": "2023-06-19T14:02:08.675Z"
   },
   {
    "duration": 5,
    "start_time": "2023-06-19T14:02:10.354Z"
   },
   {
    "duration": 13,
    "start_time": "2023-06-19T14:02:10.787Z"
   },
   {
    "duration": 7,
    "start_time": "2023-06-19T14:02:11.197Z"
   },
   {
    "duration": 301,
    "start_time": "2023-06-19T14:02:14.763Z"
   },
   {
    "duration": 8,
    "start_time": "2023-06-19T14:02:15.693Z"
   },
   {
    "duration": 7,
    "start_time": "2023-06-19T14:02:16.396Z"
   },
   {
    "duration": 3,
    "start_time": "2023-06-19T14:02:18.306Z"
   },
   {
    "duration": 18,
    "start_time": "2023-06-19T14:02:19.628Z"
   },
   {
    "duration": 11,
    "start_time": "2023-06-19T14:02:56.254Z"
   },
   {
    "duration": 11,
    "start_time": "2023-06-19T14:02:56.587Z"
   },
   {
    "duration": 41,
    "start_time": "2023-06-19T14:02:59.898Z"
   },
   {
    "duration": 3,
    "start_time": "2023-06-19T14:03:05.508Z"
   },
   {
    "duration": 3,
    "start_time": "2023-06-19T14:03:05.896Z"
   },
   {
    "duration": 1688,
    "start_time": "2023-06-19T14:22:06.357Z"
   },
   {
    "duration": 691,
    "start_time": "2023-06-19T14:22:08.047Z"
   },
   {
    "duration": 13,
    "start_time": "2023-06-19T14:22:08.740Z"
   },
   {
    "duration": 65,
    "start_time": "2023-06-19T14:22:08.755Z"
   },
   {
    "duration": 77,
    "start_time": "2023-06-19T14:22:08.822Z"
   },
   {
    "duration": 39,
    "start_time": "2023-06-19T14:22:08.902Z"
   },
   {
    "duration": 7,
    "start_time": "2023-06-19T14:22:08.943Z"
   },
   {
    "duration": 12,
    "start_time": "2023-06-19T14:22:08.952Z"
   },
   {
    "duration": 11,
    "start_time": "2023-06-19T14:22:08.966Z"
   },
   {
    "duration": 13,
    "start_time": "2023-06-19T14:22:08.980Z"
   },
   {
    "duration": 10,
    "start_time": "2023-06-19T14:22:08.995Z"
   },
   {
    "duration": 416,
    "start_time": "2023-06-19T14:22:09.007Z"
   },
   {
    "duration": 4,
    "start_time": "2023-06-19T14:22:09.425Z"
   },
   {
    "duration": 25,
    "start_time": "2023-06-19T14:22:09.431Z"
   },
   {
    "duration": 19,
    "start_time": "2023-06-19T14:22:09.458Z"
   },
   {
    "duration": 13,
    "start_time": "2023-06-19T14:22:09.479Z"
   },
   {
    "duration": 15,
    "start_time": "2023-06-19T14:22:09.494Z"
   },
   {
    "duration": 40,
    "start_time": "2023-06-19T14:22:09.511Z"
   },
   {
    "duration": 15,
    "start_time": "2023-06-19T14:22:09.553Z"
   },
   {
    "duration": 47,
    "start_time": "2023-06-19T14:22:09.570Z"
   },
   {
    "duration": 62,
    "start_time": "2023-06-19T14:22:09.618Z"
   },
   {
    "duration": 10,
    "start_time": "2023-06-19T14:22:09.682Z"
   },
   {
    "duration": 22,
    "start_time": "2023-06-19T14:22:09.694Z"
   },
   {
    "duration": 34,
    "start_time": "2023-06-19T14:22:09.718Z"
   },
   {
    "duration": 28,
    "start_time": "2023-06-19T14:22:09.754Z"
   },
   {
    "duration": 5,
    "start_time": "2023-06-19T14:22:09.784Z"
   },
   {
    "duration": 220,
    "start_time": "2023-06-19T14:22:09.791Z"
   },
   {
    "duration": 174,
    "start_time": "2023-06-19T14:22:10.017Z"
   },
   {
    "duration": 253,
    "start_time": "2023-06-19T14:22:10.193Z"
   },
   {
    "duration": 235,
    "start_time": "2023-06-19T14:22:10.447Z"
   },
   {
    "duration": 226,
    "start_time": "2023-06-19T14:22:10.683Z"
   },
   {
    "duration": 322,
    "start_time": "2023-06-19T14:22:10.911Z"
   },
   {
    "duration": 208,
    "start_time": "2023-06-19T14:22:11.234Z"
   },
   {
    "duration": 185,
    "start_time": "2023-06-19T14:22:11.444Z"
   },
   {
    "duration": 174,
    "start_time": "2023-06-19T14:22:11.631Z"
   },
   {
    "duration": 235,
    "start_time": "2023-06-19T14:22:11.807Z"
   },
   {
    "duration": 3,
    "start_time": "2023-06-19T14:22:12.043Z"
   },
   {
    "duration": 54,
    "start_time": "2023-06-19T14:22:12.053Z"
   },
   {
    "duration": 40,
    "start_time": "2023-06-19T14:22:12.109Z"
   },
   {
    "duration": 5,
    "start_time": "2023-06-19T14:22:12.151Z"
   },
   {
    "duration": 980,
    "start_time": "2023-06-19T14:22:12.158Z"
   },
   {
    "duration": 30,
    "start_time": "2023-06-19T14:22:13.140Z"
   },
   {
    "duration": 959,
    "start_time": "2023-06-19T14:22:13.172Z"
   },
   {
    "duration": 957,
    "start_time": "2023-06-19T14:22:14.133Z"
   },
   {
    "duration": 340,
    "start_time": "2023-06-19T14:22:15.092Z"
   },
   {
    "duration": 5,
    "start_time": "2023-06-19T14:22:15.433Z"
   },
   {
    "duration": 56,
    "start_time": "2023-06-19T14:22:15.439Z"
   },
   {
    "duration": 68,
    "start_time": "2023-06-19T14:22:15.497Z"
   },
   {
    "duration": 345,
    "start_time": "2023-06-19T14:22:15.567Z"
   },
   {
    "duration": 8,
    "start_time": "2023-06-19T14:22:15.913Z"
   },
   {
    "duration": 40,
    "start_time": "2023-06-19T14:22:15.923Z"
   },
   {
    "duration": 32,
    "start_time": "2023-06-19T14:22:15.965Z"
   },
   {
    "duration": 93,
    "start_time": "2023-06-19T14:22:15.998Z"
   },
   {
    "duration": 7,
    "start_time": "2023-06-19T14:22:16.094Z"
   },
   {
    "duration": 51,
    "start_time": "2023-06-19T14:22:16.103Z"
   },
   {
    "duration": 95,
    "start_time": "2023-06-19T14:22:16.156Z"
   },
   {
    "duration": 135,
    "start_time": "2023-06-19T14:22:16.253Z"
   },
   {
    "duration": 47,
    "start_time": "2023-06-19T14:22:16.391Z"
   },
   {
    "duration": 44,
    "start_time": "2023-06-19T14:22:16.441Z"
   },
   {
    "duration": 65,
    "start_time": "2023-06-19T14:22:16.487Z"
   },
   {
    "duration": 4,
    "start_time": "2023-06-19T14:22:16.554Z"
   },
   {
    "duration": 377544,
    "start_time": "2023-06-19T14:22:16.559Z"
   },
   {
    "duration": 5,
    "start_time": "2023-06-19T14:28:34.106Z"
   },
   {
    "duration": 1937,
    "start_time": "2023-06-19T17:45:00.908Z"
   },
   {
    "duration": 2529,
    "start_time": "2023-06-19T17:45:02.849Z"
   },
   {
    "duration": 5,
    "start_time": "2023-06-19T17:45:05.380Z"
   },
   {
    "duration": 18,
    "start_time": "2023-06-19T17:45:05.388Z"
   },
   {
    "duration": 14,
    "start_time": "2023-06-19T17:45:05.408Z"
   },
   {
    "duration": 20,
    "start_time": "2023-06-19T17:45:05.424Z"
   },
   {
    "duration": 3,
    "start_time": "2023-06-19T17:45:05.445Z"
   },
   {
    "duration": 5,
    "start_time": "2023-06-19T17:45:05.449Z"
   },
   {
    "duration": 5,
    "start_time": "2023-06-19T17:45:05.456Z"
   },
   {
    "duration": 7,
    "start_time": "2023-06-19T17:45:05.464Z"
   },
   {
    "duration": 4,
    "start_time": "2023-06-19T17:45:05.473Z"
   },
   {
    "duration": 469,
    "start_time": "2023-06-19T17:45:05.479Z"
   },
   {
    "duration": 6,
    "start_time": "2023-06-19T17:45:05.951Z"
   },
   {
    "duration": 106,
    "start_time": "2023-06-19T17:45:05.959Z"
   },
   {
    "duration": 15,
    "start_time": "2023-06-19T17:45:06.067Z"
   },
   {
    "duration": 27,
    "start_time": "2023-06-19T17:45:06.083Z"
   },
   {
    "duration": 27,
    "start_time": "2023-06-19T17:45:06.113Z"
   },
   {
    "duration": 20,
    "start_time": "2023-06-19T17:45:06.142Z"
   },
   {
    "duration": 56,
    "start_time": "2023-06-19T17:45:06.164Z"
   },
   {
    "duration": 68,
    "start_time": "2023-06-19T17:45:06.222Z"
   },
   {
    "duration": 76,
    "start_time": "2023-06-19T17:45:06.293Z"
   },
   {
    "duration": 11,
    "start_time": "2023-06-19T17:45:06.371Z"
   },
   {
    "duration": 31,
    "start_time": "2023-06-19T17:45:06.384Z"
   },
   {
    "duration": 31,
    "start_time": "2023-06-19T17:45:06.417Z"
   },
   {
    "duration": 34,
    "start_time": "2023-06-19T17:45:06.450Z"
   },
   {
    "duration": 23,
    "start_time": "2023-06-19T17:45:06.486Z"
   },
   {
    "duration": 228,
    "start_time": "2023-06-19T17:45:06.511Z"
   },
   {
    "duration": 186,
    "start_time": "2023-06-19T17:45:06.743Z"
   },
   {
    "duration": 222,
    "start_time": "2023-06-19T17:45:06.930Z"
   },
   {
    "duration": 247,
    "start_time": "2023-06-19T17:45:07.153Z"
   },
   {
    "duration": 231,
    "start_time": "2023-06-19T17:45:07.402Z"
   },
   {
    "duration": 316,
    "start_time": "2023-06-19T17:45:07.635Z"
   },
   {
    "duration": 184,
    "start_time": "2023-06-19T17:45:07.952Z"
   },
   {
    "duration": 200,
    "start_time": "2023-06-19T17:45:08.138Z"
   },
   {
    "duration": 195,
    "start_time": "2023-06-19T17:45:08.340Z"
   },
   {
    "duration": 339,
    "start_time": "2023-06-19T17:45:08.538Z"
   },
   {
    "duration": 3,
    "start_time": "2023-06-19T17:45:08.879Z"
   },
   {
    "duration": 41,
    "start_time": "2023-06-19T17:45:08.884Z"
   },
   {
    "duration": 43,
    "start_time": "2023-06-19T17:45:08.927Z"
   },
   {
    "duration": 5,
    "start_time": "2023-06-19T17:45:08.972Z"
   },
   {
    "duration": 1029,
    "start_time": "2023-06-19T17:45:08.979Z"
   },
   {
    "duration": 33,
    "start_time": "2023-06-19T17:45:10.013Z"
   },
   {
    "duration": 1025,
    "start_time": "2023-06-19T17:45:10.048Z"
   },
   {
    "duration": 1141,
    "start_time": "2023-06-19T17:45:11.075Z"
   },
   {
    "duration": 1019,
    "start_time": "2023-06-19T17:45:12.218Z"
   },
   {
    "duration": 6,
    "start_time": "2023-06-19T17:45:13.239Z"
   },
   {
    "duration": 16,
    "start_time": "2023-06-19T17:45:13.247Z"
   },
   {
    "duration": 11,
    "start_time": "2023-06-19T17:45:13.319Z"
   },
   {
    "duration": 897,
    "start_time": "2023-06-19T17:45:13.332Z"
   },
   {
    "duration": 9,
    "start_time": "2023-06-19T17:45:14.233Z"
   },
   {
    "duration": 6,
    "start_time": "2023-06-19T17:45:14.244Z"
   },
   {
    "duration": 7,
    "start_time": "2023-06-19T17:45:14.252Z"
   },
   {
    "duration": 21,
    "start_time": "2023-06-19T17:45:14.261Z"
   },
   {
    "duration": 18,
    "start_time": "2023-06-19T17:45:14.314Z"
   },
   {
    "duration": 11,
    "start_time": "2023-06-19T17:45:14.334Z"
   },
   {
    "duration": 56,
    "start_time": "2023-06-19T17:45:14.347Z"
   },
   {
    "duration": 14,
    "start_time": "2023-06-19T17:45:14.405Z"
   },
   {
    "duration": 4,
    "start_time": "2023-06-19T17:45:14.426Z"
   },
   {
    "duration": 11,
    "start_time": "2023-06-19T17:45:14.433Z"
   },
   {
    "duration": 66,
    "start_time": "2023-06-19T17:45:14.446Z"
   },
   {
    "duration": 7,
    "start_time": "2023-06-19T17:45:14.516Z"
   },
   {
    "duration": 368671,
    "start_time": "2023-06-19T17:45:14.526Z"
   },
   {
    "duration": 26,
    "start_time": "2023-06-19T17:51:23.199Z"
   },
   {
    "duration": 17807,
    "start_time": "2023-06-19T17:51:23.230Z"
   },
   {
    "duration": 5,
    "start_time": "2023-06-19T17:51:41.039Z"
   },
   {
    "duration": 77,
    "start_time": "2023-06-19T17:51:41.046Z"
   },
   {
    "duration": 92,
    "start_time": "2023-06-19T17:51:41.131Z"
   },
   {
    "duration": 32,
    "start_time": "2023-06-19T17:51:41.225Z"
   },
   {
    "duration": 29,
    "start_time": "2023-06-19T17:51:41.259Z"
   },
   {
    "duration": 859496,
    "start_time": "2023-06-19T17:51:41.291Z"
   },
   {
    "duration": 5,
    "start_time": "2023-06-19T18:06:00.790Z"
   },
   {
    "duration": 48,
    "start_time": "2023-06-19T22:33:15.551Z"
   },
   {
    "duration": 1642,
    "start_time": "2023-06-19T22:33:20.954Z"
   },
   {
    "duration": 1964,
    "start_time": "2023-06-19T22:33:22.598Z"
   },
   {
    "duration": 4,
    "start_time": "2023-06-19T22:33:24.564Z"
   },
   {
    "duration": 20,
    "start_time": "2023-06-19T22:33:24.570Z"
   },
   {
    "duration": 36,
    "start_time": "2023-06-19T22:33:24.592Z"
   },
   {
    "duration": 22,
    "start_time": "2023-06-19T22:33:24.630Z"
   },
   {
    "duration": 51,
    "start_time": "2023-06-19T22:33:24.654Z"
   },
   {
    "duration": 9,
    "start_time": "2023-06-19T22:33:24.707Z"
   },
   {
    "duration": 20,
    "start_time": "2023-06-19T22:33:24.718Z"
   },
   {
    "duration": 18,
    "start_time": "2023-06-19T22:33:24.741Z"
   },
   {
    "duration": 21,
    "start_time": "2023-06-19T22:33:24.761Z"
   },
   {
    "duration": 422,
    "start_time": "2023-06-19T22:33:24.784Z"
   },
   {
    "duration": 10,
    "start_time": "2023-06-19T22:33:25.207Z"
   },
   {
    "duration": 21,
    "start_time": "2023-06-19T22:33:25.218Z"
   },
   {
    "duration": 6,
    "start_time": "2023-06-19T22:33:25.241Z"
   },
   {
    "duration": 38,
    "start_time": "2023-06-19T22:33:25.248Z"
   },
   {
    "duration": 24,
    "start_time": "2023-06-19T22:33:25.288Z"
   },
   {
    "duration": 33,
    "start_time": "2023-06-19T22:33:25.313Z"
   },
   {
    "duration": 12,
    "start_time": "2023-06-19T22:33:25.348Z"
   },
   {
    "duration": 37,
    "start_time": "2023-06-19T22:33:25.361Z"
   },
   {
    "duration": 62,
    "start_time": "2023-06-19T22:33:25.402Z"
   },
   {
    "duration": 8,
    "start_time": "2023-06-19T22:33:25.466Z"
   },
   {
    "duration": 7,
    "start_time": "2023-06-19T22:33:25.475Z"
   },
   {
    "duration": 30,
    "start_time": "2023-06-19T22:33:25.483Z"
   },
   {
    "duration": 29,
    "start_time": "2023-06-19T22:33:25.515Z"
   },
   {
    "duration": 3,
    "start_time": "2023-06-19T22:33:25.546Z"
   },
   {
    "duration": 223,
    "start_time": "2023-06-19T22:33:25.550Z"
   },
   {
    "duration": 159,
    "start_time": "2023-06-19T22:33:25.777Z"
   },
   {
    "duration": 213,
    "start_time": "2023-06-19T22:33:25.937Z"
   },
   {
    "duration": 220,
    "start_time": "2023-06-19T22:33:26.152Z"
   },
   {
    "duration": 210,
    "start_time": "2023-06-19T22:33:26.374Z"
   },
   {
    "duration": 301,
    "start_time": "2023-06-19T22:33:26.586Z"
   },
   {
    "duration": 174,
    "start_time": "2023-06-19T22:33:26.888Z"
   },
   {
    "duration": 179,
    "start_time": "2023-06-19T22:33:27.064Z"
   },
   {
    "duration": 171,
    "start_time": "2023-06-19T22:33:27.245Z"
   },
   {
    "duration": 231,
    "start_time": "2023-06-19T22:33:27.418Z"
   },
   {
    "duration": 3,
    "start_time": "2023-06-19T22:33:27.651Z"
   },
   {
    "duration": 39,
    "start_time": "2023-06-19T22:33:27.656Z"
   },
   {
    "duration": 41,
    "start_time": "2023-06-19T22:33:27.697Z"
   },
   {
    "duration": 4,
    "start_time": "2023-06-19T22:33:27.740Z"
   },
   {
    "duration": 851,
    "start_time": "2023-06-19T22:33:27.746Z"
   },
   {
    "duration": 31,
    "start_time": "2023-06-19T22:33:28.598Z"
   },
   {
    "duration": 901,
    "start_time": "2023-06-19T22:33:28.631Z"
   },
   {
    "duration": 1036,
    "start_time": "2023-06-19T22:33:29.533Z"
   },
   {
    "duration": 393,
    "start_time": "2023-06-19T22:33:30.570Z"
   },
   {
    "duration": 4,
    "start_time": "2023-06-19T22:33:30.965Z"
   },
   {
    "duration": 75,
    "start_time": "2023-06-19T22:33:30.971Z"
   },
   {
    "duration": 41,
    "start_time": "2023-06-19T22:33:31.048Z"
   },
   {
    "duration": 376,
    "start_time": "2023-06-19T22:33:31.091Z"
   },
   {
    "duration": 8,
    "start_time": "2023-06-19T22:33:31.469Z"
   },
   {
    "duration": 114,
    "start_time": "2023-06-19T22:33:31.479Z"
   },
   {
    "duration": 93,
    "start_time": "2023-06-19T22:33:31.594Z"
   },
   {
    "duration": 78,
    "start_time": "2023-06-19T22:33:31.689Z"
   },
   {
    "duration": 37,
    "start_time": "2023-06-19T22:33:31.769Z"
   },
   {
    "duration": 53,
    "start_time": "2023-06-19T22:33:31.808Z"
   },
   {
    "duration": 125,
    "start_time": "2023-06-19T22:33:31.863Z"
   },
   {
    "duration": 26,
    "start_time": "2023-06-19T22:33:31.990Z"
   },
   {
    "duration": 42,
    "start_time": "2023-06-19T22:33:32.017Z"
   },
   {
    "duration": 194,
    "start_time": "2023-06-19T22:33:32.060Z"
   },
   {
    "duration": 95,
    "start_time": "2023-06-19T22:33:32.256Z"
   },
   {
    "duration": 4,
    "start_time": "2023-06-19T22:33:32.353Z"
   },
   {
    "duration": 342516,
    "start_time": "2023-06-19T22:33:32.360Z"
   },
   {
    "duration": 5,
    "start_time": "2023-06-19T22:39:14.878Z"
   },
   {
    "duration": 17165,
    "start_time": "2023-06-19T22:39:14.885Z"
   },
   {
    "duration": 5,
    "start_time": "2023-06-19T22:39:32.051Z"
   },
   {
    "duration": 47,
    "start_time": "2023-06-19T22:39:32.058Z"
   },
   {
    "duration": 44,
    "start_time": "2023-06-19T22:39:32.107Z"
   },
   {
    "duration": 33,
    "start_time": "2023-06-19T22:39:32.154Z"
   },
   {
    "duration": 66,
    "start_time": "2023-06-19T22:39:32.190Z"
   },
   {
    "duration": 851886,
    "start_time": "2023-06-19T22:39:32.258Z"
   },
   {
    "duration": 351466,
    "start_time": "2023-06-19T22:53:44.151Z"
   },
   {
    "duration": 0,
    "start_time": "2023-06-19T22:59:35.620Z"
   },
   {
    "duration": 0,
    "start_time": "2023-06-19T22:59:35.622Z"
   },
   {
    "duration": 0,
    "start_time": "2023-06-19T22:59:35.624Z"
   },
   {
    "duration": 0,
    "start_time": "2023-06-19T22:59:35.626Z"
   },
   {
    "duration": 0,
    "start_time": "2023-06-19T22:59:35.628Z"
   },
   {
    "duration": 0,
    "start_time": "2023-06-19T22:59:35.629Z"
   },
   {
    "duration": 0,
    "start_time": "2023-06-19T22:59:35.631Z"
   },
   {
    "duration": 0,
    "start_time": "2023-06-19T22:59:35.633Z"
   },
   {
    "duration": 0,
    "start_time": "2023-06-19T22:59:35.635Z"
   },
   {
    "duration": 0,
    "start_time": "2023-06-19T22:59:35.637Z"
   },
   {
    "duration": 0,
    "start_time": "2023-06-19T22:59:35.638Z"
   },
   {
    "duration": 0,
    "start_time": "2023-06-19T22:59:35.640Z"
   },
   {
    "duration": 0,
    "start_time": "2023-06-19T22:59:35.642Z"
   },
   {
    "duration": 0,
    "start_time": "2023-06-19T22:59:35.643Z"
   },
   {
    "duration": 0,
    "start_time": "2023-06-19T22:59:35.644Z"
   },
   {
    "duration": 1,
    "start_time": "2023-06-19T22:59:35.645Z"
   },
   {
    "duration": 0,
    "start_time": "2023-06-19T22:59:35.647Z"
   },
   {
    "duration": 0,
    "start_time": "2023-06-19T22:59:35.648Z"
   },
   {
    "duration": 0,
    "start_time": "2023-06-19T22:59:35.650Z"
   },
   {
    "duration": 0,
    "start_time": "2023-06-19T22:59:35.652Z"
   },
   {
    "duration": 0,
    "start_time": "2023-06-19T22:59:35.653Z"
   },
   {
    "duration": 0,
    "start_time": "2023-06-19T22:59:35.655Z"
   },
   {
    "duration": 0,
    "start_time": "2023-06-19T22:59:35.656Z"
   },
   {
    "duration": 0,
    "start_time": "2023-06-19T22:59:35.714Z"
   },
   {
    "duration": 0,
    "start_time": "2023-06-19T22:59:35.715Z"
   },
   {
    "duration": 0,
    "start_time": "2023-06-19T22:59:35.717Z"
   },
   {
    "duration": 1,
    "start_time": "2023-06-19T22:59:35.718Z"
   },
   {
    "duration": 0,
    "start_time": "2023-06-19T22:59:35.720Z"
   },
   {
    "duration": 0,
    "start_time": "2023-06-19T22:59:35.721Z"
   },
   {
    "duration": 0,
    "start_time": "2023-06-19T22:59:35.723Z"
   },
   {
    "duration": 0,
    "start_time": "2023-06-19T22:59:35.724Z"
   },
   {
    "duration": 0,
    "start_time": "2023-06-19T22:59:35.726Z"
   },
   {
    "duration": 0,
    "start_time": "2023-06-19T22:59:35.727Z"
   },
   {
    "duration": 58476,
    "start_time": "2023-06-19T22:59:38.011Z"
   },
   {
    "duration": 3,
    "start_time": "2023-06-19T23:00:47.302Z"
   },
   {
    "duration": 61658,
    "start_time": "2023-06-19T23:00:57.244Z"
   },
   {
    "duration": 6,
    "start_time": "2023-06-19T23:01:58.912Z"
   },
   {
    "duration": 22,
    "start_time": "2023-06-19T23:01:58.919Z"
   },
   {
    "duration": 9,
    "start_time": "2023-06-19T23:01:58.943Z"
   },
   {
    "duration": 19,
    "start_time": "2023-06-19T23:01:58.954Z"
   },
   {
    "duration": 44,
    "start_time": "2023-06-19T23:01:58.975Z"
   },
   {
    "duration": 14,
    "start_time": "2023-06-19T23:01:59.021Z"
   },
   {
    "duration": 27,
    "start_time": "2023-06-19T23:01:59.037Z"
   },
   {
    "duration": 22,
    "start_time": "2023-06-19T23:01:59.067Z"
   },
   {
    "duration": 140024,
    "start_time": "2023-06-19T23:01:59.092Z"
   },
   {
    "duration": 5,
    "start_time": "2023-06-19T23:04:19.117Z"
   },
   {
    "duration": 13,
    "start_time": "2023-06-19T23:04:19.124Z"
   },
   {
    "duration": 33,
    "start_time": "2023-06-19T23:04:19.138Z"
   },
   {
    "duration": 73461,
    "start_time": "2023-06-19T23:04:19.173Z"
   },
   {
    "duration": 3,
    "start_time": "2023-06-19T23:05:32.636Z"
   },
   {
    "duration": 48,
    "start_time": "2023-06-19T23:05:32.642Z"
   },
   {
    "duration": 19,
    "start_time": "2023-06-19T23:05:32.692Z"
   },
   {
    "duration": 25333,
    "start_time": "2023-06-19T23:05:32.713Z"
   },
   {
    "duration": 19,
    "start_time": "2023-06-19T23:05:58.049Z"
   },
   {
    "duration": 26,
    "start_time": "2023-06-19T23:05:58.071Z"
   },
   {
    "duration": 10,
    "start_time": "2023-06-19T23:05:58.099Z"
   },
   {
    "duration": 18,
    "start_time": "2023-06-19T23:05:58.111Z"
   },
   {
    "duration": 33,
    "start_time": "2023-06-19T23:05:58.131Z"
   },
   {
    "duration": 294942,
    "start_time": "2023-06-19T23:05:58.166Z"
   },
   {
    "duration": 4,
    "start_time": "2023-06-19T23:10:53.110Z"
   },
   {
    "duration": 93,
    "start_time": "2023-06-19T23:10:53.116Z"
   },
   {
    "duration": 101948,
    "start_time": "2023-06-19T23:10:53.212Z"
   },
   {
    "duration": 0,
    "start_time": "2023-06-19T23:12:35.163Z"
   },
   {
    "duration": 0,
    "start_time": "2023-06-19T23:12:35.165Z"
   },
   {
    "duration": 0,
    "start_time": "2023-06-19T23:12:35.167Z"
   },
   {
    "duration": 0,
    "start_time": "2023-06-19T23:12:35.168Z"
   },
   {
    "duration": 0,
    "start_time": "2023-06-19T23:12:35.170Z"
   },
   {
    "duration": 0,
    "start_time": "2023-06-19T23:12:35.171Z"
   },
   {
    "duration": 16,
    "start_time": "2023-06-19T23:12:40.445Z"
   },
   {
    "duration": 18,
    "start_time": "2023-06-19T23:12:53.383Z"
   },
   {
    "duration": 15,
    "start_time": "2023-06-19T23:12:58.183Z"
   },
   {
    "duration": 8,
    "start_time": "2023-06-19T23:13:41.630Z"
   },
   {
    "duration": 5,
    "start_time": "2023-06-19T23:13:44.191Z"
   },
   {
    "duration": 5,
    "start_time": "2023-06-19T23:14:47.014Z"
   },
   {
    "duration": 8,
    "start_time": "2023-06-19T23:14:53.197Z"
   },
   {
    "duration": 7,
    "start_time": "2023-06-19T23:17:11.707Z"
   },
   {
    "duration": 8,
    "start_time": "2023-06-19T23:17:39.559Z"
   },
   {
    "duration": 6,
    "start_time": "2023-06-19T23:18:06.212Z"
   },
   {
    "duration": 8,
    "start_time": "2023-06-19T23:21:06.655Z"
   },
   {
    "duration": 4,
    "start_time": "2023-06-19T23:21:11.943Z"
   },
   {
    "duration": 12,
    "start_time": "2023-06-19T23:26:06.498Z"
   },
   {
    "duration": 13,
    "start_time": "2023-06-19T23:31:43.951Z"
   },
   {
    "duration": 4,
    "start_time": "2023-06-19T23:32:57.191Z"
   },
   {
    "duration": 12,
    "start_time": "2023-06-19T23:34:08.464Z"
   },
   {
    "duration": 7,
    "start_time": "2023-06-19T23:34:17.476Z"
   },
   {
    "duration": 4,
    "start_time": "2023-06-19T23:34:18.500Z"
   },
   {
    "duration": 3,
    "start_time": "2023-06-19T23:34:32.097Z"
   },
   {
    "duration": 2,
    "start_time": "2023-06-19T23:34:32.507Z"
   },
   {
    "duration": 2,
    "start_time": "2023-06-19T23:34:39.328Z"
   },
   {
    "duration": 3,
    "start_time": "2023-06-19T23:35:24.795Z"
   },
   {
    "duration": 3,
    "start_time": "2023-06-19T23:41:10.950Z"
   },
   {
    "duration": 15,
    "start_time": "2023-06-19T23:41:44.122Z"
   },
   {
    "duration": 11,
    "start_time": "2023-06-19T23:42:08.797Z"
   },
   {
    "duration": 4,
    "start_time": "2023-06-19T23:42:09.100Z"
   },
   {
    "duration": 9,
    "start_time": "2023-06-19T23:44:26.758Z"
   },
   {
    "duration": 2,
    "start_time": "2023-06-19T23:46:05.106Z"
   },
   {
    "duration": 12,
    "start_time": "2023-06-19T23:48:06.448Z"
   },
   {
    "duration": 9,
    "start_time": "2023-06-19T23:48:06.715Z"
   },
   {
    "duration": 4,
    "start_time": "2023-06-19T23:48:07.108Z"
   },
   {
    "duration": 38,
    "start_time": "2023-06-19T23:50:11.353Z"
   },
   {
    "duration": 4,
    "start_time": "2023-06-19T23:50:22.195Z"
   },
   {
    "duration": 3,
    "start_time": "2023-06-19T23:50:42.375Z"
   },
   {
    "duration": 39,
    "start_time": "2023-06-19T23:51:35.268Z"
   },
   {
    "duration": 8,
    "start_time": "2023-06-19T23:51:40.726Z"
   },
   {
    "duration": 9,
    "start_time": "2023-06-19T23:51:43.449Z"
   },
   {
    "duration": 63,
    "start_time": "2023-06-19T23:52:41.835Z"
   },
   {
    "duration": 69,
    "start_time": "2023-06-19T23:52:50.485Z"
   },
   {
    "duration": 64,
    "start_time": "2023-06-19T23:53:17.286Z"
   },
   {
    "duration": 65,
    "start_time": "2023-06-19T23:53:18.043Z"
   },
   {
    "duration": 6,
    "start_time": "2023-06-19T23:53:19.109Z"
   },
   {
    "duration": 7,
    "start_time": "2023-06-19T23:53:20.052Z"
   },
   {
    "duration": 6,
    "start_time": "2023-06-19T23:58:58.472Z"
   },
   {
    "duration": 21,
    "start_time": "2023-06-20T00:00:27.411Z"
   },
   {
    "duration": 6,
    "start_time": "2023-06-20T00:00:31.167Z"
   },
   {
    "duration": 5,
    "start_time": "2023-06-20T00:00:31.566Z"
   },
   {
    "duration": 1571,
    "start_time": "2023-06-20T00:11:09.824Z"
   },
   {
    "duration": 778,
    "start_time": "2023-06-20T00:11:11.398Z"
   },
   {
    "duration": 5,
    "start_time": "2023-06-20T00:11:12.178Z"
   },
   {
    "duration": 16,
    "start_time": "2023-06-20T00:11:12.185Z"
   },
   {
    "duration": 16,
    "start_time": "2023-06-20T00:11:12.203Z"
   },
   {
    "duration": 22,
    "start_time": "2023-06-20T00:11:12.227Z"
   },
   {
    "duration": 6,
    "start_time": "2023-06-20T00:11:12.251Z"
   },
   {
    "duration": 5,
    "start_time": "2023-06-20T00:11:12.259Z"
   },
   {
    "duration": 5,
    "start_time": "2023-06-20T00:11:12.266Z"
   },
   {
    "duration": 3,
    "start_time": "2023-06-20T00:11:12.275Z"
   },
   {
    "duration": 9,
    "start_time": "2023-06-20T00:11:12.280Z"
   },
   {
    "duration": 536,
    "start_time": "2023-06-20T00:11:12.291Z"
   },
   {
    "duration": 6,
    "start_time": "2023-06-20T00:11:12.831Z"
   },
   {
    "duration": 59,
    "start_time": "2023-06-20T00:11:12.838Z"
   },
   {
    "duration": 8,
    "start_time": "2023-06-20T00:11:12.899Z"
   },
   {
    "duration": 20,
    "start_time": "2023-06-20T00:11:12.909Z"
   },
   {
    "duration": 16,
    "start_time": "2023-06-20T00:11:12.932Z"
   },
   {
    "duration": 16,
    "start_time": "2023-06-20T00:11:12.951Z"
   },
   {
    "duration": 14,
    "start_time": "2023-06-20T00:11:12.970Z"
   },
   {
    "duration": 49,
    "start_time": "2023-06-20T00:11:12.986Z"
   },
   {
    "duration": 65,
    "start_time": "2023-06-20T00:11:13.037Z"
   },
   {
    "duration": 17,
    "start_time": "2023-06-20T00:11:13.113Z"
   },
   {
    "duration": 3,
    "start_time": "2023-06-20T00:11:13.132Z"
   },
   {
    "duration": 116,
    "start_time": "2023-06-20T00:11:13.137Z"
   },
   {
    "duration": 58,
    "start_time": "2023-06-20T00:11:13.256Z"
   },
   {
    "duration": 22,
    "start_time": "2023-06-20T00:11:13.316Z"
   },
   {
    "duration": 293,
    "start_time": "2023-06-20T00:11:13.340Z"
   },
   {
    "duration": 218,
    "start_time": "2023-06-20T00:11:13.641Z"
   },
   {
    "duration": 267,
    "start_time": "2023-06-20T00:11:13.862Z"
   },
   {
    "duration": 241,
    "start_time": "2023-06-20T00:11:14.131Z"
   },
   {
    "duration": 255,
    "start_time": "2023-06-20T00:11:14.375Z"
   },
   {
    "duration": 360,
    "start_time": "2023-06-20T00:11:14.634Z"
   },
   {
    "duration": 194,
    "start_time": "2023-06-20T00:11:14.996Z"
   },
   {
    "duration": 437,
    "start_time": "2023-06-20T00:11:15.192Z"
   },
   {
    "duration": 425,
    "start_time": "2023-06-20T00:11:15.630Z"
   },
   {
    "duration": 585,
    "start_time": "2023-06-20T00:11:16.057Z"
   },
   {
    "duration": 3,
    "start_time": "2023-06-20T00:11:16.645Z"
   },
   {
    "duration": 94,
    "start_time": "2023-06-20T00:11:16.650Z"
   },
   {
    "duration": 91,
    "start_time": "2023-06-20T00:11:16.746Z"
   },
   {
    "duration": 4,
    "start_time": "2023-06-20T00:11:16.842Z"
   },
   {
    "duration": 1705,
    "start_time": "2023-06-20T00:11:16.848Z"
   },
   {
    "duration": 82,
    "start_time": "2023-06-20T00:11:18.555Z"
   },
   {
    "duration": 2351,
    "start_time": "2023-06-20T00:11:18.639Z"
   },
   {
    "duration": 1012,
    "start_time": "2023-06-20T00:11:20.993Z"
   },
   {
    "duration": 451,
    "start_time": "2023-06-20T00:11:22.007Z"
   },
   {
    "duration": 5,
    "start_time": "2023-06-20T00:11:22.460Z"
   },
   {
    "duration": 14,
    "start_time": "2023-06-20T00:11:22.467Z"
   },
   {
    "duration": 5,
    "start_time": "2023-06-20T00:11:22.483Z"
   },
   {
    "duration": 347,
    "start_time": "2023-06-20T00:11:22.513Z"
   },
   {
    "duration": 8,
    "start_time": "2023-06-20T00:11:22.862Z"
   },
   {
    "duration": 11,
    "start_time": "2023-06-20T00:11:22.871Z"
   },
   {
    "duration": 5,
    "start_time": "2023-06-20T00:11:22.884Z"
   },
   {
    "duration": 36,
    "start_time": "2023-06-20T00:11:22.891Z"
   },
   {
    "duration": 4,
    "start_time": "2023-06-20T00:11:22.932Z"
   },
   {
    "duration": 13,
    "start_time": "2023-06-20T00:11:22.939Z"
   },
   {
    "duration": 76,
    "start_time": "2023-06-20T00:11:22.954Z"
   },
   {
    "duration": 8,
    "start_time": "2023-06-20T00:11:23.033Z"
   },
   {
    "duration": 14,
    "start_time": "2023-06-20T00:11:23.044Z"
   },
   {
    "duration": 13,
    "start_time": "2023-06-20T00:11:23.060Z"
   },
   {
    "duration": 94,
    "start_time": "2023-06-20T00:11:23.075Z"
   },
   {
    "duration": 5,
    "start_time": "2023-06-20T00:11:23.171Z"
   },
   {
    "duration": 1731,
    "start_time": "2023-06-20T18:50:39.320Z"
   },
   {
    "duration": 3641,
    "start_time": "2023-06-20T18:50:41.053Z"
   },
   {
    "duration": 4,
    "start_time": "2023-06-20T18:50:44.695Z"
   },
   {
    "duration": 25,
    "start_time": "2023-06-20T18:50:44.701Z"
   },
   {
    "duration": 12,
    "start_time": "2023-06-20T18:50:44.728Z"
   },
   {
    "duration": 14,
    "start_time": "2023-06-20T18:50:44.741Z"
   },
   {
    "duration": 3,
    "start_time": "2023-06-20T18:50:44.756Z"
   },
   {
    "duration": 5,
    "start_time": "2023-06-20T18:50:44.760Z"
   },
   {
    "duration": 5,
    "start_time": "2023-06-20T18:50:44.766Z"
   },
   {
    "duration": 4,
    "start_time": "2023-06-20T18:50:44.773Z"
   },
   {
    "duration": 8,
    "start_time": "2023-06-20T18:50:44.778Z"
   },
   {
    "duration": 369,
    "start_time": "2023-06-20T18:50:44.789Z"
   },
   {
    "duration": 4,
    "start_time": "2023-06-20T18:50:45.160Z"
   },
   {
    "duration": 75,
    "start_time": "2023-06-20T18:50:45.165Z"
   },
   {
    "duration": 42,
    "start_time": "2023-06-20T18:50:45.241Z"
   },
   {
    "duration": 44,
    "start_time": "2023-06-20T18:50:45.285Z"
   },
   {
    "duration": 42,
    "start_time": "2023-06-20T18:50:45.331Z"
   },
   {
    "duration": 59,
    "start_time": "2023-06-20T18:50:45.374Z"
   },
   {
    "duration": 51,
    "start_time": "2023-06-20T18:50:45.434Z"
   },
   {
    "duration": 69,
    "start_time": "2023-06-20T18:50:45.487Z"
   },
   {
    "duration": 69,
    "start_time": "2023-06-20T18:50:45.557Z"
   },
   {
    "duration": 15,
    "start_time": "2023-06-20T18:50:45.628Z"
   },
   {
    "duration": 31,
    "start_time": "2023-06-20T18:50:45.645Z"
   },
   {
    "duration": 19,
    "start_time": "2023-06-20T18:50:45.678Z"
   },
   {
    "duration": 42,
    "start_time": "2023-06-20T18:50:45.699Z"
   },
   {
    "duration": 4,
    "start_time": "2023-06-20T18:50:45.742Z"
   },
   {
    "duration": 206,
    "start_time": "2023-06-20T18:50:45.747Z"
   },
   {
    "duration": 171,
    "start_time": "2023-06-20T18:50:45.959Z"
   },
   {
    "duration": 221,
    "start_time": "2023-06-20T18:50:46.131Z"
   },
   {
    "duration": 193,
    "start_time": "2023-06-20T18:50:46.354Z"
   },
   {
    "duration": 206,
    "start_time": "2023-06-20T18:50:46.548Z"
   },
   {
    "duration": 295,
    "start_time": "2023-06-20T18:50:46.755Z"
   },
   {
    "duration": 162,
    "start_time": "2023-06-20T18:50:47.051Z"
   },
   {
    "duration": 155,
    "start_time": "2023-06-20T18:50:47.214Z"
   },
   {
    "duration": 160,
    "start_time": "2023-06-20T18:50:47.371Z"
   },
   {
    "duration": 220,
    "start_time": "2023-06-20T18:50:47.532Z"
   },
   {
    "duration": 3,
    "start_time": "2023-06-20T18:50:47.753Z"
   },
   {
    "duration": 22,
    "start_time": "2023-06-20T18:50:47.757Z"
   },
   {
    "duration": 39,
    "start_time": "2023-06-20T18:50:47.781Z"
   },
   {
    "duration": 4,
    "start_time": "2023-06-20T18:50:47.822Z"
   },
   {
    "duration": 687,
    "start_time": "2023-06-20T18:50:47.829Z"
   },
   {
    "duration": 19,
    "start_time": "2023-06-20T18:50:48.518Z"
   },
   {
    "duration": 686,
    "start_time": "2023-06-20T18:50:48.539Z"
   },
   {
    "duration": 710,
    "start_time": "2023-06-20T18:50:49.226Z"
   },
   {
    "duration": 300,
    "start_time": "2023-06-20T18:50:49.937Z"
   },
   {
    "duration": 4,
    "start_time": "2023-06-20T18:50:50.239Z"
   },
   {
    "duration": 19,
    "start_time": "2023-06-20T18:50:50.245Z"
   },
   {
    "duration": 25,
    "start_time": "2023-06-20T18:50:50.265Z"
   },
   {
    "duration": 285,
    "start_time": "2023-06-20T18:50:50.292Z"
   },
   {
    "duration": 7,
    "start_time": "2023-06-20T18:50:50.580Z"
   },
   {
    "duration": 16,
    "start_time": "2023-06-20T18:50:50.599Z"
   },
   {
    "duration": 12,
    "start_time": "2023-06-20T18:50:50.616Z"
   },
   {
    "duration": 29,
    "start_time": "2023-06-20T18:50:50.630Z"
   },
   {
    "duration": 17,
    "start_time": "2023-06-20T18:50:50.661Z"
   },
   {
    "duration": 14,
    "start_time": "2023-06-20T18:50:50.680Z"
   },
   {
    "duration": 59,
    "start_time": "2023-06-20T18:50:50.695Z"
   },
   {
    "duration": 3,
    "start_time": "2023-06-20T18:50:50.755Z"
   },
   {
    "duration": 20,
    "start_time": "2023-06-20T18:50:50.759Z"
   },
   {
    "duration": 36,
    "start_time": "2023-06-20T18:50:50.780Z"
   },
   {
    "duration": 99,
    "start_time": "2023-06-20T18:50:50.817Z"
   },
   {
    "duration": 3,
    "start_time": "2023-06-20T18:50:50.917Z"
   },
   {
    "duration": 357810,
    "start_time": "2023-06-20T18:50:50.922Z"
   },
   {
    "duration": 2,
    "start_time": "2023-06-20T18:56:48.733Z"
   },
   {
    "duration": 20,
    "start_time": "2023-06-20T18:56:48.736Z"
   },
   {
    "duration": 37,
    "start_time": "2023-06-20T18:56:48.757Z"
   },
   {
    "duration": 32,
    "start_time": "2023-06-20T18:56:48.795Z"
   },
   {
    "duration": 5,
    "start_time": "2023-06-20T18:56:48.828Z"
   },
   {
    "duration": 8,
    "start_time": "2023-06-20T18:56:48.835Z"
   },
   {
    "duration": 9,
    "start_time": "2023-06-20T18:56:48.845Z"
   },
   {
    "duration": 838088,
    "start_time": "2023-06-20T18:56:48.855Z"
   },
   {
    "duration": 2,
    "start_time": "2023-06-20T19:10:46.945Z"
   },
   {
    "duration": 17,
    "start_time": "2023-06-20T19:10:46.949Z"
   },
   {
    "duration": 56,
    "start_time": "2023-06-20T19:10:46.967Z"
   },
   {
    "duration": 47,
    "start_time": "2023-06-20T19:10:47.024Z"
   },
   {
    "duration": 4,
    "start_time": "2023-06-20T19:10:47.072Z"
   },
   {
    "duration": 19,
    "start_time": "2023-06-20T19:10:47.078Z"
   },
   {
    "duration": 24,
    "start_time": "2023-06-20T19:10:47.101Z"
   },
   {
    "duration": 11,
    "start_time": "2023-06-20T19:10:47.126Z"
   },
   {
    "duration": 18,
    "start_time": "2023-06-20T19:10:47.138Z"
   },
   {
    "duration": 114097,
    "start_time": "2023-06-20T19:10:47.157Z"
   },
   {
    "duration": 4,
    "start_time": "2023-06-20T19:12:41.256Z"
   },
   {
    "duration": 4,
    "start_time": "2023-06-20T19:12:41.266Z"
   },
   {
    "duration": 11,
    "start_time": "2023-06-20T19:12:41.271Z"
   },
   {
    "duration": 62040,
    "start_time": "2023-06-20T19:12:41.284Z"
   },
   {
    "duration": 3,
    "start_time": "2023-06-20T19:13:43.326Z"
   },
   {
    "duration": 14,
    "start_time": "2023-06-20T19:13:43.330Z"
   },
   {
    "duration": 5,
    "start_time": "2023-06-20T19:13:43.346Z"
   },
   {
    "duration": 16,
    "start_time": "2023-06-20T19:13:43.352Z"
   },
   {
    "duration": 51,
    "start_time": "2023-06-20T19:13:43.371Z"
   },
   {
    "duration": 18,
    "start_time": "2023-06-20T19:13:43.424Z"
   },
   {
    "duration": 10,
    "start_time": "2023-06-20T19:13:43.444Z"
   },
   {
    "duration": 10,
    "start_time": "2023-06-20T19:13:43.455Z"
   },
   {
    "duration": 25,
    "start_time": "2023-06-20T19:13:43.467Z"
   },
   {
    "duration": 250445,
    "start_time": "2023-06-20T19:13:43.494Z"
   },
   {
    "duration": 3,
    "start_time": "2023-06-20T19:17:53.941Z"
   },
   {
    "duration": 24,
    "start_time": "2023-06-20T19:17:53.945Z"
   },
   {
    "duration": 129515,
    "start_time": "2023-06-20T19:17:53.970Z"
   },
   {
    "duration": 2,
    "start_time": "2023-06-20T19:20:03.487Z"
   },
   {
    "duration": 47,
    "start_time": "2023-06-20T19:20:03.490Z"
   },
   {
    "duration": 10,
    "start_time": "2023-06-20T19:20:03.538Z"
   },
   {
    "duration": 13,
    "start_time": "2023-06-20T19:20:03.550Z"
   },
   {
    "duration": 20,
    "start_time": "2023-06-20T19:20:03.564Z"
   },
   {
    "duration": 18,
    "start_time": "2023-06-20T19:20:03.585Z"
   },
   {
    "duration": 1754,
    "start_time": "2023-10-01T13:22:36.084Z"
   },
   {
    "duration": 3335,
    "start_time": "2023-10-01T13:22:37.841Z"
   },
   {
    "duration": 4,
    "start_time": "2023-10-01T13:22:41.179Z"
   },
   {
    "duration": 27,
    "start_time": "2023-10-01T13:22:41.184Z"
   },
   {
    "duration": 36,
    "start_time": "2023-10-01T13:22:41.213Z"
   },
   {
    "duration": 43,
    "start_time": "2023-10-01T13:22:41.251Z"
   },
   {
    "duration": 8,
    "start_time": "2023-10-01T13:22:41.295Z"
   },
   {
    "duration": 6,
    "start_time": "2023-10-01T13:22:41.304Z"
   },
   {
    "duration": 12,
    "start_time": "2023-10-01T13:22:41.312Z"
   },
   {
    "duration": 18,
    "start_time": "2023-10-01T13:22:41.325Z"
   },
   {
    "duration": 41,
    "start_time": "2023-10-01T13:22:41.345Z"
   },
   {
    "duration": 441,
    "start_time": "2023-10-01T13:22:41.388Z"
   },
   {
    "duration": 6,
    "start_time": "2023-10-01T13:22:41.831Z"
   },
   {
    "duration": 28,
    "start_time": "2023-10-01T13:22:41.840Z"
   },
   {
    "duration": 24,
    "start_time": "2023-10-01T13:22:41.869Z"
   },
   {
    "duration": 42,
    "start_time": "2023-10-01T13:22:41.895Z"
   },
   {
    "duration": 120,
    "start_time": "2023-10-01T13:22:41.939Z"
   },
   {
    "duration": 99,
    "start_time": "2023-10-01T13:22:42.061Z"
   },
   {
    "duration": 79,
    "start_time": "2023-10-01T13:22:42.162Z"
   },
   {
    "duration": 70,
    "start_time": "2023-10-01T13:22:42.243Z"
   },
   {
    "duration": 79,
    "start_time": "2023-10-01T13:22:42.315Z"
   },
   {
    "duration": 9,
    "start_time": "2023-10-01T13:22:42.396Z"
   },
   {
    "duration": 16,
    "start_time": "2023-10-01T13:22:42.407Z"
   },
   {
    "duration": 50,
    "start_time": "2023-10-01T13:22:42.424Z"
   },
   {
    "duration": 22,
    "start_time": "2023-10-01T13:22:42.476Z"
   },
   {
    "duration": 24,
    "start_time": "2023-10-01T13:22:42.500Z"
   },
   {
    "duration": 242,
    "start_time": "2023-10-01T13:22:42.526Z"
   },
   {
    "duration": 166,
    "start_time": "2023-10-01T13:22:42.770Z"
   },
   {
    "duration": 231,
    "start_time": "2023-10-01T13:22:42.938Z"
   },
   {
    "duration": 220,
    "start_time": "2023-10-01T13:22:43.170Z"
   },
   {
    "duration": 218,
    "start_time": "2023-10-01T13:22:43.393Z"
   },
   {
    "duration": 339,
    "start_time": "2023-10-01T13:22:43.613Z"
   },
   {
    "duration": 191,
    "start_time": "2023-10-01T13:22:43.954Z"
   },
   {
    "duration": 201,
    "start_time": "2023-10-01T13:22:44.147Z"
   },
   {
    "duration": 181,
    "start_time": "2023-10-01T13:22:44.350Z"
   },
   {
    "duration": 495,
    "start_time": "2023-10-01T13:22:44.533Z"
   },
   {
    "duration": 2,
    "start_time": "2023-10-01T13:22:45.030Z"
   },
   {
    "duration": 207,
    "start_time": "2023-10-01T13:22:45.034Z"
   },
   {
    "duration": 93,
    "start_time": "2023-10-01T13:22:45.243Z"
   },
   {
    "duration": 4,
    "start_time": "2023-10-01T13:22:45.339Z"
   },
   {
    "duration": 1406,
    "start_time": "2023-10-01T13:22:45.403Z"
   },
   {
    "duration": 23,
    "start_time": "2023-10-01T13:22:46.811Z"
   },
   {
    "duration": 907,
    "start_time": "2023-10-01T13:22:46.836Z"
   },
   {
    "duration": 1008,
    "start_time": "2023-10-01T13:22:47.745Z"
   },
   {
    "duration": 499,
    "start_time": "2023-10-01T13:22:48.802Z"
   },
   {
    "duration": 5,
    "start_time": "2023-10-01T13:22:49.303Z"
   },
   {
    "duration": 26,
    "start_time": "2023-10-01T13:22:49.309Z"
   },
   {
    "duration": 30,
    "start_time": "2023-10-01T13:22:49.337Z"
   },
   {
    "duration": 335,
    "start_time": "2023-10-01T13:22:49.368Z"
   },
   {
    "duration": 8,
    "start_time": "2023-10-01T13:22:49.705Z"
   },
   {
    "duration": 12,
    "start_time": "2023-10-01T13:22:49.715Z"
   },
   {
    "duration": 4,
    "start_time": "2023-10-01T13:22:49.729Z"
   },
   {
    "duration": 20,
    "start_time": "2023-10-01T13:22:49.734Z"
   },
   {
    "duration": 23,
    "start_time": "2023-10-01T13:22:49.755Z"
   },
   {
    "duration": 26,
    "start_time": "2023-10-01T13:22:49.780Z"
   },
   {
    "duration": 55,
    "start_time": "2023-10-01T13:22:49.808Z"
   },
   {
    "duration": 5,
    "start_time": "2023-10-01T13:22:49.865Z"
   },
   {
    "duration": 138,
    "start_time": "2023-10-01T13:22:49.872Z"
   },
   {
    "duration": 0,
    "start_time": "2023-10-01T13:22:50.012Z"
   },
   {
    "duration": 0,
    "start_time": "2023-10-01T13:22:50.013Z"
   },
   {
    "duration": 0,
    "start_time": "2023-10-01T13:22:50.016Z"
   },
   {
    "duration": 0,
    "start_time": "2023-10-01T13:22:50.017Z"
   },
   {
    "duration": 0,
    "start_time": "2023-10-01T13:22:50.018Z"
   },
   {
    "duration": 0,
    "start_time": "2023-10-01T13:22:50.020Z"
   },
   {
    "duration": 0,
    "start_time": "2023-10-01T13:22:50.021Z"
   },
   {
    "duration": 0,
    "start_time": "2023-10-01T13:22:50.022Z"
   },
   {
    "duration": 0,
    "start_time": "2023-10-01T13:22:50.023Z"
   },
   {
    "duration": 0,
    "start_time": "2023-10-01T13:22:50.024Z"
   },
   {
    "duration": 0,
    "start_time": "2023-10-01T13:22:50.025Z"
   },
   {
    "duration": 0,
    "start_time": "2023-10-01T13:22:50.026Z"
   },
   {
    "duration": 0,
    "start_time": "2023-10-01T13:22:50.027Z"
   },
   {
    "duration": 0,
    "start_time": "2023-10-01T13:22:50.029Z"
   },
   {
    "duration": 0,
    "start_time": "2023-10-01T13:22:50.030Z"
   },
   {
    "duration": 0,
    "start_time": "2023-10-01T13:22:50.031Z"
   },
   {
    "duration": 0,
    "start_time": "2023-10-01T13:22:50.032Z"
   },
   {
    "duration": 0,
    "start_time": "2023-10-01T13:22:50.033Z"
   },
   {
    "duration": 0,
    "start_time": "2023-10-01T13:22:50.033Z"
   },
   {
    "duration": 0,
    "start_time": "2023-10-01T13:22:50.034Z"
   },
   {
    "duration": 0,
    "start_time": "2023-10-01T13:22:50.035Z"
   },
   {
    "duration": 0,
    "start_time": "2023-10-01T13:22:50.036Z"
   },
   {
    "duration": 0,
    "start_time": "2023-10-01T13:22:50.037Z"
   },
   {
    "duration": 0,
    "start_time": "2023-10-01T13:22:50.038Z"
   },
   {
    "duration": 0,
    "start_time": "2023-10-01T13:22:50.039Z"
   },
   {
    "duration": 0,
    "start_time": "2023-10-01T13:22:50.041Z"
   },
   {
    "duration": 0,
    "start_time": "2023-10-01T13:22:50.042Z"
   },
   {
    "duration": 0,
    "start_time": "2023-10-01T13:22:50.043Z"
   },
   {
    "duration": 0,
    "start_time": "2023-10-01T13:22:50.044Z"
   },
   {
    "duration": 0,
    "start_time": "2023-10-01T13:22:50.100Z"
   },
   {
    "duration": 0,
    "start_time": "2023-10-01T13:22:50.102Z"
   },
   {
    "duration": 0,
    "start_time": "2023-10-01T13:22:50.103Z"
   },
   {
    "duration": 0,
    "start_time": "2023-10-01T13:22:50.104Z"
   },
   {
    "duration": 0,
    "start_time": "2023-10-01T13:22:50.106Z"
   },
   {
    "duration": 0,
    "start_time": "2023-10-01T13:22:50.107Z"
   },
   {
    "duration": 0,
    "start_time": "2023-10-01T13:22:50.108Z"
   },
   {
    "duration": 0,
    "start_time": "2023-10-01T13:22:50.108Z"
   },
   {
    "duration": 0,
    "start_time": "2023-10-01T13:22:50.109Z"
   },
   {
    "duration": 0,
    "start_time": "2023-10-01T13:22:50.110Z"
   },
   {
    "duration": 0,
    "start_time": "2023-10-01T13:22:50.111Z"
   },
   {
    "duration": 0,
    "start_time": "2023-10-01T13:22:50.112Z"
   },
   {
    "duration": 0,
    "start_time": "2023-10-01T13:22:50.113Z"
   },
   {
    "duration": 0,
    "start_time": "2023-10-01T13:22:50.114Z"
   },
   {
    "duration": 0,
    "start_time": "2023-10-01T13:22:50.116Z"
   },
   {
    "duration": 0,
    "start_time": "2023-10-01T13:22:50.117Z"
   },
   {
    "duration": 0,
    "start_time": "2023-10-01T13:22:50.118Z"
   },
   {
    "duration": 0,
    "start_time": "2023-10-01T13:22:50.119Z"
   },
   {
    "duration": 6,
    "start_time": "2023-10-01T13:30:45.332Z"
   },
   {
    "duration": 6,
    "start_time": "2023-10-01T13:31:11.036Z"
   },
   {
    "duration": 6,
    "start_time": "2023-10-01T13:31:20.797Z"
   }
  ],
  "kernelspec": {
   "display_name": "Python 3 (ipykernel)",
   "language": "python",
   "name": "python3"
  },
  "language_info": {
   "codemirror_mode": {
    "name": "ipython",
    "version": 3
   },
   "file_extension": ".py",
   "mimetype": "text/x-python",
   "name": "python",
   "nbconvert_exporter": "python",
   "pygments_lexer": "ipython3",
   "version": "3.9.5"
  },
  "toc": {
   "base_numbering": 1,
   "nav_menu": {},
   "number_sections": true,
   "sideBar": true,
   "skip_h1_title": true,
   "title_cell": "Содержание",
   "title_sidebar": "Contents",
   "toc_cell": true,
   "toc_position": {
    "height": "335.758px",
    "left": "378px",
    "top": "110.152px",
    "width": "264.125px"
   },
   "toc_section_display": true,
   "toc_window_display": true
  }
 },
 "nbformat": 4,
 "nbformat_minor": 2
}
